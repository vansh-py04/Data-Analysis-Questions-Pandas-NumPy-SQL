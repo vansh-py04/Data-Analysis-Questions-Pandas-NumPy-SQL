{
 "cells": [
  {
   "cell_type": "markdown",
   "metadata": {
    "cell_id": "c78107ca96774daeb376b2f5775abddf",
    "deepnote_cell_type": "text-cell-h1",
    "formattedRanges": [],
    "is_collapsed": false,
    "tags": []
   },
   "source": [
    "# 450+ Practice Questions From Pandas, NumPy, and SQL."
   ]
  },
  {
   "cell_type": "markdown",
   "metadata": {
    "cell_id": "beb56efd65e545af8214755c1f3e6fe2",
    "deepnote_cell_height": 125.171875,
    "deepnote_cell_type": "markdown",
    "tags": []
   },
   "source": [
    "Author: **Avi Chawla**\n",
    "\n",
    "LinkedIn: https://www.linkedin.com/in/avi-chawla/\n",
    "\n",
    "Read my newsletter here: https://www.blog.dailydoseofds.com/"
   ]
  },
  {
   "cell_type": "markdown",
   "metadata": {
    "cell_id": "4d096f4f425941b7839b74d6f96c1628",
    "deepnote_cell_type": "text-cell-h2",
    "formattedRanges": [],
    "is_collapsed": false,
    "tags": []
   },
   "source": [
    "## Introduction"
   ]
  },
  {
   "cell_type": "markdown",
   "metadata": {
    "cell_id": "13d3851213804fd7b65dab8f95da0809",
    "deepnote_cell_type": "text-cell-p",
    "formattedRanges": [
     {
      "fromCodePoint": 156,
      "marks": {
       "bold": true
      },
      "toCodePoint": 179
     }
    ],
    "is_collapsed": false,
    "tags": []
   },
   "source": [
    "This notebook has been created for you to practice three of the most common tools used in building any machine learning or data science applications, i.e., Pandas, NumPy, and SQL!"
   ]
  },
  {
   "cell_type": "markdown",
   "metadata": {
    "cell_id": "efbb9e09ca7241389a40f1a7a5ddbd03",
    "deepnote_cell_type": "text-cell-p",
    "formattedRanges": [],
    "is_collapsed": false,
    "tags": []
   },
   "source": [
    "The practice questions provided will serve as a great resource for those who are looking to familiarize themselves with some of the most common functions used in these tools. "
   ]
  },
  {
   "cell_type": "markdown",
   "metadata": {
    "cell_id": "0d85a1b8822540838bcf9be2c3450280",
    "deepnote_cell_type": "text-cell-p",
    "formattedRanges": [
     {
      "fromCodePoint": 284,
      "marks": {
       "bold": true
      },
      "toCodePoint": 289
     },
     {
      "fromCodePoint": 302,
      "marks": {
       "bold": true
      },
      "toCodePoint": 305
     }
    ],
    "is_collapsed": false,
    "tags": []
   },
   "source": [
    "Appropriate descriptions have been provided for all the questions in this entire exercise which will help you navigate through this exercise easily. If a dataset is to be loaded in the python environment, that has also been provided for you. You can find it on the right panel in the Files section. Do NOT delete any of the files/folders listed there. "
   ]
  },
  {
   "cell_type": "markdown",
   "metadata": {
    "cell_id": "ab212e0eaee64299bb266add3782ad61",
    "deepnote_cell_type": "text-cell-p",
    "formattedRanges": [],
    "is_collapsed": false,
    "tags": []
   },
   "source": [
    "The whole exercise has been divided into nine separate notebooks. Below are the links to all the other notebooks for you to jump from one notebook to another:"
   ]
  },
  {
   "cell_type": "markdown",
   "metadata": {
    "cell_id": "d567d95c64ca4419acd1765e93575430",
    "deepnote_cell_height": 403.6875,
    "deepnote_cell_type": "markdown",
    "tags": []
   },
   "source": [
    "- **Pandas**\n",
    "\n",
    "1. Pandas Notebook 1: [Link](https://deepnote.com/workspace/avi-chawla-695b-aee6f4ef-2d50-4fb6-9ef2-20ee1022995a/project/Pandas-Notebook-1-d693ac55-6455-40cf-ae34-867c6a02014e/notebook/6449493c84734151b11f4b6871f045d2#99f75bf946d04b9bb1daa9e14c2cfea9) \n",
    "2. Pandas Notebook 2: [Link](https://deepnote.com/workspace/avi-chawla-695b-aee6f4ef-2d50-4fb6-9ef2-20ee1022995a/project/Pandas-Notebook-employee-dataset-7e3b6755-5d4b-464b-9b75-9c84667ae3bd/notebook/notebook-0de50f3b70834570b13b651dde44c491) **(This Notebook)** \n",
    "\n",
    "3. Pandas Notebook 3: [Link](https://deepnote.com/workspace/avi-chawla-695b-aee6f4ef-2d50-4fb6-9ef2-20ee1022995a/project/Pandas-Notebook-employee-part-2-adc5a3ee-5f61-4725-8e46-ccb07899acfc/notebook/notebook-78e3faf901da4f14881ef24e41c80bf6)\n",
    "\n",
    "4. Pandas Notebook 4: [Link](https://deepnote.com/workspace/avi-chawla-695b-aee6f4ef-2d50-4fb6-9ef2-20ee1022995a/project/Pandas-after-employee-f84e02a1-fb6a-428e-af90-8dd99855749a/notebook/notebook-134ac20c38ef45e5a4432abd638e6c2e)\n",
    "\n",
    "- **NumPy**\n",
    "\n",
    "1. NumPy Notebook 1: [Link](https://deepnote.com/workspace/avi-chawla-695b-aee6f4ef-2d50-4fb6-9ef2-20ee1022995a/project/Numpy-part-1-9b9979f2-b708-4292-b466-3d0157564c91/notebook/notebook-07232b5ebafe49b198a9c55c553414f1)\n",
    "\n",
    "2. NumPy Notebook 2: [Link](https://deepnote.com/workspace/avi-chawla-695b-aee6f4ef-2d50-4fb6-9ef2-20ee1022995a/project/NumPy-Notebook-2-4456411e-2ddd-426d-8027-4881080027db/notebook/notebook-988aba30f33a45a3861adc4f6a6f338c)\n",
    "\n",
    "3. NumPy Notebook 3: [Link](https://deepnote.com/workspace/avi-chawla-695b-aee6f4ef-2d50-4fb6-9ef2-20ee1022995a/project/NumPy-Notebook-3-e6587114-b580-4249-b599-540de859e603/notebook/notebook-bb52759ea3f542eaaed9958b5df9c34b)\n",
    "\n",
    "- **SQL**\n",
    "\n",
    "1. SQL Notebook 1: [Link](https://deepnote.com/workspace/avi-chawla-695b-aee6f4ef-2d50-4fb6-9ef2-20ee1022995a/project/SQL-Notebook-1-eac9d782-a9b1-4e84-a1f9-af14080a6121/notebook/notebook-697f04297c664d02901db0f85431512e)\n",
    "\n",
    "2. SQL Notebook 2: [Link](https://deepnote.com/workspace/avi-chawla-695b-aee6f4ef-2d50-4fb6-9ef2-20ee1022995a/project/SQL-Notebook-2-1914b214-be03-44a1-be63-ad99e98be639/notebook/notebook-e549236b988c42a5b53126a7ebb98127)"
   ]
  },
  {
   "cell_type": "markdown",
   "metadata": {
    "cell_id": "5d6cb371b1dc4bc0919134316732b3f5",
    "deepnote_cell_type": "text-cell-h2",
    "formattedRanges": [],
    "is_collapsed": false,
    "tags": []
   },
   "source": [
    "## How to use this notebook?"
   ]
  },
  {
   "cell_type": "markdown",
   "metadata": {
    "cell_id": "9dfd39d2a8d841c0ad5eeb29064b850d",
    "deepnote_cell_type": "text-cell-p",
    "formattedRanges": [
     {
      "fromCodePoint": 41,
      "marks": {
       "bold": true
      },
      "toCodePoint": 50
     }
    ],
    "is_collapsed": false,
    "tags": []
   },
   "source": [
    "At the top right corner, you will find a Duplicate button. This will allow you to create a unique notebook for your own practice and write solutions to the question listed in this notebook.  "
   ]
  },
  {
   "cell_type": "markdown",
   "metadata": {
    "cell_id": "a50ddb47d0bb4ce780e357a2c023acb1",
    "deepnote_cell_height": 74.78125,
    "deepnote_cell_type": "markdown",
    "tags": []
   },
   "source": [
    "If you face any issues or have any feedback, feel free to reach out to me (Avi Chawla) either on Linkedin: https://www.linkedin.com/in/avi-chawla/ or write an email to avi@dsscholar[dot]com. "
   ]
  },
  {
   "cell_type": "markdown",
   "metadata": {
    "cell_id": "3a50b97bfbd3497aa86305727e081dbc",
    "deepnote_cell_type": "text-cell-p",
    "formattedRanges": [],
    "is_collapsed": false,
    "tags": []
   },
   "source": [
    "Let's begin 🚀!"
   ]
  },
  {
   "cell_type": "markdown",
   "metadata": {
    "cell_id": "80ef1fa45e5d48a0bccd7f1965e6bd12",
    "deepnote_cell_type": "text-cell-h1",
    "formattedRanges": [],
    "is_collapsed": false,
    "tags": []
   },
   "source": [
    "# Pandas Notebook 2"
   ]
  },
  {
   "cell_type": "markdown",
   "metadata": {
    "cell_id": "44e674d818fb4d77871a72e30cbc411f",
    "deepnote_cell_type": "text-cell-h3",
    "formattedRanges": [],
    "is_collapsed": false,
    "tags": []
   },
   "source": [
    "### 31. Read the CSV file. "
   ]
  },
  {
   "cell_type": "code",
   "execution_count": 1,
   "metadata": {
    "cell_id": "d5a2997faec54bf5accae1ff257af47f",
    "deepnote_cell_height": 97,
    "deepnote_cell_type": "code",
    "tags": []
   },
   "outputs": [],
   "source": [
    "import pandas as pd\n",
    "file_name = \"employee_dataset.csv\"\n",
    "\n",
    "df = pd.read_csv(file_name)"
   ]
  },
  {
   "cell_type": "markdown",
   "metadata": {
    "cell_id": "e17e62be56ca48d6adcfbe67313ba2f1",
    "deepnote_cell_type": "text-cell-h3",
    "formattedRanges": [],
    "is_collapsed": false,
    "tags": []
   },
   "source": [
    "### 32. Print the first 5 rows."
   ]
  },
  {
   "cell_type": "code",
   "execution_count": 2,
   "metadata": {
    "cell_id": "f29afee77a81416c98bc1787526679c5",
    "deepnote_cell_height": 97,
    "deepnote_cell_type": "code",
    "tags": []
   },
   "outputs": [
    {
     "name": "stdout",
     "output_type": "stream",
     "text": [
      "             Name                  Company_Name   \n",
      "0  Spencer Adkins                James and Sons  \\\n",
      "1    Julie Morton                 Nichols-James   \n",
      "2    Matthew Hall                     Scott Inc   \n",
      "3      Brad Scott  Johnston, Fleming and Tanner   \n",
      "4   Theresa Owens      Baker, Allen and Edwards   \n",
      "\n",
      "                        Employee_Job_Title      Employee_City   \n",
      "0                          Equities trader     New Russellton  \\\n",
      "1  Diplomatic Services operational officer  North Melissafurt   \n",
      "2               Regulatory affairs officer           Wardfort   \n",
      "3                      Production engineer     West Jamesview   \n",
      "4                      Production engineer          Whiteside   \n",
      "\n",
      "        Employee_Country  Employee_Salary Employment_Status  Employee_Rating  \n",
      "0  Palestinian Territory           321520         Full Time              3.9  \n",
      "1       Marshall Islands           589090         Full Time              4.3  \n",
      "2               Anguilla           630890         Full Time              3.1  \n",
      "3   Syrian Arab Republic           116400         Full Time              3.1  \n",
      "4               Dominica           523499         Full Time              4.8  \n"
     ]
    }
   ],
   "source": [
    "df_temp = df.head()\n",
    "\n",
    "print(df_temp)"
   ]
  },
  {
   "cell_type": "markdown",
   "metadata": {
    "cell_id": "21cc4cc89ef94d80b7f05d9683a13e2a",
    "deepnote_cell_type": "text-cell-h3",
    "formattedRanges": [],
    "is_collapsed": false,
    "tags": []
   },
   "source": [
    "### 33. Print the last 10 rows."
   ]
  },
  {
   "cell_type": "code",
   "execution_count": 3,
   "metadata": {
    "cell_id": "21246309dac4427c87ea434a2d5ba804",
    "deepnote_cell_height": 97,
    "deepnote_cell_type": "code",
    "tags": []
   },
   "outputs": [
    {
     "name": "stdout",
     "output_type": "stream",
     "text": [
      "                     Name                  Company_Name   \n",
      "299990      Monica Bender    Wallace, Smith and Shepard  \\\n",
      "299991  William Rodriguez                     Scott Inc   \n",
      "299992    Steven Thornton      Baker, Allen and Edwards   \n",
      "299993         Terry Hill       White, Mcclain and Cobb   \n",
      "299994      Kelly Bennett       White, Mcclain and Cobb   \n",
      "299995         Nancy Neal              Bullock-Carrillo   \n",
      "299996     Michele Butler  Johnston, Fleming and Tanner   \n",
      "299997        Lynn Wilson                 Nichols-James   \n",
      "299998      Lindsey Keith                 Nichols-James   \n",
      "299999      Karen Delgado                James and Sons   \n",
      "\n",
      "                  Employee_Job_Title      Employee_City Employee_Country   \n",
      "299990           Production engineer   New Cindychester       Bangladesh  \\\n",
      "299991                    Ergonomist          Whiteside      New Zealand   \n",
      "299992               Patent examiner         Aliciafort            Benin   \n",
      "299993  Investment banker, corporate   New Cindychester           Sweden   \n",
      "299994     Radiographer, therapeutic           Wardfort             Fiji   \n",
      "299995                   Optometrist  North Melissafurt            Samoa   \n",
      "299996                 Administrator         Aliciafort             Cuba   \n",
      "299997                 Administrator   New Cindychester          Bolivia   \n",
      "299998                          Make       Whitakerbury   Western Sahara   \n",
      "299999                       Actuary     New Russellton   United Kingdom   \n",
      "\n",
      "        Employee_Salary Employment_Status  Employee_Rating  \n",
      "299990           852660         Full Time              3.0  \n",
      "299991           214400         Full Time              1.5  \n",
      "299992            60240         Full Time              4.3  \n",
      "299993           414720            Intern              2.3  \n",
      "299994           182270         Full Time              3.6  \n",
      "299995            99670            Intern              3.3  \n",
      "299996           949580            Intern              2.6  \n",
      "299997           802830         Full Time              0.6  \n",
      "299998           257240         Full Time              2.4  \n",
      "299999           575770            Intern              3.3  \n"
     ]
    }
   ],
   "source": [
    "df_temp = df.tail(10)\n",
    "\n",
    "print(df_temp)"
   ]
  },
  {
   "cell_type": "markdown",
   "metadata": {
    "cell_id": "4eb1465d92d74314b38711cda728ad92",
    "deepnote_cell_type": "text-cell-h3",
    "formattedRanges": [],
    "is_collapsed": false,
    "tags": []
   },
   "source": [
    "### 34. Print the number of rows."
   ]
  },
  {
   "cell_type": "code",
   "execution_count": 4,
   "metadata": {
    "cell_id": "160196495c434ee79d35d0d8aa3f4734",
    "deepnote_cell_height": 97,
    "deepnote_cell_type": "code",
    "tags": []
   },
   "outputs": [
    {
     "name": "stdout",
     "output_type": "stream",
     "text": [
      "300000\n"
     ]
    }
   ],
   "source": [
    "rows = df.shape[0]\n",
    "\n",
    "print(rows)"
   ]
  },
  {
   "cell_type": "markdown",
   "metadata": {
    "cell_id": "ad6da97716844a449a22da39c1d8e955",
    "deepnote_cell_type": "text-cell-h3",
    "formattedRanges": [],
    "is_collapsed": false,
    "tags": []
   },
   "source": [
    "### 35. Print the number of columns."
   ]
  },
  {
   "cell_type": "code",
   "execution_count": 5,
   "metadata": {
    "cell_id": "e5860e541c4942aa9353c9b42ad22443",
    "deepnote_cell_height": 97,
    "deepnote_cell_type": "code",
    "tags": []
   },
   "outputs": [
    {
     "name": "stdout",
     "output_type": "stream",
     "text": [
      "8\n"
     ]
    }
   ],
   "source": [
    "columns = df.shape[1]\n",
    "\n",
    "print(columns)"
   ]
  },
  {
   "cell_type": "markdown",
   "metadata": {
    "cell_id": "7c30d916b56347bdb4e90010f2ce2679",
    "deepnote_cell_type": "text-cell-h3",
    "formattedRanges": [],
    "is_collapsed": false,
    "tags": []
   },
   "source": [
    "### 36. Print all column names."
   ]
  },
  {
   "cell_type": "code",
   "execution_count": 6,
   "metadata": {
    "cell_id": "f720d24f860c43bdb7311be0c8b5cd3f",
    "deepnote_cell_height": 97,
    "deepnote_cell_type": "code",
    "tags": []
   },
   "outputs": [
    {
     "name": "stdout",
     "output_type": "stream",
     "text": [
      "Index(['Name', 'Company_Name', 'Employee_Job_Title', 'Employee_City',\n",
      "       'Employee_Country', 'Employee_Salary', 'Employment_Status',\n",
      "       'Employee_Rating'],\n",
      "      dtype='object')\n"
     ]
    }
   ],
   "source": [
    "column_names = df.columns\n",
    "\n",
    "print(column_names)"
   ]
  },
  {
   "cell_type": "markdown",
   "metadata": {
    "cell_id": "11d29633f4ba42be80e49b018d7171c3",
    "deepnote_cell_type": "text-cell-h3",
    "formattedRanges": [
     {
      "fromCodePoint": 10,
      "marks": {
       "bold": true
      },
      "toCodePoint": 13
     }
    ],
    "is_collapsed": false,
    "tags": []
   },
   "source": [
    "### 37. Print the mean of Employee_Salary."
   ]
  },
  {
   "cell_type": "code",
   "execution_count": 7,
   "metadata": {
    "cell_id": "4638b6ac0ab741be8355dd04c5f42239",
    "deepnote_cell_height": 61,
    "deepnote_cell_type": "code",
    "tags": []
   },
   "outputs": [
    {
     "data": {
      "text/plain": [
       "500224.20772666665"
      ]
     },
     "execution_count": 7,
     "metadata": {},
     "output_type": "execute_result"
    }
   ],
   "source": [
    "df[\"Employee_Salary\"].mean()"
   ]
  },
  {
   "cell_type": "markdown",
   "metadata": {
    "cell_id": "cc3e5178820244ef84ac6209f6360eb4",
    "deepnote_cell_type": "text-cell-h3",
    "formattedRanges": [
     {
      "fromCodePoint": 10,
      "marks": {
       "bold": true
      },
      "toCodePoint": 13
     }
    ],
    "is_collapsed": false,
    "tags": []
   },
   "source": [
    "### 38. Print the mean of Employee_Rating."
   ]
  },
  {
   "cell_type": "code",
   "execution_count": 8,
   "metadata": {
    "cell_id": "c729f5a2fa6a432899a11b1918eb7f27",
    "deepnote_cell_height": 61,
    "deepnote_cell_type": "code",
    "tags": []
   },
   "outputs": [
    {
     "data": {
      "text/plain": [
       "2.5059550000000006"
      ]
     },
     "execution_count": 8,
     "metadata": {},
     "output_type": "execute_result"
    }
   ],
   "source": [
    "df[\"Employee_Rating\"].mean()"
   ]
  },
  {
   "cell_type": "markdown",
   "metadata": {
    "cell_id": "68a598c6b0044eca89a952164ac540a2",
    "deepnote_cell_type": "text-cell-h3",
    "formattedRanges": [],
    "is_collapsed": false,
    "tags": []
   },
   "source": [
    "### 39. Print the number of distinct Company_Name. "
   ]
  },
  {
   "cell_type": "code",
   "execution_count": 9,
   "metadata": {
    "cell_id": "77068474955f43a38e345a6fd97ceeb0",
    "deepnote_cell_height": 61,
    "deepnote_cell_type": "code",
    "tags": []
   },
   "outputs": [
    {
     "data": {
      "text/plain": [
       "15"
      ]
     },
     "execution_count": 9,
     "metadata": {},
     "output_type": "execute_result"
    }
   ],
   "source": [
    "df[\"Company_Name\"].nunique()"
   ]
  },
  {
   "cell_type": "markdown",
   "metadata": {
    "cell_id": "96780b9fec7c45b2bb173e0fd281e0f5",
    "deepnote_cell_type": "text-cell-h3",
    "formattedRanges": [],
    "is_collapsed": false,
    "tags": []
   },
   "source": [
    "### 40. Print all the distinct Company_Name. "
   ]
  },
  {
   "cell_type": "code",
   "execution_count": 10,
   "metadata": {
    "cell_id": "2a3f53c73e8445f7a131289f9fcebdbe",
    "deepnote_cell_height": 61,
    "deepnote_cell_type": "code",
    "tags": []
   },
   "outputs": [
    {
     "data": {
      "text/plain": [
       "array(['James and Sons', 'Nichols-James', 'Scott Inc',\n",
       "       'Johnston, Fleming and Tanner', 'Baker, Allen and Edwards',\n",
       "       'Andrade LLC', 'Matthews Inc', 'Taylor-Ramos',\n",
       "       'Campos, Reynolds and Mccormick', 'White, Mcclain and Cobb',\n",
       "       'Thomas-Spencer', 'Bullock-Carrillo', 'Marshall-Holloway',\n",
       "       'Wallace, Smith and Shepard', 'Nelson-Li'], dtype=object)"
      ]
     },
     "execution_count": 10,
     "metadata": {},
     "output_type": "execute_result"
    }
   ],
   "source": [
    "df[\"Company_Name\"].unique()\n"
   ]
  },
  {
   "cell_type": "markdown",
   "metadata": {
    "cell_id": "592e30ab7ef44fe797df5af4ae8ce21f",
    "deepnote_cell_type": "text-cell-h3",
    "formattedRanges": [],
    "is_collapsed": false,
    "tags": []
   },
   "source": [
    "### 41. Print the number of employees working in the company \"Nichols-James\".  "
   ]
  },
  {
   "cell_type": "code",
   "execution_count": 11,
   "metadata": {
    "cell_id": "3896ac7406a5400cb9d5ff294919b07d",
    "deepnote_cell_height": 61,
    "deepnote_cell_type": "code",
    "tags": []
   },
   "outputs": [
    {
     "data": {
      "text/plain": [
       "19911"
      ]
     },
     "execution_count": 11,
     "metadata": {},
     "output_type": "execute_result"
    }
   ],
   "source": [
    "len(df[df[\"Company_Name\"]==\"Nichols-James\"])"
   ]
  },
  {
   "cell_type": "markdown",
   "metadata": {
    "cell_id": "eb195d16e2be4c289835d0b33376c0a8",
    "deepnote_cell_type": "text-cell-h3",
    "formattedRanges": [],
    "is_collapsed": false,
    "tags": []
   },
   "source": [
    "### 42-44. Print the maximum, minimum and median Employee_Salary."
   ]
  },
  {
   "cell_type": "code",
   "execution_count": 12,
   "metadata": {
    "cell_id": "cb403eb90a2d48d39e2381e0272dab34",
    "deepnote_cell_height": 61,
    "deepnote_cell_type": "code",
    "tags": []
   },
   "outputs": [
    {
     "name": "stdout",
     "output_type": "stream",
     "text": [
      "999990\n",
      "0\n",
      "500224.20772666665\n"
     ]
    }
   ],
   "source": [
    "print(max(df[\"Employee_Salary\"]))\n",
    "print(min(df[\"Employee_Salary\"]))\n",
    "print(df[\"Employee_Salary\"].mean())"
   ]
  },
  {
   "cell_type": "markdown",
   "metadata": {
    "cell_id": "bc0019f39ab54a94b39d0669902b651e",
    "deepnote_cell_type": "text-cell-h3",
    "formattedRanges": [],
    "is_collapsed": false,
    "tags": []
   },
   "source": [
    "### 45-49. Print the distribution of the following columns: (the frequency of individual entries)."
   ]
  },
  {
   "cell_type": "markdown",
   "metadata": {
    "cell_id": "36b364296e9446b290f4cb2fdb8cf94c",
    "deepnote_cell_type": "text-cell-p",
    "formattedRanges": [],
    "is_collapsed": false,
    "tags": []
   },
   "source": [
    "1. Company_Name"
   ]
  },
  {
   "cell_type": "code",
   "execution_count": 13,
   "metadata": {
    "cell_id": "ad3e3305739649cb9b550b5ad981cd57",
    "deepnote_cell_height": 61,
    "deepnote_cell_type": "code",
    "tags": []
   },
   "outputs": [
    {
     "data": {
      "text/plain": [
       "Company_Name\n",
       "Scott Inc                         20390\n",
       "White, Mcclain and Cobb           20261\n",
       "Thomas-Spencer                    20142\n",
       "Nelson-Li                         20132\n",
       "Taylor-Ramos                      20122\n",
       "Baker, Allen and Edwards          20084\n",
       "Matthews Inc                      20083\n",
       "Bullock-Carrillo                  20063\n",
       "Andrade LLC                       19983\n",
       "Campos, Reynolds and Mccormick    19927\n",
       "Nichols-James                     19911\n",
       "James and Sons                    19868\n",
       "Marshall-Holloway                 19859\n",
       "Johnston, Fleming and Tanner      19811\n",
       "Wallace, Smith and Shepard        19364\n",
       "Name: count, dtype: int64"
      ]
     },
     "execution_count": 13,
     "metadata": {},
     "output_type": "execute_result"
    }
   ],
   "source": [
    "df[\"Company_Name\"].value_counts()"
   ]
  },
  {
   "cell_type": "markdown",
   "metadata": {
    "cell_id": "2cef1a05b8ea48c3a608881477adfa6c",
    "deepnote_cell_type": "text-cell-p",
    "formattedRanges": [],
    "is_collapsed": false,
    "tags": []
   },
   "source": [
    "2. Employee_Job_Title"
   ]
  },
  {
   "cell_type": "code",
   "execution_count": 14,
   "metadata": {
    "cell_id": "f18d63d680d2437da939105808cb798b",
    "deepnote_cell_height": 61,
    "deepnote_cell_type": "code",
    "tags": []
   },
   "outputs": [
    {
     "data": {
      "text/plain": [
       "Employee_Job_Title\n",
       "Diplomatic Services operational officer                  30137\n",
       "Administrator                                            15222\n",
       "Garment/textile technologist                             15183\n",
       "Trading standards officer                                15155\n",
       "Patent examiner                                          15085\n",
       "Armed forces logistics/support/administrative officer    15050\n",
       "Retail merchandiser                                      15033\n",
       "Energy manager                                           15033\n",
       "Actuary                                                  15030\n",
       "Investment banker, corporate                             15008\n",
       "Ergonomist                                               15006\n",
       "Production engineer                                      15003\n",
       "Equities trader                                          15000\n",
       "Naval architect                                          14905\n",
       "Radiographer, therapeutic                                14882\n",
       "Regulatory affairs officer                               14869\n",
       "Optometrist                                              14838\n",
       "Sales promotion account executive                        14820\n",
       "Make                                                     14741\n",
       "Name: count, dtype: int64"
      ]
     },
     "execution_count": 14,
     "metadata": {},
     "output_type": "execute_result"
    }
   ],
   "source": [
    "df[\"Employee_Job_Title\"].value_counts()"
   ]
  },
  {
   "cell_type": "markdown",
   "metadata": {
    "cell_id": "869221c1ed294f3082cc0592cc1fb9f3",
    "deepnote_cell_type": "text-cell-p",
    "formattedRanges": [],
    "is_collapsed": false,
    "tags": []
   },
   "source": [
    "3. Employee_City"
   ]
  },
  {
   "cell_type": "code",
   "execution_count": 15,
   "metadata": {
    "cell_id": "aa6715ce14944daab2bfe1672bfb73e8",
    "deepnote_cell_height": 61,
    "deepnote_cell_type": "code",
    "tags": []
   },
   "outputs": [
    {
     "data": {
      "text/plain": [
       "Employee_City\n",
       "North Melissafurt    30209\n",
       "Kristaburgh          30204\n",
       "Wardfort             30097\n",
       "Ricardomouth         30052\n",
       "Aliciafort           30037\n",
       "New Russellton       30001\n",
       "West Jamesview       29941\n",
       "Whitakerbury         29854\n",
       "Whiteside            29849\n",
       "New Cindychester     29756\n",
       "Name: count, dtype: int64"
      ]
     },
     "execution_count": 15,
     "metadata": {},
     "output_type": "execute_result"
    }
   ],
   "source": [
    "df[\"Employee_City\"].value_counts()"
   ]
  },
  {
   "cell_type": "markdown",
   "metadata": {
    "cell_id": "338993a088794a70afaf8e54d5f0d211",
    "deepnote_cell_type": "text-cell-p",
    "formattedRanges": [],
    "is_collapsed": false,
    "tags": []
   },
   "source": [
    "4. Employee_Country"
   ]
  },
  {
   "cell_type": "code",
   "execution_count": 16,
   "metadata": {
    "cell_id": "cb2e870cb1f949bf93778255862aa825",
    "deepnote_cell_height": 61,
    "deepnote_cell_type": "code",
    "tags": []
   },
   "outputs": [
    {
     "data": {
      "text/plain": [
       "Employee_Country\n",
       "Congo                                                  2413\n",
       "Korea                                                  2301\n",
       "British Indian Ocean Territory (Chagos Archipelago)    1344\n",
       "Egypt                                                  1322\n",
       "Turkey                                                 1308\n",
       "                                                       ... \n",
       "Saint Vincent and the Grenadines                       1147\n",
       "Czech Republic                                         1145\n",
       "Mexico                                                 1144\n",
       "Mauritania                                             1139\n",
       "Ukraine                                                1133\n",
       "Name: count, Length: 243, dtype: int64"
      ]
     },
     "execution_count": 16,
     "metadata": {},
     "output_type": "execute_result"
    }
   ],
   "source": [
    "df[\"Employee_Country\"].value_counts()"
   ]
  },
  {
   "cell_type": "markdown",
   "metadata": {
    "cell_id": "0ef16ab127fc414380781b60ddb0b22d",
    "deepnote_cell_type": "text-cell-p",
    "formattedRanges": [],
    "is_collapsed": false,
    "tags": []
   },
   "source": [
    "5. Employment_Status"
   ]
  },
  {
   "cell_type": "code",
   "execution_count": 17,
   "metadata": {
    "cell_id": "4f0b5a3ad32945c7846cbeddaec07dfb",
    "deepnote_cell_height": 61,
    "deepnote_cell_type": "code",
    "tags": []
   },
   "outputs": [
    {
     "data": {
      "text/plain": [
       "Employment_Status\n",
       "Full Time    240010\n",
       "Intern        59990\n",
       "Name: count, dtype: int64"
      ]
     },
     "execution_count": 17,
     "metadata": {},
     "output_type": "execute_result"
    }
   ],
   "source": [
    "df[\"Employment_Status\"].value_counts()"
   ]
  },
  {
   "cell_type": "markdown",
   "metadata": {
    "cell_id": "2fad5fffa96346b286d0be0e82c439ab",
    "deepnote_cell_type": "text-cell-h3",
    "formattedRanges": [],
    "is_collapsed": false,
    "tags": []
   },
   "source": [
    "### 50. Print the company with the most number of employees."
   ]
  },
  {
   "cell_type": "code",
   "execution_count": 18,
   "metadata": {
    "cell_id": "641282a9baa34bc191210cc6b37745be",
    "deepnote_cell_height": 61,
    "deepnote_cell_type": "code",
    "tags": []
   },
   "outputs": [
    {
     "data": {
      "text/plain": [
       "'Scott Inc'"
      ]
     },
     "execution_count": 18,
     "metadata": {},
     "output_type": "execute_result"
    }
   ],
   "source": [
    "# df[\"Company_Name\"].value_counts().sort_values(ascending=False).reset_index().iloc[0]\n",
    "\n",
    "df[\"Company_Name\"].mode()[0]"
   ]
  },
  {
   "cell_type": "markdown",
   "metadata": {
    "cell_id": "1e30e2269bd64f1381aa5ba5eca9662e",
    "deepnote_cell_type": "text-cell-h3",
    "formattedRanges": [],
    "is_collapsed": false,
    "tags": []
   },
   "source": [
    "### 51. Print the number of employees in the above company. "
   ]
  },
  {
   "cell_type": "code",
   "execution_count": 19,
   "metadata": {
    "cell_id": "cb0575e8a0c94ef0ad378c51bfa1d478",
    "deepnote_cell_height": 61,
    "deepnote_cell_type": "code",
    "tags": []
   },
   "outputs": [
    {
     "data": {
      "text/plain": [
       "20390"
      ]
     },
     "execution_count": 19,
     "metadata": {},
     "output_type": "execute_result"
    }
   ],
   "source": [
    "df[df[\"Company_Name\"]==\"Scott Inc\"].shape[0]"
   ]
  },
  {
   "cell_type": "markdown",
   "metadata": {
    "cell_id": "0d1dee0410e6492bb1593d07681d0c0e",
    "deepnote_cell_type": "text-cell-h3",
    "formattedRanges": [],
    "is_collapsed": false,
    "tags": []
   },
   "source": [
    "### 52. Print the company with the least number of employees."
   ]
  },
  {
   "cell_type": "code",
   "execution_count": 20,
   "metadata": {
    "cell_id": "95cba32e71b44519a838eefbeaad8415",
    "deepnote_cell_height": 61,
    "deepnote_cell_type": "code",
    "tags": []
   },
   "outputs": [
    {
     "data": {
      "text/plain": [
       "'Wallace, Smith and Shepard'"
      ]
     },
     "execution_count": 20,
     "metadata": {},
     "output_type": "execute_result"
    }
   ],
   "source": [
    "# df[\"Company_Name\"].value_counts().sort_values().reset_index().iloc[0:1]\n",
    "\n",
    "df[\"Company_Name\"].value_counts().idxmin()\n"
   ]
  },
  {
   "cell_type": "markdown",
   "metadata": {
    "cell_id": "638bbd5be0ab415d9ce6763439bdd1df",
    "deepnote_cell_type": "text-cell-h3",
    "formattedRanges": [],
    "is_collapsed": false,
    "tags": []
   },
   "source": [
    "### 53. Print the number of employees in the above company. "
   ]
  },
  {
   "cell_type": "code",
   "execution_count": 21,
   "metadata": {
    "cell_id": "2626ab0f4bcd45cda8ba8ab398b2bf0a",
    "deepnote_cell_height": 61,
    "deepnote_cell_type": "code",
    "tags": []
   },
   "outputs": [
    {
     "data": {
      "text/plain": [
       "19364"
      ]
     },
     "execution_count": 21,
     "metadata": {},
     "output_type": "execute_result"
    }
   ],
   "source": [
    "df[\"Company_Name\"].value_counts().min()"
   ]
  },
  {
   "cell_type": "markdown",
   "metadata": {
    "cell_id": "86fb3cfcf96a46379896ae9c28ef1831",
    "deepnote_cell_type": "text-cell-h3",
    "formattedRanges": [],
    "is_collapsed": false,
    "tags": []
   },
   "source": [
    "### 54. Print the employee details with the maximum salary"
   ]
  },
  {
   "cell_type": "code",
   "execution_count": 22,
   "metadata": {
    "cell_id": "74f58c0a385c43a49f5529658ef6ef36",
    "deepnote_cell_height": 61,
    "deepnote_cell_type": "code",
    "tags": []
   },
   "outputs": [
    {
     "data": {
      "text/html": [
       "<div>\n",
       "<style scoped>\n",
       "    .dataframe tbody tr th:only-of-type {\n",
       "        vertical-align: middle;\n",
       "    }\n",
       "\n",
       "    .dataframe tbody tr th {\n",
       "        vertical-align: top;\n",
       "    }\n",
       "\n",
       "    .dataframe thead th {\n",
       "        text-align: right;\n",
       "    }\n",
       "</style>\n",
       "<table border=\"1\" class=\"dataframe\">\n",
       "  <thead>\n",
       "    <tr style=\"text-align: right;\">\n",
       "      <th></th>\n",
       "      <th>Name</th>\n",
       "      <th>Company_Name</th>\n",
       "      <th>Employee_Job_Title</th>\n",
       "      <th>Employee_City</th>\n",
       "      <th>Employee_Country</th>\n",
       "      <th>Employee_Salary</th>\n",
       "      <th>Employment_Status</th>\n",
       "      <th>Employee_Rating</th>\n",
       "    </tr>\n",
       "  </thead>\n",
       "  <tbody>\n",
       "    <tr>\n",
       "      <th>70356</th>\n",
       "      <td>Anna Lawson</td>\n",
       "      <td>Taylor-Ramos</td>\n",
       "      <td>Production engineer</td>\n",
       "      <td>Kristaburgh</td>\n",
       "      <td>Lesotho</td>\n",
       "      <td>999990</td>\n",
       "      <td>Full Time</td>\n",
       "      <td>4.0</td>\n",
       "    </tr>\n",
       "  </tbody>\n",
       "</table>\n",
       "</div>"
      ],
      "text/plain": [
       "              Name  Company_Name   Employee_Job_Title Employee_City   \n",
       "70356  Anna Lawson  Taylor-Ramos  Production engineer   Kristaburgh  \\\n",
       "\n",
       "      Employee_Country  Employee_Salary Employment_Status  Employee_Rating  \n",
       "70356          Lesotho           999990         Full Time              4.0  "
      ]
     },
     "execution_count": 22,
     "metadata": {},
     "output_type": "execute_result"
    }
   ],
   "source": [
    "df[df[\"Employee_Salary\"]==max(df[\"Employee_Salary\"])]"
   ]
  },
  {
   "cell_type": "markdown",
   "metadata": {
    "cell_id": "f2d798c4d5264760b5bb9a482c108878",
    "deepnote_cell_type": "text-cell-h3",
    "formattedRanges": [],
    "is_collapsed": false,
    "tags": []
   },
   "source": [
    "### 55. Print the employee details with the maximum rating"
   ]
  },
  {
   "cell_type": "code",
   "execution_count": 23,
   "metadata": {
    "cell_id": "f5752c4edcff43a5a98803760f42a414",
    "deepnote_cell_height": 61,
    "deepnote_cell_type": "code",
    "tags": []
   },
   "outputs": [
    {
     "data": {
      "text/html": [
       "<div>\n",
       "<style scoped>\n",
       "    .dataframe tbody tr th:only-of-type {\n",
       "        vertical-align: middle;\n",
       "    }\n",
       "\n",
       "    .dataframe tbody tr th {\n",
       "        vertical-align: top;\n",
       "    }\n",
       "\n",
       "    .dataframe thead th {\n",
       "        text-align: right;\n",
       "    }\n",
       "</style>\n",
       "<table border=\"1\" class=\"dataframe\">\n",
       "  <thead>\n",
       "    <tr style=\"text-align: right;\">\n",
       "      <th></th>\n",
       "      <th>Name</th>\n",
       "      <th>Company_Name</th>\n",
       "      <th>Employee_Job_Title</th>\n",
       "      <th>Employee_City</th>\n",
       "      <th>Employee_Country</th>\n",
       "      <th>Employee_Salary</th>\n",
       "      <th>Employment_Status</th>\n",
       "      <th>Employee_Rating</th>\n",
       "    </tr>\n",
       "  </thead>\n",
       "  <tbody>\n",
       "    <tr>\n",
       "      <th>124</th>\n",
       "      <td>Joshua Huffman</td>\n",
       "      <td>James and Sons</td>\n",
       "      <td>Garment/textile technologist</td>\n",
       "      <td>New Russellton</td>\n",
       "      <td>Cook Islands</td>\n",
       "      <td>694760</td>\n",
       "      <td>Full Time</td>\n",
       "      <td>5.0</td>\n",
       "    </tr>\n",
       "    <tr>\n",
       "      <th>342</th>\n",
       "      <td>Alan Carlson</td>\n",
       "      <td>Baker, Allen and Edwards</td>\n",
       "      <td>Diplomatic Services operational officer</td>\n",
       "      <td>Kristaburgh</td>\n",
       "      <td>Mongolia</td>\n",
       "      <td>491710</td>\n",
       "      <td>Intern</td>\n",
       "      <td>5.0</td>\n",
       "    </tr>\n",
       "    <tr>\n",
       "      <th>391</th>\n",
       "      <td>Lisa Summers</td>\n",
       "      <td>Johnston, Fleming and Tanner</td>\n",
       "      <td>Regulatory affairs officer</td>\n",
       "      <td>North Melissafurt</td>\n",
       "      <td>Togo</td>\n",
       "      <td>933500</td>\n",
       "      <td>Full Time</td>\n",
       "      <td>5.0</td>\n",
       "    </tr>\n",
       "    <tr>\n",
       "      <th>395</th>\n",
       "      <td>Timothy Woods</td>\n",
       "      <td>Johnston, Fleming and Tanner</td>\n",
       "      <td>Garment/textile technologist</td>\n",
       "      <td>Whiteside</td>\n",
       "      <td>United States Virgin Islands</td>\n",
       "      <td>367630</td>\n",
       "      <td>Full Time</td>\n",
       "      <td>5.0</td>\n",
       "    </tr>\n",
       "    <tr>\n",
       "      <th>415</th>\n",
       "      <td>Cameron Hawkins</td>\n",
       "      <td>Taylor-Ramos</td>\n",
       "      <td>Armed forces logistics/support/administrative ...</td>\n",
       "      <td>Wardfort</td>\n",
       "      <td>Tanzania</td>\n",
       "      <td>66570</td>\n",
       "      <td>Intern</td>\n",
       "      <td>5.0</td>\n",
       "    </tr>\n",
       "    <tr>\n",
       "      <th>...</th>\n",
       "      <td>...</td>\n",
       "      <td>...</td>\n",
       "      <td>...</td>\n",
       "      <td>...</td>\n",
       "      <td>...</td>\n",
       "      <td>...</td>\n",
       "      <td>...</td>\n",
       "      <td>...</td>\n",
       "    </tr>\n",
       "    <tr>\n",
       "      <th>299689</th>\n",
       "      <td>Michael Jordan</td>\n",
       "      <td>Johnston, Fleming and Tanner</td>\n",
       "      <td>Naval architect</td>\n",
       "      <td>Whitakerbury</td>\n",
       "      <td>Philippines</td>\n",
       "      <td>474540</td>\n",
       "      <td>Full Time</td>\n",
       "      <td>5.0</td>\n",
       "    </tr>\n",
       "    <tr>\n",
       "      <th>299855</th>\n",
       "      <td>Rebecca Garrison</td>\n",
       "      <td>Nelson-Li</td>\n",
       "      <td>Production engineer</td>\n",
       "      <td>Whitakerbury</td>\n",
       "      <td>Ireland</td>\n",
       "      <td>592530</td>\n",
       "      <td>Full Time</td>\n",
       "      <td>5.0</td>\n",
       "    </tr>\n",
       "    <tr>\n",
       "      <th>299900</th>\n",
       "      <td>Daniel Jones</td>\n",
       "      <td>Taylor-Ramos</td>\n",
       "      <td>Sales promotion account executive</td>\n",
       "      <td>Kristaburgh</td>\n",
       "      <td>Sierra Leone</td>\n",
       "      <td>32160</td>\n",
       "      <td>Full Time</td>\n",
       "      <td>5.0</td>\n",
       "    </tr>\n",
       "    <tr>\n",
       "      <th>299906</th>\n",
       "      <td>Justin Mendez</td>\n",
       "      <td>Bullock-Carrillo</td>\n",
       "      <td>Regulatory affairs officer</td>\n",
       "      <td>New Cindychester</td>\n",
       "      <td>Colombia</td>\n",
       "      <td>374540</td>\n",
       "      <td>Full Time</td>\n",
       "      <td>5.0</td>\n",
       "    </tr>\n",
       "    <tr>\n",
       "      <th>299973</th>\n",
       "      <td>Doris Miller</td>\n",
       "      <td>Andrade LLC</td>\n",
       "      <td>Armed forces logistics/support/administrative ...</td>\n",
       "      <td>Wardfort</td>\n",
       "      <td>Kazakhstan</td>\n",
       "      <td>943340</td>\n",
       "      <td>Intern</td>\n",
       "      <td>5.0</td>\n",
       "    </tr>\n",
       "  </tbody>\n",
       "</table>\n",
       "<p>2985 rows × 8 columns</p>\n",
       "</div>"
      ],
      "text/plain": [
       "                    Name                  Company_Name   \n",
       "124       Joshua Huffman                James and Sons  \\\n",
       "342         Alan Carlson      Baker, Allen and Edwards   \n",
       "391         Lisa Summers  Johnston, Fleming and Tanner   \n",
       "395        Timothy Woods  Johnston, Fleming and Tanner   \n",
       "415      Cameron Hawkins                  Taylor-Ramos   \n",
       "...                  ...                           ...   \n",
       "299689    Michael Jordan  Johnston, Fleming and Tanner   \n",
       "299855  Rebecca Garrison                     Nelson-Li   \n",
       "299900      Daniel Jones                  Taylor-Ramos   \n",
       "299906     Justin Mendez              Bullock-Carrillo   \n",
       "299973      Doris Miller                   Andrade LLC   \n",
       "\n",
       "                                       Employee_Job_Title      Employee_City   \n",
       "124                          Garment/textile technologist     New Russellton  \\\n",
       "342               Diplomatic Services operational officer        Kristaburgh   \n",
       "391                            Regulatory affairs officer  North Melissafurt   \n",
       "395                          Garment/textile technologist          Whiteside   \n",
       "415     Armed forces logistics/support/administrative ...           Wardfort   \n",
       "...                                                   ...                ...   \n",
       "299689                                    Naval architect       Whitakerbury   \n",
       "299855                                Production engineer       Whitakerbury   \n",
       "299900                  Sales promotion account executive        Kristaburgh   \n",
       "299906                         Regulatory affairs officer   New Cindychester   \n",
       "299973  Armed forces logistics/support/administrative ...           Wardfort   \n",
       "\n",
       "                    Employee_Country  Employee_Salary Employment_Status   \n",
       "124                     Cook Islands           694760         Full Time  \\\n",
       "342                         Mongolia           491710            Intern   \n",
       "391                             Togo           933500         Full Time   \n",
       "395     United States Virgin Islands           367630         Full Time   \n",
       "415                         Tanzania            66570            Intern   \n",
       "...                              ...              ...               ...   \n",
       "299689                   Philippines           474540         Full Time   \n",
       "299855                       Ireland           592530         Full Time   \n",
       "299900                  Sierra Leone            32160         Full Time   \n",
       "299906                      Colombia           374540         Full Time   \n",
       "299973                    Kazakhstan           943340            Intern   \n",
       "\n",
       "        Employee_Rating  \n",
       "124                 5.0  \n",
       "342                 5.0  \n",
       "391                 5.0  \n",
       "395                 5.0  \n",
       "415                 5.0  \n",
       "...                 ...  \n",
       "299689              5.0  \n",
       "299855              5.0  \n",
       "299900              5.0  \n",
       "299906              5.0  \n",
       "299973              5.0  \n",
       "\n",
       "[2985 rows x 8 columns]"
      ]
     },
     "execution_count": 23,
     "metadata": {},
     "output_type": "execute_result"
    }
   ],
   "source": [
    "df[df[\"Employee_Rating\"]==max(df[\"Employee_Rating\"])]"
   ]
  },
  {
   "cell_type": "markdown",
   "metadata": {
    "cell_id": "3882d609c5514c09817bdbf5b18ac4e6",
    "deepnote_cell_type": "text-cell-h3",
    "formattedRanges": [],
    "is_collapsed": false,
    "tags": []
   },
   "source": [
    "### 56. Print the Company_Name with most number of employees in 'Wardfort' city."
   ]
  },
  {
   "cell_type": "code",
   "execution_count": 24,
   "metadata": {
    "cell_id": "e16938f5670c4c2ba3016fad424d7a4f",
    "deepnote_cell_height": 61,
    "deepnote_cell_type": "code",
    "tags": []
   },
   "outputs": [
    {
     "data": {
      "text/plain": [
       "'White, Mcclain and Cobb'"
      ]
     },
     "execution_count": 24,
     "metadata": {},
     "output_type": "execute_result"
    }
   ],
   "source": [
    "a = df[df[\"Employee_City\"]==\"Wardfort\"]\n",
    "a[\"Company_Name\"].mode()[0]"
   ]
  },
  {
   "cell_type": "markdown",
   "metadata": {
    "cell_id": "2afd81bf77f14c5d8c5572ee741d8d11",
    "deepnote_cell_type": "text-cell-h3",
    "formattedRanges": [],
    "is_collapsed": false,
    "tags": []
   },
   "source": [
    "### 57. Change the Data type of 'Employee_Salary' column to float."
   ]
  },
  {
   "cell_type": "code",
   "execution_count": 25,
   "metadata": {
    "cell_id": "64949cb3539045f1a3f1c14d6de508f2",
    "deepnote_cell_height": 61,
    "deepnote_cell_type": "code",
    "tags": []
   },
   "outputs": [],
   "source": [
    "df = df.astype({\"Employee_Salary\":\"float\"})"
   ]
  },
  {
   "cell_type": "code",
   "execution_count": 26,
   "metadata": {},
   "outputs": [
    {
     "data": {
      "text/plain": [
       "Name                   object\n",
       "Company_Name           object\n",
       "Employee_Job_Title     object\n",
       "Employee_City          object\n",
       "Employee_Country       object\n",
       "Employee_Salary       float64\n",
       "Employment_Status      object\n",
       "Employee_Rating       float64\n",
       "dtype: object"
      ]
     },
     "execution_count": 26,
     "metadata": {},
     "output_type": "execute_result"
    }
   ],
   "source": [
    "df.dtypes"
   ]
  },
  {
   "cell_type": "markdown",
   "metadata": {
    "cell_id": "7af651b8948d487e8539d12f8922470b",
    "deepnote_cell_type": "text-cell-h3",
    "formattedRanges": [],
    "is_collapsed": false,
    "tags": []
   },
   "source": [
    "### 58. Print the Employee_City with the most number of 'Production engineer'."
   ]
  },
  {
   "cell_type": "code",
   "execution_count": 27,
   "metadata": {
    "cell_id": "504f019e82ee448b9bb2c6c6bd837d80",
    "deepnote_cell_height": 61,
    "deepnote_cell_type": "code",
    "tags": []
   },
   "outputs": [
    {
     "data": {
      "text/plain": [
       "'Aliciafort'"
      ]
     },
     "execution_count": 27,
     "metadata": {},
     "output_type": "execute_result"
    }
   ],
   "source": [
    "df[df[\"Employee_Job_Title\"]==\"Production engineer\"][\"Employee_City\"].mode()[0]"
   ]
  },
  {
   "cell_type": "markdown",
   "metadata": {
    "cell_id": "838afc70674049d1ba0cc4f78cb1b32f",
    "deepnote_cell_type": "text-cell-h3",
    "formattedRanges": [],
    "is_collapsed": false,
    "tags": []
   },
   "source": [
    "### 59. Print the Company_Name with the most number of Full-time Employees. "
   ]
  },
  {
   "cell_type": "code",
   "execution_count": 28,
   "metadata": {
    "cell_id": "07d8532a916645e88ed279ae41faf4fe",
    "deepnote_cell_height": 61,
    "deepnote_cell_type": "code",
    "tags": []
   },
   "outputs": [
    {
     "data": {
      "text/html": [
       "<div>\n",
       "<style scoped>\n",
       "    .dataframe tbody tr th:only-of-type {\n",
       "        vertical-align: middle;\n",
       "    }\n",
       "\n",
       "    .dataframe tbody tr th {\n",
       "        vertical-align: top;\n",
       "    }\n",
       "\n",
       "    .dataframe thead th {\n",
       "        text-align: right;\n",
       "    }\n",
       "</style>\n",
       "<table border=\"1\" class=\"dataframe\">\n",
       "  <thead>\n",
       "    <tr style=\"text-align: right;\">\n",
       "      <th></th>\n",
       "      <th>Name</th>\n",
       "      <th>Company_Name</th>\n",
       "      <th>Employee_Job_Title</th>\n",
       "      <th>Employee_City</th>\n",
       "      <th>Employee_Country</th>\n",
       "      <th>Employee_Salary</th>\n",
       "      <th>Employment_Status</th>\n",
       "      <th>Employee_Rating</th>\n",
       "    </tr>\n",
       "  </thead>\n",
       "  <tbody>\n",
       "    <tr>\n",
       "      <th>0</th>\n",
       "      <td>Spencer Adkins</td>\n",
       "      <td>James and Sons</td>\n",
       "      <td>Equities trader</td>\n",
       "      <td>New Russellton</td>\n",
       "      <td>Palestinian Territory</td>\n",
       "      <td>321520.0</td>\n",
       "      <td>Full Time</td>\n",
       "      <td>3.9</td>\n",
       "    </tr>\n",
       "    <tr>\n",
       "      <th>1</th>\n",
       "      <td>Julie Morton</td>\n",
       "      <td>Nichols-James</td>\n",
       "      <td>Diplomatic Services operational officer</td>\n",
       "      <td>North Melissafurt</td>\n",
       "      <td>Marshall Islands</td>\n",
       "      <td>589090.0</td>\n",
       "      <td>Full Time</td>\n",
       "      <td>4.3</td>\n",
       "    </tr>\n",
       "    <tr>\n",
       "      <th>2</th>\n",
       "      <td>Matthew Hall</td>\n",
       "      <td>Scott Inc</td>\n",
       "      <td>Regulatory affairs officer</td>\n",
       "      <td>Wardfort</td>\n",
       "      <td>Anguilla</td>\n",
       "      <td>630890.0</td>\n",
       "      <td>Full Time</td>\n",
       "      <td>3.1</td>\n",
       "    </tr>\n",
       "    <tr>\n",
       "      <th>3</th>\n",
       "      <td>Brad Scott</td>\n",
       "      <td>Johnston, Fleming and Tanner</td>\n",
       "      <td>Production engineer</td>\n",
       "      <td>West Jamesview</td>\n",
       "      <td>Syrian Arab Republic</td>\n",
       "      <td>116400.0</td>\n",
       "      <td>Full Time</td>\n",
       "      <td>3.1</td>\n",
       "    </tr>\n",
       "    <tr>\n",
       "      <th>4</th>\n",
       "      <td>Theresa Owens</td>\n",
       "      <td>Baker, Allen and Edwards</td>\n",
       "      <td>Production engineer</td>\n",
       "      <td>Whiteside</td>\n",
       "      <td>Dominica</td>\n",
       "      <td>523499.0</td>\n",
       "      <td>Full Time</td>\n",
       "      <td>4.8</td>\n",
       "    </tr>\n",
       "    <tr>\n",
       "      <th>...</th>\n",
       "      <td>...</td>\n",
       "      <td>...</td>\n",
       "      <td>...</td>\n",
       "      <td>...</td>\n",
       "      <td>...</td>\n",
       "      <td>...</td>\n",
       "      <td>...</td>\n",
       "      <td>...</td>\n",
       "    </tr>\n",
       "    <tr>\n",
       "      <th>299991</th>\n",
       "      <td>William Rodriguez</td>\n",
       "      <td>Scott Inc</td>\n",
       "      <td>Ergonomist</td>\n",
       "      <td>Whiteside</td>\n",
       "      <td>New Zealand</td>\n",
       "      <td>214400.0</td>\n",
       "      <td>Full Time</td>\n",
       "      <td>1.5</td>\n",
       "    </tr>\n",
       "    <tr>\n",
       "      <th>299992</th>\n",
       "      <td>Steven Thornton</td>\n",
       "      <td>Baker, Allen and Edwards</td>\n",
       "      <td>Patent examiner</td>\n",
       "      <td>Aliciafort</td>\n",
       "      <td>Benin</td>\n",
       "      <td>60240.0</td>\n",
       "      <td>Full Time</td>\n",
       "      <td>4.3</td>\n",
       "    </tr>\n",
       "    <tr>\n",
       "      <th>299994</th>\n",
       "      <td>Kelly Bennett</td>\n",
       "      <td>White, Mcclain and Cobb</td>\n",
       "      <td>Radiographer, therapeutic</td>\n",
       "      <td>Wardfort</td>\n",
       "      <td>Fiji</td>\n",
       "      <td>182270.0</td>\n",
       "      <td>Full Time</td>\n",
       "      <td>3.6</td>\n",
       "    </tr>\n",
       "    <tr>\n",
       "      <th>299997</th>\n",
       "      <td>Lynn Wilson</td>\n",
       "      <td>Nichols-James</td>\n",
       "      <td>Administrator</td>\n",
       "      <td>New Cindychester</td>\n",
       "      <td>Bolivia</td>\n",
       "      <td>802830.0</td>\n",
       "      <td>Full Time</td>\n",
       "      <td>0.6</td>\n",
       "    </tr>\n",
       "    <tr>\n",
       "      <th>299998</th>\n",
       "      <td>Lindsey Keith</td>\n",
       "      <td>Nichols-James</td>\n",
       "      <td>Make</td>\n",
       "      <td>Whitakerbury</td>\n",
       "      <td>Western Sahara</td>\n",
       "      <td>257240.0</td>\n",
       "      <td>Full Time</td>\n",
       "      <td>2.4</td>\n",
       "    </tr>\n",
       "  </tbody>\n",
       "</table>\n",
       "<p>240010 rows × 8 columns</p>\n",
       "</div>"
      ],
      "text/plain": [
       "                     Name                  Company_Name   \n",
       "0          Spencer Adkins                James and Sons  \\\n",
       "1            Julie Morton                 Nichols-James   \n",
       "2            Matthew Hall                     Scott Inc   \n",
       "3              Brad Scott  Johnston, Fleming and Tanner   \n",
       "4           Theresa Owens      Baker, Allen and Edwards   \n",
       "...                   ...                           ...   \n",
       "299991  William Rodriguez                     Scott Inc   \n",
       "299992    Steven Thornton      Baker, Allen and Edwards   \n",
       "299994      Kelly Bennett       White, Mcclain and Cobb   \n",
       "299997        Lynn Wilson                 Nichols-James   \n",
       "299998      Lindsey Keith                 Nichols-James   \n",
       "\n",
       "                             Employee_Job_Title      Employee_City   \n",
       "0                               Equities trader     New Russellton  \\\n",
       "1       Diplomatic Services operational officer  North Melissafurt   \n",
       "2                    Regulatory affairs officer           Wardfort   \n",
       "3                           Production engineer     West Jamesview   \n",
       "4                           Production engineer          Whiteside   \n",
       "...                                         ...                ...   \n",
       "299991                               Ergonomist          Whiteside   \n",
       "299992                          Patent examiner         Aliciafort   \n",
       "299994                Radiographer, therapeutic           Wardfort   \n",
       "299997                            Administrator   New Cindychester   \n",
       "299998                                     Make       Whitakerbury   \n",
       "\n",
       "             Employee_Country  Employee_Salary Employment_Status   \n",
       "0       Palestinian Territory         321520.0         Full Time  \\\n",
       "1            Marshall Islands         589090.0         Full Time   \n",
       "2                    Anguilla         630890.0         Full Time   \n",
       "3        Syrian Arab Republic         116400.0         Full Time   \n",
       "4                    Dominica         523499.0         Full Time   \n",
       "...                       ...              ...               ...   \n",
       "299991            New Zealand         214400.0         Full Time   \n",
       "299992                  Benin          60240.0         Full Time   \n",
       "299994                   Fiji         182270.0         Full Time   \n",
       "299997                Bolivia         802830.0         Full Time   \n",
       "299998         Western Sahara         257240.0         Full Time   \n",
       "\n",
       "        Employee_Rating  \n",
       "0                   3.9  \n",
       "1                   4.3  \n",
       "2                   3.1  \n",
       "3                   3.1  \n",
       "4                   4.8  \n",
       "...                 ...  \n",
       "299991              1.5  \n",
       "299992              4.3  \n",
       "299994              3.6  \n",
       "299997              0.6  \n",
       "299998              2.4  \n",
       "\n",
       "[240010 rows x 8 columns]"
      ]
     },
     "execution_count": 28,
     "metadata": {},
     "output_type": "execute_result"
    }
   ],
   "source": [
    "df[df[\"Employment_Status\"]==\"Full Time\"]"
   ]
  },
  {
   "cell_type": "markdown",
   "metadata": {
    "cell_id": "9d7fccfd64c142aeb57be6dcb22a8736",
    "deepnote_cell_type": "text-cell-h3",
    "formattedRanges": [],
    "is_collapsed": false,
    "tags": []
   },
   "source": [
    "### 60. Print the Company_Name with the highest average 'Employee_Rating'. "
   ]
  },
  {
   "cell_type": "code",
   "execution_count": null,
   "metadata": {
    "cell_id": "3ad191b1b2a94c2a8151d66184808892",
    "deepnote_cell_height": 61,
    "deepnote_cell_type": "code",
    "tags": []
   },
   "outputs": [
    {
     "data": {
      "text/html": [
       "<div>\n",
       "<style scoped>\n",
       "    .dataframe tbody tr th:only-of-type {\n",
       "        vertical-align: middle;\n",
       "    }\n",
       "\n",
       "    .dataframe tbody tr th {\n",
       "        vertical-align: top;\n",
       "    }\n",
       "\n",
       "    .dataframe thead th {\n",
       "        text-align: right;\n",
       "    }\n",
       "</style>\n",
       "<table border=\"1\" class=\"dataframe\">\n",
       "  <thead>\n",
       "    <tr style=\"text-align: right;\">\n",
       "      <th></th>\n",
       "      <th>Company_Name</th>\n",
       "      <th>Employee_Rating</th>\n",
       "    </tr>\n",
       "  </thead>\n",
       "  <tbody>\n",
       "    <tr>\n",
       "      <th>7</th>\n",
       "      <td>Matthews Inc</td>\n",
       "      <td>2.525454</td>\n",
       "    </tr>\n",
       "    <tr>\n",
       "      <th>10</th>\n",
       "      <td>Scott Inc</td>\n",
       "      <td>2.515993</td>\n",
       "    </tr>\n",
       "    <tr>\n",
       "      <th>5</th>\n",
       "      <td>Johnston, Fleming and Tanner</td>\n",
       "      <td>2.513159</td>\n",
       "    </tr>\n",
       "    <tr>\n",
       "      <th>11</th>\n",
       "      <td>Taylor-Ramos</td>\n",
       "      <td>2.513150</td>\n",
       "    </tr>\n",
       "    <tr>\n",
       "      <th>3</th>\n",
       "      <td>Campos, Reynolds and Mccormick</td>\n",
       "      <td>2.506288</td>\n",
       "    </tr>\n",
       "    <tr>\n",
       "      <th>12</th>\n",
       "      <td>Thomas-Spencer</td>\n",
       "      <td>2.505114</td>\n",
       "    </tr>\n",
       "    <tr>\n",
       "      <th>4</th>\n",
       "      <td>James and Sons</td>\n",
       "      <td>2.505023</td>\n",
       "    </tr>\n",
       "    <tr>\n",
       "      <th>6</th>\n",
       "      <td>Marshall-Holloway</td>\n",
       "      <td>2.504900</td>\n",
       "    </tr>\n",
       "    <tr>\n",
       "      <th>1</th>\n",
       "      <td>Baker, Allen and Edwards</td>\n",
       "      <td>2.504795</td>\n",
       "    </tr>\n",
       "    <tr>\n",
       "      <th>8</th>\n",
       "      <td>Nelson-Li</td>\n",
       "      <td>2.504649</td>\n",
       "    </tr>\n",
       "    <tr>\n",
       "      <th>14</th>\n",
       "      <td>White, Mcclain and Cobb</td>\n",
       "      <td>2.504047</td>\n",
       "    </tr>\n",
       "    <tr>\n",
       "      <th>2</th>\n",
       "      <td>Bullock-Carrillo</td>\n",
       "      <td>2.502014</td>\n",
       "    </tr>\n",
       "    <tr>\n",
       "      <th>0</th>\n",
       "      <td>Andrade LLC</td>\n",
       "      <td>2.498218</td>\n",
       "    </tr>\n",
       "    <tr>\n",
       "      <th>13</th>\n",
       "      <td>Wallace, Smith and Shepard</td>\n",
       "      <td>2.497402</td>\n",
       "    </tr>\n",
       "    <tr>\n",
       "      <th>9</th>\n",
       "      <td>Nichols-James</td>\n",
       "      <td>2.488554</td>\n",
       "    </tr>\n",
       "  </tbody>\n",
       "</table>\n",
       "</div>"
      ],
      "text/plain": [
       "                      Company_Name  Employee_Rating\n",
       "7                     Matthews Inc         2.525454\n",
       "10                       Scott Inc         2.515993\n",
       "5     Johnston, Fleming and Tanner         2.513159\n",
       "11                    Taylor-Ramos         2.513150\n",
       "3   Campos, Reynolds and Mccormick         2.506288\n",
       "12                  Thomas-Spencer         2.505114\n",
       "4                   James and Sons         2.505023\n",
       "6                Marshall-Holloway         2.504900\n",
       "1         Baker, Allen and Edwards         2.504795\n",
       "8                        Nelson-Li         2.504649\n",
       "14         White, Mcclain and Cobb         2.504047\n",
       "2                 Bullock-Carrillo         2.502014\n",
       "0                      Andrade LLC         2.498218\n",
       "13      Wallace, Smith and Shepard         2.497402\n",
       "9                    Nichols-James         2.488554"
      ]
     },
     "execution_count": 38,
     "metadata": {},
     "output_type": "execute_result"
    }
   ],
   "source": [
    "df.groupby(by=[\"Company_Name\"])[[\"Employee_Rating\"]].mean().reset_index().sort_values(by=\"Employee_Rating\",ascending=False)\n",
    "\n",
    "# df.groupby(\"Company_Name\")[\"Employee_Rating\"].mean().idxmax() (better)\n"
   ]
  },
  {
   "cell_type": "markdown",
   "metadata": {
    "cell_id": "50148e9a859d4fba9f7ce6cc0f49b1b0",
    "deepnote_cell_type": "text-cell-h3",
    "formattedRanges": [],
    "is_collapsed": false,
    "tags": []
   },
   "source": [
    "### 61. Print the number of employees working in 'Ricardomouth' and 'Kristaburgh' location combined."
   ]
  },
  {
   "cell_type": "code",
   "execution_count": 41,
   "metadata": {
    "cell_id": "cee0c52d672c433c9e1efdcf96f07841",
    "deepnote_cell_height": 61,
    "deepnote_cell_type": "code",
    "tags": []
   },
   "outputs": [
    {
     "data": {
      "text/plain": [
       "60256"
      ]
     },
     "execution_count": 41,
     "metadata": {},
     "output_type": "execute_result"
    }
   ],
   "source": [
    "len(df[df[\"Employee_City\"].isin([\"Kristaburgh\",\"Ricardomouth\"])])"
   ]
  },
  {
   "cell_type": "markdown",
   "metadata": {
    "cell_id": "7e451bb028ea44798d4d08f8a8296f4d",
    "deepnote_cell_type": "text-cell-h3",
    "formattedRanges": [],
    "is_collapsed": false,
    "tags": []
   },
   "source": [
    "### 62. Print the distinct Company_Name corresponding to the 5 highest paid employees in the dataset. "
   ]
  },
  {
   "cell_type": "code",
   "execution_count": null,
   "metadata": {
    "cell_id": "08d9361596954c5692415b98c870a21e",
    "deepnote_cell_height": 61,
    "deepnote_cell_type": "code",
    "tags": []
   },
   "outputs": [
    {
     "data": {
      "text/html": [
       "<div>\n",
       "<style scoped>\n",
       "    .dataframe tbody tr th:only-of-type {\n",
       "        vertical-align: middle;\n",
       "    }\n",
       "\n",
       "    .dataframe tbody tr th {\n",
       "        vertical-align: top;\n",
       "    }\n",
       "\n",
       "    .dataframe thead th {\n",
       "        text-align: right;\n",
       "    }\n",
       "</style>\n",
       "<table border=\"1\" class=\"dataframe\">\n",
       "  <thead>\n",
       "    <tr style=\"text-align: right;\">\n",
       "      <th></th>\n",
       "      <th>Company_Name</th>\n",
       "    </tr>\n",
       "  </thead>\n",
       "  <tbody>\n",
       "    <tr>\n",
       "      <th>70356</th>\n",
       "      <td>Taylor-Ramos</td>\n",
       "    </tr>\n",
       "    <tr>\n",
       "      <th>51642</th>\n",
       "      <td>Thomas-Spencer</td>\n",
       "    </tr>\n",
       "    <tr>\n",
       "      <th>50461</th>\n",
       "      <td>White, Mcclain and Cobb</td>\n",
       "    </tr>\n",
       "    <tr>\n",
       "      <th>23536</th>\n",
       "      <td>Campos, Reynolds and Mccormick</td>\n",
       "    </tr>\n",
       "    <tr>\n",
       "      <th>296423</th>\n",
       "      <td>James and Sons</td>\n",
       "    </tr>\n",
       "  </tbody>\n",
       "</table>\n",
       "</div>"
      ],
      "text/plain": [
       "                          Company_Name\n",
       "70356                     Taylor-Ramos\n",
       "51642                   Thomas-Spencer\n",
       "50461          White, Mcclain and Cobb\n",
       "23536   Campos, Reynolds and Mccormick\n",
       "296423                  James and Sons"
      ]
     },
     "execution_count": 49,
     "metadata": {},
     "output_type": "execute_result"
    }
   ],
   "source": [
    "df.sort_values(by=\"Employee_Salary\",ascending=False)[[\"Company_Name\"]].drop_duplicates().head(5)\n",
    "\n",
    "# df.nlargest(5, 'Employee_Salary')['Company_Name'].unique() (better)"
   ]
  },
  {
   "cell_type": "markdown",
   "metadata": {
    "cell_id": "995c0f6226514fc4972e0c2539f0ba07",
    "deepnote_cell_type": "text-cell-h3",
    "formattedRanges": [],
    "is_collapsed": false,
    "tags": []
   },
   "source": [
    "### 63. Check if there are any duplicate rows in the DataFrame. "
   ]
  },
  {
   "cell_type": "code",
   "execution_count": null,
   "metadata": {
    "cell_id": "151ad55dca154946bad786d5b8bce912",
    "deepnote_cell_height": 61,
    "deepnote_cell_type": "code",
    "tags": []
   },
   "outputs": [
    {
     "data": {
      "text/html": [
       "<div>\n",
       "<style scoped>\n",
       "    .dataframe tbody tr th:only-of-type {\n",
       "        vertical-align: middle;\n",
       "    }\n",
       "\n",
       "    .dataframe tbody tr th {\n",
       "        vertical-align: top;\n",
       "    }\n",
       "\n",
       "    .dataframe thead th {\n",
       "        text-align: right;\n",
       "    }\n",
       "</style>\n",
       "<table border=\"1\" class=\"dataframe\">\n",
       "  <thead>\n",
       "    <tr style=\"text-align: right;\">\n",
       "      <th></th>\n",
       "      <th>Name</th>\n",
       "      <th>Company_Name</th>\n",
       "      <th>Employee_Job_Title</th>\n",
       "      <th>Employee_City</th>\n",
       "      <th>Employee_Country</th>\n",
       "      <th>Employee_Salary</th>\n",
       "      <th>Employment_Status</th>\n",
       "      <th>Employee_Rating</th>\n",
       "    </tr>\n",
       "  </thead>\n",
       "  <tbody>\n",
       "  </tbody>\n",
       "</table>\n",
       "</div>"
      ],
      "text/plain": [
       "Empty DataFrame\n",
       "Columns: [Name, Company_Name, Employee_Job_Title, Employee_City, Employee_Country, Employee_Salary, Employment_Status, Employee_Rating]\n",
       "Index: []"
      ]
     },
     "execution_count": 52,
     "metadata": {},
     "output_type": "execute_result"
    }
   ],
   "source": [
    "df[df.duplicated()]\n",
    "\n",
    "# df.duplicated().value_counts()"
   ]
  },
  {
   "cell_type": "markdown",
   "metadata": {
    "cell_id": "ea776f6741b746e3b94b786cc647fa1d",
    "deepnote_cell_type": "text-cell-h3",
    "formattedRanges": [],
    "is_collapsed": false,
    "tags": []
   },
   "source": [
    "### 64. Check if any of the columns has NaN values. "
   ]
  },
  {
   "cell_type": "code",
   "execution_count": 53,
   "metadata": {
    "cell_id": "41f4150913b544c8b08cabe57689a326",
    "deepnote_cell_height": 61,
    "deepnote_cell_type": "code",
    "tags": []
   },
   "outputs": [
    {
     "data": {
      "text/plain": [
       "Name                  0\n",
       "Company_Name          0\n",
       "Employee_Job_Title    0\n",
       "Employee_City         0\n",
       "Employee_Country      0\n",
       "Employee_Salary       0\n",
       "Employment_Status     0\n",
       "Employee_Rating       0\n",
       "dtype: int64"
      ]
     },
     "execution_count": 53,
     "metadata": {},
     "output_type": "execute_result"
    }
   ],
   "source": [
    "df.isnull().sum()"
   ]
  },
  {
   "cell_type": "markdown",
   "metadata": {
    "cell_id": "af9d3affe25a46aaaf2b5a7bd867f546",
    "deepnote_cell_type": "text-cell-h3",
    "formattedRanges": [],
    "is_collapsed": false,
    "tags": []
   },
   "source": [
    "### 65. Print the data type of every column in the DataFrame."
   ]
  },
  {
   "cell_type": "code",
   "execution_count": 2,
   "metadata": {
    "cell_id": "95f33775bdca4fa1a89525831a117694",
    "deepnote_cell_height": 61,
    "deepnote_cell_type": "code",
    "tags": []
   },
   "outputs": [
    {
     "name": "stdout",
     "output_type": "stream",
     "text": [
      "<class 'pandas.core.frame.DataFrame'>\n",
      "RangeIndex: 300000 entries, 0 to 299999\n",
      "Data columns (total 8 columns):\n",
      " #   Column              Non-Null Count   Dtype  \n",
      "---  ------              --------------   -----  \n",
      " 0   Name                300000 non-null  object \n",
      " 1   Company_Name        300000 non-null  object \n",
      " 2   Employee_Job_Title  300000 non-null  object \n",
      " 3   Employee_City       300000 non-null  object \n",
      " 4   Employee_Country    300000 non-null  object \n",
      " 5   Employee_Salary     300000 non-null  int64  \n",
      " 6   Employment_Status   300000 non-null  object \n",
      " 7   Employee_Rating     300000 non-null  float64\n",
      "dtypes: float64(1), int64(1), object(6)\n",
      "memory usage: 18.3+ MB\n"
     ]
    }
   ],
   "source": [
    "df.info()"
   ]
  },
  {
   "cell_type": "markdown",
   "metadata": {
    "cell_id": "9d53727e900b474f81af82a0a68df6e1",
    "deepnote_cell_type": "text-cell-h3",
    "formattedRanges": [],
    "is_collapsed": false,
    "tags": []
   },
   "source": [
    "### 66. Print the Company_Name column only as a Series"
   ]
  },
  {
   "cell_type": "code",
   "execution_count": 3,
   "metadata": {
    "cell_id": "90911acb00ec4468b70015b051c7d6a9",
    "deepnote_cell_height": 61,
    "deepnote_cell_type": "code",
    "tags": []
   },
   "outputs": [
    {
     "data": {
      "text/plain": [
       "Index(['Name', 'Company_Name', 'Employee_Job_Title', 'Employee_City',\n",
       "       'Employee_Country', 'Employee_Salary', 'Employment_Status',\n",
       "       'Employee_Rating'],\n",
       "      dtype='object')"
      ]
     },
     "execution_count": 3,
     "metadata": {},
     "output_type": "execute_result"
    }
   ],
   "source": [
    "df.columns"
   ]
  },
  {
   "cell_type": "markdown",
   "metadata": {
    "cell_id": "7209fedbfa5a4e6bb193a14dbfc28e7b",
    "deepnote_cell_type": "text-cell-h3",
    "formattedRanges": [],
    "is_collapsed": false,
    "tags": []
   },
   "source": [
    "### 67. Print the Company_Name column only as a DataFrame"
   ]
  },
  {
   "cell_type": "code",
   "execution_count": 4,
   "metadata": {
    "cell_id": "a90fea448dc642b0afdfa32e9b9ae649",
    "deepnote_cell_height": 61,
    "deepnote_cell_type": "code",
    "tags": []
   },
   "outputs": [
    {
     "data": {
      "text/html": [
       "<div>\n",
       "<style scoped>\n",
       "    .dataframe tbody tr th:only-of-type {\n",
       "        vertical-align: middle;\n",
       "    }\n",
       "\n",
       "    .dataframe tbody tr th {\n",
       "        vertical-align: top;\n",
       "    }\n",
       "\n",
       "    .dataframe thead th {\n",
       "        text-align: right;\n",
       "    }\n",
       "</style>\n",
       "<table border=\"1\" class=\"dataframe\">\n",
       "  <thead>\n",
       "    <tr style=\"text-align: right;\">\n",
       "      <th></th>\n",
       "      <th>Company_Name</th>\n",
       "    </tr>\n",
       "  </thead>\n",
       "  <tbody>\n",
       "    <tr>\n",
       "      <th>0</th>\n",
       "      <td>James and Sons</td>\n",
       "    </tr>\n",
       "    <tr>\n",
       "      <th>1</th>\n",
       "      <td>Nichols-James</td>\n",
       "    </tr>\n",
       "    <tr>\n",
       "      <th>2</th>\n",
       "      <td>Scott Inc</td>\n",
       "    </tr>\n",
       "    <tr>\n",
       "      <th>3</th>\n",
       "      <td>Johnston, Fleming and Tanner</td>\n",
       "    </tr>\n",
       "    <tr>\n",
       "      <th>4</th>\n",
       "      <td>Baker, Allen and Edwards</td>\n",
       "    </tr>\n",
       "    <tr>\n",
       "      <th>...</th>\n",
       "      <td>...</td>\n",
       "    </tr>\n",
       "    <tr>\n",
       "      <th>299995</th>\n",
       "      <td>Bullock-Carrillo</td>\n",
       "    </tr>\n",
       "    <tr>\n",
       "      <th>299996</th>\n",
       "      <td>Johnston, Fleming and Tanner</td>\n",
       "    </tr>\n",
       "    <tr>\n",
       "      <th>299997</th>\n",
       "      <td>Nichols-James</td>\n",
       "    </tr>\n",
       "    <tr>\n",
       "      <th>299998</th>\n",
       "      <td>Nichols-James</td>\n",
       "    </tr>\n",
       "    <tr>\n",
       "      <th>299999</th>\n",
       "      <td>James and Sons</td>\n",
       "    </tr>\n",
       "  </tbody>\n",
       "</table>\n",
       "<p>300000 rows × 1 columns</p>\n",
       "</div>"
      ],
      "text/plain": [
       "                        Company_Name\n",
       "0                     James and Sons\n",
       "1                      Nichols-James\n",
       "2                          Scott Inc\n",
       "3       Johnston, Fleming and Tanner\n",
       "4           Baker, Allen and Edwards\n",
       "...                              ...\n",
       "299995              Bullock-Carrillo\n",
       "299996  Johnston, Fleming and Tanner\n",
       "299997                 Nichols-James\n",
       "299998                 Nichols-James\n",
       "299999                James and Sons\n",
       "\n",
       "[300000 rows x 1 columns]"
      ]
     },
     "execution_count": 4,
     "metadata": {},
     "output_type": "execute_result"
    }
   ],
   "source": [
    "df[[\"Company_Name\"]]"
   ]
  },
  {
   "cell_type": "markdown",
   "metadata": {
    "cell_id": "740ca45cabaf4537a773ac6e7e075c26",
    "deepnote_cell_type": "text-cell-h3",
    "formattedRanges": [],
    "is_collapsed": false,
    "tags": []
   },
   "source": [
    "### 68. Select the 'Employee_Job_Title' and 'Employee_City' column. "
   ]
  },
  {
   "cell_type": "code",
   "execution_count": 5,
   "metadata": {
    "cell_id": "301603ca13d347eba9407970aeebfae7",
    "deepnote_cell_height": 61,
    "deepnote_cell_type": "code",
    "tags": []
   },
   "outputs": [
    {
     "data": {
      "text/html": [
       "<div>\n",
       "<style scoped>\n",
       "    .dataframe tbody tr th:only-of-type {\n",
       "        vertical-align: middle;\n",
       "    }\n",
       "\n",
       "    .dataframe tbody tr th {\n",
       "        vertical-align: top;\n",
       "    }\n",
       "\n",
       "    .dataframe thead th {\n",
       "        text-align: right;\n",
       "    }\n",
       "</style>\n",
       "<table border=\"1\" class=\"dataframe\">\n",
       "  <thead>\n",
       "    <tr style=\"text-align: right;\">\n",
       "      <th></th>\n",
       "      <th>Employee_Job_Title</th>\n",
       "      <th>Employee_City</th>\n",
       "    </tr>\n",
       "  </thead>\n",
       "  <tbody>\n",
       "    <tr>\n",
       "      <th>0</th>\n",
       "      <td>Equities trader</td>\n",
       "      <td>New Russellton</td>\n",
       "    </tr>\n",
       "    <tr>\n",
       "      <th>1</th>\n",
       "      <td>Diplomatic Services operational officer</td>\n",
       "      <td>North Melissafurt</td>\n",
       "    </tr>\n",
       "    <tr>\n",
       "      <th>2</th>\n",
       "      <td>Regulatory affairs officer</td>\n",
       "      <td>Wardfort</td>\n",
       "    </tr>\n",
       "    <tr>\n",
       "      <th>3</th>\n",
       "      <td>Production engineer</td>\n",
       "      <td>West Jamesview</td>\n",
       "    </tr>\n",
       "    <tr>\n",
       "      <th>4</th>\n",
       "      <td>Production engineer</td>\n",
       "      <td>Whiteside</td>\n",
       "    </tr>\n",
       "    <tr>\n",
       "      <th>...</th>\n",
       "      <td>...</td>\n",
       "      <td>...</td>\n",
       "    </tr>\n",
       "    <tr>\n",
       "      <th>299995</th>\n",
       "      <td>Optometrist</td>\n",
       "      <td>North Melissafurt</td>\n",
       "    </tr>\n",
       "    <tr>\n",
       "      <th>299996</th>\n",
       "      <td>Administrator</td>\n",
       "      <td>Aliciafort</td>\n",
       "    </tr>\n",
       "    <tr>\n",
       "      <th>299997</th>\n",
       "      <td>Administrator</td>\n",
       "      <td>New Cindychester</td>\n",
       "    </tr>\n",
       "    <tr>\n",
       "      <th>299998</th>\n",
       "      <td>Make</td>\n",
       "      <td>Whitakerbury</td>\n",
       "    </tr>\n",
       "    <tr>\n",
       "      <th>299999</th>\n",
       "      <td>Actuary</td>\n",
       "      <td>New Russellton</td>\n",
       "    </tr>\n",
       "  </tbody>\n",
       "</table>\n",
       "<p>300000 rows × 2 columns</p>\n",
       "</div>"
      ],
      "text/plain": [
       "                             Employee_Job_Title      Employee_City\n",
       "0                               Equities trader     New Russellton\n",
       "1       Diplomatic Services operational officer  North Melissafurt\n",
       "2                    Regulatory affairs officer           Wardfort\n",
       "3                           Production engineer     West Jamesview\n",
       "4                           Production engineer          Whiteside\n",
       "...                                         ...                ...\n",
       "299995                              Optometrist  North Melissafurt\n",
       "299996                            Administrator         Aliciafort\n",
       "299997                            Administrator   New Cindychester\n",
       "299998                                     Make       Whitakerbury\n",
       "299999                                  Actuary     New Russellton\n",
       "\n",
       "[300000 rows x 2 columns]"
      ]
     },
     "execution_count": 5,
     "metadata": {},
     "output_type": "execute_result"
    }
   ],
   "source": [
    "df[[\"Employee_Job_Title\",\"Employee_City\"]]"
   ]
  },
  {
   "cell_type": "markdown",
   "metadata": {
    "cell_id": "6698219b365b495e9d2b7b7e63d85682",
    "deepnote_cell_type": "text-cell-h3",
    "formattedRanges": [],
    "is_collapsed": false,
    "tags": []
   },
   "source": [
    "### 69. Print the number of employees with Employee_Rating greater than the average Employee_Rating"
   ]
  },
  {
   "cell_type": "code",
   "execution_count": null,
   "metadata": {
    "cell_id": "15e34ec91c4a4b11b76900397c666f70",
    "deepnote_cell_height": 61,
    "deepnote_cell_type": "code",
    "tags": []
   },
   "outputs": [
    {
     "data": {
      "text/plain": [
       "147548"
      ]
     },
     "execution_count": 7,
     "metadata": {},
     "output_type": "execute_result"
    }
   ],
   "source": [
    "a = df[\"Employee_Rating\"].mean()\n",
    "df.loc[df[\"Employee_Rating\"]>a].shape[0]\n",
    "\n",
    "# alternate query\n",
    "#  sum(df[\"Employee_Rating\"]>a)"
   ]
  },
  {
   "cell_type": "markdown",
   "metadata": {
    "cell_id": "2237f18656904ecd82f14e5267b45218",
    "deepnote_cell_type": "text-cell-h3",
    "formattedRanges": [],
    "is_collapsed": false,
    "tags": []
   },
   "source": [
    "### 70. Find the employee which has the maximum salary among the ones with  the minimum Employee_Rating "
   ]
  },
  {
   "cell_type": "code",
   "execution_count": 11,
   "metadata": {
    "cell_id": "4cfa232f89304dc9ba57fb370946dd9d",
    "deepnote_cell_height": 61,
    "deepnote_cell_type": "code",
    "tags": []
   },
   "outputs": [
    {
     "data": {
      "text/plain": [
       "Name                             Austin Poole\n",
       "Company_Name          White, Mcclain and Cobb\n",
       "Employee_Job_Title              Administrator\n",
       "Employee_City                       Whiteside\n",
       "Employee_Country        Saint Kitts and Nevis\n",
       "Employee_Salary                        999690\n",
       "Employment_Status                      Intern\n",
       "Employee_Rating                           0.0\n",
       "Name: 240878, dtype: object"
      ]
     },
     "execution_count": 11,
     "metadata": {},
     "output_type": "execute_result"
    }
   ],
   "source": [
    "m = min(df[\"Employee_Rating\"])\n",
    "ans = df[df[\"Employee_Rating\"]==m]\n",
    "\n",
    "ans.loc[ans[\"Employee_Salary\"].idxmax()]\n",
    "# ans[ans[\"Employee_Salary\"] == max(ans[\"Employee_Salary\"])][[\"Name\"]]"
   ]
  },
  {
   "cell_type": "markdown",
   "metadata": {
    "cell_id": "64fa45f9f95349049d15c81abcabfad8",
    "deepnote_cell_type": "text-cell-h3",
    "formattedRanges": [],
    "is_collapsed": false,
    "tags": []
   },
   "source": [
    "### 71. Sort the DataFrame in ascending order of Employee_Salary"
   ]
  },
  {
   "cell_type": "code",
   "execution_count": 12,
   "metadata": {
    "cell_id": "2550827685824865a00a4ded18856103",
    "deepnote_cell_height": 61,
    "deepnote_cell_type": "code",
    "tags": []
   },
   "outputs": [
    {
     "data": {
      "text/html": [
       "<div>\n",
       "<style scoped>\n",
       "    .dataframe tbody tr th:only-of-type {\n",
       "        vertical-align: middle;\n",
       "    }\n",
       "\n",
       "    .dataframe tbody tr th {\n",
       "        vertical-align: top;\n",
       "    }\n",
       "\n",
       "    .dataframe thead th {\n",
       "        text-align: right;\n",
       "    }\n",
       "</style>\n",
       "<table border=\"1\" class=\"dataframe\">\n",
       "  <thead>\n",
       "    <tr style=\"text-align: right;\">\n",
       "      <th></th>\n",
       "      <th>Name</th>\n",
       "      <th>Company_Name</th>\n",
       "      <th>Employee_Job_Title</th>\n",
       "      <th>Employee_City</th>\n",
       "      <th>Employee_Country</th>\n",
       "      <th>Employee_Salary</th>\n",
       "      <th>Employment_Status</th>\n",
       "      <th>Employee_Rating</th>\n",
       "    </tr>\n",
       "  </thead>\n",
       "  <tbody>\n",
       "    <tr>\n",
       "      <th>54531</th>\n",
       "      <td>Kristen Vasquez</td>\n",
       "      <td>White, Mcclain and Cobb</td>\n",
       "      <td>Armed forces logistics/support/administrative ...</td>\n",
       "      <td>Wardfort</td>\n",
       "      <td>Bermuda</td>\n",
       "      <td>0</td>\n",
       "      <td>Full Time</td>\n",
       "      <td>3.4</td>\n",
       "    </tr>\n",
       "    <tr>\n",
       "      <th>205070</th>\n",
       "      <td>Courtney Singleton</td>\n",
       "      <td>White, Mcclain and Cobb</td>\n",
       "      <td>Garment/textile technologist</td>\n",
       "      <td>New Cindychester</td>\n",
       "      <td>Ethiopia</td>\n",
       "      <td>0</td>\n",
       "      <td>Full Time</td>\n",
       "      <td>2.8</td>\n",
       "    </tr>\n",
       "    <tr>\n",
       "      <th>185700</th>\n",
       "      <td>Vanessa Wu</td>\n",
       "      <td>Campos, Reynolds and Mccormick</td>\n",
       "      <td>Patent examiner</td>\n",
       "      <td>North Melissafurt</td>\n",
       "      <td>Zambia</td>\n",
       "      <td>10</td>\n",
       "      <td>Full Time</td>\n",
       "      <td>1.3</td>\n",
       "    </tr>\n",
       "    <tr>\n",
       "      <th>226792</th>\n",
       "      <td>Penny Meza</td>\n",
       "      <td>Wallace, Smith and Shepard</td>\n",
       "      <td>Trading standards officer</td>\n",
       "      <td>Wardfort</td>\n",
       "      <td>Albania</td>\n",
       "      <td>10</td>\n",
       "      <td>Full Time</td>\n",
       "      <td>0.7</td>\n",
       "    </tr>\n",
       "    <tr>\n",
       "      <th>229395</th>\n",
       "      <td>Grace Smith</td>\n",
       "      <td>Johnston, Fleming and Tanner</td>\n",
       "      <td>Trading standards officer</td>\n",
       "      <td>West Jamesview</td>\n",
       "      <td>Libyan Arab Jamahiriya</td>\n",
       "      <td>10</td>\n",
       "      <td>Intern</td>\n",
       "      <td>1.1</td>\n",
       "    </tr>\n",
       "    <tr>\n",
       "      <th>...</th>\n",
       "      <td>...</td>\n",
       "      <td>...</td>\n",
       "      <td>...</td>\n",
       "      <td>...</td>\n",
       "      <td>...</td>\n",
       "      <td>...</td>\n",
       "      <td>...</td>\n",
       "      <td>...</td>\n",
       "    </tr>\n",
       "    <tr>\n",
       "      <th>23536</th>\n",
       "      <td>Dennis Sexton</td>\n",
       "      <td>Campos, Reynolds and Mccormick</td>\n",
       "      <td>Diplomatic Services operational officer</td>\n",
       "      <td>Kristaburgh</td>\n",
       "      <td>United Kingdom</td>\n",
       "      <td>999970</td>\n",
       "      <td>Full Time</td>\n",
       "      <td>0.9</td>\n",
       "    </tr>\n",
       "    <tr>\n",
       "      <th>50461</th>\n",
       "      <td>Logan Jackson</td>\n",
       "      <td>White, Mcclain and Cobb</td>\n",
       "      <td>Ergonomist</td>\n",
       "      <td>Wardfort</td>\n",
       "      <td>Saint Helena</td>\n",
       "      <td>999980</td>\n",
       "      <td>Full Time</td>\n",
       "      <td>2.0</td>\n",
       "    </tr>\n",
       "    <tr>\n",
       "      <th>153993</th>\n",
       "      <td>Jason Jenkins</td>\n",
       "      <td>Taylor-Ramos</td>\n",
       "      <td>Sales promotion account executive</td>\n",
       "      <td>Aliciafort</td>\n",
       "      <td>Pakistan</td>\n",
       "      <td>999980</td>\n",
       "      <td>Full Time</td>\n",
       "      <td>2.6</td>\n",
       "    </tr>\n",
       "    <tr>\n",
       "      <th>51642</th>\n",
       "      <td>Richard Kennedy</td>\n",
       "      <td>Thomas-Spencer</td>\n",
       "      <td>Energy manager</td>\n",
       "      <td>Aliciafort</td>\n",
       "      <td>Cook Islands</td>\n",
       "      <td>999980</td>\n",
       "      <td>Full Time</td>\n",
       "      <td>2.4</td>\n",
       "    </tr>\n",
       "    <tr>\n",
       "      <th>70356</th>\n",
       "      <td>Anna Lawson</td>\n",
       "      <td>Taylor-Ramos</td>\n",
       "      <td>Production engineer</td>\n",
       "      <td>Kristaburgh</td>\n",
       "      <td>Lesotho</td>\n",
       "      <td>999990</td>\n",
       "      <td>Full Time</td>\n",
       "      <td>4.0</td>\n",
       "    </tr>\n",
       "  </tbody>\n",
       "</table>\n",
       "<p>300000 rows × 8 columns</p>\n",
       "</div>"
      ],
      "text/plain": [
       "                      Name                    Company_Name   \n",
       "54531      Kristen Vasquez         White, Mcclain and Cobb  \\\n",
       "205070  Courtney Singleton         White, Mcclain and Cobb   \n",
       "185700          Vanessa Wu  Campos, Reynolds and Mccormick   \n",
       "226792          Penny Meza      Wallace, Smith and Shepard   \n",
       "229395         Grace Smith    Johnston, Fleming and Tanner   \n",
       "...                    ...                             ...   \n",
       "23536        Dennis Sexton  Campos, Reynolds and Mccormick   \n",
       "50461        Logan Jackson         White, Mcclain and Cobb   \n",
       "153993       Jason Jenkins                    Taylor-Ramos   \n",
       "51642      Richard Kennedy                  Thomas-Spencer   \n",
       "70356          Anna Lawson                    Taylor-Ramos   \n",
       "\n",
       "                                       Employee_Job_Title      Employee_City   \n",
       "54531   Armed forces logistics/support/administrative ...           Wardfort  \\\n",
       "205070                       Garment/textile technologist   New Cindychester   \n",
       "185700                                    Patent examiner  North Melissafurt   \n",
       "226792                          Trading standards officer           Wardfort   \n",
       "229395                          Trading standards officer     West Jamesview   \n",
       "...                                                   ...                ...   \n",
       "23536             Diplomatic Services operational officer        Kristaburgh   \n",
       "50461                                          Ergonomist           Wardfort   \n",
       "153993                  Sales promotion account executive         Aliciafort   \n",
       "51642                                      Energy manager         Aliciafort   \n",
       "70356                                 Production engineer        Kristaburgh   \n",
       "\n",
       "              Employee_Country  Employee_Salary Employment_Status   \n",
       "54531                  Bermuda                0         Full Time  \\\n",
       "205070                Ethiopia                0         Full Time   \n",
       "185700                  Zambia               10         Full Time   \n",
       "226792                 Albania               10         Full Time   \n",
       "229395  Libyan Arab Jamahiriya               10            Intern   \n",
       "...                        ...              ...               ...   \n",
       "23536           United Kingdom           999970         Full Time   \n",
       "50461             Saint Helena           999980         Full Time   \n",
       "153993                Pakistan           999980         Full Time   \n",
       "51642             Cook Islands           999980         Full Time   \n",
       "70356                  Lesotho           999990         Full Time   \n",
       "\n",
       "        Employee_Rating  \n",
       "54531               3.4  \n",
       "205070              2.8  \n",
       "185700              1.3  \n",
       "226792              0.7  \n",
       "229395              1.1  \n",
       "...                 ...  \n",
       "23536               0.9  \n",
       "50461               2.0  \n",
       "153993              2.6  \n",
       "51642               2.4  \n",
       "70356               4.0  \n",
       "\n",
       "[300000 rows x 8 columns]"
      ]
     },
     "execution_count": 12,
     "metadata": {},
     "output_type": "execute_result"
    }
   ],
   "source": [
    "df.sort_values(by=\"Employee_Salary\")"
   ]
  },
  {
   "cell_type": "markdown",
   "metadata": {
    "cell_id": "bcc20c014a4d45ff82c00da13d6908e2",
    "deepnote_cell_type": "text-cell-h3",
    "formattedRanges": [],
    "is_collapsed": false,
    "tags": []
   },
   "source": [
    "### 72. Sort the DataFrame in descending order of Employee_Rating"
   ]
  },
  {
   "cell_type": "code",
   "execution_count": 13,
   "metadata": {
    "cell_id": "20a2835aadce4af588afc1e4e5f2b8da",
    "deepnote_cell_height": 61,
    "deepnote_cell_type": "code",
    "tags": []
   },
   "outputs": [
    {
     "data": {
      "text/html": [
       "<div>\n",
       "<style scoped>\n",
       "    .dataframe tbody tr th:only-of-type {\n",
       "        vertical-align: middle;\n",
       "    }\n",
       "\n",
       "    .dataframe tbody tr th {\n",
       "        vertical-align: top;\n",
       "    }\n",
       "\n",
       "    .dataframe thead th {\n",
       "        text-align: right;\n",
       "    }\n",
       "</style>\n",
       "<table border=\"1\" class=\"dataframe\">\n",
       "  <thead>\n",
       "    <tr style=\"text-align: right;\">\n",
       "      <th></th>\n",
       "      <th>Name</th>\n",
       "      <th>Company_Name</th>\n",
       "      <th>Employee_Job_Title</th>\n",
       "      <th>Employee_City</th>\n",
       "      <th>Employee_Country</th>\n",
       "      <th>Employee_Salary</th>\n",
       "      <th>Employment_Status</th>\n",
       "      <th>Employee_Rating</th>\n",
       "    </tr>\n",
       "  </thead>\n",
       "  <tbody>\n",
       "    <tr>\n",
       "      <th>222544</th>\n",
       "      <td>Laura Lopez</td>\n",
       "      <td>Scott Inc</td>\n",
       "      <td>Equities trader</td>\n",
       "      <td>Whiteside</td>\n",
       "      <td>British Virgin Islands</td>\n",
       "      <td>271140</td>\n",
       "      <td>Full Time</td>\n",
       "      <td>5.0</td>\n",
       "    </tr>\n",
       "    <tr>\n",
       "      <th>26453</th>\n",
       "      <td>Adriana Ferrell</td>\n",
       "      <td>Johnston, Fleming and Tanner</td>\n",
       "      <td>Ergonomist</td>\n",
       "      <td>Aliciafort</td>\n",
       "      <td>Gabon</td>\n",
       "      <td>678800</td>\n",
       "      <td>Intern</td>\n",
       "      <td>5.0</td>\n",
       "    </tr>\n",
       "    <tr>\n",
       "      <th>141265</th>\n",
       "      <td>Russell Dorsey</td>\n",
       "      <td>Baker, Allen and Edwards</td>\n",
       "      <td>Optometrist</td>\n",
       "      <td>Aliciafort</td>\n",
       "      <td>Morocco</td>\n",
       "      <td>816320</td>\n",
       "      <td>Full Time</td>\n",
       "      <td>5.0</td>\n",
       "    </tr>\n",
       "    <tr>\n",
       "      <th>184624</th>\n",
       "      <td>Katherine Jenkins</td>\n",
       "      <td>Matthews Inc</td>\n",
       "      <td>Make</td>\n",
       "      <td>New Cindychester</td>\n",
       "      <td>Nauru</td>\n",
       "      <td>498850</td>\n",
       "      <td>Full Time</td>\n",
       "      <td>5.0</td>\n",
       "    </tr>\n",
       "    <tr>\n",
       "      <th>70533</th>\n",
       "      <td>Brittney Greene</td>\n",
       "      <td>James and Sons</td>\n",
       "      <td>Energy manager</td>\n",
       "      <td>Ricardomouth</td>\n",
       "      <td>Bulgaria</td>\n",
       "      <td>332780</td>\n",
       "      <td>Full Time</td>\n",
       "      <td>5.0</td>\n",
       "    </tr>\n",
       "    <tr>\n",
       "      <th>...</th>\n",
       "      <td>...</td>\n",
       "      <td>...</td>\n",
       "      <td>...</td>\n",
       "      <td>...</td>\n",
       "      <td>...</td>\n",
       "      <td>...</td>\n",
       "      <td>...</td>\n",
       "      <td>...</td>\n",
       "    </tr>\n",
       "    <tr>\n",
       "      <th>50012</th>\n",
       "      <td>Sara King</td>\n",
       "      <td>Matthews Inc</td>\n",
       "      <td>Diplomatic Services operational officer</td>\n",
       "      <td>Whiteside</td>\n",
       "      <td>Iran</td>\n",
       "      <td>986490</td>\n",
       "      <td>Intern</td>\n",
       "      <td>0.0</td>\n",
       "    </tr>\n",
       "    <tr>\n",
       "      <th>289392</th>\n",
       "      <td>Heather Paul</td>\n",
       "      <td>Nelson-Li</td>\n",
       "      <td>Make</td>\n",
       "      <td>Wardfort</td>\n",
       "      <td>French Southern Territories</td>\n",
       "      <td>712720</td>\n",
       "      <td>Full Time</td>\n",
       "      <td>0.0</td>\n",
       "    </tr>\n",
       "    <tr>\n",
       "      <th>14752</th>\n",
       "      <td>Kathryn Goodwin</td>\n",
       "      <td>Baker, Allen and Edwards</td>\n",
       "      <td>Energy manager</td>\n",
       "      <td>New Cindychester</td>\n",
       "      <td>Moldova</td>\n",
       "      <td>557330</td>\n",
       "      <td>Full Time</td>\n",
       "      <td>0.0</td>\n",
       "    </tr>\n",
       "    <tr>\n",
       "      <th>204854</th>\n",
       "      <td>Nina Yang</td>\n",
       "      <td>Wallace, Smith and Shepard</td>\n",
       "      <td>Armed forces logistics/support/administrative ...</td>\n",
       "      <td>Wardfort</td>\n",
       "      <td>Swaziland</td>\n",
       "      <td>744300</td>\n",
       "      <td>Intern</td>\n",
       "      <td>0.0</td>\n",
       "    </tr>\n",
       "    <tr>\n",
       "      <th>242616</th>\n",
       "      <td>Melissa Johnston</td>\n",
       "      <td>Matthews Inc</td>\n",
       "      <td>Diplomatic Services operational officer</td>\n",
       "      <td>Whiteside</td>\n",
       "      <td>Macao</td>\n",
       "      <td>704700</td>\n",
       "      <td>Intern</td>\n",
       "      <td>0.0</td>\n",
       "    </tr>\n",
       "  </tbody>\n",
       "</table>\n",
       "<p>300000 rows × 8 columns</p>\n",
       "</div>"
      ],
      "text/plain": [
       "                     Name                  Company_Name   \n",
       "222544        Laura Lopez                     Scott Inc  \\\n",
       "26453     Adriana Ferrell  Johnston, Fleming and Tanner   \n",
       "141265     Russell Dorsey      Baker, Allen and Edwards   \n",
       "184624  Katherine Jenkins                  Matthews Inc   \n",
       "70533     Brittney Greene                James and Sons   \n",
       "...                   ...                           ...   \n",
       "50012           Sara King                  Matthews Inc   \n",
       "289392       Heather Paul                     Nelson-Li   \n",
       "14752     Kathryn Goodwin      Baker, Allen and Edwards   \n",
       "204854          Nina Yang    Wallace, Smith and Shepard   \n",
       "242616   Melissa Johnston                  Matthews Inc   \n",
       "\n",
       "                                       Employee_Job_Title     Employee_City   \n",
       "222544                                    Equities trader         Whiteside  \\\n",
       "26453                                          Ergonomist        Aliciafort   \n",
       "141265                                        Optometrist        Aliciafort   \n",
       "184624                                               Make  New Cindychester   \n",
       "70533                                      Energy manager      Ricardomouth   \n",
       "...                                                   ...               ...   \n",
       "50012             Diplomatic Services operational officer         Whiteside   \n",
       "289392                                               Make          Wardfort   \n",
       "14752                                      Energy manager  New Cindychester   \n",
       "204854  Armed forces logistics/support/administrative ...          Wardfort   \n",
       "242616            Diplomatic Services operational officer         Whiteside   \n",
       "\n",
       "                   Employee_Country  Employee_Salary Employment_Status   \n",
       "222544       British Virgin Islands           271140         Full Time  \\\n",
       "26453                         Gabon           678800            Intern   \n",
       "141265                      Morocco           816320         Full Time   \n",
       "184624                        Nauru           498850         Full Time   \n",
       "70533                      Bulgaria           332780         Full Time   \n",
       "...                             ...              ...               ...   \n",
       "50012                          Iran           986490            Intern   \n",
       "289392  French Southern Territories           712720         Full Time   \n",
       "14752                       Moldova           557330         Full Time   \n",
       "204854                    Swaziland           744300            Intern   \n",
       "242616                        Macao           704700            Intern   \n",
       "\n",
       "        Employee_Rating  \n",
       "222544              5.0  \n",
       "26453               5.0  \n",
       "141265              5.0  \n",
       "184624              5.0  \n",
       "70533               5.0  \n",
       "...                 ...  \n",
       "50012               0.0  \n",
       "289392              0.0  \n",
       "14752               0.0  \n",
       "204854              0.0  \n",
       "242616              0.0  \n",
       "\n",
       "[300000 rows x 8 columns]"
      ]
     },
     "execution_count": 13,
     "metadata": {},
     "output_type": "execute_result"
    }
   ],
   "source": [
    "df.sort_values(by=\"Employee_Rating\",ascending=False)\n"
   ]
  },
  {
   "cell_type": "markdown",
   "metadata": {
    "cell_id": "f968bed472c2444face7478ef14b32cc",
    "deepnote_cell_type": "text-cell-h3",
    "formattedRanges": [],
    "is_collapsed": false,
    "tags": []
   },
   "source": [
    "### 73. Print the name of 100th employee after sorting on Name"
   ]
  },
  {
   "cell_type": "code",
   "execution_count": 17,
   "metadata": {
    "cell_id": "75941d08737c45f6bfa45b4cab13ef6a",
    "deepnote_cell_height": 61,
    "deepnote_cell_type": "code",
    "tags": []
   },
   "outputs": [
    {
     "data": {
      "text/plain": [
       "Name                        Aaron Brown\n",
       "Company_Name           Bullock-Carrillo\n",
       "Employee_Job_Title           Ergonomist\n",
       "Employee_City         North Melissafurt\n",
       "Employee_Country                Burundi\n",
       "Employee_Salary                  947390\n",
       "Employment_Status                Intern\n",
       "Employee_Rating                     1.6\n",
       "Name: 283977, dtype: object"
      ]
     },
     "execution_count": 17,
     "metadata": {},
     "output_type": "execute_result"
    }
   ],
   "source": [
    "df.sort_values(by=\"Name\").iloc[100]"
   ]
  },
  {
   "cell_type": "markdown",
   "metadata": {
    "cell_id": "6afddd564bb24ff895c70f4ebff86b03",
    "deepnote_cell_type": "text-cell-h3",
    "formattedRanges": [],
    "is_collapsed": false,
    "tags": []
   },
   "source": [
    "### 74. Print the first 5 rows of the first 5 columns. "
   ]
  },
  {
   "cell_type": "code",
   "execution_count": 18,
   "metadata": {
    "cell_id": "c7e9be68a23f47f690df53b804f019a5",
    "deepnote_cell_height": 61,
    "deepnote_cell_type": "code",
    "tags": []
   },
   "outputs": [
    {
     "data": {
      "text/html": [
       "<div>\n",
       "<style scoped>\n",
       "    .dataframe tbody tr th:only-of-type {\n",
       "        vertical-align: middle;\n",
       "    }\n",
       "\n",
       "    .dataframe tbody tr th {\n",
       "        vertical-align: top;\n",
       "    }\n",
       "\n",
       "    .dataframe thead th {\n",
       "        text-align: right;\n",
       "    }\n",
       "</style>\n",
       "<table border=\"1\" class=\"dataframe\">\n",
       "  <thead>\n",
       "    <tr style=\"text-align: right;\">\n",
       "      <th></th>\n",
       "      <th>Name</th>\n",
       "      <th>Company_Name</th>\n",
       "      <th>Employee_Job_Title</th>\n",
       "      <th>Employee_City</th>\n",
       "      <th>Employee_Country</th>\n",
       "    </tr>\n",
       "  </thead>\n",
       "  <tbody>\n",
       "    <tr>\n",
       "      <th>0</th>\n",
       "      <td>Spencer Adkins</td>\n",
       "      <td>James and Sons</td>\n",
       "      <td>Equities trader</td>\n",
       "      <td>New Russellton</td>\n",
       "      <td>Palestinian Territory</td>\n",
       "    </tr>\n",
       "    <tr>\n",
       "      <th>1</th>\n",
       "      <td>Julie Morton</td>\n",
       "      <td>Nichols-James</td>\n",
       "      <td>Diplomatic Services operational officer</td>\n",
       "      <td>North Melissafurt</td>\n",
       "      <td>Marshall Islands</td>\n",
       "    </tr>\n",
       "    <tr>\n",
       "      <th>2</th>\n",
       "      <td>Matthew Hall</td>\n",
       "      <td>Scott Inc</td>\n",
       "      <td>Regulatory affairs officer</td>\n",
       "      <td>Wardfort</td>\n",
       "      <td>Anguilla</td>\n",
       "    </tr>\n",
       "    <tr>\n",
       "      <th>3</th>\n",
       "      <td>Brad Scott</td>\n",
       "      <td>Johnston, Fleming and Tanner</td>\n",
       "      <td>Production engineer</td>\n",
       "      <td>West Jamesview</td>\n",
       "      <td>Syrian Arab Republic</td>\n",
       "    </tr>\n",
       "    <tr>\n",
       "      <th>4</th>\n",
       "      <td>Theresa Owens</td>\n",
       "      <td>Baker, Allen and Edwards</td>\n",
       "      <td>Production engineer</td>\n",
       "      <td>Whiteside</td>\n",
       "      <td>Dominica</td>\n",
       "    </tr>\n",
       "  </tbody>\n",
       "</table>\n",
       "</div>"
      ],
      "text/plain": [
       "             Name                  Company_Name   \n",
       "0  Spencer Adkins                James and Sons  \\\n",
       "1    Julie Morton                 Nichols-James   \n",
       "2    Matthew Hall                     Scott Inc   \n",
       "3      Brad Scott  Johnston, Fleming and Tanner   \n",
       "4   Theresa Owens      Baker, Allen and Edwards   \n",
       "\n",
       "                        Employee_Job_Title      Employee_City   \n",
       "0                          Equities trader     New Russellton  \\\n",
       "1  Diplomatic Services operational officer  North Melissafurt   \n",
       "2               Regulatory affairs officer           Wardfort   \n",
       "3                      Production engineer     West Jamesview   \n",
       "4                      Production engineer          Whiteside   \n",
       "\n",
       "        Employee_Country  \n",
       "0  Palestinian Territory  \n",
       "1       Marshall Islands  \n",
       "2               Anguilla  \n",
       "3   Syrian Arab Republic  \n",
       "4               Dominica  "
      ]
     },
     "execution_count": 18,
     "metadata": {},
     "output_type": "execute_result"
    }
   ],
   "source": [
    "df.iloc[:5,:5]"
   ]
  },
  {
   "cell_type": "markdown",
   "metadata": {
    "cell_id": "7255be19d3734ecdbc6d6ca613715bf0",
    "deepnote_cell_type": "text-cell-h3",
    "formattedRanges": [],
    "is_collapsed": false,
    "tags": []
   },
   "source": [
    "### 75. Print the transpose of the first 5 rows"
   ]
  },
  {
   "cell_type": "code",
   "execution_count": 19,
   "metadata": {
    "cell_id": "3d45a2a66b3748f5bcf9f6099e430654",
    "deepnote_cell_height": 61,
    "deepnote_cell_type": "code",
    "tags": []
   },
   "outputs": [
    {
     "data": {
      "text/html": [
       "<div>\n",
       "<style scoped>\n",
       "    .dataframe tbody tr th:only-of-type {\n",
       "        vertical-align: middle;\n",
       "    }\n",
       "\n",
       "    .dataframe tbody tr th {\n",
       "        vertical-align: top;\n",
       "    }\n",
       "\n",
       "    .dataframe thead th {\n",
       "        text-align: right;\n",
       "    }\n",
       "</style>\n",
       "<table border=\"1\" class=\"dataframe\">\n",
       "  <thead>\n",
       "    <tr style=\"text-align: right;\">\n",
       "      <th></th>\n",
       "      <th>0</th>\n",
       "      <th>1</th>\n",
       "      <th>2</th>\n",
       "      <th>3</th>\n",
       "      <th>4</th>\n",
       "    </tr>\n",
       "  </thead>\n",
       "  <tbody>\n",
       "    <tr>\n",
       "      <th>Name</th>\n",
       "      <td>Spencer Adkins</td>\n",
       "      <td>Julie Morton</td>\n",
       "      <td>Matthew Hall</td>\n",
       "      <td>Brad Scott</td>\n",
       "      <td>Theresa Owens</td>\n",
       "    </tr>\n",
       "    <tr>\n",
       "      <th>Company_Name</th>\n",
       "      <td>James and Sons</td>\n",
       "      <td>Nichols-James</td>\n",
       "      <td>Scott Inc</td>\n",
       "      <td>Johnston, Fleming and Tanner</td>\n",
       "      <td>Baker, Allen and Edwards</td>\n",
       "    </tr>\n",
       "    <tr>\n",
       "      <th>Employee_Job_Title</th>\n",
       "      <td>Equities trader</td>\n",
       "      <td>Diplomatic Services operational officer</td>\n",
       "      <td>Regulatory affairs officer</td>\n",
       "      <td>Production engineer</td>\n",
       "      <td>Production engineer</td>\n",
       "    </tr>\n",
       "    <tr>\n",
       "      <th>Employee_City</th>\n",
       "      <td>New Russellton</td>\n",
       "      <td>North Melissafurt</td>\n",
       "      <td>Wardfort</td>\n",
       "      <td>West Jamesview</td>\n",
       "      <td>Whiteside</td>\n",
       "    </tr>\n",
       "    <tr>\n",
       "      <th>Employee_Country</th>\n",
       "      <td>Palestinian Territory</td>\n",
       "      <td>Marshall Islands</td>\n",
       "      <td>Anguilla</td>\n",
       "      <td>Syrian Arab Republic</td>\n",
       "      <td>Dominica</td>\n",
       "    </tr>\n",
       "    <tr>\n",
       "      <th>Employee_Salary</th>\n",
       "      <td>321520</td>\n",
       "      <td>589090</td>\n",
       "      <td>630890</td>\n",
       "      <td>116400</td>\n",
       "      <td>523499</td>\n",
       "    </tr>\n",
       "    <tr>\n",
       "      <th>Employment_Status</th>\n",
       "      <td>Full Time</td>\n",
       "      <td>Full Time</td>\n",
       "      <td>Full Time</td>\n",
       "      <td>Full Time</td>\n",
       "      <td>Full Time</td>\n",
       "    </tr>\n",
       "    <tr>\n",
       "      <th>Employee_Rating</th>\n",
       "      <td>3.9</td>\n",
       "      <td>4.3</td>\n",
       "      <td>3.1</td>\n",
       "      <td>3.1</td>\n",
       "      <td>4.8</td>\n",
       "    </tr>\n",
       "  </tbody>\n",
       "</table>\n",
       "</div>"
      ],
      "text/plain": [
       "                                        0   \n",
       "Name                       Spencer Adkins  \\\n",
       "Company_Name               James and Sons   \n",
       "Employee_Job_Title        Equities trader   \n",
       "Employee_City              New Russellton   \n",
       "Employee_Country    Palestinian Territory   \n",
       "Employee_Salary                    321520   \n",
       "Employment_Status               Full Time   \n",
       "Employee_Rating                       3.9   \n",
       "\n",
       "                                                          1   \n",
       "Name                                           Julie Morton  \\\n",
       "Company_Name                                  Nichols-James   \n",
       "Employee_Job_Title  Diplomatic Services operational officer   \n",
       "Employee_City                             North Melissafurt   \n",
       "Employee_Country                           Marshall Islands   \n",
       "Employee_Salary                                      589090   \n",
       "Employment_Status                                 Full Time   \n",
       "Employee_Rating                                         4.3   \n",
       "\n",
       "                                             2                             3   \n",
       "Name                              Matthew Hall                    Brad Scott  \\\n",
       "Company_Name                         Scott Inc  Johnston, Fleming and Tanner   \n",
       "Employee_Job_Title  Regulatory affairs officer           Production engineer   \n",
       "Employee_City                         Wardfort                West Jamesview   \n",
       "Employee_Country                      Anguilla          Syrian Arab Republic   \n",
       "Employee_Salary                         630890                        116400   \n",
       "Employment_Status                    Full Time                     Full Time   \n",
       "Employee_Rating                            3.1                           3.1   \n",
       "\n",
       "                                           4  \n",
       "Name                           Theresa Owens  \n",
       "Company_Name        Baker, Allen and Edwards  \n",
       "Employee_Job_Title       Production engineer  \n",
       "Employee_City                      Whiteside  \n",
       "Employee_Country                    Dominica  \n",
       "Employee_Salary                       523499  \n",
       "Employment_Status                  Full Time  \n",
       "Employee_Rating                          4.8  "
      ]
     },
     "execution_count": 19,
     "metadata": {},
     "output_type": "execute_result"
    }
   ],
   "source": [
    "df.head(5).T"
   ]
  },
  {
   "cell_type": "markdown",
   "metadata": {
    "cell_id": "4ca3043f12434849a21ffac04765e5d0",
    "deepnote_cell_type": "text-cell-h3",
    "formattedRanges": [],
    "is_collapsed": false,
    "tags": []
   },
   "source": [
    "### 76. Print the number of employees whose first name starts with the letter 'V'. "
   ]
  },
  {
   "cell_type": "code",
   "execution_count": null,
   "metadata": {
    "cell_id": "fa0734590e7f4b7aa8c5db700a0e5980",
    "deepnote_cell_height": 61,
    "deepnote_cell_type": "code",
    "tags": []
   },
   "outputs": [
    {
     "data": {
      "text/plain": [
       "3683"
      ]
     },
     "execution_count": 22,
     "metadata": {},
     "output_type": "execute_result"
    }
   ],
   "source": [
    "df[\"Name\"].str.startswith(\"V\").sum()\n",
    "\n",
    "# or\n",
    "# df[df[\"Name\"].str.startswith(\"V\")].shape[0]\n"
   ]
  },
  {
   "cell_type": "markdown",
   "metadata": {
    "cell_id": "47245d330d674c07baa269f9a1044905",
    "deepnote_cell_type": "text-cell-h3",
    "formattedRanges": [],
    "is_collapsed": false,
    "tags": []
   },
   "source": [
    "### 77. Print the number of employees whose last name starts with the letter 'R'. "
   ]
  },
  {
   "cell_type": "code",
   "execution_count": 25,
   "metadata": {
    "cell_id": "5b6f0a12151841a0bfc1e53c67c2dd19",
    "deepnote_cell_height": 61,
    "deepnote_cell_type": "code",
    "tags": []
   },
   "outputs": [
    {
     "data": {
      "text/plain": [
       "20712"
      ]
     },
     "execution_count": 25,
     "metadata": {},
     "output_type": "execute_result"
    }
   ],
   "source": [
    "df[\"Name\"].str.split().str[-1].str.startswith(\"R\").sum()"
   ]
  },
  {
   "cell_type": "markdown",
   "metadata": {
    "cell_id": "98e5592bf725415894df424e0b181c48",
    "deepnote_cell_type": "text-cell-h3",
    "formattedRanges": [],
    "is_collapsed": false,
    "tags": []
   },
   "source": [
    "### 78. Select the rows 2 to 7 and the columns 3 to 7 (both included)"
   ]
  },
  {
   "cell_type": "code",
   "execution_count": 27,
   "metadata": {
    "cell_id": "13d622ae8c8a4960be176f7883ec325c",
    "deepnote_cell_height": 61,
    "deepnote_cell_type": "code",
    "tags": []
   },
   "outputs": [
    {
     "data": {
      "text/html": [
       "<div>\n",
       "<style scoped>\n",
       "    .dataframe tbody tr th:only-of-type {\n",
       "        vertical-align: middle;\n",
       "    }\n",
       "\n",
       "    .dataframe tbody tr th {\n",
       "        vertical-align: top;\n",
       "    }\n",
       "\n",
       "    .dataframe thead th {\n",
       "        text-align: right;\n",
       "    }\n",
       "</style>\n",
       "<table border=\"1\" class=\"dataframe\">\n",
       "  <thead>\n",
       "    <tr style=\"text-align: right;\">\n",
       "      <th></th>\n",
       "      <th>Employee_City</th>\n",
       "      <th>Employee_Country</th>\n",
       "      <th>Employee_Salary</th>\n",
       "      <th>Employment_Status</th>\n",
       "      <th>Employee_Rating</th>\n",
       "    </tr>\n",
       "  </thead>\n",
       "  <tbody>\n",
       "    <tr>\n",
       "      <th>2</th>\n",
       "      <td>Wardfort</td>\n",
       "      <td>Anguilla</td>\n",
       "      <td>630890</td>\n",
       "      <td>Full Time</td>\n",
       "      <td>3.1</td>\n",
       "    </tr>\n",
       "    <tr>\n",
       "      <th>3</th>\n",
       "      <td>West Jamesview</td>\n",
       "      <td>Syrian Arab Republic</td>\n",
       "      <td>116400</td>\n",
       "      <td>Full Time</td>\n",
       "      <td>3.1</td>\n",
       "    </tr>\n",
       "    <tr>\n",
       "      <th>4</th>\n",
       "      <td>Whiteside</td>\n",
       "      <td>Dominica</td>\n",
       "      <td>523499</td>\n",
       "      <td>Full Time</td>\n",
       "      <td>4.8</td>\n",
       "    </tr>\n",
       "    <tr>\n",
       "      <th>5</th>\n",
       "      <td>Ricardomouth</td>\n",
       "      <td>Mali</td>\n",
       "      <td>850140</td>\n",
       "      <td>Full Time</td>\n",
       "      <td>2.6</td>\n",
       "    </tr>\n",
       "    <tr>\n",
       "      <th>6</th>\n",
       "      <td>Wardfort</td>\n",
       "      <td>Aruba</td>\n",
       "      <td>711410</td>\n",
       "      <td>Full Time</td>\n",
       "      <td>2.0</td>\n",
       "    </tr>\n",
       "    <tr>\n",
       "      <th>7</th>\n",
       "      <td>Kristaburgh</td>\n",
       "      <td>Western Sahara</td>\n",
       "      <td>777000</td>\n",
       "      <td>Full Time</td>\n",
       "      <td>3.3</td>\n",
       "    </tr>\n",
       "  </tbody>\n",
       "</table>\n",
       "</div>"
      ],
      "text/plain": [
       "    Employee_City      Employee_Country  Employee_Salary Employment_Status   \n",
       "2        Wardfort              Anguilla           630890         Full Time  \\\n",
       "3  West Jamesview  Syrian Arab Republic           116400         Full Time   \n",
       "4       Whiteside              Dominica           523499         Full Time   \n",
       "5    Ricardomouth                  Mali           850140         Full Time   \n",
       "6        Wardfort                 Aruba           711410         Full Time   \n",
       "7     Kristaburgh        Western Sahara           777000         Full Time   \n",
       "\n",
       "   Employee_Rating  \n",
       "2              3.1  \n",
       "3              3.1  \n",
       "4              4.8  \n",
       "5              2.6  \n",
       "6              2.0  \n",
       "7              3.3  "
      ]
     },
     "execution_count": 27,
     "metadata": {},
     "output_type": "execute_result"
    }
   ],
   "source": [
    "df.iloc[2:8,3:8]"
   ]
  },
  {
   "cell_type": "markdown",
   "metadata": {
    "cell_id": "b179fcacb5ba44d885ffdfb8ca0ccb65",
    "deepnote_cell_type": "text-cell-h3",
    "formattedRanges": [],
    "is_collapsed": false,
    "tags": []
   },
   "source": [
    "### 79. Select every row after the 10th row and select all columns. "
   ]
  },
  {
   "cell_type": "code",
   "execution_count": 28,
   "metadata": {
    "cell_id": "a623adc900f74d4f9881db6d707b048e",
    "deepnote_cell_height": 61,
    "deepnote_cell_type": "code",
    "tags": []
   },
   "outputs": [
    {
     "data": {
      "text/html": [
       "<div>\n",
       "<style scoped>\n",
       "    .dataframe tbody tr th:only-of-type {\n",
       "        vertical-align: middle;\n",
       "    }\n",
       "\n",
       "    .dataframe tbody tr th {\n",
       "        vertical-align: top;\n",
       "    }\n",
       "\n",
       "    .dataframe thead th {\n",
       "        text-align: right;\n",
       "    }\n",
       "</style>\n",
       "<table border=\"1\" class=\"dataframe\">\n",
       "  <thead>\n",
       "    <tr style=\"text-align: right;\">\n",
       "      <th></th>\n",
       "      <th>Name</th>\n",
       "      <th>Company_Name</th>\n",
       "      <th>Employee_Job_Title</th>\n",
       "      <th>Employee_City</th>\n",
       "      <th>Employee_Country</th>\n",
       "      <th>Employee_Salary</th>\n",
       "      <th>Employment_Status</th>\n",
       "      <th>Employee_Rating</th>\n",
       "    </tr>\n",
       "  </thead>\n",
       "  <tbody>\n",
       "    <tr>\n",
       "      <th>10</th>\n",
       "      <td>Victoria Sutton</td>\n",
       "      <td>White, Mcclain and Cobb</td>\n",
       "      <td>Naval architect</td>\n",
       "      <td>Whiteside</td>\n",
       "      <td>Poland</td>\n",
       "      <td>656260</td>\n",
       "      <td>Full Time</td>\n",
       "      <td>4.9</td>\n",
       "    </tr>\n",
       "    <tr>\n",
       "      <th>11</th>\n",
       "      <td>Timothy Johnson</td>\n",
       "      <td>Baker, Allen and Edwards</td>\n",
       "      <td>Regulatory affairs officer</td>\n",
       "      <td>Ricardomouth</td>\n",
       "      <td>Georgia</td>\n",
       "      <td>503610</td>\n",
       "      <td>Full Time</td>\n",
       "      <td>2.9</td>\n",
       "    </tr>\n",
       "    <tr>\n",
       "      <th>12</th>\n",
       "      <td>Tiffany Galvan</td>\n",
       "      <td>Campos, Reynolds and Mccormick</td>\n",
       "      <td>Diplomatic Services operational officer</td>\n",
       "      <td>West Jamesview</td>\n",
       "      <td>Niger</td>\n",
       "      <td>786430</td>\n",
       "      <td>Intern</td>\n",
       "      <td>3.6</td>\n",
       "    </tr>\n",
       "    <tr>\n",
       "      <th>13</th>\n",
       "      <td>David Duran</td>\n",
       "      <td>Nichols-James</td>\n",
       "      <td>Investment banker, corporate</td>\n",
       "      <td>New Russellton</td>\n",
       "      <td>Georgia</td>\n",
       "      <td>910210</td>\n",
       "      <td>Full Time</td>\n",
       "      <td>4.9</td>\n",
       "    </tr>\n",
       "    <tr>\n",
       "      <th>14</th>\n",
       "      <td>Julie Cook</td>\n",
       "      <td>Matthews Inc</td>\n",
       "      <td>Equities trader</td>\n",
       "      <td>New Russellton</td>\n",
       "      <td>Puerto Rico</td>\n",
       "      <td>328860</td>\n",
       "      <td>Full Time</td>\n",
       "      <td>4.8</td>\n",
       "    </tr>\n",
       "    <tr>\n",
       "      <th>...</th>\n",
       "      <td>...</td>\n",
       "      <td>...</td>\n",
       "      <td>...</td>\n",
       "      <td>...</td>\n",
       "      <td>...</td>\n",
       "      <td>...</td>\n",
       "      <td>...</td>\n",
       "      <td>...</td>\n",
       "    </tr>\n",
       "    <tr>\n",
       "      <th>299995</th>\n",
       "      <td>Nancy Neal</td>\n",
       "      <td>Bullock-Carrillo</td>\n",
       "      <td>Optometrist</td>\n",
       "      <td>North Melissafurt</td>\n",
       "      <td>Samoa</td>\n",
       "      <td>99670</td>\n",
       "      <td>Intern</td>\n",
       "      <td>3.3</td>\n",
       "    </tr>\n",
       "    <tr>\n",
       "      <th>299996</th>\n",
       "      <td>Michele Butler</td>\n",
       "      <td>Johnston, Fleming and Tanner</td>\n",
       "      <td>Administrator</td>\n",
       "      <td>Aliciafort</td>\n",
       "      <td>Cuba</td>\n",
       "      <td>949580</td>\n",
       "      <td>Intern</td>\n",
       "      <td>2.6</td>\n",
       "    </tr>\n",
       "    <tr>\n",
       "      <th>299997</th>\n",
       "      <td>Lynn Wilson</td>\n",
       "      <td>Nichols-James</td>\n",
       "      <td>Administrator</td>\n",
       "      <td>New Cindychester</td>\n",
       "      <td>Bolivia</td>\n",
       "      <td>802830</td>\n",
       "      <td>Full Time</td>\n",
       "      <td>0.6</td>\n",
       "    </tr>\n",
       "    <tr>\n",
       "      <th>299998</th>\n",
       "      <td>Lindsey Keith</td>\n",
       "      <td>Nichols-James</td>\n",
       "      <td>Make</td>\n",
       "      <td>Whitakerbury</td>\n",
       "      <td>Western Sahara</td>\n",
       "      <td>257240</td>\n",
       "      <td>Full Time</td>\n",
       "      <td>2.4</td>\n",
       "    </tr>\n",
       "    <tr>\n",
       "      <th>299999</th>\n",
       "      <td>Karen Delgado</td>\n",
       "      <td>James and Sons</td>\n",
       "      <td>Actuary</td>\n",
       "      <td>New Russellton</td>\n",
       "      <td>United Kingdom</td>\n",
       "      <td>575770</td>\n",
       "      <td>Intern</td>\n",
       "      <td>3.3</td>\n",
       "    </tr>\n",
       "  </tbody>\n",
       "</table>\n",
       "<p>299990 rows × 8 columns</p>\n",
       "</div>"
      ],
      "text/plain": [
       "                   Name                    Company_Name   \n",
       "10      Victoria Sutton         White, Mcclain and Cobb  \\\n",
       "11      Timothy Johnson        Baker, Allen and Edwards   \n",
       "12       Tiffany Galvan  Campos, Reynolds and Mccormick   \n",
       "13          David Duran                   Nichols-James   \n",
       "14           Julie Cook                    Matthews Inc   \n",
       "...                 ...                             ...   \n",
       "299995       Nancy Neal                Bullock-Carrillo   \n",
       "299996   Michele Butler    Johnston, Fleming and Tanner   \n",
       "299997      Lynn Wilson                   Nichols-James   \n",
       "299998    Lindsey Keith                   Nichols-James   \n",
       "299999    Karen Delgado                  James and Sons   \n",
       "\n",
       "                             Employee_Job_Title      Employee_City   \n",
       "10                              Naval architect          Whiteside  \\\n",
       "11                   Regulatory affairs officer       Ricardomouth   \n",
       "12      Diplomatic Services operational officer     West Jamesview   \n",
       "13                 Investment banker, corporate     New Russellton   \n",
       "14                              Equities trader     New Russellton   \n",
       "...                                         ...                ...   \n",
       "299995                              Optometrist  North Melissafurt   \n",
       "299996                            Administrator         Aliciafort   \n",
       "299997                            Administrator   New Cindychester   \n",
       "299998                                     Make       Whitakerbury   \n",
       "299999                                  Actuary     New Russellton   \n",
       "\n",
       "       Employee_Country  Employee_Salary Employment_Status  Employee_Rating  \n",
       "10               Poland           656260         Full Time              4.9  \n",
       "11              Georgia           503610         Full Time              2.9  \n",
       "12                Niger           786430            Intern              3.6  \n",
       "13              Georgia           910210         Full Time              4.9  \n",
       "14          Puerto Rico           328860         Full Time              4.8  \n",
       "...                 ...              ...               ...              ...  \n",
       "299995            Samoa            99670            Intern              3.3  \n",
       "299996             Cuba           949580            Intern              2.6  \n",
       "299997          Bolivia           802830         Full Time              0.6  \n",
       "299998   Western Sahara           257240         Full Time              2.4  \n",
       "299999   United Kingdom           575770            Intern              3.3  \n",
       "\n",
       "[299990 rows x 8 columns]"
      ]
     },
     "execution_count": 28,
     "metadata": {},
     "output_type": "execute_result"
    }
   ],
   "source": [
    "df.iloc[10:]"
   ]
  },
  {
   "cell_type": "markdown",
   "metadata": {
    "cell_id": "3ec1198fe6b94e9aa2062e5f756f39f2",
    "deepnote_cell_type": "text-cell-h3",
    "formattedRanges": [],
    "is_collapsed": false,
    "tags": []
   },
   "source": [
    "### 80. Select every row up to the 10th row and select all columns. "
   ]
  },
  {
   "cell_type": "code",
   "execution_count": 29,
   "metadata": {
    "cell_id": "4b81fb81aee340ad90c37d995f5b59cc",
    "deepnote_cell_height": 61,
    "deepnote_cell_type": "code",
    "tags": []
   },
   "outputs": [
    {
     "data": {
      "text/html": [
       "<div>\n",
       "<style scoped>\n",
       "    .dataframe tbody tr th:only-of-type {\n",
       "        vertical-align: middle;\n",
       "    }\n",
       "\n",
       "    .dataframe tbody tr th {\n",
       "        vertical-align: top;\n",
       "    }\n",
       "\n",
       "    .dataframe thead th {\n",
       "        text-align: right;\n",
       "    }\n",
       "</style>\n",
       "<table border=\"1\" class=\"dataframe\">\n",
       "  <thead>\n",
       "    <tr style=\"text-align: right;\">\n",
       "      <th></th>\n",
       "      <th>Name</th>\n",
       "      <th>Company_Name</th>\n",
       "      <th>Employee_Job_Title</th>\n",
       "      <th>Employee_City</th>\n",
       "      <th>Employee_Country</th>\n",
       "      <th>Employee_Salary</th>\n",
       "      <th>Employment_Status</th>\n",
       "      <th>Employee_Rating</th>\n",
       "    </tr>\n",
       "  </thead>\n",
       "  <tbody>\n",
       "    <tr>\n",
       "      <th>0</th>\n",
       "      <td>Spencer Adkins</td>\n",
       "      <td>James and Sons</td>\n",
       "      <td>Equities trader</td>\n",
       "      <td>New Russellton</td>\n",
       "      <td>Palestinian Territory</td>\n",
       "      <td>321520</td>\n",
       "      <td>Full Time</td>\n",
       "      <td>3.9</td>\n",
       "    </tr>\n",
       "    <tr>\n",
       "      <th>1</th>\n",
       "      <td>Julie Morton</td>\n",
       "      <td>Nichols-James</td>\n",
       "      <td>Diplomatic Services operational officer</td>\n",
       "      <td>North Melissafurt</td>\n",
       "      <td>Marshall Islands</td>\n",
       "      <td>589090</td>\n",
       "      <td>Full Time</td>\n",
       "      <td>4.3</td>\n",
       "    </tr>\n",
       "    <tr>\n",
       "      <th>2</th>\n",
       "      <td>Matthew Hall</td>\n",
       "      <td>Scott Inc</td>\n",
       "      <td>Regulatory affairs officer</td>\n",
       "      <td>Wardfort</td>\n",
       "      <td>Anguilla</td>\n",
       "      <td>630890</td>\n",
       "      <td>Full Time</td>\n",
       "      <td>3.1</td>\n",
       "    </tr>\n",
       "    <tr>\n",
       "      <th>3</th>\n",
       "      <td>Brad Scott</td>\n",
       "      <td>Johnston, Fleming and Tanner</td>\n",
       "      <td>Production engineer</td>\n",
       "      <td>West Jamesview</td>\n",
       "      <td>Syrian Arab Republic</td>\n",
       "      <td>116400</td>\n",
       "      <td>Full Time</td>\n",
       "      <td>3.1</td>\n",
       "    </tr>\n",
       "    <tr>\n",
       "      <th>4</th>\n",
       "      <td>Theresa Owens</td>\n",
       "      <td>Baker, Allen and Edwards</td>\n",
       "      <td>Production engineer</td>\n",
       "      <td>Whiteside</td>\n",
       "      <td>Dominica</td>\n",
       "      <td>523499</td>\n",
       "      <td>Full Time</td>\n",
       "      <td>4.8</td>\n",
       "    </tr>\n",
       "    <tr>\n",
       "      <th>5</th>\n",
       "      <td>Vanessa Allen</td>\n",
       "      <td>Andrade LLC</td>\n",
       "      <td>Make</td>\n",
       "      <td>Ricardomouth</td>\n",
       "      <td>Mali</td>\n",
       "      <td>850140</td>\n",
       "      <td>Full Time</td>\n",
       "      <td>2.6</td>\n",
       "    </tr>\n",
       "    <tr>\n",
       "      <th>6</th>\n",
       "      <td>Kelly Brown</td>\n",
       "      <td>Andrade LLC</td>\n",
       "      <td>Naval architect</td>\n",
       "      <td>Wardfort</td>\n",
       "      <td>Aruba</td>\n",
       "      <td>711410</td>\n",
       "      <td>Full Time</td>\n",
       "      <td>2.0</td>\n",
       "    </tr>\n",
       "    <tr>\n",
       "      <th>7</th>\n",
       "      <td>Vicki Beard</td>\n",
       "      <td>Matthews Inc</td>\n",
       "      <td>Diplomatic Services operational officer</td>\n",
       "      <td>Kristaburgh</td>\n",
       "      <td>Western Sahara</td>\n",
       "      <td>777000</td>\n",
       "      <td>Full Time</td>\n",
       "      <td>3.3</td>\n",
       "    </tr>\n",
       "    <tr>\n",
       "      <th>8</th>\n",
       "      <td>Lisa French</td>\n",
       "      <td>Taylor-Ramos</td>\n",
       "      <td>Radiographer, therapeutic</td>\n",
       "      <td>West Jamesview</td>\n",
       "      <td>Kuwait</td>\n",
       "      <td>870580</td>\n",
       "      <td>Full Time</td>\n",
       "      <td>1.3</td>\n",
       "    </tr>\n",
       "    <tr>\n",
       "      <th>9</th>\n",
       "      <td>Michael Edwards</td>\n",
       "      <td>Campos, Reynolds and Mccormick</td>\n",
       "      <td>Ergonomist</td>\n",
       "      <td>New Cindychester</td>\n",
       "      <td>Lao People's Democratic Republic</td>\n",
       "      <td>516950</td>\n",
       "      <td>Full Time</td>\n",
       "      <td>2.3</td>\n",
       "    </tr>\n",
       "  </tbody>\n",
       "</table>\n",
       "</div>"
      ],
      "text/plain": [
       "              Name                    Company_Name   \n",
       "0   Spencer Adkins                  James and Sons  \\\n",
       "1     Julie Morton                   Nichols-James   \n",
       "2     Matthew Hall                       Scott Inc   \n",
       "3       Brad Scott    Johnston, Fleming and Tanner   \n",
       "4    Theresa Owens        Baker, Allen and Edwards   \n",
       "5    Vanessa Allen                     Andrade LLC   \n",
       "6      Kelly Brown                     Andrade LLC   \n",
       "7      Vicki Beard                    Matthews Inc   \n",
       "8      Lisa French                    Taylor-Ramos   \n",
       "9  Michael Edwards  Campos, Reynolds and Mccormick   \n",
       "\n",
       "                        Employee_Job_Title      Employee_City   \n",
       "0                          Equities trader     New Russellton  \\\n",
       "1  Diplomatic Services operational officer  North Melissafurt   \n",
       "2               Regulatory affairs officer           Wardfort   \n",
       "3                      Production engineer     West Jamesview   \n",
       "4                      Production engineer          Whiteside   \n",
       "5                                     Make       Ricardomouth   \n",
       "6                          Naval architect           Wardfort   \n",
       "7  Diplomatic Services operational officer        Kristaburgh   \n",
       "8                Radiographer, therapeutic     West Jamesview   \n",
       "9                               Ergonomist   New Cindychester   \n",
       "\n",
       "                   Employee_Country  Employee_Salary Employment_Status   \n",
       "0             Palestinian Territory           321520         Full Time  \\\n",
       "1                  Marshall Islands           589090         Full Time   \n",
       "2                          Anguilla           630890         Full Time   \n",
       "3              Syrian Arab Republic           116400         Full Time   \n",
       "4                          Dominica           523499         Full Time   \n",
       "5                              Mali           850140         Full Time   \n",
       "6                             Aruba           711410         Full Time   \n",
       "7                    Western Sahara           777000         Full Time   \n",
       "8                            Kuwait           870580         Full Time   \n",
       "9  Lao People's Democratic Republic           516950         Full Time   \n",
       "\n",
       "   Employee_Rating  \n",
       "0              3.9  \n",
       "1              4.3  \n",
       "2              3.1  \n",
       "3              3.1  \n",
       "4              4.8  \n",
       "5              2.6  \n",
       "6              2.0  \n",
       "7              3.3  \n",
       "8              1.3  \n",
       "9              2.3  "
      ]
     },
     "execution_count": 29,
     "metadata": {},
     "output_type": "execute_result"
    }
   ],
   "source": [
    "df.head(10)"
   ]
  },
  {
   "cell_type": "markdown",
   "metadata": {
    "cell_id": "a801a1ea514346a28e9eb6018946983c",
    "deepnote_cell_type": "text-cell-h3",
    "formattedRanges": [],
    "is_collapsed": false,
    "tags": []
   },
   "source": [
    "### 81. Select rows with employee rating > 4.5. "
   ]
  },
  {
   "cell_type": "code",
   "execution_count": 30,
   "metadata": {
    "cell_id": "45e9e9a8acf542b7bd5ec3b16767ada0",
    "deepnote_cell_height": 61,
    "deepnote_cell_type": "code",
    "tags": []
   },
   "outputs": [
    {
     "data": {
      "text/html": [
       "<div>\n",
       "<style scoped>\n",
       "    .dataframe tbody tr th:only-of-type {\n",
       "        vertical-align: middle;\n",
       "    }\n",
       "\n",
       "    .dataframe tbody tr th {\n",
       "        vertical-align: top;\n",
       "    }\n",
       "\n",
       "    .dataframe thead th {\n",
       "        text-align: right;\n",
       "    }\n",
       "</style>\n",
       "<table border=\"1\" class=\"dataframe\">\n",
       "  <thead>\n",
       "    <tr style=\"text-align: right;\">\n",
       "      <th></th>\n",
       "      <th>Name</th>\n",
       "      <th>Company_Name</th>\n",
       "      <th>Employee_Job_Title</th>\n",
       "      <th>Employee_City</th>\n",
       "      <th>Employee_Country</th>\n",
       "      <th>Employee_Salary</th>\n",
       "      <th>Employment_Status</th>\n",
       "      <th>Employee_Rating</th>\n",
       "    </tr>\n",
       "  </thead>\n",
       "  <tbody>\n",
       "    <tr>\n",
       "      <th>4</th>\n",
       "      <td>Theresa Owens</td>\n",
       "      <td>Baker, Allen and Edwards</td>\n",
       "      <td>Production engineer</td>\n",
       "      <td>Whiteside</td>\n",
       "      <td>Dominica</td>\n",
       "      <td>523499</td>\n",
       "      <td>Full Time</td>\n",
       "      <td>4.8</td>\n",
       "    </tr>\n",
       "    <tr>\n",
       "      <th>10</th>\n",
       "      <td>Victoria Sutton</td>\n",
       "      <td>White, Mcclain and Cobb</td>\n",
       "      <td>Naval architect</td>\n",
       "      <td>Whiteside</td>\n",
       "      <td>Poland</td>\n",
       "      <td>656260</td>\n",
       "      <td>Full Time</td>\n",
       "      <td>4.9</td>\n",
       "    </tr>\n",
       "    <tr>\n",
       "      <th>13</th>\n",
       "      <td>David Duran</td>\n",
       "      <td>Nichols-James</td>\n",
       "      <td>Investment banker, corporate</td>\n",
       "      <td>New Russellton</td>\n",
       "      <td>Georgia</td>\n",
       "      <td>910210</td>\n",
       "      <td>Full Time</td>\n",
       "      <td>4.9</td>\n",
       "    </tr>\n",
       "    <tr>\n",
       "      <th>14</th>\n",
       "      <td>Julie Cook</td>\n",
       "      <td>Matthews Inc</td>\n",
       "      <td>Equities trader</td>\n",
       "      <td>New Russellton</td>\n",
       "      <td>Puerto Rico</td>\n",
       "      <td>328860</td>\n",
       "      <td>Full Time</td>\n",
       "      <td>4.8</td>\n",
       "    </tr>\n",
       "    <tr>\n",
       "      <th>49</th>\n",
       "      <td>Gerald Santiago</td>\n",
       "      <td>Thomas-Spencer</td>\n",
       "      <td>Garment/textile technologist</td>\n",
       "      <td>Kristaburgh</td>\n",
       "      <td>El Salvador</td>\n",
       "      <td>873320</td>\n",
       "      <td>Full Time</td>\n",
       "      <td>4.7</td>\n",
       "    </tr>\n",
       "    <tr>\n",
       "      <th>...</th>\n",
       "      <td>...</td>\n",
       "      <td>...</td>\n",
       "      <td>...</td>\n",
       "      <td>...</td>\n",
       "      <td>...</td>\n",
       "      <td>...</td>\n",
       "      <td>...</td>\n",
       "      <td>...</td>\n",
       "    </tr>\n",
       "    <tr>\n",
       "      <th>299910</th>\n",
       "      <td>Daniel Johnson</td>\n",
       "      <td>Baker, Allen and Edwards</td>\n",
       "      <td>Energy manager</td>\n",
       "      <td>Wardfort</td>\n",
       "      <td>American Samoa</td>\n",
       "      <td>452970</td>\n",
       "      <td>Full Time</td>\n",
       "      <td>4.7</td>\n",
       "    </tr>\n",
       "    <tr>\n",
       "      <th>299952</th>\n",
       "      <td>Joshua Knight</td>\n",
       "      <td>Nichols-James</td>\n",
       "      <td>Sales promotion account executive</td>\n",
       "      <td>Wardfort</td>\n",
       "      <td>Mali</td>\n",
       "      <td>175450</td>\n",
       "      <td>Intern</td>\n",
       "      <td>4.9</td>\n",
       "    </tr>\n",
       "    <tr>\n",
       "      <th>299957</th>\n",
       "      <td>Martha Phillips</td>\n",
       "      <td>Matthews Inc</td>\n",
       "      <td>Naval architect</td>\n",
       "      <td>Wardfort</td>\n",
       "      <td>Somalia</td>\n",
       "      <td>485270</td>\n",
       "      <td>Full Time</td>\n",
       "      <td>4.8</td>\n",
       "    </tr>\n",
       "    <tr>\n",
       "      <th>299973</th>\n",
       "      <td>Doris Miller</td>\n",
       "      <td>Andrade LLC</td>\n",
       "      <td>Armed forces logistics/support/administrative ...</td>\n",
       "      <td>Wardfort</td>\n",
       "      <td>Kazakhstan</td>\n",
       "      <td>943340</td>\n",
       "      <td>Intern</td>\n",
       "      <td>5.0</td>\n",
       "    </tr>\n",
       "    <tr>\n",
       "      <th>299981</th>\n",
       "      <td>Herbert Bailey</td>\n",
       "      <td>Nichols-James</td>\n",
       "      <td>Radiographer, therapeutic</td>\n",
       "      <td>New Cindychester</td>\n",
       "      <td>Guernsey</td>\n",
       "      <td>165550</td>\n",
       "      <td>Full Time</td>\n",
       "      <td>4.8</td>\n",
       "    </tr>\n",
       "  </tbody>\n",
       "</table>\n",
       "<p>26978 rows × 8 columns</p>\n",
       "</div>"
      ],
      "text/plain": [
       "                   Name              Company_Name   \n",
       "4         Theresa Owens  Baker, Allen and Edwards  \\\n",
       "10      Victoria Sutton   White, Mcclain and Cobb   \n",
       "13          David Duran             Nichols-James   \n",
       "14           Julie Cook              Matthews Inc   \n",
       "49      Gerald Santiago            Thomas-Spencer   \n",
       "...                 ...                       ...   \n",
       "299910   Daniel Johnson  Baker, Allen and Edwards   \n",
       "299952    Joshua Knight             Nichols-James   \n",
       "299957  Martha Phillips              Matthews Inc   \n",
       "299973     Doris Miller               Andrade LLC   \n",
       "299981   Herbert Bailey             Nichols-James   \n",
       "\n",
       "                                       Employee_Job_Title     Employee_City   \n",
       "4                                     Production engineer         Whiteside  \\\n",
       "10                                        Naval architect         Whiteside   \n",
       "13                           Investment banker, corporate    New Russellton   \n",
       "14                                        Equities trader    New Russellton   \n",
       "49                           Garment/textile technologist       Kristaburgh   \n",
       "...                                                   ...               ...   \n",
       "299910                                     Energy manager          Wardfort   \n",
       "299952                  Sales promotion account executive          Wardfort   \n",
       "299957                                    Naval architect          Wardfort   \n",
       "299973  Armed forces logistics/support/administrative ...          Wardfort   \n",
       "299981                          Radiographer, therapeutic  New Cindychester   \n",
       "\n",
       "       Employee_Country  Employee_Salary Employment_Status  Employee_Rating  \n",
       "4              Dominica           523499         Full Time              4.8  \n",
       "10               Poland           656260         Full Time              4.9  \n",
       "13              Georgia           910210         Full Time              4.9  \n",
       "14          Puerto Rico           328860         Full Time              4.8  \n",
       "49          El Salvador           873320         Full Time              4.7  \n",
       "...                 ...              ...               ...              ...  \n",
       "299910   American Samoa           452970         Full Time              4.7  \n",
       "299952             Mali           175450            Intern              4.9  \n",
       "299957          Somalia           485270         Full Time              4.8  \n",
       "299973       Kazakhstan           943340            Intern              5.0  \n",
       "299981         Guernsey           165550         Full Time              4.8  \n",
       "\n",
       "[26978 rows x 8 columns]"
      ]
     },
     "execution_count": 30,
     "metadata": {},
     "output_type": "execute_result"
    }
   ],
   "source": [
    "df[df[\"Employee_Rating\"]>4.5]"
   ]
  },
  {
   "cell_type": "markdown",
   "metadata": {
    "cell_id": "9a5e35dfbcfa40b2b6557811f4be7c75",
    "deepnote_cell_type": "text-cell-h3",
    "formattedRanges": [],
    "is_collapsed": false,
    "tags": []
   },
   "source": [
    "### 82. Select rows with employee rating > 4.5 and < 4.8. "
   ]
  },
  {
   "cell_type": "code",
   "execution_count": 31,
   "metadata": {
    "cell_id": "c7df09c32caa4bd49e4a9a23437d1c93",
    "deepnote_cell_height": 61,
    "deepnote_cell_type": "code",
    "tags": []
   },
   "outputs": [
    {
     "data": {
      "text/html": [
       "<div>\n",
       "<style scoped>\n",
       "    .dataframe tbody tr th:only-of-type {\n",
       "        vertical-align: middle;\n",
       "    }\n",
       "\n",
       "    .dataframe tbody tr th {\n",
       "        vertical-align: top;\n",
       "    }\n",
       "\n",
       "    .dataframe thead th {\n",
       "        text-align: right;\n",
       "    }\n",
       "</style>\n",
       "<table border=\"1\" class=\"dataframe\">\n",
       "  <thead>\n",
       "    <tr style=\"text-align: right;\">\n",
       "      <th></th>\n",
       "      <th>Name</th>\n",
       "      <th>Company_Name</th>\n",
       "      <th>Employee_Job_Title</th>\n",
       "      <th>Employee_City</th>\n",
       "      <th>Employee_Country</th>\n",
       "      <th>Employee_Salary</th>\n",
       "      <th>Employment_Status</th>\n",
       "      <th>Employee_Rating</th>\n",
       "    </tr>\n",
       "  </thead>\n",
       "  <tbody>\n",
       "    <tr>\n",
       "      <th>49</th>\n",
       "      <td>Gerald Santiago</td>\n",
       "      <td>Thomas-Spencer</td>\n",
       "      <td>Garment/textile technologist</td>\n",
       "      <td>Kristaburgh</td>\n",
       "      <td>El Salvador</td>\n",
       "      <td>873320</td>\n",
       "      <td>Full Time</td>\n",
       "      <td>4.7</td>\n",
       "    </tr>\n",
       "    <tr>\n",
       "      <th>88</th>\n",
       "      <td>Julie Richard</td>\n",
       "      <td>Bullock-Carrillo</td>\n",
       "      <td>Naval architect</td>\n",
       "      <td>Wardfort</td>\n",
       "      <td>Burundi</td>\n",
       "      <td>222850</td>\n",
       "      <td>Full Time</td>\n",
       "      <td>4.6</td>\n",
       "    </tr>\n",
       "    <tr>\n",
       "      <th>94</th>\n",
       "      <td>Natasha Harmon</td>\n",
       "      <td>Matthews Inc</td>\n",
       "      <td>Radiographer, therapeutic</td>\n",
       "      <td>West Jamesview</td>\n",
       "      <td>Bolivia</td>\n",
       "      <td>790000</td>\n",
       "      <td>Full Time</td>\n",
       "      <td>4.7</td>\n",
       "    </tr>\n",
       "    <tr>\n",
       "      <th>119</th>\n",
       "      <td>Jason Parrish</td>\n",
       "      <td>Andrade LLC</td>\n",
       "      <td>Garment/textile technologist</td>\n",
       "      <td>Aliciafort</td>\n",
       "      <td>Cote d'Ivoire</td>\n",
       "      <td>581130</td>\n",
       "      <td>Full Time</td>\n",
       "      <td>4.7</td>\n",
       "    </tr>\n",
       "    <tr>\n",
       "      <th>129</th>\n",
       "      <td>Connie Coleman</td>\n",
       "      <td>Andrade LLC</td>\n",
       "      <td>Optometrist</td>\n",
       "      <td>Kristaburgh</td>\n",
       "      <td>Indonesia</td>\n",
       "      <td>899260</td>\n",
       "      <td>Full Time</td>\n",
       "      <td>4.7</td>\n",
       "    </tr>\n",
       "    <tr>\n",
       "      <th>...</th>\n",
       "      <td>...</td>\n",
       "      <td>...</td>\n",
       "      <td>...</td>\n",
       "      <td>...</td>\n",
       "      <td>...</td>\n",
       "      <td>...</td>\n",
       "      <td>...</td>\n",
       "      <td>...</td>\n",
       "    </tr>\n",
       "    <tr>\n",
       "      <th>299757</th>\n",
       "      <td>Melissa Perry</td>\n",
       "      <td>Marshall-Holloway</td>\n",
       "      <td>Trading standards officer</td>\n",
       "      <td>Whiteside</td>\n",
       "      <td>Russian Federation</td>\n",
       "      <td>712460</td>\n",
       "      <td>Full Time</td>\n",
       "      <td>4.7</td>\n",
       "    </tr>\n",
       "    <tr>\n",
       "      <th>299765</th>\n",
       "      <td>Jeremy Ramirez</td>\n",
       "      <td>Thomas-Spencer</td>\n",
       "      <td>Diplomatic Services operational officer</td>\n",
       "      <td>Ricardomouth</td>\n",
       "      <td>Netherlands</td>\n",
       "      <td>330640</td>\n",
       "      <td>Intern</td>\n",
       "      <td>4.6</td>\n",
       "    </tr>\n",
       "    <tr>\n",
       "      <th>299772</th>\n",
       "      <td>Adam Moss</td>\n",
       "      <td>Johnston, Fleming and Tanner</td>\n",
       "      <td>Garment/textile technologist</td>\n",
       "      <td>Whiteside</td>\n",
       "      <td>Lao People's Democratic Republic</td>\n",
       "      <td>298790</td>\n",
       "      <td>Intern</td>\n",
       "      <td>4.6</td>\n",
       "    </tr>\n",
       "    <tr>\n",
       "      <th>299820</th>\n",
       "      <td>Brandi Christian</td>\n",
       "      <td>James and Sons</td>\n",
       "      <td>Make</td>\n",
       "      <td>North Melissafurt</td>\n",
       "      <td>Palestinian Territory</td>\n",
       "      <td>503370</td>\n",
       "      <td>Intern</td>\n",
       "      <td>4.6</td>\n",
       "    </tr>\n",
       "    <tr>\n",
       "      <th>299910</th>\n",
       "      <td>Daniel Johnson</td>\n",
       "      <td>Baker, Allen and Edwards</td>\n",
       "      <td>Energy manager</td>\n",
       "      <td>Wardfort</td>\n",
       "      <td>American Samoa</td>\n",
       "      <td>452970</td>\n",
       "      <td>Full Time</td>\n",
       "      <td>4.7</td>\n",
       "    </tr>\n",
       "  </tbody>\n",
       "</table>\n",
       "<p>11866 rows × 8 columns</p>\n",
       "</div>"
      ],
      "text/plain": [
       "                    Name                  Company_Name   \n",
       "49       Gerald Santiago                Thomas-Spencer  \\\n",
       "88         Julie Richard              Bullock-Carrillo   \n",
       "94        Natasha Harmon                  Matthews Inc   \n",
       "119        Jason Parrish                   Andrade LLC   \n",
       "129       Connie Coleman                   Andrade LLC   \n",
       "...                  ...                           ...   \n",
       "299757     Melissa Perry             Marshall-Holloway   \n",
       "299765    Jeremy Ramirez                Thomas-Spencer   \n",
       "299772         Adam Moss  Johnston, Fleming and Tanner   \n",
       "299820  Brandi Christian                James and Sons   \n",
       "299910    Daniel Johnson      Baker, Allen and Edwards   \n",
       "\n",
       "                             Employee_Job_Title      Employee_City   \n",
       "49                 Garment/textile technologist        Kristaburgh  \\\n",
       "88                              Naval architect           Wardfort   \n",
       "94                    Radiographer, therapeutic     West Jamesview   \n",
       "119                Garment/textile technologist         Aliciafort   \n",
       "129                                 Optometrist        Kristaburgh   \n",
       "...                                         ...                ...   \n",
       "299757                Trading standards officer          Whiteside   \n",
       "299765  Diplomatic Services operational officer       Ricardomouth   \n",
       "299772             Garment/textile technologist          Whiteside   \n",
       "299820                                     Make  North Melissafurt   \n",
       "299910                           Energy manager           Wardfort   \n",
       "\n",
       "                        Employee_Country  Employee_Salary Employment_Status   \n",
       "49                           El Salvador           873320         Full Time  \\\n",
       "88                               Burundi           222850         Full Time   \n",
       "94                               Bolivia           790000         Full Time   \n",
       "119                        Cote d'Ivoire           581130         Full Time   \n",
       "129                            Indonesia           899260         Full Time   \n",
       "...                                  ...              ...               ...   \n",
       "299757                Russian Federation           712460         Full Time   \n",
       "299765                       Netherlands           330640            Intern   \n",
       "299772  Lao People's Democratic Republic           298790            Intern   \n",
       "299820             Palestinian Territory           503370            Intern   \n",
       "299910                    American Samoa           452970         Full Time   \n",
       "\n",
       "        Employee_Rating  \n",
       "49                  4.7  \n",
       "88                  4.6  \n",
       "94                  4.7  \n",
       "119                 4.7  \n",
       "129                 4.7  \n",
       "...                 ...  \n",
       "299757              4.7  \n",
       "299765              4.6  \n",
       "299772              4.6  \n",
       "299820              4.6  \n",
       "299910              4.7  \n",
       "\n",
       "[11866 rows x 8 columns]"
      ]
     },
     "execution_count": 31,
     "metadata": {},
     "output_type": "execute_result"
    }
   ],
   "source": [
    "df[(df[\"Employee_Rating\"]>4.5) & (df[\"Employee_Rating\"]<4.8)]\n"
   ]
  },
  {
   "cell_type": "markdown",
   "metadata": {
    "cell_id": "406a12d1db7e47beaafefdfc26f61520",
    "deepnote_cell_type": "text-cell-h3",
    "formattedRanges": [],
    "is_collapsed": false,
    "tags": []
   },
   "source": [
    "### 83. Print the name of the company with the maximum employees having rating > 4."
   ]
  },
  {
   "cell_type": "code",
   "execution_count": 35,
   "metadata": {
    "cell_id": "4577012673ec4848a27da7b530b1ed15",
    "deepnote_cell_height": 61,
    "deepnote_cell_type": "code",
    "tags": []
   },
   "outputs": [
    {
     "data": {
      "text/plain": [
       "'Matthews Inc'"
      ]
     },
     "execution_count": 35,
     "metadata": {},
     "output_type": "execute_result"
    }
   ],
   "source": [
    "ans = df[df[\"Employee_Rating\"]>4]\n",
    "ans.groupby(\"Company_Name\")[\"Employee_Rating\"].count().idxmax()"
   ]
  },
  {
   "cell_type": "markdown",
   "metadata": {
    "cell_id": "a95bdafe3e604b97b361be2b0f8e7e87",
    "deepnote_cell_type": "text-cell-h3",
    "formattedRanges": [],
    "is_collapsed": false,
    "tags": []
   },
   "source": [
    "### 84. Print the rating of the employee named 'Julie Morton'."
   ]
  },
  {
   "cell_type": "code",
   "execution_count": 36,
   "metadata": {
    "cell_id": "c6ecd8b591ee4d22a72fb82c00c30519",
    "deepnote_cell_height": 61,
    "deepnote_cell_type": "code",
    "tags": []
   },
   "outputs": [
    {
     "data": {
      "text/html": [
       "<div>\n",
       "<style scoped>\n",
       "    .dataframe tbody tr th:only-of-type {\n",
       "        vertical-align: middle;\n",
       "    }\n",
       "\n",
       "    .dataframe tbody tr th {\n",
       "        vertical-align: top;\n",
       "    }\n",
       "\n",
       "    .dataframe thead th {\n",
       "        text-align: right;\n",
       "    }\n",
       "</style>\n",
       "<table border=\"1\" class=\"dataframe\">\n",
       "  <thead>\n",
       "    <tr style=\"text-align: right;\">\n",
       "      <th></th>\n",
       "      <th>Employee_Rating</th>\n",
       "    </tr>\n",
       "  </thead>\n",
       "  <tbody>\n",
       "    <tr>\n",
       "      <th>1</th>\n",
       "      <td>4.3</td>\n",
       "    </tr>\n",
       "  </tbody>\n",
       "</table>\n",
       "</div>"
      ],
      "text/plain": [
       "   Employee_Rating\n",
       "1              4.3"
      ]
     },
     "execution_count": 36,
     "metadata": {},
     "output_type": "execute_result"
    }
   ],
   "source": [
    "df[df[\"Name\"]==\"Julie Morton\"][[\"Employee_Rating\"]]"
   ]
  },
  {
   "cell_type": "markdown",
   "metadata": {
    "cell_id": "6602e9acaeb748c795083a55a6178202",
    "deepnote_cell_type": "text-cell-h3",
    "formattedRanges": [],
    "is_collapsed": false,
    "tags": []
   },
   "source": [
    "### 85. Print the last 3rd entry in the column Employee_City"
   ]
  },
  {
   "cell_type": "code",
   "execution_count": 37,
   "metadata": {
    "cell_id": "e76d55dc278b4c7988892f7901283949",
    "deepnote_cell_height": 61,
    "deepnote_cell_type": "code",
    "tags": []
   },
   "outputs": [
    {
     "data": {
      "text/plain": [
       "299997    New Cindychester\n",
       "299998        Whitakerbury\n",
       "299999      New Russellton\n",
       "Name: Employee_City, dtype: object"
      ]
     },
     "execution_count": 37,
     "metadata": {},
     "output_type": "execute_result"
    }
   ],
   "source": [
    "df.tail(3)[\"Employee_City\"]"
   ]
  },
  {
   "cell_type": "markdown",
   "metadata": {
    "cell_id": "81cf0e6e6fb24b9f92d40bf80639479a",
    "deepnote_cell_type": "text-cell-h3",
    "formattedRanges": [],
    "is_collapsed": false,
    "tags": []
   },
   "source": [
    "### 86. Print the Employee_City column as a list"
   ]
  },
  {
   "cell_type": "code",
   "execution_count": 38,
   "metadata": {
    "cell_id": "136e1d70975c41e7b635d1b0e5f3258c",
    "deepnote_cell_height": 61,
    "deepnote_cell_type": "code",
    "tags": []
   },
   "outputs": [
    {
     "data": {
      "text/plain": [
       "['New Russellton',\n",
       " 'North Melissafurt',\n",
       " 'Wardfort',\n",
       " 'West Jamesview',\n",
       " 'Whiteside',\n",
       " 'Ricardomouth',\n",
       " 'Wardfort',\n",
       " 'Kristaburgh',\n",
       " 'West Jamesview',\n",
       " 'New Cindychester',\n",
       " 'Whiteside',\n",
       " 'Ricardomouth',\n",
       " 'West Jamesview',\n",
       " 'New Russellton',\n",
       " 'New Russellton',\n",
       " 'Ricardomouth',\n",
       " 'North Melissafurt',\n",
       " 'Whitakerbury',\n",
       " 'New Russellton',\n",
       " 'New Russellton',\n",
       " 'Aliciafort',\n",
       " 'Wardfort',\n",
       " 'Kristaburgh',\n",
       " 'Aliciafort',\n",
       " 'Wardfort',\n",
       " 'Kristaburgh',\n",
       " 'Whiteside',\n",
       " 'Wardfort',\n",
       " 'West Jamesview',\n",
       " 'West Jamesview',\n",
       " 'New Russellton',\n",
       " 'Wardfort',\n",
       " 'Aliciafort',\n",
       " 'North Melissafurt',\n",
       " 'West Jamesview',\n",
       " 'New Cindychester',\n",
       " 'Wardfort',\n",
       " 'New Russellton',\n",
       " 'New Russellton',\n",
       " 'Kristaburgh',\n",
       " 'Kristaburgh',\n",
       " 'West Jamesview',\n",
       " 'Ricardomouth',\n",
       " 'Whiteside',\n",
       " 'Ricardomouth',\n",
       " 'North Melissafurt',\n",
       " 'Whitakerbury',\n",
       " 'Whitakerbury',\n",
       " 'Whiteside',\n",
       " 'Kristaburgh',\n",
       " 'Ricardomouth',\n",
       " 'New Russellton',\n",
       " 'Ricardomouth',\n",
       " 'Aliciafort',\n",
       " 'Aliciafort',\n",
       " 'North Melissafurt',\n",
       " 'Whiteside',\n",
       " 'Kristaburgh',\n",
       " 'North Melissafurt',\n",
       " 'North Melissafurt',\n",
       " 'Whitakerbury',\n",
       " 'Whitakerbury',\n",
       " 'Whiteside',\n",
       " 'New Cindychester',\n",
       " 'Aliciafort',\n",
       " 'North Melissafurt',\n",
       " 'Aliciafort',\n",
       " 'Whiteside',\n",
       " 'Wardfort',\n",
       " 'Aliciafort',\n",
       " 'Wardfort',\n",
       " 'West Jamesview',\n",
       " 'New Cindychester',\n",
       " 'Aliciafort',\n",
       " 'Whiteside',\n",
       " 'Ricardomouth',\n",
       " 'Wardfort',\n",
       " 'New Cindychester',\n",
       " 'West Jamesview',\n",
       " 'Whiteside',\n",
       " 'Whitakerbury',\n",
       " 'New Cindychester',\n",
       " 'Wardfort',\n",
       " 'Kristaburgh',\n",
       " 'New Cindychester',\n",
       " 'Whitakerbury',\n",
       " 'Kristaburgh',\n",
       " 'Kristaburgh',\n",
       " 'Wardfort',\n",
       " 'Whitakerbury',\n",
       " 'Kristaburgh',\n",
       " 'Aliciafort',\n",
       " 'New Russellton',\n",
       " 'New Russellton',\n",
       " 'West Jamesview',\n",
       " 'New Russellton',\n",
       " 'West Jamesview',\n",
       " 'Wardfort',\n",
       " 'Whiteside',\n",
       " 'Whiteside',\n",
       " 'New Russellton',\n",
       " 'Kristaburgh',\n",
       " 'Kristaburgh',\n",
       " 'West Jamesview',\n",
       " 'Whitakerbury',\n",
       " 'Wardfort',\n",
       " 'Aliciafort',\n",
       " 'New Russellton',\n",
       " 'Whitakerbury',\n",
       " 'Ricardomouth',\n",
       " 'West Jamesview',\n",
       " 'New Cindychester',\n",
       " 'Whitakerbury',\n",
       " 'Whitakerbury',\n",
       " 'West Jamesview',\n",
       " 'New Russellton',\n",
       " 'New Cindychester',\n",
       " 'Aliciafort',\n",
       " 'West Jamesview',\n",
       " 'Aliciafort',\n",
       " 'Whiteside',\n",
       " 'West Jamesview',\n",
       " 'North Melissafurt',\n",
       " 'Whitakerbury',\n",
       " 'New Russellton',\n",
       " 'West Jamesview',\n",
       " 'Wardfort',\n",
       " 'Whiteside',\n",
       " 'Whitakerbury',\n",
       " 'Kristaburgh',\n",
       " 'New Cindychester',\n",
       " 'North Melissafurt',\n",
       " 'Aliciafort',\n",
       " 'Whiteside',\n",
       " 'Wardfort',\n",
       " 'Whitakerbury',\n",
       " 'Kristaburgh',\n",
       " 'New Cindychester',\n",
       " 'New Russellton',\n",
       " 'Kristaburgh',\n",
       " 'Whitakerbury',\n",
       " 'New Cindychester',\n",
       " 'Whitakerbury',\n",
       " 'West Jamesview',\n",
       " 'Whitakerbury',\n",
       " 'Wardfort',\n",
       " 'North Melissafurt',\n",
       " 'West Jamesview',\n",
       " 'Whitakerbury',\n",
       " 'West Jamesview',\n",
       " 'Ricardomouth',\n",
       " 'Aliciafort',\n",
       " 'Whitakerbury',\n",
       " 'Whiteside',\n",
       " 'Whiteside',\n",
       " 'West Jamesview',\n",
       " 'North Melissafurt',\n",
       " 'West Jamesview',\n",
       " 'Aliciafort',\n",
       " 'Whiteside',\n",
       " 'New Russellton',\n",
       " 'Whitakerbury',\n",
       " 'Whitakerbury',\n",
       " 'North Melissafurt',\n",
       " 'Kristaburgh',\n",
       " 'West Jamesview',\n",
       " 'Kristaburgh',\n",
       " 'Wardfort',\n",
       " 'New Russellton',\n",
       " 'West Jamesview',\n",
       " 'Whitakerbury',\n",
       " 'Aliciafort',\n",
       " 'New Cindychester',\n",
       " 'New Cindychester',\n",
       " 'Whiteside',\n",
       " 'Ricardomouth',\n",
       " 'New Cindychester',\n",
       " 'New Cindychester',\n",
       " 'Aliciafort',\n",
       " 'Kristaburgh',\n",
       " 'New Cindychester',\n",
       " 'North Melissafurt',\n",
       " 'Wardfort',\n",
       " 'Wardfort',\n",
       " 'Kristaburgh',\n",
       " 'New Cindychester',\n",
       " 'Wardfort',\n",
       " 'West Jamesview',\n",
       " 'North Melissafurt',\n",
       " 'Whiteside',\n",
       " 'New Russellton',\n",
       " 'New Russellton',\n",
       " 'Kristaburgh',\n",
       " 'Whiteside',\n",
       " 'New Cindychester',\n",
       " 'North Melissafurt',\n",
       " 'Whitakerbury',\n",
       " 'West Jamesview',\n",
       " 'Whiteside',\n",
       " 'Whiteside',\n",
       " 'Whitakerbury',\n",
       " 'New Russellton',\n",
       " 'Kristaburgh',\n",
       " 'Kristaburgh',\n",
       " 'West Jamesview',\n",
       " 'Whitakerbury',\n",
       " 'North Melissafurt',\n",
       " 'Kristaburgh',\n",
       " 'West Jamesview',\n",
       " 'Whiteside',\n",
       " 'North Melissafurt',\n",
       " 'New Cindychester',\n",
       " 'Wardfort',\n",
       " 'New Cindychester',\n",
       " 'Aliciafort',\n",
       " 'Kristaburgh',\n",
       " 'Aliciafort',\n",
       " 'Wardfort',\n",
       " 'Kristaburgh',\n",
       " 'North Melissafurt',\n",
       " 'West Jamesview',\n",
       " 'Ricardomouth',\n",
       " 'Aliciafort',\n",
       " 'Kristaburgh',\n",
       " 'North Melissafurt',\n",
       " 'Whiteside',\n",
       " 'Kristaburgh',\n",
       " 'North Melissafurt',\n",
       " 'New Russellton',\n",
       " 'Ricardomouth',\n",
       " 'New Russellton',\n",
       " 'New Russellton',\n",
       " 'North Melissafurt',\n",
       " 'New Russellton',\n",
       " 'Ricardomouth',\n",
       " 'North Melissafurt',\n",
       " 'Whitakerbury',\n",
       " 'Kristaburgh',\n",
       " 'New Cindychester',\n",
       " 'Wardfort',\n",
       " 'Ricardomouth',\n",
       " 'Aliciafort',\n",
       " 'New Cindychester',\n",
       " 'Kristaburgh',\n",
       " 'Wardfort',\n",
       " 'Wardfort',\n",
       " 'Aliciafort',\n",
       " 'Ricardomouth',\n",
       " 'Ricardomouth',\n",
       " 'New Russellton',\n",
       " 'New Russellton',\n",
       " 'Aliciafort',\n",
       " 'North Melissafurt',\n",
       " 'West Jamesview',\n",
       " 'Whiteside',\n",
       " 'Ricardomouth',\n",
       " 'West Jamesview',\n",
       " 'West Jamesview',\n",
       " 'West Jamesview',\n",
       " 'Whitakerbury',\n",
       " 'New Cindychester',\n",
       " 'New Russellton',\n",
       " 'Whitakerbury',\n",
       " 'Kristaburgh',\n",
       " 'North Melissafurt',\n",
       " 'Kristaburgh',\n",
       " 'North Melissafurt',\n",
       " 'New Russellton',\n",
       " 'Aliciafort',\n",
       " 'North Melissafurt',\n",
       " 'Aliciafort',\n",
       " 'Whiteside',\n",
       " 'New Russellton',\n",
       " 'Kristaburgh',\n",
       " 'Kristaburgh',\n",
       " 'North Melissafurt',\n",
       " 'Ricardomouth',\n",
       " 'Kristaburgh',\n",
       " 'Wardfort',\n",
       " 'New Russellton',\n",
       " 'Kristaburgh',\n",
       " 'Kristaburgh',\n",
       " 'Whitakerbury',\n",
       " 'Kristaburgh',\n",
       " 'Aliciafort',\n",
       " 'Kristaburgh',\n",
       " 'Ricardomouth',\n",
       " 'Whiteside',\n",
       " 'Aliciafort',\n",
       " 'Whitakerbury',\n",
       " 'New Cindychester',\n",
       " 'Whiteside',\n",
       " 'New Russellton',\n",
       " 'Whiteside',\n",
       " 'Ricardomouth',\n",
       " 'West Jamesview',\n",
       " 'New Russellton',\n",
       " 'West Jamesview',\n",
       " 'Whiteside',\n",
       " 'Ricardomouth',\n",
       " 'West Jamesview',\n",
       " 'Whiteside',\n",
       " 'Aliciafort',\n",
       " 'New Russellton',\n",
       " 'Kristaburgh',\n",
       " 'Wardfort',\n",
       " 'Wardfort',\n",
       " 'Whiteside',\n",
       " 'Whiteside',\n",
       " 'Whitakerbury',\n",
       " 'West Jamesview',\n",
       " 'Whitakerbury',\n",
       " 'New Cindychester',\n",
       " 'New Russellton',\n",
       " 'New Russellton',\n",
       " 'Ricardomouth',\n",
       " 'New Cindychester',\n",
       " 'Aliciafort',\n",
       " 'Whiteside',\n",
       " 'Ricardomouth',\n",
       " 'North Melissafurt',\n",
       " 'Kristaburgh',\n",
       " 'Ricardomouth',\n",
       " 'New Cindychester',\n",
       " 'Wardfort',\n",
       " 'New Cindychester',\n",
       " 'Whiteside',\n",
       " 'Kristaburgh',\n",
       " 'Ricardomouth',\n",
       " 'Kristaburgh',\n",
       " 'Whitakerbury',\n",
       " 'Aliciafort',\n",
       " 'Aliciafort',\n",
       " 'Whitakerbury',\n",
       " 'Kristaburgh',\n",
       " 'North Melissafurt',\n",
       " 'Kristaburgh',\n",
       " 'Kristaburgh',\n",
       " 'Whitakerbury',\n",
       " 'Kristaburgh',\n",
       " 'Aliciafort',\n",
       " 'Aliciafort',\n",
       " 'Kristaburgh',\n",
       " 'North Melissafurt',\n",
       " 'Kristaburgh',\n",
       " 'Aliciafort',\n",
       " 'Whitakerbury',\n",
       " 'West Jamesview',\n",
       " 'New Russellton',\n",
       " 'Ricardomouth',\n",
       " 'North Melissafurt',\n",
       " 'West Jamesview',\n",
       " 'Aliciafort',\n",
       " 'New Cindychester',\n",
       " 'Whitakerbury',\n",
       " 'Ricardomouth',\n",
       " 'New Russellton',\n",
       " 'Aliciafort',\n",
       " 'West Jamesview',\n",
       " 'New Cindychester',\n",
       " 'Ricardomouth',\n",
       " 'Aliciafort',\n",
       " 'Wardfort',\n",
       " 'Whiteside',\n",
       " 'Ricardomouth',\n",
       " 'Wardfort',\n",
       " 'New Cindychester',\n",
       " 'Wardfort',\n",
       " 'Wardfort',\n",
       " 'New Russellton',\n",
       " 'Kristaburgh',\n",
       " 'Whitakerbury',\n",
       " 'Wardfort',\n",
       " 'Aliciafort',\n",
       " 'New Cindychester',\n",
       " 'Whiteside',\n",
       " 'Whitakerbury',\n",
       " 'Whitakerbury',\n",
       " 'Ricardomouth',\n",
       " 'New Cindychester',\n",
       " 'Whitakerbury',\n",
       " 'New Cindychester',\n",
       " 'New Russellton',\n",
       " 'Whiteside',\n",
       " 'New Russellton',\n",
       " 'West Jamesview',\n",
       " 'North Melissafurt',\n",
       " 'Aliciafort',\n",
       " 'Kristaburgh',\n",
       " 'Ricardomouth',\n",
       " 'Wardfort',\n",
       " 'North Melissafurt',\n",
       " 'North Melissafurt',\n",
       " 'West Jamesview',\n",
       " 'West Jamesview',\n",
       " 'Whiteside',\n",
       " 'New Cindychester',\n",
       " 'West Jamesview',\n",
       " 'Wardfort',\n",
       " 'Whiteside',\n",
       " 'Whiteside',\n",
       " 'New Cindychester',\n",
       " 'Whitakerbury',\n",
       " 'Kristaburgh',\n",
       " 'Whiteside',\n",
       " 'Whitakerbury',\n",
       " 'Kristaburgh',\n",
       " 'New Cindychester',\n",
       " 'Aliciafort',\n",
       " 'Aliciafort',\n",
       " 'Wardfort',\n",
       " 'Whiteside',\n",
       " 'Whitakerbury',\n",
       " 'North Melissafurt',\n",
       " 'West Jamesview',\n",
       " 'Wardfort',\n",
       " 'West Jamesview',\n",
       " 'Kristaburgh',\n",
       " 'Whitakerbury',\n",
       " 'Wardfort',\n",
       " 'Whitakerbury',\n",
       " 'North Melissafurt',\n",
       " 'Wardfort',\n",
       " 'Kristaburgh',\n",
       " 'New Cindychester',\n",
       " 'West Jamesview',\n",
       " 'Aliciafort',\n",
       " 'Kristaburgh',\n",
       " 'Kristaburgh',\n",
       " 'Ricardomouth',\n",
       " 'North Melissafurt',\n",
       " 'Ricardomouth',\n",
       " 'Kristaburgh',\n",
       " 'Whiteside',\n",
       " 'North Melissafurt',\n",
       " 'Wardfort',\n",
       " 'Kristaburgh',\n",
       " 'New Russellton',\n",
       " 'Wardfort',\n",
       " 'Whitakerbury',\n",
       " 'New Cindychester',\n",
       " 'Ricardomouth',\n",
       " 'Ricardomouth',\n",
       " 'Kristaburgh',\n",
       " 'Aliciafort',\n",
       " 'Ricardomouth',\n",
       " 'Ricardomouth',\n",
       " 'Whiteside',\n",
       " 'New Cindychester',\n",
       " 'Whitakerbury',\n",
       " 'North Melissafurt',\n",
       " 'New Russellton',\n",
       " 'Aliciafort',\n",
       " 'Ricardomouth',\n",
       " 'Kristaburgh',\n",
       " 'Kristaburgh',\n",
       " 'Whiteside',\n",
       " 'Ricardomouth',\n",
       " 'Aliciafort',\n",
       " 'Whitakerbury',\n",
       " 'Wardfort',\n",
       " 'North Melissafurt',\n",
       " 'Wardfort',\n",
       " 'Ricardomouth',\n",
       " 'Wardfort',\n",
       " 'Whiteside',\n",
       " 'New Russellton',\n",
       " 'Whiteside',\n",
       " 'New Cindychester',\n",
       " 'Whiteside',\n",
       " 'Whitakerbury',\n",
       " 'Ricardomouth',\n",
       " 'New Cindychester',\n",
       " 'Wardfort',\n",
       " 'New Russellton',\n",
       " 'New Cindychester',\n",
       " 'New Cindychester',\n",
       " 'Whitakerbury',\n",
       " 'Wardfort',\n",
       " 'Aliciafort',\n",
       " 'Ricardomouth',\n",
       " 'West Jamesview',\n",
       " 'Ricardomouth',\n",
       " 'Ricardomouth',\n",
       " 'Whiteside',\n",
       " 'West Jamesview',\n",
       " 'New Cindychester',\n",
       " 'Whitakerbury',\n",
       " 'Wardfort',\n",
       " 'Kristaburgh',\n",
       " 'Ricardomouth',\n",
       " 'North Melissafurt',\n",
       " 'Wardfort',\n",
       " 'North Melissafurt',\n",
       " 'Kristaburgh',\n",
       " 'West Jamesview',\n",
       " 'Kristaburgh',\n",
       " 'Kristaburgh',\n",
       " 'Aliciafort',\n",
       " 'New Russellton',\n",
       " 'New Russellton',\n",
       " 'Aliciafort',\n",
       " 'Ricardomouth',\n",
       " 'Whiteside',\n",
       " 'Aliciafort',\n",
       " 'New Russellton',\n",
       " 'Whitakerbury',\n",
       " 'New Russellton',\n",
       " 'Aliciafort',\n",
       " 'Ricardomouth',\n",
       " 'Kristaburgh',\n",
       " 'Ricardomouth',\n",
       " 'Kristaburgh',\n",
       " 'Whiteside',\n",
       " 'Whiteside',\n",
       " 'Whiteside',\n",
       " 'New Russellton',\n",
       " 'Whiteside',\n",
       " 'West Jamesview',\n",
       " 'Wardfort',\n",
       " 'Whitakerbury',\n",
       " 'Wardfort',\n",
       " 'Whiteside',\n",
       " 'Whiteside',\n",
       " 'Whiteside',\n",
       " 'New Cindychester',\n",
       " 'Whiteside',\n",
       " 'Kristaburgh',\n",
       " 'New Russellton',\n",
       " 'Wardfort',\n",
       " 'Ricardomouth',\n",
       " 'New Cindychester',\n",
       " 'Ricardomouth',\n",
       " 'Whiteside',\n",
       " 'North Melissafurt',\n",
       " 'North Melissafurt',\n",
       " 'New Cindychester',\n",
       " 'West Jamesview',\n",
       " 'New Russellton',\n",
       " 'Kristaburgh',\n",
       " 'Whitakerbury',\n",
       " 'Aliciafort',\n",
       " 'New Cindychester',\n",
       " 'New Russellton',\n",
       " 'North Melissafurt',\n",
       " 'North Melissafurt',\n",
       " 'North Melissafurt',\n",
       " 'Kristaburgh',\n",
       " 'New Russellton',\n",
       " 'North Melissafurt',\n",
       " 'Ricardomouth',\n",
       " 'Wardfort',\n",
       " 'Wardfort',\n",
       " 'Wardfort',\n",
       " 'Ricardomouth',\n",
       " 'West Jamesview',\n",
       " 'Whiteside',\n",
       " 'Aliciafort',\n",
       " 'Whitakerbury',\n",
       " 'Aliciafort',\n",
       " 'Ricardomouth',\n",
       " 'Whitakerbury',\n",
       " 'Whiteside',\n",
       " 'New Russellton',\n",
       " 'Whiteside',\n",
       " 'Kristaburgh',\n",
       " 'Whitakerbury',\n",
       " 'Aliciafort',\n",
       " 'New Russellton',\n",
       " 'New Cindychester',\n",
       " 'Aliciafort',\n",
       " 'North Melissafurt',\n",
       " 'Ricardomouth',\n",
       " 'Ricardomouth',\n",
       " 'New Cindychester',\n",
       " 'Kristaburgh',\n",
       " 'Kristaburgh',\n",
       " 'Wardfort',\n",
       " 'Kristaburgh',\n",
       " 'North Melissafurt',\n",
       " 'Whitakerbury',\n",
       " 'North Melissafurt',\n",
       " 'Ricardomouth',\n",
       " 'Ricardomouth',\n",
       " 'Aliciafort',\n",
       " 'New Russellton',\n",
       " 'West Jamesview',\n",
       " 'New Cindychester',\n",
       " 'Wardfort',\n",
       " 'Whitakerbury',\n",
       " 'Aliciafort',\n",
       " 'Wardfort',\n",
       " 'Aliciafort',\n",
       " 'Wardfort',\n",
       " 'North Melissafurt',\n",
       " 'Wardfort',\n",
       " 'Whiteside',\n",
       " 'Ricardomouth',\n",
       " 'Wardfort',\n",
       " 'New Russellton',\n",
       " 'New Cindychester',\n",
       " 'Whiteside',\n",
       " 'Whiteside',\n",
       " 'Whiteside',\n",
       " 'New Cindychester',\n",
       " 'Aliciafort',\n",
       " 'Kristaburgh',\n",
       " 'Whitakerbury',\n",
       " 'Kristaburgh',\n",
       " 'West Jamesview',\n",
       " 'New Russellton',\n",
       " 'North Melissafurt',\n",
       " 'New Russellton',\n",
       " 'New Russellton',\n",
       " 'Kristaburgh',\n",
       " 'Aliciafort',\n",
       " 'Whiteside',\n",
       " 'Wardfort',\n",
       " 'Whiteside',\n",
       " 'Kristaburgh',\n",
       " 'Aliciafort',\n",
       " 'Aliciafort',\n",
       " 'Aliciafort',\n",
       " 'Wardfort',\n",
       " 'Whitakerbury',\n",
       " 'North Melissafurt',\n",
       " 'Kristaburgh',\n",
       " 'Ricardomouth',\n",
       " 'New Russellton',\n",
       " 'New Russellton',\n",
       " 'Wardfort',\n",
       " 'New Cindychester',\n",
       " 'North Melissafurt',\n",
       " 'Ricardomouth',\n",
       " 'Wardfort',\n",
       " 'Whitakerbury',\n",
       " 'Aliciafort',\n",
       " 'New Cindychester',\n",
       " 'Ricardomouth',\n",
       " 'New Russellton',\n",
       " 'Wardfort',\n",
       " 'Whiteside',\n",
       " 'Ricardomouth',\n",
       " 'Aliciafort',\n",
       " 'Aliciafort',\n",
       " 'Ricardomouth',\n",
       " 'New Cindychester',\n",
       " 'Ricardomouth',\n",
       " 'Ricardomouth',\n",
       " 'Wardfort',\n",
       " 'Kristaburgh',\n",
       " 'Whitakerbury',\n",
       " 'Whitakerbury',\n",
       " 'Whitakerbury',\n",
       " 'North Melissafurt',\n",
       " 'Kristaburgh',\n",
       " 'Kristaburgh',\n",
       " 'Kristaburgh',\n",
       " 'North Melissafurt',\n",
       " 'Kristaburgh',\n",
       " 'Wardfort',\n",
       " 'Whiteside',\n",
       " 'North Melissafurt',\n",
       " 'Aliciafort',\n",
       " 'Whiteside',\n",
       " 'Whitakerbury',\n",
       " 'Aliciafort',\n",
       " 'North Melissafurt',\n",
       " 'New Cindychester',\n",
       " 'New Russellton',\n",
       " 'North Melissafurt',\n",
       " 'New Cindychester',\n",
       " 'New Russellton',\n",
       " 'New Russellton',\n",
       " 'Whiteside',\n",
       " 'New Cindychester',\n",
       " 'Whitakerbury',\n",
       " 'Wardfort',\n",
       " 'Ricardomouth',\n",
       " 'New Cindychester',\n",
       " 'New Russellton',\n",
       " 'Whiteside',\n",
       " 'Ricardomouth',\n",
       " 'New Cindychester',\n",
       " 'New Russellton',\n",
       " 'West Jamesview',\n",
       " 'Kristaburgh',\n",
       " 'West Jamesview',\n",
       " 'Wardfort',\n",
       " 'West Jamesview',\n",
       " 'New Cindychester',\n",
       " 'North Melissafurt',\n",
       " 'Aliciafort',\n",
       " 'North Melissafurt',\n",
       " 'New Cindychester',\n",
       " 'Kristaburgh',\n",
       " 'Whitakerbury',\n",
       " 'Wardfort',\n",
       " 'Aliciafort',\n",
       " 'Whitakerbury',\n",
       " 'West Jamesview',\n",
       " 'New Russellton',\n",
       " 'Whitakerbury',\n",
       " 'Kristaburgh',\n",
       " 'West Jamesview',\n",
       " 'Whitakerbury',\n",
       " 'Whiteside',\n",
       " 'New Cindychester',\n",
       " 'Ricardomouth',\n",
       " 'Whitakerbury',\n",
       " 'Wardfort',\n",
       " 'New Cindychester',\n",
       " 'Kristaburgh',\n",
       " 'Wardfort',\n",
       " 'Kristaburgh',\n",
       " 'North Melissafurt',\n",
       " 'Kristaburgh',\n",
       " 'New Cindychester',\n",
       " 'Ricardomouth',\n",
       " 'Kristaburgh',\n",
       " 'Ricardomouth',\n",
       " 'New Cindychester',\n",
       " 'New Russellton',\n",
       " 'New Cindychester',\n",
       " 'Whiteside',\n",
       " 'Ricardomouth',\n",
       " 'New Cindychester',\n",
       " 'Ricardomouth',\n",
       " 'Whitakerbury',\n",
       " 'North Melissafurt',\n",
       " 'Whitakerbury',\n",
       " 'Wardfort',\n",
       " 'Whitakerbury',\n",
       " 'Wardfort',\n",
       " 'West Jamesview',\n",
       " 'Kristaburgh',\n",
       " 'Whitakerbury',\n",
       " 'Whitakerbury',\n",
       " 'Ricardomouth',\n",
       " 'Whitakerbury',\n",
       " 'Wardfort',\n",
       " 'New Russellton',\n",
       " 'North Melissafurt',\n",
       " 'Kristaburgh',\n",
       " 'Whiteside',\n",
       " 'Ricardomouth',\n",
       " 'North Melissafurt',\n",
       " 'Wardfort',\n",
       " 'Kristaburgh',\n",
       " 'West Jamesview',\n",
       " 'Wardfort',\n",
       " 'West Jamesview',\n",
       " 'Wardfort',\n",
       " 'Aliciafort',\n",
       " 'Whiteside',\n",
       " 'West Jamesview',\n",
       " 'Ricardomouth',\n",
       " 'Ricardomouth',\n",
       " 'Aliciafort',\n",
       " 'Whitakerbury',\n",
       " 'Kristaburgh',\n",
       " 'Ricardomouth',\n",
       " 'Whitakerbury',\n",
       " 'Whitakerbury',\n",
       " 'New Cindychester',\n",
       " 'Whitakerbury',\n",
       " 'Kristaburgh',\n",
       " 'Whitakerbury',\n",
       " 'Aliciafort',\n",
       " 'Wardfort',\n",
       " 'Aliciafort',\n",
       " 'North Melissafurt',\n",
       " 'West Jamesview',\n",
       " 'Aliciafort',\n",
       " 'Aliciafort',\n",
       " 'West Jamesview',\n",
       " 'Ricardomouth',\n",
       " 'Kristaburgh',\n",
       " 'Wardfort',\n",
       " 'Whiteside',\n",
       " 'Wardfort',\n",
       " 'West Jamesview',\n",
       " 'Whiteside',\n",
       " 'New Russellton',\n",
       " 'West Jamesview',\n",
       " 'Ricardomouth',\n",
       " 'Ricardomouth',\n",
       " 'North Melissafurt',\n",
       " 'New Cindychester',\n",
       " 'Aliciafort',\n",
       " 'North Melissafurt',\n",
       " 'New Russellton',\n",
       " 'West Jamesview',\n",
       " 'New Cindychester',\n",
       " 'North Melissafurt',\n",
       " 'West Jamesview',\n",
       " 'New Russellton',\n",
       " 'Wardfort',\n",
       " 'West Jamesview',\n",
       " 'Wardfort',\n",
       " 'New Russellton',\n",
       " 'Ricardomouth',\n",
       " 'West Jamesview',\n",
       " 'West Jamesview',\n",
       " 'New Cindychester',\n",
       " 'Aliciafort',\n",
       " 'West Jamesview',\n",
       " 'Wardfort',\n",
       " 'Whiteside',\n",
       " 'West Jamesview',\n",
       " 'Whiteside',\n",
       " 'New Russellton',\n",
       " 'New Cindychester',\n",
       " 'New Cindychester',\n",
       " 'Ricardomouth',\n",
       " 'Kristaburgh',\n",
       " 'Wardfort',\n",
       " 'New Russellton',\n",
       " 'Wardfort',\n",
       " 'Ricardomouth',\n",
       " 'New Cindychester',\n",
       " 'Kristaburgh',\n",
       " 'Whitakerbury',\n",
       " 'Ricardomouth',\n",
       " 'Whiteside',\n",
       " 'Ricardomouth',\n",
       " 'Whiteside',\n",
       " 'North Melissafurt',\n",
       " 'Whiteside',\n",
       " 'Ricardomouth',\n",
       " 'North Melissafurt',\n",
       " 'West Jamesview',\n",
       " 'New Russellton',\n",
       " 'North Melissafurt',\n",
       " 'Kristaburgh',\n",
       " 'West Jamesview',\n",
       " 'Ricardomouth',\n",
       " 'North Melissafurt',\n",
       " 'Ricardomouth',\n",
       " 'New Russellton',\n",
       " 'New Cindychester',\n",
       " 'New Cindychester',\n",
       " 'Whitakerbury',\n",
       " 'New Cindychester',\n",
       " 'Ricardomouth',\n",
       " 'West Jamesview',\n",
       " 'Ricardomouth',\n",
       " 'New Russellton',\n",
       " 'Ricardomouth',\n",
       " 'Wardfort',\n",
       " 'Ricardomouth',\n",
       " 'Aliciafort',\n",
       " 'Kristaburgh',\n",
       " 'North Melissafurt',\n",
       " 'Wardfort',\n",
       " 'New Cindychester',\n",
       " 'Aliciafort',\n",
       " 'New Cindychester',\n",
       " 'New Cindychester',\n",
       " 'Whiteside',\n",
       " 'West Jamesview',\n",
       " 'Aliciafort',\n",
       " 'New Russellton',\n",
       " 'Kristaburgh',\n",
       " 'Aliciafort',\n",
       " 'Whiteside',\n",
       " 'Whitakerbury',\n",
       " 'North Melissafurt',\n",
       " 'West Jamesview',\n",
       " 'New Russellton',\n",
       " 'Ricardomouth',\n",
       " 'Aliciafort',\n",
       " 'Whitakerbury',\n",
       " 'New Cindychester',\n",
       " 'West Jamesview',\n",
       " 'New Russellton',\n",
       " 'New Cindychester',\n",
       " 'New Russellton',\n",
       " 'North Melissafurt',\n",
       " 'West Jamesview',\n",
       " 'Ricardomouth',\n",
       " 'West Jamesview',\n",
       " 'Whitakerbury',\n",
       " 'Whitakerbury',\n",
       " 'Wardfort',\n",
       " 'Wardfort',\n",
       " 'Kristaburgh',\n",
       " 'North Melissafurt',\n",
       " 'Whitakerbury',\n",
       " 'New Cindychester',\n",
       " 'Whitakerbury',\n",
       " 'New Russellton',\n",
       " 'New Russellton',\n",
       " 'Wardfort',\n",
       " 'New Cindychester',\n",
       " 'North Melissafurt',\n",
       " 'Wardfort',\n",
       " 'Ricardomouth',\n",
       " 'Kristaburgh',\n",
       " 'North Melissafurt',\n",
       " 'Aliciafort',\n",
       " 'Whiteside',\n",
       " 'Whitakerbury',\n",
       " 'Ricardomouth',\n",
       " 'Ricardomouth',\n",
       " 'Ricardomouth',\n",
       " 'North Melissafurt',\n",
       " 'Ricardomouth',\n",
       " 'West Jamesview',\n",
       " 'Wardfort',\n",
       " 'Wardfort',\n",
       " 'New Cindychester',\n",
       " 'North Melissafurt',\n",
       " 'North Melissafurt',\n",
       " 'New Cindychester',\n",
       " 'Whiteside',\n",
       " 'North Melissafurt',\n",
       " 'West Jamesview',\n",
       " 'New Russellton',\n",
       " 'New Russellton',\n",
       " 'North Melissafurt',\n",
       " 'Whitakerbury',\n",
       " 'Wardfort',\n",
       " 'Aliciafort',\n",
       " 'Whitakerbury',\n",
       " 'Whiteside',\n",
       " 'Aliciafort',\n",
       " 'Ricardomouth',\n",
       " 'Ricardomouth',\n",
       " 'New Russellton',\n",
       " 'Whitakerbury',\n",
       " 'Whiteside',\n",
       " 'Whiteside',\n",
       " 'Whiteside',\n",
       " 'Kristaburgh',\n",
       " 'Wardfort',\n",
       " 'Kristaburgh',\n",
       " 'Whitakerbury',\n",
       " 'Whiteside',\n",
       " 'New Cindychester',\n",
       " 'New Russellton',\n",
       " 'North Melissafurt',\n",
       " 'New Russellton',\n",
       " 'Wardfort',\n",
       " 'New Cindychester',\n",
       " 'Kristaburgh',\n",
       " 'Wardfort',\n",
       " 'Kristaburgh',\n",
       " 'North Melissafurt',\n",
       " 'Whitakerbury',\n",
       " 'Whitakerbury',\n",
       " 'Wardfort',\n",
       " 'Whiteside',\n",
       " 'Kristaburgh',\n",
       " 'Ricardomouth',\n",
       " 'Aliciafort',\n",
       " 'North Melissafurt',\n",
       " 'Kristaburgh',\n",
       " 'Whitakerbury',\n",
       " 'Whitakerbury',\n",
       " 'Wardfort',\n",
       " 'Aliciafort',\n",
       " 'Ricardomouth',\n",
       " 'Kristaburgh',\n",
       " 'Wardfort',\n",
       " 'New Russellton',\n",
       " 'North Melissafurt',\n",
       " 'Wardfort',\n",
       " 'Kristaburgh',\n",
       " 'Kristaburgh',\n",
       " 'Whitakerbury',\n",
       " 'North Melissafurt',\n",
       " 'West Jamesview',\n",
       " 'Whitakerbury',\n",
       " 'Ricardomouth',\n",
       " 'Whitakerbury',\n",
       " 'Wardfort',\n",
       " 'North Melissafurt',\n",
       " 'Kristaburgh',\n",
       " 'Whiteside',\n",
       " 'New Cindychester',\n",
       " 'Ricardomouth',\n",
       " 'New Cindychester',\n",
       " 'Whitakerbury',\n",
       " 'Whiteside',\n",
       " 'Whiteside',\n",
       " 'New Russellton',\n",
       " 'Whiteside',\n",
       " 'Whiteside',\n",
       " 'Ricardomouth',\n",
       " 'New Russellton',\n",
       " 'New Cindychester',\n",
       " 'Kristaburgh',\n",
       " 'Aliciafort',\n",
       " 'New Russellton',\n",
       " 'Wardfort',\n",
       " 'New Russellton',\n",
       " 'Whitakerbury',\n",
       " 'Aliciafort',\n",
       " 'Kristaburgh',\n",
       " ...]"
      ]
     },
     "execution_count": 38,
     "metadata": {},
     "output_type": "execute_result"
    }
   ],
   "source": [
    "df[\"Employee_City\"].tolist()"
   ]
  },
  {
   "cell_type": "markdown",
   "metadata": {
    "cell_id": "1cd6bf65f6af488aa764c5e4265f5e9e",
    "deepnote_cell_type": "text-cell-h3",
    "formattedRanges": [],
    "is_collapsed": false,
    "tags": []
   },
   "source": [
    "### 87. Are the number of employees in 'Scott Inc' company greater than that in 'Andrade LLC'? Print True/False"
   ]
  },
  {
   "cell_type": "code",
   "execution_count": 40,
   "metadata": {
    "cell_id": "c632763bf2724f48862ee972cc1e300a",
    "deepnote_cell_height": 61,
    "deepnote_cell_type": "code",
    "tags": []
   },
   "outputs": [
    {
     "data": {
      "text/plain": [
       "False"
      ]
     },
     "execution_count": 40,
     "metadata": {},
     "output_type": "execute_result"
    }
   ],
   "source": [
    "sum(df[\"Employee_City\"]==\"Scott Inc\") > sum(df[\"Employee_City\"]==\"Andrade LLC\")  "
   ]
  },
  {
   "cell_type": "markdown",
   "metadata": {
    "cell_id": "e85eeecbe2c246cf9191d3b7af0a42c6",
    "deepnote_cell_type": "text-cell-h3",
    "formattedRanges": [],
    "is_collapsed": false,
    "tags": []
   },
   "source": [
    "### 88. Which is the most common first name in the dataframe?"
   ]
  },
  {
   "cell_type": "code",
   "execution_count": 49,
   "metadata": {
    "cell_id": "775c471c1b65479ca44c838fdedd9a66",
    "deepnote_cell_height": 61,
    "deepnote_cell_type": "code",
    "tags": []
   },
   "outputs": [
    {
     "data": {
      "text/plain": [
       "('Michael', 6892)"
      ]
     },
     "execution_count": 49,
     "metadata": {},
     "output_type": "execute_result"
    }
   ],
   "source": [
    "from collections import Counter\n",
    "\n",
    "ans = Counter(x[0] for x in df[\"Name\"].str.split())\n",
    "ans.most_common()[0]"
   ]
  },
  {
   "cell_type": "markdown",
   "metadata": {
    "cell_id": "c289e410d6744ac6b387d5490f2da61b",
    "deepnote_cell_type": "text-cell-h3",
    "formattedRanges": [],
    "is_collapsed": false,
    "tags": []
   },
   "source": [
    "### 89. Which is the least common last name in the dataframe?"
   ]
  },
  {
   "cell_type": "code",
   "execution_count": 50,
   "metadata": {
    "cell_id": "04e654c82f964ccebdb39e10508eafe1",
    "deepnote_cell_height": 61,
    "deepnote_cell_type": "code",
    "tags": []
   },
   "outputs": [
    {
     "data": {
      "text/plain": [
       "('Terrance', 25)"
      ]
     },
     "execution_count": 50,
     "metadata": {},
     "output_type": "execute_result"
    }
   ],
   "source": [
    "ans.most_common()[-1]"
   ]
  },
  {
   "cell_type": "markdown",
   "metadata": {
    "cell_id": "342360203d4b46f7a5535f8fea0370d0",
    "deepnote_cell_type": "text-cell-h3",
    "formattedRanges": [],
    "is_collapsed": false,
    "tags": []
   },
   "source": [
    "### 90. What is the average name length? "
   ]
  },
  {
   "cell_type": "code",
   "execution_count": 52,
   "metadata": {
    "cell_id": "ca3e3255a2564b938944c4e7a1bfd4d0",
    "deepnote_cell_height": 61,
    "deepnote_cell_type": "code",
    "tags": []
   },
   "outputs": [
    {
     "data": {
      "text/plain": [
       "13.1079"
      ]
     },
     "execution_count": 52,
     "metadata": {},
     "output_type": "execute_result"
    }
   ],
   "source": [
    "l = df.shape[0]\n",
    "n = sum(df[\"Name\"].str.len())\n",
    "n/l"
   ]
  },
  {
   "cell_type": "markdown",
   "metadata": {
    "cell_id": "b68402ffbdd74afc8268d1ef35ba3520",
    "deepnote_cell_height": 117.390625,
    "deepnote_cell_type": "markdown",
    "tags": []
   },
   "source": [
    "Great job solving this notebook. Go to Pandas Notebook  3: [Link](https://deepnote.com/workspace/avi-chawla-695b-aee6f4ef-2d50-4fb6-9ef2-20ee1022995a/project/Pandas-Notebook-employee-part-2-adc5a3ee-5f61-4725-8e46-ccb07899acfc/%2Fnotebook.ipynb)"
   ]
  },
  {
   "cell_type": "markdown",
   "metadata": {
    "created_in_deepnote_cell": true,
    "deepnote_cell_type": "markdown"
   },
   "source": [
    "<a style='text-decoration:none;line-height:16px;display:flex;color:#5B5B62;padding:10px;justify-content:end;' href='https://deepnote.com?utm_source=created-in-deepnote-cell&projectId=7e3b6755-5d4b-464b-9b75-9c84667ae3bd' target=\"_blank\">\n",
    "<img alt='Created in deepnote.com' style='display:inline;max-height:16px;margin:0px;margin-right:7.5px;' src='data:image/svg+xml;base64,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' > </img>\n",
    "Created in <span style='font-weight:600;margin-left:4px;'>Deepnote</span></a>"
   ]
  }
 ],
 "metadata": {
  "deepnote_notebook_id": "0de50f3b70834570b13b651dde44c491",
  "kernelspec": {
   "display_name": "Python 3",
   "language": "python",
   "name": "python3"
  },
  "language_info": {
   "codemirror_mode": {
    "name": "ipython",
    "version": 3
   },
   "file_extension": ".py",
   "mimetype": "text/x-python",
   "name": "python",
   "nbconvert_exporter": "python",
   "pygments_lexer": "ipython3",
   "version": "3.11.9"
  }
 },
 "nbformat": 4,
 "nbformat_minor": 0
}
