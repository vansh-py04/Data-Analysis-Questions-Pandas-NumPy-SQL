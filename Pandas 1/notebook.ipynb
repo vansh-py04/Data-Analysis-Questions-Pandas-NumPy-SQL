{
 "cells": [
  {
   "cell_type": "markdown",
   "metadata": {
    "cell_id": "52fcac9d43ae4c2999c7693520b05ae4",
    "deepnote_cell_type": "text-cell-h1",
    "formattedRanges": [],
    "is_collapsed": false,
    "tags": []
   },
   "source": [
    "# 450+ Practice Questions From Pandas, NumPy, and SQL."
   ]
  },
  {
   "cell_type": "markdown",
   "metadata": {
    "cell_id": "03275d2a227e4c28af36f58b737e3410",
    "deepnote_cell_height": 125.171875,
    "deepnote_cell_type": "markdown",
    "tags": []
   },
   "source": [
    "Author: **Avi Chawla**\n",
    "\n",
    "LinkedIn: https://www.linkedin.com/in/avi-chawla/\n",
    "\n",
    "Read my newsletter here: https://www.blog.dailydoseofds.com/"
   ]
  },
  {
   "cell_type": "markdown",
   "metadata": {
    "cell_id": "5299f4699b4d4919b798e23b68d0facf",
    "deepnote_cell_type": "text-cell-h2",
    "formattedRanges": [],
    "is_collapsed": false,
    "tags": []
   },
   "source": [
    "## Introduction"
   ]
  },
  {
   "cell_type": "markdown",
   "metadata": {
    "cell_id": "7b8f00aaabe04f22bbac9aa16392d9f6",
    "deepnote_cell_type": "text-cell-p",
    "formattedRanges": [
     {
      "fromCodePoint": 156,
      "marks": {
       "bold": true
      },
      "toCodePoint": 179
     }
    ],
    "is_collapsed": false,
    "tags": []
   },
   "source": [
    "This notebook has been created for you to practice three of the most common tools used in building any machine learning or data science applications, i.e., Pandas, NumPy, and SQL!"
   ]
  },
  {
   "cell_type": "markdown",
   "metadata": {
    "cell_id": "5bbccf2d76dc4e99ae9d11df4783e15c",
    "deepnote_cell_type": "text-cell-p",
    "formattedRanges": [],
    "is_collapsed": false,
    "tags": []
   },
   "source": [
    "The practice questions will serve as an excellent resource for those looking to familiarize themselves with some of the most common functions used in these tools. "
   ]
  },
  {
   "cell_type": "markdown",
   "metadata": {
    "cell_id": "4543ea75d25148c6abe960bbf1507beb",
    "deepnote_cell_type": "text-cell-p",
    "formattedRanges": [
     {
      "fromCodePoint": 285,
      "marks": {
       "bold": true
      },
      "toCodePoint": 290
     },
     {
      "fromCodePoint": 303,
      "marks": {
       "bold": true
      },
      "toCodePoint": 306
     }
    ],
    "is_collapsed": false,
    "tags": []
   },
   "source": [
    "Appropriate descriptions have been provided for all the questions in this entire exercise, which will help you navigate through this exercise easily. If a dataset is to be loaded in the python environment, that has also been provided for you. You can find it on the right panel in the Files section. Do NOT delete any of the files/folders listed there. "
   ]
  },
  {
   "cell_type": "markdown",
   "metadata": {
    "cell_id": "081f459ffa2b4b51b3217adbeee50d53",
    "deepnote_cell_type": "text-cell-p",
    "formattedRanges": [],
    "is_collapsed": false,
    "tags": []
   },
   "source": [
    "The whole exercise has been divided into nine separate notebooks. Below are the links to all the other notebooks for you to jump from one notebook to another:"
   ]
  },
  {
   "cell_type": "markdown",
   "metadata": {
    "cell_id": "6599743de2c4404685e9e5c6633b297f",
    "deepnote_cell_height": 403.6875,
    "deepnote_cell_type": "markdown",
    "tags": []
   },
   "source": [
    "- **Pandas**\n",
    "\n",
    "1. Pandas Notebook 1: [Link](https://deepnote.com/workspace/avi-chawla-695b-aee6f4ef-2d50-4fb6-9ef2-20ee1022995a/project/Pandas-Notebook-1-d693ac55-6455-40cf-ae34-867c6a02014e/notebook/6449493c84734151b11f4b6871f045d2#99f75bf946d04b9bb1daa9e14c2cfea9) **(This Notebook)** \n",
    "2. Pandas Notebook 2: [Link](https://deepnote.com/workspace/avi-chawla-695b-aee6f4ef-2d50-4fb6-9ef2-20ee1022995a/project/Pandas-Notebook-employee-dataset-7e3b6755-5d4b-464b-9b75-9c84667ae3bd/notebook/notebook-0de50f3b70834570b13b651dde44c491)\n",
    "\n",
    "3. Pandas Notebook 3: [Link](https://deepnote.com/workspace/avi-chawla-695b-aee6f4ef-2d50-4fb6-9ef2-20ee1022995a/project/Pandas-Notebook-employee-part-2-adc5a3ee-5f61-4725-8e46-ccb07899acfc/notebook/notebook-78e3faf901da4f14881ef24e41c80bf6)\n",
    "\n",
    "4. Pandas Notebook 4: [Link](https://deepnote.com/workspace/avi-chawla-695b-aee6f4ef-2d50-4fb6-9ef2-20ee1022995a/project/Pandas-after-employee-f84e02a1-fb6a-428e-af90-8dd99855749a/notebook/notebook-134ac20c38ef45e5a4432abd638e6c2e)\n",
    "\n",
    "- **NumPy**\n",
    "\n",
    "1. NumPy Notebook 1: [Link](https://deepnote.com/workspace/avi-chawla-695b-aee6f4ef-2d50-4fb6-9ef2-20ee1022995a/project/Numpy-part-1-9b9979f2-b708-4292-b466-3d0157564c91/notebook/notebook-07232b5ebafe49b198a9c55c553414f1)\n",
    "\n",
    "2. NumPy Notebook 2: [Link](https://deepnote.com/workspace/avi-chawla-695b-aee6f4ef-2d50-4fb6-9ef2-20ee1022995a/project/NumPy-Notebook-2-4456411e-2ddd-426d-8027-4881080027db/notebook/notebook-988aba30f33a45a3861adc4f6a6f338c)\n",
    "\n",
    "3. NumPy Notebook 3: [Link](https://deepnote.com/workspace/avi-chawla-695b-aee6f4ef-2d50-4fb6-9ef2-20ee1022995a/project/NumPy-Notebook-3-e6587114-b580-4249-b599-540de859e603/notebook/notebook-bb52759ea3f542eaaed9958b5df9c34b)\n",
    "\n",
    "- **SQL**\n",
    "\n",
    "1. SQL Notebook 1: [Link](https://deepnote.com/workspace/avi-chawla-695b-aee6f4ef-2d50-4fb6-9ef2-20ee1022995a/project/SQL-Notebook-1-eac9d782-a9b1-4e84-a1f9-af14080a6121/notebook/notebook-697f04297c664d02901db0f85431512e)\n",
    "\n",
    "2. SQL Notebook 2: [Link](https://deepnote.com/workspace/avi-chawla-695b-aee6f4ef-2d50-4fb6-9ef2-20ee1022995a/project/SQL-Notebook-2-1914b214-be03-44a1-be63-ad99e98be639/notebook/notebook-e549236b988c42a5b53126a7ebb98127)"
   ]
  },
  {
   "cell_type": "markdown",
   "metadata": {
    "cell_id": "90dae267dcd74f189d08fcb026b0c909",
    "deepnote_cell_type": "text-cell-h2",
    "formattedRanges": [],
    "is_collapsed": false,
    "tags": []
   },
   "source": [
    "## How to use this notebook?"
   ]
  },
  {
   "cell_type": "markdown",
   "metadata": {
    "cell_id": "cd44171ec08c47809fcdc03f552b7abd",
    "deepnote_cell_type": "text-cell-p",
    "formattedRanges": [
     {
      "fromCodePoint": 41,
      "marks": {
       "bold": true
      },
      "toCodePoint": 50,
      "type": "marks"
     }
    ],
    "is_collapsed": false,
    "tags": []
   },
   "source": [
    "At the top right corner, you will find a Duplicate button. This will allow you to create a unique notebook for your own practice and write solutions to the questions listed in this notebook.  "
   ]
  },
  {
   "cell_type": "markdown",
   "metadata": {
    "cell_id": "88d542b9edcb4f84ab9dfae8eeeee287",
    "deepnote_cell_height": 74.78125,
    "deepnote_cell_type": "markdown",
    "tags": []
   },
   "source": [
    "If you face any issues or have any feedback, feel free to reach out to me (Avi Chawla) either on Linkedin: https://www.linkedin.com/in/avi-chawla/ or write an email to avi@dailydoseofds[dot]com. "
   ]
  },
  {
   "cell_type": "markdown",
   "metadata": {
    "cell_id": "7d8ac43aec6a4fa08bb5bc4fedc5b211",
    "deepnote_cell_type": "text-cell-p",
    "formattedRanges": [],
    "is_collapsed": false,
    "tags": []
   },
   "source": [
    "Let's begin 🚀!"
   ]
  },
  {
   "cell_type": "markdown",
   "metadata": {
    "cell_id": "1338129341c14b869dca992050808bbc",
    "deepnote_cell_type": "text-cell-h1",
    "formattedRanges": [],
    "is_collapsed": false,
    "tags": []
   },
   "source": [
    "# Pandas Notebook 1"
   ]
  },
  {
   "cell_type": "code",
   "execution_count": 1,
   "metadata": {
    "allow_embed": "code",
    "cell_id": "6e117edd324d4c348b395406cd0531df",
    "deepnote_cell_type": "code",
    "deepnote_to_be_reexecuted": false,
    "execution_millis": 2,
    "execution_start": 1659984470280,
    "source_hash": "c76c7c51",
    "tags": []
   },
   "outputs": [],
   "source": [
    "import pandas as pd\n",
    "import numpy as np"
   ]
  },
  {
   "cell_type": "markdown",
   "metadata": {
    "cell_id": "7d167aa1fdfe47dd8535047d9d860187",
    "deepnote_cell_type": "text-cell-h2",
    "formattedRanges": [],
    "is_collapsed": false,
    "tags": []
   },
   "source": [
    "## Create a Pandas DataFrame"
   ]
  },
  {
   "cell_type": "markdown",
   "metadata": {
    "cell_id": "99f75bf946d04b9bb1daa9e14c2cfea9",
    "deepnote_cell_type": "text-cell-h3",
    "formattedRanges": [],
    "is_collapsed": false,
    "tags": []
   },
   "source": [
    "### 1. Create a DataFrame from a list of lists. Name the columns \"col1\", \"col2\" and \"col3\"."
   ]
  },
  {
   "cell_type": "code",
   "execution_count": 4,
   "metadata": {
    "cell_id": "d9d20c86c46a4496935322d63dc32eea",
    "deepnote_cell_height": 115,
    "deepnote_cell_type": "code",
    "tags": []
   },
   "outputs": [
    {
     "name": "stdout",
     "output_type": "stream",
     "text": [
      "   col1  col2  col3\n",
      "0     1     2     3\n",
      "1     4     5     6\n"
     ]
    }
   ],
   "source": [
    "data_list = [[1,2,3], [4,5,6]]\n",
    "\n",
    "df = pd.DataFrame(data_list,columns=[\"col1\",\"col2\",\"col3\"])\n",
    "print(df)"
   ]
  },
  {
   "cell_type": "markdown",
   "metadata": {
    "cell_id": "bb6382eff47e4db492c7376e89092cfa",
    "deepnote_cell_type": "text-cell-h3",
    "formattedRanges": [],
    "is_collapsed": false,
    "tags": []
   },
   "source": [
    "### 2. Create a DataFrame from a list of lists. Name the columns \"col1\", \"col2\" and \"col3\". Change the data type of all columns to \"int8\"."
   ]
  },
  {
   "cell_type": "code",
   "execution_count": 5,
   "metadata": {
    "cell_id": "b9c4f73dd9754c36956618dca091b7e7",
    "deepnote_cell_height": 133,
    "deepnote_cell_type": "code",
    "tags": []
   },
   "outputs": [
    {
     "name": "stdout",
     "output_type": "stream",
     "text": [
      "   col1  col2  col3\n",
      "0     1     2     3\n",
      "1     4     5     6\n",
      "col1    int8\n",
      "col2    int8\n",
      "col3    int8\n",
      "dtype: object\n"
     ]
    }
   ],
   "source": [
    "data_list = [[1,2,3], [4,5,6]]\n",
    "\n",
    "df = pd.DataFrame(data_list,columns=[\"col1\",\"col2\",\"col3\"],dtype=\"int8\")\n",
    "print(df) \n",
    "print(df.dtypes)"
   ]
  },
  {
   "cell_type": "markdown",
   "metadata": {
    "cell_id": "c374a07a002f41ba94da677f97fb4aae",
    "deepnote_cell_type": "text-cell-h3",
    "formattedRanges": [],
    "is_collapsed": false,
    "tags": []
   },
   "source": [
    "### 3. Create a DataFrame from a dictionary."
   ]
  },
  {
   "cell_type": "code",
   "execution_count": 7,
   "metadata": {
    "cell_id": "9408909e1d8a4ccba4f942c4e413b210",
    "deepnote_cell_height": 115,
    "deepnote_cell_type": "code",
    "tags": []
   },
   "outputs": [
    {
     "name": "stdout",
     "output_type": "stream",
     "text": [
      "   col1  col2\n",
      "0     1     3\n",
      "1     2     4\n"
     ]
    }
   ],
   "source": [
    "data_dict = {'col1': [1, 2], 'col2': [3, 4]}\n",
    "\n",
    "df = pd.DataFrame(data_dict)\n",
    "print(df)"
   ]
  },
  {
   "cell_type": "markdown",
   "metadata": {
    "cell_id": "654760d620f048a6987057cb97c8b25d",
    "deepnote_cell_type": "text-cell-h3",
    "formattedRanges": [],
    "is_collapsed": false,
    "tags": []
   },
   "source": [
    "### 4. Create a DataFrame from a dictionary. Change the data type to \"int8\"."
   ]
  },
  {
   "cell_type": "code",
   "execution_count": 9,
   "metadata": {
    "cell_id": "4025f1e1893643f292fcd7465fe3f3d0",
    "deepnote_cell_height": 133,
    "deepnote_cell_type": "code",
    "tags": []
   },
   "outputs": [
    {
     "name": "stdout",
     "output_type": "stream",
     "text": [
      "   col1  col2\n",
      "0     1     3\n",
      "1     2     4\n",
      "col1    int8\n",
      "col2    int8\n",
      "dtype: object\n"
     ]
    }
   ],
   "source": [
    "data_dict = {'col1': [1, 2], 'col2': [3, 4]}\n",
    "\n",
    "df = pd.DataFrame(data_dict,dtype=\"int8\")\n",
    "print(df)\n",
    "print(df.dtypes)"
   ]
  },
  {
   "cell_type": "markdown",
   "metadata": {
    "cell_id": "092e5df73cb54fa29e29cca1ee22c1fc",
    "deepnote_cell_type": "text-cell-h3",
    "formattedRanges": [],
    "is_collapsed": false,
    "tags": []
   },
   "source": [
    "### 5. Create a DataFrame from a numpy array. Name the columns \"col1\", \"col2\" and \"col3\"."
   ]
  },
  {
   "cell_type": "code",
   "execution_count": 10,
   "metadata": {
    "cell_id": "b206b95b1570441bb269308ac467b8fe",
    "deepnote_cell_height": 115,
    "deepnote_cell_type": "code",
    "tags": []
   },
   "outputs": [
    {
     "name": "stdout",
     "output_type": "stream",
     "text": [
      "   col1  col2  col3\n",
      "0     1     2     3\n",
      "1     4     5     6\n"
     ]
    }
   ],
   "source": [
    "data_nparray = np.array([[1,2,3], [4,5,6]])\n",
    "\n",
    "df = pd.DataFrame(data_nparray,columns=[\"col1\",\"col2\",\"col3\"])\n",
    "print(df)"
   ]
  },
  {
   "cell_type": "markdown",
   "metadata": {
    "cell_id": "5e4ee17172fb43b99b838c218e3631d6",
    "deepnote_cell_height": 74.78125,
    "deepnote_cell_type": "markdown",
    "tags": []
   },
   "source": [
    "Read More about DataFrame creation methods here: https://pandas.pydata.org/pandas-docs/stable/reference/api/pandas.DataFrame.html\n"
   ]
  },
  {
   "cell_type": "markdown",
   "metadata": {
    "cell_id": "3b4c045831ce4a82b1b6fbf0aa52303b",
    "deepnote_cell_type": "text-cell-h2",
    "formattedRanges": [],
    "is_collapsed": false,
    "tags": []
   },
   "source": [
    "## Input Operations from CSV in Pandas"
   ]
  },
  {
   "cell_type": "markdown",
   "metadata": {
    "cell_id": "a431d7da70984c1dafb9bf475aae646e",
    "deepnote_cell_type": "text-cell-h3",
    "formattedRanges": [],
    "is_collapsed": false,
    "tags": []
   },
   "source": [
    "### 6. Read a CSV File."
   ]
  },
  {
   "cell_type": "code",
   "execution_count": 13,
   "metadata": {
    "cell_id": "2b1e546644db49f6805201d23fb68c27",
    "deepnote_cell_type": "code",
    "deepnote_to_be_reexecuted": false,
    "execution_millis": 1,
    "execution_start": 1659896158632,
    "source_hash": "b623e53d",
    "tags": []
   },
   "outputs": [
    {
     "name": "stdout",
     "output_type": "stream",
     "text": [
      "   col1  col2  col3\n",
      "0     1     2     3\n",
      "1     4     5     6\n",
      "2     7     8     9\n"
     ]
    }
   ],
   "source": [
    "csv_file = \"input_data/file1.csv\"\n",
    "\n",
    "df =pd.read_csv(csv_file)\n",
    "print(df)"
   ]
  },
  {
   "cell_type": "markdown",
   "metadata": {
    "cell_id": "5202bce512394dc3bc0f6ab77b132f07",
    "deepnote_cell_type": "text-cell-h3",
    "formattedRanges": [],
    "is_collapsed": false,
    "tags": []
   },
   "source": [
    "### 7. Read a CSV file with delimiter \"|\"."
   ]
  },
  {
   "cell_type": "code",
   "execution_count": 14,
   "metadata": {
    "cell_id": "cf48876977da4e9ea283d6c7b317069d",
    "deepnote_cell_height": 115,
    "deepnote_cell_type": "code",
    "tags": []
   },
   "outputs": [
    {
     "name": "stdout",
     "output_type": "stream",
     "text": [
      "   col1  col2  col3\n",
      "0     1     2     3\n",
      "1     4     5     6\n",
      "2     7     8     9\n"
     ]
    }
   ],
   "source": [
    "csv_file = \"input_data/file2.csv\"\n",
    "\n",
    "df = pd.read_csv(csv_file,delimiter=\"|\")\n",
    "print(df)"
   ]
  },
  {
   "cell_type": "markdown",
   "metadata": {
    "cell_id": "cdfb60e5312746fbab210cbf4e12b8aa",
    "deepnote_cell_type": "text-cell-h3",
    "formattedRanges": [],
    "is_collapsed": false,
    "tags": []
   },
   "source": [
    "### 8. Read a CSV file with no header column and use \"col1\", \"col2\" and \"col3\" as column names. The delimiter is \",\"."
   ]
  },
  {
   "cell_type": "code",
   "execution_count": 15,
   "metadata": {
    "cell_id": "3d9109036df64f899c5c2d6d401b51d0",
    "deepnote_cell_height": 115,
    "deepnote_cell_type": "code",
    "tags": []
   },
   "outputs": [
    {
     "name": "stdout",
     "output_type": "stream",
     "text": [
      "   col1  col2  col3\n",
      "0     1     2     3\n",
      "1     4     5     6\n",
      "2     7     8     9\n"
     ]
    }
   ],
   "source": [
    "csv_file = \"input_data/file3.csv\"\n",
    "\n",
    "df = pd.read_csv(csv_file,delimiter=\",\",names=[\"col1\",\"col2\",\"col3\"])\n",
    "print(df)"
   ]
  },
  {
   "cell_type": "markdown",
   "metadata": {
    "cell_id": "b1d438c40fd9478e9e147bf3df60509c",
    "deepnote_cell_type": "text-cell-h3",
    "formattedRanges": [],
    "is_collapsed": false,
    "tags": []
   },
   "source": [
    "### 9. There are 3 columns in the file, namely \"col1\", \"col2\", and \"col3\". You have to read only \"col1\" and \"col3\"."
   ]
  },
  {
   "cell_type": "code",
   "execution_count": 17,
   "metadata": {
    "cell_id": "83b2c93e44ef48c98d7712b268a6d684",
    "deepnote_cell_height": 115,
    "deepnote_cell_type": "code",
    "tags": []
   },
   "outputs": [
    {
     "name": "stdout",
     "output_type": "stream",
     "text": [
      "   col1  col3\n",
      "0     1     3\n",
      "1     4     6\n",
      "2     7     9\n"
     ]
    }
   ],
   "source": [
    "csv_file = \"input_data/file1.csv\"\n",
    "\n",
    "df = pd.read_csv(csv_file,usecols=[\"col1\",\"col3\"])\n",
    "print(df)"
   ]
  },
  {
   "cell_type": "markdown",
   "metadata": {
    "cell_id": "6cb59ac4e2e141a4bed8fc6c31ea8a8c",
    "deepnote_cell_type": "text-cell-h3",
    "formattedRanges": [],
    "is_collapsed": false,
    "tags": []
   },
   "source": [
    "### 10. There are 3 columns in the file, namely \"col1\", \"col2\", and \"col3\". You have to read only \"col1\" and \"col3\". Moreover, the delimiter is \"|\"."
   ]
  },
  {
   "cell_type": "code",
   "execution_count": 18,
   "metadata": {
    "cell_id": "407d7fe418ff4b6d9eb46a2a36fd24e5",
    "deepnote_cell_height": 115,
    "deepnote_cell_type": "code",
    "tags": []
   },
   "outputs": [
    {
     "name": "stdout",
     "output_type": "stream",
     "text": [
      "   col1  col3\n",
      "0     1     3\n",
      "1     4     6\n",
      "2     7     9\n"
     ]
    }
   ],
   "source": [
    "csv_file = \"input_data/file2.csv\"\n",
    "\n",
    "df = pd.read_csv(csv_file,delimiter=\"|\",usecols=[\"col1\",\"col3\"])\n",
    "print(df)"
   ]
  },
  {
   "cell_type": "markdown",
   "metadata": {
    "cell_id": "9b8762016a8d41dc95ee250af2a8c816",
    "deepnote_cell_type": "text-cell-h3",
    "formattedRanges": [],
    "is_collapsed": false,
    "tags": []
   },
   "source": [
    "### 11. The file \"file4.csv\" has junk characters in the first two lines. You have to read the CSV file from the 3rd line."
   ]
  },
  {
   "cell_type": "code",
   "execution_count": 19,
   "metadata": {
    "cell_id": "c10cb69b5627401781ff10af053c9b0b",
    "deepnote_cell_height": 115,
    "deepnote_cell_type": "code",
    "tags": []
   },
   "outputs": [
    {
     "name": "stdout",
     "output_type": "stream",
     "text": [
      "   col1  col2  col3\n",
      "0     1     2     3\n",
      "1     4     5     6\n",
      "2     7     8     9\n"
     ]
    }
   ],
   "source": [
    "csv_file = \"input_data/file4.csv\"\n",
    "\n",
    "df = pd.read_csv(csv_file,skiprows=2)\n",
    "print(df)"
   ]
  },
  {
   "cell_type": "markdown",
   "metadata": {
    "cell_id": "362a47bc349643e9b678fbf98e1e9340",
    "deepnote_cell_type": "text-cell-h3",
    "formattedRanges": [],
    "is_collapsed": false,
    "tags": []
   },
   "source": [
    "### 12. There are 3 columns in the file, namely \"col1\", \"col2\", and \"col3\". While reading the CSV file, specify the data type of \"col1\" as 'int32'."
   ]
  },
  {
   "cell_type": "code",
   "execution_count": 21,
   "metadata": {
    "cell_id": "aca8c84364c84790ab378b71e4158635",
    "deepnote_cell_height": 115,
    "deepnote_cell_type": "code",
    "tags": []
   },
   "outputs": [
    {
     "name": "stdout",
     "output_type": "stream",
     "text": [
      "   col1  col2  col3\n",
      "0     1     2     3\n",
      "1     4     5     6\n",
      "2     7     8     9\n"
     ]
    }
   ],
   "source": [
    "csv_file = \"input_data/file1.csv\"\n",
    "\n",
    "df = pd.read_csv(csv_file,dtype={\"col1\":\"int32\"})\n",
    "print(df)"
   ]
  },
  {
   "cell_type": "markdown",
   "metadata": {
    "cell_id": "43eb1e8433ed497f88d25da597e4c27c",
    "deepnote_cell_type": "text-cell-h3",
    "formattedRanges": [],
    "is_collapsed": false,
    "tags": []
   },
   "source": [
    "### 13. The first column in the CSV file holds index values of the dataframe. Read it so that the first column goes as the index column of the dataframe."
   ]
  },
  {
   "cell_type": "code",
   "execution_count": 24,
   "metadata": {
    "cell_id": "8b1b92b9de8343909f1ab667355c0691",
    "deepnote_cell_type": "code",
    "deepnote_to_be_reexecuted": false,
    "execution_millis": 14,
    "execution_start": 1659897460042,
    "source_hash": "6f4f6738",
    "tags": []
   },
   "outputs": [
    {
     "name": "stdout",
     "output_type": "stream",
     "text": [
      "   col1  col2  col3\n",
      "0     1     2     3\n",
      "1     4     5     6\n",
      "2     7     8     9\n"
     ]
    }
   ],
   "source": [
    "csv_file = \"input_data/file5.csv\"\n",
    "\n",
    "df = pd.read_csv(csv_file,index_col=0)\n",
    "print(df)"
   ]
  },
  {
   "cell_type": "markdown",
   "metadata": {
    "cell_id": "3c75eff5c6c040eca70b981a7c4e8c5e",
    "deepnote_cell_type": "text-cell-h3",
    "formattedRanges": [],
    "is_collapsed": false,
    "tags": []
   },
   "source": [
    "### 14. There are 9 data rows in the CSV file. Read only the first 4 of them."
   ]
  },
  {
   "cell_type": "markdown",
   "metadata": {
    "cell_id": "327781b66b324e4594d5f6c10430f63b",
    "deepnote_cell_type": "text-cell-p",
    "formattedRanges": [
     {
      "fromCodePoint": 0,
      "marks": {
       "bold": true
      },
      "toCodePoint": 100
     }
    ],
    "is_collapsed": false,
    "tags": []
   },
   "source": [
    "Note: You should NOT read the whole CSV file and use the head() method to select the first 4 rows. 🚫"
   ]
  },
  {
   "cell_type": "code",
   "execution_count": 25,
   "metadata": {
    "cell_id": "600e3f232ad445688610de3be0b5886b",
    "deepnote_cell_height": 115,
    "deepnote_cell_type": "code",
    "tags": []
   },
   "outputs": [
    {
     "name": "stdout",
     "output_type": "stream",
     "text": [
      "   col1  col2  col3\n",
      "0     1     2     3\n",
      "1     4     5     6\n",
      "2     7     8     9\n",
      "3     1     2     3\n"
     ]
    }
   ],
   "source": [
    "csv_file = \"input_data/file6.csv\"\n",
    "\n",
    "df = pd.read_csv(csv_file,nrows=4)\n",
    "print(df)"
   ]
  },
  {
   "cell_type": "markdown",
   "metadata": {
    "cell_id": "2849c90faa1b4005a228b277b2492fca",
    "deepnote_cell_type": "text-cell-h3",
    "formattedRanges": [],
    "is_collapsed": false,
    "tags": []
   },
   "source": [
    "### 15. There are some blank lines in the CSV file. While reading the CSV, you should skip these blank lines."
   ]
  },
  {
   "cell_type": "code",
   "execution_count": 26,
   "metadata": {
    "cell_id": "a2b89e0c4ec9438a95d1d54c0704c548",
    "deepnote_cell_height": 115,
    "deepnote_cell_type": "code",
    "tags": []
   },
   "outputs": [
    {
     "name": "stdout",
     "output_type": "stream",
     "text": [
      "   col1  col2  col3\n",
      "0     1     2     3\n",
      "1     4     5     6\n",
      "2     7     8     9\n",
      "3     1     2     3\n",
      "4     4     5     6\n",
      "5     7     8     9\n"
     ]
    }
   ],
   "source": [
    "csv_file = \"input_data/file7.csv\"\n",
    "\n",
    "df = pd.read_csv(csv_file,skip_blank_lines=True)\n",
    "print(df)"
   ]
  },
  {
   "cell_type": "markdown",
   "metadata": {
    "cell_id": "ecf3c7720bb148fbac19d8ca48f9e203",
    "deepnote_cell_height": 52.390625,
    "deepnote_cell_type": "markdown",
    "tags": []
   },
   "source": [
    "Read More about reading from a CSV here: https://pandas.pydata.org/pandas-docs/stable/reference/api/pandas.read_csv.html"
   ]
  },
  {
   "cell_type": "markdown",
   "metadata": {
    "cell_id": "ed33f266214d420ebd97e2fd3dd98ffc",
    "deepnote_cell_type": "text-cell-h2",
    "formattedRanges": [],
    "is_collapsed": false,
    "tags": []
   },
   "source": [
    "## Output Operations to CSV in Pandas"
   ]
  },
  {
   "cell_type": "markdown",
   "metadata": {
    "cell_id": "29eee7500c494adcace375c2429f4180",
    "deepnote_cell_type": "text-cell-h3",
    "formattedRanges": [],
    "is_collapsed": false,
    "tags": []
   },
   "source": [
    "### 16. Given the dataframe \"df\", store it to a CSV File (with the index values)."
   ]
  },
  {
   "cell_type": "code",
   "execution_count": 28,
   "metadata": {
    "cell_id": "6852c1e4df4f4f3cbd6298d64e808bd9",
    "deepnote_cell_type": "code",
    "deepnote_to_be_reexecuted": false,
    "execution_millis": 1,
    "execution_start": 1659898703469,
    "source_hash": "a0acabfa",
    "tags": []
   },
   "outputs": [
    {
     "name": "stderr",
     "output_type": "stream",
     "text": [
      "'cat' is not recognized as an internal or external command,\n",
      "operable program or batch file.\n"
     ]
    }
   ],
   "source": [
    "df = pd.DataFrame([[1,2,3], [4,5,6]], \n",
    "                  columns = [\"col1\", \"col2\", \"col3\"])\n",
    "\n",
    "csv_file = \"output_data/file1.csv\"\n",
    "\n",
    "## Start your code here\n",
    "df.to_csv(csv_file)\n",
    "## End your code here\n",
    "\n",
    "## Preview the file (DO NOT CHANGE!)\n",
    "!cat \"{csv_file}\""
   ]
  },
  {
   "cell_type": "markdown",
   "metadata": {
    "cell_id": "7efd4fc68d2e4659b5e255637c6f64ad",
    "deepnote_cell_type": "text-cell-h3",
    "formattedRanges": [],
    "is_collapsed": false,
    "tags": []
   },
   "source": [
    "### 17. Given the dataframe \"df\", store it to a CSV File without the index column this time."
   ]
  },
  {
   "cell_type": "code",
   "execution_count": null,
   "metadata": {
    "cell_id": "fefc86a2af274e8a88700d80fbfc1019",
    "deepnote_cell_height": 241,
    "deepnote_cell_type": "code",
    "tags": []
   },
   "outputs": [],
   "source": [
    "df = pd.DataFrame([[1,2,3], [4,5,6]], \n",
    "                  columns = [\"col1\", \"col2\", \"col3\"])\n",
    "\n",
    "csv_file = \"output_data/file2.csv\"\n",
    "\n",
    "## Start your code here\n",
    "\n",
    "## End your code here\n",
    "\n",
    "## Preview the file (DO NOT CHANGE!)\n",
    "!cat \"{csv_file}\""
   ]
  },
  {
   "cell_type": "markdown",
   "metadata": {
    "cell_id": "d27762547a5146e6a69cdb737fc7e561",
    "deepnote_cell_type": "text-cell-h3",
    "formattedRanges": [],
    "is_collapsed": false,
    "tags": []
   },
   "source": [
    "### 18. Given the dataframe \"df\", store it to a CSV File with delimiter as \"|\". (without the index values)"
   ]
  },
  {
   "cell_type": "code",
   "execution_count": 29,
   "metadata": {
    "cell_id": "17d17d83f5b340de808c2f57085202d2",
    "deepnote_cell_height": 241,
    "deepnote_cell_type": "code",
    "tags": []
   },
   "outputs": [
    {
     "name": "stderr",
     "output_type": "stream",
     "text": [
      "'cat' is not recognized as an internal or external command,\n",
      "operable program or batch file.\n"
     ]
    }
   ],
   "source": [
    "df = pd.DataFrame([[1,2,3], [4,5,6]], \n",
    "                  columns = [\"col1\", \"col2\", \"col3\"])\n",
    "\n",
    "csv_file = \"output_data/file3.csv\"\n",
    "\n",
    "## Start your code here\n",
    "df.to_csv(csv_file,sep=\"|\",index=False)\n",
    "## End your code here\n",
    "\n",
    "## Preview the file (DO NOT CHANGE!)\n",
    "!cat \"{csv_file}\""
   ]
  },
  {
   "cell_type": "markdown",
   "metadata": {
    "cell_id": "67f19afbddaf49908460fc8dcae35a1c",
    "deepnote_cell_type": "text-cell-h3",
    "formattedRanges": [],
    "is_collapsed": false,
    "tags": []
   },
   "source": [
    "### 19. Given a dataframe \"df\" with three columns -- \"col1\", \"col2\" and \"col3\". Store only \"col1\" and \"col3\" to a CSV file (without the index values)"
   ]
  },
  {
   "cell_type": "code",
   "execution_count": 30,
   "metadata": {
    "cell_id": "f7b26440d36e424aa726147d4ad30300",
    "deepnote_cell_type": "code",
    "deepnote_to_be_reexecuted": false,
    "execution_millis": 1,
    "execution_start": 1659899383158,
    "source_hash": "e6d00f42",
    "tags": []
   },
   "outputs": [
    {
     "name": "stderr",
     "output_type": "stream",
     "text": [
      "'cat' is not recognized as an internal or external command,\n",
      "operable program or batch file.\n"
     ]
    }
   ],
   "source": [
    "df = pd.DataFrame([[1,2,3], [4,5,6]], \n",
    "                  columns = [\"col1\", \"col2\", \"col3\"])\n",
    "\n",
    "csv_file = \"output_data/file4.csv\"\n",
    "\n",
    "## Start your code here\n",
    "df.to_csv(csv_file,index=False,columns=[\"col1\",\"col3\"])\n",
    "## End your code here\n",
    "\n",
    "## Preview the file (DO NOT CHANGE!)\n",
    "!cat \"{csv_file}\""
   ]
  },
  {
   "cell_type": "markdown",
   "metadata": {
    "cell_id": "71c1fe56fddc4fcba79a7221bf238de4",
    "deepnote_cell_type": "text-cell-h3",
    "formattedRanges": [],
    "is_collapsed": false,
    "tags": []
   },
   "source": [
    "### 20. Given a dataframe \"df\" with three columns -- \"col1\", \"col2\" and \"col3\". Store the DataFrame to a CSV file without the column row ( and without the index values)."
   ]
  },
  {
   "cell_type": "code",
   "execution_count": 31,
   "metadata": {
    "cell_id": "ffca3ac6c28b4a0c89ce952a1b29528f",
    "deepnote_cell_height": 241,
    "deepnote_cell_type": "code",
    "tags": []
   },
   "outputs": [
    {
     "name": "stderr",
     "output_type": "stream",
     "text": [
      "'cat' is not recognized as an internal or external command,\n",
      "operable program or batch file.\n"
     ]
    }
   ],
   "source": [
    "df = pd.DataFrame([[1,2,3], [4,5,6]], \n",
    "                  columns = [\"col1\", \"col2\", \"col3\"])\n",
    "\n",
    "csv_file = \"output_data/file5.csv\"\n",
    "\n",
    "## Start your code here\n",
    "df.to_csv(\"csv_file\",index=False,header=False)\n",
    "## End your code here\n",
    "\n",
    "## Preview the file (DO NOT CHANGE!)\n",
    "!cat \"{csv_file}\""
   ]
  },
  {
   "cell_type": "markdown",
   "metadata": {
    "cell_id": "5eef0f134d2648b88b53c6b2cee062b8",
    "deepnote_cell_height": 74.78125,
    "deepnote_cell_type": "markdown",
    "tags": []
   },
   "source": [
    "Read More about storing to a CSV here: https://pandas.pydata.org/pandas-docs/stable/reference/api/pandas.DataFrame.to_csv.html"
   ]
  },
  {
   "cell_type": "markdown",
   "metadata": {
    "cell_id": "a5c33457dd2943bea0f085846dbbf836",
    "deepnote_cell_type": "text-cell-h2",
    "formattedRanges": [],
    "is_collapsed": false,
    "tags": []
   },
   "source": [
    "## Input Operations from other file formats in Pandas"
   ]
  },
  {
   "cell_type": "markdown",
   "metadata": {
    "cell_id": "5a50047f94444f76b8e1caaafc350e8a",
    "deepnote_cell_type": "text-cell-h3",
    "formattedRanges": [],
    "is_collapsed": false,
    "tags": []
   },
   "source": [
    "### 21. Read a DataFrame from a Pickle File."
   ]
  },
  {
   "cell_type": "code",
   "execution_count": 32,
   "metadata": {
    "cell_id": "11737717005449129596c2fe9a8ee42a",
    "deepnote_cell_height": 115,
    "deepnote_cell_type": "code",
    "tags": []
   },
   "outputs": [
    {
     "name": "stdout",
     "output_type": "stream",
     "text": [
      "   col1  col2  col3\n",
      "0     1     2     3\n",
      "1     4     5     6\n",
      "2     7     8     9\n"
     ]
    }
   ],
   "source": [
    "pickle_file = \"input_data/file1.pickle\"\n",
    "\n",
    "df = pd.read_pickle(pickle_file)\n",
    "print(df)"
   ]
  },
  {
   "cell_type": "markdown",
   "metadata": {
    "cell_id": "80a0811012af47779f724d8f220813f6",
    "deepnote_cell_type": "text-cell-h3",
    "formattedRanges": [],
    "is_collapsed": false,
    "tags": []
   },
   "source": [
    "### 22. Read a DataFrame from a Parquet File."
   ]
  },
  {
   "cell_type": "code",
   "execution_count": 33,
   "metadata": {
    "cell_id": "74afece71f4a4bb4bdcfe66be20005d2",
    "deepnote_cell_height": 115,
    "deepnote_cell_type": "code",
    "tags": []
   },
   "outputs": [
    {
     "name": "stdout",
     "output_type": "stream",
     "text": [
      "   col1  col2  col3\n",
      "0     1     2     3\n",
      "1     4     5     6\n",
      "2     7     8     9\n"
     ]
    }
   ],
   "source": [
    "parquet_file = \"input_data/file1.parquet\"\n",
    "\n",
    "df = pd.read_parquet(parquet_file)\n",
    "print(df)"
   ]
  },
  {
   "cell_type": "markdown",
   "metadata": {
    "cell_id": "7a003a80e3c2495d8e5678e94fdcf6bc",
    "deepnote_cell_type": "text-cell-h3",
    "formattedRanges": [],
    "is_collapsed": false,
    "tags": []
   },
   "source": [
    "### 23. Read a DataFrame from a Parquet File. The file has three columns, \"col1\", \"col2\" and \"col3\". Read only \"col1\" and \"col3\"."
   ]
  },
  {
   "cell_type": "code",
   "execution_count": 34,
   "metadata": {
    "cell_id": "9299f044cb504093a2d0f6d3f0045a57",
    "deepnote_cell_height": 115,
    "deepnote_cell_type": "code",
    "tags": []
   },
   "outputs": [
    {
     "name": "stdout",
     "output_type": "stream",
     "text": [
      "   col1  col3\n",
      "0     1     3\n",
      "1     4     6\n",
      "2     7     9\n"
     ]
    }
   ],
   "source": [
    "parquet_file = \"input_data/file1.parquet\"\n",
    "\n",
    "df = pd.read_parquet(parquet_file,columns=[\"col1\",\"col3\"])\n",
    "print(df)"
   ]
  },
  {
   "cell_type": "markdown",
   "metadata": {
    "cell_id": "709ba97d343f461d9b6941fb2a05b1ea",
    "deepnote_cell_type": "text-cell-h3",
    "formattedRanges": [],
    "is_collapsed": false,
    "tags": []
   },
   "source": [
    "### 24. Read a DataFrame from a Feather File."
   ]
  },
  {
   "cell_type": "code",
   "execution_count": 35,
   "metadata": {
    "cell_id": "b1674b4cf01f44608e74c38356b38afa",
    "deepnote_cell_height": 115,
    "deepnote_cell_type": "code",
    "tags": []
   },
   "outputs": [
    {
     "name": "stdout",
     "output_type": "stream",
     "text": [
      "   col1  col2  col3\n",
      "0     1     2     3\n",
      "1     4     5     6\n",
      "2     7     8     9\n"
     ]
    }
   ],
   "source": [
    "feather_file = \"input_data/file1.feather\"\n",
    "\n",
    "df = pd.read_feather(feather_file)\n",
    "print(df)"
   ]
  },
  {
   "cell_type": "markdown",
   "metadata": {
    "cell_id": "cdc07eb2d2e1452c9675b17b2ad33338",
    "deepnote_cell_type": "text-cell-h3",
    "formattedRanges": [],
    "is_collapsed": false,
    "tags": []
   },
   "source": [
    "### 25. Read a DataFrame from a Feather File. The file has three columns, \"col1\", \"col2\" and \"col3\". Read only \"col1\" and \"col3\"."
   ]
  },
  {
   "cell_type": "code",
   "execution_count": 36,
   "metadata": {
    "cell_id": "a33536e6f7ba421dac6aedd0b5888cf9",
    "deepnote_cell_height": 115,
    "deepnote_cell_type": "code",
    "tags": []
   },
   "outputs": [
    {
     "name": "stdout",
     "output_type": "stream",
     "text": [
      "   col1  col3\n",
      "0     1     3\n",
      "1     4     6\n",
      "2     7     9\n"
     ]
    }
   ],
   "source": [
    "feather_file = \"input_data/file1.feather\"\n",
    "\n",
    "df = pd.read_feather(feather_file,columns=[\"col1\",\"col3\"])\n",
    "print(df)"
   ]
  },
  {
   "cell_type": "markdown",
   "metadata": {
    "cell_id": "8d333e07712b4449b3354b8f18812974",
    "deepnote_cell_type": "text-cell-h2",
    "formattedRanges": [],
    "is_collapsed": false,
    "tags": []
   },
   "source": [
    "## Output Operations to other file formats in Pandas"
   ]
  },
  {
   "cell_type": "markdown",
   "metadata": {
    "cell_id": "da36b6bb251d410292bd3239556dc0ce",
    "deepnote_cell_type": "text-cell-h3",
    "formattedRanges": [],
    "is_collapsed": false,
    "tags": []
   },
   "source": [
    "### 26. Save the DataFrame to a Pickle File."
   ]
  },
  {
   "cell_type": "code",
   "execution_count": 37,
   "metadata": {
    "cell_id": "db8950dc1a1b4efca79ffbc44dc11e68",
    "deepnote_cell_height": 241,
    "deepnote_cell_type": "code",
    "tags": []
   },
   "outputs": [
    {
     "name": "stderr",
     "output_type": "stream",
     "text": [
      "'cat' is not recognized as an internal or external command,\n",
      "operable program or batch file.\n"
     ]
    }
   ],
   "source": [
    "df = pd.DataFrame([[1,2,3], [4,5,6]], \n",
    "                  columns = [\"col1\", \"col2\", \"col3\"])\n",
    "\n",
    "pickle_file = \"output_data/file1.pickle\"\n",
    "\n",
    "## Start your code here\n",
    "df.to_pickle(pickle_file)\n",
    "## End your code here\n",
    "\n",
    "## Preview the file (DO NOT CHANGE!)\n",
    "!cat \"{pickle_file}\""
   ]
  },
  {
   "cell_type": "markdown",
   "metadata": {
    "cell_id": "f40465e87e0b4a8b813ff09fc1c78572",
    "deepnote_cell_type": "text-cell-h3",
    "formattedRanges": [],
    "is_collapsed": false,
    "tags": []
   },
   "source": [
    "### 27. Save the DataFrame to a Parquet File."
   ]
  },
  {
   "cell_type": "code",
   "execution_count": null,
   "metadata": {
    "cell_id": "a66b50fd24a34df78a22a8186c89bf40",
    "deepnote_cell_height": 241,
    "deepnote_cell_type": "code",
    "tags": []
   },
   "outputs": [],
   "source": [
    "df = pd.DataFrame([[1,2,3], [4,5,6]], \n",
    "                  columns = [\"col1\", \"col2\", \"col3\"])\n",
    "\n",
    "parquet_file = \"output_data/file1.parquet\"\n",
    "\n",
    "## Start your code here\n",
    "\n",
    "## End your code here\n",
    "\n",
    "## Preview the file (DO NOT CHANGE!)\n",
    "!cat \"{pickle_file}\""
   ]
  },
  {
   "cell_type": "markdown",
   "metadata": {
    "cell_id": "757b92f2ceac472e80286592b7b3178d",
    "deepnote_cell_type": "text-cell-h3",
    "formattedRanges": [],
    "is_collapsed": false,
    "tags": []
   },
   "source": [
    "### 28. Save the DataFrame to a Parquet File without the index column"
   ]
  },
  {
   "cell_type": "code",
   "execution_count": 38,
   "metadata": {
    "cell_id": "92b95f5cc9654ee1b27f3114cddd3aaa",
    "deepnote_cell_height": 241,
    "deepnote_cell_type": "code",
    "tags": []
   },
   "outputs": [
    {
     "name": "stderr",
     "output_type": "stream",
     "text": [
      "'cat' is not recognized as an internal or external command,\n",
      "operable program or batch file.\n"
     ]
    }
   ],
   "source": [
    "df = pd.DataFrame([[1,2,3], [4,5,6]], \n",
    "                  columns = [\"col1\", \"col2\", \"col3\"])\n",
    "\n",
    "parquet_file = \"output_data/file2.parquet\"\n",
    "\n",
    "## Start your code here\n",
    "df.to_parquet(parquet_file,index=False)\n",
    "## End your code here\n",
    "\n",
    "## Preview the file (DO NOT CHANGE!)\n",
    "!cat \"{pickle_file}\""
   ]
  },
  {
   "cell_type": "markdown",
   "metadata": {
    "cell_id": "cb85b06be3fc44f1be1cc7374338047f",
    "deepnote_cell_type": "text-cell-h3",
    "formattedRanges": [],
    "is_collapsed": false,
    "tags": []
   },
   "source": [
    "### 29. Save the DataFrame to a Feather File."
   ]
  },
  {
   "cell_type": "code",
   "execution_count": null,
   "metadata": {
    "cell_id": "75a1e91bd58a4970a040ed7f1f8a7127",
    "deepnote_cell_height": 241,
    "deepnote_cell_type": "code",
    "tags": []
   },
   "outputs": [],
   "source": [
    "df = pd.DataFrame([[1,2,3], [4,5,6]], \n",
    "                  columns = [\"col1\", \"col2\", \"col3\"])\n",
    "\n",
    "feather_file = \"output_data/file1.feather\"\n",
    "\n",
    "## Start your code here\n",
    "\n",
    "## End your code here\n",
    "\n",
    "## Preview the file (DO NOT CHANGE!)\n",
    "!cat \"{feather_file}\""
   ]
  },
  {
   "cell_type": "markdown",
   "metadata": {
    "cell_id": "242880a94605400f9eadae28d1d60c39",
    "deepnote_cell_type": "text-cell-h3",
    "formattedRanges": [],
    "is_collapsed": false,
    "tags": []
   },
   "source": [
    "### 30. Save the DataFrame to a Feather File without the index column."
   ]
  },
  {
   "cell_type": "code",
   "execution_count": null,
   "metadata": {
    "cell_id": "7d2ed1691a204aeb8190942c1b00997e",
    "deepnote_cell_height": 241,
    "deepnote_cell_type": "code",
    "tags": []
   },
   "outputs": [],
   "source": [
    "df = pd.DataFrame([[1,2,3], [4,5,6]], \n",
    "                  columns = [\"col1\", \"col2\", \"col3\"])\n",
    "\n",
    "feather_file = \"output_data/file2.feather\"\n",
    "\n",
    "## Start your code here\n",
    "\n",
    "## End your code here\n",
    "\n",
    "## Preview the file (DO NOT CHANGE!)\n",
    "!cat \"{feather_file}\""
   ]
  },
  {
   "cell_type": "markdown",
   "metadata": {
    "cell_id": "3edc4931452d4038a36b2d705f02c6ff",
    "deepnote_cell_height": 135.390625,
    "deepnote_cell_type": "markdown",
    "tags": []
   },
   "source": [
    "Great job solving this notebook. Go to Pandas Notebook 2: [Link](https://deepnote.com/workspace/avi-chawla-695b-aee6f4ef-2d50-4fb6-9ef2-20ee1022995a/project/Pandas-Notebook-employee-dataset-7e3b6755-5d4b-464b-9b75-9c84667ae3bd/%2Fnotebook.ipynb)"
   ]
  },
  {
   "cell_type": "markdown",
   "metadata": {
    "created_in_deepnote_cell": true,
    "deepnote_cell_type": "markdown"
   },
   "source": [
    "<a style='text-decoration:none;line-height:16px;display:flex;color:#5B5B62;padding:10px;justify-content:end;' href='https://deepnote.com?utm_source=created-in-deepnote-cell&projectId=d693ac55-6455-40cf-ae34-867c6a02014e' target=\"_blank\">\n",
    "<img alt='Created in deepnote.com' style='display:inline;max-height:16px;margin:0px;margin-right:7.5px;' src='data:image/svg+xml;base64,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' > </img>\n",
    "Created in <span style='font-weight:600;margin-left:4px;'>Deepnote</span></a>"
   ]
  }
 ],
 "metadata": {
  "deepnote_notebook_id": "6449493c84734151b11f4b6871f045d2",
  "kernelspec": {
   "display_name": "Python 3",
   "language": "python",
   "name": "python3"
  },
  "language_info": {
   "codemirror_mode": {
    "name": "ipython",
    "version": 3
   },
   "file_extension": ".py",
   "mimetype": "text/x-python",
   "name": "python",
   "nbconvert_exporter": "python",
   "pygments_lexer": "ipython3",
   "version": "3.11.9"
  }
 },
 "nbformat": 4,
 "nbformat_minor": 0
}
