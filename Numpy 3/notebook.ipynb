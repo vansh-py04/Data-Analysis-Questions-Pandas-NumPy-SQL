{
 "cells": [
  {
   "cell_type": "markdown",
   "metadata": {
    "cell_id": "8a579b93ad214194800c3bc3ea099516",
    "deepnote_cell_type": "text-cell-h1",
    "formattedRanges": [],
    "is_collapsed": false,
    "tags": []
   },
   "source": [
    "# 450+ Practice Questions From Pandas, NumPy, and SQL."
   ]
  },
  {
   "cell_type": "markdown",
   "metadata": {
    "cell_id": "dd1c988d54d44135b25f89a670e5501d",
    "deepnote_cell_height": 125.171875,
    "deepnote_cell_type": "markdown",
    "tags": []
   },
   "source": [
    "Author: Avi Chawla\n",
    "\n",
    "LinkedIn: https://www.linkedin.com/in/avi-chawla/\n",
    "\n",
    "Read my blogs here: https://medium.com/@avi_chawla"
   ]
  },
  {
   "cell_type": "markdown",
   "metadata": {
    "cell_id": "1f231344d2c64eae9d6b2becf0d775d1",
    "deepnote_cell_type": "text-cell-h2",
    "formattedRanges": [],
    "is_collapsed": false,
    "tags": []
   },
   "source": [
    "## Introduction"
   ]
  },
  {
   "cell_type": "markdown",
   "metadata": {
    "cell_id": "a76e7760d2354709823e50cec27e8fcc",
    "deepnote_cell_type": "text-cell-p",
    "formattedRanges": [
     {
      "fromCodePoint": 156,
      "marks": {
       "bold": true
      },
      "toCodePoint": 179
     }
    ],
    "is_collapsed": false,
    "tags": []
   },
   "source": [
    "This notebook has been created for you to practice three of the most common tools used in building any machine learning or data science applications, i.e., Pandas, NumPy, and SQL!"
   ]
  },
  {
   "cell_type": "markdown",
   "metadata": {
    "cell_id": "833c44105ae143208f9b7cca81e51232",
    "deepnote_cell_type": "text-cell-p",
    "formattedRanges": [],
    "is_collapsed": false,
    "tags": []
   },
   "source": [
    "The practice questions provided will serve as a great resource for those who are looking to familiarize themselves with some of the most common functions used in these tools. "
   ]
  },
  {
   "cell_type": "markdown",
   "metadata": {
    "cell_id": "867cf820cabb4099b02fa3fa5b9bbfc0",
    "deepnote_cell_type": "text-cell-p",
    "formattedRanges": [
     {
      "fromCodePoint": 284,
      "marks": {
       "bold": true
      },
      "toCodePoint": 289
     },
     {
      "fromCodePoint": 302,
      "marks": {
       "bold": true
      },
      "toCodePoint": 305
     }
    ],
    "is_collapsed": false,
    "tags": []
   },
   "source": [
    "Appropriate descriptions have been provided for all the questions in this entire exercise which will help you navigate through this exercise easily. If a dataset is to be loaded in the python environment, that has also been provided for you. You can find it on the right panel in the Files section. Do NOT delete any of the files/folders listed there. "
   ]
  },
  {
   "cell_type": "markdown",
   "metadata": {
    "cell_id": "9ce4eaa506bf4daab1b21fdfa016a855",
    "deepnote_cell_type": "text-cell-p",
    "formattedRanges": [],
    "is_collapsed": false,
    "tags": []
   },
   "source": [
    "The whole exercise has been divided into nine separate notebooks. Below are the links to all the other notebooks for you to jump from one notebook to another:"
   ]
  },
  {
   "cell_type": "markdown",
   "metadata": {
    "cell_id": "058f991b38684c2eb92b0ddfda739448",
    "deepnote_cell_height": 403.6875,
    "deepnote_cell_type": "markdown",
    "tags": []
   },
   "source": [
    "- **Pandas**\n",
    "\n",
    "1. Pandas Notebook 1: [Link](https://deepnote.com/workspace/avi-chawla-695b-aee6f4ef-2d50-4fb6-9ef2-20ee1022995a/project/Pandas-Notebook-1-d693ac55-6455-40cf-ae34-867c6a02014e/notebook/6449493c84734151b11f4b6871f045d2#99f75bf946d04b9bb1daa9e14c2cfea9) \n",
    "2. Pandas Notebook 2: [Link](https://deepnote.com/workspace/avi-chawla-695b-aee6f4ef-2d50-4fb6-9ef2-20ee1022995a/project/Pandas-Notebook-employee-dataset-7e3b6755-5d4b-464b-9b75-9c84667ae3bd/notebook/notebook-0de50f3b70834570b13b651dde44c491) \n",
    "\n",
    "3. Pandas Notebook 3: [Link](https://deepnote.com/workspace/avi-chawla-695b-aee6f4ef-2d50-4fb6-9ef2-20ee1022995a/project/Pandas-Notebook-employee-part-2-adc5a3ee-5f61-4725-8e46-ccb07899acfc/notebook/notebook-78e3faf901da4f14881ef24e41c80bf6) \n",
    "\n",
    "4. Pandas Notebook 4: [Link](https://deepnote.com/workspace/avi-chawla-695b-aee6f4ef-2d50-4fb6-9ef2-20ee1022995a/project/Pandas-after-employee-f84e02a1-fb6a-428e-af90-8dd99855749a/notebook/notebook-134ac20c38ef45e5a4432abd638e6c2e) \n",
    "\n",
    "- **NumPy**\n",
    "\n",
    "1. NumPy Notebook 1: [Link](https://deepnote.com/workspace/avi-chawla-695b-aee6f4ef-2d50-4fb6-9ef2-20ee1022995a/project/Numpy-part-1-9b9979f2-b708-4292-b466-3d0157564c91/notebook/notebook-07232b5ebafe49b198a9c55c553414f1) \n",
    "\n",
    "2. NumPy Notebook 2: [Link](https://deepnote.com/workspace/avi-chawla-695b-aee6f4ef-2d50-4fb6-9ef2-20ee1022995a/project/NumPy-Notebook-2-4456411e-2ddd-426d-8027-4881080027db/notebook/notebook-988aba30f33a45a3861adc4f6a6f338c)  \n",
    "\n",
    "3. NumPy Notebook 3: [Link](https://deepnote.com/workspace/avi-chawla-695b-aee6f4ef-2d50-4fb6-9ef2-20ee1022995a/project/NumPy-Notebook-3-e6587114-b580-4249-b599-540de859e603/notebook/notebook-bb52759ea3f542eaaed9958b5df9c34b) **(This Notebook)**\n",
    "\n",
    "- **SQL**\n",
    "\n",
    "1. SQL Notebook 1: [Link](https://deepnote.com/workspace/avi-chawla-695b-aee6f4ef-2d50-4fb6-9ef2-20ee1022995a/project/SQL-Notebook-1-eac9d782-a9b1-4e84-a1f9-af14080a6121/notebook/notebook-697f04297c664d02901db0f85431512e)\n",
    "\n",
    "2. SQL Notebook 2: [Link](https://deepnote.com/workspace/avi-chawla-695b-aee6f4ef-2d50-4fb6-9ef2-20ee1022995a/project/SQL-Notebook-2-1914b214-be03-44a1-be63-ad99e98be639/notebook/notebook-e549236b988c42a5b53126a7ebb98127)"
   ]
  },
  {
   "cell_type": "markdown",
   "metadata": {
    "cell_id": "eebf832bb8a445d4a6307ba6ba4c8f77",
    "deepnote_cell_type": "text-cell-h2",
    "formattedRanges": [],
    "is_collapsed": false,
    "tags": []
   },
   "source": [
    "## How to use this notebook?"
   ]
  },
  {
   "cell_type": "markdown",
   "metadata": {
    "cell_id": "b43d80bdce7547d2badd75766af0f9b5",
    "deepnote_cell_type": "text-cell-p",
    "formattedRanges": [
     {
      "fromCodePoint": 41,
      "marks": {
       "bold": true
      },
      "toCodePoint": 50
     }
    ],
    "is_collapsed": false,
    "tags": []
   },
   "source": [
    "At the top right corner, you will find a Duplicate button. This will allow you to create a unique notebook for your own practice and write solutions to the question listed in this notebook.  "
   ]
  },
  {
   "cell_type": "markdown",
   "metadata": {
    "cell_id": "17cdae44d46840c388bad679df507b4a",
    "deepnote_cell_height": 74.78125,
    "deepnote_cell_type": "markdown",
    "tags": []
   },
   "source": [
    "If you face any issues or have any feedback, feel free to reach out to me (Avi Chawla) either on Linkedin: https://www.linkedin.com/in/avi-chawla/ or write an email to avi@dsscholar[dot]com. "
   ]
  },
  {
   "cell_type": "markdown",
   "metadata": {
    "cell_id": "8e6b9a95331c4a509288c1e347030225",
    "deepnote_cell_type": "text-cell-p",
    "formattedRanges": [],
    "is_collapsed": false,
    "tags": []
   },
   "source": [
    "Let's begin 🚀!"
   ]
  },
  {
   "cell_type": "markdown",
   "metadata": {
    "cell_id": "f60cda9106ce483795d10ce46e874e1a",
    "deepnote_cell_type": "text-cell-h1",
    "formattedRanges": [],
    "is_collapsed": false,
    "tags": []
   },
   "source": [
    "# NumPy Notebook 3"
   ]
  },
  {
   "cell_type": "code",
   "execution_count": 1,
   "metadata": {
    "cell_id": "62f1abe6fa3b41a38f077f72b8571dee",
    "deepnote_cell_type": "code",
    "deepnote_to_be_reexecuted": false,
    "execution_millis": 5,
    "execution_start": 1660135501195,
    "source_hash": "c2602aa8",
    "tags": []
   },
   "outputs": [],
   "source": [
    "import numpy as np\n",
    "import pandas as pd"
   ]
  },
  {
   "cell_type": "markdown",
   "metadata": {
    "cell_id": "6e31622be3d44353a2ba405be9da2683",
    "deepnote_cell_type": "text-cell-h3",
    "formattedRanges": [],
    "is_collapsed": false,
    "tags": []
   },
   "source": [
    "### 85. Print the data type of the numpy array below "
   ]
  },
  {
   "cell_type": "code",
   "execution_count": 2,
   "metadata": {
    "cell_id": "f05641e3eac144dbb64caea4ec2d5e1f",
    "deepnote_cell_height": 115,
    "deepnote_cell_type": "code",
    "tags": []
   },
   "outputs": [
    {
     "name": "stdout",
     "output_type": "stream",
     "text": [
      "int32\n"
     ]
    }
   ],
   "source": [
    "a = np.array([[1, 2, 3], [4, 5, 6]], np.int32)\n",
    "\n",
    "data_type = a.dtype\n",
    "print(data_type)"
   ]
  },
  {
   "cell_type": "markdown",
   "metadata": {
    "cell_id": "5d8051873ce54a3dbf2c0e4856a98120",
    "deepnote_cell_type": "text-cell-h3",
    "formattedRanges": [],
    "is_collapsed": false,
    "tags": []
   },
   "source": [
    "### 86. Print the second element in the first row"
   ]
  },
  {
   "cell_type": "code",
   "execution_count": 3,
   "metadata": {
    "cell_id": "445689ec88464e18bc909e218937c023",
    "deepnote_cell_height": 115,
    "deepnote_cell_type": "code",
    "tags": []
   },
   "outputs": [
    {
     "name": "stdout",
     "output_type": "stream",
     "text": [
      "2\n"
     ]
    }
   ],
   "source": [
    "a = np.array([[1, 2, 3], [4, 5, 6]], np.int32)\n",
    "\n",
    "element = a[0][1]\n",
    "print(element)"
   ]
  },
  {
   "cell_type": "markdown",
   "metadata": {
    "cell_id": "3659077f048d4a4c93911375ff96dd3f",
    "deepnote_cell_type": "text-cell-h3",
    "formattedRanges": [],
    "is_collapsed": false,
    "tags": []
   },
   "source": [
    "### 87. Print the first column"
   ]
  },
  {
   "cell_type": "code",
   "execution_count": 5,
   "metadata": {
    "cell_id": "8a2ebf0eadd340149400b37d79abe6fd",
    "deepnote_cell_height": 115,
    "deepnote_cell_type": "code",
    "tags": []
   },
   "outputs": [
    {
     "name": "stdout",
     "output_type": "stream",
     "text": [
      "[2 5]\n"
     ]
    }
   ],
   "source": [
    "a = np.array([[1, 2, 3], [4, 5, 6]], np.int32)\n",
    "\n",
    "column = a[:,1]\n",
    "print(column)"
   ]
  },
  {
   "cell_type": "markdown",
   "metadata": {
    "cell_id": "3c63935fb46048c8882c9fc6e42a6135",
    "deepnote_cell_type": "text-cell-h3",
    "formattedRanges": [],
    "is_collapsed": false,
    "tags": []
   },
   "source": [
    "### 88. Print the real part of the NumPy array"
   ]
  },
  {
   "cell_type": "code",
   "execution_count": 6,
   "metadata": {
    "cell_id": "0683049a58b947cb8f13dc522eef5d0d",
    "deepnote_cell_height": 115,
    "deepnote_cell_type": "code",
    "tags": []
   },
   "outputs": [
    {
     "name": "stdout",
     "output_type": "stream",
     "text": [
      "[1. 2. 4.]\n"
     ]
    }
   ],
   "source": [
    "a = np.array([1+2j, 2+5j, 4+9j])\n",
    "\n",
    "real = a.real\n",
    "print(real)"
   ]
  },
  {
   "cell_type": "markdown",
   "metadata": {
    "cell_id": "c560b3ed3183497584bb4cd7c5388ce0",
    "deepnote_cell_type": "text-cell-h3",
    "formattedRanges": [],
    "is_collapsed": false,
    "tags": []
   },
   "source": [
    "### 89. Print the imaginary part of the NumPy array"
   ]
  },
  {
   "cell_type": "code",
   "execution_count": 7,
   "metadata": {
    "cell_id": "6c2f6226e30c41ba955370047316f8da",
    "deepnote_cell_height": 115,
    "deepnote_cell_type": "code",
    "tags": []
   },
   "outputs": [
    {
     "name": "stdout",
     "output_type": "stream",
     "text": [
      "[2. 5. 9.]\n"
     ]
    }
   ],
   "source": [
    "a = np.array([1+2j, 2+5j, 4+9j])\n",
    "\n",
    "img = a.imag\n",
    "print(img)"
   ]
  },
  {
   "cell_type": "markdown",
   "metadata": {
    "cell_id": "6863b9a1548b411f9c76c1f80d2e96c1",
    "deepnote_cell_type": "text-cell-h3",
    "formattedRanges": [],
    "is_collapsed": false,
    "tags": []
   },
   "source": [
    "### 90. Convert the data type from int to float"
   ]
  },
  {
   "cell_type": "code",
   "execution_count": 8,
   "metadata": {
    "cell_id": "fb95c5f71dc240eea4dfcc92530330a1",
    "deepnote_cell_height": 115,
    "deepnote_cell_type": "code",
    "tags": []
   },
   "outputs": [
    {
     "name": "stdout",
     "output_type": "stream",
     "text": [
      "[[1. 2. 3.]\n",
      " [4. 5. 6.]]\n"
     ]
    }
   ],
   "source": [
    "a = np.array([[1, 2, 3], [4, 5, 6]], np.int32)\n",
    "\n",
    "np_array = a.astype(float)\n",
    "print(np_array)"
   ]
  },
  {
   "cell_type": "markdown",
   "metadata": {
    "cell_id": "58b8b1c3a79842579ec06e77cb6b1ad0",
    "deepnote_cell_type": "text-cell-h3",
    "formattedRanges": [],
    "is_collapsed": false,
    "tags": []
   },
   "source": [
    "### 91. Create a copy of the NumPy array"
   ]
  },
  {
   "cell_type": "code",
   "execution_count": 9,
   "metadata": {
    "cell_id": "0faa0d9d1f3b47bd929c89037a98bd77",
    "deepnote_cell_height": 115,
    "deepnote_cell_type": "code",
    "tags": []
   },
   "outputs": [
    {
     "name": "stdout",
     "output_type": "stream",
     "text": [
      "[[1 2 3]\n",
      " [4 5 6]]\n"
     ]
    }
   ],
   "source": [
    "a = np.array([[1, 2, 3], [4, 5, 6]])\n",
    "\n",
    "np_array = np.copy(a)\n",
    "print(np_array)"
   ]
  },
  {
   "cell_type": "markdown",
   "metadata": {
    "cell_id": "08cdd6df5ba948f2bbba3786a9f753aa",
    "deepnote_cell_type": "text-cell-h3",
    "formattedRanges": [],
    "is_collapsed": false,
    "tags": []
   },
   "source": [
    "### 92. Print the diagonal of the NumPy array"
   ]
  },
  {
   "cell_type": "code",
   "execution_count": 10,
   "metadata": {
    "cell_id": "defcb1b1e24c4c98a2f0ab6391775fdb",
    "deepnote_cell_height": 115,
    "deepnote_cell_type": "code",
    "tags": []
   },
   "outputs": [
    {
     "name": "stdout",
     "output_type": "stream",
     "text": [
      "[1 5]\n"
     ]
    }
   ],
   "source": [
    "a = np.array([[1, 2, 3], [4, 5, 6]])\n",
    "\n",
    "diag = a.diagonal()\n",
    "print(diag)"
   ]
  },
  {
   "cell_type": "markdown",
   "metadata": {
    "cell_id": "f5e2181bd42b440d85204a32a42ac5ce",
    "deepnote_cell_type": "text-cell-h3",
    "formattedRanges": [],
    "is_collapsed": false,
    "tags": []
   },
   "source": [
    "### 93. Change the value of third element in 2nd row to 10"
   ]
  },
  {
   "cell_type": "code",
   "execution_count": 11,
   "metadata": {
    "cell_id": "e9a277c1d1cb45f0a050a10ce9934a64",
    "deepnote_cell_height": 115,
    "deepnote_cell_type": "code",
    "tags": []
   },
   "outputs": [
    {
     "name": "stdout",
     "output_type": "stream",
     "text": [
      "[[ 1  2  3]\n",
      " [ 4  5 10]]\n"
     ]
    }
   ],
   "source": [
    "a = np.array([[1, 2, 3], [4, 5, 6]])\n",
    "\n",
    "a[1][2] = 10\n",
    "print(a)"
   ]
  },
  {
   "cell_type": "markdown",
   "metadata": {
    "cell_id": "4b7e23de533941588996ed9f1283e257",
    "deepnote_cell_type": "text-cell-h3",
    "formattedRanges": [],
    "is_collapsed": false,
    "tags": []
   },
   "source": [
    "### 94. Create a numpy array of ones with the same shape as the array 'a'. "
   ]
  },
  {
   "cell_type": "code",
   "execution_count": 13,
   "metadata": {
    "cell_id": "dc72a0bb7a7747e99210f028b7652f7e",
    "deepnote_cell_height": 115,
    "deepnote_cell_type": "code",
    "tags": []
   },
   "outputs": [
    {
     "name": "stdout",
     "output_type": "stream",
     "text": [
      "[[1. 1. 1.]\n",
      " [1. 1. 1.]]\n"
     ]
    }
   ],
   "source": [
    "a = np.array([[1, 2, 3], [4, 5, 6]])\n",
    "\n",
    "np_array = np.ones(a.shape)\n",
    "print(np_array)"
   ]
  },
  {
   "cell_type": "markdown",
   "metadata": {
    "cell_id": "defdbba4b2574293bdb29e7042bbdc5a",
    "deepnote_cell_type": "text-cell-h3",
    "formattedRanges": [],
    "is_collapsed": false,
    "tags": []
   },
   "source": [
    "### 95. Create a numpy array of zeros with the same shape as the array 'a'. "
   ]
  },
  {
   "cell_type": "code",
   "execution_count": 14,
   "metadata": {
    "cell_id": "5edace91072142a090e64bf8730986e5",
    "deepnote_cell_height": 115,
    "deepnote_cell_type": "code",
    "tags": []
   },
   "outputs": [
    {
     "name": "stdout",
     "output_type": "stream",
     "text": [
      "[[0. 0. 0.]\n",
      " [0. 0. 0.]]\n"
     ]
    }
   ],
   "source": [
    "a = np.array([[1, 2, 3], [4, 5, 6]])\n",
    "\n",
    "np_array = np.zeros(a.shape)\n",
    "print(np_array)"
   ]
  },
  {
   "cell_type": "markdown",
   "metadata": {
    "cell_id": "1f443da0454443f29758dbbe9829e8a6",
    "deepnote_cell_type": "text-cell-h3",
    "formattedRanges": [],
    "is_collapsed": false,
    "tags": []
   },
   "source": [
    "### 96. Print the sum of the diagonal elements."
   ]
  },
  {
   "cell_type": "markdown",
   "metadata": {
    "cell_id": "3952d93d2a8f41d1a0afdf7e9c37b9ba",
    "deepnote_cell_type": "text-cell-p",
    "formattedRanges": [
     {
      "fromCodePoint": 48,
      "marks": {
       "bold": true
      },
      "toCodePoint": 53
     }
    ],
    "is_collapsed": false,
    "tags": []
   },
   "source": [
    "The sum of diagonal elements is also called its trace. "
   ]
  },
  {
   "cell_type": "code",
   "execution_count": 16,
   "metadata": {
    "cell_id": "6eebf3dd131d4f6c9ea2746bf9adea36",
    "deepnote_cell_height": 115,
    "deepnote_cell_type": "code",
    "tags": []
   },
   "outputs": [
    {
     "name": "stdout",
     "output_type": "stream",
     "text": [
      "6\n"
     ]
    }
   ],
   "source": [
    "a = np.array([[1, 2, 3], [4, 5, 6]])\n",
    "\n",
    "trace = np.sum(np.diagonal(a))\n",
    "print(trace)"
   ]
  },
  {
   "cell_type": "markdown",
   "metadata": {
    "cell_id": "2839050eef7c43ebb47580e08c26a2b9",
    "deepnote_cell_type": "text-cell-h3",
    "formattedRanges": [],
    "is_collapsed": false,
    "tags": []
   },
   "source": [
    "### 97. Check whether all the elements of the array are finite or not "
   ]
  },
  {
   "cell_type": "code",
   "execution_count": 17,
   "metadata": {
    "cell_id": "3822ae3997c34892a2c8f68c814aba7b",
    "deepnote_cell_height": 115,
    "deepnote_cell_type": "code",
    "tags": []
   },
   "outputs": [
    {
     "name": "stdout",
     "output_type": "stream",
     "text": [
      "[[ True  True  True]\n",
      " [ True  True  True]]\n"
     ]
    }
   ],
   "source": [
    "a = np.array([[1, 2, 3], [4, 5, 6]])\n",
    "\n",
    "check_finite = np.isfinite(a)\n",
    "print(check_finite)"
   ]
  },
  {
   "cell_type": "markdown",
   "metadata": {
    "cell_id": "f8237499e7f5404b88ce51b49bc91b2d",
    "deepnote_cell_type": "text-cell-h3",
    "formattedRanges": [],
    "is_collapsed": false,
    "tags": []
   },
   "source": [
    "### 98. Check whether all the elements of the array are finite or not "
   ]
  },
  {
   "cell_type": "code",
   "execution_count": 19,
   "metadata": {
    "allow_embed": "code",
    "cell_id": "bfb2945b777b41689e1ff736d9ce0e13",
    "deepnote_cell_height": 115,
    "deepnote_cell_type": "code",
    "tags": []
   },
   "outputs": [
    {
     "name": "stdout",
     "output_type": "stream",
     "text": [
      "[[ True  True  True]\n",
      " [ True  True False]]\n"
     ]
    }
   ],
   "source": [
    "a = np.array([[1, 2, 3], [4, 5, np.nan]])\n",
    "\n",
    "check_finite = np.isfinite(a)\n",
    "print(check_finite)"
   ]
  },
  {
   "cell_type": "markdown",
   "metadata": {
    "cell_id": "e54b3bd06aff4d2d86b2ab2a3b8fc565",
    "deepnote_cell_type": "text-cell-h3",
    "formattedRanges": [],
    "is_collapsed": false,
    "tags": []
   },
   "source": [
    "### 99. Check whether the two numpy arrays are equal or not. "
   ]
  },
  {
   "cell_type": "code",
   "execution_count": 21,
   "metadata": {
    "cell_id": "ffd28e839b64414887967d5e08ab8734",
    "deepnote_cell_height": 133,
    "deepnote_cell_type": "code",
    "tags": []
   },
   "outputs": [
    {
     "name": "stdout",
     "output_type": "stream",
     "text": [
      "[[ True  True  True]\n",
      " [ True  True  True]]\n"
     ]
    }
   ],
   "source": [
    "a = np.array([[1, 2, 3], [4, 5, 6]])\n",
    "b = np.array([[1, 2, 3], [4, 5, 6]])\n",
    "\n",
    "check_equal= np.equal(a,b)\n",
    "print(check_equal)"
   ]
  },
  {
   "cell_type": "markdown",
   "metadata": {
    "cell_id": "fd6c3a6b3c184591999927616c17086f",
    "deepnote_cell_type": "text-cell-h3",
    "formattedRanges": [],
    "is_collapsed": false,
    "tags": []
   },
   "source": [
    "### 100. Check whether the two numpy arrays are equal or not. "
   ]
  },
  {
   "cell_type": "code",
   "execution_count": 23,
   "metadata": {
    "cell_id": "ec3e5423c2724f479aa6938b474b7003",
    "deepnote_cell_height": 133,
    "deepnote_cell_type": "code",
    "tags": []
   },
   "outputs": [
    {
     "name": "stdout",
     "output_type": "stream",
     "text": [
      "[[ True  True  True]\n",
      " [ True  True  True]]\n"
     ]
    }
   ],
   "source": [
    "a = np.array([[1, 2, 3], [4, 5, 6]])\n",
    "b = np.array([[1, 2, 3], [4, 5, 6]], np.float32)\n",
    "\n",
    "check_equal= np.equal(a,b)\n",
    "print(check_equal)"
   ]
  },
  {
   "cell_type": "markdown",
   "metadata": {
    "cell_id": "642a2022ab98417f9184e0bdc89a5903",
    "deepnote_cell_type": "text-cell-h3",
    "formattedRanges": [],
    "is_collapsed": false,
    "tags": []
   },
   "source": [
    "### 101. Sum of array elements"
   ]
  },
  {
   "cell_type": "code",
   "execution_count": 24,
   "metadata": {
    "cell_id": "b60ff79972d4468f8d6c8e5043833eba",
    "deepnote_cell_height": 115,
    "deepnote_cell_type": "code",
    "tags": []
   },
   "outputs": [
    {
     "name": "stdout",
     "output_type": "stream",
     "text": [
      "nan\n"
     ]
    }
   ],
   "source": [
    "a = np.array([[1, 2, 3], [4, 5, np.nan]])\n",
    "\n",
    "array_sum = np.sum(a)\n",
    "print(array_sum)"
   ]
  },
  {
   "cell_type": "markdown",
   "metadata": {
    "cell_id": "cedfc4199e2e42f08144d3f285c754ed",
    "deepnote_cell_type": "text-cell-h3",
    "formattedRanges": [],
    "is_collapsed": false,
    "tags": []
   },
   "source": [
    "### 102. Find the sum ignoring the nan elements"
   ]
  },
  {
   "cell_type": "code",
   "execution_count": 25,
   "metadata": {
    "allow_embed": "code",
    "cell_id": "c2e15fb887d24e88b2a4b0f8574da614",
    "deepnote_cell_height": 115,
    "deepnote_cell_type": "code",
    "tags": []
   },
   "outputs": [
    {
     "name": "stdout",
     "output_type": "stream",
     "text": [
      "15.0\n"
     ]
    }
   ],
   "source": [
    "a = np.array([[1, 2, 3], [4, 5, np.nan]])\n",
    "\n",
    "array_sum = np.nansum(a)\n",
    "print(array_sum)"
   ]
  },
  {
   "cell_type": "markdown",
   "metadata": {
    "cell_id": "7dbb0d32fd0a452f8c41d67589f62da9",
    "deepnote_cell_type": "text-cell-h3",
    "formattedRanges": [],
    "is_collapsed": false,
    "tags": []
   },
   "source": [
    "### 103. Find the product ignoring the nan elements"
   ]
  },
  {
   "cell_type": "code",
   "execution_count": 26,
   "metadata": {
    "cell_id": "fc296a3a720d4d619d2b588345f668c8",
    "deepnote_cell_height": 115,
    "deepnote_cell_type": "code",
    "tags": []
   },
   "outputs": [
    {
     "name": "stdout",
     "output_type": "stream",
     "text": [
      "120.0\n"
     ]
    }
   ],
   "source": [
    "a = np.array([[1, 2, 3], [4, 5, np.nan]])\n",
    "\n",
    "array_prod = np.nanprod(a)\n",
    "print(array_prod)"
   ]
  },
  {
   "cell_type": "markdown",
   "metadata": {
    "cell_id": "8e101b3918014a7897034148483cb6aa",
    "deepnote_cell_type": "text-cell-h3",
    "formattedRanges": [],
    "is_collapsed": false,
    "tags": []
   },
   "source": [
    "### 104. Find the element-wise absolute value"
   ]
  },
  {
   "cell_type": "code",
   "execution_count": null,
   "metadata": {
    "cell_id": "4062e034cf7a483e8648121fcc9c8778",
    "deepnote_cell_height": 115,
    "deepnote_cell_type": "code",
    "tags": []
   },
   "outputs": [
    {
     "name": "stdout",
     "output_type": "stream",
     "text": [
      "[[1 2 3]\n",
      " [4 5 6]]\n"
     ]
    }
   ],
   "source": [
    "a = np.array([[1, -2, 3], [4, -5, 6]])\n",
    "\n",
    "np_array = np.absolute(a) # same as np.abs()\n",
    "print(np_array)"
   ]
  },
  {
   "cell_type": "markdown",
   "metadata": {
    "cell_id": "6cd0a45dd1014e1dad4d8e2648cc45a0",
    "deepnote_cell_type": "text-cell-h3",
    "formattedRanges": [],
    "is_collapsed": false,
    "tags": []
   },
   "source": [
    "### 105. Count the number of non-zero elements"
   ]
  },
  {
   "cell_type": "code",
   "execution_count": 29,
   "metadata": {
    "cell_id": "f47d8d8321854f4ca4e9f954c88c257b",
    "deepnote_cell_height": 115,
    "deepnote_cell_type": "code",
    "tags": []
   },
   "outputs": [
    {
     "name": "stdout",
     "output_type": "stream",
     "text": [
      "5\n"
     ]
    }
   ],
   "source": [
    "a = np.array([[0, -2, 3], [4, -5, 6]])\n",
    "\n",
    "count_non_zero = np.count_nonzero(a)\n",
    "print(count_non_zero)"
   ]
  },
  {
   "cell_type": "markdown",
   "metadata": {
    "cell_id": "85faacbe0dd942bea7930e046f96bbf8",
    "deepnote_cell_type": "text-cell-h3",
    "formattedRanges": [],
    "is_collapsed": false,
    "tags": []
   },
   "source": [
    "### 106. Count the number of non-zero elements row-wise"
   ]
  },
  {
   "cell_type": "code",
   "execution_count": 30,
   "metadata": {
    "cell_id": "e13cfd0a05b54ea9b0b01df970c02001",
    "deepnote_cell_height": 115,
    "deepnote_cell_type": "code",
    "tags": []
   },
   "outputs": [
    {
     "name": "stdout",
     "output_type": "stream",
     "text": [
      "[2 3]\n"
     ]
    }
   ],
   "source": [
    "a = np.array([[0, -2, 3], [4, -5, 6]])\n",
    "\n",
    "count_non_zero = np.count_nonzero(a,axis=1)\n",
    "print(count_non_zero)"
   ]
  },
  {
   "cell_type": "markdown",
   "metadata": {
    "cell_id": "d9a046e70f76442ea8198edf57e0b091",
    "deepnote_cell_type": "text-cell-h3",
    "formattedRanges": [],
    "is_collapsed": false,
    "tags": []
   },
   "source": [
    "### 106. Count the number of non-zero elements column-wise"
   ]
  },
  {
   "cell_type": "code",
   "execution_count": 31,
   "metadata": {
    "cell_id": "a90984d2c2ee4f9d9f943f128b85dcb0",
    "deepnote_cell_height": 115,
    "deepnote_cell_type": "code",
    "tags": []
   },
   "outputs": [
    {
     "name": "stdout",
     "output_type": "stream",
     "text": [
      "[1 2 2]\n"
     ]
    }
   ],
   "source": [
    "a = np.array([[0, -2, 3], [4, -5, 6]])\n",
    "\n",
    "count_non_zero = np.count_nonzero(a,axis=0)\n",
    "print(count_non_zero)"
   ]
  },
  {
   "cell_type": "markdown",
   "metadata": {
    "cell_id": "31278f4574264f52be2cc858a0e47c8a",
    "deepnote_cell_type": "text-cell-h3",
    "formattedRanges": [],
    "is_collapsed": false,
    "tags": []
   },
   "source": [
    "### 107. Find the mean ignoring the nan elements"
   ]
  },
  {
   "cell_type": "code",
   "execution_count": 32,
   "metadata": {
    "cell_id": "b591b8b1593645aebd80a56194fb4d5f",
    "deepnote_cell_height": 115,
    "deepnote_cell_type": "code",
    "tags": []
   },
   "outputs": [
    {
     "name": "stdout",
     "output_type": "stream",
     "text": [
      "3.0\n"
     ]
    }
   ],
   "source": [
    "a = np.array([[1, 2, 3], [4, 5, np.nan]])\n",
    "\n",
    "array_mean = np.nanmean(a)\n",
    "print(array_mean)"
   ]
  },
  {
   "cell_type": "markdown",
   "metadata": {
    "cell_id": "dd8ffbe200c44b88bd5c6a6adfdc7f08",
    "deepnote_cell_type": "text-cell-h3",
    "formattedRanges": [],
    "is_collapsed": false,
    "tags": []
   },
   "source": [
    "### 108. Find the std dev ignoring the nan elements"
   ]
  },
  {
   "cell_type": "code",
   "execution_count": 33,
   "metadata": {
    "cell_id": "6fab468c59fc4f7fb88f9780047f9870",
    "deepnote_cell_height": 115,
    "deepnote_cell_type": "code",
    "tags": []
   },
   "outputs": [
    {
     "name": "stdout",
     "output_type": "stream",
     "text": [
      "1.4142135623730951\n"
     ]
    }
   ],
   "source": [
    "a = np.array([[1, 2, 3], [4, 5, np.nan]])\n",
    "\n",
    "array_std = np.nanstd(a)\n",
    "print(array_std)"
   ]
  },
  {
   "cell_type": "markdown",
   "metadata": {
    "cell_id": "852b047a627a4b84b3cb67717d9955d2",
    "deepnote_cell_type": "text-cell-h3",
    "formattedRanges": [],
    "is_collapsed": false,
    "tags": []
   },
   "source": [
    "### 109. Find the median ignoring the nan elements"
   ]
  },
  {
   "cell_type": "code",
   "execution_count": 34,
   "metadata": {
    "cell_id": "367efeaa90c044ddad4de1d20ebd06ee",
    "deepnote_cell_height": 115,
    "deepnote_cell_type": "code",
    "tags": []
   },
   "outputs": [
    {
     "name": "stdout",
     "output_type": "stream",
     "text": [
      "3.0\n"
     ]
    }
   ],
   "source": [
    "a = np.array([[1, 2, 3], [4, 5, np.nan]])\n",
    "\n",
    "array_median = np.nanmedian(a)\n",
    "print(array_median)"
   ]
  },
  {
   "cell_type": "markdown",
   "metadata": {
    "cell_id": "587d88a5696c435e9ae765c45822b168",
    "deepnote_cell_type": "text-cell-h3",
    "formattedRanges": [],
    "is_collapsed": false,
    "tags": []
   },
   "source": [
    "### 110. Clip the array elements to a range"
   ]
  },
  {
   "cell_type": "code",
   "execution_count": 35,
   "metadata": {
    "cell_id": "1da59666163147ea9d6b460d827cba7a",
    "deepnote_cell_height": 133,
    "deepnote_cell_type": "code",
    "tags": []
   },
   "outputs": [
    {
     "name": "stdout",
     "output_type": "stream",
     "text": [
      "[[2 2 3]\n",
      " [4 5 5]]\n"
     ]
    }
   ],
   "source": [
    "a = np.array([[1, 2, 3], [4, 5, 6]])\n",
    "\n",
    "min_range, max_range = (2, 5)\n",
    "np_array = np.clip(a,min_range,max_range)\n",
    "print(np_array)"
   ]
  },
  {
   "cell_type": "markdown",
   "metadata": {
    "cell_id": "d6f5b95ebb384befaa505b3ecd88e111",
    "deepnote_cell_type": "text-cell-h3",
    "formattedRanges": [],
    "is_collapsed": false,
    "tags": []
   },
   "source": [
    "### 111-130. As an exercise, frame 20 numpy questions on your own and solve them."
   ]
  },
  {
   "cell_type": "code",
   "execution_count": null,
   "metadata": {
    "cell_id": "58a4a88d61ec4aafb7a5f068b27d6911",
    "deepnote_cell_height": 61,
    "deepnote_cell_type": "code",
    "tags": []
   },
   "outputs": [],
   "source": []
  },
  {
   "cell_type": "markdown",
   "metadata": {
    "cell_id": "0d76d079a3a94ec9bde92daf75a23968",
    "deepnote_cell_height": 52.390625,
    "deepnote_cell_type": "markdown",
    "tags": []
   },
   "source": [
    "Great job solving this notebook. Go to SQL Notebook 1: [Link](https://deepnote.com/workspace/avi-chawla-695b-aee6f4ef-2d50-4fb6-9ef2-20ee1022995a/project/SQL-Notebook-1-eac9d782-a9b1-4e84-a1f9-af14080a6121/%2Fnotebook.ipynb)"
   ]
  }
 ],
 "metadata": {
  "deepnote_notebook_id": "bb52759ea3f542eaaed9958b5df9c34b",
  "kernelspec": {
   "display_name": "Python 3",
   "language": "python",
   "name": "python3"
  },
  "language_info": {
   "codemirror_mode": {
    "name": "ipython",
    "version": 3
   },
   "file_extension": ".py",
   "mimetype": "text/x-python",
   "name": "python",
   "nbconvert_exporter": "python",
   "pygments_lexer": "ipython3",
   "version": "3.11.9"
  }
 },
 "nbformat": 4,
 "nbformat_minor": 0
}
