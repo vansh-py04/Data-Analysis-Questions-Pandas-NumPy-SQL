{
 "cells": [
  {
   "cell_type": "markdown",
   "metadata": {
    "cell_id": "890370b9acef4adf8b3561df9fcccb79",
    "deepnote_cell_type": "text-cell-h1",
    "formattedRanges": [],
    "is_collapsed": false,
    "tags": []
   },
   "source": [
    "# 450+ Practice Questions From Pandas, NumPy, and SQL."
   ]
  },
  {
   "cell_type": "markdown",
   "metadata": {
    "cell_id": "ec28be6fc33244b78e553f5893beb6a5",
    "deepnote_cell_height": 125.171875,
    "deepnote_cell_type": "markdown",
    "tags": []
   },
   "source": [
    "Author: Avi Chawla\n",
    "\n",
    "LinkedIn: https://www.linkedin.com/in/avi-chawla/\n",
    "\n",
    "Read my blogs here: https://medium.com/@avi_chawla"
   ]
  },
  {
   "cell_type": "markdown",
   "metadata": {
    "cell_id": "02cf8fc750b741fbb1e0ae84f0ba90c4",
    "deepnote_cell_type": "text-cell-h2",
    "formattedRanges": [],
    "is_collapsed": false,
    "tags": []
   },
   "source": [
    "## Introduction"
   ]
  },
  {
   "cell_type": "markdown",
   "metadata": {
    "cell_id": "45e20302f2564eb091b84f8b4ca497ee",
    "deepnote_cell_type": "text-cell-p",
    "formattedRanges": [
     {
      "fromCodePoint": 156,
      "marks": {
       "bold": true
      },
      "toCodePoint": 179
     }
    ],
    "is_collapsed": false,
    "tags": []
   },
   "source": [
    "This notebook has been created for you to practice three of the most common tools used in building any machine learning or data science applications, i.e., Pandas, NumPy, and SQL!"
   ]
  },
  {
   "cell_type": "markdown",
   "metadata": {
    "cell_id": "bf7392171ebc4eda8487630d29f644da",
    "deepnote_cell_type": "text-cell-p",
    "formattedRanges": [],
    "is_collapsed": false,
    "tags": []
   },
   "source": [
    "The practice questions provided will serve as a great resource for those who are looking to familiarize themselves with some of the most common functions used in these tools. "
   ]
  },
  {
   "cell_type": "markdown",
   "metadata": {
    "cell_id": "6d982f2c6f344b7c912d645083fdf6e3",
    "deepnote_cell_type": "text-cell-p",
    "formattedRanges": [
     {
      "fromCodePoint": 284,
      "marks": {
       "bold": true
      },
      "toCodePoint": 289
     },
     {
      "fromCodePoint": 302,
      "marks": {
       "bold": true
      },
      "toCodePoint": 305
     }
    ],
    "is_collapsed": false,
    "tags": []
   },
   "source": [
    "Appropriate descriptions have been provided for all the questions in this entire exercise which will help you navigate through this exercise easily. If a dataset is to be loaded in the python environment, that has also been provided for you. You can find it on the right panel in the Files section. Do NOT delete any of the files/folders listed there. "
   ]
  },
  {
   "cell_type": "markdown",
   "metadata": {
    "cell_id": "24b1c8cde14a42eeb84ffc114e88a26f",
    "deepnote_cell_type": "text-cell-p",
    "formattedRanges": [],
    "is_collapsed": false,
    "tags": []
   },
   "source": [
    "The whole exercise has been divided into nine separate notebooks. Below are the links to all the other notebooks for you to jump from one notebook to another:"
   ]
  },
  {
   "cell_type": "markdown",
   "metadata": {
    "cell_id": "43f1da13facf4143bf956adef635a4c7",
    "deepnote_cell_height": 403.6875,
    "deepnote_cell_type": "markdown",
    "tags": []
   },
   "source": [
    "- **Pandas**\n",
    "\n",
    "1. Pandas Notebook 1: [Link](https://deepnote.com/workspace/avi-chawla-695b-aee6f4ef-2d50-4fb6-9ef2-20ee1022995a/project/Pandas-Notebook-1-d693ac55-6455-40cf-ae34-867c6a02014e/notebook/6449493c84734151b11f4b6871f045d2#99f75bf946d04b9bb1daa9e14c2cfea9) \n",
    "2. Pandas Notebook 2: [Link](https://deepnote.com/workspace/avi-chawla-695b-aee6f4ef-2d50-4fb6-9ef2-20ee1022995a/project/Pandas-Notebook-employee-dataset-7e3b6755-5d4b-464b-9b75-9c84667ae3bd/notebook/notebook-0de50f3b70834570b13b651dde44c491) \n",
    "\n",
    "3. Pandas Notebook 3: [Link](https://deepnote.com/workspace/avi-chawla-695b-aee6f4ef-2d50-4fb6-9ef2-20ee1022995a/project/Pandas-Notebook-employee-part-2-adc5a3ee-5f61-4725-8e46-ccb07899acfc/notebook/notebook-78e3faf901da4f14881ef24e41c80bf6) \n",
    "\n",
    "4. Pandas Notebook 4: [Link](https://deepnote.com/workspace/avi-chawla-695b-aee6f4ef-2d50-4fb6-9ef2-20ee1022995a/project/Pandas-after-employee-f84e02a1-fb6a-428e-af90-8dd99855749a/notebook/notebook-134ac20c38ef45e5a4432abd638e6c2e) \n",
    "\n",
    "- **NumPy**\n",
    "\n",
    "1. NumPy Notebook 1: [Link](https://deepnote.com/workspace/avi-chawla-695b-aee6f4ef-2d50-4fb6-9ef2-20ee1022995a/project/Numpy-part-1-9b9979f2-b708-4292-b466-3d0157564c91/notebook/notebook-07232b5ebafe49b198a9c55c553414f1) \n",
    "\n",
    "2. NumPy Notebook 2: [Link](https://deepnote.com/workspace/avi-chawla-695b-aee6f4ef-2d50-4fb6-9ef2-20ee1022995a/project/NumPy-Notebook-2-4456411e-2ddd-426d-8027-4881080027db/notebook/notebook-988aba30f33a45a3861adc4f6a6f338c)  \n",
    "\n",
    "3. NumPy Notebook 3: [Link](https://deepnote.com/workspace/avi-chawla-695b-aee6f4ef-2d50-4fb6-9ef2-20ee1022995a/project/NumPy-Notebook-3-e6587114-b580-4249-b599-540de859e603/notebook/notebook-bb52759ea3f542eaaed9958b5df9c34b)\n",
    "\n",
    "- **SQL**\n",
    "\n",
    "1. SQL Notebook 1: [Link](https://deepnote.com/workspace/avi-chawla-695b-aee6f4ef-2d50-4fb6-9ef2-20ee1022995a/project/SQL-Notebook-1-eac9d782-a9b1-4e84-a1f9-af14080a6121/notebook/notebook-697f04297c664d02901db0f85431512e)  **(This Notebook)**\n",
    "\n",
    "2. SQL Notebook 2: [Link](https://deepnote.com/workspace/avi-chawla-695b-aee6f4ef-2d50-4fb6-9ef2-20ee1022995a/project/SQL-Notebook-2-1914b214-be03-44a1-be63-ad99e98be639/notebook/notebook-e549236b988c42a5b53126a7ebb98127)"
   ]
  },
  {
   "cell_type": "markdown",
   "metadata": {
    "cell_id": "5f073087fc904b7db3b238ff82a27168",
    "deepnote_cell_type": "text-cell-h2",
    "formattedRanges": [],
    "is_collapsed": false,
    "tags": []
   },
   "source": [
    "## How to use this notebook?"
   ]
  },
  {
   "cell_type": "markdown",
   "metadata": {
    "cell_id": "8b2423a1782148f084239b030ddb0214",
    "deepnote_cell_type": "text-cell-p",
    "formattedRanges": [
     {
      "fromCodePoint": 41,
      "marks": {
       "bold": true
      },
      "toCodePoint": 50
     }
    ],
    "is_collapsed": false,
    "tags": []
   },
   "source": [
    "At the top right corner, you will find a Duplicate button. This will allow you to create a unique notebook for your own practice and write solutions to the question listed in this notebook.  "
   ]
  },
  {
   "cell_type": "markdown",
   "metadata": {
    "cell_id": "9b4458e653e2450f8653df5a1af5f3f6",
    "deepnote_cell_height": 74.78125,
    "deepnote_cell_type": "markdown",
    "tags": []
   },
   "source": [
    "If you face any issues or have any feedback, feel free to reach out to me (Avi Chawla) either on Linkedin: https://www.linkedin.com/in/avi-chawla/ or write an email to avi@dsscholar[dot]com. "
   ]
  },
  {
   "cell_type": "markdown",
   "metadata": {
    "cell_id": "6d5bd2dc9b984c24a36f14a62afe1e81",
    "deepnote_cell_type": "text-cell-p",
    "formattedRanges": [],
    "is_collapsed": false,
    "tags": []
   },
   "source": [
    "Let's begin 🚀!"
   ]
  },
  {
   "cell_type": "markdown",
   "metadata": {
    "cell_id": "f28a58b758354236b3a41fdf10eafc0f",
    "deepnote_cell_type": "text-cell-h1",
    "formattedRanges": [],
    "is_collapsed": false,
    "tags": []
   },
   "source": [
    "# SQL Notebook 1"
   ]
  },
  {
   "cell_type": "code",
   "execution_count": 1,
   "metadata": {
    "cell_id": "979cf58ddd52433492071fcc174804ac",
    "deepnote_cell_type": "code",
    "deepnote_to_be_reexecuted": false,
    "execution_context_id": "50d4c5fe-2840-4f57-81a8-ee4facb4bb47",
    "execution_millis": 0,
    "execution_start": 1743134979587,
    "source_hash": "9b82ee11",
    "tags": []
   },
   "outputs": [],
   "source": [
    "import pandas as pd"
   ]
  },
  {
   "cell_type": "code",
   "execution_count": 2,
   "metadata": {
    "cell_id": "608d2df71ce942ed95fa82e1fcc140cf",
    "deepnote_cell_type": "code",
    "deepnote_to_be_reexecuted": false,
    "execution_context_id": "50d4c5fe-2840-4f57-81a8-ee4facb4bb47",
    "execution_millis": 1502,
    "execution_start": 1743134979637,
    "source_hash": "6a3a08b4",
    "tags": []
   },
   "outputs": [
    {
     "data": {
      "application/vnd.deepnote.dataframe.v3+json": {
       "column_count": 8,
       "columns": [
        {
         "dtype": "object",
         "name": "Name",
         "stats": {
          "categories": [
           {
            "count": 1,
            "name": "Spencer Adkins"
           },
           {
            "count": 1,
            "name": "Julie Morton"
           },
           {
            "count": 3,
            "name": "3 others"
           }
          ],
          "nan_count": 0,
          "unique_count": 5
         }
        },
        {
         "dtype": "object",
         "name": "Company_Name",
         "stats": {
          "categories": [
           {
            "count": 1,
            "name": "James and Sons"
           },
           {
            "count": 1,
            "name": "Nichols-James"
           },
           {
            "count": 3,
            "name": "3 others"
           }
          ],
          "nan_count": 0,
          "unique_count": 5
         }
        },
        {
         "dtype": "object",
         "name": "Employee_Job_Title",
         "stats": {
          "categories": [
           {
            "count": 2,
            "name": "Production engineer"
           },
           {
            "count": 1,
            "name": "Equities trader"
           },
           {
            "count": 2,
            "name": "2 others"
           }
          ],
          "nan_count": 0,
          "unique_count": 4
         }
        },
        {
         "dtype": "object",
         "name": "Employee_City",
         "stats": {
          "categories": [
           {
            "count": 1,
            "name": "New Russellton"
           },
           {
            "count": 1,
            "name": "North Melissafurt"
           },
           {
            "count": 3,
            "name": "3 others"
           }
          ],
          "nan_count": 0,
          "unique_count": 5
         }
        },
        {
         "dtype": "object",
         "name": "Employee_Country",
         "stats": {
          "categories": [
           {
            "count": 1,
            "name": "Palestinian Territory"
           },
           {
            "count": 1,
            "name": "Marshall Islands"
           },
           {
            "count": 3,
            "name": "3 others"
           }
          ],
          "nan_count": 0,
          "unique_count": 5
         }
        },
        {
         "dtype": "int64",
         "name": "Employee_Salary",
         "stats": {
          "histogram": [
           {
            "bin_end": 167849,
            "bin_start": 116400,
            "count": 1
           },
           {
            "bin_end": 219298,
            "bin_start": 167849,
            "count": 0
           },
           {
            "bin_end": 270747,
            "bin_start": 219298,
            "count": 0
           },
           {
            "bin_end": 322196,
            "bin_start": 270747,
            "count": 1
           },
           {
            "bin_end": 373645,
            "bin_start": 322196,
            "count": 0
           },
           {
            "bin_end": 425094,
            "bin_start": 373645,
            "count": 0
           },
           {
            "bin_end": 476543,
            "bin_start": 425094,
            "count": 0
           },
           {
            "bin_end": 527992,
            "bin_start": 476543,
            "count": 1
           },
           {
            "bin_end": 579441,
            "bin_start": 527992,
            "count": 0
           },
           {
            "bin_end": 630890,
            "bin_start": 579441,
            "count": 2
           }
          ],
          "max": "630890",
          "min": "116400",
          "nan_count": 0,
          "unique_count": 5
         }
        },
        {
         "dtype": "object",
         "name": "Employment_Status",
         "stats": {
          "categories": [
           {
            "count": 5,
            "name": "Full Time"
           }
          ],
          "nan_count": 0,
          "unique_count": 1
         }
        },
        {
         "dtype": "float64",
         "name": "Employee_Rating",
         "stats": {
          "histogram": [
           {
            "bin_end": 3.27,
            "bin_start": 3.1,
            "count": 2
           },
           {
            "bin_end": 3.44,
            "bin_start": 3.27,
            "count": 0
           },
           {
            "bin_end": 3.6100000000000003,
            "bin_start": 3.44,
            "count": 0
           },
           {
            "bin_end": 3.7800000000000002,
            "bin_start": 3.6100000000000003,
            "count": 0
           },
           {
            "bin_end": 3.95,
            "bin_start": 3.7800000000000002,
            "count": 1
           },
           {
            "bin_end": 4.12,
            "bin_start": 3.95,
            "count": 0
           },
           {
            "bin_end": 4.29,
            "bin_start": 4.12,
            "count": 0
           },
           {
            "bin_end": 4.46,
            "bin_start": 4.29,
            "count": 1
           },
           {
            "bin_end": 4.63,
            "bin_start": 4.46,
            "count": 0
           },
           {
            "bin_end": 4.8,
            "bin_start": 4.63,
            "count": 1
           }
          ],
          "max": "4.8",
          "min": "3.1",
          "nan_count": 0,
          "unique_count": 4
         }
        },
        {
         "dtype": "int64",
         "name": "_deepnote_index_column"
        }
       ],
       "row_count": 5,
       "rows": [
        {
         "Company_Name": "James and Sons",
         "Employee_City": "New Russellton",
         "Employee_Country": "Palestinian Territory",
         "Employee_Job_Title": "Equities trader",
         "Employee_Rating": 3.9,
         "Employee_Salary": 321520,
         "Employment_Status": "Full Time",
         "Name": "Spencer Adkins",
         "_deepnote_index_column": 0
        },
        {
         "Company_Name": "Nichols-James",
         "Employee_City": "North Melissafurt",
         "Employee_Country": "Marshall Islands",
         "Employee_Job_Title": "Diplomatic Services operational officer",
         "Employee_Rating": 4.3,
         "Employee_Salary": 589090,
         "Employment_Status": "Full Time",
         "Name": "Julie Morton",
         "_deepnote_index_column": 1
        },
        {
         "Company_Name": "Scott Inc",
         "Employee_City": "Wardfort",
         "Employee_Country": "Anguilla",
         "Employee_Job_Title": "Regulatory affairs officer",
         "Employee_Rating": 3.1,
         "Employee_Salary": 630890,
         "Employment_Status": "Full Time",
         "Name": "Matthew Hall",
         "_deepnote_index_column": 2
        },
        {
         "Company_Name": "Johnston, Fleming and Tanner",
         "Employee_City": "West Jamesview",
         "Employee_Country": "Syrian Arab Republic",
         "Employee_Job_Title": "Production engineer",
         "Employee_Rating": 3.1,
         "Employee_Salary": 116400,
         "Employment_Status": "Full Time",
         "Name": "Brad Scott",
         "_deepnote_index_column": 3
        },
        {
         "Company_Name": "Baker, Allen and Edwards",
         "Employee_City": "Whiteside",
         "Employee_Country": "Dominica",
         "Employee_Job_Title": "Production engineer",
         "Employee_Rating": 4.8,
         "Employee_Salary": 523499,
         "Employment_Status": "Full Time",
         "Name": "Theresa Owens",
         "_deepnote_index_column": 4
        }
       ],
       "type": "dataframe"
      },
      "text/html": [
       "<div>\n",
       "<style scoped>\n",
       "    .dataframe tbody tr th:only-of-type {\n",
       "        vertical-align: middle;\n",
       "    }\n",
       "\n",
       "    .dataframe tbody tr th {\n",
       "        vertical-align: top;\n",
       "    }\n",
       "\n",
       "    .dataframe thead th {\n",
       "        text-align: right;\n",
       "    }\n",
       "</style>\n",
       "<table border=\"1\" class=\"dataframe\">\n",
       "  <thead>\n",
       "    <tr style=\"text-align: right;\">\n",
       "      <th></th>\n",
       "      <th>Name</th>\n",
       "      <th>Company_Name</th>\n",
       "      <th>Employee_Job_Title</th>\n",
       "      <th>Employee_City</th>\n",
       "      <th>Employee_Country</th>\n",
       "      <th>Employee_Salary</th>\n",
       "      <th>Employment_Status</th>\n",
       "      <th>Employee_Rating</th>\n",
       "    </tr>\n",
       "  </thead>\n",
       "  <tbody>\n",
       "    <tr>\n",
       "      <th>0</th>\n",
       "      <td>Spencer Adkins</td>\n",
       "      <td>James and Sons</td>\n",
       "      <td>Equities trader</td>\n",
       "      <td>New Russellton</td>\n",
       "      <td>Palestinian Territory</td>\n",
       "      <td>321520</td>\n",
       "      <td>Full Time</td>\n",
       "      <td>3.9</td>\n",
       "    </tr>\n",
       "    <tr>\n",
       "      <th>1</th>\n",
       "      <td>Julie Morton</td>\n",
       "      <td>Nichols-James</td>\n",
       "      <td>Diplomatic Services operational officer</td>\n",
       "      <td>North Melissafurt</td>\n",
       "      <td>Marshall Islands</td>\n",
       "      <td>589090</td>\n",
       "      <td>Full Time</td>\n",
       "      <td>4.3</td>\n",
       "    </tr>\n",
       "    <tr>\n",
       "      <th>2</th>\n",
       "      <td>Matthew Hall</td>\n",
       "      <td>Scott Inc</td>\n",
       "      <td>Regulatory affairs officer</td>\n",
       "      <td>Wardfort</td>\n",
       "      <td>Anguilla</td>\n",
       "      <td>630890</td>\n",
       "      <td>Full Time</td>\n",
       "      <td>3.1</td>\n",
       "    </tr>\n",
       "    <tr>\n",
       "      <th>3</th>\n",
       "      <td>Brad Scott</td>\n",
       "      <td>Johnston, Fleming and Tanner</td>\n",
       "      <td>Production engineer</td>\n",
       "      <td>West Jamesview</td>\n",
       "      <td>Syrian Arab Republic</td>\n",
       "      <td>116400</td>\n",
       "      <td>Full Time</td>\n",
       "      <td>3.1</td>\n",
       "    </tr>\n",
       "    <tr>\n",
       "      <th>4</th>\n",
       "      <td>Theresa Owens</td>\n",
       "      <td>Baker, Allen and Edwards</td>\n",
       "      <td>Production engineer</td>\n",
       "      <td>Whiteside</td>\n",
       "      <td>Dominica</td>\n",
       "      <td>523499</td>\n",
       "      <td>Full Time</td>\n",
       "      <td>4.8</td>\n",
       "    </tr>\n",
       "  </tbody>\n",
       "</table>\n",
       "</div>"
      ],
      "text/plain": [
       "             Name                  Company_Name  \\\n",
       "0  Spencer Adkins                James and Sons   \n",
       "1    Julie Morton                 Nichols-James   \n",
       "2    Matthew Hall                     Scott Inc   \n",
       "3      Brad Scott  Johnston, Fleming and Tanner   \n",
       "4   Theresa Owens      Baker, Allen and Edwards   \n",
       "\n",
       "                        Employee_Job_Title      Employee_City  \\\n",
       "0                          Equities trader     New Russellton   \n",
       "1  Diplomatic Services operational officer  North Melissafurt   \n",
       "2               Regulatory affairs officer           Wardfort   \n",
       "3                      Production engineer     West Jamesview   \n",
       "4                      Production engineer          Whiteside   \n",
       "\n",
       "        Employee_Country  Employee_Salary Employment_Status  Employee_Rating  \n",
       "0  Palestinian Territory           321520         Full Time              3.9  \n",
       "1       Marshall Islands           589090         Full Time              4.3  \n",
       "2               Anguilla           630890         Full Time              3.1  \n",
       "3   Syrian Arab Republic           116400         Full Time              3.1  \n",
       "4               Dominica           523499         Full Time              4.8  "
      ]
     },
     "execution_count": 2,
     "metadata": {},
     "output_type": "execute_result"
    }
   ],
   "source": [
    "data = pd.read_csv(\"employee_dataset.csv\")\n",
    "data.head()"
   ]
  },
  {
   "cell_type": "markdown",
   "metadata": {
    "cell_id": "205860bafd1f4fc68462c7eef59ee550",
    "deepnote_cell_height": 74.78125,
    "deepnote_cell_type": "markdown",
    "tags": []
   },
   "source": [
    "To run SQL Queries, write your queries in the usual. The name of the dataframe will be treated as the table-name while writing these queries. A sample query is mentioned below:"
   ]
  },
  {
   "cell_type": "markdown",
   "metadata": {
    "cell_id": "4a36e2df0ab04fd4b1091c8f3ac2c55d",
    "deepnote_cell_type": "text-cell-h3",
    "formattedRanges": [],
    "is_collapsed": false,
    "tags": []
   },
   "source": [
    "### Sample Query"
   ]
  },
  {
   "cell_type": "code",
   "execution_count": 3,
   "metadata": {
    "cell_id": "8ef54244dc544ca3a70149d179e78b06",
    "deepnote_cell_height": 101,
    "deepnote_cell_type": "sql",
    "deepnote_sql_source": "select * from data; -- select all rows and columns from the data. ",
    "execution_context_id": "8daddd6c-84aa-49fd-9c82-a2fcacf0e77e",
    "execution_millis": 1053,
    "execution_start": 1742883920512,
    "source_hash": "c3d0bdbf",
    "sql_integration_id": "deepnote-dataframe-sql",
    "tags": []
   },
   "outputs": [
    {
     "data": {
      "application/vnd.deepnote.dataframe.v3+json": {
       "column_count": 8,
       "columns": [
        {
         "dtype": "object",
         "name": "Name"
        },
        {
         "dtype": "object",
         "name": "Company_Name"
        },
        {
         "dtype": "object",
         "name": "Employee_Job_Title"
        },
        {
         "dtype": "object",
         "name": "Employee_City"
        },
        {
         "dtype": "object",
         "name": "Employee_Country"
        },
        {
         "dtype": "int64",
         "name": "Employee_Salary"
        },
        {
         "dtype": "object",
         "name": "Employment_Status"
        },
        {
         "dtype": "float64",
         "name": "Employee_Rating"
        },
        {
         "dtype": "int64",
         "name": "_deepnote_index_column"
        }
       ],
       "row_count": 300000,
       "rows": [
        {
         "Company_Name": "James and Sons",
         "Employee_City": "New Russellton",
         "Employee_Country": "Palestinian Territory",
         "Employee_Job_Title": "Equities trader",
         "Employee_Rating": 3.9,
         "Employee_Salary": 321520,
         "Employment_Status": "Full Time",
         "Name": "Spencer Adkins",
         "_deepnote_index_column": 0
        },
        {
         "Company_Name": "Nichols-James",
         "Employee_City": "North Melissafurt",
         "Employee_Country": "Marshall Islands",
         "Employee_Job_Title": "Diplomatic Services operational officer",
         "Employee_Rating": 4.3,
         "Employee_Salary": 589090,
         "Employment_Status": "Full Time",
         "Name": "Julie Morton",
         "_deepnote_index_column": 1
        },
        {
         "Company_Name": "Scott Inc",
         "Employee_City": "Wardfort",
         "Employee_Country": "Anguilla",
         "Employee_Job_Title": "Regulatory affairs officer",
         "Employee_Rating": 3.1,
         "Employee_Salary": 630890,
         "Employment_Status": "Full Time",
         "Name": "Matthew Hall",
         "_deepnote_index_column": 2
        },
        {
         "Company_Name": "Johnston, Fleming and Tanner",
         "Employee_City": "West Jamesview",
         "Employee_Country": "Syrian Arab Republic",
         "Employee_Job_Title": "Production engineer",
         "Employee_Rating": 3.1,
         "Employee_Salary": 116400,
         "Employment_Status": "Full Time",
         "Name": "Brad Scott",
         "_deepnote_index_column": 3
        },
        {
         "Company_Name": "Baker, Allen and Edwards",
         "Employee_City": "Whiteside",
         "Employee_Country": "Dominica",
         "Employee_Job_Title": "Production engineer",
         "Employee_Rating": 4.8,
         "Employee_Salary": 523499,
         "Employment_Status": "Full Time",
         "Name": "Theresa Owens",
         "_deepnote_index_column": 4
        },
        {
         "Company_Name": "Andrade LLC",
         "Employee_City": "Ricardomouth",
         "Employee_Country": "Mali",
         "Employee_Job_Title": "Make",
         "Employee_Rating": 2.6,
         "Employee_Salary": 850140,
         "Employment_Status": "Full Time",
         "Name": "Vanessa Allen",
         "_deepnote_index_column": 5
        },
        {
         "Company_Name": "Andrade LLC",
         "Employee_City": "Wardfort",
         "Employee_Country": "Aruba",
         "Employee_Job_Title": "Naval architect",
         "Employee_Rating": 2,
         "Employee_Salary": 711410,
         "Employment_Status": "Full Time",
         "Name": "Kelly Brown",
         "_deepnote_index_column": 6
        },
        {
         "Company_Name": "Matthews Inc",
         "Employee_City": "Kristaburgh",
         "Employee_Country": "Western Sahara",
         "Employee_Job_Title": "Diplomatic Services operational officer",
         "Employee_Rating": 3.3,
         "Employee_Salary": 777000,
         "Employment_Status": "Full Time",
         "Name": "Vicki Beard",
         "_deepnote_index_column": 7
        },
        {
         "Company_Name": "Taylor-Ramos",
         "Employee_City": "West Jamesview",
         "Employee_Country": "Kuwait",
         "Employee_Job_Title": "Radiographer, therapeutic",
         "Employee_Rating": 1.3,
         "Employee_Salary": 870580,
         "Employment_Status": "Full Time",
         "Name": "Lisa French",
         "_deepnote_index_column": 8
        },
        {
         "Company_Name": "Campos, Reynolds and Mccormick",
         "Employee_City": "New Cindychester",
         "Employee_Country": "Lao People's Democratic Republic",
         "Employee_Job_Title": "Ergonomist",
         "Employee_Rating": 2.3,
         "Employee_Salary": 516950,
         "Employment_Status": "Full Time",
         "Name": "Michael Edwards",
         "_deepnote_index_column": 9
        }
       ],
       "type": "dataframe"
      },
      "text/html": [
       "<div>\n",
       "<style scoped>\n",
       "    .dataframe tbody tr th:only-of-type {\n",
       "        vertical-align: middle;\n",
       "    }\n",
       "\n",
       "    .dataframe tbody tr th {\n",
       "        vertical-align: top;\n",
       "    }\n",
       "\n",
       "    .dataframe thead th {\n",
       "        text-align: right;\n",
       "    }\n",
       "</style>\n",
       "<table border=\"1\" class=\"dataframe\">\n",
       "  <thead>\n",
       "    <tr style=\"text-align: right;\">\n",
       "      <th></th>\n",
       "      <th>Name</th>\n",
       "      <th>Company_Name</th>\n",
       "      <th>Employee_Job_Title</th>\n",
       "      <th>Employee_City</th>\n",
       "      <th>Employee_Country</th>\n",
       "      <th>Employee_Salary</th>\n",
       "      <th>Employment_Status</th>\n",
       "      <th>Employee_Rating</th>\n",
       "    </tr>\n",
       "  </thead>\n",
       "  <tbody>\n",
       "    <tr>\n",
       "      <th>0</th>\n",
       "      <td>Spencer Adkins</td>\n",
       "      <td>James and Sons</td>\n",
       "      <td>Equities trader</td>\n",
       "      <td>New Russellton</td>\n",
       "      <td>Palestinian Territory</td>\n",
       "      <td>321520</td>\n",
       "      <td>Full Time</td>\n",
       "      <td>3.9</td>\n",
       "    </tr>\n",
       "    <tr>\n",
       "      <th>1</th>\n",
       "      <td>Julie Morton</td>\n",
       "      <td>Nichols-James</td>\n",
       "      <td>Diplomatic Services operational officer</td>\n",
       "      <td>North Melissafurt</td>\n",
       "      <td>Marshall Islands</td>\n",
       "      <td>589090</td>\n",
       "      <td>Full Time</td>\n",
       "      <td>4.3</td>\n",
       "    </tr>\n",
       "    <tr>\n",
       "      <th>2</th>\n",
       "      <td>Matthew Hall</td>\n",
       "      <td>Scott Inc</td>\n",
       "      <td>Regulatory affairs officer</td>\n",
       "      <td>Wardfort</td>\n",
       "      <td>Anguilla</td>\n",
       "      <td>630890</td>\n",
       "      <td>Full Time</td>\n",
       "      <td>3.1</td>\n",
       "    </tr>\n",
       "    <tr>\n",
       "      <th>3</th>\n",
       "      <td>Brad Scott</td>\n",
       "      <td>Johnston, Fleming and Tanner</td>\n",
       "      <td>Production engineer</td>\n",
       "      <td>West Jamesview</td>\n",
       "      <td>Syrian Arab Republic</td>\n",
       "      <td>116400</td>\n",
       "      <td>Full Time</td>\n",
       "      <td>3.1</td>\n",
       "    </tr>\n",
       "    <tr>\n",
       "      <th>4</th>\n",
       "      <td>Theresa Owens</td>\n",
       "      <td>Baker, Allen and Edwards</td>\n",
       "      <td>Production engineer</td>\n",
       "      <td>Whiteside</td>\n",
       "      <td>Dominica</td>\n",
       "      <td>523499</td>\n",
       "      <td>Full Time</td>\n",
       "      <td>4.8</td>\n",
       "    </tr>\n",
       "    <tr>\n",
       "      <th>...</th>\n",
       "      <td>...</td>\n",
       "      <td>...</td>\n",
       "      <td>...</td>\n",
       "      <td>...</td>\n",
       "      <td>...</td>\n",
       "      <td>...</td>\n",
       "      <td>...</td>\n",
       "      <td>...</td>\n",
       "    </tr>\n",
       "    <tr>\n",
       "      <th>299995</th>\n",
       "      <td>Nancy Neal</td>\n",
       "      <td>Bullock-Carrillo</td>\n",
       "      <td>Optometrist</td>\n",
       "      <td>North Melissafurt</td>\n",
       "      <td>Samoa</td>\n",
       "      <td>99670</td>\n",
       "      <td>Intern</td>\n",
       "      <td>3.3</td>\n",
       "    </tr>\n",
       "    <tr>\n",
       "      <th>299996</th>\n",
       "      <td>Michele Butler</td>\n",
       "      <td>Johnston, Fleming and Tanner</td>\n",
       "      <td>Administrator</td>\n",
       "      <td>Aliciafort</td>\n",
       "      <td>Cuba</td>\n",
       "      <td>949580</td>\n",
       "      <td>Intern</td>\n",
       "      <td>2.6</td>\n",
       "    </tr>\n",
       "    <tr>\n",
       "      <th>299997</th>\n",
       "      <td>Lynn Wilson</td>\n",
       "      <td>Nichols-James</td>\n",
       "      <td>Administrator</td>\n",
       "      <td>New Cindychester</td>\n",
       "      <td>Bolivia</td>\n",
       "      <td>802830</td>\n",
       "      <td>Full Time</td>\n",
       "      <td>0.6</td>\n",
       "    </tr>\n",
       "    <tr>\n",
       "      <th>299998</th>\n",
       "      <td>Lindsey Keith</td>\n",
       "      <td>Nichols-James</td>\n",
       "      <td>Make</td>\n",
       "      <td>Whitakerbury</td>\n",
       "      <td>Western Sahara</td>\n",
       "      <td>257240</td>\n",
       "      <td>Full Time</td>\n",
       "      <td>2.4</td>\n",
       "    </tr>\n",
       "    <tr>\n",
       "      <th>299999</th>\n",
       "      <td>Karen Delgado</td>\n",
       "      <td>James and Sons</td>\n",
       "      <td>Actuary</td>\n",
       "      <td>New Russellton</td>\n",
       "      <td>United Kingdom</td>\n",
       "      <td>575770</td>\n",
       "      <td>Intern</td>\n",
       "      <td>3.3</td>\n",
       "    </tr>\n",
       "  </tbody>\n",
       "</table>\n",
       "<p>300000 rows × 8 columns</p>\n",
       "</div>"
      ],
      "text/plain": [
       "                  Name                  Company_Name  \\\n",
       "0       Spencer Adkins                James and Sons   \n",
       "1         Julie Morton                 Nichols-James   \n",
       "2         Matthew Hall                     Scott Inc   \n",
       "3           Brad Scott  Johnston, Fleming and Tanner   \n",
       "4        Theresa Owens      Baker, Allen and Edwards   \n",
       "...                ...                           ...   \n",
       "299995      Nancy Neal              Bullock-Carrillo   \n",
       "299996  Michele Butler  Johnston, Fleming and Tanner   \n",
       "299997     Lynn Wilson                 Nichols-James   \n",
       "299998   Lindsey Keith                 Nichols-James   \n",
       "299999   Karen Delgado                James and Sons   \n",
       "\n",
       "                             Employee_Job_Title      Employee_City  \\\n",
       "0                               Equities trader     New Russellton   \n",
       "1       Diplomatic Services operational officer  North Melissafurt   \n",
       "2                    Regulatory affairs officer           Wardfort   \n",
       "3                           Production engineer     West Jamesview   \n",
       "4                           Production engineer          Whiteside   \n",
       "...                                         ...                ...   \n",
       "299995                              Optometrist  North Melissafurt   \n",
       "299996                            Administrator         Aliciafort   \n",
       "299997                            Administrator   New Cindychester   \n",
       "299998                                     Make       Whitakerbury   \n",
       "299999                                  Actuary     New Russellton   \n",
       "\n",
       "             Employee_Country  Employee_Salary Employment_Status  \\\n",
       "0       Palestinian Territory           321520         Full Time   \n",
       "1            Marshall Islands           589090         Full Time   \n",
       "2                    Anguilla           630890         Full Time   \n",
       "3        Syrian Arab Republic           116400         Full Time   \n",
       "4                    Dominica           523499         Full Time   \n",
       "...                       ...              ...               ...   \n",
       "299995                  Samoa            99670            Intern   \n",
       "299996                   Cuba           949580            Intern   \n",
       "299997                Bolivia           802830         Full Time   \n",
       "299998         Western Sahara           257240         Full Time   \n",
       "299999         United Kingdom           575770            Intern   \n",
       "\n",
       "        Employee_Rating  \n",
       "0                   3.9  \n",
       "1                   4.3  \n",
       "2                   3.1  \n",
       "3                   3.1  \n",
       "4                   4.8  \n",
       "...                 ...  \n",
       "299995              3.3  \n",
       "299996              2.6  \n",
       "299997              0.6  \n",
       "299998              2.4  \n",
       "299999              3.3  \n",
       "\n",
       "[300000 rows x 8 columns]"
      ]
     },
     "execution_count": 3,
     "metadata": {},
     "output_type": "execute_result"
    }
   ],
   "source": [
    "_dntk.execute_sql(\n",
    "  'select * from data; -- select all rows and columns from the data. ',\n",
    "  'SQL_DEEPNOTE_DATAFRAME_SQL',\n",
    "  audit_sql_comment='',\n",
    "  sql_cache_mode='cache_disabled',\n",
    "  return_variable_type='dataframe'\n",
    ")"
   ]
  },
  {
   "cell_type": "markdown",
   "metadata": {
    "cell_id": "c326990529774226b9204398f8232657",
    "deepnote_cell_type": "text-cell-h3",
    "formattedRanges": [],
    "is_collapsed": false,
    "tags": []
   },
   "source": [
    "### 1. Print the first five rows"
   ]
  },
  {
   "cell_type": "code",
   "execution_count": 4,
   "metadata": {
    "cell_id": "483f9ff5c5cf4e2fafc6e8cd6b812fa8",
    "deepnote_cell_type": "sql",
    "deepnote_sql_source": "Select * from data limit 5;",
    "deepnote_to_be_reexecuted": false,
    "execution_context_id": "8daddd6c-84aa-49fd-9c82-a2fcacf0e77e",
    "execution_millis": 19,
    "execution_start": 1742883921612,
    "source_hash": "8bff86a4",
    "sql_integration_id": "deepnote-dataframe-sql",
    "tags": []
   },
   "outputs": [
    {
     "data": {
      "application/vnd.deepnote.dataframe.v3+json": {
       "column_count": 8,
       "columns": [
        {
         "dtype": "object",
         "name": "Name",
         "stats": {
          "categories": [
           {
            "count": 1,
            "name": "Spencer Adkins"
           },
           {
            "count": 1,
            "name": "Julie Morton"
           },
           {
            "count": 3,
            "name": "3 others"
           }
          ],
          "nan_count": 0,
          "unique_count": 5
         }
        },
        {
         "dtype": "object",
         "name": "Company_Name",
         "stats": {
          "categories": [
           {
            "count": 1,
            "name": "James and Sons"
           },
           {
            "count": 1,
            "name": "Nichols-James"
           },
           {
            "count": 3,
            "name": "3 others"
           }
          ],
          "nan_count": 0,
          "unique_count": 5
         }
        },
        {
         "dtype": "object",
         "name": "Employee_Job_Title",
         "stats": {
          "categories": [
           {
            "count": 2,
            "name": "Production engineer"
           },
           {
            "count": 1,
            "name": "Equities trader"
           },
           {
            "count": 2,
            "name": "2 others"
           }
          ],
          "nan_count": 0,
          "unique_count": 4
         }
        },
        {
         "dtype": "object",
         "name": "Employee_City",
         "stats": {
          "categories": [
           {
            "count": 1,
            "name": "New Russellton"
           },
           {
            "count": 1,
            "name": "North Melissafurt"
           },
           {
            "count": 3,
            "name": "3 others"
           }
          ],
          "nan_count": 0,
          "unique_count": 5
         }
        },
        {
         "dtype": "object",
         "name": "Employee_Country",
         "stats": {
          "categories": [
           {
            "count": 1,
            "name": "Palestinian Territory"
           },
           {
            "count": 1,
            "name": "Marshall Islands"
           },
           {
            "count": 3,
            "name": "3 others"
           }
          ],
          "nan_count": 0,
          "unique_count": 5
         }
        },
        {
         "dtype": "int64",
         "name": "Employee_Salary",
         "stats": {
          "histogram": [
           {
            "bin_end": 167849,
            "bin_start": 116400,
            "count": 1
           },
           {
            "bin_end": 219298,
            "bin_start": 167849,
            "count": 0
           },
           {
            "bin_end": 270747,
            "bin_start": 219298,
            "count": 0
           },
           {
            "bin_end": 322196,
            "bin_start": 270747,
            "count": 1
           },
           {
            "bin_end": 373645,
            "bin_start": 322196,
            "count": 0
           },
           {
            "bin_end": 425094,
            "bin_start": 373645,
            "count": 0
           },
           {
            "bin_end": 476543,
            "bin_start": 425094,
            "count": 0
           },
           {
            "bin_end": 527992,
            "bin_start": 476543,
            "count": 1
           },
           {
            "bin_end": 579441,
            "bin_start": 527992,
            "count": 0
           },
           {
            "bin_end": 630890,
            "bin_start": 579441,
            "count": 2
           }
          ],
          "max": "630890",
          "min": "116400",
          "nan_count": 0,
          "unique_count": 5
         }
        },
        {
         "dtype": "object",
         "name": "Employment_Status",
         "stats": {
          "categories": [
           {
            "count": 5,
            "name": "Full Time"
           }
          ],
          "nan_count": 0,
          "unique_count": 1
         }
        },
        {
         "dtype": "float64",
         "name": "Employee_Rating",
         "stats": {
          "histogram": [
           {
            "bin_end": 3.27,
            "bin_start": 3.1,
            "count": 2
           },
           {
            "bin_end": 3.44,
            "bin_start": 3.27,
            "count": 0
           },
           {
            "bin_end": 3.6100000000000003,
            "bin_start": 3.44,
            "count": 0
           },
           {
            "bin_end": 3.7800000000000002,
            "bin_start": 3.6100000000000003,
            "count": 0
           },
           {
            "bin_end": 3.95,
            "bin_start": 3.7800000000000002,
            "count": 1
           },
           {
            "bin_end": 4.12,
            "bin_start": 3.95,
            "count": 0
           },
           {
            "bin_end": 4.29,
            "bin_start": 4.12,
            "count": 0
           },
           {
            "bin_end": 4.46,
            "bin_start": 4.29,
            "count": 1
           },
           {
            "bin_end": 4.63,
            "bin_start": 4.46,
            "count": 0
           },
           {
            "bin_end": 4.8,
            "bin_start": 4.63,
            "count": 1
           }
          ],
          "max": "4.8",
          "min": "3.1",
          "nan_count": 0,
          "unique_count": 4
         }
        },
        {
         "dtype": "int64",
         "name": "_deepnote_index_column"
        }
       ],
       "row_count": 5,
       "rows": [
        {
         "Company_Name": "James and Sons",
         "Employee_City": "New Russellton",
         "Employee_Country": "Palestinian Territory",
         "Employee_Job_Title": "Equities trader",
         "Employee_Rating": 3.9,
         "Employee_Salary": 321520,
         "Employment_Status": "Full Time",
         "Name": "Spencer Adkins",
         "_deepnote_index_column": 0
        },
        {
         "Company_Name": "Nichols-James",
         "Employee_City": "North Melissafurt",
         "Employee_Country": "Marshall Islands",
         "Employee_Job_Title": "Diplomatic Services operational officer",
         "Employee_Rating": 4.3,
         "Employee_Salary": 589090,
         "Employment_Status": "Full Time",
         "Name": "Julie Morton",
         "_deepnote_index_column": 1
        },
        {
         "Company_Name": "Scott Inc",
         "Employee_City": "Wardfort",
         "Employee_Country": "Anguilla",
         "Employee_Job_Title": "Regulatory affairs officer",
         "Employee_Rating": 3.1,
         "Employee_Salary": 630890,
         "Employment_Status": "Full Time",
         "Name": "Matthew Hall",
         "_deepnote_index_column": 2
        },
        {
         "Company_Name": "Johnston, Fleming and Tanner",
         "Employee_City": "West Jamesview",
         "Employee_Country": "Syrian Arab Republic",
         "Employee_Job_Title": "Production engineer",
         "Employee_Rating": 3.1,
         "Employee_Salary": 116400,
         "Employment_Status": "Full Time",
         "Name": "Brad Scott",
         "_deepnote_index_column": 3
        },
        {
         "Company_Name": "Baker, Allen and Edwards",
         "Employee_City": "Whiteside",
         "Employee_Country": "Dominica",
         "Employee_Job_Title": "Production engineer",
         "Employee_Rating": 4.8,
         "Employee_Salary": 523499,
         "Employment_Status": "Full Time",
         "Name": "Theresa Owens",
         "_deepnote_index_column": 4
        }
       ],
       "type": "dataframe"
      },
      "text/html": [
       "<div>\n",
       "<style scoped>\n",
       "    .dataframe tbody tr th:only-of-type {\n",
       "        vertical-align: middle;\n",
       "    }\n",
       "\n",
       "    .dataframe tbody tr th {\n",
       "        vertical-align: top;\n",
       "    }\n",
       "\n",
       "    .dataframe thead th {\n",
       "        text-align: right;\n",
       "    }\n",
       "</style>\n",
       "<table border=\"1\" class=\"dataframe\">\n",
       "  <thead>\n",
       "    <tr style=\"text-align: right;\">\n",
       "      <th></th>\n",
       "      <th>Name</th>\n",
       "      <th>Company_Name</th>\n",
       "      <th>Employee_Job_Title</th>\n",
       "      <th>Employee_City</th>\n",
       "      <th>Employee_Country</th>\n",
       "      <th>Employee_Salary</th>\n",
       "      <th>Employment_Status</th>\n",
       "      <th>Employee_Rating</th>\n",
       "    </tr>\n",
       "  </thead>\n",
       "  <tbody>\n",
       "    <tr>\n",
       "      <th>0</th>\n",
       "      <td>Spencer Adkins</td>\n",
       "      <td>James and Sons</td>\n",
       "      <td>Equities trader</td>\n",
       "      <td>New Russellton</td>\n",
       "      <td>Palestinian Territory</td>\n",
       "      <td>321520</td>\n",
       "      <td>Full Time</td>\n",
       "      <td>3.9</td>\n",
       "    </tr>\n",
       "    <tr>\n",
       "      <th>1</th>\n",
       "      <td>Julie Morton</td>\n",
       "      <td>Nichols-James</td>\n",
       "      <td>Diplomatic Services operational officer</td>\n",
       "      <td>North Melissafurt</td>\n",
       "      <td>Marshall Islands</td>\n",
       "      <td>589090</td>\n",
       "      <td>Full Time</td>\n",
       "      <td>4.3</td>\n",
       "    </tr>\n",
       "    <tr>\n",
       "      <th>2</th>\n",
       "      <td>Matthew Hall</td>\n",
       "      <td>Scott Inc</td>\n",
       "      <td>Regulatory affairs officer</td>\n",
       "      <td>Wardfort</td>\n",
       "      <td>Anguilla</td>\n",
       "      <td>630890</td>\n",
       "      <td>Full Time</td>\n",
       "      <td>3.1</td>\n",
       "    </tr>\n",
       "    <tr>\n",
       "      <th>3</th>\n",
       "      <td>Brad Scott</td>\n",
       "      <td>Johnston, Fleming and Tanner</td>\n",
       "      <td>Production engineer</td>\n",
       "      <td>West Jamesview</td>\n",
       "      <td>Syrian Arab Republic</td>\n",
       "      <td>116400</td>\n",
       "      <td>Full Time</td>\n",
       "      <td>3.1</td>\n",
       "    </tr>\n",
       "    <tr>\n",
       "      <th>4</th>\n",
       "      <td>Theresa Owens</td>\n",
       "      <td>Baker, Allen and Edwards</td>\n",
       "      <td>Production engineer</td>\n",
       "      <td>Whiteside</td>\n",
       "      <td>Dominica</td>\n",
       "      <td>523499</td>\n",
       "      <td>Full Time</td>\n",
       "      <td>4.8</td>\n",
       "    </tr>\n",
       "  </tbody>\n",
       "</table>\n",
       "</div>"
      ],
      "text/plain": [
       "             Name                  Company_Name  \\\n",
       "0  Spencer Adkins                James and Sons   \n",
       "1    Julie Morton                 Nichols-James   \n",
       "2    Matthew Hall                     Scott Inc   \n",
       "3      Brad Scott  Johnston, Fleming and Tanner   \n",
       "4   Theresa Owens      Baker, Allen and Edwards   \n",
       "\n",
       "                        Employee_Job_Title      Employee_City  \\\n",
       "0                          Equities trader     New Russellton   \n",
       "1  Diplomatic Services operational officer  North Melissafurt   \n",
       "2               Regulatory affairs officer           Wardfort   \n",
       "3                      Production engineer     West Jamesview   \n",
       "4                      Production engineer          Whiteside   \n",
       "\n",
       "        Employee_Country  Employee_Salary Employment_Status  Employee_Rating  \n",
       "0  Palestinian Territory           321520         Full Time              3.9  \n",
       "1       Marshall Islands           589090         Full Time              4.3  \n",
       "2               Anguilla           630890         Full Time              3.1  \n",
       "3   Syrian Arab Republic           116400         Full Time              3.1  \n",
       "4               Dominica           523499         Full Time              4.8  "
      ]
     },
     "execution_count": 4,
     "metadata": {},
     "output_type": "execute_result"
    }
   ],
   "source": [
    "_dntk.execute_sql(\n",
    "  'Select * from data limit 5;',\n",
    "  'SQL_DEEPNOTE_DATAFRAME_SQL',\n",
    "  audit_sql_comment='',\n",
    "  sql_cache_mode='cache_disabled',\n",
    "  return_variable_type='dataframe'\n",
    ")"
   ]
  },
  {
   "cell_type": "markdown",
   "metadata": {
    "cell_id": "cff537ea22a74c258f8d62d068c1cda9",
    "deepnote_cell_type": "text-cell-h3",
    "formattedRanges": [],
    "is_collapsed": false,
    "tags": []
   },
   "source": [
    "### 2. Print the number of rows"
   ]
  },
  {
   "cell_type": "code",
   "execution_count": 5,
   "metadata": {
    "cell_id": "5a0596cf995942d0b3c939f6b1862479",
    "deepnote_cell_type": "sql",
    "deepnote_sql_source": "SELECT COUNT(*) FROM data;",
    "deepnote_to_be_reexecuted": false,
    "execution_context_id": "8daddd6c-84aa-49fd-9c82-a2fcacf0e77e",
    "execution_millis": 8,
    "execution_start": 1742883921683,
    "source_hash": "9cdba035",
    "sql_integration_id": "deepnote-dataframe-sql",
    "tags": []
   },
   "outputs": [
    {
     "data": {
      "application/vnd.deepnote.dataframe.v3+json": {
       "column_count": 1,
       "columns": [
        {
         "dtype": "int64",
         "name": "count_star()",
         "stats": {
          "histogram": [
           {
            "bin_end": 299999.6,
            "bin_start": 299999.5,
            "count": 0
           },
           {
            "bin_end": 299999.7,
            "bin_start": 299999.6,
            "count": 0
           },
           {
            "bin_end": 299999.8,
            "bin_start": 299999.7,
            "count": 0
           },
           {
            "bin_end": 299999.9,
            "bin_start": 299999.8,
            "count": 0
           },
           {
            "bin_end": 300000,
            "bin_start": 299999.9,
            "count": 0
           },
           {
            "bin_end": 300000.1,
            "bin_start": 300000,
            "count": 1
           },
           {
            "bin_end": 300000.2,
            "bin_start": 300000.1,
            "count": 0
           },
           {
            "bin_end": 300000.3,
            "bin_start": 300000.2,
            "count": 0
           },
           {
            "bin_end": 300000.4,
            "bin_start": 300000.3,
            "count": 0
           },
           {
            "bin_end": 300000.5,
            "bin_start": 300000.4,
            "count": 0
           }
          ],
          "max": "300000",
          "min": "300000",
          "nan_count": 0,
          "unique_count": 1
         }
        },
        {
         "dtype": "int64",
         "name": "_deepnote_index_column"
        }
       ],
       "row_count": 1,
       "rows": [
        {
         "_deepnote_index_column": 0,
         "count_star()": 300000
        }
       ],
       "type": "dataframe"
      },
      "text/html": [
       "<div>\n",
       "<style scoped>\n",
       "    .dataframe tbody tr th:only-of-type {\n",
       "        vertical-align: middle;\n",
       "    }\n",
       "\n",
       "    .dataframe tbody tr th {\n",
       "        vertical-align: top;\n",
       "    }\n",
       "\n",
       "    .dataframe thead th {\n",
       "        text-align: right;\n",
       "    }\n",
       "</style>\n",
       "<table border=\"1\" class=\"dataframe\">\n",
       "  <thead>\n",
       "    <tr style=\"text-align: right;\">\n",
       "      <th></th>\n",
       "      <th>count_star()</th>\n",
       "    </tr>\n",
       "  </thead>\n",
       "  <tbody>\n",
       "    <tr>\n",
       "      <th>0</th>\n",
       "      <td>300000</td>\n",
       "    </tr>\n",
       "  </tbody>\n",
       "</table>\n",
       "</div>"
      ],
      "text/plain": [
       "   count_star()\n",
       "0        300000"
      ]
     },
     "execution_count": 5,
     "metadata": {},
     "output_type": "execute_result"
    }
   ],
   "source": [
    "_dntk.execute_sql(\n",
    "  'SELECT COUNT(*) FROM data;',\n",
    "  'SQL_DEEPNOTE_DATAFRAME_SQL',\n",
    "  audit_sql_comment='',\n",
    "  sql_cache_mode='cache_disabled',\n",
    "  return_variable_type='dataframe'\n",
    ")"
   ]
  },
  {
   "cell_type": "markdown",
   "metadata": {
    "cell_id": "9d9341fab6ac4b9a948cecaf9dc595c1",
    "deepnote_cell_type": "text-cell-h3",
    "formattedRanges": [],
    "is_collapsed": false,
    "tags": []
   },
   "source": [
    "### 3. Print the first five rows of the Company_Name and Employment_Status Column"
   ]
  },
  {
   "cell_type": "code",
   "execution_count": 6,
   "metadata": {
    "cell_id": "5be7662e13b645be9322645014c35201",
    "deepnote_cell_type": "sql",
    "deepnote_sql_source": "SELECT Company_Name, Employment_Status FROM data LIMIT 5;",
    "deepnote_to_be_reexecuted": false,
    "execution_context_id": "8daddd6c-84aa-49fd-9c82-a2fcacf0e77e",
    "execution_millis": 18,
    "execution_start": 1742883921742,
    "source_hash": "2e11e408",
    "sql_integration_id": "deepnote-dataframe-sql",
    "tags": []
   },
   "outputs": [
    {
     "data": {
      "application/vnd.deepnote.dataframe.v3+json": {
       "column_count": 2,
       "columns": [
        {
         "dtype": "object",
         "name": "Company_Name",
         "stats": {
          "categories": [
           {
            "count": 1,
            "name": "James and Sons"
           },
           {
            "count": 1,
            "name": "Nichols-James"
           },
           {
            "count": 3,
            "name": "3 others"
           }
          ],
          "nan_count": 0,
          "unique_count": 5
         }
        },
        {
         "dtype": "object",
         "name": "Employment_Status",
         "stats": {
          "categories": [
           {
            "count": 5,
            "name": "Full Time"
           }
          ],
          "nan_count": 0,
          "unique_count": 1
         }
        },
        {
         "dtype": "int64",
         "name": "_deepnote_index_column"
        }
       ],
       "row_count": 5,
       "rows": [
        {
         "Company_Name": "James and Sons",
         "Employment_Status": "Full Time",
         "_deepnote_index_column": 0
        },
        {
         "Company_Name": "Nichols-James",
         "Employment_Status": "Full Time",
         "_deepnote_index_column": 1
        },
        {
         "Company_Name": "Scott Inc",
         "Employment_Status": "Full Time",
         "_deepnote_index_column": 2
        },
        {
         "Company_Name": "Johnston, Fleming and Tanner",
         "Employment_Status": "Full Time",
         "_deepnote_index_column": 3
        },
        {
         "Company_Name": "Baker, Allen and Edwards",
         "Employment_Status": "Full Time",
         "_deepnote_index_column": 4
        }
       ],
       "type": "dataframe"
      },
      "text/html": [
       "<div>\n",
       "<style scoped>\n",
       "    .dataframe tbody tr th:only-of-type {\n",
       "        vertical-align: middle;\n",
       "    }\n",
       "\n",
       "    .dataframe tbody tr th {\n",
       "        vertical-align: top;\n",
       "    }\n",
       "\n",
       "    .dataframe thead th {\n",
       "        text-align: right;\n",
       "    }\n",
       "</style>\n",
       "<table border=\"1\" class=\"dataframe\">\n",
       "  <thead>\n",
       "    <tr style=\"text-align: right;\">\n",
       "      <th></th>\n",
       "      <th>Company_Name</th>\n",
       "      <th>Employment_Status</th>\n",
       "    </tr>\n",
       "  </thead>\n",
       "  <tbody>\n",
       "    <tr>\n",
       "      <th>0</th>\n",
       "      <td>James and Sons</td>\n",
       "      <td>Full Time</td>\n",
       "    </tr>\n",
       "    <tr>\n",
       "      <th>1</th>\n",
       "      <td>Nichols-James</td>\n",
       "      <td>Full Time</td>\n",
       "    </tr>\n",
       "    <tr>\n",
       "      <th>2</th>\n",
       "      <td>Scott Inc</td>\n",
       "      <td>Full Time</td>\n",
       "    </tr>\n",
       "    <tr>\n",
       "      <th>3</th>\n",
       "      <td>Johnston, Fleming and Tanner</td>\n",
       "      <td>Full Time</td>\n",
       "    </tr>\n",
       "    <tr>\n",
       "      <th>4</th>\n",
       "      <td>Baker, Allen and Edwards</td>\n",
       "      <td>Full Time</td>\n",
       "    </tr>\n",
       "  </tbody>\n",
       "</table>\n",
       "</div>"
      ],
      "text/plain": [
       "                   Company_Name Employment_Status\n",
       "0                James and Sons         Full Time\n",
       "1                 Nichols-James         Full Time\n",
       "2                     Scott Inc         Full Time\n",
       "3  Johnston, Fleming and Tanner         Full Time\n",
       "4      Baker, Allen and Edwards         Full Time"
      ]
     },
     "execution_count": 6,
     "metadata": {},
     "output_type": "execute_result"
    }
   ],
   "source": [
    "_dntk.execute_sql(\n",
    "  'SELECT Company_Name, Employment_Status FROM data LIMIT 5;',\n",
    "  'SQL_DEEPNOTE_DATAFRAME_SQL',\n",
    "  audit_sql_comment='',\n",
    "  sql_cache_mode='cache_disabled',\n",
    "  return_variable_type='dataframe'\n",
    ")"
   ]
  },
  {
   "cell_type": "markdown",
   "metadata": {
    "cell_id": "3aebea71ba884bbaa08a769e64b8261a",
    "deepnote_cell_type": "text-cell-h3",
    "formattedRanges": [],
    "is_collapsed": false,
    "tags": []
   },
   "source": [
    "### 4. Print the first five rows where the Employee_Rating > 4.5"
   ]
  },
  {
   "cell_type": "code",
   "execution_count": 7,
   "metadata": {
    "cell_id": "f76faccd2f4d49458bc17b30e74218b5",
    "deepnote_cell_type": "sql",
    "deepnote_sql_source": "select * from data where Employee_Rating>4.5 LIMIT 5;",
    "deepnote_to_be_reexecuted": false,
    "execution_context_id": "8daddd6c-84aa-49fd-9c82-a2fcacf0e77e",
    "execution_millis": 49,
    "execution_start": 1742883921803,
    "source_hash": "d1f9e450",
    "sql_integration_id": "deepnote-dataframe-sql",
    "tags": []
   },
   "outputs": [
    {
     "data": {
      "application/vnd.deepnote.dataframe.v3+json": {
       "column_count": 8,
       "columns": [
        {
         "dtype": "object",
         "name": "Name",
         "stats": {
          "categories": [
           {
            "count": 1,
            "name": "Theresa Owens"
           },
           {
            "count": 1,
            "name": "Victoria Sutton"
           },
           {
            "count": 3,
            "name": "3 others"
           }
          ],
          "nan_count": 0,
          "unique_count": 5
         }
        },
        {
         "dtype": "object",
         "name": "Company_Name",
         "stats": {
          "categories": [
           {
            "count": 1,
            "name": "Baker, Allen and Edwards"
           },
           {
            "count": 1,
            "name": "White, Mcclain and Cobb"
           },
           {
            "count": 3,
            "name": "3 others"
           }
          ],
          "nan_count": 0,
          "unique_count": 5
         }
        },
        {
         "dtype": "object",
         "name": "Employee_Job_Title",
         "stats": {
          "categories": [
           {
            "count": 1,
            "name": "Production engineer"
           },
           {
            "count": 1,
            "name": "Naval architect"
           },
           {
            "count": 3,
            "name": "3 others"
           }
          ],
          "nan_count": 0,
          "unique_count": 5
         }
        },
        {
         "dtype": "object",
         "name": "Employee_City",
         "stats": {
          "categories": [
           {
            "count": 2,
            "name": "Whiteside"
           },
           {
            "count": 2,
            "name": "New Russellton"
           },
           {
            "count": 1,
            "name": "Kristaburgh"
           }
          ],
          "nan_count": 0,
          "unique_count": 3
         }
        },
        {
         "dtype": "object",
         "name": "Employee_Country",
         "stats": {
          "categories": [
           {
            "count": 1,
            "name": "Dominica"
           },
           {
            "count": 1,
            "name": "Poland"
           },
           {
            "count": 3,
            "name": "3 others"
           }
          ],
          "nan_count": 0,
          "unique_count": 5
         }
        },
        {
         "dtype": "int64",
         "name": "Employee_Salary",
         "stats": {
          "histogram": [
           {
            "bin_end": 386995,
            "bin_start": 328860,
            "count": 1
           },
           {
            "bin_end": 445130,
            "bin_start": 386995,
            "count": 0
           },
           {
            "bin_end": 503265,
            "bin_start": 445130,
            "count": 0
           },
           {
            "bin_end": 561400,
            "bin_start": 503265,
            "count": 1
           },
           {
            "bin_end": 619535,
            "bin_start": 561400,
            "count": 0
           },
           {
            "bin_end": 677670,
            "bin_start": 619535,
            "count": 1
           },
           {
            "bin_end": 735805,
            "bin_start": 677670,
            "count": 0
           },
           {
            "bin_end": 793940,
            "bin_start": 735805,
            "count": 0
           },
           {
            "bin_end": 852075,
            "bin_start": 793940,
            "count": 0
           },
           {
            "bin_end": 910210,
            "bin_start": 852075,
            "count": 2
           }
          ],
          "max": "910210",
          "min": "328860",
          "nan_count": 0,
          "unique_count": 5
         }
        },
        {
         "dtype": "object",
         "name": "Employment_Status",
         "stats": {
          "categories": [
           {
            "count": 5,
            "name": "Full Time"
           }
          ],
          "nan_count": 0,
          "unique_count": 1
         }
        },
        {
         "dtype": "float64",
         "name": "Employee_Rating",
         "stats": {
          "histogram": [
           {
            "bin_end": 4.720000000000001,
            "bin_start": 4.7,
            "count": 1
           },
           {
            "bin_end": 4.74,
            "bin_start": 4.720000000000001,
            "count": 0
           },
           {
            "bin_end": 4.76,
            "bin_start": 4.74,
            "count": 0
           },
           {
            "bin_end": 4.78,
            "bin_start": 4.76,
            "count": 0
           },
           {
            "bin_end": 4.800000000000001,
            "bin_start": 4.78,
            "count": 2
           },
           {
            "bin_end": 4.82,
            "bin_start": 4.800000000000001,
            "count": 0
           },
           {
            "bin_end": 4.84,
            "bin_start": 4.82,
            "count": 0
           },
           {
            "bin_end": 4.86,
            "bin_start": 4.84,
            "count": 0
           },
           {
            "bin_end": 4.880000000000001,
            "bin_start": 4.86,
            "count": 0
           },
           {
            "bin_end": 4.9,
            "bin_start": 4.880000000000001,
            "count": 2
           }
          ],
          "max": "4.9",
          "min": "4.7",
          "nan_count": 0,
          "unique_count": 3
         }
        },
        {
         "dtype": "int64",
         "name": "_deepnote_index_column"
        }
       ],
       "row_count": 5,
       "rows": [
        {
         "Company_Name": "Baker, Allen and Edwards",
         "Employee_City": "Whiteside",
         "Employee_Country": "Dominica",
         "Employee_Job_Title": "Production engineer",
         "Employee_Rating": 4.8,
         "Employee_Salary": 523499,
         "Employment_Status": "Full Time",
         "Name": "Theresa Owens",
         "_deepnote_index_column": 0
        },
        {
         "Company_Name": "White, Mcclain and Cobb",
         "Employee_City": "Whiteside",
         "Employee_Country": "Poland",
         "Employee_Job_Title": "Naval architect",
         "Employee_Rating": 4.9,
         "Employee_Salary": 656260,
         "Employment_Status": "Full Time",
         "Name": "Victoria Sutton",
         "_deepnote_index_column": 1
        },
        {
         "Company_Name": "Nichols-James",
         "Employee_City": "New Russellton",
         "Employee_Country": "Georgia",
         "Employee_Job_Title": "Investment banker, corporate",
         "Employee_Rating": 4.9,
         "Employee_Salary": 910210,
         "Employment_Status": "Full Time",
         "Name": "David Duran",
         "_deepnote_index_column": 2
        },
        {
         "Company_Name": "Matthews Inc",
         "Employee_City": "New Russellton",
         "Employee_Country": "Puerto Rico",
         "Employee_Job_Title": "Equities trader",
         "Employee_Rating": 4.8,
         "Employee_Salary": 328860,
         "Employment_Status": "Full Time",
         "Name": "Julie Cook",
         "_deepnote_index_column": 3
        },
        {
         "Company_Name": "Thomas-Spencer",
         "Employee_City": "Kristaburgh",
         "Employee_Country": "El Salvador",
         "Employee_Job_Title": "Garment/textile technologist",
         "Employee_Rating": 4.7,
         "Employee_Salary": 873320,
         "Employment_Status": "Full Time",
         "Name": "Gerald Santiago",
         "_deepnote_index_column": 4
        }
       ],
       "type": "dataframe"
      },
      "text/html": [
       "<div>\n",
       "<style scoped>\n",
       "    .dataframe tbody tr th:only-of-type {\n",
       "        vertical-align: middle;\n",
       "    }\n",
       "\n",
       "    .dataframe tbody tr th {\n",
       "        vertical-align: top;\n",
       "    }\n",
       "\n",
       "    .dataframe thead th {\n",
       "        text-align: right;\n",
       "    }\n",
       "</style>\n",
       "<table border=\"1\" class=\"dataframe\">\n",
       "  <thead>\n",
       "    <tr style=\"text-align: right;\">\n",
       "      <th></th>\n",
       "      <th>Name</th>\n",
       "      <th>Company_Name</th>\n",
       "      <th>Employee_Job_Title</th>\n",
       "      <th>Employee_City</th>\n",
       "      <th>Employee_Country</th>\n",
       "      <th>Employee_Salary</th>\n",
       "      <th>Employment_Status</th>\n",
       "      <th>Employee_Rating</th>\n",
       "    </tr>\n",
       "  </thead>\n",
       "  <tbody>\n",
       "    <tr>\n",
       "      <th>0</th>\n",
       "      <td>Theresa Owens</td>\n",
       "      <td>Baker, Allen and Edwards</td>\n",
       "      <td>Production engineer</td>\n",
       "      <td>Whiteside</td>\n",
       "      <td>Dominica</td>\n",
       "      <td>523499</td>\n",
       "      <td>Full Time</td>\n",
       "      <td>4.8</td>\n",
       "    </tr>\n",
       "    <tr>\n",
       "      <th>1</th>\n",
       "      <td>Victoria Sutton</td>\n",
       "      <td>White, Mcclain and Cobb</td>\n",
       "      <td>Naval architect</td>\n",
       "      <td>Whiteside</td>\n",
       "      <td>Poland</td>\n",
       "      <td>656260</td>\n",
       "      <td>Full Time</td>\n",
       "      <td>4.9</td>\n",
       "    </tr>\n",
       "    <tr>\n",
       "      <th>2</th>\n",
       "      <td>David Duran</td>\n",
       "      <td>Nichols-James</td>\n",
       "      <td>Investment banker, corporate</td>\n",
       "      <td>New Russellton</td>\n",
       "      <td>Georgia</td>\n",
       "      <td>910210</td>\n",
       "      <td>Full Time</td>\n",
       "      <td>4.9</td>\n",
       "    </tr>\n",
       "    <tr>\n",
       "      <th>3</th>\n",
       "      <td>Julie Cook</td>\n",
       "      <td>Matthews Inc</td>\n",
       "      <td>Equities trader</td>\n",
       "      <td>New Russellton</td>\n",
       "      <td>Puerto Rico</td>\n",
       "      <td>328860</td>\n",
       "      <td>Full Time</td>\n",
       "      <td>4.8</td>\n",
       "    </tr>\n",
       "    <tr>\n",
       "      <th>4</th>\n",
       "      <td>Gerald Santiago</td>\n",
       "      <td>Thomas-Spencer</td>\n",
       "      <td>Garment/textile technologist</td>\n",
       "      <td>Kristaburgh</td>\n",
       "      <td>El Salvador</td>\n",
       "      <td>873320</td>\n",
       "      <td>Full Time</td>\n",
       "      <td>4.7</td>\n",
       "    </tr>\n",
       "  </tbody>\n",
       "</table>\n",
       "</div>"
      ],
      "text/plain": [
       "              Name              Company_Name            Employee_Job_Title  \\\n",
       "0    Theresa Owens  Baker, Allen and Edwards           Production engineer   \n",
       "1  Victoria Sutton   White, Mcclain and Cobb               Naval architect   \n",
       "2      David Duran             Nichols-James  Investment banker, corporate   \n",
       "3       Julie Cook              Matthews Inc               Equities trader   \n",
       "4  Gerald Santiago            Thomas-Spencer  Garment/textile technologist   \n",
       "\n",
       "    Employee_City Employee_Country  Employee_Salary Employment_Status  \\\n",
       "0       Whiteside         Dominica           523499         Full Time   \n",
       "1       Whiteside           Poland           656260         Full Time   \n",
       "2  New Russellton          Georgia           910210         Full Time   \n",
       "3  New Russellton      Puerto Rico           328860         Full Time   \n",
       "4     Kristaburgh      El Salvador           873320         Full Time   \n",
       "\n",
       "   Employee_Rating  \n",
       "0              4.8  \n",
       "1              4.9  \n",
       "2              4.9  \n",
       "3              4.8  \n",
       "4              4.7  "
      ]
     },
     "execution_count": 7,
     "metadata": {},
     "output_type": "execute_result"
    }
   ],
   "source": [
    "_dntk.execute_sql(\n",
    "  'select * from data where Employee_Rating>4.5 LIMIT 5;',\n",
    "  'SQL_DEEPNOTE_DATAFRAME_SQL',\n",
    "  audit_sql_comment='',\n",
    "  sql_cache_mode='cache_disabled',\n",
    "  return_variable_type='dataframe'\n",
    ")"
   ]
  },
  {
   "cell_type": "markdown",
   "metadata": {
    "cell_id": "072b6c18564c4508937477e055b98fc9",
    "deepnote_cell_type": "text-cell-h3",
    "formattedRanges": [],
    "is_collapsed": false,
    "tags": []
   },
   "source": [
    "### 5. Print the number of rows having Employee_Salary > 600000"
   ]
  },
  {
   "cell_type": "code",
   "execution_count": 8,
   "metadata": {
    "cell_id": "fa7636fbf03d4322b10b07aa1b94c0ba",
    "deepnote_cell_type": "sql",
    "deepnote_sql_source": "select COUNT(*) from data where Employee_Salary> 600000",
    "deepnote_to_be_reexecuted": false,
    "execution_context_id": "8daddd6c-84aa-49fd-9c82-a2fcacf0e77e",
    "execution_millis": 7,
    "execution_start": 1742883921903,
    "source_hash": "33c0d6",
    "sql_integration_id": "deepnote-dataframe-sql",
    "tags": []
   },
   "outputs": [
    {
     "data": {
      "application/vnd.deepnote.dataframe.v3+json": {
       "column_count": 1,
       "columns": [
        {
         "dtype": "int64",
         "name": "count_star()",
         "stats": {
          "histogram": [
           {
            "bin_end": 120012.6,
            "bin_start": 120012.5,
            "count": 0
           },
           {
            "bin_end": 120012.7,
            "bin_start": 120012.6,
            "count": 0
           },
           {
            "bin_end": 120012.8,
            "bin_start": 120012.7,
            "count": 0
           },
           {
            "bin_end": 120012.9,
            "bin_start": 120012.8,
            "count": 0
           },
           {
            "bin_end": 120013,
            "bin_start": 120012.9,
            "count": 0
           },
           {
            "bin_end": 120013.1,
            "bin_start": 120013,
            "count": 1
           },
           {
            "bin_end": 120013.2,
            "bin_start": 120013.1,
            "count": 0
           },
           {
            "bin_end": 120013.3,
            "bin_start": 120013.2,
            "count": 0
           },
           {
            "bin_end": 120013.4,
            "bin_start": 120013.3,
            "count": 0
           },
           {
            "bin_end": 120013.5,
            "bin_start": 120013.4,
            "count": 0
           }
          ],
          "max": "120013",
          "min": "120013",
          "nan_count": 0,
          "unique_count": 1
         }
        },
        {
         "dtype": "int64",
         "name": "_deepnote_index_column"
        }
       ],
       "row_count": 1,
       "rows": [
        {
         "_deepnote_index_column": 0,
         "count_star()": 120013
        }
       ],
       "type": "dataframe"
      },
      "text/html": [
       "<div>\n",
       "<style scoped>\n",
       "    .dataframe tbody tr th:only-of-type {\n",
       "        vertical-align: middle;\n",
       "    }\n",
       "\n",
       "    .dataframe tbody tr th {\n",
       "        vertical-align: top;\n",
       "    }\n",
       "\n",
       "    .dataframe thead th {\n",
       "        text-align: right;\n",
       "    }\n",
       "</style>\n",
       "<table border=\"1\" class=\"dataframe\">\n",
       "  <thead>\n",
       "    <tr style=\"text-align: right;\">\n",
       "      <th></th>\n",
       "      <th>count_star()</th>\n",
       "    </tr>\n",
       "  </thead>\n",
       "  <tbody>\n",
       "    <tr>\n",
       "      <th>0</th>\n",
       "      <td>120013</td>\n",
       "    </tr>\n",
       "  </tbody>\n",
       "</table>\n",
       "</div>"
      ],
      "text/plain": [
       "   count_star()\n",
       "0        120013"
      ]
     },
     "execution_count": 8,
     "metadata": {},
     "output_type": "execute_result"
    }
   ],
   "source": [
    "_dntk.execute_sql(\n",
    "  'select COUNT(*) from data where Employee_Salary> 600000',\n",
    "  'SQL_DEEPNOTE_DATAFRAME_SQL',\n",
    "  audit_sql_comment='',\n",
    "  sql_cache_mode='cache_disabled',\n",
    "  return_variable_type='dataframe'\n",
    ")"
   ]
  },
  {
   "cell_type": "markdown",
   "metadata": {
    "cell_id": "37f7212697784fc8a29375e942f223b5",
    "deepnote_cell_type": "text-cell-h3",
    "formattedRanges": [],
    "is_collapsed": false,
    "tags": []
   },
   "source": [
    "### 6. Print the number of rows with Employee_Salary > 600000 and Employee_Rating > 4.5"
   ]
  },
  {
   "cell_type": "code",
   "execution_count": 9,
   "metadata": {
    "cell_id": "60c609fbd10c4674b22efd7a514c0066",
    "deepnote_cell_type": "sql",
    "deepnote_sql_source": "select count(*) from data where Employee_Salary>600000 and Employee_Rating>4.5",
    "deepnote_to_be_reexecuted": false,
    "execution_context_id": "8daddd6c-84aa-49fd-9c82-a2fcacf0e77e",
    "execution_millis": 32,
    "execution_start": 1742883921953,
    "source_hash": "810220b7",
    "sql_integration_id": "deepnote-dataframe-sql",
    "tags": []
   },
   "outputs": [
    {
     "data": {
      "application/vnd.deepnote.dataframe.v3+json": {
       "column_count": 1,
       "columns": [
        {
         "dtype": "int64",
         "name": "count_star()",
         "stats": {
          "histogram": [
           {
            "bin_end": 10765.6,
            "bin_start": 10765.5,
            "count": 0
           },
           {
            "bin_end": 10765.7,
            "bin_start": 10765.6,
            "count": 0
           },
           {
            "bin_end": 10765.8,
            "bin_start": 10765.7,
            "count": 0
           },
           {
            "bin_end": 10765.9,
            "bin_start": 10765.8,
            "count": 0
           },
           {
            "bin_end": 10766,
            "bin_start": 10765.9,
            "count": 0
           },
           {
            "bin_end": 10766.1,
            "bin_start": 10766,
            "count": 1
           },
           {
            "bin_end": 10766.2,
            "bin_start": 10766.1,
            "count": 0
           },
           {
            "bin_end": 10766.3,
            "bin_start": 10766.2,
            "count": 0
           },
           {
            "bin_end": 10766.4,
            "bin_start": 10766.3,
            "count": 0
           },
           {
            "bin_end": 10766.5,
            "bin_start": 10766.4,
            "count": 0
           }
          ],
          "max": "10766",
          "min": "10766",
          "nan_count": 0,
          "unique_count": 1
         }
        },
        {
         "dtype": "int64",
         "name": "_deepnote_index_column"
        }
       ],
       "row_count": 1,
       "rows": [
        {
         "_deepnote_index_column": 0,
         "count_star()": 10766
        }
       ],
       "type": "dataframe"
      },
      "text/html": [
       "<div>\n",
       "<style scoped>\n",
       "    .dataframe tbody tr th:only-of-type {\n",
       "        vertical-align: middle;\n",
       "    }\n",
       "\n",
       "    .dataframe tbody tr th {\n",
       "        vertical-align: top;\n",
       "    }\n",
       "\n",
       "    .dataframe thead th {\n",
       "        text-align: right;\n",
       "    }\n",
       "</style>\n",
       "<table border=\"1\" class=\"dataframe\">\n",
       "  <thead>\n",
       "    <tr style=\"text-align: right;\">\n",
       "      <th></th>\n",
       "      <th>count_star()</th>\n",
       "    </tr>\n",
       "  </thead>\n",
       "  <tbody>\n",
       "    <tr>\n",
       "      <th>0</th>\n",
       "      <td>10766</td>\n",
       "    </tr>\n",
       "  </tbody>\n",
       "</table>\n",
       "</div>"
      ],
      "text/plain": [
       "   count_star()\n",
       "0         10766"
      ]
     },
     "execution_count": 9,
     "metadata": {},
     "output_type": "execute_result"
    }
   ],
   "source": [
    "_dntk.execute_sql(\n",
    "  'select count(*) from data where Employee_Salary>600000 and Employee_Rating>4.5',\n",
    "  'SQL_DEEPNOTE_DATAFRAME_SQL',\n",
    "  audit_sql_comment='',\n",
    "  sql_cache_mode='cache_disabled',\n",
    "  return_variable_type='dataframe'\n",
    ")"
   ]
  },
  {
   "cell_type": "markdown",
   "metadata": {
    "cell_id": "5d33cd68f3eb4295a69d03380e9bdfb6",
    "deepnote_cell_type": "text-cell-h3",
    "formattedRanges": [],
    "is_collapsed": false,
    "tags": []
   },
   "source": [
    "###  7. Print the first five rows with Employee_Salary > 600000 and Employee_Rating > 4.5"
   ]
  },
  {
   "cell_type": "code",
   "execution_count": 10,
   "metadata": {
    "cell_id": "5760a59c0d0c4af9ad193dde2c6b7385",
    "deepnote_cell_type": "sql",
    "deepnote_sql_source": "select * from data where Employee_Salary>600000 and Employee_Rating>4.5 LIMIT 5;",
    "deepnote_to_be_reexecuted": false,
    "execution_context_id": "8daddd6c-84aa-49fd-9c82-a2fcacf0e77e",
    "execution_millis": 57,
    "execution_start": 1742883922043,
    "source_hash": "2fd92262",
    "sql_integration_id": "deepnote-dataframe-sql",
    "tags": []
   },
   "outputs": [
    {
     "data": {
      "application/vnd.deepnote.dataframe.v3+json": {
       "column_count": 8,
       "columns": [
        {
         "dtype": "object",
         "name": "Name",
         "stats": {
          "categories": [
           {
            "count": 1,
            "name": "Victoria Sutton"
           },
           {
            "count": 1,
            "name": "David Duran"
           },
           {
            "count": 3,
            "name": "3 others"
           }
          ],
          "nan_count": 0,
          "unique_count": 5
         }
        },
        {
         "dtype": "object",
         "name": "Company_Name",
         "stats": {
          "categories": [
           {
            "count": 2,
            "name": "Thomas-Spencer"
           },
           {
            "count": 1,
            "name": "White, Mcclain and Cobb"
           },
           {
            "count": 2,
            "name": "2 others"
           }
          ],
          "nan_count": 0,
          "unique_count": 4
         }
        },
        {
         "dtype": "object",
         "name": "Employee_Job_Title",
         "stats": {
          "categories": [
           {
            "count": 1,
            "name": "Naval architect"
           },
           {
            "count": 1,
            "name": "Investment banker, corporate"
           },
           {
            "count": 3,
            "name": "3 others"
           }
          ],
          "nan_count": 0,
          "unique_count": 5
         }
        },
        {
         "dtype": "object",
         "name": "Employee_City",
         "stats": {
          "categories": [
           {
            "count": 1,
            "name": "Whiteside"
           },
           {
            "count": 1,
            "name": "New Russellton"
           },
           {
            "count": 3,
            "name": "3 others"
           }
          ],
          "nan_count": 0,
          "unique_count": 5
         }
        },
        {
         "dtype": "object",
         "name": "Employee_Country",
         "stats": {
          "categories": [
           {
            "count": 1,
            "name": "Poland"
           },
           {
            "count": 1,
            "name": "Georgia"
           },
           {
            "count": 3,
            "name": "3 others"
           }
          ],
          "nan_count": 0,
          "unique_count": 5
         }
        },
        {
         "dtype": "int64",
         "name": "Employee_Salary",
         "stats": {
          "histogram": [
           {
            "bin_end": 681655,
            "bin_start": 656260,
            "count": 1
           },
           {
            "bin_end": 707050,
            "bin_start": 681655,
            "count": 1
           },
           {
            "bin_end": 732445,
            "bin_start": 707050,
            "count": 0
           },
           {
            "bin_end": 757840,
            "bin_start": 732445,
            "count": 0
           },
           {
            "bin_end": 783235,
            "bin_start": 757840,
            "count": 0
           },
           {
            "bin_end": 808630,
            "bin_start": 783235,
            "count": 0
           },
           {
            "bin_end": 834025,
            "bin_start": 808630,
            "count": 0
           },
           {
            "bin_end": 859420,
            "bin_start": 834025,
            "count": 0
           },
           {
            "bin_end": 884815,
            "bin_start": 859420,
            "count": 1
           },
           {
            "bin_end": 910210,
            "bin_start": 884815,
            "count": 2
           }
          ],
          "max": "910210",
          "min": "656260",
          "nan_count": 0,
          "unique_count": 5
         }
        },
        {
         "dtype": "object",
         "name": "Employment_Status",
         "stats": {
          "categories": [
           {
            "count": 5,
            "name": "Full Time"
           }
          ],
          "nan_count": 0,
          "unique_count": 1
         }
        },
        {
         "dtype": "float64",
         "name": "Employee_Rating",
         "stats": {
          "histogram": [
           {
            "bin_end": 4.720000000000001,
            "bin_start": 4.7,
            "count": 1
           },
           {
            "bin_end": 4.74,
            "bin_start": 4.720000000000001,
            "count": 0
           },
           {
            "bin_end": 4.76,
            "bin_start": 4.74,
            "count": 0
           },
           {
            "bin_end": 4.78,
            "bin_start": 4.76,
            "count": 0
           },
           {
            "bin_end": 4.800000000000001,
            "bin_start": 4.78,
            "count": 2
           },
           {
            "bin_end": 4.82,
            "bin_start": 4.800000000000001,
            "count": 0
           },
           {
            "bin_end": 4.84,
            "bin_start": 4.82,
            "count": 0
           },
           {
            "bin_end": 4.86,
            "bin_start": 4.84,
            "count": 0
           },
           {
            "bin_end": 4.880000000000001,
            "bin_start": 4.86,
            "count": 0
           },
           {
            "bin_end": 4.9,
            "bin_start": 4.880000000000001,
            "count": 2
           }
          ],
          "max": "4.9",
          "min": "4.7",
          "nan_count": 0,
          "unique_count": 3
         }
        },
        {
         "dtype": "int64",
         "name": "_deepnote_index_column"
        }
       ],
       "row_count": 5,
       "rows": [
        {
         "Company_Name": "White, Mcclain and Cobb",
         "Employee_City": "Whiteside",
         "Employee_Country": "Poland",
         "Employee_Job_Title": "Naval architect",
         "Employee_Rating": 4.9,
         "Employee_Salary": 656260,
         "Employment_Status": "Full Time",
         "Name": "Victoria Sutton",
         "_deepnote_index_column": 0
        },
        {
         "Company_Name": "Nichols-James",
         "Employee_City": "New Russellton",
         "Employee_Country": "Georgia",
         "Employee_Job_Title": "Investment banker, corporate",
         "Employee_Rating": 4.9,
         "Employee_Salary": 910210,
         "Employment_Status": "Full Time",
         "Name": "David Duran",
         "_deepnote_index_column": 1
        },
        {
         "Company_Name": "Thomas-Spencer",
         "Employee_City": "Kristaburgh",
         "Employee_Country": "El Salvador",
         "Employee_Job_Title": "Garment/textile technologist",
         "Employee_Rating": 4.7,
         "Employee_Salary": 873320,
         "Employment_Status": "Full Time",
         "Name": "Gerald Santiago",
         "_deepnote_index_column": 2
        },
        {
         "Company_Name": "Scott Inc",
         "Employee_City": "Aliciafort",
         "Employee_Country": "San Marino",
         "Employee_Job_Title": "Trading standards officer",
         "Employee_Rating": 4.8,
         "Employee_Salary": 902300,
         "Employment_Status": "Full Time",
         "Name": "Jonathan Armstrong",
         "_deepnote_index_column": 3
        },
        {
         "Company_Name": "Thomas-Spencer",
         "Employee_City": "New Cindychester",
         "Employee_Country": "Venezuela",
         "Employee_Job_Title": "Optometrist",
         "Employee_Rating": 4.8,
         "Employee_Salary": 687310,
         "Employment_Status": "Full Time",
         "Name": "Lori Smith",
         "_deepnote_index_column": 4
        }
       ],
       "type": "dataframe"
      },
      "text/html": [
       "<div>\n",
       "<style scoped>\n",
       "    .dataframe tbody tr th:only-of-type {\n",
       "        vertical-align: middle;\n",
       "    }\n",
       "\n",
       "    .dataframe tbody tr th {\n",
       "        vertical-align: top;\n",
       "    }\n",
       "\n",
       "    .dataframe thead th {\n",
       "        text-align: right;\n",
       "    }\n",
       "</style>\n",
       "<table border=\"1\" class=\"dataframe\">\n",
       "  <thead>\n",
       "    <tr style=\"text-align: right;\">\n",
       "      <th></th>\n",
       "      <th>Name</th>\n",
       "      <th>Company_Name</th>\n",
       "      <th>Employee_Job_Title</th>\n",
       "      <th>Employee_City</th>\n",
       "      <th>Employee_Country</th>\n",
       "      <th>Employee_Salary</th>\n",
       "      <th>Employment_Status</th>\n",
       "      <th>Employee_Rating</th>\n",
       "    </tr>\n",
       "  </thead>\n",
       "  <tbody>\n",
       "    <tr>\n",
       "      <th>0</th>\n",
       "      <td>Victoria Sutton</td>\n",
       "      <td>White, Mcclain and Cobb</td>\n",
       "      <td>Naval architect</td>\n",
       "      <td>Whiteside</td>\n",
       "      <td>Poland</td>\n",
       "      <td>656260</td>\n",
       "      <td>Full Time</td>\n",
       "      <td>4.9</td>\n",
       "    </tr>\n",
       "    <tr>\n",
       "      <th>1</th>\n",
       "      <td>David Duran</td>\n",
       "      <td>Nichols-James</td>\n",
       "      <td>Investment banker, corporate</td>\n",
       "      <td>New Russellton</td>\n",
       "      <td>Georgia</td>\n",
       "      <td>910210</td>\n",
       "      <td>Full Time</td>\n",
       "      <td>4.9</td>\n",
       "    </tr>\n",
       "    <tr>\n",
       "      <th>2</th>\n",
       "      <td>Gerald Santiago</td>\n",
       "      <td>Thomas-Spencer</td>\n",
       "      <td>Garment/textile technologist</td>\n",
       "      <td>Kristaburgh</td>\n",
       "      <td>El Salvador</td>\n",
       "      <td>873320</td>\n",
       "      <td>Full Time</td>\n",
       "      <td>4.7</td>\n",
       "    </tr>\n",
       "    <tr>\n",
       "      <th>3</th>\n",
       "      <td>Jonathan Armstrong</td>\n",
       "      <td>Scott Inc</td>\n",
       "      <td>Trading standards officer</td>\n",
       "      <td>Aliciafort</td>\n",
       "      <td>San Marino</td>\n",
       "      <td>902300</td>\n",
       "      <td>Full Time</td>\n",
       "      <td>4.8</td>\n",
       "    </tr>\n",
       "    <tr>\n",
       "      <th>4</th>\n",
       "      <td>Lori Smith</td>\n",
       "      <td>Thomas-Spencer</td>\n",
       "      <td>Optometrist</td>\n",
       "      <td>New Cindychester</td>\n",
       "      <td>Venezuela</td>\n",
       "      <td>687310</td>\n",
       "      <td>Full Time</td>\n",
       "      <td>4.8</td>\n",
       "    </tr>\n",
       "  </tbody>\n",
       "</table>\n",
       "</div>"
      ],
      "text/plain": [
       "                 Name             Company_Name            Employee_Job_Title  \\\n",
       "0     Victoria Sutton  White, Mcclain and Cobb               Naval architect   \n",
       "1         David Duran            Nichols-James  Investment banker, corporate   \n",
       "2     Gerald Santiago           Thomas-Spencer  Garment/textile technologist   \n",
       "3  Jonathan Armstrong                Scott Inc     Trading standards officer   \n",
       "4          Lori Smith           Thomas-Spencer                   Optometrist   \n",
       "\n",
       "      Employee_City Employee_Country  Employee_Salary Employment_Status  \\\n",
       "0         Whiteside           Poland           656260         Full Time   \n",
       "1    New Russellton          Georgia           910210         Full Time   \n",
       "2       Kristaburgh      El Salvador           873320         Full Time   \n",
       "3        Aliciafort       San Marino           902300         Full Time   \n",
       "4  New Cindychester        Venezuela           687310         Full Time   \n",
       "\n",
       "   Employee_Rating  \n",
       "0              4.9  \n",
       "1              4.9  \n",
       "2              4.7  \n",
       "3              4.8  \n",
       "4              4.8  "
      ]
     },
     "execution_count": 10,
     "metadata": {},
     "output_type": "execute_result"
    }
   ],
   "source": [
    "_dntk.execute_sql(\n",
    "  'select * from data where Employee_Salary>600000 and Employee_Rating>4.5 LIMIT 5;',\n",
    "  'SQL_DEEPNOTE_DATAFRAME_SQL',\n",
    "  audit_sql_comment='',\n",
    "  sql_cache_mode='cache_disabled',\n",
    "  return_variable_type='dataframe'\n",
    ")"
   ]
  },
  {
   "cell_type": "markdown",
   "metadata": {
    "cell_id": "a8498117450d4d0fa08d73e1edea987b",
    "deepnote_cell_type": "text-cell-h3",
    "formattedRanges": [],
    "is_collapsed": false,
    "tags": []
   },
   "source": [
    "### 8. Print all the distinct companies in the dataset "
   ]
  },
  {
   "cell_type": "code",
   "execution_count": 11,
   "metadata": {
    "cell_id": "f191858d4c834ca9844a8350d83dd710",
    "deepnote_cell_type": "sql",
    "deepnote_sql_source": "select DISTINCT(Company_Name) from data;",
    "deepnote_table_loading": false,
    "deepnote_table_state": {
     "cellFormattingRules": [],
     "columnDisplayNames": [],
     "columnOrder": [
      "Company_Name"
     ],
     "conditionalFilters": [],
     "filters": [],
     "hiddenColumnIds": [],
     "pageIndex": 0,
     "pageSize": 10,
     "sortBy": [],
     "wrappedTextColumnIds": []
    },
    "deepnote_to_be_reexecuted": false,
    "execution_context_id": "8daddd6c-84aa-49fd-9c82-a2fcacf0e77e",
    "execution_millis": 35,
    "execution_start": 1742883922142,
    "source_hash": "9f5b0911",
    "sql_integration_id": "deepnote-dataframe-sql",
    "tags": []
   },
   "outputs": [
    {
     "data": {
      "application/vnd.deepnote.dataframe.v3+json": {
       "column_count": 1,
       "columns": [
        {
         "dtype": "object",
         "name": "Company_Name",
         "stats": {
          "categories": [
           {
            "count": 1,
            "name": "Bullock-Carrillo"
           },
           {
            "count": 1,
            "name": "Campos, Reynolds and Mccormick"
           },
           {
            "count": 13,
            "name": "13 others"
           }
          ],
          "nan_count": 0,
          "unique_count": 15
         }
        },
        {
         "dtype": "int64",
         "name": "_deepnote_index_column"
        }
       ],
       "row_count": 15,
       "rows": [
        {
         "Company_Name": "Bullock-Carrillo",
         "_deepnote_index_column": 0
        },
        {
         "Company_Name": "Campos, Reynolds and Mccormick",
         "_deepnote_index_column": 1
        },
        {
         "Company_Name": "Baker, Allen and Edwards",
         "_deepnote_index_column": 2
        },
        {
         "Company_Name": "Matthews Inc",
         "_deepnote_index_column": 3
        },
        {
         "Company_Name": "Marshall-Holloway",
         "_deepnote_index_column": 4
        },
        {
         "Company_Name": "James and Sons",
         "_deepnote_index_column": 5
        },
        {
         "Company_Name": "Andrade LLC",
         "_deepnote_index_column": 6
        },
        {
         "Company_Name": "Wallace, Smith and Shepard",
         "_deepnote_index_column": 7
        },
        {
         "Company_Name": "Nelson-Li",
         "_deepnote_index_column": 8
        },
        {
         "Company_Name": "Johnston, Fleming and Tanner",
         "_deepnote_index_column": 9
        }
       ],
       "type": "dataframe"
      },
      "text/html": [
       "<div>\n",
       "<style scoped>\n",
       "    .dataframe tbody tr th:only-of-type {\n",
       "        vertical-align: middle;\n",
       "    }\n",
       "\n",
       "    .dataframe tbody tr th {\n",
       "        vertical-align: top;\n",
       "    }\n",
       "\n",
       "    .dataframe thead th {\n",
       "        text-align: right;\n",
       "    }\n",
       "</style>\n",
       "<table border=\"1\" class=\"dataframe\">\n",
       "  <thead>\n",
       "    <tr style=\"text-align: right;\">\n",
       "      <th></th>\n",
       "      <th>Company_Name</th>\n",
       "    </tr>\n",
       "  </thead>\n",
       "  <tbody>\n",
       "    <tr>\n",
       "      <th>0</th>\n",
       "      <td>Bullock-Carrillo</td>\n",
       "    </tr>\n",
       "    <tr>\n",
       "      <th>1</th>\n",
       "      <td>Campos, Reynolds and Mccormick</td>\n",
       "    </tr>\n",
       "    <tr>\n",
       "      <th>2</th>\n",
       "      <td>Baker, Allen and Edwards</td>\n",
       "    </tr>\n",
       "    <tr>\n",
       "      <th>3</th>\n",
       "      <td>Matthews Inc</td>\n",
       "    </tr>\n",
       "    <tr>\n",
       "      <th>4</th>\n",
       "      <td>Marshall-Holloway</td>\n",
       "    </tr>\n",
       "    <tr>\n",
       "      <th>5</th>\n",
       "      <td>James and Sons</td>\n",
       "    </tr>\n",
       "    <tr>\n",
       "      <th>6</th>\n",
       "      <td>Andrade LLC</td>\n",
       "    </tr>\n",
       "    <tr>\n",
       "      <th>7</th>\n",
       "      <td>Wallace, Smith and Shepard</td>\n",
       "    </tr>\n",
       "    <tr>\n",
       "      <th>8</th>\n",
       "      <td>Nelson-Li</td>\n",
       "    </tr>\n",
       "    <tr>\n",
       "      <th>9</th>\n",
       "      <td>Johnston, Fleming and Tanner</td>\n",
       "    </tr>\n",
       "    <tr>\n",
       "      <th>10</th>\n",
       "      <td>Thomas-Spencer</td>\n",
       "    </tr>\n",
       "    <tr>\n",
       "      <th>11</th>\n",
       "      <td>Nichols-James</td>\n",
       "    </tr>\n",
       "    <tr>\n",
       "      <th>12</th>\n",
       "      <td>Taylor-Ramos</td>\n",
       "    </tr>\n",
       "    <tr>\n",
       "      <th>13</th>\n",
       "      <td>White, Mcclain and Cobb</td>\n",
       "    </tr>\n",
       "    <tr>\n",
       "      <th>14</th>\n",
       "      <td>Scott Inc</td>\n",
       "    </tr>\n",
       "  </tbody>\n",
       "</table>\n",
       "</div>"
      ],
      "text/plain": [
       "                      Company_Name\n",
       "0                 Bullock-Carrillo\n",
       "1   Campos, Reynolds and Mccormick\n",
       "2         Baker, Allen and Edwards\n",
       "3                     Matthews Inc\n",
       "4                Marshall-Holloway\n",
       "5                   James and Sons\n",
       "6                      Andrade LLC\n",
       "7       Wallace, Smith and Shepard\n",
       "8                        Nelson-Li\n",
       "9     Johnston, Fleming and Tanner\n",
       "10                  Thomas-Spencer\n",
       "11                   Nichols-James\n",
       "12                    Taylor-Ramos\n",
       "13         White, Mcclain and Cobb\n",
       "14                       Scott Inc"
      ]
     },
     "execution_count": 11,
     "metadata": {},
     "output_type": "execute_result"
    }
   ],
   "source": [
    "_dntk.execute_sql(\n",
    "  'select DISTINCT(Company_Name) from data;',\n",
    "  'SQL_DEEPNOTE_DATAFRAME_SQL',\n",
    "  audit_sql_comment='',\n",
    "  sql_cache_mode='cache_disabled',\n",
    "  return_variable_type='dataframe'\n",
    ")"
   ]
  },
  {
   "cell_type": "markdown",
   "metadata": {
    "cell_id": "427e55d168894cd5893242ae798bd3a0",
    "deepnote_cell_type": "text-cell-h3",
    "formattedRanges": [],
    "is_collapsed": false,
    "tags": []
   },
   "source": [
    "### 9. Print the number of distinct companies in the dataset "
   ]
  },
  {
   "cell_type": "code",
   "execution_count": 12,
   "metadata": {
    "cell_id": "28401651a2b3496db01a579df2e7d788",
    "deepnote_cell_type": "sql",
    "deepnote_sql_source": "select COUNT(DISTINCT(Company_Name)) from data;",
    "deepnote_to_be_reexecuted": false,
    "execution_context_id": "8daddd6c-84aa-49fd-9c82-a2fcacf0e77e",
    "execution_millis": 20,
    "execution_start": 1742883922222,
    "source_hash": "dcf1897e",
    "sql_integration_id": "deepnote-dataframe-sql",
    "tags": []
   },
   "outputs": [
    {
     "data": {
      "application/vnd.deepnote.dataframe.v3+json": {
       "column_count": 1,
       "columns": [
        {
         "dtype": "int64",
         "name": "count(DISTINCT Company_Name)",
         "stats": {
          "histogram": [
           {
            "bin_end": 14.6,
            "bin_start": 14.5,
            "count": 0
           },
           {
            "bin_end": 14.7,
            "bin_start": 14.6,
            "count": 0
           },
           {
            "bin_end": 14.8,
            "bin_start": 14.7,
            "count": 0
           },
           {
            "bin_end": 14.9,
            "bin_start": 14.8,
            "count": 0
           },
           {
            "bin_end": 15,
            "bin_start": 14.9,
            "count": 0
           },
           {
            "bin_end": 15.1,
            "bin_start": 15,
            "count": 1
           },
           {
            "bin_end": 15.2,
            "bin_start": 15.1,
            "count": 0
           },
           {
            "bin_end": 15.3,
            "bin_start": 15.2,
            "count": 0
           },
           {
            "bin_end": 15.4,
            "bin_start": 15.3,
            "count": 0
           },
           {
            "bin_end": 15.5,
            "bin_start": 15.4,
            "count": 0
           }
          ],
          "max": "15",
          "min": "15",
          "nan_count": 0,
          "unique_count": 1
         }
        },
        {
         "dtype": "int64",
         "name": "_deepnote_index_column"
        }
       ],
       "row_count": 1,
       "rows": [
        {
         "_deepnote_index_column": 0,
         "count(DISTINCT Company_Name)": 15
        }
       ],
       "type": "dataframe"
      },
      "text/html": [
       "<div>\n",
       "<style scoped>\n",
       "    .dataframe tbody tr th:only-of-type {\n",
       "        vertical-align: middle;\n",
       "    }\n",
       "\n",
       "    .dataframe tbody tr th {\n",
       "        vertical-align: top;\n",
       "    }\n",
       "\n",
       "    .dataframe thead th {\n",
       "        text-align: right;\n",
       "    }\n",
       "</style>\n",
       "<table border=\"1\" class=\"dataframe\">\n",
       "  <thead>\n",
       "    <tr style=\"text-align: right;\">\n",
       "      <th></th>\n",
       "      <th>count(DISTINCT Company_Name)</th>\n",
       "    </tr>\n",
       "  </thead>\n",
       "  <tbody>\n",
       "    <tr>\n",
       "      <th>0</th>\n",
       "      <td>15</td>\n",
       "    </tr>\n",
       "  </tbody>\n",
       "</table>\n",
       "</div>"
      ],
      "text/plain": [
       "   count(DISTINCT Company_Name)\n",
       "0                            15"
      ]
     },
     "execution_count": 12,
     "metadata": {},
     "output_type": "execute_result"
    }
   ],
   "source": [
    "_dntk.execute_sql(\n",
    "  'select COUNT(DISTINCT(Company_Name)) from data;',\n",
    "  'SQL_DEEPNOTE_DATAFRAME_SQL',\n",
    "  audit_sql_comment='',\n",
    "  sql_cache_mode='cache_disabled',\n",
    "  return_variable_type='dataframe'\n",
    ")"
   ]
  },
  {
   "cell_type": "markdown",
   "metadata": {
    "cell_id": "1bf9dbcf5ff947149cf1fcdd11ec267a",
    "deepnote_cell_type": "text-cell-h3",
    "formattedRanges": [],
    "is_collapsed": false,
    "tags": []
   },
   "source": [
    "### 10. Print all the distinct companies, city pairs in the dataset "
   ]
  },
  {
   "cell_type": "code",
   "execution_count": 13,
   "metadata": {
    "cell_id": "2bf750fcdc954625bb265c0165d00cbd",
    "deepnote_cell_type": "sql",
    "deepnote_sql_source": "SELECT DISTINCT Company_Name,Employee_City from data;",
    "deepnote_table_loading": false,
    "deepnote_table_state": {
     "cellFormattingRules": [],
     "columnDisplayNames": [],
     "columnOrder": [
      "Company_Name",
      "Employee_City"
     ],
     "conditionalFilters": [],
     "filters": [],
     "hiddenColumnIds": [],
     "pageIndex": 12,
     "pageSize": 10,
     "sortBy": [],
     "wrappedTextColumnIds": []
    },
    "deepnote_to_be_reexecuted": false,
    "execution_context_id": "8daddd6c-84aa-49fd-9c82-a2fcacf0e77e",
    "execution_millis": 35,
    "execution_start": 1742883922293,
    "source_hash": "9849670d",
    "sql_integration_id": "deepnote-dataframe-sql",
    "tags": []
   },
   "outputs": [
    {
     "data": {
      "application/vnd.deepnote.dataframe.v3+json": {
       "column_count": 2,
       "columns": [
        {
         "dtype": "object",
         "name": "Company_Name",
         "stats": {
          "categories": [
           {
            "count": 10,
            "name": "James and Sons"
           },
           {
            "count": 10,
            "name": "Nichols-James"
           },
           {
            "count": 130,
            "name": "13 others"
           }
          ],
          "nan_count": 0,
          "unique_count": 15
         }
        },
        {
         "dtype": "object",
         "name": "Employee_City",
         "stats": {
          "categories": [
           {
            "count": 15,
            "name": "New Russellton"
           },
           {
            "count": 15,
            "name": "North Melissafurt"
           },
           {
            "count": 120,
            "name": "8 others"
           }
          ],
          "nan_count": 0,
          "unique_count": 10
         }
        },
        {
         "dtype": "int64",
         "name": "_deepnote_index_column"
        }
       ],
       "row_count": 150,
       "rows": [
        {
         "Company_Name": "Thomas-Spencer",
         "Employee_City": "West Jamesview",
         "_deepnote_index_column": 120
        },
        {
         "Company_Name": "Andrade LLC",
         "Employee_City": "Whitakerbury",
         "_deepnote_index_column": 121
        },
        {
         "Company_Name": "White, Mcclain and Cobb",
         "Employee_City": "Aliciafort",
         "_deepnote_index_column": 122
        },
        {
         "Company_Name": "Campos, Reynolds and Mccormick",
         "Employee_City": "Kristaburgh",
         "_deepnote_index_column": 123
        },
        {
         "Company_Name": "Baker, Allen and Edwards",
         "Employee_City": "Kristaburgh",
         "_deepnote_index_column": 124
        },
        {
         "Company_Name": "Johnston, Fleming and Tanner",
         "Employee_City": "North Melissafurt",
         "_deepnote_index_column": 125
        },
        {
         "Company_Name": "Marshall-Holloway",
         "Employee_City": "North Melissafurt",
         "_deepnote_index_column": 126
        },
        {
         "Company_Name": "Matthews Inc",
         "Employee_City": "Ricardomouth",
         "_deepnote_index_column": 127
        },
        {
         "Company_Name": "Scott Inc",
         "Employee_City": "Kristaburgh",
         "_deepnote_index_column": 128
        },
        {
         "Company_Name": "Nelson-Li",
         "Employee_City": "New Russellton",
         "_deepnote_index_column": 129
        }
       ],
       "type": "dataframe"
      },
      "text/html": [
       "<div>\n",
       "<style scoped>\n",
       "    .dataframe tbody tr th:only-of-type {\n",
       "        vertical-align: middle;\n",
       "    }\n",
       "\n",
       "    .dataframe tbody tr th {\n",
       "        vertical-align: top;\n",
       "    }\n",
       "\n",
       "    .dataframe thead th {\n",
       "        text-align: right;\n",
       "    }\n",
       "</style>\n",
       "<table border=\"1\" class=\"dataframe\">\n",
       "  <thead>\n",
       "    <tr style=\"text-align: right;\">\n",
       "      <th></th>\n",
       "      <th>Company_Name</th>\n",
       "      <th>Employee_City</th>\n",
       "    </tr>\n",
       "  </thead>\n",
       "  <tbody>\n",
       "    <tr>\n",
       "      <th>0</th>\n",
       "      <td>James and Sons</td>\n",
       "      <td>New Russellton</td>\n",
       "    </tr>\n",
       "    <tr>\n",
       "      <th>1</th>\n",
       "      <td>Nichols-James</td>\n",
       "      <td>North Melissafurt</td>\n",
       "    </tr>\n",
       "    <tr>\n",
       "      <th>2</th>\n",
       "      <td>Johnston, Fleming and Tanner</td>\n",
       "      <td>West Jamesview</td>\n",
       "    </tr>\n",
       "    <tr>\n",
       "      <th>3</th>\n",
       "      <td>Andrade LLC</td>\n",
       "      <td>Ricardomouth</td>\n",
       "    </tr>\n",
       "    <tr>\n",
       "      <th>4</th>\n",
       "      <td>Matthews Inc</td>\n",
       "      <td>Kristaburgh</td>\n",
       "    </tr>\n",
       "    <tr>\n",
       "      <th>...</th>\n",
       "      <td>...</td>\n",
       "      <td>...</td>\n",
       "    </tr>\n",
       "    <tr>\n",
       "      <th>145</th>\n",
       "      <td>Nelson-Li</td>\n",
       "      <td>Ricardomouth</td>\n",
       "    </tr>\n",
       "    <tr>\n",
       "      <th>146</th>\n",
       "      <td>Nelson-Li</td>\n",
       "      <td>North Melissafurt</td>\n",
       "    </tr>\n",
       "    <tr>\n",
       "      <th>147</th>\n",
       "      <td>Nichols-James</td>\n",
       "      <td>Whiteside</td>\n",
       "    </tr>\n",
       "    <tr>\n",
       "      <th>148</th>\n",
       "      <td>Johnston, Fleming and Tanner</td>\n",
       "      <td>New Russellton</td>\n",
       "    </tr>\n",
       "    <tr>\n",
       "      <th>149</th>\n",
       "      <td>James and Sons</td>\n",
       "      <td>Whitakerbury</td>\n",
       "    </tr>\n",
       "  </tbody>\n",
       "</table>\n",
       "<p>150 rows × 2 columns</p>\n",
       "</div>"
      ],
      "text/plain": [
       "                     Company_Name      Employee_City\n",
       "0                  James and Sons     New Russellton\n",
       "1                   Nichols-James  North Melissafurt\n",
       "2    Johnston, Fleming and Tanner     West Jamesview\n",
       "3                     Andrade LLC       Ricardomouth\n",
       "4                    Matthews Inc        Kristaburgh\n",
       "..                            ...                ...\n",
       "145                     Nelson-Li       Ricardomouth\n",
       "146                     Nelson-Li  North Melissafurt\n",
       "147                 Nichols-James          Whiteside\n",
       "148  Johnston, Fleming and Tanner     New Russellton\n",
       "149                James and Sons       Whitakerbury\n",
       "\n",
       "[150 rows x 2 columns]"
      ]
     },
     "execution_count": 13,
     "metadata": {},
     "output_type": "execute_result"
    }
   ],
   "source": [
    "_dntk.execute_sql(\n",
    "  'SELECT DISTINCT Company_Name,Employee_City from data;',\n",
    "  'SQL_DEEPNOTE_DATAFRAME_SQL',\n",
    "  audit_sql_comment='',\n",
    "  sql_cache_mode='cache_disabled',\n",
    "  return_variable_type='dataframe'\n",
    ")"
   ]
  },
  {
   "cell_type": "markdown",
   "metadata": {
    "cell_id": "76178c4b82ff42cca57b542163d83c7e",
    "deepnote_cell_type": "text-cell-h3",
    "formattedRanges": [],
    "is_collapsed": false,
    "tags": []
   },
   "source": [
    "### 11. Print the number of distinct companies, city pairs in the dataset "
   ]
  },
  {
   "cell_type": "code",
   "execution_count": 14,
   "metadata": {
    "cell_id": "4befbff408ed4595b449c0d5859811e1",
    "deepnote_cell_type": "sql",
    "deepnote_sql_source": "SELECT COUNT(*) AS distinct_pairs\nFROM (SELECT DISTINCT Company_Name, Employee_City FROM data)",
    "deepnote_to_be_reexecuted": false,
    "execution_context_id": "8daddd6c-84aa-49fd-9c82-a2fcacf0e77e",
    "execution_millis": 108,
    "execution_start": 1742883922373,
    "source_hash": "d4342750",
    "sql_integration_id": "deepnote-dataframe-sql",
    "tags": []
   },
   "outputs": [
    {
     "data": {
      "application/vnd.deepnote.dataframe.v3+json": {
       "column_count": 1,
       "columns": [
        {
         "dtype": "int64",
         "name": "distinct_pairs",
         "stats": {
          "histogram": [
           {
            "bin_end": 149.6,
            "bin_start": 149.5,
            "count": 0
           },
           {
            "bin_end": 149.7,
            "bin_start": 149.6,
            "count": 0
           },
           {
            "bin_end": 149.8,
            "bin_start": 149.7,
            "count": 0
           },
           {
            "bin_end": 149.9,
            "bin_start": 149.8,
            "count": 0
           },
           {
            "bin_end": 150,
            "bin_start": 149.9,
            "count": 0
           },
           {
            "bin_end": 150.1,
            "bin_start": 150,
            "count": 1
           },
           {
            "bin_end": 150.2,
            "bin_start": 150.1,
            "count": 0
           },
           {
            "bin_end": 150.3,
            "bin_start": 150.2,
            "count": 0
           },
           {
            "bin_end": 150.4,
            "bin_start": 150.3,
            "count": 0
           },
           {
            "bin_end": 150.5,
            "bin_start": 150.4,
            "count": 0
           }
          ],
          "max": "150",
          "min": "150",
          "nan_count": 0,
          "unique_count": 1
         }
        },
        {
         "dtype": "int64",
         "name": "_deepnote_index_column"
        }
       ],
       "row_count": 1,
       "rows": [
        {
         "_deepnote_index_column": 0,
         "distinct_pairs": 150
        }
       ],
       "type": "dataframe"
      },
      "text/html": [
       "<div>\n",
       "<style scoped>\n",
       "    .dataframe tbody tr th:only-of-type {\n",
       "        vertical-align: middle;\n",
       "    }\n",
       "\n",
       "    .dataframe tbody tr th {\n",
       "        vertical-align: top;\n",
       "    }\n",
       "\n",
       "    .dataframe thead th {\n",
       "        text-align: right;\n",
       "    }\n",
       "</style>\n",
       "<table border=\"1\" class=\"dataframe\">\n",
       "  <thead>\n",
       "    <tr style=\"text-align: right;\">\n",
       "      <th></th>\n",
       "      <th>distinct_pairs</th>\n",
       "    </tr>\n",
       "  </thead>\n",
       "  <tbody>\n",
       "    <tr>\n",
       "      <th>0</th>\n",
       "      <td>150</td>\n",
       "    </tr>\n",
       "  </tbody>\n",
       "</table>\n",
       "</div>"
      ],
      "text/plain": [
       "   distinct_pairs\n",
       "0             150"
      ]
     },
     "execution_count": 14,
     "metadata": {},
     "output_type": "execute_result"
    }
   ],
   "source": [
    "_dntk.execute_sql(\n",
    "  'SELECT COUNT(*) AS distinct_pairs\\nFROM (SELECT DISTINCT Company_Name, Employee_City FROM data)',\n",
    "  'SQL_DEEPNOTE_DATAFRAME_SQL',\n",
    "  audit_sql_comment='',\n",
    "  sql_cache_mode='cache_disabled',\n",
    "  return_variable_type='dataframe'\n",
    ")"
   ]
  },
  {
   "cell_type": "markdown",
   "metadata": {
    "cell_id": "a6d6fbbb69c24d46b67dde1ee92b512c",
    "deepnote_cell_type": "text-cell-h3",
    "formattedRanges": [],
    "is_collapsed": false,
    "tags": []
   },
   "source": [
    "### 12. Print the number of Full time employees in the dataset. "
   ]
  },
  {
   "cell_type": "code",
   "execution_count": 15,
   "metadata": {
    "cell_id": "ae417fed04744171ab4810ddf33578f6",
    "deepnote_cell_type": "sql",
    "deepnote_sql_source": "select count(*) from data where Employment_Status = 'Full Time';",
    "deepnote_to_be_reexecuted": false,
    "execution_context_id": "8daddd6c-84aa-49fd-9c82-a2fcacf0e77e",
    "execution_millis": 25,
    "execution_start": 1742883922533,
    "source_hash": "6f0edec",
    "sql_integration_id": "deepnote-dataframe-sql",
    "tags": []
   },
   "outputs": [
    {
     "data": {
      "application/vnd.deepnote.dataframe.v3+json": {
       "column_count": 1,
       "columns": [
        {
         "dtype": "int64",
         "name": "count_star()",
         "stats": {
          "histogram": [
           {
            "bin_end": 240009.6,
            "bin_start": 240009.5,
            "count": 0
           },
           {
            "bin_end": 240009.7,
            "bin_start": 240009.6,
            "count": 0
           },
           {
            "bin_end": 240009.8,
            "bin_start": 240009.7,
            "count": 0
           },
           {
            "bin_end": 240009.9,
            "bin_start": 240009.8,
            "count": 0
           },
           {
            "bin_end": 240010,
            "bin_start": 240009.9,
            "count": 0
           },
           {
            "bin_end": 240010.1,
            "bin_start": 240010,
            "count": 1
           },
           {
            "bin_end": 240010.2,
            "bin_start": 240010.1,
            "count": 0
           },
           {
            "bin_end": 240010.3,
            "bin_start": 240010.2,
            "count": 0
           },
           {
            "bin_end": 240010.4,
            "bin_start": 240010.3,
            "count": 0
           },
           {
            "bin_end": 240010.5,
            "bin_start": 240010.4,
            "count": 0
           }
          ],
          "max": "240010",
          "min": "240010",
          "nan_count": 0,
          "unique_count": 1
         }
        },
        {
         "dtype": "int64",
         "name": "_deepnote_index_column"
        }
       ],
       "row_count": 1,
       "rows": [
        {
         "_deepnote_index_column": 0,
         "count_star()": 240010
        }
       ],
       "type": "dataframe"
      },
      "text/html": [
       "<div>\n",
       "<style scoped>\n",
       "    .dataframe tbody tr th:only-of-type {\n",
       "        vertical-align: middle;\n",
       "    }\n",
       "\n",
       "    .dataframe tbody tr th {\n",
       "        vertical-align: top;\n",
       "    }\n",
       "\n",
       "    .dataframe thead th {\n",
       "        text-align: right;\n",
       "    }\n",
       "</style>\n",
       "<table border=\"1\" class=\"dataframe\">\n",
       "  <thead>\n",
       "    <tr style=\"text-align: right;\">\n",
       "      <th></th>\n",
       "      <th>count_star()</th>\n",
       "    </tr>\n",
       "  </thead>\n",
       "  <tbody>\n",
       "    <tr>\n",
       "      <th>0</th>\n",
       "      <td>240010</td>\n",
       "    </tr>\n",
       "  </tbody>\n",
       "</table>\n",
       "</div>"
      ],
      "text/plain": [
       "   count_star()\n",
       "0        240010"
      ]
     },
     "execution_count": 15,
     "metadata": {},
     "output_type": "execute_result"
    }
   ],
   "source": [
    "_dntk.execute_sql(\n",
    "  'select count(*) from data where Employment_Status = \\'Full Time\\';',\n",
    "  'SQL_DEEPNOTE_DATAFRAME_SQL',\n",
    "  audit_sql_comment='',\n",
    "  sql_cache_mode='cache_disabled',\n",
    "  return_variable_type='dataframe'\n",
    ")"
   ]
  },
  {
   "cell_type": "markdown",
   "metadata": {
    "cell_id": "35883d5433ed46788307d3f30edfe972",
    "deepnote_cell_type": "text-cell-h3",
    "formattedRanges": [],
    "is_collapsed": false,
    "tags": []
   },
   "source": [
    "### 13. Print the number of employees with job title either 'Production engineer' or 'New Russellton'. "
   ]
  },
  {
   "cell_type": "code",
   "execution_count": 16,
   "metadata": {
    "cell_id": "e2c8b167e076431690fd74f7ec2b0d68",
    "deepnote_cell_type": "sql",
    "deepnote_sql_source": "select count(*) from data where Employee_Job_Title = 'Production engineer' or Employee_City = 'New Russellton';",
    "deepnote_to_be_reexecuted": false,
    "execution_context_id": "8daddd6c-84aa-49fd-9c82-a2fcacf0e77e",
    "execution_millis": 7,
    "execution_start": 1742883922613,
    "source_hash": "995ff339",
    "sql_integration_id": "deepnote-dataframe-sql",
    "tags": []
   },
   "outputs": [
    {
     "data": {
      "application/vnd.deepnote.dataframe.v3+json": {
       "column_count": 1,
       "columns": [
        {
         "dtype": "int64",
         "name": "count_star()",
         "stats": {
          "histogram": [
           {
            "bin_end": 43495.6,
            "bin_start": 43495.5,
            "count": 0
           },
           {
            "bin_end": 43495.7,
            "bin_start": 43495.6,
            "count": 0
           },
           {
            "bin_end": 43495.8,
            "bin_start": 43495.7,
            "count": 0
           },
           {
            "bin_end": 43495.9,
            "bin_start": 43495.8,
            "count": 0
           },
           {
            "bin_end": 43496,
            "bin_start": 43495.9,
            "count": 0
           },
           {
            "bin_end": 43496.1,
            "bin_start": 43496,
            "count": 1
           },
           {
            "bin_end": 43496.2,
            "bin_start": 43496.1,
            "count": 0
           },
           {
            "bin_end": 43496.3,
            "bin_start": 43496.2,
            "count": 0
           },
           {
            "bin_end": 43496.4,
            "bin_start": 43496.3,
            "count": 0
           },
           {
            "bin_end": 43496.5,
            "bin_start": 43496.4,
            "count": 0
           }
          ],
          "max": "43496",
          "min": "43496",
          "nan_count": 0,
          "unique_count": 1
         }
        },
        {
         "dtype": "int64",
         "name": "_deepnote_index_column"
        }
       ],
       "row_count": 1,
       "rows": [
        {
         "_deepnote_index_column": 0,
         "count_star()": 43496
        }
       ],
       "type": "dataframe"
      },
      "text/html": [
       "<div>\n",
       "<style scoped>\n",
       "    .dataframe tbody tr th:only-of-type {\n",
       "        vertical-align: middle;\n",
       "    }\n",
       "\n",
       "    .dataframe tbody tr th {\n",
       "        vertical-align: top;\n",
       "    }\n",
       "\n",
       "    .dataframe thead th {\n",
       "        text-align: right;\n",
       "    }\n",
       "</style>\n",
       "<table border=\"1\" class=\"dataframe\">\n",
       "  <thead>\n",
       "    <tr style=\"text-align: right;\">\n",
       "      <th></th>\n",
       "      <th>count_star()</th>\n",
       "    </tr>\n",
       "  </thead>\n",
       "  <tbody>\n",
       "    <tr>\n",
       "      <th>0</th>\n",
       "      <td>43496</td>\n",
       "    </tr>\n",
       "  </tbody>\n",
       "</table>\n",
       "</div>"
      ],
      "text/plain": [
       "   count_star()\n",
       "0         43496"
      ]
     },
     "execution_count": 16,
     "metadata": {},
     "output_type": "execute_result"
    }
   ],
   "source": [
    "_dntk.execute_sql(\n",
    "  'select count(*) from data where Employee_Job_Title = \\'Production engineer\\' or Employee_City = \\'New Russellton\\';',\n",
    "  'SQL_DEEPNOTE_DATAFRAME_SQL',\n",
    "  audit_sql_comment='',\n",
    "  sql_cache_mode='cache_disabled',\n",
    "  return_variable_type='dataframe'\n",
    ")"
   ]
  },
  {
   "cell_type": "markdown",
   "metadata": {
    "cell_id": "11e3a7f00bf84b1e97869eb0deca8ab5",
    "deepnote_cell_type": "text-cell-h3",
    "formattedRanges": [],
    "is_collapsed": false,
    "tags": []
   },
   "source": [
    "### 14. Print the number of employees with job title either 'Production engineer' and company name 'Scott Inc'"
   ]
  },
  {
   "cell_type": "code",
   "execution_count": 17,
   "metadata": {
    "cell_id": "6e3db7a472604eeba04e25cd4423aa62",
    "deepnote_cell_type": "sql",
    "deepnote_sql_source": "SELECT COUNT(*) from data where Employee_Job_Title='Production engineer' and Company_Name = 'Scott Inc';",
    "deepnote_to_be_reexecuted": false,
    "execution_context_id": "8daddd6c-84aa-49fd-9c82-a2fcacf0e77e",
    "execution_millis": 1,
    "execution_start": 1742883922683,
    "source_hash": "f6d5055a",
    "sql_integration_id": "deepnote-dataframe-sql",
    "tags": []
   },
   "outputs": [
    {
     "data": {
      "application/vnd.deepnote.dataframe.v3+json": {
       "column_count": 1,
       "columns": [
        {
         "dtype": "int64",
         "name": "count_star()",
         "stats": {
          "histogram": [
           {
            "bin_end": 1035.6,
            "bin_start": 1035.5,
            "count": 0
           },
           {
            "bin_end": 1035.7,
            "bin_start": 1035.6,
            "count": 0
           },
           {
            "bin_end": 1035.8,
            "bin_start": 1035.7,
            "count": 0
           },
           {
            "bin_end": 1035.9,
            "bin_start": 1035.8,
            "count": 0
           },
           {
            "bin_end": 1036,
            "bin_start": 1035.9,
            "count": 0
           },
           {
            "bin_end": 1036.1,
            "bin_start": 1036,
            "count": 1
           },
           {
            "bin_end": 1036.2,
            "bin_start": 1036.1,
            "count": 0
           },
           {
            "bin_end": 1036.3,
            "bin_start": 1036.2,
            "count": 0
           },
           {
            "bin_end": 1036.4,
            "bin_start": 1036.3,
            "count": 0
           },
           {
            "bin_end": 1036.5,
            "bin_start": 1036.4,
            "count": 0
           }
          ],
          "max": "1036",
          "min": "1036",
          "nan_count": 0,
          "unique_count": 1
         }
        },
        {
         "dtype": "int64",
         "name": "_deepnote_index_column"
        }
       ],
       "row_count": 1,
       "rows": [
        {
         "_deepnote_index_column": 0,
         "count_star()": 1036
        }
       ],
       "type": "dataframe"
      },
      "text/html": [
       "<div>\n",
       "<style scoped>\n",
       "    .dataframe tbody tr th:only-of-type {\n",
       "        vertical-align: middle;\n",
       "    }\n",
       "\n",
       "    .dataframe tbody tr th {\n",
       "        vertical-align: top;\n",
       "    }\n",
       "\n",
       "    .dataframe thead th {\n",
       "        text-align: right;\n",
       "    }\n",
       "</style>\n",
       "<table border=\"1\" class=\"dataframe\">\n",
       "  <thead>\n",
       "    <tr style=\"text-align: right;\">\n",
       "      <th></th>\n",
       "      <th>count_star()</th>\n",
       "    </tr>\n",
       "  </thead>\n",
       "  <tbody>\n",
       "    <tr>\n",
       "      <th>0</th>\n",
       "      <td>1036</td>\n",
       "    </tr>\n",
       "  </tbody>\n",
       "</table>\n",
       "</div>"
      ],
      "text/plain": [
       "   count_star()\n",
       "0          1036"
      ]
     },
     "execution_count": 17,
     "metadata": {},
     "output_type": "execute_result"
    }
   ],
   "source": [
    "_dntk.execute_sql(\n",
    "  'SELECT COUNT(*) from data where Employee_Job_Title=\\'Production engineer\\' and Company_Name = \\'Scott Inc\\';',\n",
    "  'SQL_DEEPNOTE_DATAFRAME_SQL',\n",
    "  audit_sql_comment='',\n",
    "  sql_cache_mode='cache_disabled',\n",
    "  return_variable_type='dataframe'\n",
    ")"
   ]
  },
  {
   "cell_type": "markdown",
   "metadata": {
    "cell_id": "5830824319fa461792b66481fe8a6bfa",
    "deepnote_cell_type": "text-cell-h3",
    "formattedRanges": [],
    "is_collapsed": false,
    "tags": []
   },
   "source": [
    "### 15. Print the number of employees with job title either 'Production engineer' or 'New Russellton' and company name either 'Scott Inc' or 'Baker, Allen and Edwards'. "
   ]
  },
  {
   "cell_type": "code",
   "execution_count": 18,
   "metadata": {
    "cell_id": "bed4ae86920f4c80acc911845e2925be",
    "deepnote_cell_type": "sql",
    "deepnote_sql_source": "SELECT COUNT(*) from data where Employee_Job_Title='Production engineer' and (Company_Name = 'Scott Inc' or Company_Name='Baker, Allen and Edwards');",
    "deepnote_table_loading": false,
    "deepnote_table_state": {
     "cellFormattingRules": [],
     "columnDisplayNames": [],
     "columnOrder": [
      "Employee_Job_Title",
      "Company_Name"
     ],
     "conditionalFilters": [],
     "filters": [],
     "hiddenColumnIds": [],
     "pageIndex": 1,
     "pageSize": 10,
     "sortBy": [],
     "wrappedTextColumnIds": []
    },
    "deepnote_to_be_reexecuted": false,
    "execution_context_id": "8daddd6c-84aa-49fd-9c82-a2fcacf0e77e",
    "execution_millis": 19,
    "execution_start": 1742883922743,
    "source_hash": "55bb7812",
    "sql_integration_id": "deepnote-dataframe-sql",
    "tags": []
   },
   "outputs": [
    {
     "data": {
      "application/vnd.deepnote.dataframe.v3+json": {
       "column_count": 1,
       "columns": [
        {
         "dtype": "int64",
         "name": "count_star()",
         "stats": {
          "histogram": [
           {
            "bin_end": 2061.6,
            "bin_start": 2061.5,
            "count": 0
           },
           {
            "bin_end": 2061.7,
            "bin_start": 2061.6,
            "count": 0
           },
           {
            "bin_end": 2061.8,
            "bin_start": 2061.7,
            "count": 0
           },
           {
            "bin_end": 2061.9,
            "bin_start": 2061.8,
            "count": 0
           },
           {
            "bin_end": 2062,
            "bin_start": 2061.9,
            "count": 0
           },
           {
            "bin_end": 2062.1,
            "bin_start": 2062,
            "count": 1
           },
           {
            "bin_end": 2062.2,
            "bin_start": 2062.1,
            "count": 0
           },
           {
            "bin_end": 2062.3,
            "bin_start": 2062.2,
            "count": 0
           },
           {
            "bin_end": 2062.4,
            "bin_start": 2062.3,
            "count": 0
           },
           {
            "bin_end": 2062.5,
            "bin_start": 2062.4,
            "count": 0
           }
          ],
          "max": "2062",
          "min": "2062",
          "nan_count": 0,
          "unique_count": 1
         }
        },
        {
         "dtype": "int64",
         "name": "_deepnote_index_column"
        }
       ],
       "row_count": 1,
       "rows": [
        {
         "_deepnote_index_column": 0,
         "count_star()": 2062
        }
       ],
       "type": "dataframe"
      },
      "text/html": [
       "<div>\n",
       "<style scoped>\n",
       "    .dataframe tbody tr th:only-of-type {\n",
       "        vertical-align: middle;\n",
       "    }\n",
       "\n",
       "    .dataframe tbody tr th {\n",
       "        vertical-align: top;\n",
       "    }\n",
       "\n",
       "    .dataframe thead th {\n",
       "        text-align: right;\n",
       "    }\n",
       "</style>\n",
       "<table border=\"1\" class=\"dataframe\">\n",
       "  <thead>\n",
       "    <tr style=\"text-align: right;\">\n",
       "      <th></th>\n",
       "      <th>count_star()</th>\n",
       "    </tr>\n",
       "  </thead>\n",
       "  <tbody>\n",
       "    <tr>\n",
       "      <th>0</th>\n",
       "      <td>2062</td>\n",
       "    </tr>\n",
       "  </tbody>\n",
       "</table>\n",
       "</div>"
      ],
      "text/plain": [
       "   count_star()\n",
       "0          2062"
      ]
     },
     "execution_count": 18,
     "metadata": {},
     "output_type": "execute_result"
    }
   ],
   "source": [
    "_dntk.execute_sql(\n",
    "  'SELECT COUNT(*) from data where Employee_Job_Title=\\'Production engineer\\' and (Company_Name = \\'Scott Inc\\' or Company_Name=\\'Baker, Allen and Edwards\\');',\n",
    "  'SQL_DEEPNOTE_DATAFRAME_SQL',\n",
    "  audit_sql_comment='',\n",
    "  sql_cache_mode='cache_disabled',\n",
    "  return_variable_type='dataframe'\n",
    ")"
   ]
  },
  {
   "cell_type": "markdown",
   "metadata": {
    "cell_id": "85274ffb5e99413a95d8ec1641bef791",
    "deepnote_cell_type": "text-cell-h3",
    "formattedRanges": [],
    "is_collapsed": false,
    "tags": []
   },
   "source": [
    "### 16. Print the number of distinct cities with employees having job title either 'Production engineer' or 'New Russellton' and company name either 'Scott Inc' or 'Baker, Allen and Edwards'. "
   ]
  },
  {
   "cell_type": "code",
   "execution_count": 59,
   "metadata": {
    "cell_id": "69a6246f2b6d494e880db05bda1aa271",
    "deepnote_cell_type": "sql",
    "deepnote_sql_source": "SELECT COUNT(Distinct Employee_City) from data WHERE Employee_Job_Title='Production engineer' and Company_Name IN('Scott Inc', 'Baker, Allen and Edwards');",
    "deepnote_to_be_reexecuted": false,
    "execution_context_id": "8daddd6c-84aa-49fd-9c82-a2fcacf0e77e",
    "execution_millis": 9,
    "execution_start": 1742884237322,
    "source_hash": "f501f13",
    "sql_integration_id": "deepnote-dataframe-sql",
    "tags": []
   },
   "outputs": [
    {
     "data": {
      "application/vnd.deepnote.dataframe.v3+json": {
       "column_count": 1,
       "columns": [
        {
         "dtype": "int64",
         "name": "count(DISTINCT Employee_City)",
         "stats": {
          "histogram": [
           {
            "bin_end": 9.6,
            "bin_start": 9.5,
            "count": 0
           },
           {
            "bin_end": 9.7,
            "bin_start": 9.6,
            "count": 0
           },
           {
            "bin_end": 9.8,
            "bin_start": 9.7,
            "count": 0
           },
           {
            "bin_end": 9.9,
            "bin_start": 9.8,
            "count": 0
           },
           {
            "bin_end": 10,
            "bin_start": 9.9,
            "count": 0
           },
           {
            "bin_end": 10.1,
            "bin_start": 10,
            "count": 1
           },
           {
            "bin_end": 10.2,
            "bin_start": 10.1,
            "count": 0
           },
           {
            "bin_end": 10.3,
            "bin_start": 10.2,
            "count": 0
           },
           {
            "bin_end": 10.4,
            "bin_start": 10.3,
            "count": 0
           },
           {
            "bin_end": 10.5,
            "bin_start": 10.4,
            "count": 0
           }
          ],
          "max": "10",
          "min": "10",
          "nan_count": 0,
          "unique_count": 1
         }
        },
        {
         "dtype": "int64",
         "name": "_deepnote_index_column"
        }
       ],
       "row_count": 1,
       "rows": [
        {
         "_deepnote_index_column": 0,
         "count(DISTINCT Employee_City)": 10
        }
       ],
       "type": "dataframe"
      },
      "text/html": [
       "<div>\n",
       "<style scoped>\n",
       "    .dataframe tbody tr th:only-of-type {\n",
       "        vertical-align: middle;\n",
       "    }\n",
       "\n",
       "    .dataframe tbody tr th {\n",
       "        vertical-align: top;\n",
       "    }\n",
       "\n",
       "    .dataframe thead th {\n",
       "        text-align: right;\n",
       "    }\n",
       "</style>\n",
       "<table border=\"1\" class=\"dataframe\">\n",
       "  <thead>\n",
       "    <tr style=\"text-align: right;\">\n",
       "      <th></th>\n",
       "      <th>count(DISTINCT Employee_City)</th>\n",
       "    </tr>\n",
       "  </thead>\n",
       "  <tbody>\n",
       "    <tr>\n",
       "      <th>0</th>\n",
       "      <td>10</td>\n",
       "    </tr>\n",
       "  </tbody>\n",
       "</table>\n",
       "</div>"
      ],
      "text/plain": [
       "   count(DISTINCT Employee_City)\n",
       "0                             10"
      ]
     },
     "execution_count": 59,
     "metadata": {},
     "output_type": "execute_result"
    }
   ],
   "source": [
    "_dntk.execute_sql(\n",
    "  'SELECT COUNT(Distinct Employee_City) from data WHERE Employee_Job_Title=\\'Production engineer\\' and Company_Name IN(\\'Scott Inc\\', \\'Baker, Allen and Edwards\\');',\n",
    "  'SQL_DEEPNOTE_DATAFRAME_SQL',\n",
    "  audit_sql_comment='',\n",
    "  sql_cache_mode='cache_disabled',\n",
    "  return_variable_type='dataframe'\n",
    ")"
   ]
  },
  {
   "cell_type": "markdown",
   "metadata": {
    "cell_id": "68c55deea2f14d55978bdeb63d8b76dc",
    "deepnote_cell_type": "text-cell-h3",
    "formattedRanges": [],
    "is_collapsed": false,
    "tags": []
   },
   "source": [
    "### 17. Print the number of Intern employees in the dataset. "
   ]
  },
  {
   "cell_type": "code",
   "execution_count": 4,
   "metadata": {
    "cell_id": "46397ead11dd4635b1d45d7c862f0b88",
    "deepnote_cell_type": "sql",
    "deepnote_sql_source": "SELECT COUNT(*) FROM data where Employment_Status='Intern';",
    "deepnote_to_be_reexecuted": false,
    "execution_context_id": "8d5aeb66-3e5b-4f21-bed9-e7072f51afce",
    "execution_millis": 1483,
    "execution_start": 1742962388237,
    "source_hash": "b54693ec",
    "sql_integration_id": "deepnote-dataframe-sql",
    "tags": []
   },
   "outputs": [
    {
     "data": {
      "application/vnd.deepnote.dataframe.v3+json": {
       "column_count": 1,
       "columns": [
        {
         "dtype": "int64",
         "name": "count_star()",
         "stats": {
          "histogram": [
           {
            "bin_end": 59989.6,
            "bin_start": 59989.5,
            "count": 0
           },
           {
            "bin_end": 59989.7,
            "bin_start": 59989.6,
            "count": 0
           },
           {
            "bin_end": 59989.8,
            "bin_start": 59989.7,
            "count": 0
           },
           {
            "bin_end": 59989.9,
            "bin_start": 59989.8,
            "count": 0
           },
           {
            "bin_end": 59990,
            "bin_start": 59989.9,
            "count": 0
           },
           {
            "bin_end": 59990.1,
            "bin_start": 59990,
            "count": 1
           },
           {
            "bin_end": 59990.2,
            "bin_start": 59990.1,
            "count": 0
           },
           {
            "bin_end": 59990.3,
            "bin_start": 59990.2,
            "count": 0
           },
           {
            "bin_end": 59990.4,
            "bin_start": 59990.3,
            "count": 0
           },
           {
            "bin_end": 59990.5,
            "bin_start": 59990.4,
            "count": 0
           }
          ],
          "max": "59990",
          "min": "59990",
          "nan_count": 0,
          "unique_count": 1
         }
        },
        {
         "dtype": "int64",
         "name": "_deepnote_index_column"
        }
       ],
       "row_count": 1,
       "rows": [
        {
         "_deepnote_index_column": 0,
         "count_star()": 59990
        }
       ],
       "type": "dataframe"
      },
      "text/html": [
       "<div>\n",
       "<style scoped>\n",
       "    .dataframe tbody tr th:only-of-type {\n",
       "        vertical-align: middle;\n",
       "    }\n",
       "\n",
       "    .dataframe tbody tr th {\n",
       "        vertical-align: top;\n",
       "    }\n",
       "\n",
       "    .dataframe thead th {\n",
       "        text-align: right;\n",
       "    }\n",
       "</style>\n",
       "<table border=\"1\" class=\"dataframe\">\n",
       "  <thead>\n",
       "    <tr style=\"text-align: right;\">\n",
       "      <th></th>\n",
       "      <th>count_star()</th>\n",
       "    </tr>\n",
       "  </thead>\n",
       "  <tbody>\n",
       "    <tr>\n",
       "      <th>0</th>\n",
       "      <td>59990</td>\n",
       "    </tr>\n",
       "  </tbody>\n",
       "</table>\n",
       "</div>"
      ],
      "text/plain": [
       "   count_star()\n",
       "0         59990"
      ]
     },
     "execution_count": 4,
     "metadata": {},
     "output_type": "execute_result"
    }
   ],
   "source": [
    "_dntk.execute_sql(\n",
    "  'SELECT COUNT(*) FROM data where Employment_Status=\\'Intern\\';',\n",
    "  'SQL_DEEPNOTE_DATAFRAME_SQL',\n",
    "  audit_sql_comment='',\n",
    "  sql_cache_mode='cache_disabled',\n",
    "  return_variable_type='dataframe'\n",
    ")"
   ]
  },
  {
   "cell_type": "markdown",
   "metadata": {
    "cell_id": "c84a31e10a81487a994208852dacd079",
    "deepnote_cell_type": "text-cell-h3",
    "formattedRanges": [],
    "is_collapsed": false,
    "tags": []
   },
   "source": [
    "### 18. Print the number of employees with first name 'Matthew'. "
   ]
  },
  {
   "cell_type": "code",
   "execution_count": 6,
   "metadata": {
    "cell_id": "31d4706fe9a8410c81dc990139408a19",
    "deepnote_cell_type": "sql",
    "deepnote_sql_source": "SELECT COUNT(*) FROM data where Name LIKE 'Matthew%';",
    "deepnote_to_be_reexecuted": false,
    "execution_context_id": "8d5aeb66-3e5b-4f21-bed9-e7072f51afce",
    "execution_millis": 67,
    "execution_start": 1742962619617,
    "source_hash": "dd3954b6",
    "sql_integration_id": "deepnote-dataframe-sql",
    "tags": []
   },
   "outputs": [
    {
     "data": {
      "application/vnd.deepnote.dataframe.v3+json": {
       "column_count": 1,
       "columns": [
        {
         "dtype": "int64",
         "name": "count_star()",
         "stats": {
          "histogram": [
           {
            "bin_end": 3062.6,
            "bin_start": 3062.5,
            "count": 0
           },
           {
            "bin_end": 3062.7,
            "bin_start": 3062.6,
            "count": 0
           },
           {
            "bin_end": 3062.8,
            "bin_start": 3062.7,
            "count": 0
           },
           {
            "bin_end": 3062.9,
            "bin_start": 3062.8,
            "count": 0
           },
           {
            "bin_end": 3063,
            "bin_start": 3062.9,
            "count": 0
           },
           {
            "bin_end": 3063.1,
            "bin_start": 3063,
            "count": 1
           },
           {
            "bin_end": 3063.2,
            "bin_start": 3063.1,
            "count": 0
           },
           {
            "bin_end": 3063.3,
            "bin_start": 3063.2,
            "count": 0
           },
           {
            "bin_end": 3063.4,
            "bin_start": 3063.3,
            "count": 0
           },
           {
            "bin_end": 3063.5,
            "bin_start": 3063.4,
            "count": 0
           }
          ],
          "max": "3063",
          "min": "3063",
          "nan_count": 0,
          "unique_count": 1
         }
        },
        {
         "dtype": "int64",
         "name": "_deepnote_index_column"
        }
       ],
       "row_count": 1,
       "rows": [
        {
         "_deepnote_index_column": 0,
         "count_star()": 3063
        }
       ],
       "type": "dataframe"
      },
      "text/html": [
       "<div>\n",
       "<style scoped>\n",
       "    .dataframe tbody tr th:only-of-type {\n",
       "        vertical-align: middle;\n",
       "    }\n",
       "\n",
       "    .dataframe tbody tr th {\n",
       "        vertical-align: top;\n",
       "    }\n",
       "\n",
       "    .dataframe thead th {\n",
       "        text-align: right;\n",
       "    }\n",
       "</style>\n",
       "<table border=\"1\" class=\"dataframe\">\n",
       "  <thead>\n",
       "    <tr style=\"text-align: right;\">\n",
       "      <th></th>\n",
       "      <th>count_star()</th>\n",
       "    </tr>\n",
       "  </thead>\n",
       "  <tbody>\n",
       "    <tr>\n",
       "      <th>0</th>\n",
       "      <td>3063</td>\n",
       "    </tr>\n",
       "  </tbody>\n",
       "</table>\n",
       "</div>"
      ],
      "text/plain": [
       "   count_star()\n",
       "0          3063"
      ]
     },
     "execution_count": 6,
     "metadata": {},
     "output_type": "execute_result"
    }
   ],
   "source": [
    "_dntk.execute_sql(\n",
    "  'SELECT COUNT(*) FROM data where Name LIKE \\'Matthew%\\';',\n",
    "  'SQL_DEEPNOTE_DATAFRAME_SQL',\n",
    "  audit_sql_comment='',\n",
    "  sql_cache_mode='cache_disabled',\n",
    "  return_variable_type='dataframe'\n",
    ")"
   ]
  },
  {
   "cell_type": "markdown",
   "metadata": {
    "cell_id": "e9b87a908af2445fa21f21a66a8cec6c",
    "deepnote_cell_type": "text-cell-h3",
    "formattedRanges": [],
    "is_collapsed": false,
    "tags": []
   },
   "source": [
    "### 19. Print the first five rows corresponding to the employees with highest salary"
   ]
  },
  {
   "cell_type": "code",
   "execution_count": 10,
   "metadata": {
    "cell_id": "6feb09dce34545ae9915b57697532bc2",
    "deepnote_cell_type": "sql",
    "deepnote_sql_source": "SELECT * from data order by Employee_Salary desc LIMIT 5;",
    "deepnote_to_be_reexecuted": false,
    "execution_context_id": "8d5aeb66-3e5b-4f21-bed9-e7072f51afce",
    "execution_millis": 132,
    "execution_start": 1742962737876,
    "source_hash": "53c0a074",
    "sql_integration_id": "deepnote-dataframe-sql",
    "tags": []
   },
   "outputs": [
    {
     "data": {
      "application/vnd.deepnote.dataframe.v3+json": {
       "column_count": 8,
       "columns": [
        {
         "dtype": "object",
         "name": "Name",
         "stats": {
          "categories": [
           {
            "count": 1,
            "name": "Anna Lawson"
           },
           {
            "count": 1,
            "name": "Jason Jenkins"
           },
           {
            "count": 3,
            "name": "3 others"
           }
          ],
          "nan_count": 0,
          "unique_count": 5
         }
        },
        {
         "dtype": "object",
         "name": "Company_Name",
         "stats": {
          "categories": [
           {
            "count": 2,
            "name": "Taylor-Ramos"
           },
           {
            "count": 1,
            "name": "White, Mcclain and Cobb"
           },
           {
            "count": 2,
            "name": "2 others"
           }
          ],
          "nan_count": 0,
          "unique_count": 4
         }
        },
        {
         "dtype": "object",
         "name": "Employee_Job_Title",
         "stats": {
          "categories": [
           {
            "count": 1,
            "name": "Production engineer"
           },
           {
            "count": 1,
            "name": "Sales promotion account executive"
           },
           {
            "count": 3,
            "name": "3 others"
           }
          ],
          "nan_count": 0,
          "unique_count": 5
         }
        },
        {
         "dtype": "object",
         "name": "Employee_City",
         "stats": {
          "categories": [
           {
            "count": 2,
            "name": "Kristaburgh"
           },
           {
            "count": 2,
            "name": "Aliciafort"
           },
           {
            "count": 1,
            "name": "Wardfort"
           }
          ],
          "nan_count": 0,
          "unique_count": 3
         }
        },
        {
         "dtype": "object",
         "name": "Employee_Country",
         "stats": {
          "categories": [
           {
            "count": 1,
            "name": "Lesotho"
           },
           {
            "count": 1,
            "name": "Pakistan"
           },
           {
            "count": 3,
            "name": "3 others"
           }
          ],
          "nan_count": 0,
          "unique_count": 5
         }
        },
        {
         "dtype": "int64",
         "name": "Employee_Salary",
         "stats": {
          "histogram": [
           {
            "bin_end": 999972,
            "bin_start": 999970,
            "count": 1
           },
           {
            "bin_end": 999974,
            "bin_start": 999972,
            "count": 0
           },
           {
            "bin_end": 999976,
            "bin_start": 999974,
            "count": 0
           },
           {
            "bin_end": 999978,
            "bin_start": 999976,
            "count": 0
           },
           {
            "bin_end": 999980,
            "bin_start": 999978,
            "count": 0
           },
           {
            "bin_end": 999982,
            "bin_start": 999980,
            "count": 3
           },
           {
            "bin_end": 999984,
            "bin_start": 999982,
            "count": 0
           },
           {
            "bin_end": 999986,
            "bin_start": 999984,
            "count": 0
           },
           {
            "bin_end": 999988,
            "bin_start": 999986,
            "count": 0
           },
           {
            "bin_end": 999990,
            "bin_start": 999988,
            "count": 1
           }
          ],
          "max": "999990",
          "min": "999970",
          "nan_count": 0,
          "unique_count": 3
         }
        },
        {
         "dtype": "object",
         "name": "Employment_Status",
         "stats": {
          "categories": [
           {
            "count": 5,
            "name": "Full Time"
           }
          ],
          "nan_count": 0,
          "unique_count": 1
         }
        },
        {
         "dtype": "float64",
         "name": "Employee_Rating",
         "stats": {
          "histogram": [
           {
            "bin_end": 1.21,
            "bin_start": 0.9,
            "count": 1
           },
           {
            "bin_end": 1.52,
            "bin_start": 1.21,
            "count": 0
           },
           {
            "bin_end": 1.83,
            "bin_start": 1.52,
            "count": 0
           },
           {
            "bin_end": 2.14,
            "bin_start": 1.83,
            "count": 1
           },
           {
            "bin_end": 2.45,
            "bin_start": 2.14,
            "count": 1
           },
           {
            "bin_end": 2.76,
            "bin_start": 2.45,
            "count": 1
           },
           {
            "bin_end": 3.07,
            "bin_start": 2.76,
            "count": 0
           },
           {
            "bin_end": 3.38,
            "bin_start": 3.07,
            "count": 0
           },
           {
            "bin_end": 3.69,
            "bin_start": 3.38,
            "count": 0
           },
           {
            "bin_end": 4,
            "bin_start": 3.69,
            "count": 1
           }
          ],
          "max": "4.0",
          "min": "0.9",
          "nan_count": 0,
          "unique_count": 5
         }
        },
        {
         "dtype": "int64",
         "name": "_deepnote_index_column"
        }
       ],
       "row_count": 5,
       "rows": [
        {
         "Company_Name": "Taylor-Ramos",
         "Employee_City": "Kristaburgh",
         "Employee_Country": "Lesotho",
         "Employee_Job_Title": "Production engineer",
         "Employee_Rating": 4,
         "Employee_Salary": 999990,
         "Employment_Status": "Full Time",
         "Name": "Anna Lawson",
         "_deepnote_index_column": 0
        },
        {
         "Company_Name": "Taylor-Ramos",
         "Employee_City": "Aliciafort",
         "Employee_Country": "Pakistan",
         "Employee_Job_Title": "Sales promotion account executive",
         "Employee_Rating": 2.6,
         "Employee_Salary": 999980,
         "Employment_Status": "Full Time",
         "Name": "Jason Jenkins",
         "_deepnote_index_column": 1
        },
        {
         "Company_Name": "White, Mcclain and Cobb",
         "Employee_City": "Wardfort",
         "Employee_Country": "Saint Helena",
         "Employee_Job_Title": "Ergonomist",
         "Employee_Rating": 2,
         "Employee_Salary": 999980,
         "Employment_Status": "Full Time",
         "Name": "Logan Jackson",
         "_deepnote_index_column": 2
        },
        {
         "Company_Name": "Thomas-Spencer",
         "Employee_City": "Aliciafort",
         "Employee_Country": "Cook Islands",
         "Employee_Job_Title": "Energy manager",
         "Employee_Rating": 2.4,
         "Employee_Salary": 999980,
         "Employment_Status": "Full Time",
         "Name": "Richard Kennedy",
         "_deepnote_index_column": 3
        },
        {
         "Company_Name": "Campos, Reynolds and Mccormick",
         "Employee_City": "Kristaburgh",
         "Employee_Country": "United Kingdom",
         "Employee_Job_Title": "Diplomatic Services operational officer",
         "Employee_Rating": 0.9,
         "Employee_Salary": 999970,
         "Employment_Status": "Full Time",
         "Name": "Dennis Sexton",
         "_deepnote_index_column": 4
        }
       ],
       "type": "dataframe"
      },
      "text/html": [
       "<div>\n",
       "<style scoped>\n",
       "    .dataframe tbody tr th:only-of-type {\n",
       "        vertical-align: middle;\n",
       "    }\n",
       "\n",
       "    .dataframe tbody tr th {\n",
       "        vertical-align: top;\n",
       "    }\n",
       "\n",
       "    .dataframe thead th {\n",
       "        text-align: right;\n",
       "    }\n",
       "</style>\n",
       "<table border=\"1\" class=\"dataframe\">\n",
       "  <thead>\n",
       "    <tr style=\"text-align: right;\">\n",
       "      <th></th>\n",
       "      <th>Name</th>\n",
       "      <th>Company_Name</th>\n",
       "      <th>Employee_Job_Title</th>\n",
       "      <th>Employee_City</th>\n",
       "      <th>Employee_Country</th>\n",
       "      <th>Employee_Salary</th>\n",
       "      <th>Employment_Status</th>\n",
       "      <th>Employee_Rating</th>\n",
       "    </tr>\n",
       "  </thead>\n",
       "  <tbody>\n",
       "    <tr>\n",
       "      <th>0</th>\n",
       "      <td>Anna Lawson</td>\n",
       "      <td>Taylor-Ramos</td>\n",
       "      <td>Production engineer</td>\n",
       "      <td>Kristaburgh</td>\n",
       "      <td>Lesotho</td>\n",
       "      <td>999990</td>\n",
       "      <td>Full Time</td>\n",
       "      <td>4.0</td>\n",
       "    </tr>\n",
       "    <tr>\n",
       "      <th>1</th>\n",
       "      <td>Jason Jenkins</td>\n",
       "      <td>Taylor-Ramos</td>\n",
       "      <td>Sales promotion account executive</td>\n",
       "      <td>Aliciafort</td>\n",
       "      <td>Pakistan</td>\n",
       "      <td>999980</td>\n",
       "      <td>Full Time</td>\n",
       "      <td>2.6</td>\n",
       "    </tr>\n",
       "    <tr>\n",
       "      <th>2</th>\n",
       "      <td>Logan Jackson</td>\n",
       "      <td>White, Mcclain and Cobb</td>\n",
       "      <td>Ergonomist</td>\n",
       "      <td>Wardfort</td>\n",
       "      <td>Saint Helena</td>\n",
       "      <td>999980</td>\n",
       "      <td>Full Time</td>\n",
       "      <td>2.0</td>\n",
       "    </tr>\n",
       "    <tr>\n",
       "      <th>3</th>\n",
       "      <td>Richard Kennedy</td>\n",
       "      <td>Thomas-Spencer</td>\n",
       "      <td>Energy manager</td>\n",
       "      <td>Aliciafort</td>\n",
       "      <td>Cook Islands</td>\n",
       "      <td>999980</td>\n",
       "      <td>Full Time</td>\n",
       "      <td>2.4</td>\n",
       "    </tr>\n",
       "    <tr>\n",
       "      <th>4</th>\n",
       "      <td>Dennis Sexton</td>\n",
       "      <td>Campos, Reynolds and Mccormick</td>\n",
       "      <td>Diplomatic Services operational officer</td>\n",
       "      <td>Kristaburgh</td>\n",
       "      <td>United Kingdom</td>\n",
       "      <td>999970</td>\n",
       "      <td>Full Time</td>\n",
       "      <td>0.9</td>\n",
       "    </tr>\n",
       "  </tbody>\n",
       "</table>\n",
       "</div>"
      ],
      "text/plain": [
       "              Name                    Company_Name  \\\n",
       "0      Anna Lawson                    Taylor-Ramos   \n",
       "1    Jason Jenkins                    Taylor-Ramos   \n",
       "2    Logan Jackson         White, Mcclain and Cobb   \n",
       "3  Richard Kennedy                  Thomas-Spencer   \n",
       "4    Dennis Sexton  Campos, Reynolds and Mccormick   \n",
       "\n",
       "                        Employee_Job_Title Employee_City Employee_Country  \\\n",
       "0                      Production engineer   Kristaburgh          Lesotho   \n",
       "1        Sales promotion account executive    Aliciafort         Pakistan   \n",
       "2                               Ergonomist      Wardfort     Saint Helena   \n",
       "3                           Energy manager    Aliciafort     Cook Islands   \n",
       "4  Diplomatic Services operational officer   Kristaburgh   United Kingdom   \n",
       "\n",
       "   Employee_Salary Employment_Status  Employee_Rating  \n",
       "0           999990         Full Time              4.0  \n",
       "1           999980         Full Time              2.6  \n",
       "2           999980         Full Time              2.0  \n",
       "3           999980         Full Time              2.4  \n",
       "4           999970         Full Time              0.9  "
      ]
     },
     "execution_count": 10,
     "metadata": {},
     "output_type": "execute_result"
    }
   ],
   "source": [
    "_dntk.execute_sql(\n",
    "  'SELECT * from data order by Employee_Salary desc LIMIT 5;',\n",
    "  'SQL_DEEPNOTE_DATAFRAME_SQL',\n",
    "  audit_sql_comment='',\n",
    "  sql_cache_mode='cache_disabled',\n",
    "  return_variable_type='dataframe'\n",
    ")"
   ]
  },
  {
   "cell_type": "markdown",
   "metadata": {
    "cell_id": "26f7510418b641a38c9a1c32617510f7",
    "deepnote_cell_type": "text-cell-h3",
    "formattedRanges": [],
    "is_collapsed": false,
    "tags": []
   },
   "source": [
    "### 20. Print the first five rows corresponding to the employees with the highest salary in 'James and Sons' company"
   ]
  },
  {
   "cell_type": "code",
   "execution_count": 12,
   "metadata": {
    "cell_id": "3c7908d23e9a499596bb35855d253a64",
    "deepnote_cell_type": "sql",
    "deepnote_sql_source": "SELECT * from data WHERE Company_Name='James and Sons' order by Employee_Salary desc LIMIT 5;",
    "deepnote_to_be_reexecuted": false,
    "execution_context_id": "8d5aeb66-3e5b-4f21-bed9-e7072f51afce",
    "execution_millis": 78,
    "execution_start": 1742962791476,
    "source_hash": "16512cb5",
    "sql_integration_id": "deepnote-dataframe-sql",
    "tags": []
   },
   "outputs": [
    {
     "data": {
      "application/vnd.deepnote.dataframe.v3+json": {
       "column_count": 8,
       "columns": [
        {
         "dtype": "object",
         "name": "Name",
         "stats": {
          "categories": [
           {
            "count": 1,
            "name": "Jared Rice"
           },
           {
            "count": 1,
            "name": "Jamie Parks"
           },
           {
            "count": 3,
            "name": "3 others"
           }
          ],
          "nan_count": 0,
          "unique_count": 5
         }
        },
        {
         "dtype": "object",
         "name": "Company_Name",
         "stats": {
          "categories": [
           {
            "count": 5,
            "name": "James and Sons"
           }
          ],
          "nan_count": 0,
          "unique_count": 1
         }
        },
        {
         "dtype": "object",
         "name": "Employee_Job_Title",
         "stats": {
          "categories": [
           {
            "count": 1,
            "name": "Naval architect"
           },
           {
            "count": 1,
            "name": "Trading standards officer"
           },
           {
            "count": 3,
            "name": "3 others"
           }
          ],
          "nan_count": 0,
          "unique_count": 5
         }
        },
        {
         "dtype": "object",
         "name": "Employee_City",
         "stats": {
          "categories": [
           {
            "count": 2,
            "name": "New Russellton"
           },
           {
            "count": 1,
            "name": "Ricardomouth"
           },
           {
            "count": 2,
            "name": "2 others"
           }
          ],
          "nan_count": 0,
          "unique_count": 4
         }
        },
        {
         "dtype": "object",
         "name": "Employee_Country",
         "stats": {
          "categories": [
           {
            "count": 1,
            "name": "Saint Barthelemy"
           },
           {
            "count": 1,
            "name": "Botswana"
           },
           {
            "count": 3,
            "name": "3 others"
           }
          ],
          "nan_count": 0,
          "unique_count": 5
         }
        },
        {
         "dtype": "int64",
         "name": "Employee_Salary",
         "stats": {
          "histogram": [
           {
            "bin_end": 999789,
            "bin_start": 999770,
            "count": 1
           },
           {
            "bin_end": 999808,
            "bin_start": 999789,
            "count": 1
           },
           {
            "bin_end": 999827,
            "bin_start": 999808,
            "count": 0
           },
           {
            "bin_end": 999846,
            "bin_start": 999827,
            "count": 1
           },
           {
            "bin_end": 999865,
            "bin_start": 999846,
            "count": 1
           },
           {
            "bin_end": 999884,
            "bin_start": 999865,
            "count": 0
           },
           {
            "bin_end": 999903,
            "bin_start": 999884,
            "count": 0
           },
           {
            "bin_end": 999922,
            "bin_start": 999903,
            "count": 0
           },
           {
            "bin_end": 999941,
            "bin_start": 999922,
            "count": 0
           },
           {
            "bin_end": 999960,
            "bin_start": 999941,
            "count": 1
           }
          ],
          "max": "999960",
          "min": "999770",
          "nan_count": 0,
          "unique_count": 5
         }
        },
        {
         "dtype": "object",
         "name": "Employment_Status",
         "stats": {
          "categories": [
           {
            "count": 3,
            "name": "Full Time"
           },
           {
            "count": 2,
            "name": "Intern"
           }
          ],
          "nan_count": 0,
          "unique_count": 2
         }
        },
        {
         "dtype": "float64",
         "name": "Employee_Rating",
         "stats": {
          "histogram": [
           {
            "bin_end": 1.29,
            "bin_start": 0.9,
            "count": 1
           },
           {
            "bin_end": 1.6800000000000002,
            "bin_start": 1.29,
            "count": 0
           },
           {
            "bin_end": 2.07,
            "bin_start": 1.6800000000000002,
            "count": 0
           },
           {
            "bin_end": 2.46,
            "bin_start": 2.07,
            "count": 0
           },
           {
            "bin_end": 2.85,
            "bin_start": 2.46,
            "count": 2
           },
           {
            "bin_end": 3.2399999999999998,
            "bin_start": 2.85,
            "count": 0
           },
           {
            "bin_end": 3.63,
            "bin_start": 3.2399999999999998,
            "count": 1
           },
           {
            "bin_end": 4.0200000000000005,
            "bin_start": 3.63,
            "count": 0
           },
           {
            "bin_end": 4.41,
            "bin_start": 4.0200000000000005,
            "count": 0
           },
           {
            "bin_end": 4.8,
            "bin_start": 4.41,
            "count": 1
           }
          ],
          "max": "4.8",
          "min": "0.9",
          "nan_count": 0,
          "unique_count": 5
         }
        },
        {
         "dtype": "int64",
         "name": "_deepnote_index_column"
        }
       ],
       "row_count": 5,
       "rows": [
        {
         "Company_Name": "James and Sons",
         "Employee_City": "New Russellton",
         "Employee_Country": "Saint Barthelemy",
         "Employee_Job_Title": "Naval architect",
         "Employee_Rating": 2.6,
         "Employee_Salary": 999960,
         "Employment_Status": "Full Time",
         "Name": "Jared Rice",
         "_deepnote_index_column": 0
        },
        {
         "Company_Name": "James and Sons",
         "Employee_City": "Ricardomouth",
         "Employee_Country": "Botswana",
         "Employee_Job_Title": "Trading standards officer",
         "Employee_Rating": 4.8,
         "Employee_Salary": 999860,
         "Employment_Status": "Full Time",
         "Name": "Jamie Parks",
         "_deepnote_index_column": 1
        },
        {
         "Company_Name": "James and Sons",
         "Employee_City": "Aliciafort",
         "Employee_Country": "Austria",
         "Employee_Job_Title": "Optometrist",
         "Employee_Rating": 0.9,
         "Employee_Salary": 999830,
         "Employment_Status": "Full Time",
         "Name": "Shannon Harrison",
         "_deepnote_index_column": 2
        },
        {
         "Company_Name": "James and Sons",
         "Employee_City": "New Cindychester",
         "Employee_Country": "Uruguay",
         "Employee_Job_Title": "Radiographer, therapeutic",
         "Employee_Rating": 3.6,
         "Employee_Salary": 999790,
         "Employment_Status": "Intern",
         "Name": "Angela Baker",
         "_deepnote_index_column": 3
        },
        {
         "Company_Name": "James and Sons",
         "Employee_City": "New Russellton",
         "Employee_Country": "Korea",
         "Employee_Job_Title": "Ergonomist",
         "Employee_Rating": 2.7,
         "Employee_Salary": 999770,
         "Employment_Status": "Intern",
         "Name": "Jessica Nixon",
         "_deepnote_index_column": 4
        }
       ],
       "type": "dataframe"
      },
      "text/html": [
       "<div>\n",
       "<style scoped>\n",
       "    .dataframe tbody tr th:only-of-type {\n",
       "        vertical-align: middle;\n",
       "    }\n",
       "\n",
       "    .dataframe tbody tr th {\n",
       "        vertical-align: top;\n",
       "    }\n",
       "\n",
       "    .dataframe thead th {\n",
       "        text-align: right;\n",
       "    }\n",
       "</style>\n",
       "<table border=\"1\" class=\"dataframe\">\n",
       "  <thead>\n",
       "    <tr style=\"text-align: right;\">\n",
       "      <th></th>\n",
       "      <th>Name</th>\n",
       "      <th>Company_Name</th>\n",
       "      <th>Employee_Job_Title</th>\n",
       "      <th>Employee_City</th>\n",
       "      <th>Employee_Country</th>\n",
       "      <th>Employee_Salary</th>\n",
       "      <th>Employment_Status</th>\n",
       "      <th>Employee_Rating</th>\n",
       "    </tr>\n",
       "  </thead>\n",
       "  <tbody>\n",
       "    <tr>\n",
       "      <th>0</th>\n",
       "      <td>Jared Rice</td>\n",
       "      <td>James and Sons</td>\n",
       "      <td>Naval architect</td>\n",
       "      <td>New Russellton</td>\n",
       "      <td>Saint Barthelemy</td>\n",
       "      <td>999960</td>\n",
       "      <td>Full Time</td>\n",
       "      <td>2.6</td>\n",
       "    </tr>\n",
       "    <tr>\n",
       "      <th>1</th>\n",
       "      <td>Jamie Parks</td>\n",
       "      <td>James and Sons</td>\n",
       "      <td>Trading standards officer</td>\n",
       "      <td>Ricardomouth</td>\n",
       "      <td>Botswana</td>\n",
       "      <td>999860</td>\n",
       "      <td>Full Time</td>\n",
       "      <td>4.8</td>\n",
       "    </tr>\n",
       "    <tr>\n",
       "      <th>2</th>\n",
       "      <td>Shannon Harrison</td>\n",
       "      <td>James and Sons</td>\n",
       "      <td>Optometrist</td>\n",
       "      <td>Aliciafort</td>\n",
       "      <td>Austria</td>\n",
       "      <td>999830</td>\n",
       "      <td>Full Time</td>\n",
       "      <td>0.9</td>\n",
       "    </tr>\n",
       "    <tr>\n",
       "      <th>3</th>\n",
       "      <td>Angela Baker</td>\n",
       "      <td>James and Sons</td>\n",
       "      <td>Radiographer, therapeutic</td>\n",
       "      <td>New Cindychester</td>\n",
       "      <td>Uruguay</td>\n",
       "      <td>999790</td>\n",
       "      <td>Intern</td>\n",
       "      <td>3.6</td>\n",
       "    </tr>\n",
       "    <tr>\n",
       "      <th>4</th>\n",
       "      <td>Jessica Nixon</td>\n",
       "      <td>James and Sons</td>\n",
       "      <td>Ergonomist</td>\n",
       "      <td>New Russellton</td>\n",
       "      <td>Korea</td>\n",
       "      <td>999770</td>\n",
       "      <td>Intern</td>\n",
       "      <td>2.7</td>\n",
       "    </tr>\n",
       "  </tbody>\n",
       "</table>\n",
       "</div>"
      ],
      "text/plain": [
       "               Name    Company_Name         Employee_Job_Title  \\\n",
       "0        Jared Rice  James and Sons            Naval architect   \n",
       "1       Jamie Parks  James and Sons  Trading standards officer   \n",
       "2  Shannon Harrison  James and Sons                Optometrist   \n",
       "3      Angela Baker  James and Sons  Radiographer, therapeutic   \n",
       "4     Jessica Nixon  James and Sons                 Ergonomist   \n",
       "\n",
       "      Employee_City  Employee_Country  Employee_Salary Employment_Status  \\\n",
       "0    New Russellton  Saint Barthelemy           999960         Full Time   \n",
       "1      Ricardomouth          Botswana           999860         Full Time   \n",
       "2        Aliciafort           Austria           999830         Full Time   \n",
       "3  New Cindychester           Uruguay           999790            Intern   \n",
       "4    New Russellton             Korea           999770            Intern   \n",
       "\n",
       "   Employee_Rating  \n",
       "0              2.6  \n",
       "1              4.8  \n",
       "2              0.9  \n",
       "3              3.6  \n",
       "4              2.7  "
      ]
     },
     "execution_count": 12,
     "metadata": {},
     "output_type": "execute_result"
    }
   ],
   "source": [
    "_dntk.execute_sql(\n",
    "  'SELECT * from data WHERE Company_Name=\\'James and Sons\\' order by Employee_Salary desc LIMIT 5;',\n",
    "  'SQL_DEEPNOTE_DATAFRAME_SQL',\n",
    "  audit_sql_comment='',\n",
    "  sql_cache_mode='cache_disabled',\n",
    "  return_variable_type='dataframe'\n",
    ")"
   ]
  },
  {
   "cell_type": "markdown",
   "metadata": {
    "cell_id": "ba0ea7b71142405eb6a423b93a46e59b",
    "deepnote_cell_type": "text-cell-h3",
    "formattedRanges": [],
    "is_collapsed": false,
    "tags": []
   },
   "source": [
    "### 21. Print the first five rows corresponding to the employees with the highest salary working either in 'James and Sons' company or living in 'Wardfort' city"
   ]
  },
  {
   "cell_type": "code",
   "execution_count": 14,
   "metadata": {
    "cell_id": "9c69996265424fff845d5f228d54d0a5",
    "deepnote_cell_type": "sql",
    "deepnote_sql_source": "SELECT * from data WHERE Company_Name='James and Sons' or Employee_City= 'Wardfort' order by Employee_Salary desc LIMIT 5;",
    "deepnote_to_be_reexecuted": false,
    "execution_context_id": "8d5aeb66-3e5b-4f21-bed9-e7072f51afce",
    "execution_millis": 133,
    "execution_start": 1742962852485,
    "source_hash": "7facbede",
    "sql_integration_id": "deepnote-dataframe-sql",
    "tags": []
   },
   "outputs": [
    {
     "data": {
      "application/vnd.deepnote.dataframe.v3+json": {
       "column_count": 8,
       "columns": [
        {
         "dtype": "object",
         "name": "Name",
         "stats": {
          "categories": [
           {
            "count": 1,
            "name": "Logan Jackson"
           },
           {
            "count": 1,
            "name": "Jared Rice"
           },
           {
            "count": 3,
            "name": "3 others"
           }
          ],
          "nan_count": 0,
          "unique_count": 5
         }
        },
        {
         "dtype": "object",
         "name": "Company_Name",
         "stats": {
          "categories": [
           {
            "count": 1,
            "name": "White, Mcclain and Cobb"
           },
           {
            "count": 1,
            "name": "James and Sons"
           },
           {
            "count": 3,
            "name": "3 others"
           }
          ],
          "nan_count": 0,
          "unique_count": 5
         }
        },
        {
         "dtype": "object",
         "name": "Employee_Job_Title",
         "stats": {
          "categories": [
           {
            "count": 2,
            "name": "Actuary"
           },
           {
            "count": 1,
            "name": "Ergonomist"
           },
           {
            "count": 2,
            "name": "2 others"
           }
          ],
          "nan_count": 0,
          "unique_count": 4
         }
        },
        {
         "dtype": "object",
         "name": "Employee_City",
         "stats": {
          "categories": [
           {
            "count": 4,
            "name": "Wardfort"
           },
           {
            "count": 1,
            "name": "New Russellton"
           }
          ],
          "nan_count": 0,
          "unique_count": 2
         }
        },
        {
         "dtype": "object",
         "name": "Employee_Country",
         "stats": {
          "categories": [
           {
            "count": 1,
            "name": "Saint Helena"
           },
           {
            "count": 1,
            "name": "Saint Barthelemy"
           },
           {
            "count": 3,
            "name": "3 others"
           }
          ],
          "nan_count": 0,
          "unique_count": 5
         }
        },
        {
         "dtype": "int64",
         "name": "Employee_Salary",
         "stats": {
          "histogram": [
           {
            "bin_end": 999917,
            "bin_start": 999910,
            "count": 1
           },
           {
            "bin_end": 999924,
            "bin_start": 999917,
            "count": 1
           },
           {
            "bin_end": 999931,
            "bin_start": 999924,
            "count": 1
           },
           {
            "bin_end": 999938,
            "bin_start": 999931,
            "count": 0
           },
           {
            "bin_end": 999945,
            "bin_start": 999938,
            "count": 0
           },
           {
            "bin_end": 999952,
            "bin_start": 999945,
            "count": 0
           },
           {
            "bin_end": 999959,
            "bin_start": 999952,
            "count": 0
           },
           {
            "bin_end": 999966,
            "bin_start": 999959,
            "count": 1
           },
           {
            "bin_end": 999973,
            "bin_start": 999966,
            "count": 0
           },
           {
            "bin_end": 999980,
            "bin_start": 999973,
            "count": 1
           }
          ],
          "max": "999980",
          "min": "999910",
          "nan_count": 0,
          "unique_count": 5
         }
        },
        {
         "dtype": "object",
         "name": "Employment_Status",
         "stats": {
          "categories": [
           {
            "count": 5,
            "name": "Full Time"
           }
          ],
          "nan_count": 0,
          "unique_count": 1
         }
        },
        {
         "dtype": "float64",
         "name": "Employee_Rating",
         "stats": {
          "histogram": [
           {
            "bin_end": 1.97,
            "bin_start": 1.9,
            "count": 2
           },
           {
            "bin_end": 2.04,
            "bin_start": 1.97,
            "count": 1
           },
           {
            "bin_end": 2.11,
            "bin_start": 2.04,
            "count": 0
           },
           {
            "bin_end": 2.18,
            "bin_start": 2.11,
            "count": 0
           },
           {
            "bin_end": 2.25,
            "bin_start": 2.18,
            "count": 0
           },
           {
            "bin_end": 2.3200000000000003,
            "bin_start": 2.25,
            "count": 0
           },
           {
            "bin_end": 2.39,
            "bin_start": 2.3200000000000003,
            "count": 0
           },
           {
            "bin_end": 2.46,
            "bin_start": 2.39,
            "count": 0
           },
           {
            "bin_end": 2.5300000000000002,
            "bin_start": 2.46,
            "count": 1
           },
           {
            "bin_end": 2.6,
            "bin_start": 2.5300000000000002,
            "count": 1
           }
          ],
          "max": "2.6",
          "min": "1.9",
          "nan_count": 0,
          "unique_count": 4
         }
        },
        {
         "dtype": "int64",
         "name": "_deepnote_index_column"
        }
       ],
       "row_count": 5,
       "rows": [
        {
         "Company_Name": "White, Mcclain and Cobb",
         "Employee_City": "Wardfort",
         "Employee_Country": "Saint Helena",
         "Employee_Job_Title": "Ergonomist",
         "Employee_Rating": 2,
         "Employee_Salary": 999980,
         "Employment_Status": "Full Time",
         "Name": "Logan Jackson",
         "_deepnote_index_column": 0
        },
        {
         "Company_Name": "James and Sons",
         "Employee_City": "New Russellton",
         "Employee_Country": "Saint Barthelemy",
         "Employee_Job_Title": "Naval architect",
         "Employee_Rating": 2.6,
         "Employee_Salary": 999960,
         "Employment_Status": "Full Time",
         "Name": "Jared Rice",
         "_deepnote_index_column": 1
        },
        {
         "Company_Name": "Bullock-Carrillo",
         "Employee_City": "Wardfort",
         "Employee_Country": "Fiji",
         "Employee_Job_Title": "Actuary",
         "Employee_Rating": 1.9,
         "Employee_Salary": 999930,
         "Employment_Status": "Full Time",
         "Name": "Carolyn Lucas",
         "_deepnote_index_column": 2
        },
        {
         "Company_Name": "Nelson-Li",
         "Employee_City": "Wardfort",
         "Employee_Country": "Turks and Caicos Islands",
         "Employee_Job_Title": "Actuary",
         "Employee_Rating": 2.5,
         "Employee_Salary": 999920,
         "Employment_Status": "Full Time",
         "Name": "Mia Howard",
         "_deepnote_index_column": 3
        },
        {
         "Company_Name": "Johnston, Fleming and Tanner",
         "Employee_City": "Wardfort",
         "Employee_Country": "Bangladesh",
         "Employee_Job_Title": "Diplomatic Services operational officer",
         "Employee_Rating": 1.9,
         "Employee_Salary": 999910,
         "Employment_Status": "Full Time",
         "Name": "Anthony Anderson",
         "_deepnote_index_column": 4
        }
       ],
       "type": "dataframe"
      },
      "text/html": [
       "<div>\n",
       "<style scoped>\n",
       "    .dataframe tbody tr th:only-of-type {\n",
       "        vertical-align: middle;\n",
       "    }\n",
       "\n",
       "    .dataframe tbody tr th {\n",
       "        vertical-align: top;\n",
       "    }\n",
       "\n",
       "    .dataframe thead th {\n",
       "        text-align: right;\n",
       "    }\n",
       "</style>\n",
       "<table border=\"1\" class=\"dataframe\">\n",
       "  <thead>\n",
       "    <tr style=\"text-align: right;\">\n",
       "      <th></th>\n",
       "      <th>Name</th>\n",
       "      <th>Company_Name</th>\n",
       "      <th>Employee_Job_Title</th>\n",
       "      <th>Employee_City</th>\n",
       "      <th>Employee_Country</th>\n",
       "      <th>Employee_Salary</th>\n",
       "      <th>Employment_Status</th>\n",
       "      <th>Employee_Rating</th>\n",
       "    </tr>\n",
       "  </thead>\n",
       "  <tbody>\n",
       "    <tr>\n",
       "      <th>0</th>\n",
       "      <td>Logan Jackson</td>\n",
       "      <td>White, Mcclain and Cobb</td>\n",
       "      <td>Ergonomist</td>\n",
       "      <td>Wardfort</td>\n",
       "      <td>Saint Helena</td>\n",
       "      <td>999980</td>\n",
       "      <td>Full Time</td>\n",
       "      <td>2.0</td>\n",
       "    </tr>\n",
       "    <tr>\n",
       "      <th>1</th>\n",
       "      <td>Jared Rice</td>\n",
       "      <td>James and Sons</td>\n",
       "      <td>Naval architect</td>\n",
       "      <td>New Russellton</td>\n",
       "      <td>Saint Barthelemy</td>\n",
       "      <td>999960</td>\n",
       "      <td>Full Time</td>\n",
       "      <td>2.6</td>\n",
       "    </tr>\n",
       "    <tr>\n",
       "      <th>2</th>\n",
       "      <td>Carolyn Lucas</td>\n",
       "      <td>Bullock-Carrillo</td>\n",
       "      <td>Actuary</td>\n",
       "      <td>Wardfort</td>\n",
       "      <td>Fiji</td>\n",
       "      <td>999930</td>\n",
       "      <td>Full Time</td>\n",
       "      <td>1.9</td>\n",
       "    </tr>\n",
       "    <tr>\n",
       "      <th>3</th>\n",
       "      <td>Mia Howard</td>\n",
       "      <td>Nelson-Li</td>\n",
       "      <td>Actuary</td>\n",
       "      <td>Wardfort</td>\n",
       "      <td>Turks and Caicos Islands</td>\n",
       "      <td>999920</td>\n",
       "      <td>Full Time</td>\n",
       "      <td>2.5</td>\n",
       "    </tr>\n",
       "    <tr>\n",
       "      <th>4</th>\n",
       "      <td>Anthony Anderson</td>\n",
       "      <td>Johnston, Fleming and Tanner</td>\n",
       "      <td>Diplomatic Services operational officer</td>\n",
       "      <td>Wardfort</td>\n",
       "      <td>Bangladesh</td>\n",
       "      <td>999910</td>\n",
       "      <td>Full Time</td>\n",
       "      <td>1.9</td>\n",
       "    </tr>\n",
       "  </tbody>\n",
       "</table>\n",
       "</div>"
      ],
      "text/plain": [
       "               Name                  Company_Name  \\\n",
       "0     Logan Jackson       White, Mcclain and Cobb   \n",
       "1        Jared Rice                James and Sons   \n",
       "2     Carolyn Lucas              Bullock-Carrillo   \n",
       "3        Mia Howard                     Nelson-Li   \n",
       "4  Anthony Anderson  Johnston, Fleming and Tanner   \n",
       "\n",
       "                        Employee_Job_Title   Employee_City  \\\n",
       "0                               Ergonomist        Wardfort   \n",
       "1                          Naval architect  New Russellton   \n",
       "2                                  Actuary        Wardfort   \n",
       "3                                  Actuary        Wardfort   \n",
       "4  Diplomatic Services operational officer        Wardfort   \n",
       "\n",
       "           Employee_Country  Employee_Salary Employment_Status  \\\n",
       "0              Saint Helena           999980         Full Time   \n",
       "1          Saint Barthelemy           999960         Full Time   \n",
       "2                      Fiji           999930         Full Time   \n",
       "3  Turks and Caicos Islands           999920         Full Time   \n",
       "4                Bangladesh           999910         Full Time   \n",
       "\n",
       "   Employee_Rating  \n",
       "0              2.0  \n",
       "1              2.6  \n",
       "2              1.9  \n",
       "3              2.5  \n",
       "4              1.9  "
      ]
     },
     "execution_count": 14,
     "metadata": {},
     "output_type": "execute_result"
    }
   ],
   "source": [
    "_dntk.execute_sql(\n",
    "  'SELECT * from data WHERE Company_Name=\\'James and Sons\\' or Employee_City= \\'Wardfort\\' order by Employee_Salary desc LIMIT 5;',\n",
    "  'SQL_DEEPNOTE_DATAFRAME_SQL',\n",
    "  audit_sql_comment='',\n",
    "  sql_cache_mode='cache_disabled',\n",
    "  return_variable_type='dataframe'\n",
    ")"
   ]
  },
  {
   "cell_type": "markdown",
   "metadata": {
    "cell_id": "89c8b00fbd15466aa0f5f368b9ac339b",
    "deepnote_cell_type": "text-cell-h3",
    "formattedRanges": [],
    "is_collapsed": false,
    "tags": []
   },
   "source": [
    "### 22. Print the total number of distinct records in the data. "
   ]
  },
  {
   "cell_type": "code",
   "execution_count": 21,
   "metadata": {
    "cell_id": "78d99235522742b98d6ba482fdfce8d3",
    "deepnote_cell_type": "sql",
    "deepnote_sql_source": "SELECT COUNT(DISTINCT(Name,Company_Name,Employee_Rating)) from data;",
    "deepnote_to_be_reexecuted": false,
    "execution_context_id": "8d5aeb66-3e5b-4f21-bed9-e7072f51afce",
    "execution_millis": 29,
    "execution_start": 1742963137025,
    "source_hash": "2a8d7f0a",
    "sql_integration_id": "deepnote-dataframe-sql",
    "tags": []
   },
   "outputs": [
    {
     "data": {
      "application/vnd.deepnote.dataframe.v3+json": {
       "column_count": 1,
       "columns": [
        {
         "dtype": "int64",
         "name": "count_star()",
         "stats": {
          "histogram": [
           {
            "bin_end": 299999.6,
            "bin_start": 299999.5,
            "count": 0
           },
           {
            "bin_end": 299999.7,
            "bin_start": 299999.6,
            "count": 0
           },
           {
            "bin_end": 299999.8,
            "bin_start": 299999.7,
            "count": 0
           },
           {
            "bin_end": 299999.9,
            "bin_start": 299999.8,
            "count": 0
           },
           {
            "bin_end": 300000,
            "bin_start": 299999.9,
            "count": 0
           },
           {
            "bin_end": 300000.1,
            "bin_start": 300000,
            "count": 1
           },
           {
            "bin_end": 300000.2,
            "bin_start": 300000.1,
            "count": 0
           },
           {
            "bin_end": 300000.3,
            "bin_start": 300000.2,
            "count": 0
           },
           {
            "bin_end": 300000.4,
            "bin_start": 300000.3,
            "count": 0
           },
           {
            "bin_end": 300000.5,
            "bin_start": 300000.4,
            "count": 0
           }
          ],
          "max": "300000",
          "min": "300000",
          "nan_count": 0,
          "unique_count": 1
         }
        },
        {
         "dtype": "int64",
         "name": "_deepnote_index_column"
        }
       ],
       "row_count": 1,
       "rows": [
        {
         "_deepnote_index_column": 0,
         "count_star()": 300000
        }
       ],
       "type": "dataframe"
      },
      "text/html": [
       "<div>\n",
       "<style scoped>\n",
       "    .dataframe tbody tr th:only-of-type {\n",
       "        vertical-align: middle;\n",
       "    }\n",
       "\n",
       "    .dataframe tbody tr th {\n",
       "        vertical-align: top;\n",
       "    }\n",
       "\n",
       "    .dataframe thead th {\n",
       "        text-align: right;\n",
       "    }\n",
       "</style>\n",
       "<table border=\"1\" class=\"dataframe\">\n",
       "  <thead>\n",
       "    <tr style=\"text-align: right;\">\n",
       "      <th></th>\n",
       "      <th>count_star()</th>\n",
       "    </tr>\n",
       "  </thead>\n",
       "  <tbody>\n",
       "    <tr>\n",
       "      <th>0</th>\n",
       "      <td>300000</td>\n",
       "    </tr>\n",
       "  </tbody>\n",
       "</table>\n",
       "</div>"
      ],
      "text/plain": [
       "   count_star()\n",
       "0        300000"
      ]
     },
     "execution_count": 21,
     "metadata": {},
     "output_type": "execute_result"
    }
   ],
   "source": [
    "_dntk.execute_sql(\n",
    "  'SELECT COUNT(DISTINCT(Name,Company_Name,Employee_Rating)) from data;',\n",
    "  'SQL_DEEPNOTE_DATAFRAME_SQL',\n",
    "  audit_sql_comment='',\n",
    "  sql_cache_mode='cache_disabled',\n",
    "  return_variable_type='dataframe'\n",
    ")"
   ]
  },
  {
   "cell_type": "markdown",
   "metadata": {
    "cell_id": "b20552c8f55340f09da7a80e53b20734",
    "deepnote_cell_type": "text-cell-h3",
    "formattedRanges": [],
    "is_collapsed": false,
    "tags": []
   },
   "source": [
    "### 23. Print the mean salary of all the employees in the data"
   ]
  },
  {
   "cell_type": "code",
   "execution_count": 27,
   "metadata": {
    "cell_id": "5d2776567bf3477882db22cebc97f419",
    "deepnote_cell_type": "sql",
    "deepnote_sql_source": "SELECT avg(Employee_Salary) from data;",
    "deepnote_to_be_reexecuted": false,
    "execution_context_id": "8d5aeb66-3e5b-4f21-bed9-e7072f51afce",
    "execution_millis": 24,
    "execution_start": 1742963278366,
    "source_hash": "b6b952ce",
    "sql_integration_id": "deepnote-dataframe-sql",
    "tags": []
   },
   "outputs": [
    {
     "data": {
      "application/vnd.deepnote.dataframe.v3+json": {
       "column_count": 1,
       "columns": [
        {
         "dtype": "float64",
         "name": "avg(Employee_Salary)",
         "stats": {
          "histogram": [
           {
            "bin_end": 500223.8077266666,
            "bin_start": 500223.70772666665,
            "count": 0
           },
           {
            "bin_end": 500223.90772666666,
            "bin_start": 500223.8077266666,
            "count": 0
           },
           {
            "bin_end": 500224.00772666663,
            "bin_start": 500223.90772666666,
            "count": 0
           },
           {
            "bin_end": 500224.10772666667,
            "bin_start": 500224.00772666663,
            "count": 0
           },
           {
            "bin_end": 500224.20772666665,
            "bin_start": 500224.10772666667,
            "count": 0
           },
           {
            "bin_end": 500224.3077266666,
            "bin_start": 500224.20772666665,
            "count": 1
           },
           {
            "bin_end": 500224.40772666666,
            "bin_start": 500224.3077266666,
            "count": 0
           },
           {
            "bin_end": 500224.50772666663,
            "bin_start": 500224.40772666666,
            "count": 0
           },
           {
            "bin_end": 500224.60772666667,
            "bin_start": 500224.50772666663,
            "count": 0
           },
           {
            "bin_end": 500224.70772666665,
            "bin_start": 500224.60772666667,
            "count": 0
           }
          ],
          "max": "500224.20772666665",
          "min": "500224.20772666665",
          "nan_count": 0,
          "unique_count": 1
         }
        },
        {
         "dtype": "int64",
         "name": "_deepnote_index_column"
        }
       ],
       "row_count": 1,
       "rows": [
        {
         "_deepnote_index_column": 0,
         "avg(Employee_Salary)": 500224.20772666665
        }
       ],
       "type": "dataframe"
      },
      "text/html": [
       "<div>\n",
       "<style scoped>\n",
       "    .dataframe tbody tr th:only-of-type {\n",
       "        vertical-align: middle;\n",
       "    }\n",
       "\n",
       "    .dataframe tbody tr th {\n",
       "        vertical-align: top;\n",
       "    }\n",
       "\n",
       "    .dataframe thead th {\n",
       "        text-align: right;\n",
       "    }\n",
       "</style>\n",
       "<table border=\"1\" class=\"dataframe\">\n",
       "  <thead>\n",
       "    <tr style=\"text-align: right;\">\n",
       "      <th></th>\n",
       "      <th>avg(Employee_Salary)</th>\n",
       "    </tr>\n",
       "  </thead>\n",
       "  <tbody>\n",
       "    <tr>\n",
       "      <th>0</th>\n",
       "      <td>500224.207727</td>\n",
       "    </tr>\n",
       "  </tbody>\n",
       "</table>\n",
       "</div>"
      ],
      "text/plain": [
       "   avg(Employee_Salary)\n",
       "0         500224.207727"
      ]
     },
     "execution_count": 27,
     "metadata": {},
     "output_type": "execute_result"
    }
   ],
   "source": [
    "_dntk.execute_sql(\n",
    "  'SELECT avg(Employee_Salary) from data;',\n",
    "  'SQL_DEEPNOTE_DATAFRAME_SQL',\n",
    "  audit_sql_comment='',\n",
    "  sql_cache_mode='cache_disabled',\n",
    "  return_variable_type='dataframe'\n",
    ")"
   ]
  },
  {
   "cell_type": "markdown",
   "metadata": {
    "cell_id": "ff61859e275d4e0c977b9b08e15deb81",
    "deepnote_cell_type": "text-cell-h3",
    "formattedRanges": [],
    "is_collapsed": false,
    "tags": []
   },
   "source": [
    "### 24. Print the mean rating of all the employees in the data"
   ]
  },
  {
   "cell_type": "code",
   "execution_count": 29,
   "metadata": {
    "cell_id": "fd8e158cd42446e786a67a5a36732826",
    "deepnote_cell_type": "sql",
    "deepnote_sql_source": "SELECT avg(Employee_Rating) from data;",
    "deepnote_to_be_reexecuted": false,
    "execution_context_id": "8d5aeb66-3e5b-4f21-bed9-e7072f51afce",
    "execution_millis": 91,
    "execution_start": 1742963288428,
    "source_hash": "1687d375",
    "sql_integration_id": "deepnote-dataframe-sql",
    "tags": []
   },
   "outputs": [
    {
     "data": {
      "application/vnd.deepnote.dataframe.v3+json": {
       "column_count": 1,
       "columns": [
        {
         "dtype": "float64",
         "name": "avg(Employee_Rating)",
         "stats": {
          "histogram": [
           {
            "bin_end": 2.1059550000000296,
            "bin_start": 2.0059550000000295,
            "count": 0
           },
           {
            "bin_end": 2.2059550000000296,
            "bin_start": 2.1059550000000296,
            "count": 0
           },
           {
            "bin_end": 2.3059550000000293,
            "bin_start": 2.2059550000000296,
            "count": 0
           },
           {
            "bin_end": 2.4059550000000294,
            "bin_start": 2.3059550000000293,
            "count": 0
           },
           {
            "bin_end": 2.5059550000000295,
            "bin_start": 2.4059550000000294,
            "count": 0
           },
           {
            "bin_end": 2.6059550000000296,
            "bin_start": 2.5059550000000295,
            "count": 1
           },
           {
            "bin_end": 2.7059550000000296,
            "bin_start": 2.6059550000000296,
            "count": 0
           },
           {
            "bin_end": 2.8059550000000293,
            "bin_start": 2.7059550000000296,
            "count": 0
           },
           {
            "bin_end": 2.9059550000000294,
            "bin_start": 2.8059550000000293,
            "count": 0
           },
           {
            "bin_end": 3.0059550000000295,
            "bin_start": 2.9059550000000294,
            "count": 0
           }
          ],
          "max": "2.5059550000000295",
          "min": "2.5059550000000295",
          "nan_count": 0,
          "unique_count": 1
         }
        },
        {
         "dtype": "int64",
         "name": "_deepnote_index_column"
        }
       ],
       "row_count": 1,
       "rows": [
        {
         "_deepnote_index_column": 0,
         "avg(Employee_Rating)": 2.5059550000000295
        }
       ],
       "type": "dataframe"
      },
      "text/html": [
       "<div>\n",
       "<style scoped>\n",
       "    .dataframe tbody tr th:only-of-type {\n",
       "        vertical-align: middle;\n",
       "    }\n",
       "\n",
       "    .dataframe tbody tr th {\n",
       "        vertical-align: top;\n",
       "    }\n",
       "\n",
       "    .dataframe thead th {\n",
       "        text-align: right;\n",
       "    }\n",
       "</style>\n",
       "<table border=\"1\" class=\"dataframe\">\n",
       "  <thead>\n",
       "    <tr style=\"text-align: right;\">\n",
       "      <th></th>\n",
       "      <th>avg(Employee_Rating)</th>\n",
       "    </tr>\n",
       "  </thead>\n",
       "  <tbody>\n",
       "    <tr>\n",
       "      <th>0</th>\n",
       "      <td>2.505955</td>\n",
       "    </tr>\n",
       "  </tbody>\n",
       "</table>\n",
       "</div>"
      ],
      "text/plain": [
       "   avg(Employee_Rating)\n",
       "0              2.505955"
      ]
     },
     "execution_count": 29,
     "metadata": {},
     "output_type": "execute_result"
    }
   ],
   "source": [
    "_dntk.execute_sql(\n",
    "  'SELECT avg(Employee_Rating) from data;',\n",
    "  'SQL_DEEPNOTE_DATAFRAME_SQL',\n",
    "  audit_sql_comment='',\n",
    "  sql_cache_mode='cache_disabled',\n",
    "  return_variable_type='dataframe'\n",
    ")"
   ]
  },
  {
   "cell_type": "markdown",
   "metadata": {
    "cell_id": "a33e7d1d954f4ee5bd02d279a17c40c1",
    "deepnote_cell_type": "text-cell-h3",
    "formattedRanges": [],
    "is_collapsed": false,
    "tags": []
   },
   "source": [
    "### 25-27. Print the maximum, minimum and median Employee_Salary."
   ]
  },
  {
   "cell_type": "code",
   "execution_count": 31,
   "metadata": {
    "cell_id": "0cca022c41374cd8b3773e7494de7c60",
    "deepnote_cell_type": "sql",
    "deepnote_sql_source": "SELECT MAX(Employee_Salary) from data;",
    "deepnote_to_be_reexecuted": false,
    "execution_context_id": "8d5aeb66-3e5b-4f21-bed9-e7072f51afce",
    "execution_millis": 30,
    "execution_start": 1742963330826,
    "source_hash": "c841dcce",
    "sql_integration_id": "deepnote-dataframe-sql",
    "tags": []
   },
   "outputs": [
    {
     "data": {
      "application/vnd.deepnote.dataframe.v3+json": {
       "column_count": 1,
       "columns": [
        {
         "dtype": "int64",
         "name": "max(Employee_Salary)",
         "stats": {
          "histogram": [
           {
            "bin_end": 999989.6,
            "bin_start": 999989.5,
            "count": 0
           },
           {
            "bin_end": 999989.7,
            "bin_start": 999989.6,
            "count": 0
           },
           {
            "bin_end": 999989.8,
            "bin_start": 999989.7,
            "count": 0
           },
           {
            "bin_end": 999989.9,
            "bin_start": 999989.8,
            "count": 0
           },
           {
            "bin_end": 999990,
            "bin_start": 999989.9,
            "count": 0
           },
           {
            "bin_end": 999990.1,
            "bin_start": 999990,
            "count": 1
           },
           {
            "bin_end": 999990.2,
            "bin_start": 999990.1,
            "count": 0
           },
           {
            "bin_end": 999990.3,
            "bin_start": 999990.2,
            "count": 0
           },
           {
            "bin_end": 999990.4,
            "bin_start": 999990.3,
            "count": 0
           },
           {
            "bin_end": 999990.5,
            "bin_start": 999990.4,
            "count": 0
           }
          ],
          "max": "999990",
          "min": "999990",
          "nan_count": 0,
          "unique_count": 1
         }
        },
        {
         "dtype": "int64",
         "name": "_deepnote_index_column"
        }
       ],
       "row_count": 1,
       "rows": [
        {
         "_deepnote_index_column": 0,
         "max(Employee_Salary)": 999990
        }
       ],
       "type": "dataframe"
      },
      "text/html": [
       "<div>\n",
       "<style scoped>\n",
       "    .dataframe tbody tr th:only-of-type {\n",
       "        vertical-align: middle;\n",
       "    }\n",
       "\n",
       "    .dataframe tbody tr th {\n",
       "        vertical-align: top;\n",
       "    }\n",
       "\n",
       "    .dataframe thead th {\n",
       "        text-align: right;\n",
       "    }\n",
       "</style>\n",
       "<table border=\"1\" class=\"dataframe\">\n",
       "  <thead>\n",
       "    <tr style=\"text-align: right;\">\n",
       "      <th></th>\n",
       "      <th>max(Employee_Salary)</th>\n",
       "    </tr>\n",
       "  </thead>\n",
       "  <tbody>\n",
       "    <tr>\n",
       "      <th>0</th>\n",
       "      <td>999990</td>\n",
       "    </tr>\n",
       "  </tbody>\n",
       "</table>\n",
       "</div>"
      ],
      "text/plain": [
       "   max(Employee_Salary)\n",
       "0                999990"
      ]
     },
     "execution_count": 31,
     "metadata": {},
     "output_type": "execute_result"
    }
   ],
   "source": [
    "_dntk.execute_sql(\n",
    "  'SELECT MAX(Employee_Salary) from data;',\n",
    "  'SQL_DEEPNOTE_DATAFRAME_SQL',\n",
    "  audit_sql_comment='',\n",
    "  sql_cache_mode='cache_disabled',\n",
    "  return_variable_type='dataframe'\n",
    ")"
   ]
  },
  {
   "cell_type": "code",
   "execution_count": 33,
   "metadata": {
    "cell_id": "a814322504a941f6b4d242a40e812af5",
    "deepnote_cell_type": "sql",
    "deepnote_sql_source": "SELECT MIN(Employee_Salary) from data;",
    "deepnote_variable_name": "df_1",
    "execution_context_id": "8d5aeb66-3e5b-4f21-bed9-e7072f51afce",
    "execution_millis": 51,
    "execution_start": 1742963351165,
    "source_hash": "f5d092ab",
    "sql_integration_id": "deepnote-dataframe-sql"
   },
   "outputs": [
    {
     "data": {
      "application/vnd.deepnote.dataframe.v3+json": {
       "column_count": 1,
       "columns": [
        {
         "dtype": "int64",
         "name": "min(Employee_Salary)",
         "stats": {
          "histogram": [
           {
            "bin_end": -0.4,
            "bin_start": -0.5,
            "count": 0
           },
           {
            "bin_end": -0.3,
            "bin_start": -0.4,
            "count": 0
           },
           {
            "bin_end": -0.19999999999999996,
            "bin_start": -0.3,
            "count": 0
           },
           {
            "bin_end": -0.09999999999999998,
            "bin_start": -0.19999999999999996,
            "count": 0
           },
           {
            "bin_end": 0,
            "bin_start": -0.09999999999999998,
            "count": 0
           },
           {
            "bin_end": 0.10000000000000009,
            "bin_start": 0,
            "count": 1
           },
           {
            "bin_end": 0.20000000000000007,
            "bin_start": 0.10000000000000009,
            "count": 0
           },
           {
            "bin_end": 0.30000000000000004,
            "bin_start": 0.20000000000000007,
            "count": 0
           },
           {
            "bin_end": 0.4,
            "bin_start": 0.30000000000000004,
            "count": 0
           },
           {
            "bin_end": 0.5,
            "bin_start": 0.4,
            "count": 0
           }
          ],
          "max": "0",
          "min": "0",
          "nan_count": 0,
          "unique_count": 1
         }
        },
        {
         "dtype": "int64",
         "name": "_deepnote_index_column"
        }
       ],
       "row_count": 1,
       "rows": [
        {
         "_deepnote_index_column": 0,
         "min(Employee_Salary)": 0
        }
       ],
       "type": "dataframe"
      },
      "text/html": [
       "<div>\n",
       "<style scoped>\n",
       "    .dataframe tbody tr th:only-of-type {\n",
       "        vertical-align: middle;\n",
       "    }\n",
       "\n",
       "    .dataframe tbody tr th {\n",
       "        vertical-align: top;\n",
       "    }\n",
       "\n",
       "    .dataframe thead th {\n",
       "        text-align: right;\n",
       "    }\n",
       "</style>\n",
       "<table border=\"1\" class=\"dataframe\">\n",
       "  <thead>\n",
       "    <tr style=\"text-align: right;\">\n",
       "      <th></th>\n",
       "      <th>min(Employee_Salary)</th>\n",
       "    </tr>\n",
       "  </thead>\n",
       "  <tbody>\n",
       "    <tr>\n",
       "      <th>0</th>\n",
       "      <td>0</td>\n",
       "    </tr>\n",
       "  </tbody>\n",
       "</table>\n",
       "</div>"
      ],
      "text/plain": [
       "   min(Employee_Salary)\n",
       "0                     0"
      ]
     },
     "execution_count": 33,
     "metadata": {},
     "output_type": "execute_result"
    }
   ],
   "source": [
    "df_1 = _dntk.execute_sql(\n",
    "  'SELECT MIN(Employee_Salary) from data;',\n",
    "  'SQL_DEEPNOTE_DATAFRAME_SQL',\n",
    "  audit_sql_comment='',\n",
    "  sql_cache_mode='cache_disabled',\n",
    "  return_variable_type='dataframe'\n",
    ")\n",
    "df_1"
   ]
  },
  {
   "cell_type": "code",
   "execution_count": 37,
   "metadata": {
    "cell_id": "c240872bc5584057978be60bd26c99fe",
    "deepnote_cell_type": "sql",
    "deepnote_sql_source": "WITH rankedsalaries as(\n    SELECT Employee_Salary, \n    ROW_NUMBER() OVER (ORDER BY Employee_Salary) AS ROWASC,\n    ROW_NUMBER() OVER (ORDER BY Employee_Salary DESC) AS ROWDESC,\n    from data\n)\nSELECT avg(Employee_Salary) as Median from rankedsalaries where ROWASC=ROWDESC OR ROWASC+1=ROWDESC;",
    "deepnote_variable_name": "df_2",
    "execution_context_id": "8d5aeb66-3e5b-4f21-bed9-e7072f51afce",
    "execution_millis": 162,
    "execution_start": 1742963812803,
    "source_hash": "3e399530",
    "sql_integration_id": "deepnote-dataframe-sql"
   },
   "outputs": [
    {
     "data": {
      "application/vnd.deepnote.dataframe.v3+json": {
       "column_count": 1,
       "columns": [
        {
         "dtype": "float64",
         "name": "Median",
         "stats": {
          "histogram": [
           {
            "bin_end": 500779.6,
            "bin_start": 500779.5,
            "count": 0
           },
           {
            "bin_end": 500779.7,
            "bin_start": 500779.6,
            "count": 0
           },
           {
            "bin_end": 500779.8,
            "bin_start": 500779.7,
            "count": 0
           },
           {
            "bin_end": 500779.9,
            "bin_start": 500779.8,
            "count": 0
           },
           {
            "bin_end": 500780,
            "bin_start": 500779.9,
            "count": 0
           },
           {
            "bin_end": 500780.1,
            "bin_start": 500780,
            "count": 1
           },
           {
            "bin_end": 500780.2,
            "bin_start": 500780.1,
            "count": 0
           },
           {
            "bin_end": 500780.3,
            "bin_start": 500780.2,
            "count": 0
           },
           {
            "bin_end": 500780.4,
            "bin_start": 500780.3,
            "count": 0
           },
           {
            "bin_end": 500780.5,
            "bin_start": 500780.4,
            "count": 0
           }
          ],
          "max": "500780.0",
          "min": "500780.0",
          "nan_count": 0,
          "unique_count": 1
         }
        },
        {
         "dtype": "int64",
         "name": "_deepnote_index_column"
        }
       ],
       "row_count": 1,
       "rows": [
        {
         "Median": 500780,
         "_deepnote_index_column": 0
        }
       ],
       "type": "dataframe"
      },
      "text/html": [
       "<div>\n",
       "<style scoped>\n",
       "    .dataframe tbody tr th:only-of-type {\n",
       "        vertical-align: middle;\n",
       "    }\n",
       "\n",
       "    .dataframe tbody tr th {\n",
       "        vertical-align: top;\n",
       "    }\n",
       "\n",
       "    .dataframe thead th {\n",
       "        text-align: right;\n",
       "    }\n",
       "</style>\n",
       "<table border=\"1\" class=\"dataframe\">\n",
       "  <thead>\n",
       "    <tr style=\"text-align: right;\">\n",
       "      <th></th>\n",
       "      <th>Median</th>\n",
       "    </tr>\n",
       "  </thead>\n",
       "  <tbody>\n",
       "    <tr>\n",
       "      <th>0</th>\n",
       "      <td>500780.0</td>\n",
       "    </tr>\n",
       "  </tbody>\n",
       "</table>\n",
       "</div>"
      ],
      "text/plain": [
       "     Median\n",
       "0  500780.0"
      ]
     },
     "execution_count": 37,
     "metadata": {},
     "output_type": "execute_result"
    }
   ],
   "source": [
    "df_2 = _dntk.execute_sql(\n",
    "  'WITH rankedsalaries as(\\n    SELECT Employee_Salary, \\n    ROW_NUMBER() OVER (ORDER BY Employee_Salary) AS ROWASC,\\n    ROW_NUMBER() OVER (ORDER BY Employee_Salary DESC) AS ROWDESC,\\n    from data\\n)\\nSELECT avg(Employee_Salary) as Median from rankedsalaries where ROWASC=ROWDESC OR ROWASC+1=ROWDESC;',\n",
    "  'SQL_DEEPNOTE_DATAFRAME_SQL',\n",
    "  audit_sql_comment='',\n",
    "  sql_cache_mode='cache_disabled',\n",
    "  return_variable_type='dataframe'\n",
    ")\n",
    "df_2"
   ]
  },
  {
   "cell_type": "markdown",
   "metadata": {
    "cell_id": "6332f34bbeae49af9913362c02bfe5ef",
    "deepnote_cell_type": "text-cell-h3",
    "formattedRanges": [],
    "is_collapsed": false,
    "tags": []
   },
   "source": [
    "### 28-32. Print the distribution of the following columns: (the frequency of individual entries)."
   ]
  },
  {
   "cell_type": "markdown",
   "metadata": {
    "cell_id": "3d3944f39a184e89ac6905d606431567",
    "deepnote_cell_type": "text-cell-p",
    "formattedRanges": [],
    "is_collapsed": false,
    "tags": []
   },
   "source": [
    "1. Company_Name"
   ]
  },
  {
   "cell_type": "code",
   "execution_count": 39,
   "metadata": {
    "cell_id": "2a07cac5d91a42bea08dbbecca2910c5",
    "deepnote_cell_type": "sql",
    "deepnote_sql_source": "SELECT Company_Name, COUNT(*) FROM data GROUP BY Company_Name;",
    "deepnote_to_be_reexecuted": false,
    "execution_context_id": "8d5aeb66-3e5b-4f21-bed9-e7072f51afce",
    "execution_millis": 71,
    "execution_start": 1742963987655,
    "source_hash": "8c04f3cb",
    "sql_integration_id": "deepnote-dataframe-sql",
    "tags": []
   },
   "outputs": [
    {
     "data": {
      "application/vnd.deepnote.dataframe.v3+json": {
       "column_count": 2,
       "columns": [
        {
         "dtype": "object",
         "name": "Company_Name",
         "stats": {
          "categories": [
           {
            "count": 1,
            "name": "Bullock-Carrillo"
           },
           {
            "count": 1,
            "name": "Campos, Reynolds and Mccormick"
           },
           {
            "count": 13,
            "name": "13 others"
           }
          ],
          "nan_count": 0,
          "unique_count": 15
         }
        },
        {
         "dtype": "int64",
         "name": "count_star()",
         "stats": {
          "histogram": [
           {
            "bin_end": 19466.6,
            "bin_start": 19364,
            "count": 1
           },
           {
            "bin_end": 19569.2,
            "bin_start": 19466.6,
            "count": 0
           },
           {
            "bin_end": 19671.8,
            "bin_start": 19569.2,
            "count": 0
           },
           {
            "bin_end": 19774.4,
            "bin_start": 19671.8,
            "count": 0
           },
           {
            "bin_end": 19877,
            "bin_start": 19774.4,
            "count": 3
           },
           {
            "bin_end": 19979.6,
            "bin_start": 19877,
            "count": 2
           },
           {
            "bin_end": 20082.2,
            "bin_start": 19979.6,
            "count": 2
           },
           {
            "bin_end": 20184.8,
            "bin_start": 20082.2,
            "count": 5
           },
           {
            "bin_end": 20287.4,
            "bin_start": 20184.8,
            "count": 1
           },
           {
            "bin_end": 20390,
            "bin_start": 20287.4,
            "count": 1
           }
          ],
          "max": "20390",
          "min": "19364",
          "nan_count": 0,
          "unique_count": 15
         }
        },
        {
         "dtype": "int64",
         "name": "_deepnote_index_column"
        }
       ],
       "row_count": 15,
       "rows": [
        {
         "Company_Name": "Bullock-Carrillo",
         "_deepnote_index_column": 0,
         "count_star()": 20063
        },
        {
         "Company_Name": "Campos, Reynolds and Mccormick",
         "_deepnote_index_column": 1,
         "count_star()": 19927
        },
        {
         "Company_Name": "Baker, Allen and Edwards",
         "_deepnote_index_column": 2,
         "count_star()": 20084
        },
        {
         "Company_Name": "Matthews Inc",
         "_deepnote_index_column": 3,
         "count_star()": 20083
        },
        {
         "Company_Name": "Marshall-Holloway",
         "_deepnote_index_column": 4,
         "count_star()": 19859
        },
        {
         "Company_Name": "James and Sons",
         "_deepnote_index_column": 5,
         "count_star()": 19868
        },
        {
         "Company_Name": "Andrade LLC",
         "_deepnote_index_column": 6,
         "count_star()": 19983
        },
        {
         "Company_Name": "Wallace, Smith and Shepard",
         "_deepnote_index_column": 7,
         "count_star()": 19364
        },
        {
         "Company_Name": "Nelson-Li",
         "_deepnote_index_column": 8,
         "count_star()": 20132
        },
        {
         "Company_Name": "Johnston, Fleming and Tanner",
         "_deepnote_index_column": 9,
         "count_star()": 19811
        }
       ],
       "type": "dataframe"
      },
      "text/html": [
       "<div>\n",
       "<style scoped>\n",
       "    .dataframe tbody tr th:only-of-type {\n",
       "        vertical-align: middle;\n",
       "    }\n",
       "\n",
       "    .dataframe tbody tr th {\n",
       "        vertical-align: top;\n",
       "    }\n",
       "\n",
       "    .dataframe thead th {\n",
       "        text-align: right;\n",
       "    }\n",
       "</style>\n",
       "<table border=\"1\" class=\"dataframe\">\n",
       "  <thead>\n",
       "    <tr style=\"text-align: right;\">\n",
       "      <th></th>\n",
       "      <th>Company_Name</th>\n",
       "      <th>count_star()</th>\n",
       "    </tr>\n",
       "  </thead>\n",
       "  <tbody>\n",
       "    <tr>\n",
       "      <th>0</th>\n",
       "      <td>Bullock-Carrillo</td>\n",
       "      <td>20063</td>\n",
       "    </tr>\n",
       "    <tr>\n",
       "      <th>1</th>\n",
       "      <td>Campos, Reynolds and Mccormick</td>\n",
       "      <td>19927</td>\n",
       "    </tr>\n",
       "    <tr>\n",
       "      <th>2</th>\n",
       "      <td>Baker, Allen and Edwards</td>\n",
       "      <td>20084</td>\n",
       "    </tr>\n",
       "    <tr>\n",
       "      <th>3</th>\n",
       "      <td>Matthews Inc</td>\n",
       "      <td>20083</td>\n",
       "    </tr>\n",
       "    <tr>\n",
       "      <th>4</th>\n",
       "      <td>Marshall-Holloway</td>\n",
       "      <td>19859</td>\n",
       "    </tr>\n",
       "    <tr>\n",
       "      <th>5</th>\n",
       "      <td>James and Sons</td>\n",
       "      <td>19868</td>\n",
       "    </tr>\n",
       "    <tr>\n",
       "      <th>6</th>\n",
       "      <td>Andrade LLC</td>\n",
       "      <td>19983</td>\n",
       "    </tr>\n",
       "    <tr>\n",
       "      <th>7</th>\n",
       "      <td>Wallace, Smith and Shepard</td>\n",
       "      <td>19364</td>\n",
       "    </tr>\n",
       "    <tr>\n",
       "      <th>8</th>\n",
       "      <td>Nelson-Li</td>\n",
       "      <td>20132</td>\n",
       "    </tr>\n",
       "    <tr>\n",
       "      <th>9</th>\n",
       "      <td>Johnston, Fleming and Tanner</td>\n",
       "      <td>19811</td>\n",
       "    </tr>\n",
       "    <tr>\n",
       "      <th>10</th>\n",
       "      <td>Thomas-Spencer</td>\n",
       "      <td>20142</td>\n",
       "    </tr>\n",
       "    <tr>\n",
       "      <th>11</th>\n",
       "      <td>Nichols-James</td>\n",
       "      <td>19911</td>\n",
       "    </tr>\n",
       "    <tr>\n",
       "      <th>12</th>\n",
       "      <td>Taylor-Ramos</td>\n",
       "      <td>20122</td>\n",
       "    </tr>\n",
       "    <tr>\n",
       "      <th>13</th>\n",
       "      <td>White, Mcclain and Cobb</td>\n",
       "      <td>20261</td>\n",
       "    </tr>\n",
       "    <tr>\n",
       "      <th>14</th>\n",
       "      <td>Scott Inc</td>\n",
       "      <td>20390</td>\n",
       "    </tr>\n",
       "  </tbody>\n",
       "</table>\n",
       "</div>"
      ],
      "text/plain": [
       "                      Company_Name  count_star()\n",
       "0                 Bullock-Carrillo         20063\n",
       "1   Campos, Reynolds and Mccormick         19927\n",
       "2         Baker, Allen and Edwards         20084\n",
       "3                     Matthews Inc         20083\n",
       "4                Marshall-Holloway         19859\n",
       "5                   James and Sons         19868\n",
       "6                      Andrade LLC         19983\n",
       "7       Wallace, Smith and Shepard         19364\n",
       "8                        Nelson-Li         20132\n",
       "9     Johnston, Fleming and Tanner         19811\n",
       "10                  Thomas-Spencer         20142\n",
       "11                   Nichols-James         19911\n",
       "12                    Taylor-Ramos         20122\n",
       "13         White, Mcclain and Cobb         20261\n",
       "14                       Scott Inc         20390"
      ]
     },
     "execution_count": 39,
     "metadata": {},
     "output_type": "execute_result"
    }
   ],
   "source": [
    "_dntk.execute_sql(\n",
    "  'SELECT Company_Name, COUNT(*) FROM data GROUP BY Company_Name;',\n",
    "  'SQL_DEEPNOTE_DATAFRAME_SQL',\n",
    "  audit_sql_comment='',\n",
    "  sql_cache_mode='cache_disabled',\n",
    "  return_variable_type='dataframe'\n",
    ")"
   ]
  },
  {
   "cell_type": "markdown",
   "metadata": {
    "cell_id": "1e206b3d64b34dd9848fc4216abc795d",
    "deepnote_cell_type": "text-cell-p",
    "formattedRanges": [],
    "is_collapsed": false,
    "tags": []
   },
   "source": [
    "2. Employee_Job_Title"
   ]
  },
  {
   "cell_type": "code",
   "execution_count": 41,
   "metadata": {
    "cell_id": "5ab2aa7f33774134bcbef01fdfb9ad64",
    "deepnote_cell_type": "sql",
    "deepnote_sql_source": "SELECT Employee_Job_Title, COUNT(*) FROM data GROUP BY Employee_Job_Title;",
    "deepnote_to_be_reexecuted": false,
    "execution_context_id": "8d5aeb66-3e5b-4f21-bed9-e7072f51afce",
    "execution_millis": 48,
    "execution_start": 1742964025085,
    "source_hash": "e76e3c27",
    "sql_integration_id": "deepnote-dataframe-sql",
    "tags": []
   },
   "outputs": [
    {
     "data": {
      "application/vnd.deepnote.dataframe.v3+json": {
       "column_count": 2,
       "columns": [
        {
         "dtype": "object",
         "name": "Employee_Job_Title",
         "stats": {
          "categories": [
           {
            "count": 1,
            "name": "Equities trader"
           },
           {
            "count": 1,
            "name": "Diplomatic Services operational officer"
           },
           {
            "count": 17,
            "name": "17 others"
           }
          ],
          "nan_count": 0,
          "unique_count": 19
         }
        },
        {
         "dtype": "int64",
         "name": "count_star()",
         "stats": {
          "histogram": [
           {
            "bin_end": 16280.6,
            "bin_start": 14741,
            "count": 18
           },
           {
            "bin_end": 17820.2,
            "bin_start": 16280.6,
            "count": 0
           },
           {
            "bin_end": 19359.8,
            "bin_start": 17820.2,
            "count": 0
           },
           {
            "bin_end": 20899.4,
            "bin_start": 19359.8,
            "count": 0
           },
           {
            "bin_end": 22439,
            "bin_start": 20899.4,
            "count": 0
           },
           {
            "bin_end": 23978.6,
            "bin_start": 22439,
            "count": 0
           },
           {
            "bin_end": 25518.199999999997,
            "bin_start": 23978.6,
            "count": 0
           },
           {
            "bin_end": 27057.8,
            "bin_start": 25518.199999999997,
            "count": 0
           },
           {
            "bin_end": 28597.4,
            "bin_start": 27057.8,
            "count": 0
           },
           {
            "bin_end": 30137,
            "bin_start": 28597.4,
            "count": 1
           }
          ],
          "max": "30137",
          "min": "14741",
          "nan_count": 0,
          "unique_count": 18
         }
        },
        {
         "dtype": "int64",
         "name": "_deepnote_index_column"
        }
       ],
       "row_count": 19,
       "rows": [
        {
         "Employee_Job_Title": "Equities trader",
         "_deepnote_index_column": 0,
         "count_star()": 15000
        },
        {
         "Employee_Job_Title": "Diplomatic Services operational officer",
         "_deepnote_index_column": 1,
         "count_star()": 30137
        },
        {
         "Employee_Job_Title": "Production engineer",
         "_deepnote_index_column": 2,
         "count_star()": 15003
        },
        {
         "Employee_Job_Title": "Naval architect",
         "_deepnote_index_column": 3,
         "count_star()": 14905
        },
        {
         "Employee_Job_Title": "Radiographer, therapeutic",
         "_deepnote_index_column": 4,
         "count_star()": 14882
        },
        {
         "Employee_Job_Title": "Ergonomist",
         "_deepnote_index_column": 5,
         "count_star()": 15006
        },
        {
         "Employee_Job_Title": "Investment banker, corporate",
         "_deepnote_index_column": 6,
         "count_star()": 15008
        },
        {
         "Employee_Job_Title": "Patent examiner",
         "_deepnote_index_column": 7,
         "count_star()": 15085
        },
        {
         "Employee_Job_Title": "Actuary",
         "_deepnote_index_column": 8,
         "count_star()": 15030
        },
        {
         "Employee_Job_Title": "Armed forces logistics/support/administrative officer",
         "_deepnote_index_column": 9,
         "count_star()": 15050
        }
       ],
       "type": "dataframe"
      },
      "text/html": [
       "<div>\n",
       "<style scoped>\n",
       "    .dataframe tbody tr th:only-of-type {\n",
       "        vertical-align: middle;\n",
       "    }\n",
       "\n",
       "    .dataframe tbody tr th {\n",
       "        vertical-align: top;\n",
       "    }\n",
       "\n",
       "    .dataframe thead th {\n",
       "        text-align: right;\n",
       "    }\n",
       "</style>\n",
       "<table border=\"1\" class=\"dataframe\">\n",
       "  <thead>\n",
       "    <tr style=\"text-align: right;\">\n",
       "      <th></th>\n",
       "      <th>Employee_Job_Title</th>\n",
       "      <th>count_star()</th>\n",
       "    </tr>\n",
       "  </thead>\n",
       "  <tbody>\n",
       "    <tr>\n",
       "      <th>0</th>\n",
       "      <td>Equities trader</td>\n",
       "      <td>15000</td>\n",
       "    </tr>\n",
       "    <tr>\n",
       "      <th>1</th>\n",
       "      <td>Diplomatic Services operational officer</td>\n",
       "      <td>30137</td>\n",
       "    </tr>\n",
       "    <tr>\n",
       "      <th>2</th>\n",
       "      <td>Production engineer</td>\n",
       "      <td>15003</td>\n",
       "    </tr>\n",
       "    <tr>\n",
       "      <th>3</th>\n",
       "      <td>Naval architect</td>\n",
       "      <td>14905</td>\n",
       "    </tr>\n",
       "    <tr>\n",
       "      <th>4</th>\n",
       "      <td>Radiographer, therapeutic</td>\n",
       "      <td>14882</td>\n",
       "    </tr>\n",
       "    <tr>\n",
       "      <th>5</th>\n",
       "      <td>Ergonomist</td>\n",
       "      <td>15006</td>\n",
       "    </tr>\n",
       "    <tr>\n",
       "      <th>6</th>\n",
       "      <td>Investment banker, corporate</td>\n",
       "      <td>15008</td>\n",
       "    </tr>\n",
       "    <tr>\n",
       "      <th>7</th>\n",
       "      <td>Patent examiner</td>\n",
       "      <td>15085</td>\n",
       "    </tr>\n",
       "    <tr>\n",
       "      <th>8</th>\n",
       "      <td>Actuary</td>\n",
       "      <td>15030</td>\n",
       "    </tr>\n",
       "    <tr>\n",
       "      <th>9</th>\n",
       "      <td>Armed forces logistics/support/administrative ...</td>\n",
       "      <td>15050</td>\n",
       "    </tr>\n",
       "    <tr>\n",
       "      <th>10</th>\n",
       "      <td>Administrator</td>\n",
       "      <td>15222</td>\n",
       "    </tr>\n",
       "    <tr>\n",
       "      <th>11</th>\n",
       "      <td>Optometrist</td>\n",
       "      <td>14838</td>\n",
       "    </tr>\n",
       "    <tr>\n",
       "      <th>12</th>\n",
       "      <td>Energy manager</td>\n",
       "      <td>15033</td>\n",
       "    </tr>\n",
       "    <tr>\n",
       "      <th>13</th>\n",
       "      <td>Regulatory affairs officer</td>\n",
       "      <td>14869</td>\n",
       "    </tr>\n",
       "    <tr>\n",
       "      <th>14</th>\n",
       "      <td>Make</td>\n",
       "      <td>14741</td>\n",
       "    </tr>\n",
       "    <tr>\n",
       "      <th>15</th>\n",
       "      <td>Garment/textile technologist</td>\n",
       "      <td>15183</td>\n",
       "    </tr>\n",
       "    <tr>\n",
       "      <th>16</th>\n",
       "      <td>Sales promotion account executive</td>\n",
       "      <td>14820</td>\n",
       "    </tr>\n",
       "    <tr>\n",
       "      <th>17</th>\n",
       "      <td>Trading standards officer</td>\n",
       "      <td>15155</td>\n",
       "    </tr>\n",
       "    <tr>\n",
       "      <th>18</th>\n",
       "      <td>Retail merchandiser</td>\n",
       "      <td>15033</td>\n",
       "    </tr>\n",
       "  </tbody>\n",
       "</table>\n",
       "</div>"
      ],
      "text/plain": [
       "                                   Employee_Job_Title  count_star()\n",
       "0                                     Equities trader         15000\n",
       "1             Diplomatic Services operational officer         30137\n",
       "2                                 Production engineer         15003\n",
       "3                                     Naval architect         14905\n",
       "4                           Radiographer, therapeutic         14882\n",
       "5                                          Ergonomist         15006\n",
       "6                        Investment banker, corporate         15008\n",
       "7                                     Patent examiner         15085\n",
       "8                                             Actuary         15030\n",
       "9   Armed forces logistics/support/administrative ...         15050\n",
       "10                                      Administrator         15222\n",
       "11                                        Optometrist         14838\n",
       "12                                     Energy manager         15033\n",
       "13                         Regulatory affairs officer         14869\n",
       "14                                               Make         14741\n",
       "15                       Garment/textile technologist         15183\n",
       "16                  Sales promotion account executive         14820\n",
       "17                          Trading standards officer         15155\n",
       "18                                Retail merchandiser         15033"
      ]
     },
     "execution_count": 41,
     "metadata": {},
     "output_type": "execute_result"
    }
   ],
   "source": [
    "_dntk.execute_sql(\n",
    "  'SELECT Employee_Job_Title, COUNT(*) FROM data GROUP BY Employee_Job_Title;',\n",
    "  'SQL_DEEPNOTE_DATAFRAME_SQL',\n",
    "  audit_sql_comment='',\n",
    "  sql_cache_mode='cache_disabled',\n",
    "  return_variable_type='dataframe'\n",
    ")"
   ]
  },
  {
   "cell_type": "markdown",
   "metadata": {
    "cell_id": "3f3353c70c77456d8861406effe5de30",
    "deepnote_cell_type": "text-cell-p",
    "formattedRanges": [],
    "is_collapsed": false,
    "tags": []
   },
   "source": [
    "3. Employee_City"
   ]
  },
  {
   "cell_type": "code",
   "execution_count": 43,
   "metadata": {
    "cell_id": "8eadb7799405422fbe7e0abbc4390387",
    "deepnote_cell_type": "sql",
    "deepnote_sql_source": "SELECT Employee_City, COUNT(*) FROM data GROUP BY Employee_City;",
    "deepnote_to_be_reexecuted": false,
    "execution_context_id": "8d5aeb66-3e5b-4f21-bed9-e7072f51afce",
    "execution_millis": 88,
    "execution_start": 1742964041427,
    "source_hash": "a339b3ef",
    "sql_integration_id": "deepnote-dataframe-sql",
    "tags": []
   },
   "outputs": [
    {
     "data": {
      "application/vnd.deepnote.dataframe.v3+json": {
       "column_count": 2,
       "columns": [
        {
         "dtype": "object",
         "name": "Employee_City",
         "stats": {
          "categories": [
           {
            "count": 1,
            "name": "Wardfort"
           },
           {
            "count": 1,
            "name": "West Jamesview"
           },
           {
            "count": 8,
            "name": "8 others"
           }
          ],
          "nan_count": 0,
          "unique_count": 10
         }
        },
        {
         "dtype": "int64",
         "name": "count_star()",
         "stats": {
          "histogram": [
           {
            "bin_end": 29801.3,
            "bin_start": 29756,
            "count": 1
           },
           {
            "bin_end": 29846.6,
            "bin_start": 29801.3,
            "count": 0
           },
           {
            "bin_end": 29891.9,
            "bin_start": 29846.6,
            "count": 2
           },
           {
            "bin_end": 29937.2,
            "bin_start": 29891.9,
            "count": 0
           },
           {
            "bin_end": 29982.5,
            "bin_start": 29937.2,
            "count": 1
           },
           {
            "bin_end": 30027.8,
            "bin_start": 29982.5,
            "count": 1
           },
           {
            "bin_end": 30073.1,
            "bin_start": 30027.8,
            "count": 2
           },
           {
            "bin_end": 30118.4,
            "bin_start": 30073.1,
            "count": 1
           },
           {
            "bin_end": 30163.7,
            "bin_start": 30118.4,
            "count": 0
           },
           {
            "bin_end": 30209,
            "bin_start": 30163.7,
            "count": 2
           }
          ],
          "max": "30209",
          "min": "29756",
          "nan_count": 0,
          "unique_count": 10
         }
        },
        {
         "dtype": "int64",
         "name": "_deepnote_index_column"
        }
       ],
       "row_count": 10,
       "rows": [
        {
         "Employee_City": "Wardfort",
         "_deepnote_index_column": 0,
         "count_star()": 30097
        },
        {
         "Employee_City": "West Jamesview",
         "_deepnote_index_column": 1,
         "count_star()": 29941
        },
        {
         "Employee_City": "Whiteside",
         "_deepnote_index_column": 2,
         "count_star()": 29849
        },
        {
         "Employee_City": "Kristaburgh",
         "_deepnote_index_column": 3,
         "count_star()": 30204
        },
        {
         "Employee_City": "New Cindychester",
         "_deepnote_index_column": 4,
         "count_star()": 29756
        },
        {
         "Employee_City": "Whitakerbury",
         "_deepnote_index_column": 5,
         "count_star()": 29854
        },
        {
         "Employee_City": "Aliciafort",
         "_deepnote_index_column": 6,
         "count_star()": 30037
        },
        {
         "Employee_City": "New Russellton",
         "_deepnote_index_column": 7,
         "count_star()": 30001
        },
        {
         "Employee_City": "North Melissafurt",
         "_deepnote_index_column": 8,
         "count_star()": 30209
        },
        {
         "Employee_City": "Ricardomouth",
         "_deepnote_index_column": 9,
         "count_star()": 30052
        }
       ],
       "type": "dataframe"
      },
      "text/html": [
       "<div>\n",
       "<style scoped>\n",
       "    .dataframe tbody tr th:only-of-type {\n",
       "        vertical-align: middle;\n",
       "    }\n",
       "\n",
       "    .dataframe tbody tr th {\n",
       "        vertical-align: top;\n",
       "    }\n",
       "\n",
       "    .dataframe thead th {\n",
       "        text-align: right;\n",
       "    }\n",
       "</style>\n",
       "<table border=\"1\" class=\"dataframe\">\n",
       "  <thead>\n",
       "    <tr style=\"text-align: right;\">\n",
       "      <th></th>\n",
       "      <th>Employee_City</th>\n",
       "      <th>count_star()</th>\n",
       "    </tr>\n",
       "  </thead>\n",
       "  <tbody>\n",
       "    <tr>\n",
       "      <th>0</th>\n",
       "      <td>Wardfort</td>\n",
       "      <td>30097</td>\n",
       "    </tr>\n",
       "    <tr>\n",
       "      <th>1</th>\n",
       "      <td>West Jamesview</td>\n",
       "      <td>29941</td>\n",
       "    </tr>\n",
       "    <tr>\n",
       "      <th>2</th>\n",
       "      <td>Whiteside</td>\n",
       "      <td>29849</td>\n",
       "    </tr>\n",
       "    <tr>\n",
       "      <th>3</th>\n",
       "      <td>Kristaburgh</td>\n",
       "      <td>30204</td>\n",
       "    </tr>\n",
       "    <tr>\n",
       "      <th>4</th>\n",
       "      <td>New Cindychester</td>\n",
       "      <td>29756</td>\n",
       "    </tr>\n",
       "    <tr>\n",
       "      <th>5</th>\n",
       "      <td>Whitakerbury</td>\n",
       "      <td>29854</td>\n",
       "    </tr>\n",
       "    <tr>\n",
       "      <th>6</th>\n",
       "      <td>Aliciafort</td>\n",
       "      <td>30037</td>\n",
       "    </tr>\n",
       "    <tr>\n",
       "      <th>7</th>\n",
       "      <td>New Russellton</td>\n",
       "      <td>30001</td>\n",
       "    </tr>\n",
       "    <tr>\n",
       "      <th>8</th>\n",
       "      <td>North Melissafurt</td>\n",
       "      <td>30209</td>\n",
       "    </tr>\n",
       "    <tr>\n",
       "      <th>9</th>\n",
       "      <td>Ricardomouth</td>\n",
       "      <td>30052</td>\n",
       "    </tr>\n",
       "  </tbody>\n",
       "</table>\n",
       "</div>"
      ],
      "text/plain": [
       "       Employee_City  count_star()\n",
       "0           Wardfort         30097\n",
       "1     West Jamesview         29941\n",
       "2          Whiteside         29849\n",
       "3        Kristaburgh         30204\n",
       "4   New Cindychester         29756\n",
       "5       Whitakerbury         29854\n",
       "6         Aliciafort         30037\n",
       "7     New Russellton         30001\n",
       "8  North Melissafurt         30209\n",
       "9       Ricardomouth         30052"
      ]
     },
     "execution_count": 43,
     "metadata": {},
     "output_type": "execute_result"
    }
   ],
   "source": [
    "_dntk.execute_sql(\n",
    "  'SELECT Employee_City, COUNT(*) FROM data GROUP BY Employee_City;',\n",
    "  'SQL_DEEPNOTE_DATAFRAME_SQL',\n",
    "  audit_sql_comment='',\n",
    "  sql_cache_mode='cache_disabled',\n",
    "  return_variable_type='dataframe'\n",
    ")"
   ]
  },
  {
   "cell_type": "markdown",
   "metadata": {
    "cell_id": "97e55a1a9aaa4476b6cd37d0950d87bc",
    "deepnote_cell_type": "text-cell-p",
    "formattedRanges": [],
    "is_collapsed": false,
    "tags": []
   },
   "source": [
    "4. Employee_Country"
   ]
  },
  {
   "cell_type": "code",
   "execution_count": 45,
   "metadata": {
    "cell_id": "04ebb01373884834b726b03d9fa2419c",
    "deepnote_cell_type": "sql",
    "deepnote_sql_source": "SELECT Employee_Country, COUNT(*) FROM data GROUP BY Employee_Country;",
    "deepnote_to_be_reexecuted": false,
    "execution_context_id": "8d5aeb66-3e5b-4f21-bed9-e7072f51afce",
    "execution_millis": 19,
    "execution_start": 1742964061867,
    "source_hash": "49ba31ff",
    "sql_integration_id": "deepnote-dataframe-sql",
    "tags": []
   },
   "outputs": [
    {
     "data": {
      "application/vnd.deepnote.dataframe.v3+json": {
       "column_count": 2,
       "columns": [
        {
         "dtype": "object",
         "name": "Employee_Country",
         "stats": {
          "categories": [
           {
            "count": 1,
            "name": "Palestinian Territory"
           },
           {
            "count": 1,
            "name": "Marshall Islands"
           },
           {
            "count": 241,
            "name": "241 others"
           }
          ],
          "nan_count": 0,
          "unique_count": 243
         }
        },
        {
         "dtype": "int64",
         "name": "count_star()",
         "stats": {
          "histogram": [
           {
            "bin_end": 1261,
            "bin_start": 1133,
            "count": 199
           },
           {
            "bin_end": 1389,
            "bin_start": 1261,
            "count": 42
           },
           {
            "bin_end": 1517,
            "bin_start": 1389,
            "count": 0
           },
           {
            "bin_end": 1645,
            "bin_start": 1517,
            "count": 0
           },
           {
            "bin_end": 1773,
            "bin_start": 1645,
            "count": 0
           },
           {
            "bin_end": 1901,
            "bin_start": 1773,
            "count": 0
           },
           {
            "bin_end": 2029,
            "bin_start": 1901,
            "count": 0
           },
           {
            "bin_end": 2157,
            "bin_start": 2029,
            "count": 0
           },
           {
            "bin_end": 2285,
            "bin_start": 2157,
            "count": 0
           },
           {
            "bin_end": 2413,
            "bin_start": 2285,
            "count": 2
           }
          ],
          "max": "2413",
          "min": "1133",
          "nan_count": 0,
          "unique_count": 118
         }
        },
        {
         "dtype": "int64",
         "name": "_deepnote_index_column"
        }
       ],
       "row_count": 243,
       "rows": [
        {
         "Employee_Country": "Palestinian Territory",
         "_deepnote_index_column": 0,
         "count_star()": 1201
        },
        {
         "Employee_Country": "Marshall Islands",
         "_deepnote_index_column": 1,
         "count_star()": 1293
        },
        {
         "Employee_Country": "Syrian Arab Republic",
         "_deepnote_index_column": 2,
         "count_star()": 1200
        },
        {
         "Employee_Country": "Dominica",
         "_deepnote_index_column": 3,
         "count_star()": 1284
        },
        {
         "Employee_Country": "Mali",
         "_deepnote_index_column": 4,
         "count_star()": 1241
        },
        {
         "Employee_Country": "Aruba",
         "_deepnote_index_column": 5,
         "count_star()": 1244
        },
        {
         "Employee_Country": "Kuwait",
         "_deepnote_index_column": 6,
         "count_star()": 1257
        },
        {
         "Employee_Country": "Lao People's Democratic Republic",
         "_deepnote_index_column": 7,
         "count_star()": 1238
        },
        {
         "Employee_Country": "Poland",
         "_deepnote_index_column": 8,
         "count_star()": 1214
        },
        {
         "Employee_Country": "Niger",
         "_deepnote_index_column": 9,
         "count_star()": 1185
        }
       ],
       "type": "dataframe"
      },
      "text/html": [
       "<div>\n",
       "<style scoped>\n",
       "    .dataframe tbody tr th:only-of-type {\n",
       "        vertical-align: middle;\n",
       "    }\n",
       "\n",
       "    .dataframe tbody tr th {\n",
       "        vertical-align: top;\n",
       "    }\n",
       "\n",
       "    .dataframe thead th {\n",
       "        text-align: right;\n",
       "    }\n",
       "</style>\n",
       "<table border=\"1\" class=\"dataframe\">\n",
       "  <thead>\n",
       "    <tr style=\"text-align: right;\">\n",
       "      <th></th>\n",
       "      <th>Employee_Country</th>\n",
       "      <th>count_star()</th>\n",
       "    </tr>\n",
       "  </thead>\n",
       "  <tbody>\n",
       "    <tr>\n",
       "      <th>0</th>\n",
       "      <td>Palestinian Territory</td>\n",
       "      <td>1201</td>\n",
       "    </tr>\n",
       "    <tr>\n",
       "      <th>1</th>\n",
       "      <td>Marshall Islands</td>\n",
       "      <td>1293</td>\n",
       "    </tr>\n",
       "    <tr>\n",
       "      <th>2</th>\n",
       "      <td>Syrian Arab Republic</td>\n",
       "      <td>1200</td>\n",
       "    </tr>\n",
       "    <tr>\n",
       "      <th>3</th>\n",
       "      <td>Dominica</td>\n",
       "      <td>1284</td>\n",
       "    </tr>\n",
       "    <tr>\n",
       "      <th>4</th>\n",
       "      <td>Mali</td>\n",
       "      <td>1241</td>\n",
       "    </tr>\n",
       "    <tr>\n",
       "      <th>...</th>\n",
       "      <td>...</td>\n",
       "      <td>...</td>\n",
       "    </tr>\n",
       "    <tr>\n",
       "      <th>238</th>\n",
       "      <td>Swaziland</td>\n",
       "      <td>1186</td>\n",
       "    </tr>\n",
       "    <tr>\n",
       "      <th>239</th>\n",
       "      <td>Qatar</td>\n",
       "      <td>1232</td>\n",
       "    </tr>\n",
       "    <tr>\n",
       "      <th>240</th>\n",
       "      <td>Vietnam</td>\n",
       "      <td>1180</td>\n",
       "    </tr>\n",
       "    <tr>\n",
       "      <th>241</th>\n",
       "      <td>Cameroon</td>\n",
       "      <td>1234</td>\n",
       "    </tr>\n",
       "    <tr>\n",
       "      <th>242</th>\n",
       "      <td>Turkmenistan</td>\n",
       "      <td>1215</td>\n",
       "    </tr>\n",
       "  </tbody>\n",
       "</table>\n",
       "<p>243 rows × 2 columns</p>\n",
       "</div>"
      ],
      "text/plain": [
       "          Employee_Country  count_star()\n",
       "0    Palestinian Territory          1201\n",
       "1         Marshall Islands          1293\n",
       "2     Syrian Arab Republic          1200\n",
       "3                 Dominica          1284\n",
       "4                     Mali          1241\n",
       "..                     ...           ...\n",
       "238              Swaziland          1186\n",
       "239                  Qatar          1232\n",
       "240                Vietnam          1180\n",
       "241               Cameroon          1234\n",
       "242           Turkmenistan          1215\n",
       "\n",
       "[243 rows x 2 columns]"
      ]
     },
     "execution_count": 45,
     "metadata": {},
     "output_type": "execute_result"
    }
   ],
   "source": [
    "_dntk.execute_sql(\n",
    "  'SELECT Employee_Country, COUNT(*) FROM data GROUP BY Employee_Country;',\n",
    "  'SQL_DEEPNOTE_DATAFRAME_SQL',\n",
    "  audit_sql_comment='',\n",
    "  sql_cache_mode='cache_disabled',\n",
    "  return_variable_type='dataframe'\n",
    ")"
   ]
  },
  {
   "cell_type": "markdown",
   "metadata": {
    "cell_id": "36c6cfc308434de880c523b0ee587e8b",
    "deepnote_cell_type": "text-cell-p",
    "formattedRanges": [],
    "is_collapsed": false,
    "tags": []
   },
   "source": [
    "5. Employment_Status"
   ]
  },
  {
   "cell_type": "code",
   "execution_count": 47,
   "metadata": {
    "cell_id": "38f16417e42a4bea885820c9ecc8ebde",
    "deepnote_cell_type": "sql",
    "deepnote_sql_source": "SELECT Employment_Status, COUNT(*) FROM data GROUP BY Employment_Status;",
    "deepnote_to_be_reexecuted": false,
    "execution_context_id": "8d5aeb66-3e5b-4f21-bed9-e7072f51afce",
    "execution_millis": 9,
    "execution_start": 1742964087145,
    "source_hash": "d681d16f",
    "sql_integration_id": "deepnote-dataframe-sql",
    "tags": []
   },
   "outputs": [
    {
     "data": {
      "application/vnd.deepnote.dataframe.v3+json": {
       "column_count": 2,
       "columns": [
        {
         "dtype": "object",
         "name": "Employment_Status",
         "stats": {
          "categories": [
           {
            "count": 1,
            "name": "Full Time"
           },
           {
            "count": 1,
            "name": "Intern"
           }
          ],
          "nan_count": 0,
          "unique_count": 2
         }
        },
        {
         "dtype": "int64",
         "name": "count_star()",
         "stats": {
          "histogram": [
           {
            "bin_end": 77992,
            "bin_start": 59990,
            "count": 1
           },
           {
            "bin_end": 95994,
            "bin_start": 77992,
            "count": 0
           },
           {
            "bin_end": 113996,
            "bin_start": 95994,
            "count": 0
           },
           {
            "bin_end": 131998,
            "bin_start": 113996,
            "count": 0
           },
           {
            "bin_end": 150000,
            "bin_start": 131998,
            "count": 0
           },
           {
            "bin_end": 168002,
            "bin_start": 150000,
            "count": 0
           },
           {
            "bin_end": 186004,
            "bin_start": 168002,
            "count": 0
           },
           {
            "bin_end": 204006,
            "bin_start": 186004,
            "count": 0
           },
           {
            "bin_end": 222008,
            "bin_start": 204006,
            "count": 0
           },
           {
            "bin_end": 240010,
            "bin_start": 222008,
            "count": 1
           }
          ],
          "max": "240010",
          "min": "59990",
          "nan_count": 0,
          "unique_count": 2
         }
        },
        {
         "dtype": "int64",
         "name": "_deepnote_index_column"
        }
       ],
       "row_count": 2,
       "rows": [
        {
         "Employment_Status": "Full Time",
         "_deepnote_index_column": 0,
         "count_star()": 240010
        },
        {
         "Employment_Status": "Intern",
         "_deepnote_index_column": 1,
         "count_star()": 59990
        }
       ],
       "type": "dataframe"
      },
      "text/html": [
       "<div>\n",
       "<style scoped>\n",
       "    .dataframe tbody tr th:only-of-type {\n",
       "        vertical-align: middle;\n",
       "    }\n",
       "\n",
       "    .dataframe tbody tr th {\n",
       "        vertical-align: top;\n",
       "    }\n",
       "\n",
       "    .dataframe thead th {\n",
       "        text-align: right;\n",
       "    }\n",
       "</style>\n",
       "<table border=\"1\" class=\"dataframe\">\n",
       "  <thead>\n",
       "    <tr style=\"text-align: right;\">\n",
       "      <th></th>\n",
       "      <th>Employment_Status</th>\n",
       "      <th>count_star()</th>\n",
       "    </tr>\n",
       "  </thead>\n",
       "  <tbody>\n",
       "    <tr>\n",
       "      <th>0</th>\n",
       "      <td>Full Time</td>\n",
       "      <td>240010</td>\n",
       "    </tr>\n",
       "    <tr>\n",
       "      <th>1</th>\n",
       "      <td>Intern</td>\n",
       "      <td>59990</td>\n",
       "    </tr>\n",
       "  </tbody>\n",
       "</table>\n",
       "</div>"
      ],
      "text/plain": [
       "  Employment_Status  count_star()\n",
       "0         Full Time        240010\n",
       "1            Intern         59990"
      ]
     },
     "execution_count": 47,
     "metadata": {},
     "output_type": "execute_result"
    }
   ],
   "source": [
    "_dntk.execute_sql(\n",
    "  'SELECT Employment_Status, COUNT(*) FROM data GROUP BY Employment_Status;',\n",
    "  'SQL_DEEPNOTE_DATAFRAME_SQL',\n",
    "  audit_sql_comment='',\n",
    "  sql_cache_mode='cache_disabled',\n",
    "  return_variable_type='dataframe'\n",
    ")"
   ]
  },
  {
   "cell_type": "markdown",
   "metadata": {
    "cell_id": "223827c347c8478e8c567fceb44c22b1",
    "deepnote_cell_type": "text-cell-h3",
    "formattedRanges": [],
    "is_collapsed": false,
    "tags": []
   },
   "source": [
    "### 33. Print the company with the most number of employees."
   ]
  },
  {
   "cell_type": "code",
   "execution_count": 51,
   "metadata": {
    "cell_id": "40d0b3eaa6bd4bb88ee39ca1a8e92c31",
    "deepnote_cell_type": "sql",
    "deepnote_sql_source": "SELECT Company_Name, Count(*) AS Employees from data GROUP BY Company_Name ORDER BY Employees desc LIMIT 1;",
    "deepnote_to_be_reexecuted": false,
    "execution_context_id": "8d5aeb66-3e5b-4f21-bed9-e7072f51afce",
    "execution_millis": 25,
    "execution_start": 1742964195445,
    "source_hash": "7c51b115",
    "sql_integration_id": "deepnote-dataframe-sql",
    "tags": []
   },
   "outputs": [
    {
     "data": {
      "application/vnd.deepnote.dataframe.v3+json": {
       "column_count": 2,
       "columns": [
        {
         "dtype": "object",
         "name": "Company_Name",
         "stats": {
          "categories": [
           {
            "count": 1,
            "name": "Scott Inc"
           }
          ],
          "nan_count": 0,
          "unique_count": 1
         }
        },
        {
         "dtype": "int64",
         "name": "Employees",
         "stats": {
          "histogram": [
           {
            "bin_end": 20389.6,
            "bin_start": 20389.5,
            "count": 0
           },
           {
            "bin_end": 20389.7,
            "bin_start": 20389.6,
            "count": 0
           },
           {
            "bin_end": 20389.8,
            "bin_start": 20389.7,
            "count": 0
           },
           {
            "bin_end": 20389.9,
            "bin_start": 20389.8,
            "count": 0
           },
           {
            "bin_end": 20390,
            "bin_start": 20389.9,
            "count": 0
           },
           {
            "bin_end": 20390.1,
            "bin_start": 20390,
            "count": 1
           },
           {
            "bin_end": 20390.2,
            "bin_start": 20390.1,
            "count": 0
           },
           {
            "bin_end": 20390.3,
            "bin_start": 20390.2,
            "count": 0
           },
           {
            "bin_end": 20390.4,
            "bin_start": 20390.3,
            "count": 0
           },
           {
            "bin_end": 20390.5,
            "bin_start": 20390.4,
            "count": 0
           }
          ],
          "max": "20390",
          "min": "20390",
          "nan_count": 0,
          "unique_count": 1
         }
        },
        {
         "dtype": "int64",
         "name": "_deepnote_index_column"
        }
       ],
       "row_count": 1,
       "rows": [
        {
         "Company_Name": "Scott Inc",
         "Employees": 20390,
         "_deepnote_index_column": 0
        }
       ],
       "type": "dataframe"
      },
      "text/html": [
       "<div>\n",
       "<style scoped>\n",
       "    .dataframe tbody tr th:only-of-type {\n",
       "        vertical-align: middle;\n",
       "    }\n",
       "\n",
       "    .dataframe tbody tr th {\n",
       "        vertical-align: top;\n",
       "    }\n",
       "\n",
       "    .dataframe thead th {\n",
       "        text-align: right;\n",
       "    }\n",
       "</style>\n",
       "<table border=\"1\" class=\"dataframe\">\n",
       "  <thead>\n",
       "    <tr style=\"text-align: right;\">\n",
       "      <th></th>\n",
       "      <th>Company_Name</th>\n",
       "      <th>Employees</th>\n",
       "    </tr>\n",
       "  </thead>\n",
       "  <tbody>\n",
       "    <tr>\n",
       "      <th>0</th>\n",
       "      <td>Scott Inc</td>\n",
       "      <td>20390</td>\n",
       "    </tr>\n",
       "  </tbody>\n",
       "</table>\n",
       "</div>"
      ],
      "text/plain": [
       "  Company_Name  Employees\n",
       "0    Scott Inc      20390"
      ]
     },
     "execution_count": 51,
     "metadata": {},
     "output_type": "execute_result"
    }
   ],
   "source": [
    "_dntk.execute_sql(\n",
    "  'SELECT Company_Name, Count(*) AS Employees from data GROUP BY Company_Name ORDER BY Employees desc LIMIT 1;',\n",
    "  'SQL_DEEPNOTE_DATAFRAME_SQL',\n",
    "  audit_sql_comment='',\n",
    "  sql_cache_mode='cache_disabled',\n",
    "  return_variable_type='dataframe'\n",
    ")"
   ]
  },
  {
   "cell_type": "markdown",
   "metadata": {
    "cell_id": "61bd1ccac3354bc284699de889bf7e94",
    "deepnote_cell_type": "text-cell-h3",
    "formattedRanges": [],
    "is_collapsed": false,
    "tags": []
   },
   "source": [
    "### 34. Print the number of employees in the above company. "
   ]
  },
  {
   "cell_type": "code",
   "execution_count": 53,
   "metadata": {
    "cell_id": "8c28516fea3a413385e0e44a2459eaf8",
    "deepnote_cell_type": "sql",
    "deepnote_sql_source": "SELECT COUNT(*) FROM data where Company_Name='Scott Inc';",
    "deepnote_to_be_reexecuted": false,
    "execution_context_id": "8d5aeb66-3e5b-4f21-bed9-e7072f51afce",
    "execution_millis": 53,
    "execution_start": 1742964374885,
    "source_hash": "c01f8d4d",
    "sql_integration_id": "deepnote-dataframe-sql",
    "tags": []
   },
   "outputs": [
    {
     "data": {
      "application/vnd.deepnote.dataframe.v3+json": {
       "column_count": 1,
       "columns": [
        {
         "dtype": "int64",
         "name": "count_star()",
         "stats": {
          "histogram": [
           {
            "bin_end": 20389.6,
            "bin_start": 20389.5,
            "count": 0
           },
           {
            "bin_end": 20389.7,
            "bin_start": 20389.6,
            "count": 0
           },
           {
            "bin_end": 20389.8,
            "bin_start": 20389.7,
            "count": 0
           },
           {
            "bin_end": 20389.9,
            "bin_start": 20389.8,
            "count": 0
           },
           {
            "bin_end": 20390,
            "bin_start": 20389.9,
            "count": 0
           },
           {
            "bin_end": 20390.1,
            "bin_start": 20390,
            "count": 1
           },
           {
            "bin_end": 20390.2,
            "bin_start": 20390.1,
            "count": 0
           },
           {
            "bin_end": 20390.3,
            "bin_start": 20390.2,
            "count": 0
           },
           {
            "bin_end": 20390.4,
            "bin_start": 20390.3,
            "count": 0
           },
           {
            "bin_end": 20390.5,
            "bin_start": 20390.4,
            "count": 0
           }
          ],
          "max": "20390",
          "min": "20390",
          "nan_count": 0,
          "unique_count": 1
         }
        },
        {
         "dtype": "int64",
         "name": "_deepnote_index_column"
        }
       ],
       "row_count": 1,
       "rows": [
        {
         "_deepnote_index_column": 0,
         "count_star()": 20390
        }
       ],
       "type": "dataframe"
      },
      "text/html": [
       "<div>\n",
       "<style scoped>\n",
       "    .dataframe tbody tr th:only-of-type {\n",
       "        vertical-align: middle;\n",
       "    }\n",
       "\n",
       "    .dataframe tbody tr th {\n",
       "        vertical-align: top;\n",
       "    }\n",
       "\n",
       "    .dataframe thead th {\n",
       "        text-align: right;\n",
       "    }\n",
       "</style>\n",
       "<table border=\"1\" class=\"dataframe\">\n",
       "  <thead>\n",
       "    <tr style=\"text-align: right;\">\n",
       "      <th></th>\n",
       "      <th>count_star()</th>\n",
       "    </tr>\n",
       "  </thead>\n",
       "  <tbody>\n",
       "    <tr>\n",
       "      <th>0</th>\n",
       "      <td>20390</td>\n",
       "    </tr>\n",
       "  </tbody>\n",
       "</table>\n",
       "</div>"
      ],
      "text/plain": [
       "   count_star()\n",
       "0         20390"
      ]
     },
     "execution_count": 53,
     "metadata": {},
     "output_type": "execute_result"
    }
   ],
   "source": [
    "_dntk.execute_sql(\n",
    "  'SELECT COUNT(*) FROM data where Company_Name=\\'Scott Inc\\';',\n",
    "  'SQL_DEEPNOTE_DATAFRAME_SQL',\n",
    "  audit_sql_comment='',\n",
    "  sql_cache_mode='cache_disabled',\n",
    "  return_variable_type='dataframe'\n",
    ")"
   ]
  },
  {
   "cell_type": "markdown",
   "metadata": {
    "cell_id": "8416b58b75414276b04acaaaf41b1701",
    "deepnote_cell_type": "text-cell-h3",
    "formattedRanges": [],
    "is_collapsed": false,
    "tags": []
   },
   "source": [
    "### 35. Print the company with the least number of employees."
   ]
  },
  {
   "cell_type": "code",
   "execution_count": 55,
   "metadata": {
    "cell_id": "e2741e62a7a84e93986a549c39f8c524",
    "deepnote_cell_type": "sql",
    "deepnote_sql_source": "SELECT Company_Name from data GROUP BY Company_Name ORDER BY count(*) LIMIT 1;",
    "deepnote_to_be_reexecuted": false,
    "execution_context_id": "8d5aeb66-3e5b-4f21-bed9-e7072f51afce",
    "execution_millis": 2,
    "execution_start": 1742964429435,
    "source_hash": "edd8d8a6",
    "sql_integration_id": "deepnote-dataframe-sql",
    "tags": []
   },
   "outputs": [
    {
     "data": {
      "application/vnd.deepnote.dataframe.v3+json": {
       "column_count": 1,
       "columns": [
        {
         "dtype": "object",
         "name": "Company_Name",
         "stats": {
          "categories": [
           {
            "count": 1,
            "name": "Wallace, Smith and Shepard"
           }
          ],
          "nan_count": 0,
          "unique_count": 1
         }
        },
        {
         "dtype": "int64",
         "name": "_deepnote_index_column"
        }
       ],
       "row_count": 1,
       "rows": [
        {
         "Company_Name": "Wallace, Smith and Shepard",
         "_deepnote_index_column": 0
        }
       ],
       "type": "dataframe"
      },
      "text/html": [
       "<div>\n",
       "<style scoped>\n",
       "    .dataframe tbody tr th:only-of-type {\n",
       "        vertical-align: middle;\n",
       "    }\n",
       "\n",
       "    .dataframe tbody tr th {\n",
       "        vertical-align: top;\n",
       "    }\n",
       "\n",
       "    .dataframe thead th {\n",
       "        text-align: right;\n",
       "    }\n",
       "</style>\n",
       "<table border=\"1\" class=\"dataframe\">\n",
       "  <thead>\n",
       "    <tr style=\"text-align: right;\">\n",
       "      <th></th>\n",
       "      <th>Company_Name</th>\n",
       "    </tr>\n",
       "  </thead>\n",
       "  <tbody>\n",
       "    <tr>\n",
       "      <th>0</th>\n",
       "      <td>Wallace, Smith and Shepard</td>\n",
       "    </tr>\n",
       "  </tbody>\n",
       "</table>\n",
       "</div>"
      ],
      "text/plain": [
       "                 Company_Name\n",
       "0  Wallace, Smith and Shepard"
      ]
     },
     "execution_count": 55,
     "metadata": {},
     "output_type": "execute_result"
    }
   ],
   "source": [
    "_dntk.execute_sql(\n",
    "  'SELECT Company_Name from data GROUP BY Company_Name ORDER BY count(*) LIMIT 1;',\n",
    "  'SQL_DEEPNOTE_DATAFRAME_SQL',\n",
    "  audit_sql_comment='',\n",
    "  sql_cache_mode='cache_disabled',\n",
    "  return_variable_type='dataframe'\n",
    ")"
   ]
  },
  {
   "cell_type": "markdown",
   "metadata": {
    "cell_id": "2b8a5180f89a4578bcb6c9b9cac8df99",
    "deepnote_cell_type": "text-cell-h3",
    "formattedRanges": [],
    "is_collapsed": false,
    "tags": []
   },
   "source": [
    "### 36. Print the number of employees in the above company. "
   ]
  },
  {
   "cell_type": "code",
   "execution_count": 57,
   "metadata": {
    "cell_id": "466024a00f9c43c8b7674904022983cc",
    "deepnote_cell_type": "sql",
    "deepnote_sql_source": "SELECT count(*) from data WHERE Company_Name = 'Wallace, Smith and Shepard';",
    "deepnote_to_be_reexecuted": false,
    "execution_context_id": "8d5aeb66-3e5b-4f21-bed9-e7072f51afce",
    "execution_millis": 55,
    "execution_start": 1742964494865,
    "source_hash": "23772404",
    "sql_integration_id": "deepnote-dataframe-sql",
    "tags": []
   },
   "outputs": [
    {
     "data": {
      "application/vnd.deepnote.dataframe.v3+json": {
       "column_count": 1,
       "columns": [
        {
         "dtype": "int64",
         "name": "count_star()",
         "stats": {
          "histogram": [
           {
            "bin_end": 19363.6,
            "bin_start": 19363.5,
            "count": 0
           },
           {
            "bin_end": 19363.7,
            "bin_start": 19363.6,
            "count": 0
           },
           {
            "bin_end": 19363.8,
            "bin_start": 19363.7,
            "count": 0
           },
           {
            "bin_end": 19363.9,
            "bin_start": 19363.8,
            "count": 0
           },
           {
            "bin_end": 19364,
            "bin_start": 19363.9,
            "count": 0
           },
           {
            "bin_end": 19364.1,
            "bin_start": 19364,
            "count": 1
           },
           {
            "bin_end": 19364.2,
            "bin_start": 19364.1,
            "count": 0
           },
           {
            "bin_end": 19364.3,
            "bin_start": 19364.2,
            "count": 0
           },
           {
            "bin_end": 19364.4,
            "bin_start": 19364.3,
            "count": 0
           },
           {
            "bin_end": 19364.5,
            "bin_start": 19364.4,
            "count": 0
           }
          ],
          "max": "19364",
          "min": "19364",
          "nan_count": 0,
          "unique_count": 1
         }
        },
        {
         "dtype": "int64",
         "name": "_deepnote_index_column"
        }
       ],
       "row_count": 1,
       "rows": [
        {
         "_deepnote_index_column": 0,
         "count_star()": 19364
        }
       ],
       "type": "dataframe"
      },
      "text/html": [
       "<div>\n",
       "<style scoped>\n",
       "    .dataframe tbody tr th:only-of-type {\n",
       "        vertical-align: middle;\n",
       "    }\n",
       "\n",
       "    .dataframe tbody tr th {\n",
       "        vertical-align: top;\n",
       "    }\n",
       "\n",
       "    .dataframe thead th {\n",
       "        text-align: right;\n",
       "    }\n",
       "</style>\n",
       "<table border=\"1\" class=\"dataframe\">\n",
       "  <thead>\n",
       "    <tr style=\"text-align: right;\">\n",
       "      <th></th>\n",
       "      <th>count_star()</th>\n",
       "    </tr>\n",
       "  </thead>\n",
       "  <tbody>\n",
       "    <tr>\n",
       "      <th>0</th>\n",
       "      <td>19364</td>\n",
       "    </tr>\n",
       "  </tbody>\n",
       "</table>\n",
       "</div>"
      ],
      "text/plain": [
       "   count_star()\n",
       "0         19364"
      ]
     },
     "execution_count": 57,
     "metadata": {},
     "output_type": "execute_result"
    }
   ],
   "source": [
    "_dntk.execute_sql(\n",
    "  'SELECT count(*) from data WHERE Company_Name = \\'Wallace, Smith and Shepard\\';',\n",
    "  'SQL_DEEPNOTE_DATAFRAME_SQL',\n",
    "  audit_sql_comment='',\n",
    "  sql_cache_mode='cache_disabled',\n",
    "  return_variable_type='dataframe'\n",
    ")"
   ]
  },
  {
   "cell_type": "markdown",
   "metadata": {
    "cell_id": "099bf4d8100b45098ff72cb823bfd018",
    "deepnote_cell_type": "text-cell-h3",
    "formattedRanges": [],
    "is_collapsed": false,
    "tags": []
   },
   "source": [
    "### 37. Print the employee details with the maximum salary"
   ]
  },
  {
   "cell_type": "code",
   "execution_count": 71,
   "metadata": {
    "cell_id": "c24e3868165c40dc9d613253d0f6f999",
    "deepnote_cell_type": "sql",
    "deepnote_sql_source": "-- SELECT * FROM data ORDER BY Employee_Salary DESC LIMIT 1;\n\nSELECT * FROM data WHERE Employee_Salary = (select MAX(Employee_Salary) from data);",
    "deepnote_to_be_reexecuted": false,
    "execution_context_id": "8d5aeb66-3e5b-4f21-bed9-e7072f51afce",
    "execution_millis": 120,
    "execution_start": 1742965208685,
    "source_hash": "e4796aef",
    "sql_integration_id": "deepnote-dataframe-sql",
    "tags": []
   },
   "outputs": [
    {
     "data": {
      "application/vnd.deepnote.dataframe.v3+json": {
       "column_count": 8,
       "columns": [
        {
         "dtype": "object",
         "name": "Name",
         "stats": {
          "categories": [
           {
            "count": 1,
            "name": "Anna Lawson"
           }
          ],
          "nan_count": 0,
          "unique_count": 1
         }
        },
        {
         "dtype": "object",
         "name": "Company_Name",
         "stats": {
          "categories": [
           {
            "count": 1,
            "name": "Taylor-Ramos"
           }
          ],
          "nan_count": 0,
          "unique_count": 1
         }
        },
        {
         "dtype": "object",
         "name": "Employee_Job_Title",
         "stats": {
          "categories": [
           {
            "count": 1,
            "name": "Production engineer"
           }
          ],
          "nan_count": 0,
          "unique_count": 1
         }
        },
        {
         "dtype": "object",
         "name": "Employee_City",
         "stats": {
          "categories": [
           {
            "count": 1,
            "name": "Kristaburgh"
           }
          ],
          "nan_count": 0,
          "unique_count": 1
         }
        },
        {
         "dtype": "object",
         "name": "Employee_Country",
         "stats": {
          "categories": [
           {
            "count": 1,
            "name": "Lesotho"
           }
          ],
          "nan_count": 0,
          "unique_count": 1
         }
        },
        {
         "dtype": "int64",
         "name": "Employee_Salary",
         "stats": {
          "histogram": [
           {
            "bin_end": 999989.6,
            "bin_start": 999989.5,
            "count": 0
           },
           {
            "bin_end": 999989.7,
            "bin_start": 999989.6,
            "count": 0
           },
           {
            "bin_end": 999989.8,
            "bin_start": 999989.7,
            "count": 0
           },
           {
            "bin_end": 999989.9,
            "bin_start": 999989.8,
            "count": 0
           },
           {
            "bin_end": 999990,
            "bin_start": 999989.9,
            "count": 0
           },
           {
            "bin_end": 999990.1,
            "bin_start": 999990,
            "count": 1
           },
           {
            "bin_end": 999990.2,
            "bin_start": 999990.1,
            "count": 0
           },
           {
            "bin_end": 999990.3,
            "bin_start": 999990.2,
            "count": 0
           },
           {
            "bin_end": 999990.4,
            "bin_start": 999990.3,
            "count": 0
           },
           {
            "bin_end": 999990.5,
            "bin_start": 999990.4,
            "count": 0
           }
          ],
          "max": "999990",
          "min": "999990",
          "nan_count": 0,
          "unique_count": 1
         }
        },
        {
         "dtype": "object",
         "name": "Employment_Status",
         "stats": {
          "categories": [
           {
            "count": 1,
            "name": "Full Time"
           }
          ],
          "nan_count": 0,
          "unique_count": 1
         }
        },
        {
         "dtype": "float64",
         "name": "Employee_Rating",
         "stats": {
          "histogram": [
           {
            "bin_end": 3.6,
            "bin_start": 3.5,
            "count": 0
           },
           {
            "bin_end": 3.7,
            "bin_start": 3.6,
            "count": 0
           },
           {
            "bin_end": 3.8,
            "bin_start": 3.7,
            "count": 0
           },
           {
            "bin_end": 3.9,
            "bin_start": 3.8,
            "count": 0
           },
           {
            "bin_end": 4,
            "bin_start": 3.9,
            "count": 0
           },
           {
            "bin_end": 4.1,
            "bin_start": 4,
            "count": 1
           },
           {
            "bin_end": 4.2,
            "bin_start": 4.1,
            "count": 0
           },
           {
            "bin_end": 4.3,
            "bin_start": 4.2,
            "count": 0
           },
           {
            "bin_end": 4.4,
            "bin_start": 4.3,
            "count": 0
           },
           {
            "bin_end": 4.5,
            "bin_start": 4.4,
            "count": 0
           }
          ],
          "max": "4.0",
          "min": "4.0",
          "nan_count": 0,
          "unique_count": 1
         }
        },
        {
         "dtype": "int64",
         "name": "_deepnote_index_column"
        }
       ],
       "row_count": 1,
       "rows": [
        {
         "Company_Name": "Taylor-Ramos",
         "Employee_City": "Kristaburgh",
         "Employee_Country": "Lesotho",
         "Employee_Job_Title": "Production engineer",
         "Employee_Rating": 4,
         "Employee_Salary": 999990,
         "Employment_Status": "Full Time",
         "Name": "Anna Lawson",
         "_deepnote_index_column": 0
        }
       ],
       "type": "dataframe"
      },
      "text/html": [
       "<div>\n",
       "<style scoped>\n",
       "    .dataframe tbody tr th:only-of-type {\n",
       "        vertical-align: middle;\n",
       "    }\n",
       "\n",
       "    .dataframe tbody tr th {\n",
       "        vertical-align: top;\n",
       "    }\n",
       "\n",
       "    .dataframe thead th {\n",
       "        text-align: right;\n",
       "    }\n",
       "</style>\n",
       "<table border=\"1\" class=\"dataframe\">\n",
       "  <thead>\n",
       "    <tr style=\"text-align: right;\">\n",
       "      <th></th>\n",
       "      <th>Name</th>\n",
       "      <th>Company_Name</th>\n",
       "      <th>Employee_Job_Title</th>\n",
       "      <th>Employee_City</th>\n",
       "      <th>Employee_Country</th>\n",
       "      <th>Employee_Salary</th>\n",
       "      <th>Employment_Status</th>\n",
       "      <th>Employee_Rating</th>\n",
       "    </tr>\n",
       "  </thead>\n",
       "  <tbody>\n",
       "    <tr>\n",
       "      <th>0</th>\n",
       "      <td>Anna Lawson</td>\n",
       "      <td>Taylor-Ramos</td>\n",
       "      <td>Production engineer</td>\n",
       "      <td>Kristaburgh</td>\n",
       "      <td>Lesotho</td>\n",
       "      <td>999990</td>\n",
       "      <td>Full Time</td>\n",
       "      <td>4.0</td>\n",
       "    </tr>\n",
       "  </tbody>\n",
       "</table>\n",
       "</div>"
      ],
      "text/plain": [
       "          Name  Company_Name   Employee_Job_Title Employee_City  \\\n",
       "0  Anna Lawson  Taylor-Ramos  Production engineer   Kristaburgh   \n",
       "\n",
       "  Employee_Country  Employee_Salary Employment_Status  Employee_Rating  \n",
       "0          Lesotho           999990         Full Time              4.0  "
      ]
     },
     "execution_count": 71,
     "metadata": {},
     "output_type": "execute_result"
    }
   ],
   "source": [
    "_dntk.execute_sql(\n",
    "  '-- SELECT * FROM data ORDER BY Employee_Salary DESC LIMIT 1;\\n\\nSELECT * FROM data WHERE Employee_Salary = (select MAX(Employee_Salary) from data);',\n",
    "  'SQL_DEEPNOTE_DATAFRAME_SQL',\n",
    "  audit_sql_comment='',\n",
    "  sql_cache_mode='cache_disabled',\n",
    "  return_variable_type='dataframe'\n",
    ")"
   ]
  },
  {
   "cell_type": "markdown",
   "metadata": {
    "cell_id": "2de6c74edeee485a81f6ad4fbb217fa1",
    "deepnote_cell_type": "text-cell-h3",
    "formattedRanges": [],
    "is_collapsed": false,
    "tags": []
   },
   "source": [
    "### 38. Print the employee details with the maximum rating"
   ]
  },
  {
   "cell_type": "code",
   "execution_count": 69,
   "metadata": {
    "cell_id": "0bffa1fe2de64b38afcaf0f2ac3e7fe8",
    "deepnote_cell_type": "sql",
    "deepnote_sql_source": "-- SELECT * FROM data ORDER BY Employee_Rating desc LIMIT 1;\nSELECT *\nFROM data\nWHERE Employee_Rating = (SELECT MAX(Employee_Rating) FROM data);",
    "deepnote_to_be_reexecuted": false,
    "execution_context_id": "8d5aeb66-3e5b-4f21-bed9-e7072f51afce",
    "execution_millis": 181,
    "execution_start": 1742965153145,
    "source_hash": "bc775e52",
    "sql_integration_id": "deepnote-dataframe-sql",
    "tags": []
   },
   "outputs": [
    {
     "data": {
      "application/vnd.deepnote.dataframe.v3+json": {
       "column_count": 8,
       "columns": [
        {
         "dtype": "object",
         "name": "Name",
         "stats": {
          "categories": [
           {
            "count": 3,
            "name": "Brian Meyer"
           },
           {
            "count": 2,
            "name": "Ryan Jones"
           },
           {
            "count": 2980,
            "name": "2911 others"
           }
          ],
          "nan_count": 0,
          "unique_count": 2913
         }
        },
        {
         "dtype": "object",
         "name": "Company_Name",
         "stats": {
          "categories": [
           {
            "count": 237,
            "name": "Andrade LLC"
           },
           {
            "count": 218,
            "name": "Nelson-Li"
           },
           {
            "count": 2530,
            "name": "13 others"
           }
          ],
          "nan_count": 0,
          "unique_count": 15
         }
        },
        {
         "dtype": "object",
         "name": "Employee_Job_Title",
         "stats": {
          "categories": [
           {
            "count": 291,
            "name": "Diplomatic Services operational officer"
           },
           {
            "count": 179,
            "name": "Energy manager"
           },
           {
            "count": 2515,
            "name": "17 others"
           }
          ],
          "nan_count": 0,
          "unique_count": 19
         }
        },
        {
         "dtype": "object",
         "name": "Employee_City",
         "stats": {
          "categories": [
           {
            "count": 325,
            "name": "Wardfort"
           },
           {
            "count": 307,
            "name": "Aliciafort"
           },
           {
            "count": 2353,
            "name": "8 others"
           }
          ],
          "nan_count": 0,
          "unique_count": 10
         }
        },
        {
         "dtype": "object",
         "name": "Employee_Country",
         "stats": {
          "categories": [
           {
            "count": 26,
            "name": "Korea"
           },
           {
            "count": 23,
            "name": "Tonga"
           },
           {
            "count": 2936,
            "name": "241 others"
           }
          ],
          "nan_count": 0,
          "unique_count": 243
         }
        },
        {
         "dtype": "int64",
         "name": "Employee_Salary",
         "stats": {
          "histogram": [
           {
            "bin_end": 100168,
            "bin_start": 270,
            "count": 294
           },
           {
            "bin_end": 200066,
            "bin_start": 100168,
            "count": 323
           },
           {
            "bin_end": 299964,
            "bin_start": 200066,
            "count": 285
           },
           {
            "bin_end": 399862,
            "bin_start": 299964,
            "count": 330
           },
           {
            "bin_end": 499760,
            "bin_start": 399862,
            "count": 288
           },
           {
            "bin_end": 599658,
            "bin_start": 499760,
            "count": 307
           },
           {
            "bin_end": 699556,
            "bin_start": 599658,
            "count": 285
           },
           {
            "bin_end": 799454,
            "bin_start": 699556,
            "count": 306
           },
           {
            "bin_end": 899352,
            "bin_start": 799454,
            "count": 278
           },
           {
            "bin_end": 999250,
            "bin_start": 899352,
            "count": 289
           }
          ],
          "max": "999250",
          "min": "270",
          "nan_count": 0,
          "unique_count": 2943
         }
        },
        {
         "dtype": "object",
         "name": "Employment_Status",
         "stats": {
          "categories": [
           {
            "count": 2385,
            "name": "Full Time"
           },
           {
            "count": 600,
            "name": "Intern"
           }
          ],
          "nan_count": 0,
          "unique_count": 2
         }
        },
        {
         "dtype": "float64",
         "name": "Employee_Rating",
         "stats": {
          "histogram": [
           {
            "bin_end": 4.6,
            "bin_start": 4.5,
            "count": 0
           },
           {
            "bin_end": 4.7,
            "bin_start": 4.6,
            "count": 0
           },
           {
            "bin_end": 4.8,
            "bin_start": 4.7,
            "count": 0
           },
           {
            "bin_end": 4.9,
            "bin_start": 4.8,
            "count": 0
           },
           {
            "bin_end": 5,
            "bin_start": 4.9,
            "count": 0
           },
           {
            "bin_end": 5.1,
            "bin_start": 5,
            "count": 2985
           },
           {
            "bin_end": 5.2,
            "bin_start": 5.1,
            "count": 0
           },
           {
            "bin_end": 5.3,
            "bin_start": 5.2,
            "count": 0
           },
           {
            "bin_end": 5.4,
            "bin_start": 5.3,
            "count": 0
           },
           {
            "bin_end": 5.5,
            "bin_start": 5.4,
            "count": 0
           }
          ],
          "max": "5.0",
          "min": "5.0",
          "nan_count": 0,
          "unique_count": 1
         }
        },
        {
         "dtype": "int64",
         "name": "_deepnote_index_column"
        }
       ],
       "row_count": 2985,
       "rows": [
        {
         "Company_Name": "James and Sons",
         "Employee_City": "New Russellton",
         "Employee_Country": "Cook Islands",
         "Employee_Job_Title": "Garment/textile technologist",
         "Employee_Rating": 5,
         "Employee_Salary": 694760,
         "Employment_Status": "Full Time",
         "Name": "Joshua Huffman",
         "_deepnote_index_column": 0
        },
        {
         "Company_Name": "Baker, Allen and Edwards",
         "Employee_City": "Kristaburgh",
         "Employee_Country": "Mongolia",
         "Employee_Job_Title": "Diplomatic Services operational officer",
         "Employee_Rating": 5,
         "Employee_Salary": 491710,
         "Employment_Status": "Intern",
         "Name": "Alan Carlson",
         "_deepnote_index_column": 1
        },
        {
         "Company_Name": "Johnston, Fleming and Tanner",
         "Employee_City": "North Melissafurt",
         "Employee_Country": "Togo",
         "Employee_Job_Title": "Regulatory affairs officer",
         "Employee_Rating": 5,
         "Employee_Salary": 933500,
         "Employment_Status": "Full Time",
         "Name": "Lisa Summers",
         "_deepnote_index_column": 2
        },
        {
         "Company_Name": "Johnston, Fleming and Tanner",
         "Employee_City": "Whiteside",
         "Employee_Country": "United States Virgin Islands",
         "Employee_Job_Title": "Garment/textile technologist",
         "Employee_Rating": 5,
         "Employee_Salary": 367630,
         "Employment_Status": "Full Time",
         "Name": "Timothy Woods",
         "_deepnote_index_column": 3
        },
        {
         "Company_Name": "Taylor-Ramos",
         "Employee_City": "Wardfort",
         "Employee_Country": "Tanzania",
         "Employee_Job_Title": "Armed forces logistics/support/administrative officer",
         "Employee_Rating": 5,
         "Employee_Salary": 66570,
         "Employment_Status": "Intern",
         "Name": "Cameron Hawkins",
         "_deepnote_index_column": 4
        },
        {
         "Company_Name": "White, Mcclain and Cobb",
         "Employee_City": "Ricardomouth",
         "Employee_Country": "Bahrain",
         "Employee_Job_Title": "Sales promotion account executive",
         "Employee_Rating": 5,
         "Employee_Salary": 401710,
         "Employment_Status": "Full Time",
         "Name": "Matthew Hood",
         "_deepnote_index_column": 5
        },
        {
         "Company_Name": "Andrade LLC",
         "Employee_City": "Whiteside",
         "Employee_Country": "Mongolia",
         "Employee_Job_Title": "Investment banker, corporate",
         "Employee_Rating": 5,
         "Employee_Salary": 301510,
         "Employment_Status": "Full Time",
         "Name": "Paula Obrien",
         "_deepnote_index_column": 6
        },
        {
         "Company_Name": "Andrade LLC",
         "Employee_City": "Aliciafort",
         "Employee_Country": "Faroe Islands",
         "Employee_Job_Title": "Sales promotion account executive",
         "Employee_Rating": 5,
         "Employee_Salary": 485410,
         "Employment_Status": "Full Time",
         "Name": "Heidi Miller",
         "_deepnote_index_column": 7
        },
        {
         "Company_Name": "Matthews Inc",
         "Employee_City": "West Jamesview",
         "Employee_Country": "Germany",
         "Employee_Job_Title": "Energy manager",
         "Employee_Rating": 5,
         "Employee_Salary": 253869,
         "Employment_Status": "Full Time",
         "Name": "Jonathan Perry",
         "_deepnote_index_column": 8
        },
        {
         "Company_Name": "Campos, Reynolds and Mccormick",
         "Employee_City": "West Jamesview",
         "Employee_Country": "Malawi",
         "Employee_Job_Title": "Equities trader",
         "Employee_Rating": 5,
         "Employee_Salary": 16250,
         "Employment_Status": "Intern",
         "Name": "Robert Torres",
         "_deepnote_index_column": 9
        }
       ],
       "type": "dataframe"
      },
      "text/html": [
       "<div>\n",
       "<style scoped>\n",
       "    .dataframe tbody tr th:only-of-type {\n",
       "        vertical-align: middle;\n",
       "    }\n",
       "\n",
       "    .dataframe tbody tr th {\n",
       "        vertical-align: top;\n",
       "    }\n",
       "\n",
       "    .dataframe thead th {\n",
       "        text-align: right;\n",
       "    }\n",
       "</style>\n",
       "<table border=\"1\" class=\"dataframe\">\n",
       "  <thead>\n",
       "    <tr style=\"text-align: right;\">\n",
       "      <th></th>\n",
       "      <th>Name</th>\n",
       "      <th>Company_Name</th>\n",
       "      <th>Employee_Job_Title</th>\n",
       "      <th>Employee_City</th>\n",
       "      <th>Employee_Country</th>\n",
       "      <th>Employee_Salary</th>\n",
       "      <th>Employment_Status</th>\n",
       "      <th>Employee_Rating</th>\n",
       "    </tr>\n",
       "  </thead>\n",
       "  <tbody>\n",
       "    <tr>\n",
       "      <th>0</th>\n",
       "      <td>Joshua Huffman</td>\n",
       "      <td>James and Sons</td>\n",
       "      <td>Garment/textile technologist</td>\n",
       "      <td>New Russellton</td>\n",
       "      <td>Cook Islands</td>\n",
       "      <td>694760</td>\n",
       "      <td>Full Time</td>\n",
       "      <td>5.0</td>\n",
       "    </tr>\n",
       "    <tr>\n",
       "      <th>1</th>\n",
       "      <td>Alan Carlson</td>\n",
       "      <td>Baker, Allen and Edwards</td>\n",
       "      <td>Diplomatic Services operational officer</td>\n",
       "      <td>Kristaburgh</td>\n",
       "      <td>Mongolia</td>\n",
       "      <td>491710</td>\n",
       "      <td>Intern</td>\n",
       "      <td>5.0</td>\n",
       "    </tr>\n",
       "    <tr>\n",
       "      <th>2</th>\n",
       "      <td>Lisa Summers</td>\n",
       "      <td>Johnston, Fleming and Tanner</td>\n",
       "      <td>Regulatory affairs officer</td>\n",
       "      <td>North Melissafurt</td>\n",
       "      <td>Togo</td>\n",
       "      <td>933500</td>\n",
       "      <td>Full Time</td>\n",
       "      <td>5.0</td>\n",
       "    </tr>\n",
       "    <tr>\n",
       "      <th>3</th>\n",
       "      <td>Timothy Woods</td>\n",
       "      <td>Johnston, Fleming and Tanner</td>\n",
       "      <td>Garment/textile technologist</td>\n",
       "      <td>Whiteside</td>\n",
       "      <td>United States Virgin Islands</td>\n",
       "      <td>367630</td>\n",
       "      <td>Full Time</td>\n",
       "      <td>5.0</td>\n",
       "    </tr>\n",
       "    <tr>\n",
       "      <th>4</th>\n",
       "      <td>Cameron Hawkins</td>\n",
       "      <td>Taylor-Ramos</td>\n",
       "      <td>Armed forces logistics/support/administrative ...</td>\n",
       "      <td>Wardfort</td>\n",
       "      <td>Tanzania</td>\n",
       "      <td>66570</td>\n",
       "      <td>Intern</td>\n",
       "      <td>5.0</td>\n",
       "    </tr>\n",
       "    <tr>\n",
       "      <th>...</th>\n",
       "      <td>...</td>\n",
       "      <td>...</td>\n",
       "      <td>...</td>\n",
       "      <td>...</td>\n",
       "      <td>...</td>\n",
       "      <td>...</td>\n",
       "      <td>...</td>\n",
       "      <td>...</td>\n",
       "    </tr>\n",
       "    <tr>\n",
       "      <th>2980</th>\n",
       "      <td>Michael Jordan</td>\n",
       "      <td>Johnston, Fleming and Tanner</td>\n",
       "      <td>Naval architect</td>\n",
       "      <td>Whitakerbury</td>\n",
       "      <td>Philippines</td>\n",
       "      <td>474540</td>\n",
       "      <td>Full Time</td>\n",
       "      <td>5.0</td>\n",
       "    </tr>\n",
       "    <tr>\n",
       "      <th>2981</th>\n",
       "      <td>Rebecca Garrison</td>\n",
       "      <td>Nelson-Li</td>\n",
       "      <td>Production engineer</td>\n",
       "      <td>Whitakerbury</td>\n",
       "      <td>Ireland</td>\n",
       "      <td>592530</td>\n",
       "      <td>Full Time</td>\n",
       "      <td>5.0</td>\n",
       "    </tr>\n",
       "    <tr>\n",
       "      <th>2982</th>\n",
       "      <td>Daniel Jones</td>\n",
       "      <td>Taylor-Ramos</td>\n",
       "      <td>Sales promotion account executive</td>\n",
       "      <td>Kristaburgh</td>\n",
       "      <td>Sierra Leone</td>\n",
       "      <td>32160</td>\n",
       "      <td>Full Time</td>\n",
       "      <td>5.0</td>\n",
       "    </tr>\n",
       "    <tr>\n",
       "      <th>2983</th>\n",
       "      <td>Justin Mendez</td>\n",
       "      <td>Bullock-Carrillo</td>\n",
       "      <td>Regulatory affairs officer</td>\n",
       "      <td>New Cindychester</td>\n",
       "      <td>Colombia</td>\n",
       "      <td>374540</td>\n",
       "      <td>Full Time</td>\n",
       "      <td>5.0</td>\n",
       "    </tr>\n",
       "    <tr>\n",
       "      <th>2984</th>\n",
       "      <td>Doris Miller</td>\n",
       "      <td>Andrade LLC</td>\n",
       "      <td>Armed forces logistics/support/administrative ...</td>\n",
       "      <td>Wardfort</td>\n",
       "      <td>Kazakhstan</td>\n",
       "      <td>943340</td>\n",
       "      <td>Intern</td>\n",
       "      <td>5.0</td>\n",
       "    </tr>\n",
       "  </tbody>\n",
       "</table>\n",
       "<p>2985 rows × 8 columns</p>\n",
       "</div>"
      ],
      "text/plain": [
       "                  Name                  Company_Name  \\\n",
       "0       Joshua Huffman                James and Sons   \n",
       "1         Alan Carlson      Baker, Allen and Edwards   \n",
       "2         Lisa Summers  Johnston, Fleming and Tanner   \n",
       "3        Timothy Woods  Johnston, Fleming and Tanner   \n",
       "4      Cameron Hawkins                  Taylor-Ramos   \n",
       "...                ...                           ...   \n",
       "2980    Michael Jordan  Johnston, Fleming and Tanner   \n",
       "2981  Rebecca Garrison                     Nelson-Li   \n",
       "2982      Daniel Jones                  Taylor-Ramos   \n",
       "2983     Justin Mendez              Bullock-Carrillo   \n",
       "2984      Doris Miller                   Andrade LLC   \n",
       "\n",
       "                                     Employee_Job_Title      Employee_City  \\\n",
       "0                          Garment/textile technologist     New Russellton   \n",
       "1               Diplomatic Services operational officer        Kristaburgh   \n",
       "2                            Regulatory affairs officer  North Melissafurt   \n",
       "3                          Garment/textile technologist          Whiteside   \n",
       "4     Armed forces logistics/support/administrative ...           Wardfort   \n",
       "...                                                 ...                ...   \n",
       "2980                                    Naval architect       Whitakerbury   \n",
       "2981                                Production engineer       Whitakerbury   \n",
       "2982                  Sales promotion account executive        Kristaburgh   \n",
       "2983                         Regulatory affairs officer   New Cindychester   \n",
       "2984  Armed forces logistics/support/administrative ...           Wardfort   \n",
       "\n",
       "                  Employee_Country  Employee_Salary Employment_Status  \\\n",
       "0                     Cook Islands           694760         Full Time   \n",
       "1                         Mongolia           491710            Intern   \n",
       "2                             Togo           933500         Full Time   \n",
       "3     United States Virgin Islands           367630         Full Time   \n",
       "4                         Tanzania            66570            Intern   \n",
       "...                            ...              ...               ...   \n",
       "2980                   Philippines           474540         Full Time   \n",
       "2981                       Ireland           592530         Full Time   \n",
       "2982                  Sierra Leone            32160         Full Time   \n",
       "2983                      Colombia           374540         Full Time   \n",
       "2984                    Kazakhstan           943340            Intern   \n",
       "\n",
       "      Employee_Rating  \n",
       "0                 5.0  \n",
       "1                 5.0  \n",
       "2                 5.0  \n",
       "3                 5.0  \n",
       "4                 5.0  \n",
       "...               ...  \n",
       "2980              5.0  \n",
       "2981              5.0  \n",
       "2982              5.0  \n",
       "2983              5.0  \n",
       "2984              5.0  \n",
       "\n",
       "[2985 rows x 8 columns]"
      ]
     },
     "execution_count": 69,
     "metadata": {},
     "output_type": "execute_result"
    }
   ],
   "source": [
    "_dntk.execute_sql(\n",
    "  '-- SELECT * FROM data ORDER BY Employee_Rating desc LIMIT 1;\\nSELECT *\\nFROM data\\nWHERE Employee_Rating = (SELECT MAX(Employee_Rating) FROM data);',\n",
    "  'SQL_DEEPNOTE_DATAFRAME_SQL',\n",
    "  audit_sql_comment='',\n",
    "  sql_cache_mode='cache_disabled',\n",
    "  return_variable_type='dataframe'\n",
    ")"
   ]
  },
  {
   "cell_type": "markdown",
   "metadata": {
    "cell_id": "1296dcf5cf704cd89ba24b1a132c744e",
    "deepnote_cell_type": "text-cell-h3",
    "formattedRanges": [],
    "is_collapsed": false,
    "tags": []
   },
   "source": [
    "### 39. Print the Company_Name with most number of employees in 'Wardfort' city."
   ]
  },
  {
   "cell_type": "code",
   "execution_count": 75,
   "metadata": {
    "cell_id": "c30b1c2857f746adb66d228c09a03d11",
    "deepnote_cell_type": "sql",
    "deepnote_sql_source": "SELECT Company_Name from data WHERE Employee_City='Wardfort' GROUP BY Company_Name ORDER BY count(*) desc LIMIT 1;",
    "deepnote_to_be_reexecuted": false,
    "execution_context_id": "8d5aeb66-3e5b-4f21-bed9-e7072f51afce",
    "execution_millis": 70,
    "execution_start": 1742965400377,
    "source_hash": "51f19de6",
    "sql_integration_id": "deepnote-dataframe-sql",
    "tags": []
   },
   "outputs": [
    {
     "data": {
      "application/vnd.deepnote.dataframe.v3+json": {
       "column_count": 1,
       "columns": [
        {
         "dtype": "object",
         "name": "Company_Name",
         "stats": {
          "categories": [
           {
            "count": 1,
            "name": "White, Mcclain and Cobb"
           }
          ],
          "nan_count": 0,
          "unique_count": 1
         }
        },
        {
         "dtype": "int64",
         "name": "_deepnote_index_column"
        }
       ],
       "row_count": 1,
       "rows": [
        {
         "Company_Name": "White, Mcclain and Cobb",
         "_deepnote_index_column": 0
        }
       ],
       "type": "dataframe"
      },
      "text/html": [
       "<div>\n",
       "<style scoped>\n",
       "    .dataframe tbody tr th:only-of-type {\n",
       "        vertical-align: middle;\n",
       "    }\n",
       "\n",
       "    .dataframe tbody tr th {\n",
       "        vertical-align: top;\n",
       "    }\n",
       "\n",
       "    .dataframe thead th {\n",
       "        text-align: right;\n",
       "    }\n",
       "</style>\n",
       "<table border=\"1\" class=\"dataframe\">\n",
       "  <thead>\n",
       "    <tr style=\"text-align: right;\">\n",
       "      <th></th>\n",
       "      <th>Company_Name</th>\n",
       "    </tr>\n",
       "  </thead>\n",
       "  <tbody>\n",
       "    <tr>\n",
       "      <th>0</th>\n",
       "      <td>White, Mcclain and Cobb</td>\n",
       "    </tr>\n",
       "  </tbody>\n",
       "</table>\n",
       "</div>"
      ],
      "text/plain": [
       "              Company_Name\n",
       "0  White, Mcclain and Cobb"
      ]
     },
     "execution_count": 75,
     "metadata": {},
     "output_type": "execute_result"
    }
   ],
   "source": [
    "_dntk.execute_sql(\n",
    "  'SELECT Company_Name from data WHERE Employee_City=\\'Wardfort\\' GROUP BY Company_Name ORDER BY count(*) desc LIMIT 1;',\n",
    "  'SQL_DEEPNOTE_DATAFRAME_SQL',\n",
    "  audit_sql_comment='',\n",
    "  sql_cache_mode='cache_disabled',\n",
    "  return_variable_type='dataframe'\n",
    ")"
   ]
  },
  {
   "cell_type": "markdown",
   "metadata": {
    "cell_id": "ab23cd956a0a40a48070b7811906d713",
    "deepnote_cell_type": "text-cell-h3",
    "formattedRanges": [],
    "is_collapsed": false,
    "tags": []
   },
   "source": [
    "### 40. Print 'Employee_Salary' column as string."
   ]
  },
  {
   "cell_type": "code",
   "execution_count": 83,
   "metadata": {
    "cell_id": "3cbdbdc2792b40708cd358eccee31f44",
    "deepnote_cell_type": "sql",
    "deepnote_sql_source": "SELECT CAST(Employee_Salary as CHAR) AS Employee_Salary_STR from data;",
    "deepnote_to_be_reexecuted": false,
    "execution_context_id": "8d5aeb66-3e5b-4f21-bed9-e7072f51afce",
    "execution_millis": 111,
    "execution_start": 1742965912705,
    "source_hash": "bce64146",
    "sql_integration_id": "deepnote-dataframe-sql",
    "tags": []
   },
   "outputs": [
    {
     "data": {
      "application/vnd.deepnote.dataframe.v3+json": {
       "column_count": 1,
       "columns": [
        {
         "dtype": "object",
         "name": "Employee_Salary_STR"
        },
        {
         "dtype": "int64",
         "name": "_deepnote_index_column"
        }
       ],
       "row_count": 300000,
       "rows": [
        {
         "Employee_Salary_STR": "321520",
         "_deepnote_index_column": 0
        },
        {
         "Employee_Salary_STR": "589090",
         "_deepnote_index_column": 1
        },
        {
         "Employee_Salary_STR": "630890",
         "_deepnote_index_column": 2
        },
        {
         "Employee_Salary_STR": "116400",
         "_deepnote_index_column": 3
        },
        {
         "Employee_Salary_STR": "523499",
         "_deepnote_index_column": 4
        },
        {
         "Employee_Salary_STR": "850140",
         "_deepnote_index_column": 5
        },
        {
         "Employee_Salary_STR": "711410",
         "_deepnote_index_column": 6
        },
        {
         "Employee_Salary_STR": "777000",
         "_deepnote_index_column": 7
        },
        {
         "Employee_Salary_STR": "870580",
         "_deepnote_index_column": 8
        },
        {
         "Employee_Salary_STR": "516950",
         "_deepnote_index_column": 9
        }
       ],
       "type": "dataframe"
      },
      "text/html": [
       "<div>\n",
       "<style scoped>\n",
       "    .dataframe tbody tr th:only-of-type {\n",
       "        vertical-align: middle;\n",
       "    }\n",
       "\n",
       "    .dataframe tbody tr th {\n",
       "        vertical-align: top;\n",
       "    }\n",
       "\n",
       "    .dataframe thead th {\n",
       "        text-align: right;\n",
       "    }\n",
       "</style>\n",
       "<table border=\"1\" class=\"dataframe\">\n",
       "  <thead>\n",
       "    <tr style=\"text-align: right;\">\n",
       "      <th></th>\n",
       "      <th>Employee_Salary_STR</th>\n",
       "    </tr>\n",
       "  </thead>\n",
       "  <tbody>\n",
       "    <tr>\n",
       "      <th>0</th>\n",
       "      <td>321520</td>\n",
       "    </tr>\n",
       "    <tr>\n",
       "      <th>1</th>\n",
       "      <td>589090</td>\n",
       "    </tr>\n",
       "    <tr>\n",
       "      <th>2</th>\n",
       "      <td>630890</td>\n",
       "    </tr>\n",
       "    <tr>\n",
       "      <th>3</th>\n",
       "      <td>116400</td>\n",
       "    </tr>\n",
       "    <tr>\n",
       "      <th>4</th>\n",
       "      <td>523499</td>\n",
       "    </tr>\n",
       "    <tr>\n",
       "      <th>...</th>\n",
       "      <td>...</td>\n",
       "    </tr>\n",
       "    <tr>\n",
       "      <th>299995</th>\n",
       "      <td>99670</td>\n",
       "    </tr>\n",
       "    <tr>\n",
       "      <th>299996</th>\n",
       "      <td>949580</td>\n",
       "    </tr>\n",
       "    <tr>\n",
       "      <th>299997</th>\n",
       "      <td>802830</td>\n",
       "    </tr>\n",
       "    <tr>\n",
       "      <th>299998</th>\n",
       "      <td>257240</td>\n",
       "    </tr>\n",
       "    <tr>\n",
       "      <th>299999</th>\n",
       "      <td>575770</td>\n",
       "    </tr>\n",
       "  </tbody>\n",
       "</table>\n",
       "<p>300000 rows × 1 columns</p>\n",
       "</div>"
      ],
      "text/plain": [
       "       Employee_Salary_STR\n",
       "0                   321520\n",
       "1                   589090\n",
       "2                   630890\n",
       "3                   116400\n",
       "4                   523499\n",
       "...                    ...\n",
       "299995               99670\n",
       "299996              949580\n",
       "299997              802830\n",
       "299998              257240\n",
       "299999              575770\n",
       "\n",
       "[300000 rows x 1 columns]"
      ]
     },
     "execution_count": 83,
     "metadata": {},
     "output_type": "execute_result"
    }
   ],
   "source": [
    "_dntk.execute_sql(\n",
    "  'SELECT CAST(Employee_Salary as CHAR) AS Employee_Salary_STR from data;',\n",
    "  'SQL_DEEPNOTE_DATAFRAME_SQL',\n",
    "  audit_sql_comment='',\n",
    "  sql_cache_mode='cache_disabled',\n",
    "  return_variable_type='dataframe'\n",
    ")"
   ]
  },
  {
   "cell_type": "markdown",
   "metadata": {
    "cell_id": "d9511b8d3b0c495abc401c00abbdf2bc",
    "deepnote_cell_type": "text-cell-h3",
    "formattedRanges": [],
    "is_collapsed": false,
    "tags": []
   },
   "source": [
    "### 41. Print the Employee_City with the most number of 'Production engineer'."
   ]
  },
  {
   "cell_type": "code",
   "execution_count": 87,
   "metadata": {
    "cell_id": "3c2798c7e5184fe9b52d1144798113f7",
    "deepnote_cell_type": "sql",
    "deepnote_sql_source": "SELECT Employee_City,count(*) from data WHERE Employee_Job_Title = 'Production engineer' \nGROUP BY Employee_City ORDER BY count(*) desc LIMIT 1;\n\n-- alternate query\n-- SELECT Employee_City, COUNT(*) AS CityCount\n-- FROM data\n-- WHERE Employee_Job_Title = 'Production engineer'\n-- GROUP BY Employee_City\n-- HAVING COUNT(*) = (\n--     SELECT MAX(COUNT(*))\n--     FROM data\n--     WHERE Employee_Job_Title = 'Production engineer'\n--     GROUP BY Employee_City\n-- );",
    "deepnote_to_be_reexecuted": false,
    "execution_context_id": "8d5aeb66-3e5b-4f21-bed9-e7072f51afce",
    "execution_millis": 85,
    "execution_start": 1742966610665,
    "source_hash": "70e539de",
    "sql_integration_id": "deepnote-dataframe-sql",
    "tags": []
   },
   "outputs": [
    {
     "data": {
      "application/vnd.deepnote.dataframe.v3+json": {
       "column_count": 2,
       "columns": [
        {
         "dtype": "object",
         "name": "Employee_City",
         "stats": {
          "categories": [
           {
            "count": 1,
            "name": "Aliciafort"
           }
          ],
          "nan_count": 0,
          "unique_count": 1
         }
        },
        {
         "dtype": "int64",
         "name": "count_star()",
         "stats": {
          "histogram": [
           {
            "bin_end": 1587.6,
            "bin_start": 1587.5,
            "count": 0
           },
           {
            "bin_end": 1587.7,
            "bin_start": 1587.6,
            "count": 0
           },
           {
            "bin_end": 1587.8,
            "bin_start": 1587.7,
            "count": 0
           },
           {
            "bin_end": 1587.9,
            "bin_start": 1587.8,
            "count": 0
           },
           {
            "bin_end": 1588,
            "bin_start": 1587.9,
            "count": 0
           },
           {
            "bin_end": 1588.1,
            "bin_start": 1588,
            "count": 1
           },
           {
            "bin_end": 1588.2,
            "bin_start": 1588.1,
            "count": 0
           },
           {
            "bin_end": 1588.3,
            "bin_start": 1588.2,
            "count": 0
           },
           {
            "bin_end": 1588.4,
            "bin_start": 1588.3,
            "count": 0
           },
           {
            "bin_end": 1588.5,
            "bin_start": 1588.4,
            "count": 0
           }
          ],
          "max": "1588",
          "min": "1588",
          "nan_count": 0,
          "unique_count": 1
         }
        },
        {
         "dtype": "int64",
         "name": "_deepnote_index_column"
        }
       ],
       "row_count": 1,
       "rows": [
        {
         "Employee_City": "Aliciafort",
         "_deepnote_index_column": 0,
         "count_star()": 1588
        }
       ],
       "type": "dataframe"
      },
      "text/html": [
       "<div>\n",
       "<style scoped>\n",
       "    .dataframe tbody tr th:only-of-type {\n",
       "        vertical-align: middle;\n",
       "    }\n",
       "\n",
       "    .dataframe tbody tr th {\n",
       "        vertical-align: top;\n",
       "    }\n",
       "\n",
       "    .dataframe thead th {\n",
       "        text-align: right;\n",
       "    }\n",
       "</style>\n",
       "<table border=\"1\" class=\"dataframe\">\n",
       "  <thead>\n",
       "    <tr style=\"text-align: right;\">\n",
       "      <th></th>\n",
       "      <th>Employee_City</th>\n",
       "      <th>count_star()</th>\n",
       "    </tr>\n",
       "  </thead>\n",
       "  <tbody>\n",
       "    <tr>\n",
       "      <th>0</th>\n",
       "      <td>Aliciafort</td>\n",
       "      <td>1588</td>\n",
       "    </tr>\n",
       "  </tbody>\n",
       "</table>\n",
       "</div>"
      ],
      "text/plain": [
       "  Employee_City  count_star()\n",
       "0    Aliciafort          1588"
      ]
     },
     "execution_count": 87,
     "metadata": {},
     "output_type": "execute_result"
    }
   ],
   "source": [
    "_dntk.execute_sql(\n",
    "  'SELECT Employee_City,count(*) from data WHERE Employee_Job_Title = \\'Production engineer\\' \\nGROUP BY Employee_City ORDER BY count(*) desc LIMIT 1;\\n\\n-- alternate query\\n-- SELECT Employee_City, COUNT(*) AS CityCount\\n-- FROM data\\n-- WHERE Employee_Job_Title = \\'Production engineer\\'\\n-- GROUP BY Employee_City\\n-- HAVING COUNT(*) = (\\n--     SELECT MAX(COUNT(*))\\n--     FROM data\\n--     WHERE Employee_Job_Title = \\'Production engineer\\'\\n--     GROUP BY Employee_City\\n-- );',\n",
    "  'SQL_DEEPNOTE_DATAFRAME_SQL',\n",
    "  audit_sql_comment='',\n",
    "  sql_cache_mode='cache_disabled',\n",
    "  return_variable_type='dataframe'\n",
    ")"
   ]
  },
  {
   "cell_type": "markdown",
   "metadata": {
    "cell_id": "d84548362c97429993c8a1aeaeae138e",
    "deepnote_cell_type": "text-cell-h3",
    "formattedRanges": [],
    "is_collapsed": false,
    "tags": []
   },
   "source": [
    "### 42. Print the Company_Name with the most number of Full-time Employees. "
   ]
  },
  {
   "cell_type": "code",
   "execution_count": 108,
   "metadata": {
    "cell_id": "4cd0e72e2698445f9487e6e31b077d32",
    "deepnote_cell_type": "sql",
    "deepnote_sql_source": "SELECT Company_Name,COUNT(*) AS FTE from data \nWhere Employment_Status = 'Full Time' \nGROUP BY Company_Name\nORDER BY FTE DESC LIMIT 1;\n",
    "deepnote_to_be_reexecuted": false,
    "execution_context_id": "8d5aeb66-3e5b-4f21-bed9-e7072f51afce",
    "execution_millis": 22,
    "execution_start": 1742967607165,
    "source_hash": "ddeed1fb",
    "sql_integration_id": "deepnote-dataframe-sql",
    "tags": []
   },
   "outputs": [
    {
     "data": {
      "application/vnd.deepnote.dataframe.v3+json": {
       "column_count": 2,
       "columns": [
        {
         "dtype": "object",
         "name": "Company_Name",
         "stats": {
          "categories": [
           {
            "count": 1,
            "name": "Scott Inc"
           }
          ],
          "nan_count": 0,
          "unique_count": 1
         }
        },
        {
         "dtype": "int64",
         "name": "FTE",
         "stats": {
          "histogram": [
           {
            "bin_end": 16395.6,
            "bin_start": 16395.5,
            "count": 0
           },
           {
            "bin_end": 16395.7,
            "bin_start": 16395.6,
            "count": 0
           },
           {
            "bin_end": 16395.8,
            "bin_start": 16395.7,
            "count": 0
           },
           {
            "bin_end": 16395.9,
            "bin_start": 16395.8,
            "count": 0
           },
           {
            "bin_end": 16396,
            "bin_start": 16395.9,
            "count": 0
           },
           {
            "bin_end": 16396.1,
            "bin_start": 16396,
            "count": 1
           },
           {
            "bin_end": 16396.2,
            "bin_start": 16396.1,
            "count": 0
           },
           {
            "bin_end": 16396.3,
            "bin_start": 16396.2,
            "count": 0
           },
           {
            "bin_end": 16396.4,
            "bin_start": 16396.3,
            "count": 0
           },
           {
            "bin_end": 16396.5,
            "bin_start": 16396.4,
            "count": 0
           }
          ],
          "max": "16396",
          "min": "16396",
          "nan_count": 0,
          "unique_count": 1
         }
        },
        {
         "dtype": "int64",
         "name": "_deepnote_index_column"
        }
       ],
       "row_count": 1,
       "rows": [
        {
         "Company_Name": "Scott Inc",
         "FTE": 16396,
         "_deepnote_index_column": 0
        }
       ],
       "type": "dataframe"
      },
      "text/html": [
       "<div>\n",
       "<style scoped>\n",
       "    .dataframe tbody tr th:only-of-type {\n",
       "        vertical-align: middle;\n",
       "    }\n",
       "\n",
       "    .dataframe tbody tr th {\n",
       "        vertical-align: top;\n",
       "    }\n",
       "\n",
       "    .dataframe thead th {\n",
       "        text-align: right;\n",
       "    }\n",
       "</style>\n",
       "<table border=\"1\" class=\"dataframe\">\n",
       "  <thead>\n",
       "    <tr style=\"text-align: right;\">\n",
       "      <th></th>\n",
       "      <th>Company_Name</th>\n",
       "      <th>FTE</th>\n",
       "    </tr>\n",
       "  </thead>\n",
       "  <tbody>\n",
       "    <tr>\n",
       "      <th>0</th>\n",
       "      <td>Scott Inc</td>\n",
       "      <td>16396</td>\n",
       "    </tr>\n",
       "  </tbody>\n",
       "</table>\n",
       "</div>"
      ],
      "text/plain": [
       "  Company_Name    FTE\n",
       "0    Scott Inc  16396"
      ]
     },
     "execution_count": 108,
     "metadata": {},
     "output_type": "execute_result"
    }
   ],
   "source": [
    "_dntk.execute_sql(\n",
    "  'SELECT Company_Name,COUNT(*) AS FTE from data \\nWhere Employment_Status = \\'Full Time\\' \\nGROUP BY Company_Name\\nORDER BY FTE DESC LIMIT 1;\\n',\n",
    "  'SQL_DEEPNOTE_DATAFRAME_SQL',\n",
    "  audit_sql_comment='',\n",
    "  sql_cache_mode='cache_disabled',\n",
    "  return_variable_type='dataframe'\n",
    ")"
   ]
  },
  {
   "cell_type": "markdown",
   "metadata": {
    "cell_id": "62ef1272da634230935c346587bfa7ea",
    "deepnote_cell_type": "text-cell-h3",
    "formattedRanges": [],
    "is_collapsed": false,
    "tags": []
   },
   "source": [
    "### 43. Print the Company_Name with the highest average 'Employee_Rating'. "
   ]
  },
  {
   "cell_type": "code",
   "execution_count": 137,
   "metadata": {
    "cell_id": "5ccf4c63480748e4af318a81ce2cc92d",
    "deepnote_cell_type": "sql",
    "deepnote_sql_source": "WITH MaxAvg AS (\n    SELECT MAX(avg_rating) AS max_avg_rating\n    FROM (\n        SELECT AVG(Employee_Rating) AS avg_rating\n        FROM data\n        GROUP BY Company_Name\n    ) AS subquery\n)\nSELECT Company_Name, AVG(Employee_Rating) AS average\nFROM data\nGROUP BY Company_Name\nHAVING AVG(Employee_Rating) = (SELECT max_avg_rating FROM MaxAvg);\n",
    "deepnote_to_be_reexecuted": false,
    "execution_context_id": "8d5aeb66-3e5b-4f21-bed9-e7072f51afce",
    "execution_millis": 323,
    "execution_start": 1742969102183,
    "source_hash": "62719d59",
    "sql_integration_id": "deepnote-dataframe-sql",
    "tags": []
   },
   "outputs": [
    {
     "data": {
      "application/vnd.deepnote.dataframe.v3+json": {
       "column_count": 2,
       "columns": [
        {
         "dtype": "object",
         "name": "Company_Name",
         "stats": {
          "categories": [
           {
            "count": 1,
            "name": "Matthews Inc"
           }
          ],
          "nan_count": 0,
          "unique_count": 1
         }
        },
        {
         "dtype": "float64",
         "name": "average",
         "stats": {
          "histogram": [
           {
            "bin_end": 2.125454364387788,
            "bin_start": 2.025454364387788,
            "count": 0
           },
           {
            "bin_end": 2.225454364387788,
            "bin_start": 2.125454364387788,
            "count": 0
           },
           {
            "bin_end": 2.325454364387788,
            "bin_start": 2.225454364387788,
            "count": 0
           },
           {
            "bin_end": 2.4254543643877877,
            "bin_start": 2.325454364387788,
            "count": 0
           },
           {
            "bin_end": 2.525454364387788,
            "bin_start": 2.4254543643877877,
            "count": 0
           },
           {
            "bin_end": 2.625454364387788,
            "bin_start": 2.525454364387788,
            "count": 1
           },
           {
            "bin_end": 2.725454364387788,
            "bin_start": 2.625454364387788,
            "count": 0
           },
           {
            "bin_end": 2.825454364387788,
            "bin_start": 2.725454364387788,
            "count": 0
           },
           {
            "bin_end": 2.9254543643877877,
            "bin_start": 2.825454364387788,
            "count": 0
           },
           {
            "bin_end": 3.025454364387788,
            "bin_start": 2.9254543643877877,
            "count": 0
           }
          ],
          "max": "2.525454364387788",
          "min": "2.525454364387788",
          "nan_count": 0,
          "unique_count": 1
         }
        },
        {
         "dtype": "int64",
         "name": "_deepnote_index_column"
        }
       ],
       "row_count": 1,
       "rows": [
        {
         "Company_Name": "Matthews Inc",
         "_deepnote_index_column": 0,
         "average": 2.525454364387788
        }
       ],
       "type": "dataframe"
      },
      "text/html": [
       "<div>\n",
       "<style scoped>\n",
       "    .dataframe tbody tr th:only-of-type {\n",
       "        vertical-align: middle;\n",
       "    }\n",
       "\n",
       "    .dataframe tbody tr th {\n",
       "        vertical-align: top;\n",
       "    }\n",
       "\n",
       "    .dataframe thead th {\n",
       "        text-align: right;\n",
       "    }\n",
       "</style>\n",
       "<table border=\"1\" class=\"dataframe\">\n",
       "  <thead>\n",
       "    <tr style=\"text-align: right;\">\n",
       "      <th></th>\n",
       "      <th>Company_Name</th>\n",
       "      <th>average</th>\n",
       "    </tr>\n",
       "  </thead>\n",
       "  <tbody>\n",
       "    <tr>\n",
       "      <th>0</th>\n",
       "      <td>Matthews Inc</td>\n",
       "      <td>2.525454</td>\n",
       "    </tr>\n",
       "  </tbody>\n",
       "</table>\n",
       "</div>"
      ],
      "text/plain": [
       "   Company_Name   average\n",
       "0  Matthews Inc  2.525454"
      ]
     },
     "execution_count": 137,
     "metadata": {},
     "output_type": "execute_result"
    }
   ],
   "source": [
    "_dntk.execute_sql(\n",
    "  'WITH MaxAvg AS (\\n    SELECT MAX(avg_rating) AS max_avg_rating\\n    FROM (\\n        SELECT AVG(Employee_Rating) AS avg_rating\\n        FROM data\\n        GROUP BY Company_Name\\n    ) AS subquery\\n)\\nSELECT Company_Name, AVG(Employee_Rating) AS average\\nFROM data\\nGROUP BY Company_Name\\nHAVING AVG(Employee_Rating) = (SELECT max_avg_rating FROM MaxAvg);\\n',\n",
    "  'SQL_DEEPNOTE_DATAFRAME_SQL',\n",
    "  audit_sql_comment='',\n",
    "  sql_cache_mode='cache_disabled',\n",
    "  return_variable_type='dataframe'\n",
    ")"
   ]
  },
  {
   "cell_type": "markdown",
   "metadata": {
    "cell_id": "610efa5f4d71497ea0d845b8482893d0",
    "deepnote_cell_type": "text-cell-h3",
    "formattedRanges": [],
    "is_collapsed": false,
    "tags": []
   },
   "source": [
    "### 44. Print the number of employees working in 'Ricardomouth' and 'Kristaburgh' location combined."
   ]
  },
  {
   "cell_type": "code",
   "execution_count": 3,
   "metadata": {
    "cell_id": "9ebb32ac6c0c4e4fbe1d16cd701e2270",
    "deepnote_cell_type": "sql",
    "deepnote_sql_source": "SELECT COUNT(*) from data WHERE Employee_City IN ('Ricardomouth','Kristaburgh');",
    "deepnote_to_be_reexecuted": false,
    "execution_context_id": "fa35dfaf-4935-4fa3-921a-2f507d212f5f",
    "execution_millis": 1002,
    "execution_start": 1743057218729,
    "source_hash": "97b2e450",
    "sql_integration_id": "deepnote-dataframe-sql",
    "tags": []
   },
   "outputs": [
    {
     "data": {
      "application/vnd.deepnote.dataframe.v3+json": {
       "column_count": 1,
       "columns": [
        {
         "dtype": "int64",
         "name": "count_star()",
         "stats": {
          "histogram": [
           {
            "bin_end": 60255.6,
            "bin_start": 60255.5,
            "count": 0
           },
           {
            "bin_end": 60255.7,
            "bin_start": 60255.6,
            "count": 0
           },
           {
            "bin_end": 60255.8,
            "bin_start": 60255.7,
            "count": 0
           },
           {
            "bin_end": 60255.9,
            "bin_start": 60255.8,
            "count": 0
           },
           {
            "bin_end": 60256,
            "bin_start": 60255.9,
            "count": 0
           },
           {
            "bin_end": 60256.1,
            "bin_start": 60256,
            "count": 1
           },
           {
            "bin_end": 60256.2,
            "bin_start": 60256.1,
            "count": 0
           },
           {
            "bin_end": 60256.3,
            "bin_start": 60256.2,
            "count": 0
           },
           {
            "bin_end": 60256.4,
            "bin_start": 60256.3,
            "count": 0
           },
           {
            "bin_end": 60256.5,
            "bin_start": 60256.4,
            "count": 0
           }
          ],
          "max": "60256",
          "min": "60256",
          "nan_count": 0,
          "unique_count": 1
         }
        },
        {
         "dtype": "int64",
         "name": "_deepnote_index_column"
        }
       ],
       "row_count": 1,
       "rows": [
        {
         "_deepnote_index_column": 0,
         "count_star()": 60256
        }
       ],
       "type": "dataframe"
      },
      "text/html": [
       "<div>\n",
       "<style scoped>\n",
       "    .dataframe tbody tr th:only-of-type {\n",
       "        vertical-align: middle;\n",
       "    }\n",
       "\n",
       "    .dataframe tbody tr th {\n",
       "        vertical-align: top;\n",
       "    }\n",
       "\n",
       "    .dataframe thead th {\n",
       "        text-align: right;\n",
       "    }\n",
       "</style>\n",
       "<table border=\"1\" class=\"dataframe\">\n",
       "  <thead>\n",
       "    <tr style=\"text-align: right;\">\n",
       "      <th></th>\n",
       "      <th>count_star()</th>\n",
       "    </tr>\n",
       "  </thead>\n",
       "  <tbody>\n",
       "    <tr>\n",
       "      <th>0</th>\n",
       "      <td>60256</td>\n",
       "    </tr>\n",
       "  </tbody>\n",
       "</table>\n",
       "</div>"
      ],
      "text/plain": [
       "   count_star()\n",
       "0         60256"
      ]
     },
     "execution_count": 3,
     "metadata": {},
     "output_type": "execute_result"
    }
   ],
   "source": [
    "_dntk.execute_sql(\n",
    "  'SELECT COUNT(*) from data WHERE Employee_City IN (\\'Ricardomouth\\',\\'Kristaburgh\\');',\n",
    "  'SQL_DEEPNOTE_DATAFRAME_SQL',\n",
    "  audit_sql_comment='',\n",
    "  sql_cache_mode='cache_disabled',\n",
    "  return_variable_type='dataframe'\n",
    ")"
   ]
  },
  {
   "cell_type": "markdown",
   "metadata": {
    "cell_id": "c302ec48b60c481a93c51ec09f33ce6e",
    "deepnote_cell_type": "text-cell-h3",
    "formattedRanges": [],
    "is_collapsed": false,
    "tags": []
   },
   "source": [
    "### 45. Print the distinct Company_Name corresponding to the 5 highest paid employees in the dataset. "
   ]
  },
  {
   "cell_type": "code",
   "execution_count": 21,
   "metadata": {
    "cell_id": "07e6485417e24d8999060dee69555ba9",
    "deepnote_cell_type": "sql",
    "deepnote_sql_source": "SELECT DISTINCT(Company_Name), Employee_Salary\nfrom (\n    SELECT Company_Name, Employee_Salary, DENSE_RANK() OVER(ORDER BY Employee_Salary DESC) as rnk\n    from data\n) ranked\nwhere rnk==5;",
    "deepnote_to_be_reexecuted": false,
    "execution_context_id": "fa35dfaf-4935-4fa3-921a-2f507d212f5f",
    "execution_millis": 66,
    "execution_start": 1743057735970,
    "source_hash": "701dabd",
    "sql_integration_id": "deepnote-dataframe-sql",
    "tags": []
   },
   "outputs": [
    {
     "data": {
      "application/vnd.deepnote.dataframe.v3+json": {
       "column_count": 2,
       "columns": [
        {
         "dtype": "object",
         "name": "Company_Name",
         "stats": {
          "categories": [
           {
            "count": 1,
            "name": "Wallace, Smith and Shepard"
           },
           {
            "count": 1,
            "name": "Scott Inc"
           },
           {
            "count": 2,
            "name": "2 others"
           }
          ],
          "nan_count": 0,
          "unique_count": 4
         }
        },
        {
         "dtype": "int64",
         "name": "Employee_Salary",
         "stats": {
          "histogram": [
           {
            "bin_end": 999949.6,
            "bin_start": 999949.5,
            "count": 0
           },
           {
            "bin_end": 999949.7,
            "bin_start": 999949.6,
            "count": 0
           },
           {
            "bin_end": 999949.8,
            "bin_start": 999949.7,
            "count": 0
           },
           {
            "bin_end": 999949.9,
            "bin_start": 999949.8,
            "count": 0
           },
           {
            "bin_end": 999950,
            "bin_start": 999949.9,
            "count": 0
           },
           {
            "bin_end": 999950.1,
            "bin_start": 999950,
            "count": 4
           },
           {
            "bin_end": 999950.2,
            "bin_start": 999950.1,
            "count": 0
           },
           {
            "bin_end": 999950.3,
            "bin_start": 999950.2,
            "count": 0
           },
           {
            "bin_end": 999950.4,
            "bin_start": 999950.3,
            "count": 0
           },
           {
            "bin_end": 999950.5,
            "bin_start": 999950.4,
            "count": 0
           }
          ],
          "max": "999950",
          "min": "999950",
          "nan_count": 0,
          "unique_count": 1
         }
        },
        {
         "dtype": "int64",
         "name": "_deepnote_index_column"
        }
       ],
       "row_count": 4,
       "rows": [
        {
         "Company_Name": "Wallace, Smith and Shepard",
         "Employee_Salary": 999950,
         "_deepnote_index_column": 0
        },
        {
         "Company_Name": "Scott Inc",
         "Employee_Salary": 999950,
         "_deepnote_index_column": 1
        },
        {
         "Company_Name": "Nichols-James",
         "Employee_Salary": 999950,
         "_deepnote_index_column": 2
        },
        {
         "Company_Name": "Baker, Allen and Edwards",
         "Employee_Salary": 999950,
         "_deepnote_index_column": 3
        }
       ],
       "type": "dataframe"
      },
      "text/html": [
       "<div>\n",
       "<style scoped>\n",
       "    .dataframe tbody tr th:only-of-type {\n",
       "        vertical-align: middle;\n",
       "    }\n",
       "\n",
       "    .dataframe tbody tr th {\n",
       "        vertical-align: top;\n",
       "    }\n",
       "\n",
       "    .dataframe thead th {\n",
       "        text-align: right;\n",
       "    }\n",
       "</style>\n",
       "<table border=\"1\" class=\"dataframe\">\n",
       "  <thead>\n",
       "    <tr style=\"text-align: right;\">\n",
       "      <th></th>\n",
       "      <th>Company_Name</th>\n",
       "      <th>Employee_Salary</th>\n",
       "    </tr>\n",
       "  </thead>\n",
       "  <tbody>\n",
       "    <tr>\n",
       "      <th>0</th>\n",
       "      <td>Wallace, Smith and Shepard</td>\n",
       "      <td>999950</td>\n",
       "    </tr>\n",
       "    <tr>\n",
       "      <th>1</th>\n",
       "      <td>Scott Inc</td>\n",
       "      <td>999950</td>\n",
       "    </tr>\n",
       "    <tr>\n",
       "      <th>2</th>\n",
       "      <td>Nichols-James</td>\n",
       "      <td>999950</td>\n",
       "    </tr>\n",
       "    <tr>\n",
       "      <th>3</th>\n",
       "      <td>Baker, Allen and Edwards</td>\n",
       "      <td>999950</td>\n",
       "    </tr>\n",
       "  </tbody>\n",
       "</table>\n",
       "</div>"
      ],
      "text/plain": [
       "                 Company_Name  Employee_Salary\n",
       "0  Wallace, Smith and Shepard           999950\n",
       "1                   Scott Inc           999950\n",
       "2               Nichols-James           999950\n",
       "3    Baker, Allen and Edwards           999950"
      ]
     },
     "execution_count": 21,
     "metadata": {},
     "output_type": "execute_result"
    }
   ],
   "source": [
    "_dntk.execute_sql(\n",
    "  'SELECT DISTINCT(Company_Name), Employee_Salary\\nfrom (\\n    SELECT Company_Name, Employee_Salary, DENSE_RANK() OVER(ORDER BY Employee_Salary DESC) as rnk\\n    from data\\n) ranked\\nwhere rnk==5;',\n",
    "  'SQL_DEEPNOTE_DATAFRAME_SQL',\n",
    "  audit_sql_comment='',\n",
    "  sql_cache_mode='cache_disabled',\n",
    "  return_variable_type='dataframe'\n",
    ")"
   ]
  },
  {
   "cell_type": "markdown",
   "metadata": {
    "cell_id": "cad3af6d82af4f6f82ae016072ee8a5e",
    "deepnote_cell_type": "text-cell-h3",
    "formattedRanges": [],
    "is_collapsed": false,
    "tags": []
   },
   "source": [
    "### 46. Check if any of the columns has NULL values. "
   ]
  },
  {
   "cell_type": "code",
   "execution_count": 4,
   "metadata": {
    "cell_id": "3c7b2e4e2bee42178ec4991b59c013dd",
    "deepnote_cell_type": "sql",
    "deepnote_sql_source": "SELECT * FROM data WHERE Name IS NULL OR Company_Name IS NULL; # and so on",
    "deepnote_to_be_reexecuted": false,
    "execution_context_id": "50d4c5fe-2840-4f57-81a8-ee4facb4bb47",
    "execution_millis": 1152,
    "execution_start": 1743135046036,
    "source_hash": "cd639c5e",
    "sql_integration_id": "deepnote-dataframe-sql",
    "tags": []
   },
   "outputs": [
    {
     "data": {
      "application/vnd.deepnote.dataframe.v3+json": {
       "column_count": 8,
       "columns": [
        {
         "dtype": "object",
         "name": "Name",
         "stats": {
          "categories": [],
          "nan_count": 0,
          "unique_count": 0
         }
        },
        {
         "dtype": "object",
         "name": "Company_Name",
         "stats": {
          "categories": [],
          "nan_count": 0,
          "unique_count": 0
         }
        },
        {
         "dtype": "object",
         "name": "Employee_Job_Title",
         "stats": {
          "categories": [],
          "nan_count": 0,
          "unique_count": 0
         }
        },
        {
         "dtype": "object",
         "name": "Employee_City",
         "stats": {
          "categories": [],
          "nan_count": 0,
          "unique_count": 0
         }
        },
        {
         "dtype": "object",
         "name": "Employee_Country",
         "stats": {
          "categories": [],
          "nan_count": 0,
          "unique_count": 0
         }
        },
        {
         "dtype": "int64",
         "name": "Employee_Salary",
         "stats": {
          "histogram": [
           {
            "bin_end": 0.1,
            "bin_start": 0,
            "count": 0
           },
           {
            "bin_end": 0.2,
            "bin_start": 0.1,
            "count": 0
           },
           {
            "bin_end": 0.30000000000000004,
            "bin_start": 0.2,
            "count": 0
           },
           {
            "bin_end": 0.4,
            "bin_start": 0.30000000000000004,
            "count": 0
           },
           {
            "bin_end": 0.5,
            "bin_start": 0.4,
            "count": 0
           },
           {
            "bin_end": 0.6000000000000001,
            "bin_start": 0.5,
            "count": 0
           },
           {
            "bin_end": 0.7000000000000001,
            "bin_start": 0.6000000000000001,
            "count": 0
           },
           {
            "bin_end": 0.8,
            "bin_start": 0.7000000000000001,
            "count": 0
           },
           {
            "bin_end": 0.9,
            "bin_start": 0.8,
            "count": 0
           },
           {
            "bin_end": 1,
            "bin_start": 0.9,
            "count": 0
           }
          ],
          "max": null,
          "min": null,
          "nan_count": 0,
          "unique_count": 0
         }
        },
        {
         "dtype": "object",
         "name": "Employment_Status",
         "stats": {
          "categories": [],
          "nan_count": 0,
          "unique_count": 0
         }
        },
        {
         "dtype": "float64",
         "name": "Employee_Rating",
         "stats": {
          "histogram": [
           {
            "bin_end": 0.1,
            "bin_start": 0,
            "count": 0
           },
           {
            "bin_end": 0.2,
            "bin_start": 0.1,
            "count": 0
           },
           {
            "bin_end": 0.30000000000000004,
            "bin_start": 0.2,
            "count": 0
           },
           {
            "bin_end": 0.4,
            "bin_start": 0.30000000000000004,
            "count": 0
           },
           {
            "bin_end": 0.5,
            "bin_start": 0.4,
            "count": 0
           },
           {
            "bin_end": 0.6000000000000001,
            "bin_start": 0.5,
            "count": 0
           },
           {
            "bin_end": 0.7000000000000001,
            "bin_start": 0.6000000000000001,
            "count": 0
           },
           {
            "bin_end": 0.8,
            "bin_start": 0.7000000000000001,
            "count": 0
           },
           {
            "bin_end": 0.9,
            "bin_start": 0.8,
            "count": 0
           },
           {
            "bin_end": 1,
            "bin_start": 0.9,
            "count": 0
           }
          ],
          "max": null,
          "min": null,
          "nan_count": 0,
          "unique_count": 0
         }
        },
        {
         "dtype": "int64",
         "name": "_deepnote_index_column"
        }
       ],
       "row_count": 0,
       "rows": [],
       "type": "dataframe"
      },
      "text/html": [
       "<div>\n",
       "<style scoped>\n",
       "    .dataframe tbody tr th:only-of-type {\n",
       "        vertical-align: middle;\n",
       "    }\n",
       "\n",
       "    .dataframe tbody tr th {\n",
       "        vertical-align: top;\n",
       "    }\n",
       "\n",
       "    .dataframe thead th {\n",
       "        text-align: right;\n",
       "    }\n",
       "</style>\n",
       "<table border=\"1\" class=\"dataframe\">\n",
       "  <thead>\n",
       "    <tr style=\"text-align: right;\">\n",
       "      <th></th>\n",
       "      <th>Name</th>\n",
       "      <th>Company_Name</th>\n",
       "      <th>Employee_Job_Title</th>\n",
       "      <th>Employee_City</th>\n",
       "      <th>Employee_Country</th>\n",
       "      <th>Employee_Salary</th>\n",
       "      <th>Employment_Status</th>\n",
       "      <th>Employee_Rating</th>\n",
       "    </tr>\n",
       "  </thead>\n",
       "  <tbody>\n",
       "  </tbody>\n",
       "</table>\n",
       "</div>"
      ],
      "text/plain": [
       "Empty DataFrame\n",
       "Columns: [Name, Company_Name, Employee_Job_Title, Employee_City, Employee_Country, Employee_Salary, Employment_Status, Employee_Rating]\n",
       "Index: []"
      ]
     },
     "execution_count": 4,
     "metadata": {},
     "output_type": "execute_result"
    }
   ],
   "source": [
    "_dntk.execute_sql(\n",
    "  'SELECT * FROM data WHERE Name IS NULL OR Company_Name IS NULL; # and so on',\n",
    "  'SQL_DEEPNOTE_DATAFRAME_SQL',\n",
    "  audit_sql_comment='',\n",
    "  sql_cache_mode='cache_disabled',\n",
    "  return_variable_type='dataframe'\n",
    ")"
   ]
  },
  {
   "cell_type": "markdown",
   "metadata": {
    "cell_id": "662d77818d164b9883e72618dc7f698f",
    "deepnote_cell_type": "text-cell-h3",
    "formattedRanges": [],
    "is_collapsed": false,
    "tags": []
   },
   "source": [
    "### 47. Print the data type of every column in the data."
   ]
  },
  {
   "cell_type": "code",
   "execution_count": 14,
   "metadata": {
    "cell_id": "9462e9bc14d44404a665dec3096534b7",
    "deepnote_cell_type": "sql",
    "deepnote_sql_source": "",
    "execution_context_id": "50d4c5fe-2840-4f57-81a8-ee4facb4bb47",
    "execution_millis": 1,
    "execution_start": 1743135510385,
    "source_hash": "45cc6295",
    "sql_integration_id": "deepnote-dataframe-sql",
    "tags": []
   },
   "outputs": [],
   "source": [
    "_dntk.execute_sql(\n",
    "  '',\n",
    "  'SQL_DEEPNOTE_DATAFRAME_SQL',\n",
    "  audit_sql_comment='',\n",
    "  sql_cache_mode='cache_disabled',\n",
    "  return_variable_type='dataframe'\n",
    ")"
   ]
  },
  {
   "cell_type": "markdown",
   "metadata": {
    "cell_id": "926c34447b1e4976b102d43bcb614787",
    "deepnote_cell_type": "text-cell-h3",
    "formattedRanges": [],
    "is_collapsed": false,
    "tags": []
   },
   "source": [
    "### 48. Print the number of employees with Employee_Rating greater than the average Employee_Rating"
   ]
  },
  {
   "cell_type": "code",
   "execution_count": 18,
   "metadata": {
    "cell_id": "4892a08d8c364421bd61d3281e8fa494",
    "deepnote_cell_type": "sql",
    "deepnote_sql_source": "SELECT COUNT(*) FROM data WHERE Employee_Rating>(SELECT AVG(Employee_Rating) from data);",
    "deepnote_to_be_reexecuted": false,
    "execution_context_id": "50d4c5fe-2840-4f57-81a8-ee4facb4bb47",
    "execution_millis": 61,
    "execution_start": 1743135598715,
    "source_hash": "8b169c31",
    "sql_integration_id": "deepnote-dataframe-sql",
    "tags": []
   },
   "outputs": [
    {
     "data": {
      "application/vnd.deepnote.dataframe.v3+json": {
       "column_count": 1,
       "columns": [
        {
         "dtype": "int64",
         "name": "count_star()",
         "stats": {
          "histogram": [
           {
            "bin_end": 147547.6,
            "bin_start": 147547.5,
            "count": 0
           },
           {
            "bin_end": 147547.7,
            "bin_start": 147547.6,
            "count": 0
           },
           {
            "bin_end": 147547.8,
            "bin_start": 147547.7,
            "count": 0
           },
           {
            "bin_end": 147547.9,
            "bin_start": 147547.8,
            "count": 0
           },
           {
            "bin_end": 147548,
            "bin_start": 147547.9,
            "count": 0
           },
           {
            "bin_end": 147548.1,
            "bin_start": 147548,
            "count": 1
           },
           {
            "bin_end": 147548.2,
            "bin_start": 147548.1,
            "count": 0
           },
           {
            "bin_end": 147548.3,
            "bin_start": 147548.2,
            "count": 0
           },
           {
            "bin_end": 147548.4,
            "bin_start": 147548.3,
            "count": 0
           },
           {
            "bin_end": 147548.5,
            "bin_start": 147548.4,
            "count": 0
           }
          ],
          "max": "147548",
          "min": "147548",
          "nan_count": 0,
          "unique_count": 1
         }
        },
        {
         "dtype": "int64",
         "name": "_deepnote_index_column"
        }
       ],
       "row_count": 1,
       "rows": [
        {
         "_deepnote_index_column": 0,
         "count_star()": 147548
        }
       ],
       "type": "dataframe"
      },
      "text/html": [
       "<div>\n",
       "<style scoped>\n",
       "    .dataframe tbody tr th:only-of-type {\n",
       "        vertical-align: middle;\n",
       "    }\n",
       "\n",
       "    .dataframe tbody tr th {\n",
       "        vertical-align: top;\n",
       "    }\n",
       "\n",
       "    .dataframe thead th {\n",
       "        text-align: right;\n",
       "    }\n",
       "</style>\n",
       "<table border=\"1\" class=\"dataframe\">\n",
       "  <thead>\n",
       "    <tr style=\"text-align: right;\">\n",
       "      <th></th>\n",
       "      <th>count_star()</th>\n",
       "    </tr>\n",
       "  </thead>\n",
       "  <tbody>\n",
       "    <tr>\n",
       "      <th>0</th>\n",
       "      <td>147548</td>\n",
       "    </tr>\n",
       "  </tbody>\n",
       "</table>\n",
       "</div>"
      ],
      "text/plain": [
       "   count_star()\n",
       "0        147548"
      ]
     },
     "execution_count": 18,
     "metadata": {},
     "output_type": "execute_result"
    }
   ],
   "source": [
    "_dntk.execute_sql(\n",
    "  'SELECT COUNT(*) FROM data WHERE Employee_Rating>(SELECT AVG(Employee_Rating) from data);',\n",
    "  'SQL_DEEPNOTE_DATAFRAME_SQL',\n",
    "  audit_sql_comment='',\n",
    "  sql_cache_mode='cache_disabled',\n",
    "  return_variable_type='dataframe'\n",
    ")"
   ]
  },
  {
   "cell_type": "markdown",
   "metadata": {
    "cell_id": "fc3aa038aff9401f8bf6a14cda48372d",
    "deepnote_cell_type": "text-cell-h3",
    "formattedRanges": [],
    "is_collapsed": false,
    "tags": []
   },
   "source": [
    "### 49. Find the employee which has the maximum salary among the ones with  the minimum Employee_Rating "
   ]
  },
  {
   "cell_type": "code",
   "execution_count": 24,
   "metadata": {
    "cell_id": "23e1fec7d6f945c0abf89dc1fdbd673a",
    "deepnote_cell_type": "sql",
    "deepnote_sql_source": "(SELECT * FROM data WHERE Employee_Rating=(SELECT MIN(Employee_Rating) from data) ORDER BY Employee_Salary DESC LIMIT 1);",
    "deepnote_to_be_reexecuted": false,
    "execution_context_id": "50d4c5fe-2840-4f57-81a8-ee4facb4bb47",
    "execution_millis": 133,
    "execution_start": 1743135780469,
    "source_hash": "dede5cee",
    "sql_integration_id": "deepnote-dataframe-sql",
    "tags": []
   },
   "outputs": [
    {
     "data": {
      "application/vnd.deepnote.dataframe.v3+json": {
       "column_count": 8,
       "columns": [
        {
         "dtype": "object",
         "name": "Name",
         "stats": {
          "categories": [
           {
            "count": 1,
            "name": "Austin Poole"
           }
          ],
          "nan_count": 0,
          "unique_count": 1
         }
        },
        {
         "dtype": "object",
         "name": "Company_Name",
         "stats": {
          "categories": [
           {
            "count": 1,
            "name": "White, Mcclain and Cobb"
           }
          ],
          "nan_count": 0,
          "unique_count": 1
         }
        },
        {
         "dtype": "object",
         "name": "Employee_Job_Title",
         "stats": {
          "categories": [
           {
            "count": 1,
            "name": "Administrator"
           }
          ],
          "nan_count": 0,
          "unique_count": 1
         }
        },
        {
         "dtype": "object",
         "name": "Employee_City",
         "stats": {
          "categories": [
           {
            "count": 1,
            "name": "Whiteside"
           }
          ],
          "nan_count": 0,
          "unique_count": 1
         }
        },
        {
         "dtype": "object",
         "name": "Employee_Country",
         "stats": {
          "categories": [
           {
            "count": 1,
            "name": "Saint Kitts and Nevis"
           }
          ],
          "nan_count": 0,
          "unique_count": 1
         }
        },
        {
         "dtype": "int64",
         "name": "Employee_Salary",
         "stats": {
          "histogram": [
           {
            "bin_end": 999689.6,
            "bin_start": 999689.5,
            "count": 0
           },
           {
            "bin_end": 999689.7,
            "bin_start": 999689.6,
            "count": 0
           },
           {
            "bin_end": 999689.8,
            "bin_start": 999689.7,
            "count": 0
           },
           {
            "bin_end": 999689.9,
            "bin_start": 999689.8,
            "count": 0
           },
           {
            "bin_end": 999690,
            "bin_start": 999689.9,
            "count": 0
           },
           {
            "bin_end": 999690.1,
            "bin_start": 999690,
            "count": 1
           },
           {
            "bin_end": 999690.2,
            "bin_start": 999690.1,
            "count": 0
           },
           {
            "bin_end": 999690.3,
            "bin_start": 999690.2,
            "count": 0
           },
           {
            "bin_end": 999690.4,
            "bin_start": 999690.3,
            "count": 0
           },
           {
            "bin_end": 999690.5,
            "bin_start": 999690.4,
            "count": 0
           }
          ],
          "max": "999690",
          "min": "999690",
          "nan_count": 0,
          "unique_count": 1
         }
        },
        {
         "dtype": "object",
         "name": "Employment_Status",
         "stats": {
          "categories": [
           {
            "count": 1,
            "name": "Intern"
           }
          ],
          "nan_count": 0,
          "unique_count": 1
         }
        },
        {
         "dtype": "float64",
         "name": "Employee_Rating",
         "stats": {
          "histogram": [
           {
            "bin_end": -0.4,
            "bin_start": -0.5,
            "count": 0
           },
           {
            "bin_end": -0.3,
            "bin_start": -0.4,
            "count": 0
           },
           {
            "bin_end": -0.19999999999999996,
            "bin_start": -0.3,
            "count": 0
           },
           {
            "bin_end": -0.09999999999999998,
            "bin_start": -0.19999999999999996,
            "count": 0
           },
           {
            "bin_end": 0,
            "bin_start": -0.09999999999999998,
            "count": 0
           },
           {
            "bin_end": 0.10000000000000009,
            "bin_start": 0,
            "count": 1
           },
           {
            "bin_end": 0.20000000000000007,
            "bin_start": 0.10000000000000009,
            "count": 0
           },
           {
            "bin_end": 0.30000000000000004,
            "bin_start": 0.20000000000000007,
            "count": 0
           },
           {
            "bin_end": 0.4,
            "bin_start": 0.30000000000000004,
            "count": 0
           },
           {
            "bin_end": 0.5,
            "bin_start": 0.4,
            "count": 0
           }
          ],
          "max": "0.0",
          "min": "0.0",
          "nan_count": 0,
          "unique_count": 1
         }
        },
        {
         "dtype": "int64",
         "name": "_deepnote_index_column"
        }
       ],
       "row_count": 1,
       "rows": [
        {
         "Company_Name": "White, Mcclain and Cobb",
         "Employee_City": "Whiteside",
         "Employee_Country": "Saint Kitts and Nevis",
         "Employee_Job_Title": "Administrator",
         "Employee_Rating": 0,
         "Employee_Salary": 999690,
         "Employment_Status": "Intern",
         "Name": "Austin Poole",
         "_deepnote_index_column": 0
        }
       ],
       "type": "dataframe"
      },
      "text/html": [
       "<div>\n",
       "<style scoped>\n",
       "    .dataframe tbody tr th:only-of-type {\n",
       "        vertical-align: middle;\n",
       "    }\n",
       "\n",
       "    .dataframe tbody tr th {\n",
       "        vertical-align: top;\n",
       "    }\n",
       "\n",
       "    .dataframe thead th {\n",
       "        text-align: right;\n",
       "    }\n",
       "</style>\n",
       "<table border=\"1\" class=\"dataframe\">\n",
       "  <thead>\n",
       "    <tr style=\"text-align: right;\">\n",
       "      <th></th>\n",
       "      <th>Name</th>\n",
       "      <th>Company_Name</th>\n",
       "      <th>Employee_Job_Title</th>\n",
       "      <th>Employee_City</th>\n",
       "      <th>Employee_Country</th>\n",
       "      <th>Employee_Salary</th>\n",
       "      <th>Employment_Status</th>\n",
       "      <th>Employee_Rating</th>\n",
       "    </tr>\n",
       "  </thead>\n",
       "  <tbody>\n",
       "    <tr>\n",
       "      <th>0</th>\n",
       "      <td>Austin Poole</td>\n",
       "      <td>White, Mcclain and Cobb</td>\n",
       "      <td>Administrator</td>\n",
       "      <td>Whiteside</td>\n",
       "      <td>Saint Kitts and Nevis</td>\n",
       "      <td>999690</td>\n",
       "      <td>Intern</td>\n",
       "      <td>0.0</td>\n",
       "    </tr>\n",
       "  </tbody>\n",
       "</table>\n",
       "</div>"
      ],
      "text/plain": [
       "           Name             Company_Name Employee_Job_Title Employee_City  \\\n",
       "0  Austin Poole  White, Mcclain and Cobb      Administrator     Whiteside   \n",
       "\n",
       "        Employee_Country  Employee_Salary Employment_Status  Employee_Rating  \n",
       "0  Saint Kitts and Nevis           999690            Intern              0.0  "
      ]
     },
     "execution_count": 24,
     "metadata": {},
     "output_type": "execute_result"
    }
   ],
   "source": [
    "_dntk.execute_sql(\n",
    "  '(SELECT * FROM data WHERE Employee_Rating=(SELECT MIN(Employee_Rating) from data) ORDER BY Employee_Salary DESC LIMIT 1);',\n",
    "  'SQL_DEEPNOTE_DATAFRAME_SQL',\n",
    "  audit_sql_comment='',\n",
    "  sql_cache_mode='cache_disabled',\n",
    "  return_variable_type='dataframe'\n",
    ")"
   ]
  },
  {
   "cell_type": "markdown",
   "metadata": {
    "cell_id": "56c77e54bf464576848a574f90301013",
    "deepnote_cell_type": "text-cell-h3",
    "formattedRanges": [],
    "is_collapsed": false,
    "tags": []
   },
   "source": [
    "### 50. Sort the table in ascending order of Employee_Salary"
   ]
  },
  {
   "cell_type": "code",
   "execution_count": 26,
   "metadata": {
    "cell_id": "506964d4074d4936991c7c4015d1f26b",
    "deepnote_cell_type": "sql",
    "deepnote_sql_source": "SELECT * FROM data ORDER BY Employee_Salary;",
    "deepnote_to_be_reexecuted": false,
    "execution_context_id": "50d4c5fe-2840-4f57-81a8-ee4facb4bb47",
    "execution_millis": 428,
    "execution_start": 1743135813165,
    "source_hash": "339a209c",
    "sql_integration_id": "deepnote-dataframe-sql",
    "tags": []
   },
   "outputs": [
    {
     "data": {
      "application/vnd.deepnote.dataframe.v3+json": {
       "column_count": 8,
       "columns": [
        {
         "dtype": "object",
         "name": "Name"
        },
        {
         "dtype": "object",
         "name": "Company_Name"
        },
        {
         "dtype": "object",
         "name": "Employee_Job_Title"
        },
        {
         "dtype": "object",
         "name": "Employee_City"
        },
        {
         "dtype": "object",
         "name": "Employee_Country"
        },
        {
         "dtype": "int64",
         "name": "Employee_Salary"
        },
        {
         "dtype": "object",
         "name": "Employment_Status"
        },
        {
         "dtype": "float64",
         "name": "Employee_Rating"
        },
        {
         "dtype": "int64",
         "name": "_deepnote_index_column"
        }
       ],
       "row_count": 300000,
       "rows": [
        {
         "Company_Name": "White, Mcclain and Cobb",
         "Employee_City": "Wardfort",
         "Employee_Country": "Bermuda",
         "Employee_Job_Title": "Armed forces logistics/support/administrative officer",
         "Employee_Rating": 3.4,
         "Employee_Salary": 0,
         "Employment_Status": "Full Time",
         "Name": "Kristen Vasquez",
         "_deepnote_index_column": 0
        },
        {
         "Company_Name": "White, Mcclain and Cobb",
         "Employee_City": "New Cindychester",
         "Employee_Country": "Ethiopia",
         "Employee_Job_Title": "Garment/textile technologist",
         "Employee_Rating": 2.8,
         "Employee_Salary": 0,
         "Employment_Status": "Full Time",
         "Name": "Courtney Singleton",
         "_deepnote_index_column": 1
        },
        {
         "Company_Name": "Campos, Reynolds and Mccormick",
         "Employee_City": "North Melissafurt",
         "Employee_Country": "Zambia",
         "Employee_Job_Title": "Patent examiner",
         "Employee_Rating": 1.3,
         "Employee_Salary": 10,
         "Employment_Status": "Full Time",
         "Name": "Vanessa Wu",
         "_deepnote_index_column": 2
        },
        {
         "Company_Name": "Wallace, Smith and Shepard",
         "Employee_City": "Wardfort",
         "Employee_Country": "Albania",
         "Employee_Job_Title": "Trading standards officer",
         "Employee_Rating": 0.7,
         "Employee_Salary": 10,
         "Employment_Status": "Full Time",
         "Name": "Penny Meza",
         "_deepnote_index_column": 3
        },
        {
         "Company_Name": "Johnston, Fleming and Tanner",
         "Employee_City": "West Jamesview",
         "Employee_Country": "Libyan Arab Jamahiriya",
         "Employee_Job_Title": "Trading standards officer",
         "Employee_Rating": 1.1,
         "Employee_Salary": 10,
         "Employment_Status": "Intern",
         "Name": "Grace Smith",
         "_deepnote_index_column": 4
        },
        {
         "Company_Name": "White, Mcclain and Cobb",
         "Employee_City": "Whiteside",
         "Employee_Country": "Bermuda",
         "Employee_Job_Title": "Optometrist",
         "Employee_Rating": 4.3,
         "Employee_Salary": 20,
         "Employment_Status": "Full Time",
         "Name": "Laurie Williams",
         "_deepnote_index_column": 5
        },
        {
         "Company_Name": "Scott Inc",
         "Employee_City": "Ricardomouth",
         "Employee_Country": "Australia",
         "Employee_Job_Title": "Production engineer",
         "Employee_Rating": 2.3,
         "Employee_Salary": 20,
         "Employment_Status": "Full Time",
         "Name": "Steve Deleon",
         "_deepnote_index_column": 6
        },
        {
         "Company_Name": "James and Sons",
         "Employee_City": "New Russellton",
         "Employee_Country": "Belarus",
         "Employee_Job_Title": "Trading standards officer",
         "Employee_Rating": 2.7,
         "Employee_Salary": 30,
         "Employment_Status": "Full Time",
         "Name": "Amber Blake",
         "_deepnote_index_column": 7
        },
        {
         "Company_Name": "White, Mcclain and Cobb",
         "Employee_City": "Wardfort",
         "Employee_Country": "Australia",
         "Employee_Job_Title": "Naval architect",
         "Employee_Rating": 1.3,
         "Employee_Salary": 30,
         "Employment_Status": "Full Time",
         "Name": "Benjamin Flores",
         "_deepnote_index_column": 8
        },
        {
         "Company_Name": "Wallace, Smith and Shepard",
         "Employee_City": "Whiteside",
         "Employee_Country": "British Virgin Islands",
         "Employee_Job_Title": "Radiographer, therapeutic",
         "Employee_Rating": 1.9,
         "Employee_Salary": 30,
         "Employment_Status": "Full Time",
         "Name": "Jose Cannon",
         "_deepnote_index_column": 9
        }
       ],
       "type": "dataframe"
      },
      "text/html": [
       "<div>\n",
       "<style scoped>\n",
       "    .dataframe tbody tr th:only-of-type {\n",
       "        vertical-align: middle;\n",
       "    }\n",
       "\n",
       "    .dataframe tbody tr th {\n",
       "        vertical-align: top;\n",
       "    }\n",
       "\n",
       "    .dataframe thead th {\n",
       "        text-align: right;\n",
       "    }\n",
       "</style>\n",
       "<table border=\"1\" class=\"dataframe\">\n",
       "  <thead>\n",
       "    <tr style=\"text-align: right;\">\n",
       "      <th></th>\n",
       "      <th>Name</th>\n",
       "      <th>Company_Name</th>\n",
       "      <th>Employee_Job_Title</th>\n",
       "      <th>Employee_City</th>\n",
       "      <th>Employee_Country</th>\n",
       "      <th>Employee_Salary</th>\n",
       "      <th>Employment_Status</th>\n",
       "      <th>Employee_Rating</th>\n",
       "    </tr>\n",
       "  </thead>\n",
       "  <tbody>\n",
       "    <tr>\n",
       "      <th>0</th>\n",
       "      <td>Kristen Vasquez</td>\n",
       "      <td>White, Mcclain and Cobb</td>\n",
       "      <td>Armed forces logistics/support/administrative ...</td>\n",
       "      <td>Wardfort</td>\n",
       "      <td>Bermuda</td>\n",
       "      <td>0</td>\n",
       "      <td>Full Time</td>\n",
       "      <td>3.4</td>\n",
       "    </tr>\n",
       "    <tr>\n",
       "      <th>1</th>\n",
       "      <td>Courtney Singleton</td>\n",
       "      <td>White, Mcclain and Cobb</td>\n",
       "      <td>Garment/textile technologist</td>\n",
       "      <td>New Cindychester</td>\n",
       "      <td>Ethiopia</td>\n",
       "      <td>0</td>\n",
       "      <td>Full Time</td>\n",
       "      <td>2.8</td>\n",
       "    </tr>\n",
       "    <tr>\n",
       "      <th>2</th>\n",
       "      <td>Vanessa Wu</td>\n",
       "      <td>Campos, Reynolds and Mccormick</td>\n",
       "      <td>Patent examiner</td>\n",
       "      <td>North Melissafurt</td>\n",
       "      <td>Zambia</td>\n",
       "      <td>10</td>\n",
       "      <td>Full Time</td>\n",
       "      <td>1.3</td>\n",
       "    </tr>\n",
       "    <tr>\n",
       "      <th>3</th>\n",
       "      <td>Penny Meza</td>\n",
       "      <td>Wallace, Smith and Shepard</td>\n",
       "      <td>Trading standards officer</td>\n",
       "      <td>Wardfort</td>\n",
       "      <td>Albania</td>\n",
       "      <td>10</td>\n",
       "      <td>Full Time</td>\n",
       "      <td>0.7</td>\n",
       "    </tr>\n",
       "    <tr>\n",
       "      <th>4</th>\n",
       "      <td>Grace Smith</td>\n",
       "      <td>Johnston, Fleming and Tanner</td>\n",
       "      <td>Trading standards officer</td>\n",
       "      <td>West Jamesview</td>\n",
       "      <td>Libyan Arab Jamahiriya</td>\n",
       "      <td>10</td>\n",
       "      <td>Intern</td>\n",
       "      <td>1.1</td>\n",
       "    </tr>\n",
       "    <tr>\n",
       "      <th>...</th>\n",
       "      <td>...</td>\n",
       "      <td>...</td>\n",
       "      <td>...</td>\n",
       "      <td>...</td>\n",
       "      <td>...</td>\n",
       "      <td>...</td>\n",
       "      <td>...</td>\n",
       "      <td>...</td>\n",
       "    </tr>\n",
       "    <tr>\n",
       "      <th>299995</th>\n",
       "      <td>Dennis Sexton</td>\n",
       "      <td>Campos, Reynolds and Mccormick</td>\n",
       "      <td>Diplomatic Services operational officer</td>\n",
       "      <td>Kristaburgh</td>\n",
       "      <td>United Kingdom</td>\n",
       "      <td>999970</td>\n",
       "      <td>Full Time</td>\n",
       "      <td>0.9</td>\n",
       "    </tr>\n",
       "    <tr>\n",
       "      <th>299996</th>\n",
       "      <td>Jason Jenkins</td>\n",
       "      <td>Taylor-Ramos</td>\n",
       "      <td>Sales promotion account executive</td>\n",
       "      <td>Aliciafort</td>\n",
       "      <td>Pakistan</td>\n",
       "      <td>999980</td>\n",
       "      <td>Full Time</td>\n",
       "      <td>2.6</td>\n",
       "    </tr>\n",
       "    <tr>\n",
       "      <th>299997</th>\n",
       "      <td>Logan Jackson</td>\n",
       "      <td>White, Mcclain and Cobb</td>\n",
       "      <td>Ergonomist</td>\n",
       "      <td>Wardfort</td>\n",
       "      <td>Saint Helena</td>\n",
       "      <td>999980</td>\n",
       "      <td>Full Time</td>\n",
       "      <td>2.0</td>\n",
       "    </tr>\n",
       "    <tr>\n",
       "      <th>299998</th>\n",
       "      <td>Richard Kennedy</td>\n",
       "      <td>Thomas-Spencer</td>\n",
       "      <td>Energy manager</td>\n",
       "      <td>Aliciafort</td>\n",
       "      <td>Cook Islands</td>\n",
       "      <td>999980</td>\n",
       "      <td>Full Time</td>\n",
       "      <td>2.4</td>\n",
       "    </tr>\n",
       "    <tr>\n",
       "      <th>299999</th>\n",
       "      <td>Anna Lawson</td>\n",
       "      <td>Taylor-Ramos</td>\n",
       "      <td>Production engineer</td>\n",
       "      <td>Kristaburgh</td>\n",
       "      <td>Lesotho</td>\n",
       "      <td>999990</td>\n",
       "      <td>Full Time</td>\n",
       "      <td>4.0</td>\n",
       "    </tr>\n",
       "  </tbody>\n",
       "</table>\n",
       "<p>300000 rows × 8 columns</p>\n",
       "</div>"
      ],
      "text/plain": [
       "                      Name                    Company_Name  \\\n",
       "0          Kristen Vasquez         White, Mcclain and Cobb   \n",
       "1       Courtney Singleton         White, Mcclain and Cobb   \n",
       "2               Vanessa Wu  Campos, Reynolds and Mccormick   \n",
       "3               Penny Meza      Wallace, Smith and Shepard   \n",
       "4              Grace Smith    Johnston, Fleming and Tanner   \n",
       "...                    ...                             ...   \n",
       "299995       Dennis Sexton  Campos, Reynolds and Mccormick   \n",
       "299996       Jason Jenkins                    Taylor-Ramos   \n",
       "299997       Logan Jackson         White, Mcclain and Cobb   \n",
       "299998     Richard Kennedy                  Thomas-Spencer   \n",
       "299999         Anna Lawson                    Taylor-Ramos   \n",
       "\n",
       "                                       Employee_Job_Title      Employee_City  \\\n",
       "0       Armed forces logistics/support/administrative ...           Wardfort   \n",
       "1                            Garment/textile technologist   New Cindychester   \n",
       "2                                         Patent examiner  North Melissafurt   \n",
       "3                               Trading standards officer           Wardfort   \n",
       "4                               Trading standards officer     West Jamesview   \n",
       "...                                                   ...                ...   \n",
       "299995            Diplomatic Services operational officer        Kristaburgh   \n",
       "299996                  Sales promotion account executive         Aliciafort   \n",
       "299997                                         Ergonomist           Wardfort   \n",
       "299998                                     Energy manager         Aliciafort   \n",
       "299999                                Production engineer        Kristaburgh   \n",
       "\n",
       "              Employee_Country  Employee_Salary Employment_Status  \\\n",
       "0                      Bermuda                0         Full Time   \n",
       "1                     Ethiopia                0         Full Time   \n",
       "2                       Zambia               10         Full Time   \n",
       "3                      Albania               10         Full Time   \n",
       "4       Libyan Arab Jamahiriya               10            Intern   \n",
       "...                        ...              ...               ...   \n",
       "299995          United Kingdom           999970         Full Time   \n",
       "299996                Pakistan           999980         Full Time   \n",
       "299997            Saint Helena           999980         Full Time   \n",
       "299998            Cook Islands           999980         Full Time   \n",
       "299999                 Lesotho           999990         Full Time   \n",
       "\n",
       "        Employee_Rating  \n",
       "0                   3.4  \n",
       "1                   2.8  \n",
       "2                   1.3  \n",
       "3                   0.7  \n",
       "4                   1.1  \n",
       "...                 ...  \n",
       "299995              0.9  \n",
       "299996              2.6  \n",
       "299997              2.0  \n",
       "299998              2.4  \n",
       "299999              4.0  \n",
       "\n",
       "[300000 rows x 8 columns]"
      ]
     },
     "execution_count": 26,
     "metadata": {},
     "output_type": "execute_result"
    }
   ],
   "source": [
    "_dntk.execute_sql(\n",
    "  'SELECT * FROM data ORDER BY Employee_Salary;',\n",
    "  'SQL_DEEPNOTE_DATAFRAME_SQL',\n",
    "  audit_sql_comment='',\n",
    "  sql_cache_mode='cache_disabled',\n",
    "  return_variable_type='dataframe'\n",
    ")"
   ]
  },
  {
   "cell_type": "markdown",
   "metadata": {
    "cell_id": "402e50b741bc441182217ae0706bf8c2",
    "deepnote_cell_type": "text-cell-h3",
    "formattedRanges": [],
    "is_collapsed": false,
    "tags": []
   },
   "source": [
    "### 51. Sort the table in descending order of Employee_Rating"
   ]
  },
  {
   "cell_type": "code",
   "execution_count": 30,
   "metadata": {
    "cell_id": "715fe90cc20d4539aa6ea1caf4b31ce2",
    "deepnote_cell_type": "sql",
    "deepnote_sql_source": "SELECT * FROM data ORDER BY Employee_Rating DESC;",
    "deepnote_to_be_reexecuted": false,
    "execution_context_id": "50d4c5fe-2840-4f57-81a8-ee4facb4bb47",
    "execution_millis": 396,
    "execution_start": 1743135851065,
    "source_hash": "63be673d",
    "sql_integration_id": "deepnote-dataframe-sql",
    "tags": []
   },
   "outputs": [
    {
     "data": {
      "application/vnd.deepnote.dataframe.v3+json": {
       "column_count": 8,
       "columns": [
        {
         "dtype": "object",
         "name": "Name"
        },
        {
         "dtype": "object",
         "name": "Company_Name"
        },
        {
         "dtype": "object",
         "name": "Employee_Job_Title"
        },
        {
         "dtype": "object",
         "name": "Employee_City"
        },
        {
         "dtype": "object",
         "name": "Employee_Country"
        },
        {
         "dtype": "int64",
         "name": "Employee_Salary"
        },
        {
         "dtype": "object",
         "name": "Employment_Status"
        },
        {
         "dtype": "float64",
         "name": "Employee_Rating"
        },
        {
         "dtype": "int64",
         "name": "_deepnote_index_column"
        }
       ],
       "row_count": 300000,
       "rows": [
        {
         "Company_Name": "James and Sons",
         "Employee_City": "New Russellton",
         "Employee_Country": "Cook Islands",
         "Employee_Job_Title": "Garment/textile technologist",
         "Employee_Rating": 5,
         "Employee_Salary": 694760,
         "Employment_Status": "Full Time",
         "Name": "Joshua Huffman",
         "_deepnote_index_column": 0
        },
        {
         "Company_Name": "Baker, Allen and Edwards",
         "Employee_City": "Kristaburgh",
         "Employee_Country": "Mongolia",
         "Employee_Job_Title": "Diplomatic Services operational officer",
         "Employee_Rating": 5,
         "Employee_Salary": 491710,
         "Employment_Status": "Intern",
         "Name": "Alan Carlson",
         "_deepnote_index_column": 1
        },
        {
         "Company_Name": "Johnston, Fleming and Tanner",
         "Employee_City": "North Melissafurt",
         "Employee_Country": "Togo",
         "Employee_Job_Title": "Regulatory affairs officer",
         "Employee_Rating": 5,
         "Employee_Salary": 933500,
         "Employment_Status": "Full Time",
         "Name": "Lisa Summers",
         "_deepnote_index_column": 2
        },
        {
         "Company_Name": "Johnston, Fleming and Tanner",
         "Employee_City": "Whiteside",
         "Employee_Country": "United States Virgin Islands",
         "Employee_Job_Title": "Garment/textile technologist",
         "Employee_Rating": 5,
         "Employee_Salary": 367630,
         "Employment_Status": "Full Time",
         "Name": "Timothy Woods",
         "_deepnote_index_column": 3
        },
        {
         "Company_Name": "Taylor-Ramos",
         "Employee_City": "Wardfort",
         "Employee_Country": "Tanzania",
         "Employee_Job_Title": "Armed forces logistics/support/administrative officer",
         "Employee_Rating": 5,
         "Employee_Salary": 66570,
         "Employment_Status": "Intern",
         "Name": "Cameron Hawkins",
         "_deepnote_index_column": 4
        },
        {
         "Company_Name": "White, Mcclain and Cobb",
         "Employee_City": "Ricardomouth",
         "Employee_Country": "Bahrain",
         "Employee_Job_Title": "Sales promotion account executive",
         "Employee_Rating": 5,
         "Employee_Salary": 401710,
         "Employment_Status": "Full Time",
         "Name": "Matthew Hood",
         "_deepnote_index_column": 5
        },
        {
         "Company_Name": "Andrade LLC",
         "Employee_City": "Whiteside",
         "Employee_Country": "Mongolia",
         "Employee_Job_Title": "Investment banker, corporate",
         "Employee_Rating": 5,
         "Employee_Salary": 301510,
         "Employment_Status": "Full Time",
         "Name": "Paula Obrien",
         "_deepnote_index_column": 6
        },
        {
         "Company_Name": "Andrade LLC",
         "Employee_City": "Aliciafort",
         "Employee_Country": "Faroe Islands",
         "Employee_Job_Title": "Sales promotion account executive",
         "Employee_Rating": 5,
         "Employee_Salary": 485410,
         "Employment_Status": "Full Time",
         "Name": "Heidi Miller",
         "_deepnote_index_column": 7
        },
        {
         "Company_Name": "Matthews Inc",
         "Employee_City": "West Jamesview",
         "Employee_Country": "Germany",
         "Employee_Job_Title": "Energy manager",
         "Employee_Rating": 5,
         "Employee_Salary": 253869,
         "Employment_Status": "Full Time",
         "Name": "Jonathan Perry",
         "_deepnote_index_column": 8
        },
        {
         "Company_Name": "Campos, Reynolds and Mccormick",
         "Employee_City": "West Jamesview",
         "Employee_Country": "Malawi",
         "Employee_Job_Title": "Equities trader",
         "Employee_Rating": 5,
         "Employee_Salary": 16250,
         "Employment_Status": "Intern",
         "Name": "Robert Torres",
         "_deepnote_index_column": 9
        }
       ],
       "type": "dataframe"
      },
      "text/html": [
       "<div>\n",
       "<style scoped>\n",
       "    .dataframe tbody tr th:only-of-type {\n",
       "        vertical-align: middle;\n",
       "    }\n",
       "\n",
       "    .dataframe tbody tr th {\n",
       "        vertical-align: top;\n",
       "    }\n",
       "\n",
       "    .dataframe thead th {\n",
       "        text-align: right;\n",
       "    }\n",
       "</style>\n",
       "<table border=\"1\" class=\"dataframe\">\n",
       "  <thead>\n",
       "    <tr style=\"text-align: right;\">\n",
       "      <th></th>\n",
       "      <th>Name</th>\n",
       "      <th>Company_Name</th>\n",
       "      <th>Employee_Job_Title</th>\n",
       "      <th>Employee_City</th>\n",
       "      <th>Employee_Country</th>\n",
       "      <th>Employee_Salary</th>\n",
       "      <th>Employment_Status</th>\n",
       "      <th>Employee_Rating</th>\n",
       "    </tr>\n",
       "  </thead>\n",
       "  <tbody>\n",
       "    <tr>\n",
       "      <th>0</th>\n",
       "      <td>Joshua Huffman</td>\n",
       "      <td>James and Sons</td>\n",
       "      <td>Garment/textile technologist</td>\n",
       "      <td>New Russellton</td>\n",
       "      <td>Cook Islands</td>\n",
       "      <td>694760</td>\n",
       "      <td>Full Time</td>\n",
       "      <td>5.0</td>\n",
       "    </tr>\n",
       "    <tr>\n",
       "      <th>1</th>\n",
       "      <td>Alan Carlson</td>\n",
       "      <td>Baker, Allen and Edwards</td>\n",
       "      <td>Diplomatic Services operational officer</td>\n",
       "      <td>Kristaburgh</td>\n",
       "      <td>Mongolia</td>\n",
       "      <td>491710</td>\n",
       "      <td>Intern</td>\n",
       "      <td>5.0</td>\n",
       "    </tr>\n",
       "    <tr>\n",
       "      <th>2</th>\n",
       "      <td>Lisa Summers</td>\n",
       "      <td>Johnston, Fleming and Tanner</td>\n",
       "      <td>Regulatory affairs officer</td>\n",
       "      <td>North Melissafurt</td>\n",
       "      <td>Togo</td>\n",
       "      <td>933500</td>\n",
       "      <td>Full Time</td>\n",
       "      <td>5.0</td>\n",
       "    </tr>\n",
       "    <tr>\n",
       "      <th>3</th>\n",
       "      <td>Timothy Woods</td>\n",
       "      <td>Johnston, Fleming and Tanner</td>\n",
       "      <td>Garment/textile technologist</td>\n",
       "      <td>Whiteside</td>\n",
       "      <td>United States Virgin Islands</td>\n",
       "      <td>367630</td>\n",
       "      <td>Full Time</td>\n",
       "      <td>5.0</td>\n",
       "    </tr>\n",
       "    <tr>\n",
       "      <th>4</th>\n",
       "      <td>Cameron Hawkins</td>\n",
       "      <td>Taylor-Ramos</td>\n",
       "      <td>Armed forces logistics/support/administrative ...</td>\n",
       "      <td>Wardfort</td>\n",
       "      <td>Tanzania</td>\n",
       "      <td>66570</td>\n",
       "      <td>Intern</td>\n",
       "      <td>5.0</td>\n",
       "    </tr>\n",
       "    <tr>\n",
       "      <th>...</th>\n",
       "      <td>...</td>\n",
       "      <td>...</td>\n",
       "      <td>...</td>\n",
       "      <td>...</td>\n",
       "      <td>...</td>\n",
       "      <td>...</td>\n",
       "      <td>...</td>\n",
       "      <td>...</td>\n",
       "    </tr>\n",
       "    <tr>\n",
       "      <th>299995</th>\n",
       "      <td>Rebecca Mason</td>\n",
       "      <td>Nichols-James</td>\n",
       "      <td>Make</td>\n",
       "      <td>West Jamesview</td>\n",
       "      <td>Israel</td>\n",
       "      <td>106710</td>\n",
       "      <td>Intern</td>\n",
       "      <td>0.0</td>\n",
       "    </tr>\n",
       "    <tr>\n",
       "      <th>299996</th>\n",
       "      <td>Todd Mccormick</td>\n",
       "      <td>Taylor-Ramos</td>\n",
       "      <td>Diplomatic Services operational officer</td>\n",
       "      <td>West Jamesview</td>\n",
       "      <td>Costa Rica</td>\n",
       "      <td>334730</td>\n",
       "      <td>Full Time</td>\n",
       "      <td>0.0</td>\n",
       "    </tr>\n",
       "    <tr>\n",
       "      <th>299997</th>\n",
       "      <td>Kevin Mckenzie</td>\n",
       "      <td>Nichols-James</td>\n",
       "      <td>Diplomatic Services operational officer</td>\n",
       "      <td>Whitakerbury</td>\n",
       "      <td>Portugal</td>\n",
       "      <td>306210</td>\n",
       "      <td>Full Time</td>\n",
       "      <td>0.0</td>\n",
       "    </tr>\n",
       "    <tr>\n",
       "      <th>299998</th>\n",
       "      <td>Michael Hall</td>\n",
       "      <td>Matthews Inc</td>\n",
       "      <td>Make</td>\n",
       "      <td>New Cindychester</td>\n",
       "      <td>Turkey</td>\n",
       "      <td>978230</td>\n",
       "      <td>Full Time</td>\n",
       "      <td>0.0</td>\n",
       "    </tr>\n",
       "    <tr>\n",
       "      <th>299999</th>\n",
       "      <td>Thomas Gibson</td>\n",
       "      <td>Wallace, Smith and Shepard</td>\n",
       "      <td>Diplomatic Services operational officer</td>\n",
       "      <td>New Cindychester</td>\n",
       "      <td>Malawi</td>\n",
       "      <td>706300</td>\n",
       "      <td>Full Time</td>\n",
       "      <td>0.0</td>\n",
       "    </tr>\n",
       "  </tbody>\n",
       "</table>\n",
       "<p>300000 rows × 8 columns</p>\n",
       "</div>"
      ],
      "text/plain": [
       "                   Name                  Company_Name  \\\n",
       "0        Joshua Huffman                James and Sons   \n",
       "1          Alan Carlson      Baker, Allen and Edwards   \n",
       "2          Lisa Summers  Johnston, Fleming and Tanner   \n",
       "3         Timothy Woods  Johnston, Fleming and Tanner   \n",
       "4       Cameron Hawkins                  Taylor-Ramos   \n",
       "...                 ...                           ...   \n",
       "299995    Rebecca Mason                 Nichols-James   \n",
       "299996   Todd Mccormick                  Taylor-Ramos   \n",
       "299997   Kevin Mckenzie                 Nichols-James   \n",
       "299998     Michael Hall                  Matthews Inc   \n",
       "299999    Thomas Gibson    Wallace, Smith and Shepard   \n",
       "\n",
       "                                       Employee_Job_Title      Employee_City  \\\n",
       "0                            Garment/textile technologist     New Russellton   \n",
       "1                 Diplomatic Services operational officer        Kristaburgh   \n",
       "2                              Regulatory affairs officer  North Melissafurt   \n",
       "3                            Garment/textile technologist          Whiteside   \n",
       "4       Armed forces logistics/support/administrative ...           Wardfort   \n",
       "...                                                   ...                ...   \n",
       "299995                                               Make     West Jamesview   \n",
       "299996            Diplomatic Services operational officer     West Jamesview   \n",
       "299997            Diplomatic Services operational officer       Whitakerbury   \n",
       "299998                                               Make   New Cindychester   \n",
       "299999            Diplomatic Services operational officer   New Cindychester   \n",
       "\n",
       "                    Employee_Country  Employee_Salary Employment_Status  \\\n",
       "0                       Cook Islands           694760         Full Time   \n",
       "1                           Mongolia           491710            Intern   \n",
       "2                               Togo           933500         Full Time   \n",
       "3       United States Virgin Islands           367630         Full Time   \n",
       "4                           Tanzania            66570            Intern   \n",
       "...                              ...              ...               ...   \n",
       "299995                        Israel           106710            Intern   \n",
       "299996                    Costa Rica           334730         Full Time   \n",
       "299997                      Portugal           306210         Full Time   \n",
       "299998                        Turkey           978230         Full Time   \n",
       "299999                        Malawi           706300         Full Time   \n",
       "\n",
       "        Employee_Rating  \n",
       "0                   5.0  \n",
       "1                   5.0  \n",
       "2                   5.0  \n",
       "3                   5.0  \n",
       "4                   5.0  \n",
       "...                 ...  \n",
       "299995              0.0  \n",
       "299996              0.0  \n",
       "299997              0.0  \n",
       "299998              0.0  \n",
       "299999              0.0  \n",
       "\n",
       "[300000 rows x 8 columns]"
      ]
     },
     "execution_count": 30,
     "metadata": {},
     "output_type": "execute_result"
    }
   ],
   "source": [
    "_dntk.execute_sql(\n",
    "  'SELECT * FROM data ORDER BY Employee_Rating DESC;',\n",
    "  'SQL_DEEPNOTE_DATAFRAME_SQL',\n",
    "  audit_sql_comment='',\n",
    "  sql_cache_mode='cache_disabled',\n",
    "  return_variable_type='dataframe'\n",
    ")"
   ]
  },
  {
   "cell_type": "markdown",
   "metadata": {
    "cell_id": "ad39f5a000814441b21efa900d3292f0",
    "deepnote_cell_type": "text-cell-h3",
    "formattedRanges": [],
    "is_collapsed": false,
    "tags": []
   },
   "source": [
    "### 52. Print the name of 100th employee after sorting on Name column"
   ]
  },
  {
   "cell_type": "code",
   "execution_count": 34,
   "metadata": {
    "cell_id": "34476771a5c54396b36e7df3fe5937db",
    "deepnote_cell_type": "sql",
    "deepnote_sql_source": "SELECT * FROM data ORDER BY Name LIMIT 1 OFFSET 99;",
    "deepnote_to_be_reexecuted": false,
    "execution_context_id": "50d4c5fe-2840-4f57-81a8-ee4facb4bb47",
    "execution_millis": 17,
    "execution_start": 1743135933736,
    "source_hash": "f6d8bef0",
    "sql_integration_id": "deepnote-dataframe-sql",
    "tags": []
   },
   "outputs": [
    {
     "data": {
      "application/vnd.deepnote.dataframe.v3+json": {
       "column_count": 8,
       "columns": [
        {
         "dtype": "object",
         "name": "Name",
         "stats": {
          "categories": [
           {
            "count": 1,
            "name": "Aaron Brown"
           }
          ],
          "nan_count": 0,
          "unique_count": 1
         }
        },
        {
         "dtype": "object",
         "name": "Company_Name",
         "stats": {
          "categories": [
           {
            "count": 1,
            "name": "Marshall-Holloway"
           }
          ],
          "nan_count": 0,
          "unique_count": 1
         }
        },
        {
         "dtype": "object",
         "name": "Employee_Job_Title",
         "stats": {
          "categories": [
           {
            "count": 1,
            "name": "Energy manager"
           }
          ],
          "nan_count": 0,
          "unique_count": 1
         }
        },
        {
         "dtype": "object",
         "name": "Employee_City",
         "stats": {
          "categories": [
           {
            "count": 1,
            "name": "Kristaburgh"
           }
          ],
          "nan_count": 0,
          "unique_count": 1
         }
        },
        {
         "dtype": "object",
         "name": "Employee_Country",
         "stats": {
          "categories": [
           {
            "count": 1,
            "name": "Iran"
           }
          ],
          "nan_count": 0,
          "unique_count": 1
         }
        },
        {
         "dtype": "int64",
         "name": "Employee_Salary",
         "stats": {
          "histogram": [
           {
            "bin_end": 75529.6,
            "bin_start": 75529.5,
            "count": 0
           },
           {
            "bin_end": 75529.7,
            "bin_start": 75529.6,
            "count": 0
           },
           {
            "bin_end": 75529.8,
            "bin_start": 75529.7,
            "count": 0
           },
           {
            "bin_end": 75529.9,
            "bin_start": 75529.8,
            "count": 0
           },
           {
            "bin_end": 75530,
            "bin_start": 75529.9,
            "count": 0
           },
           {
            "bin_end": 75530.1,
            "bin_start": 75530,
            "count": 1
           },
           {
            "bin_end": 75530.2,
            "bin_start": 75530.1,
            "count": 0
           },
           {
            "bin_end": 75530.3,
            "bin_start": 75530.2,
            "count": 0
           },
           {
            "bin_end": 75530.4,
            "bin_start": 75530.3,
            "count": 0
           },
           {
            "bin_end": 75530.5,
            "bin_start": 75530.4,
            "count": 0
           }
          ],
          "max": "75530",
          "min": "75530",
          "nan_count": 0,
          "unique_count": 1
         }
        },
        {
         "dtype": "object",
         "name": "Employment_Status",
         "stats": {
          "categories": [
           {
            "count": 1,
            "name": "Full Time"
           }
          ],
          "nan_count": 0,
          "unique_count": 1
         }
        },
        {
         "dtype": "float64",
         "name": "Employee_Rating",
         "stats": {
          "histogram": [
           {
            "bin_end": 2.6,
            "bin_start": 2.5,
            "count": 0
           },
           {
            "bin_end": 2.7,
            "bin_start": 2.6,
            "count": 0
           },
           {
            "bin_end": 2.8,
            "bin_start": 2.7,
            "count": 0
           },
           {
            "bin_end": 2.9,
            "bin_start": 2.8,
            "count": 0
           },
           {
            "bin_end": 3,
            "bin_start": 2.9,
            "count": 0
           },
           {
            "bin_end": 3.1,
            "bin_start": 3,
            "count": 1
           },
           {
            "bin_end": 3.2,
            "bin_start": 3.1,
            "count": 0
           },
           {
            "bin_end": 3.3,
            "bin_start": 3.2,
            "count": 0
           },
           {
            "bin_end": 3.4,
            "bin_start": 3.3,
            "count": 0
           },
           {
            "bin_end": 3.5,
            "bin_start": 3.4,
            "count": 0
           }
          ],
          "max": "3.0",
          "min": "3.0",
          "nan_count": 0,
          "unique_count": 1
         }
        },
        {
         "dtype": "int64",
         "name": "_deepnote_index_column"
        }
       ],
       "row_count": 1,
       "rows": [
        {
         "Company_Name": "Marshall-Holloway",
         "Employee_City": "Kristaburgh",
         "Employee_Country": "Iran",
         "Employee_Job_Title": "Energy manager",
         "Employee_Rating": 3,
         "Employee_Salary": 75530,
         "Employment_Status": "Full Time",
         "Name": "Aaron Brown",
         "_deepnote_index_column": 0
        }
       ],
       "type": "dataframe"
      },
      "text/html": [
       "<div>\n",
       "<style scoped>\n",
       "    .dataframe tbody tr th:only-of-type {\n",
       "        vertical-align: middle;\n",
       "    }\n",
       "\n",
       "    .dataframe tbody tr th {\n",
       "        vertical-align: top;\n",
       "    }\n",
       "\n",
       "    .dataframe thead th {\n",
       "        text-align: right;\n",
       "    }\n",
       "</style>\n",
       "<table border=\"1\" class=\"dataframe\">\n",
       "  <thead>\n",
       "    <tr style=\"text-align: right;\">\n",
       "      <th></th>\n",
       "      <th>Name</th>\n",
       "      <th>Company_Name</th>\n",
       "      <th>Employee_Job_Title</th>\n",
       "      <th>Employee_City</th>\n",
       "      <th>Employee_Country</th>\n",
       "      <th>Employee_Salary</th>\n",
       "      <th>Employment_Status</th>\n",
       "      <th>Employee_Rating</th>\n",
       "    </tr>\n",
       "  </thead>\n",
       "  <tbody>\n",
       "    <tr>\n",
       "      <th>0</th>\n",
       "      <td>Aaron Brown</td>\n",
       "      <td>Marshall-Holloway</td>\n",
       "      <td>Energy manager</td>\n",
       "      <td>Kristaburgh</td>\n",
       "      <td>Iran</td>\n",
       "      <td>75530</td>\n",
       "      <td>Full Time</td>\n",
       "      <td>3.0</td>\n",
       "    </tr>\n",
       "  </tbody>\n",
       "</table>\n",
       "</div>"
      ],
      "text/plain": [
       "          Name       Company_Name Employee_Job_Title Employee_City  \\\n",
       "0  Aaron Brown  Marshall-Holloway     Energy manager   Kristaburgh   \n",
       "\n",
       "  Employee_Country  Employee_Salary Employment_Status  Employee_Rating  \n",
       "0             Iran            75530         Full Time              3.0  "
      ]
     },
     "execution_count": 34,
     "metadata": {},
     "output_type": "execute_result"
    }
   ],
   "source": [
    "_dntk.execute_sql(\n",
    "  'SELECT * FROM data ORDER BY Name LIMIT 1 OFFSET 99;',\n",
    "  'SQL_DEEPNOTE_DATAFRAME_SQL',\n",
    "  audit_sql_comment='',\n",
    "  sql_cache_mode='cache_disabled',\n",
    "  return_variable_type='dataframe'\n",
    ")"
   ]
  },
  {
   "cell_type": "markdown",
   "metadata": {
    "cell_id": "3953902a666c4b738bba5675c8381830",
    "deepnote_cell_type": "text-cell-h3",
    "formattedRanges": [],
    "is_collapsed": false,
    "tags": []
   },
   "source": [
    "### 53. Print the first 5 rows of the first 5 columns. "
   ]
  },
  {
   "cell_type": "code",
   "execution_count": 36,
   "metadata": {
    "cell_id": "34e8bf0968d04886af211e5cdcc3f441",
    "deepnote_cell_type": "sql",
    "deepnote_sql_source": "SELECT Name, Company_Name, Employee_Job_Title, Employee_City, Employee_Salary FROM data LIMIT 5;",
    "deepnote_to_be_reexecuted": false,
    "execution_context_id": "50d4c5fe-2840-4f57-81a8-ee4facb4bb47",
    "execution_millis": 19,
    "execution_start": 1743136013856,
    "source_hash": "3ebc0cc",
    "sql_integration_id": "deepnote-dataframe-sql",
    "tags": []
   },
   "outputs": [
    {
     "data": {
      "application/vnd.deepnote.dataframe.v3+json": {
       "column_count": 5,
       "columns": [
        {
         "dtype": "object",
         "name": "Name",
         "stats": {
          "categories": [
           {
            "count": 1,
            "name": "Spencer Adkins"
           },
           {
            "count": 1,
            "name": "Julie Morton"
           },
           {
            "count": 3,
            "name": "3 others"
           }
          ],
          "nan_count": 0,
          "unique_count": 5
         }
        },
        {
         "dtype": "object",
         "name": "Company_Name",
         "stats": {
          "categories": [
           {
            "count": 1,
            "name": "James and Sons"
           },
           {
            "count": 1,
            "name": "Nichols-James"
           },
           {
            "count": 3,
            "name": "3 others"
           }
          ],
          "nan_count": 0,
          "unique_count": 5
         }
        },
        {
         "dtype": "object",
         "name": "Employee_Job_Title",
         "stats": {
          "categories": [
           {
            "count": 2,
            "name": "Production engineer"
           },
           {
            "count": 1,
            "name": "Equities trader"
           },
           {
            "count": 2,
            "name": "2 others"
           }
          ],
          "nan_count": 0,
          "unique_count": 4
         }
        },
        {
         "dtype": "object",
         "name": "Employee_City",
         "stats": {
          "categories": [
           {
            "count": 1,
            "name": "New Russellton"
           },
           {
            "count": 1,
            "name": "North Melissafurt"
           },
           {
            "count": 3,
            "name": "3 others"
           }
          ],
          "nan_count": 0,
          "unique_count": 5
         }
        },
        {
         "dtype": "int64",
         "name": "Employee_Salary",
         "stats": {
          "histogram": [
           {
            "bin_end": 167849,
            "bin_start": 116400,
            "count": 1
           },
           {
            "bin_end": 219298,
            "bin_start": 167849,
            "count": 0
           },
           {
            "bin_end": 270747,
            "bin_start": 219298,
            "count": 0
           },
           {
            "bin_end": 322196,
            "bin_start": 270747,
            "count": 1
           },
           {
            "bin_end": 373645,
            "bin_start": 322196,
            "count": 0
           },
           {
            "bin_end": 425094,
            "bin_start": 373645,
            "count": 0
           },
           {
            "bin_end": 476543,
            "bin_start": 425094,
            "count": 0
           },
           {
            "bin_end": 527992,
            "bin_start": 476543,
            "count": 1
           },
           {
            "bin_end": 579441,
            "bin_start": 527992,
            "count": 0
           },
           {
            "bin_end": 630890,
            "bin_start": 579441,
            "count": 2
           }
          ],
          "max": "630890",
          "min": "116400",
          "nan_count": 0,
          "unique_count": 5
         }
        },
        {
         "dtype": "int64",
         "name": "_deepnote_index_column"
        }
       ],
       "row_count": 5,
       "rows": [
        {
         "Company_Name": "James and Sons",
         "Employee_City": "New Russellton",
         "Employee_Job_Title": "Equities trader",
         "Employee_Salary": 321520,
         "Name": "Spencer Adkins",
         "_deepnote_index_column": 0
        },
        {
         "Company_Name": "Nichols-James",
         "Employee_City": "North Melissafurt",
         "Employee_Job_Title": "Diplomatic Services operational officer",
         "Employee_Salary": 589090,
         "Name": "Julie Morton",
         "_deepnote_index_column": 1
        },
        {
         "Company_Name": "Scott Inc",
         "Employee_City": "Wardfort",
         "Employee_Job_Title": "Regulatory affairs officer",
         "Employee_Salary": 630890,
         "Name": "Matthew Hall",
         "_deepnote_index_column": 2
        },
        {
         "Company_Name": "Johnston, Fleming and Tanner",
         "Employee_City": "West Jamesview",
         "Employee_Job_Title": "Production engineer",
         "Employee_Salary": 116400,
         "Name": "Brad Scott",
         "_deepnote_index_column": 3
        },
        {
         "Company_Name": "Baker, Allen and Edwards",
         "Employee_City": "Whiteside",
         "Employee_Job_Title": "Production engineer",
         "Employee_Salary": 523499,
         "Name": "Theresa Owens",
         "_deepnote_index_column": 4
        }
       ],
       "type": "dataframe"
      },
      "text/html": [
       "<div>\n",
       "<style scoped>\n",
       "    .dataframe tbody tr th:only-of-type {\n",
       "        vertical-align: middle;\n",
       "    }\n",
       "\n",
       "    .dataframe tbody tr th {\n",
       "        vertical-align: top;\n",
       "    }\n",
       "\n",
       "    .dataframe thead th {\n",
       "        text-align: right;\n",
       "    }\n",
       "</style>\n",
       "<table border=\"1\" class=\"dataframe\">\n",
       "  <thead>\n",
       "    <tr style=\"text-align: right;\">\n",
       "      <th></th>\n",
       "      <th>Name</th>\n",
       "      <th>Company_Name</th>\n",
       "      <th>Employee_Job_Title</th>\n",
       "      <th>Employee_City</th>\n",
       "      <th>Employee_Salary</th>\n",
       "    </tr>\n",
       "  </thead>\n",
       "  <tbody>\n",
       "    <tr>\n",
       "      <th>0</th>\n",
       "      <td>Spencer Adkins</td>\n",
       "      <td>James and Sons</td>\n",
       "      <td>Equities trader</td>\n",
       "      <td>New Russellton</td>\n",
       "      <td>321520</td>\n",
       "    </tr>\n",
       "    <tr>\n",
       "      <th>1</th>\n",
       "      <td>Julie Morton</td>\n",
       "      <td>Nichols-James</td>\n",
       "      <td>Diplomatic Services operational officer</td>\n",
       "      <td>North Melissafurt</td>\n",
       "      <td>589090</td>\n",
       "    </tr>\n",
       "    <tr>\n",
       "      <th>2</th>\n",
       "      <td>Matthew Hall</td>\n",
       "      <td>Scott Inc</td>\n",
       "      <td>Regulatory affairs officer</td>\n",
       "      <td>Wardfort</td>\n",
       "      <td>630890</td>\n",
       "    </tr>\n",
       "    <tr>\n",
       "      <th>3</th>\n",
       "      <td>Brad Scott</td>\n",
       "      <td>Johnston, Fleming and Tanner</td>\n",
       "      <td>Production engineer</td>\n",
       "      <td>West Jamesview</td>\n",
       "      <td>116400</td>\n",
       "    </tr>\n",
       "    <tr>\n",
       "      <th>4</th>\n",
       "      <td>Theresa Owens</td>\n",
       "      <td>Baker, Allen and Edwards</td>\n",
       "      <td>Production engineer</td>\n",
       "      <td>Whiteside</td>\n",
       "      <td>523499</td>\n",
       "    </tr>\n",
       "  </tbody>\n",
       "</table>\n",
       "</div>"
      ],
      "text/plain": [
       "             Name                  Company_Name  \\\n",
       "0  Spencer Adkins                James and Sons   \n",
       "1    Julie Morton                 Nichols-James   \n",
       "2    Matthew Hall                     Scott Inc   \n",
       "3      Brad Scott  Johnston, Fleming and Tanner   \n",
       "4   Theresa Owens      Baker, Allen and Edwards   \n",
       "\n",
       "                        Employee_Job_Title      Employee_City  Employee_Salary  \n",
       "0                          Equities trader     New Russellton           321520  \n",
       "1  Diplomatic Services operational officer  North Melissafurt           589090  \n",
       "2               Regulatory affairs officer           Wardfort           630890  \n",
       "3                      Production engineer     West Jamesview           116400  \n",
       "4                      Production engineer          Whiteside           523499  "
      ]
     },
     "execution_count": 36,
     "metadata": {},
     "output_type": "execute_result"
    }
   ],
   "source": [
    "_dntk.execute_sql(\n",
    "  'SELECT Name, Company_Name, Employee_Job_Title, Employee_City, Employee_Salary FROM data LIMIT 5;',\n",
    "  'SQL_DEEPNOTE_DATAFRAME_SQL',\n",
    "  audit_sql_comment='',\n",
    "  sql_cache_mode='cache_disabled',\n",
    "  return_variable_type='dataframe'\n",
    ")"
   ]
  },
  {
   "cell_type": "markdown",
   "metadata": {
    "cell_id": "9923c06c5c9049b08f2f3daf10b5e331",
    "deepnote_cell_type": "text-cell-h3",
    "formattedRanges": [],
    "is_collapsed": false,
    "tags": []
   },
   "source": [
    "### 54. Print the number of employees whose first name starts with the letter 'V'. "
   ]
  },
  {
   "cell_type": "code",
   "execution_count": 38,
   "metadata": {
    "cell_id": "dd1004f16b9a470b90ce9959d9d81f82",
    "deepnote_cell_type": "sql",
    "deepnote_sql_source": "SELECT * FROM data WHERE Name LIKE 'V%';",
    "deepnote_to_be_reexecuted": false,
    "execution_context_id": "50d4c5fe-2840-4f57-81a8-ee4facb4bb47",
    "execution_millis": 59,
    "execution_start": 1743136044435,
    "source_hash": "9cd9dfd7",
    "sql_integration_id": "deepnote-dataframe-sql",
    "tags": []
   },
   "outputs": [
    {
     "data": {
      "application/vnd.deepnote.dataframe.v3+json": {
       "column_count": 8,
       "columns": [
        {
         "dtype": "object",
         "name": "Name",
         "stats": {
          "categories": [
           {
            "count": 20,
            "name": "Victoria Smith"
           },
           {
            "count": 18,
            "name": "Victoria Johnson"
           },
           {
            "count": 3645,
            "name": "2331 others"
           }
          ],
          "nan_count": 0,
          "unique_count": 2333
         }
        },
        {
         "dtype": "object",
         "name": "Company_Name",
         "stats": {
          "categories": [
           {
            "count": 273,
            "name": "Nelson-Li"
           },
           {
            "count": 266,
            "name": "Bullock-Carrillo"
           },
           {
            "count": 3144,
            "name": "13 others"
           }
          ],
          "nan_count": 0,
          "unique_count": 15
         }
        },
        {
         "dtype": "object",
         "name": "Employee_Job_Title",
         "stats": {
          "categories": [
           {
            "count": 370,
            "name": "Diplomatic Services operational officer"
           },
           {
            "count": 196,
            "name": "Radiographer, therapeutic"
           },
           {
            "count": 3117,
            "name": "17 others"
           }
          ],
          "nan_count": 0,
          "unique_count": 19
         }
        },
        {
         "dtype": "object",
         "name": "Employee_City",
         "stats": {
          "categories": [
           {
            "count": 400,
            "name": "Ricardomouth"
           },
           {
            "count": 380,
            "name": "North Melissafurt"
           },
           {
            "count": 2903,
            "name": "8 others"
           }
          ],
          "nan_count": 0,
          "unique_count": 10
         }
        },
        {
         "dtype": "object",
         "name": "Employee_Country",
         "stats": {
          "categories": [
           {
            "count": 30,
            "name": "Korea"
           },
           {
            "count": 30,
            "name": "Congo"
           },
           {
            "count": 3623,
            "name": "241 others"
           }
          ],
          "nan_count": 0,
          "unique_count": 243
         }
        },
        {
         "dtype": "int64",
         "name": "Employee_Salary",
         "stats": {
          "histogram": [
           {
            "bin_end": 100000,
            "bin_start": 10,
            "count": 365
           },
           {
            "bin_end": 199990,
            "bin_start": 100000,
            "count": 366
           },
           {
            "bin_end": 299980,
            "bin_start": 199990,
            "count": 373
           },
           {
            "bin_end": 399970,
            "bin_start": 299980,
            "count": 366
           },
           {
            "bin_end": 499960,
            "bin_start": 399970,
            "count": 381
           },
           {
            "bin_end": 599950,
            "bin_start": 499960,
            "count": 403
           },
           {
            "bin_end": 699940,
            "bin_start": 599950,
            "count": 340
           },
           {
            "bin_end": 799930,
            "bin_start": 699940,
            "count": 364
           },
           {
            "bin_end": 899920,
            "bin_start": 799930,
            "count": 372
           },
           {
            "bin_end": 999910,
            "bin_start": 899920,
            "count": 353
           }
          ],
          "max": "999910",
          "min": "10",
          "nan_count": 0,
          "unique_count": 3625
         }
        },
        {
         "dtype": "object",
         "name": "Employment_Status",
         "stats": {
          "categories": [
           {
            "count": 2902,
            "name": "Full Time"
           },
           {
            "count": 781,
            "name": "Intern"
           }
          ],
          "nan_count": 0,
          "unique_count": 2
         }
        },
        {
         "dtype": "float64",
         "name": "Employee_Rating",
         "stats": {
          "histogram": [
           {
            "bin_end": 0.5,
            "bin_start": 0,
            "count": 320
           },
           {
            "bin_end": 1,
            "bin_start": 0.5,
            "count": 379
           },
           {
            "bin_end": 1.5,
            "bin_start": 1,
            "count": 349
           },
           {
            "bin_end": 2,
            "bin_start": 1.5,
            "count": 381
           },
           {
            "bin_end": 2.5,
            "bin_start": 2,
            "count": 373
           },
           {
            "bin_end": 3,
            "bin_start": 2.5,
            "count": 372
           },
           {
            "bin_end": 3.5,
            "bin_start": 3,
            "count": 351
           },
           {
            "bin_end": 4,
            "bin_start": 3.5,
            "count": 368
           },
           {
            "bin_end": 4.5,
            "bin_start": 4,
            "count": 380
           },
           {
            "bin_end": 5,
            "bin_start": 4.5,
            "count": 410
           }
          ],
          "max": "5.0",
          "min": "0.0",
          "nan_count": 0,
          "unique_count": 51
         }
        },
        {
         "dtype": "int64",
         "name": "_deepnote_index_column"
        }
       ],
       "row_count": 3683,
       "rows": [
        {
         "Company_Name": "Andrade LLC",
         "Employee_City": "Ricardomouth",
         "Employee_Country": "Mali",
         "Employee_Job_Title": "Make",
         "Employee_Rating": 2.6,
         "Employee_Salary": 850140,
         "Employment_Status": "Full Time",
         "Name": "Vanessa Allen",
         "_deepnote_index_column": 0
        },
        {
         "Company_Name": "Matthews Inc",
         "Employee_City": "Kristaburgh",
         "Employee_Country": "Western Sahara",
         "Employee_Job_Title": "Diplomatic Services operational officer",
         "Employee_Rating": 3.3,
         "Employee_Salary": 777000,
         "Employment_Status": "Full Time",
         "Name": "Vicki Beard",
         "_deepnote_index_column": 1
        },
        {
         "Company_Name": "White, Mcclain and Cobb",
         "Employee_City": "Whiteside",
         "Employee_Country": "Poland",
         "Employee_Job_Title": "Naval architect",
         "Employee_Rating": 4.9,
         "Employee_Salary": 656260,
         "Employment_Status": "Full Time",
         "Name": "Victoria Sutton",
         "_deepnote_index_column": 2
        },
        {
         "Company_Name": "Thomas-Spencer",
         "Employee_City": "New Russellton",
         "Employee_Country": "France",
         "Employee_Job_Title": "Patent examiner",
         "Employee_Rating": 3.1,
         "Employee_Salary": 560730,
         "Employment_Status": "Full Time",
         "Name": "Victor Miller",
         "_deepnote_index_column": 3
        },
        {
         "Company_Name": "Taylor-Ramos",
         "Employee_City": "Kristaburgh",
         "Employee_Country": "Cote d'Ivoire",
         "Employee_Job_Title": "Diplomatic Services operational officer",
         "Employee_Rating": 0.5,
         "Employee_Salary": 819610,
         "Employment_Status": "Intern",
         "Name": "Victor Sandoval",
         "_deepnote_index_column": 4
        },
        {
         "Company_Name": "Campos, Reynolds and Mccormick",
         "Employee_City": "Wardfort",
         "Employee_Country": "Iceland",
         "Employee_Job_Title": "Administrator",
         "Employee_Rating": 1.2,
         "Employee_Salary": 856940,
         "Employment_Status": "Full Time",
         "Name": "Victoria Anthony",
         "_deepnote_index_column": 5
        },
        {
         "Company_Name": "Thomas-Spencer",
         "Employee_City": "North Melissafurt",
         "Employee_Country": "Iceland",
         "Employee_Job_Title": "Actuary",
         "Employee_Rating": 4.7,
         "Employee_Salary": 662260,
         "Employment_Status": "Full Time",
         "Name": "Veronica Howard",
         "_deepnote_index_column": 6
        },
        {
         "Company_Name": "Bullock-Carrillo",
         "Employee_City": "Kristaburgh",
         "Employee_Country": "Korea",
         "Employee_Job_Title": "Armed forces logistics/support/administrative officer",
         "Employee_Rating": 3.8,
         "Employee_Salary": 59980,
         "Employment_Status": "Full Time",
         "Name": "Victoria Lee",
         "_deepnote_index_column": 7
        },
        {
         "Company_Name": "Andrade LLC",
         "Employee_City": "New Russellton",
         "Employee_Country": "Chad",
         "Employee_Job_Title": "Patent examiner",
         "Employee_Rating": 2.4,
         "Employee_Salary": 800400,
         "Employment_Status": "Full Time",
         "Name": "Victoria Hoover",
         "_deepnote_index_column": 8
        },
        {
         "Company_Name": "Scott Inc",
         "Employee_City": "Whiteside",
         "Employee_Country": "Saint Martin",
         "Employee_Job_Title": "Garment/textile technologist",
         "Employee_Rating": 2.9,
         "Employee_Salary": 885420,
         "Employment_Status": "Full Time",
         "Name": "Vanessa Clarke",
         "_deepnote_index_column": 9
        }
       ],
       "type": "dataframe"
      },
      "text/html": [
       "<div>\n",
       "<style scoped>\n",
       "    .dataframe tbody tr th:only-of-type {\n",
       "        vertical-align: middle;\n",
       "    }\n",
       "\n",
       "    .dataframe tbody tr th {\n",
       "        vertical-align: top;\n",
       "    }\n",
       "\n",
       "    .dataframe thead th {\n",
       "        text-align: right;\n",
       "    }\n",
       "</style>\n",
       "<table border=\"1\" class=\"dataframe\">\n",
       "  <thead>\n",
       "    <tr style=\"text-align: right;\">\n",
       "      <th></th>\n",
       "      <th>Name</th>\n",
       "      <th>Company_Name</th>\n",
       "      <th>Employee_Job_Title</th>\n",
       "      <th>Employee_City</th>\n",
       "      <th>Employee_Country</th>\n",
       "      <th>Employee_Salary</th>\n",
       "      <th>Employment_Status</th>\n",
       "      <th>Employee_Rating</th>\n",
       "    </tr>\n",
       "  </thead>\n",
       "  <tbody>\n",
       "    <tr>\n",
       "      <th>0</th>\n",
       "      <td>Vanessa Allen</td>\n",
       "      <td>Andrade LLC</td>\n",
       "      <td>Make</td>\n",
       "      <td>Ricardomouth</td>\n",
       "      <td>Mali</td>\n",
       "      <td>850140</td>\n",
       "      <td>Full Time</td>\n",
       "      <td>2.6</td>\n",
       "    </tr>\n",
       "    <tr>\n",
       "      <th>1</th>\n",
       "      <td>Vicki Beard</td>\n",
       "      <td>Matthews Inc</td>\n",
       "      <td>Diplomatic Services operational officer</td>\n",
       "      <td>Kristaburgh</td>\n",
       "      <td>Western Sahara</td>\n",
       "      <td>777000</td>\n",
       "      <td>Full Time</td>\n",
       "      <td>3.3</td>\n",
       "    </tr>\n",
       "    <tr>\n",
       "      <th>2</th>\n",
       "      <td>Victoria Sutton</td>\n",
       "      <td>White, Mcclain and Cobb</td>\n",
       "      <td>Naval architect</td>\n",
       "      <td>Whiteside</td>\n",
       "      <td>Poland</td>\n",
       "      <td>656260</td>\n",
       "      <td>Full Time</td>\n",
       "      <td>4.9</td>\n",
       "    </tr>\n",
       "    <tr>\n",
       "      <th>3</th>\n",
       "      <td>Victor Miller</td>\n",
       "      <td>Thomas-Spencer</td>\n",
       "      <td>Patent examiner</td>\n",
       "      <td>New Russellton</td>\n",
       "      <td>France</td>\n",
       "      <td>560730</td>\n",
       "      <td>Full Time</td>\n",
       "      <td>3.1</td>\n",
       "    </tr>\n",
       "    <tr>\n",
       "      <th>4</th>\n",
       "      <td>Victor Sandoval</td>\n",
       "      <td>Taylor-Ramos</td>\n",
       "      <td>Diplomatic Services operational officer</td>\n",
       "      <td>Kristaburgh</td>\n",
       "      <td>Cote d'Ivoire</td>\n",
       "      <td>819610</td>\n",
       "      <td>Intern</td>\n",
       "      <td>0.5</td>\n",
       "    </tr>\n",
       "    <tr>\n",
       "      <th>...</th>\n",
       "      <td>...</td>\n",
       "      <td>...</td>\n",
       "      <td>...</td>\n",
       "      <td>...</td>\n",
       "      <td>...</td>\n",
       "      <td>...</td>\n",
       "      <td>...</td>\n",
       "      <td>...</td>\n",
       "    </tr>\n",
       "    <tr>\n",
       "      <th>3678</th>\n",
       "      <td>Valerie Graham</td>\n",
       "      <td>Andrade LLC</td>\n",
       "      <td>Garment/textile technologist</td>\n",
       "      <td>Wardfort</td>\n",
       "      <td>Saint Lucia</td>\n",
       "      <td>430100</td>\n",
       "      <td>Intern</td>\n",
       "      <td>4.0</td>\n",
       "    </tr>\n",
       "    <tr>\n",
       "      <th>3679</th>\n",
       "      <td>Valerie Martin</td>\n",
       "      <td>Thomas-Spencer</td>\n",
       "      <td>Equities trader</td>\n",
       "      <td>Kristaburgh</td>\n",
       "      <td>Bahrain</td>\n",
       "      <td>643170</td>\n",
       "      <td>Full Time</td>\n",
       "      <td>2.3</td>\n",
       "    </tr>\n",
       "    <tr>\n",
       "      <th>3680</th>\n",
       "      <td>Victoria Garcia</td>\n",
       "      <td>Baker, Allen and Edwards</td>\n",
       "      <td>Radiographer, therapeutic</td>\n",
       "      <td>Aliciafort</td>\n",
       "      <td>Bolivia</td>\n",
       "      <td>197000</td>\n",
       "      <td>Full Time</td>\n",
       "      <td>2.2</td>\n",
       "    </tr>\n",
       "    <tr>\n",
       "      <th>3681</th>\n",
       "      <td>Vincent Werner</td>\n",
       "      <td>Baker, Allen and Edwards</td>\n",
       "      <td>Diplomatic Services operational officer</td>\n",
       "      <td>Whitakerbury</td>\n",
       "      <td>Netherlands</td>\n",
       "      <td>132330</td>\n",
       "      <td>Full Time</td>\n",
       "      <td>2.9</td>\n",
       "    </tr>\n",
       "    <tr>\n",
       "      <th>3682</th>\n",
       "      <td>Vicki Stephenson</td>\n",
       "      <td>Nichols-James</td>\n",
       "      <td>Administrator</td>\n",
       "      <td>New Russellton</td>\n",
       "      <td>Lebanon</td>\n",
       "      <td>910560</td>\n",
       "      <td>Full Time</td>\n",
       "      <td>1.6</td>\n",
       "    </tr>\n",
       "  </tbody>\n",
       "</table>\n",
       "<p>3683 rows × 8 columns</p>\n",
       "</div>"
      ],
      "text/plain": [
       "                  Name              Company_Name  \\\n",
       "0        Vanessa Allen               Andrade LLC   \n",
       "1          Vicki Beard              Matthews Inc   \n",
       "2      Victoria Sutton   White, Mcclain and Cobb   \n",
       "3        Victor Miller            Thomas-Spencer   \n",
       "4      Victor Sandoval              Taylor-Ramos   \n",
       "...                ...                       ...   \n",
       "3678    Valerie Graham               Andrade LLC   \n",
       "3679    Valerie Martin            Thomas-Spencer   \n",
       "3680   Victoria Garcia  Baker, Allen and Edwards   \n",
       "3681    Vincent Werner  Baker, Allen and Edwards   \n",
       "3682  Vicki Stephenson             Nichols-James   \n",
       "\n",
       "                           Employee_Job_Title   Employee_City  \\\n",
       "0                                        Make    Ricardomouth   \n",
       "1     Diplomatic Services operational officer     Kristaburgh   \n",
       "2                             Naval architect       Whiteside   \n",
       "3                             Patent examiner  New Russellton   \n",
       "4     Diplomatic Services operational officer     Kristaburgh   \n",
       "...                                       ...             ...   \n",
       "3678             Garment/textile technologist        Wardfort   \n",
       "3679                          Equities trader     Kristaburgh   \n",
       "3680                Radiographer, therapeutic      Aliciafort   \n",
       "3681  Diplomatic Services operational officer    Whitakerbury   \n",
       "3682                            Administrator  New Russellton   \n",
       "\n",
       "     Employee_Country  Employee_Salary Employment_Status  Employee_Rating  \n",
       "0                Mali           850140         Full Time              2.6  \n",
       "1      Western Sahara           777000         Full Time              3.3  \n",
       "2              Poland           656260         Full Time              4.9  \n",
       "3              France           560730         Full Time              3.1  \n",
       "4       Cote d'Ivoire           819610            Intern              0.5  \n",
       "...               ...              ...               ...              ...  \n",
       "3678      Saint Lucia           430100            Intern              4.0  \n",
       "3679          Bahrain           643170         Full Time              2.3  \n",
       "3680          Bolivia           197000         Full Time              2.2  \n",
       "3681      Netherlands           132330         Full Time              2.9  \n",
       "3682          Lebanon           910560         Full Time              1.6  \n",
       "\n",
       "[3683 rows x 8 columns]"
      ]
     },
     "execution_count": 38,
     "metadata": {},
     "output_type": "execute_result"
    }
   ],
   "source": [
    "_dntk.execute_sql(\n",
    "  'SELECT * FROM data WHERE Name LIKE \\'V%\\';',\n",
    "  'SQL_DEEPNOTE_DATAFRAME_SQL',\n",
    "  audit_sql_comment='',\n",
    "  sql_cache_mode='cache_disabled',\n",
    "  return_variable_type='dataframe'\n",
    ")"
   ]
  },
  {
   "cell_type": "markdown",
   "metadata": {
    "cell_id": "1e8716988fe9432c98593f44290a7613",
    "deepnote_cell_type": "text-cell-h3",
    "formattedRanges": [],
    "is_collapsed": false,
    "tags": []
   },
   "source": [
    "### 55. Print the number of employees whose last name starts with the letter 'R'. "
   ]
  },
  {
   "cell_type": "code",
   "execution_count": 44,
   "metadata": {
    "cell_id": "6190cfedc42e4b4580654c49127945e0",
    "deepnote_cell_type": "sql",
    "deepnote_sql_source": "SELECT COUNT(*) FROM data WHERE SPLIT_PART(Name, ' ', -1) LIKE 'R%';",
    "deepnote_to_be_reexecuted": false,
    "execution_context_id": "50d4c5fe-2840-4f57-81a8-ee4facb4bb47",
    "execution_millis": 63,
    "execution_start": 1743136234876,
    "source_hash": "a81d3b0c",
    "sql_integration_id": "deepnote-dataframe-sql",
    "tags": []
   },
   "outputs": [
    {
     "data": {
      "application/vnd.deepnote.dataframe.v3+json": {
       "column_count": 1,
       "columns": [
        {
         "dtype": "int64",
         "name": "count_star()",
         "stats": {
          "histogram": [
           {
            "bin_end": 20711.6,
            "bin_start": 20711.5,
            "count": 0
           },
           {
            "bin_end": 20711.7,
            "bin_start": 20711.6,
            "count": 0
           },
           {
            "bin_end": 20711.8,
            "bin_start": 20711.7,
            "count": 0
           },
           {
            "bin_end": 20711.9,
            "bin_start": 20711.8,
            "count": 0
           },
           {
            "bin_end": 20712,
            "bin_start": 20711.9,
            "count": 0
           },
           {
            "bin_end": 20712.1,
            "bin_start": 20712,
            "count": 1
           },
           {
            "bin_end": 20712.2,
            "bin_start": 20712.1,
            "count": 0
           },
           {
            "bin_end": 20712.3,
            "bin_start": 20712.2,
            "count": 0
           },
           {
            "bin_end": 20712.4,
            "bin_start": 20712.3,
            "count": 0
           },
           {
            "bin_end": 20712.5,
            "bin_start": 20712.4,
            "count": 0
           }
          ],
          "max": "20712",
          "min": "20712",
          "nan_count": 0,
          "unique_count": 1
         }
        },
        {
         "dtype": "int64",
         "name": "_deepnote_index_column"
        }
       ],
       "row_count": 1,
       "rows": [
        {
         "_deepnote_index_column": 0,
         "count_star()": 20712
        }
       ],
       "type": "dataframe"
      },
      "text/html": [
       "<div>\n",
       "<style scoped>\n",
       "    .dataframe tbody tr th:only-of-type {\n",
       "        vertical-align: middle;\n",
       "    }\n",
       "\n",
       "    .dataframe tbody tr th {\n",
       "        vertical-align: top;\n",
       "    }\n",
       "\n",
       "    .dataframe thead th {\n",
       "        text-align: right;\n",
       "    }\n",
       "</style>\n",
       "<table border=\"1\" class=\"dataframe\">\n",
       "  <thead>\n",
       "    <tr style=\"text-align: right;\">\n",
       "      <th></th>\n",
       "      <th>count_star()</th>\n",
       "    </tr>\n",
       "  </thead>\n",
       "  <tbody>\n",
       "    <tr>\n",
       "      <th>0</th>\n",
       "      <td>20712</td>\n",
       "    </tr>\n",
       "  </tbody>\n",
       "</table>\n",
       "</div>"
      ],
      "text/plain": [
       "   count_star()\n",
       "0         20712"
      ]
     },
     "execution_count": 44,
     "metadata": {},
     "output_type": "execute_result"
    }
   ],
   "source": [
    "_dntk.execute_sql(\n",
    "  'SELECT COUNT(*) FROM data WHERE SPLIT_PART(Name, \\' \\', -1) LIKE \\'R%\\';',\n",
    "  'SQL_DEEPNOTE_DATAFRAME_SQL',\n",
    "  audit_sql_comment='',\n",
    "  sql_cache_mode='cache_disabled',\n",
    "  return_variable_type='dataframe'\n",
    ")"
   ]
  },
  {
   "cell_type": "markdown",
   "metadata": {
    "cell_id": "197ad3f1210444be9a0460aa4a463708",
    "deepnote_cell_type": "text-cell-h3",
    "formattedRanges": [],
    "is_collapsed": false,
    "tags": []
   },
   "source": [
    "### 56. Select the rows 2 to 7 and the columns 3 to 7 (both included)"
   ]
  },
  {
   "cell_type": "code",
   "execution_count": 50,
   "metadata": {
    "cell_id": "07d6658333eb45ebac35e8aa8611356a",
    "deepnote_cell_type": "sql",
    "deepnote_sql_source": "select * from data limit 6 offset 1;",
    "deepnote_to_be_reexecuted": false,
    "execution_context_id": "50d4c5fe-2840-4f57-81a8-ee4facb4bb47",
    "execution_millis": 13,
    "execution_start": 1743136332715,
    "source_hash": "c065ec88",
    "sql_integration_id": "deepnote-dataframe-sql",
    "tags": []
   },
   "outputs": [
    {
     "data": {
      "application/vnd.deepnote.dataframe.v3+json": {
       "column_count": 8,
       "columns": [
        {
         "dtype": "object",
         "name": "Name",
         "stats": {
          "categories": [
           {
            "count": 1,
            "name": "Julie Morton"
           },
           {
            "count": 1,
            "name": "Matthew Hall"
           },
           {
            "count": 4,
            "name": "4 others"
           }
          ],
          "nan_count": 0,
          "unique_count": 6
         }
        },
        {
         "dtype": "object",
         "name": "Company_Name",
         "stats": {
          "categories": [
           {
            "count": 2,
            "name": "Andrade LLC"
           },
           {
            "count": 1,
            "name": "Nichols-James"
           },
           {
            "count": 3,
            "name": "3 others"
           }
          ],
          "nan_count": 0,
          "unique_count": 5
         }
        },
        {
         "dtype": "object",
         "name": "Employee_Job_Title",
         "stats": {
          "categories": [
           {
            "count": 2,
            "name": "Production engineer"
           },
           {
            "count": 1,
            "name": "Diplomatic Services operational officer"
           },
           {
            "count": 3,
            "name": "3 others"
           }
          ],
          "nan_count": 0,
          "unique_count": 5
         }
        },
        {
         "dtype": "object",
         "name": "Employee_City",
         "stats": {
          "categories": [
           {
            "count": 2,
            "name": "Wardfort"
           },
           {
            "count": 1,
            "name": "North Melissafurt"
           },
           {
            "count": 3,
            "name": "3 others"
           }
          ],
          "nan_count": 0,
          "unique_count": 5
         }
        },
        {
         "dtype": "object",
         "name": "Employee_Country",
         "stats": {
          "categories": [
           {
            "count": 1,
            "name": "Marshall Islands"
           },
           {
            "count": 1,
            "name": "Anguilla"
           },
           {
            "count": 4,
            "name": "4 others"
           }
          ],
          "nan_count": 0,
          "unique_count": 6
         }
        },
        {
         "dtype": "int64",
         "name": "Employee_Salary",
         "stats": {
          "histogram": [
           {
            "bin_end": 189774,
            "bin_start": 116400,
            "count": 1
           },
           {
            "bin_end": 263148,
            "bin_start": 189774,
            "count": 0
           },
           {
            "bin_end": 336522,
            "bin_start": 263148,
            "count": 0
           },
           {
            "bin_end": 409896,
            "bin_start": 336522,
            "count": 0
           },
           {
            "bin_end": 483270,
            "bin_start": 409896,
            "count": 0
           },
           {
            "bin_end": 556644,
            "bin_start": 483270,
            "count": 1
           },
           {
            "bin_end": 630018,
            "bin_start": 556644,
            "count": 1
           },
           {
            "bin_end": 703392,
            "bin_start": 630018,
            "count": 1
           },
           {
            "bin_end": 776766,
            "bin_start": 703392,
            "count": 1
           },
           {
            "bin_end": 850140,
            "bin_start": 776766,
            "count": 1
           }
          ],
          "max": "850140",
          "min": "116400",
          "nan_count": 0,
          "unique_count": 6
         }
        },
        {
         "dtype": "object",
         "name": "Employment_Status",
         "stats": {
          "categories": [
           {
            "count": 6,
            "name": "Full Time"
           }
          ],
          "nan_count": 0,
          "unique_count": 1
         }
        },
        {
         "dtype": "float64",
         "name": "Employee_Rating",
         "stats": {
          "histogram": [
           {
            "bin_end": 2.28,
            "bin_start": 2,
            "count": 1
           },
           {
            "bin_end": 2.56,
            "bin_start": 2.28,
            "count": 0
           },
           {
            "bin_end": 2.84,
            "bin_start": 2.56,
            "count": 1
           },
           {
            "bin_end": 3.12,
            "bin_start": 2.84,
            "count": 2
           },
           {
            "bin_end": 3.4,
            "bin_start": 3.12,
            "count": 0
           },
           {
            "bin_end": 3.6799999999999997,
            "bin_start": 3.4,
            "count": 0
           },
           {
            "bin_end": 3.96,
            "bin_start": 3.6799999999999997,
            "count": 0
           },
           {
            "bin_end": 4.24,
            "bin_start": 3.96,
            "count": 0
           },
           {
            "bin_end": 4.52,
            "bin_start": 4.24,
            "count": 1
           },
           {
            "bin_end": 4.8,
            "bin_start": 4.52,
            "count": 1
           }
          ],
          "max": "4.8",
          "min": "2.0",
          "nan_count": 0,
          "unique_count": 5
         }
        },
        {
         "dtype": "int64",
         "name": "_deepnote_index_column"
        }
       ],
       "row_count": 6,
       "rows": [
        {
         "Company_Name": "Nichols-James",
         "Employee_City": "North Melissafurt",
         "Employee_Country": "Marshall Islands",
         "Employee_Job_Title": "Diplomatic Services operational officer",
         "Employee_Rating": 4.3,
         "Employee_Salary": 589090,
         "Employment_Status": "Full Time",
         "Name": "Julie Morton",
         "_deepnote_index_column": 0
        },
        {
         "Company_Name": "Scott Inc",
         "Employee_City": "Wardfort",
         "Employee_Country": "Anguilla",
         "Employee_Job_Title": "Regulatory affairs officer",
         "Employee_Rating": 3.1,
         "Employee_Salary": 630890,
         "Employment_Status": "Full Time",
         "Name": "Matthew Hall",
         "_deepnote_index_column": 1
        },
        {
         "Company_Name": "Johnston, Fleming and Tanner",
         "Employee_City": "West Jamesview",
         "Employee_Country": "Syrian Arab Republic",
         "Employee_Job_Title": "Production engineer",
         "Employee_Rating": 3.1,
         "Employee_Salary": 116400,
         "Employment_Status": "Full Time",
         "Name": "Brad Scott",
         "_deepnote_index_column": 2
        },
        {
         "Company_Name": "Baker, Allen and Edwards",
         "Employee_City": "Whiteside",
         "Employee_Country": "Dominica",
         "Employee_Job_Title": "Production engineer",
         "Employee_Rating": 4.8,
         "Employee_Salary": 523499,
         "Employment_Status": "Full Time",
         "Name": "Theresa Owens",
         "_deepnote_index_column": 3
        },
        {
         "Company_Name": "Andrade LLC",
         "Employee_City": "Ricardomouth",
         "Employee_Country": "Mali",
         "Employee_Job_Title": "Make",
         "Employee_Rating": 2.6,
         "Employee_Salary": 850140,
         "Employment_Status": "Full Time",
         "Name": "Vanessa Allen",
         "_deepnote_index_column": 4
        },
        {
         "Company_Name": "Andrade LLC",
         "Employee_City": "Wardfort",
         "Employee_Country": "Aruba",
         "Employee_Job_Title": "Naval architect",
         "Employee_Rating": 2,
         "Employee_Salary": 711410,
         "Employment_Status": "Full Time",
         "Name": "Kelly Brown",
         "_deepnote_index_column": 5
        }
       ],
       "type": "dataframe"
      },
      "text/html": [
       "<div>\n",
       "<style scoped>\n",
       "    .dataframe tbody tr th:only-of-type {\n",
       "        vertical-align: middle;\n",
       "    }\n",
       "\n",
       "    .dataframe tbody tr th {\n",
       "        vertical-align: top;\n",
       "    }\n",
       "\n",
       "    .dataframe thead th {\n",
       "        text-align: right;\n",
       "    }\n",
       "</style>\n",
       "<table border=\"1\" class=\"dataframe\">\n",
       "  <thead>\n",
       "    <tr style=\"text-align: right;\">\n",
       "      <th></th>\n",
       "      <th>Name</th>\n",
       "      <th>Company_Name</th>\n",
       "      <th>Employee_Job_Title</th>\n",
       "      <th>Employee_City</th>\n",
       "      <th>Employee_Country</th>\n",
       "      <th>Employee_Salary</th>\n",
       "      <th>Employment_Status</th>\n",
       "      <th>Employee_Rating</th>\n",
       "    </tr>\n",
       "  </thead>\n",
       "  <tbody>\n",
       "    <tr>\n",
       "      <th>0</th>\n",
       "      <td>Julie Morton</td>\n",
       "      <td>Nichols-James</td>\n",
       "      <td>Diplomatic Services operational officer</td>\n",
       "      <td>North Melissafurt</td>\n",
       "      <td>Marshall Islands</td>\n",
       "      <td>589090</td>\n",
       "      <td>Full Time</td>\n",
       "      <td>4.3</td>\n",
       "    </tr>\n",
       "    <tr>\n",
       "      <th>1</th>\n",
       "      <td>Matthew Hall</td>\n",
       "      <td>Scott Inc</td>\n",
       "      <td>Regulatory affairs officer</td>\n",
       "      <td>Wardfort</td>\n",
       "      <td>Anguilla</td>\n",
       "      <td>630890</td>\n",
       "      <td>Full Time</td>\n",
       "      <td>3.1</td>\n",
       "    </tr>\n",
       "    <tr>\n",
       "      <th>2</th>\n",
       "      <td>Brad Scott</td>\n",
       "      <td>Johnston, Fleming and Tanner</td>\n",
       "      <td>Production engineer</td>\n",
       "      <td>West Jamesview</td>\n",
       "      <td>Syrian Arab Republic</td>\n",
       "      <td>116400</td>\n",
       "      <td>Full Time</td>\n",
       "      <td>3.1</td>\n",
       "    </tr>\n",
       "    <tr>\n",
       "      <th>3</th>\n",
       "      <td>Theresa Owens</td>\n",
       "      <td>Baker, Allen and Edwards</td>\n",
       "      <td>Production engineer</td>\n",
       "      <td>Whiteside</td>\n",
       "      <td>Dominica</td>\n",
       "      <td>523499</td>\n",
       "      <td>Full Time</td>\n",
       "      <td>4.8</td>\n",
       "    </tr>\n",
       "    <tr>\n",
       "      <th>4</th>\n",
       "      <td>Vanessa Allen</td>\n",
       "      <td>Andrade LLC</td>\n",
       "      <td>Make</td>\n",
       "      <td>Ricardomouth</td>\n",
       "      <td>Mali</td>\n",
       "      <td>850140</td>\n",
       "      <td>Full Time</td>\n",
       "      <td>2.6</td>\n",
       "    </tr>\n",
       "    <tr>\n",
       "      <th>5</th>\n",
       "      <td>Kelly Brown</td>\n",
       "      <td>Andrade LLC</td>\n",
       "      <td>Naval architect</td>\n",
       "      <td>Wardfort</td>\n",
       "      <td>Aruba</td>\n",
       "      <td>711410</td>\n",
       "      <td>Full Time</td>\n",
       "      <td>2.0</td>\n",
       "    </tr>\n",
       "  </tbody>\n",
       "</table>\n",
       "</div>"
      ],
      "text/plain": [
       "            Name                  Company_Name  \\\n",
       "0   Julie Morton                 Nichols-James   \n",
       "1   Matthew Hall                     Scott Inc   \n",
       "2     Brad Scott  Johnston, Fleming and Tanner   \n",
       "3  Theresa Owens      Baker, Allen and Edwards   \n",
       "4  Vanessa Allen                   Andrade LLC   \n",
       "5    Kelly Brown                   Andrade LLC   \n",
       "\n",
       "                        Employee_Job_Title      Employee_City  \\\n",
       "0  Diplomatic Services operational officer  North Melissafurt   \n",
       "1               Regulatory affairs officer           Wardfort   \n",
       "2                      Production engineer     West Jamesview   \n",
       "3                      Production engineer          Whiteside   \n",
       "4                                     Make       Ricardomouth   \n",
       "5                          Naval architect           Wardfort   \n",
       "\n",
       "       Employee_Country  Employee_Salary Employment_Status  Employee_Rating  \n",
       "0      Marshall Islands           589090         Full Time              4.3  \n",
       "1              Anguilla           630890         Full Time              3.1  \n",
       "2  Syrian Arab Republic           116400         Full Time              3.1  \n",
       "3              Dominica           523499         Full Time              4.8  \n",
       "4                  Mali           850140         Full Time              2.6  \n",
       "5                 Aruba           711410         Full Time              2.0  "
      ]
     },
     "execution_count": 50,
     "metadata": {},
     "output_type": "execute_result"
    }
   ],
   "source": [
    "_dntk.execute_sql(\n",
    "  'select * from data limit 6 offset 1;',\n",
    "  'SQL_DEEPNOTE_DATAFRAME_SQL',\n",
    "  audit_sql_comment='',\n",
    "  sql_cache_mode='cache_disabled',\n",
    "  return_variable_type='dataframe'\n",
    ")"
   ]
  },
  {
   "cell_type": "markdown",
   "metadata": {
    "cell_id": "935188d1ae4e40e3be61d405f3d586a5",
    "deepnote_cell_height": 52.390625,
    "deepnote_cell_type": "markdown",
    "tags": []
   },
   "source": [
    "Great job solving this notebook. Go to SQL Notebook 2: [Link](https://deepnote.com/workspace/avi-chawla-695b-aee6f4ef-2d50-4fb6-9ef2-20ee1022995a/project/SQL-Notebook-2-1914b214-be03-44a1-be63-ad99e98be639/%2Fnotebook.ipynb)"
   ]
  }
 ],
 "metadata": {
  "deepnote_notebook_id": "1de010ab67f14bc89725a3f678854fba",
  "deepnote_persisted_session": {
   "createdAt": "2025-03-27T07:02:01.562Z"
  },
  "kernelspec": {
   "display_name": "Python 3",
   "language": "python",
   "name": "python3"
  },
  "language_info": {
   "name": "python",
   "version": "3.11.9"
  }
 },
 "nbformat": 4,
 "nbformat_minor": 0
}
