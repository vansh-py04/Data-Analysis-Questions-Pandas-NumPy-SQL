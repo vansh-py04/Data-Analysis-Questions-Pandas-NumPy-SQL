{
 "cells": [
  {
   "cell_type": "markdown",
   "metadata": {
    "cell_id": "795d0be2570f4a20b7bb81a571965869",
    "deepnote_cell_type": "text-cell-h1",
    "formattedRanges": [],
    "is_collapsed": false,
    "tags": []
   },
   "source": [
    "# 450+ Practice Questions From Pandas, NumPy, and SQL."
   ]
  },
  {
   "cell_type": "markdown",
   "metadata": {
    "cell_id": "e05bde9de0c54ee3a27c6a486e7027e3",
    "deepnote_cell_height": 125.171875,
    "deepnote_cell_type": "markdown",
    "tags": []
   },
   "source": [
    "Author: **Avi Chawla**\n",
    "\n",
    "LinkedIn: https://www.linkedin.com/in/avi-chawla/\n",
    "\n",
    "Read my newsletter here: https://www.blog.dailydoseofds.com/"
   ]
  },
  {
   "cell_type": "markdown",
   "metadata": {
    "cell_id": "8eac250d22184898b18c6a79e2ae9733",
    "deepnote_cell_type": "text-cell-h2",
    "formattedRanges": [],
    "is_collapsed": false,
    "tags": []
   },
   "source": [
    "## Introduction"
   ]
  },
  {
   "cell_type": "markdown",
   "metadata": {
    "cell_id": "9811cb202601440e997f415bc2a940f9",
    "deepnote_cell_type": "text-cell-p",
    "formattedRanges": [
     {
      "fromCodePoint": 156,
      "marks": {
       "bold": true
      },
      "toCodePoint": 179
     }
    ],
    "is_collapsed": false,
    "tags": []
   },
   "source": [
    "This notebook has been created for you to practice three of the most common tools used in building any machine learning or data science applications, i.e., Pandas, NumPy, and SQL!"
   ]
  },
  {
   "cell_type": "markdown",
   "metadata": {
    "cell_id": "aacd5f57b349495cabe36b0e42fd7e40",
    "deepnote_cell_type": "text-cell-p",
    "formattedRanges": [],
    "is_collapsed": false,
    "tags": []
   },
   "source": [
    "The practice questions provided will serve as a great resource for those who are looking to familiarize themselves with some of the most common functions used in these tools. "
   ]
  },
  {
   "cell_type": "markdown",
   "metadata": {
    "cell_id": "ac03a7c2548e4aec9d95105b49706be8",
    "deepnote_cell_type": "text-cell-p",
    "formattedRanges": [
     {
      "fromCodePoint": 284,
      "marks": {
       "bold": true
      },
      "toCodePoint": 289
     },
     {
      "fromCodePoint": 302,
      "marks": {
       "bold": true
      },
      "toCodePoint": 305
     }
    ],
    "is_collapsed": false,
    "tags": []
   },
   "source": [
    "Appropriate descriptions have been provided for all the questions in this entire exercise which will help you navigate through this exercise easily. If a dataset is to be loaded in the python environment, that has also been provided for you. You can find it on the right panel in the Files section. Do NOT delete any of the files/folders listed there. "
   ]
  },
  {
   "cell_type": "markdown",
   "metadata": {
    "cell_id": "d5843c7aa6454493b7fe61aee6fb161f",
    "deepnote_cell_type": "text-cell-p",
    "formattedRanges": [],
    "is_collapsed": false,
    "tags": []
   },
   "source": [
    "The whole exercise has been divided into nine separate notebooks. Below are the links to all the other notebooks for you to jump from one notebook to another:"
   ]
  },
  {
   "cell_type": "markdown",
   "metadata": {
    "cell_id": "f7146fa41316468793979dda1405349a",
    "deepnote_cell_height": 403.6875,
    "deepnote_cell_type": "markdown",
    "tags": []
   },
   "source": [
    "- **Pandas**\n",
    "\n",
    "1. Pandas Notebook 1: [Link](https://deepnote.com/workspace/avi-chawla-695b-aee6f4ef-2d50-4fb6-9ef2-20ee1022995a/project/Pandas-Notebook-1-d693ac55-6455-40cf-ae34-867c6a02014e/notebook/6449493c84734151b11f4b6871f045d2#99f75bf946d04b9bb1daa9e14c2cfea9) \n",
    "2. Pandas Notebook 2: [Link](https://deepnote.com/workspace/avi-chawla-695b-aee6f4ef-2d50-4fb6-9ef2-20ee1022995a/project/Pandas-Notebook-employee-dataset-7e3b6755-5d4b-464b-9b75-9c84667ae3bd/notebook/notebook-0de50f3b70834570b13b651dde44c491) \n",
    "\n",
    "3. Pandas Notebook 3: [Link](https://deepnote.com/workspace/avi-chawla-695b-aee6f4ef-2d50-4fb6-9ef2-20ee1022995a/project/Pandas-Notebook-employee-part-2-adc5a3ee-5f61-4725-8e46-ccb07899acfc/notebook/notebook-78e3faf901da4f14881ef24e41c80bf6) \n",
    "\n",
    "4. Pandas Notebook 4: [Link](https://deepnote.com/workspace/avi-chawla-695b-aee6f4ef-2d50-4fb6-9ef2-20ee1022995a/project/Pandas-after-employee-f84e02a1-fb6a-428e-af90-8dd99855749a/notebook/notebook-134ac20c38ef45e5a4432abd638e6c2e) **(This Notebook)** \n",
    "\n",
    "- **NumPy**\n",
    "\n",
    "1. NumPy Notebook 1: [Link](https://deepnote.com/workspace/avi-chawla-695b-aee6f4ef-2d50-4fb6-9ef2-20ee1022995a/project/Numpy-part-1-9b9979f2-b708-4292-b466-3d0157564c91/notebook/notebook-07232b5ebafe49b198a9c55c553414f1)\n",
    "\n",
    "2. NumPy Notebook 2: [Link](https://deepnote.com/workspace/avi-chawla-695b-aee6f4ef-2d50-4fb6-9ef2-20ee1022995a/project/NumPy-Notebook-2-4456411e-2ddd-426d-8027-4881080027db/notebook/notebook-988aba30f33a45a3861adc4f6a6f338c)\n",
    "\n",
    "3. NumPy Notebook 3: [Link](https://deepnote.com/workspace/avi-chawla-695b-aee6f4ef-2d50-4fb6-9ef2-20ee1022995a/project/NumPy-Notebook-3-e6587114-b580-4249-b599-540de859e603/notebook/notebook-bb52759ea3f542eaaed9958b5df9c34b)\n",
    "\n",
    "- **SQL**\n",
    "\n",
    "1. SQL Notebook 1: [Link](https://deepnote.com/workspace/avi-chawla-695b-aee6f4ef-2d50-4fb6-9ef2-20ee1022995a/project/SQL-Notebook-1-eac9d782-a9b1-4e84-a1f9-af14080a6121/notebook/notebook-697f04297c664d02901db0f85431512e)\n",
    "\n",
    "2. SQL Notebook 2: [Link](https://deepnote.com/workspace/avi-chawla-695b-aee6f4ef-2d50-4fb6-9ef2-20ee1022995a/project/SQL-Notebook-2-1914b214-be03-44a1-be63-ad99e98be639/notebook/notebook-e549236b988c42a5b53126a7ebb98127)"
   ]
  },
  {
   "cell_type": "markdown",
   "metadata": {
    "cell_id": "a44bdcacf0f140f8a42fb2133a838910",
    "deepnote_cell_type": "text-cell-h2",
    "formattedRanges": [],
    "is_collapsed": false,
    "tags": []
   },
   "source": [
    "## How to use this notebook?"
   ]
  },
  {
   "cell_type": "markdown",
   "metadata": {
    "cell_id": "3c18928a659a4433916468da5a606db4",
    "deepnote_cell_type": "text-cell-p",
    "formattedRanges": [
     {
      "fromCodePoint": 41,
      "marks": {
       "bold": true
      },
      "toCodePoint": 50
     }
    ],
    "is_collapsed": false,
    "tags": []
   },
   "source": [
    "At the top right corner, you will find a Duplicate button. This will allow you to create a unique notebook for your own practice and write solutions to the question listed in this notebook.  "
   ]
  },
  {
   "cell_type": "markdown",
   "metadata": {
    "cell_id": "67d9275635ef4c20a935e98fe719e67f",
    "deepnote_cell_height": 74.78125,
    "deepnote_cell_type": "markdown",
    "tags": []
   },
   "source": [
    "If you face any issues or have any feedback, feel free to reach out to me (Avi Chawla) either on Linkedin: https://www.linkedin.com/in/avi-chawla/ or write an email to avi@dsscholar[dot]com. "
   ]
  },
  {
   "cell_type": "markdown",
   "metadata": {
    "cell_id": "b3288a55d65c4fee9cd231b45ade8385",
    "deepnote_cell_type": "text-cell-p",
    "formattedRanges": [],
    "is_collapsed": false,
    "tags": []
   },
   "source": [
    "Let's begin 🚀!"
   ]
  },
  {
   "cell_type": "markdown",
   "metadata": {
    "cell_id": "fdb413b026eb4eadaad579a2182c1025",
    "deepnote_cell_type": "text-cell-h1",
    "formattedRanges": [],
    "is_collapsed": false,
    "tags": []
   },
   "source": [
    "# Pandas Notebook 4"
   ]
  },
  {
   "cell_type": "markdown",
   "metadata": {
    "cell_id": "a400ce27cd1947a4ad14d80992f6e6c6",
    "deepnote_cell_type": "text-cell-h3",
    "formattedRanges": [],
    "is_collapsed": false,
    "tags": []
   },
   "source": [
    "### 151. Sort DataFrame based on another list"
   ]
  },
  {
   "cell_type": "code",
   "execution_count": 4,
   "metadata": {
    "allow_embed": "code",
    "cell_id": "13caa3b4f2a948e88177bead0a9c25b5",
    "deepnote_cell_height": 223,
    "deepnote_cell_type": "code",
    "tags": []
   },
   "outputs": [
    {
     "name": "stdout",
     "output_type": "stream",
     "text": [
      "  col1  col2\n",
      "2    C     3\n",
      "0    A     1\n",
      "3    D     4\n",
      "1    B     2\n"
     ]
    }
   ],
   "source": [
    "import pandas as pd\n",
    "import numpy as np\n",
    "\n",
    "df = pd.DataFrame([[\"A\", 1], [\"B\", 2],\n",
    "                   [\"C\", 3], [\"D\", 4]], columns=[\"col1\", \"col2\"])\n",
    "\n",
    "sort_list = [\"C\", \"A\", \"D\", \"B\"]\n",
    "\n",
    "# print(df.head())\n",
    "## start your code below\n",
    "df[\"col1\"] = pd.Categorical(df.col1,categories=sort_list)\n",
    "new_df = df.sort_values(\"col1\")\n",
    "## end your code here\n",
    "\n",
    "print(new_df)"
   ]
  },
  {
   "cell_type": "markdown",
   "metadata": {
    "cell_id": "61b8af6ccbfd4e248c2f23abb49af040",
    "deepnote_cell_type": "text-cell-h3",
    "formattedRanges": [],
    "is_collapsed": false,
    "tags": []
   },
   "source": [
    "### 152. Insert a column at a specific location in a DataFrame"
   ]
  },
  {
   "cell_type": "code",
   "execution_count": 2,
   "metadata": {
    "cell_id": "c204549132f141f5a27f7a26a5dd70e9",
    "deepnote_cell_height": 259,
    "deepnote_cell_type": "code",
    "tags": []
   },
   "outputs": [
    {
     "name": "stdout",
     "output_type": "stream",
     "text": [
      "  col_A new_column  col_B\n",
      "0     A          P      1\n",
      "1     B          Q      2\n",
      "2     C          R      3\n",
      "3     D          S      4\n"
     ]
    }
   ],
   "source": [
    "df = pd.DataFrame([[\"A\", 1], [\"B\", 2],\n",
    "                   [\"C\", 3], [\"D\", 4]], \n",
    "                  columns=[\"col_A\", \"col_B\"])\n",
    "\n",
    "new_column = [\"P\", \"Q\", \"R\", \"S\"]\n",
    "insert_position = 1 ## between col_A and col_B\n",
    "\n",
    "## start your code below\n",
    "df.insert(insert_position,\"new_column\",value=new_column)\n",
    "new_df = df\n",
    "## end your code here\n",
    "\n",
    "print(new_df)"
   ]
  },
  {
   "cell_type": "markdown",
   "metadata": {
    "cell_id": "51ab20c57a0440a9927bb9823a30b01c",
    "deepnote_cell_type": "text-cell-h3",
    "formattedRanges": [],
    "is_collapsed": false,
    "tags": []
   },
   "source": [
    "### 153. Select columns based on the column's Data Type"
   ]
  },
  {
   "cell_type": "code",
   "execution_count": 3,
   "metadata": {
    "cell_id": "438533be22ef43e9ad74367f253be745",
    "deepnote_cell_height": 241,
    "deepnote_cell_type": "code",
    "tags": []
   },
   "outputs": [
    {
     "name": "stdout",
     "output_type": "stream",
     "text": [
      "   col_C\n",
      "0   True\n",
      "1  False\n",
      "2  False\n",
      "3   True\n"
     ]
    }
   ],
   "source": [
    "df = pd.DataFrame([[\"A\", 1, True], [\"B\", 2, False],\n",
    "                   [\"C\", 3, False], [\"D\", 4, True]], \n",
    "                  columns=[\"col_A\", \"col_B\", \"col_C\"])\n",
    "\n",
    "dt_type = \"bool\"\n",
    "\n",
    "## start your code below\n",
    "new_df = df.select_dtypes(include=[dt_type])\n",
    "## end your code here\n",
    "\n",
    "print(new_df)"
   ]
  },
  {
   "cell_type": "markdown",
   "metadata": {
    "cell_id": "ca51bc93ae0946d394a2452df9d2fd08",
    "deepnote_cell_type": "text-cell-h3",
    "formattedRanges": [],
    "is_collapsed": false,
    "tags": []
   },
   "source": [
    "### 154. Count the number of Non-NaN cells for each column"
   ]
  },
  {
   "cell_type": "code",
   "execution_count": 4,
   "metadata": {
    "cell_id": "64577e88da21420082c032eb04e5bdd5",
    "deepnote_cell_height": 205,
    "deepnote_cell_type": "code",
    "tags": []
   },
   "outputs": [
    {
     "name": "stdout",
     "output_type": "stream",
     "text": [
      "col_A    1\n",
      "col_B    2\n",
      "dtype: int64\n"
     ]
    }
   ],
   "source": [
    "import numpy as np\n",
    "df = pd.DataFrame([[\"A\", np.NaN], [np.NaN, 2],\n",
    "                   [\"C\", np.NaN], [\"D\", 4]], \n",
    "                  columns=[\"col_A\", \"col_B\"])\n",
    "\n",
    "## start your code below\n",
    "new_df = df.isnull().sum()\n",
    "## end your code here\n",
    "\n",
    "print(new_df)"
   ]
  },
  {
   "cell_type": "markdown",
   "metadata": {
    "cell_id": "1651242235cc4c568e3e1ace7aea8587",
    "deepnote_cell_type": "text-cell-h3",
    "formattedRanges": [],
    "is_collapsed": false,
    "tags": []
   },
   "source": [
    "### 155. Split DataFrame into equal parts"
   ]
  },
  {
   "cell_type": "code",
   "execution_count": 5,
   "metadata": {
    "cell_id": "fe13b1f679fa4edea8e567ecb0a452a3",
    "deepnote_cell_height": 241,
    "deepnote_cell_type": "code",
    "tags": []
   },
   "outputs": [
    {
     "name": "stdout",
     "output_type": "stream",
     "text": [
      "  col_A  col_B\n",
      "0     A      1\n",
      "1     B      2\n"
     ]
    }
   ],
   "source": [
    "df = pd.DataFrame([[\"A\", 1], [\"B\", 2],\n",
    "                   [\"C\", 3], [\"D\", 4]], \n",
    "                  columns=[\"col_A\", \"col_B\"])\n",
    "\n",
    "parts = 2\n",
    "\n",
    "## start your code below\n",
    "new_df1, new_df2 = np.array_split(df,parts)\n",
    "## end your code here\n",
    "\n",
    "print(new_df1)"
   ]
  },
  {
   "cell_type": "code",
   "execution_count": 6,
   "metadata": {
    "cell_id": "87d28d30068b484bb446befd94120439",
    "deepnote_cell_height": 61,
    "deepnote_cell_type": "code",
    "tags": []
   },
   "outputs": [
    {
     "name": "stdout",
     "output_type": "stream",
     "text": [
      "  col_A  col_B\n",
      "2     C      3\n",
      "3     D      4\n"
     ]
    }
   ],
   "source": [
    "print(new_df2)"
   ]
  },
  {
   "cell_type": "markdown",
   "metadata": {
    "cell_id": "1f8303b2678c4355aaff04bbf784807f",
    "deepnote_cell_type": "text-cell-h3",
    "formattedRanges": [],
    "is_collapsed": false,
    "tags": []
   },
   "source": [
    "### 156. Reverse DataFrame row-wise"
   ]
  },
  {
   "cell_type": "code",
   "execution_count": 7,
   "metadata": {
    "cell_id": "68940c72773343f08b875c909e2f3c5e",
    "deepnote_cell_height": 169,
    "deepnote_cell_type": "code",
    "tags": []
   },
   "outputs": [
    {
     "data": {
      "text/html": [
       "<div>\n",
       "<style scoped>\n",
       "    .dataframe tbody tr th:only-of-type {\n",
       "        vertical-align: middle;\n",
       "    }\n",
       "\n",
       "    .dataframe tbody tr th {\n",
       "        vertical-align: top;\n",
       "    }\n",
       "\n",
       "    .dataframe thead th {\n",
       "        text-align: right;\n",
       "    }\n",
       "</style>\n",
       "<table border=\"1\" class=\"dataframe\">\n",
       "  <thead>\n",
       "    <tr style=\"text-align: right;\">\n",
       "      <th></th>\n",
       "      <th>col_A</th>\n",
       "      <th>col_B</th>\n",
       "    </tr>\n",
       "  </thead>\n",
       "  <tbody>\n",
       "    <tr>\n",
       "      <th>3</th>\n",
       "      <td>D</td>\n",
       "      <td>4</td>\n",
       "    </tr>\n",
       "    <tr>\n",
       "      <th>2</th>\n",
       "      <td>C</td>\n",
       "      <td>3</td>\n",
       "    </tr>\n",
       "    <tr>\n",
       "      <th>1</th>\n",
       "      <td>B</td>\n",
       "      <td>2</td>\n",
       "    </tr>\n",
       "    <tr>\n",
       "      <th>0</th>\n",
       "      <td>A</td>\n",
       "      <td>1</td>\n",
       "    </tr>\n",
       "  </tbody>\n",
       "</table>\n",
       "</div>"
      ],
      "text/plain": [
       "  col_A  col_B\n",
       "3     D      4\n",
       "2     C      3\n",
       "1     B      2\n",
       "0     A      1"
      ]
     },
     "execution_count": 7,
     "metadata": {},
     "output_type": "execute_result"
    }
   ],
   "source": [
    "df = pd.DataFrame([[\"A\", 1], [\"B\", 2],\n",
    "                   [\"C\", 3], [\"D\", 4]], \n",
    "                  columns=[\"col_A\", \"col_B\"])\n",
    "\n",
    "## start your code below\n",
    "row_reverse = df.iloc[::-1]\n",
    "## end your code here\n",
    "\n",
    "row_reverse"
   ]
  },
  {
   "cell_type": "markdown",
   "metadata": {
    "cell_id": "aea268ea5d3a4bb790f62f7cec54dc12",
    "deepnote_cell_type": "text-cell-h3",
    "formattedRanges": [],
    "is_collapsed": false,
    "tags": []
   },
   "source": [
    "### 157. Reverse DataFrame column-wise"
   ]
  },
  {
   "cell_type": "code",
   "execution_count": 8,
   "metadata": {
    "cell_id": "b61f646e651c427cbfb5e5677a6f9ee3",
    "deepnote_cell_height": 169,
    "deepnote_cell_type": "code",
    "tags": []
   },
   "outputs": [
    {
     "data": {
      "text/html": [
       "<div>\n",
       "<style scoped>\n",
       "    .dataframe tbody tr th:only-of-type {\n",
       "        vertical-align: middle;\n",
       "    }\n",
       "\n",
       "    .dataframe tbody tr th {\n",
       "        vertical-align: top;\n",
       "    }\n",
       "\n",
       "    .dataframe thead th {\n",
       "        text-align: right;\n",
       "    }\n",
       "</style>\n",
       "<table border=\"1\" class=\"dataframe\">\n",
       "  <thead>\n",
       "    <tr style=\"text-align: right;\">\n",
       "      <th></th>\n",
       "      <th>col_B</th>\n",
       "      <th>col_A</th>\n",
       "    </tr>\n",
       "  </thead>\n",
       "  <tbody>\n",
       "    <tr>\n",
       "      <th>0</th>\n",
       "      <td>1</td>\n",
       "      <td>A</td>\n",
       "    </tr>\n",
       "    <tr>\n",
       "      <th>1</th>\n",
       "      <td>2</td>\n",
       "      <td>B</td>\n",
       "    </tr>\n",
       "    <tr>\n",
       "      <th>2</th>\n",
       "      <td>3</td>\n",
       "      <td>C</td>\n",
       "    </tr>\n",
       "    <tr>\n",
       "      <th>3</th>\n",
       "      <td>4</td>\n",
       "      <td>D</td>\n",
       "    </tr>\n",
       "  </tbody>\n",
       "</table>\n",
       "</div>"
      ],
      "text/plain": [
       "   col_B col_A\n",
       "0      1     A\n",
       "1      2     B\n",
       "2      3     C\n",
       "3      4     D"
      ]
     },
     "execution_count": 8,
     "metadata": {},
     "output_type": "execute_result"
    }
   ],
   "source": [
    "df = pd.DataFrame([[\"A\", 1], [\"B\", 2],\n",
    "                   [\"C\", 3], [\"D\", 4]], \n",
    "                  columns=[\"col_A\", \"col_B\"])\n",
    "\n",
    "## start your code below\n",
    "col_reverse = df.loc[::,::-1]\n",
    "## end your code here\n",
    "col_reverse"
   ]
  },
  {
   "cell_type": "markdown",
   "metadata": {
    "cell_id": "42c11b29b58d46988b3812f40834c59f",
    "deepnote_cell_type": "text-cell-h3",
    "formattedRanges": [],
    "is_collapsed": false,
    "tags": []
   },
   "source": [
    "### 158. Insert a row at an arbitrary position"
   ]
  },
  {
   "cell_type": "code",
   "execution_count": 9,
   "metadata": {
    "cell_id": "464f4373d3f84f319d490c4736ee774e",
    "deepnote_cell_height": 223,
    "deepnote_cell_type": "code",
    "tags": []
   },
   "outputs": [
    {
     "data": {
      "text/html": [
       "<div>\n",
       "<style scoped>\n",
       "    .dataframe tbody tr th:only-of-type {\n",
       "        vertical-align: middle;\n",
       "    }\n",
       "\n",
       "    .dataframe tbody tr th {\n",
       "        vertical-align: top;\n",
       "    }\n",
       "\n",
       "    .dataframe thead th {\n",
       "        text-align: right;\n",
       "    }\n",
       "</style>\n",
       "<table border=\"1\" class=\"dataframe\">\n",
       "  <thead>\n",
       "    <tr style=\"text-align: right;\">\n",
       "      <th></th>\n",
       "      <th>col_A</th>\n",
       "      <th>col_B</th>\n",
       "    </tr>\n",
       "  </thead>\n",
       "  <tbody>\n",
       "    <tr>\n",
       "      <th>0</th>\n",
       "      <td>A</td>\n",
       "      <td>1</td>\n",
       "    </tr>\n",
       "    <tr>\n",
       "      <th>1</th>\n",
       "      <td>P</td>\n",
       "      <td>5</td>\n",
       "    </tr>\n",
       "    <tr>\n",
       "      <th>2</th>\n",
       "      <td>B</td>\n",
       "      <td>2</td>\n",
       "    </tr>\n",
       "    <tr>\n",
       "      <th>3</th>\n",
       "      <td>C</td>\n",
       "      <td>3</td>\n",
       "    </tr>\n",
       "    <tr>\n",
       "      <th>4</th>\n",
       "      <td>D</td>\n",
       "      <td>4</td>\n",
       "    </tr>\n",
       "  </tbody>\n",
       "</table>\n",
       "</div>"
      ],
      "text/plain": [
       "  col_A  col_B\n",
       "0     A      1\n",
       "1     P      5\n",
       "2     B      2\n",
       "3     C      3\n",
       "4     D      4"
      ]
     },
     "execution_count": 9,
     "metadata": {},
     "output_type": "execute_result"
    }
   ],
   "source": [
    "df = pd.DataFrame([[\"A\", 1], [\"B\", 2],\n",
    "                   [\"C\", 3], [\"D\", 4]], \n",
    "                  columns=[\"col_A\", \"col_B\"])\n",
    "\n",
    "insert_pos = 1\n",
    "insert_row = [\"P\", 5]\n",
    "\n",
    "## start your code below\n",
    "a = pd.DataFrame([insert_row],columns=df.columns)\n",
    "new_df = pd.concat([df.iloc[:insert_pos],a,df.iloc[insert_pos:]]).reset_index(drop=True)\n",
    "## end your code here\n",
    "\n",
    "new_df"
   ]
  },
  {
   "cell_type": "markdown",
   "metadata": {
    "cell_id": "e04660ceafbb4d8cbb88b94b75493e51",
    "deepnote_cell_type": "text-cell-h3",
    "formattedRanges": [],
    "is_collapsed": false,
    "tags": []
   },
   "source": [
    "### 159. Apply function to every cell of DataFrame"
   ]
  },
  {
   "cell_type": "code",
   "execution_count": 10,
   "metadata": {
    "cell_id": "25edf95950494c90b909e6c1fd39ba72",
    "deepnote_cell_height": 259,
    "deepnote_cell_type": "code",
    "tags": []
   },
   "outputs": [
    {
     "name": "stdout",
     "output_type": "stream",
     "text": [
      "   col_A  col_B\n",
      "0      2      6\n",
      "1      3      7\n",
      "2      4      8\n",
      "3      5      9\n"
     ]
    }
   ],
   "source": [
    "df = pd.DataFrame([[1, 5], [2, 6],\n",
    "                   [3, 7], [4, 8]], \n",
    "                  columns=[\"col_A\", \"col_B\"])\n",
    "\n",
    "def func(num):\n",
    "    return num + 1\n",
    "\n",
    "## start your code below\n",
    "new_df = df.apply(lambda x : func(x))\n",
    "## end your code here\n",
    "\n",
    "print(new_df)"
   ]
  },
  {
   "cell_type": "markdown",
   "metadata": {
    "cell_id": "c800a79729604445b843e481c2818b91",
    "deepnote_cell_type": "text-cell-h3",
    "formattedRanges": [],
    "is_collapsed": false,
    "tags": []
   },
   "source": [
    "### 160. The cumulative sum of a column in DataFrame"
   ]
  },
  {
   "cell_type": "code",
   "execution_count": 11,
   "metadata": {
    "cell_id": "01d94e7b7bb5478ca36754f8c32a80ee",
    "deepnote_cell_height": 151,
    "deepnote_cell_type": "code",
    "tags": []
   },
   "outputs": [
    {
     "data": {
      "text/plain": [
       "0     1\n",
       "1     3\n",
       "2     6\n",
       "3    10\n",
       "Name: col_B, dtype: int64"
      ]
     },
     "execution_count": 11,
     "metadata": {},
     "output_type": "execute_result"
    }
   ],
   "source": [
    "df = pd.DataFrame([[\"A\", 1], [\"B\", 2],\n",
    "                   [\"C\", 3], [\"D\", 4]], columns=[\"col_A\", \"col_B\"])\n",
    "\n",
    "## start your code below\n",
    "new_df = df.col_B.cumsum()\n",
    "## end your code here\n",
    "\n",
    "new_df"
   ]
  },
  {
   "cell_type": "markdown",
   "metadata": {
    "cell_id": "fac2c9dfd6bb449e9bdfda81f1173f15",
    "deepnote_cell_type": "text-cell-h3",
    "formattedRanges": [],
    "is_collapsed": false,
    "tags": []
   },
   "source": [
    "### 161. Uniquely number individual group in Pandas GroupBy"
   ]
  },
  {
   "cell_type": "code",
   "execution_count": 19,
   "metadata": {
    "cell_id": "84d9e8dc29c34a22a702b6a25a0b99f5",
    "deepnote_cell_height": 151,
    "deepnote_cell_type": "code",
    "tags": []
   },
   "outputs": [
    {
     "data": {
      "text/html": [
       "<div>\n",
       "<style scoped>\n",
       "    .dataframe tbody tr th:only-of-type {\n",
       "        vertical-align: middle;\n",
       "    }\n",
       "\n",
       "    .dataframe tbody tr th {\n",
       "        vertical-align: top;\n",
       "    }\n",
       "\n",
       "    .dataframe thead th {\n",
       "        text-align: right;\n",
       "    }\n",
       "</style>\n",
       "<table border=\"1\" class=\"dataframe\">\n",
       "  <thead>\n",
       "    <tr style=\"text-align: right;\">\n",
       "      <th></th>\n",
       "      <th>col_A</th>\n",
       "      <th>col_B</th>\n",
       "      <th>Unique_ID</th>\n",
       "    </tr>\n",
       "  </thead>\n",
       "  <tbody>\n",
       "    <tr>\n",
       "      <th>0</th>\n",
       "      <td>A</td>\n",
       "      <td>1</td>\n",
       "      <td>0</td>\n",
       "    </tr>\n",
       "    <tr>\n",
       "      <th>1</th>\n",
       "      <td>B</td>\n",
       "      <td>2</td>\n",
       "      <td>1</td>\n",
       "    </tr>\n",
       "    <tr>\n",
       "      <th>2</th>\n",
       "      <td>C</td>\n",
       "      <td>3</td>\n",
       "      <td>2</td>\n",
       "    </tr>\n",
       "    <tr>\n",
       "      <th>3</th>\n",
       "      <td>D</td>\n",
       "      <td>4</td>\n",
       "      <td>3</td>\n",
       "    </tr>\n",
       "  </tbody>\n",
       "</table>\n",
       "</div>"
      ],
      "text/plain": [
       "  col_A  col_B  Unique_ID\n",
       "0     A      1          0\n",
       "1     B      2          1\n",
       "2     C      3          2\n",
       "3     D      4          3"
      ]
     },
     "execution_count": 19,
     "metadata": {},
     "output_type": "execute_result"
    }
   ],
   "source": [
    "df = pd.DataFrame([[\"A\", 1], [\"B\", 2],\n",
    "                   [\"C\", 3], [\"D\", 4]], columns=[\"col_A\", \"col_B\"])\n",
    "\n",
    "## start your code below\n",
    "new_df = df.copy()\n",
    "new_df[\"Unique_ID\"] = df[\"col_A\"].astype(\"category\").cat.codes\n",
    "## end your code here\n",
    "new_df"
   ]
  },
  {
   "cell_type": "markdown",
   "metadata": {
    "cell_id": "f542fcdef80b43b7a3bde7af60e7d5e7",
    "deepnote_cell_type": "text-cell-h3",
    "formattedRanges": [],
    "is_collapsed": false,
    "tags": []
   },
   "source": [
    "### 162. Check if column has NaN values"
   ]
  },
  {
   "cell_type": "code",
   "execution_count": 15,
   "metadata": {
    "cell_id": "b493f00eba2f42558fcbaa847f49021a",
    "deepnote_cell_height": 169,
    "deepnote_cell_type": "code",
    "tags": []
   },
   "outputs": [],
   "source": [
    "df = pd.DataFrame([[\"A\", np.NaN], [\"A\", 2], [\"C\", np.NaN], [\"D\", 4]], \n",
    "                  columns=[\"col_A\", \"col_B\"])\n",
    "\n",
    "## start your code below\n",
    "col_A_check = df[\"col_A\"].isnull().any() \n",
    "col_B_check = df[\"col_B\"].isnull().any()\n",
    "## end your code here"
   ]
  },
  {
   "cell_type": "code",
   "execution_count": 16,
   "metadata": {
    "cell_id": "19e352689ed9472a893ede6efd378197",
    "deepnote_cell_height": 61,
    "deepnote_cell_type": "code",
    "tags": []
   },
   "outputs": [
    {
     "data": {
      "text/plain": [
       "(False, True)"
      ]
     },
     "execution_count": 16,
     "metadata": {},
     "output_type": "execute_result"
    }
   ],
   "source": [
    "col_A_check, col_B_check"
   ]
  },
  {
   "cell_type": "markdown",
   "metadata": {
    "cell_id": "e1f00e1648494b1f8916ad4e8505d344",
    "deepnote_cell_type": "text-cell-h3",
    "formattedRanges": [],
    "is_collapsed": false,
    "tags": []
   },
   "source": [
    "### 163. Append a list as a row to a DataFrame"
   ]
  },
  {
   "cell_type": "code",
   "execution_count": 20,
   "metadata": {
    "cell_id": "bccf7a30adb8408db92260dc1c20736e",
    "deepnote_cell_height": 241,
    "deepnote_cell_type": "code",
    "tags": []
   },
   "outputs": [
    {
     "name": "stdout",
     "output_type": "stream",
     "text": [
      "  col_A  col_B\n",
      "0     A      1\n",
      "1     B      2\n",
      "2     C      3\n",
      "3     D      4\n",
      "4     E      5\n"
     ]
    }
   ],
   "source": [
    "df = pd.DataFrame([[\"A\", 1], [\"B\", 2],\n",
    "                   [\"C\", 3], [\"D\", 4]], \n",
    "                  columns=[\"col_A\", \"col_B\"])\n",
    "\n",
    "new_row = [\"E\", 5]\n",
    "\n",
    "## start your code below\n",
    "df.loc[len(df)] = new_row\n",
    "## end your code here\n",
    "\n",
    "print(df)"
   ]
  },
  {
   "cell_type": "markdown",
   "metadata": {
    "cell_id": "8304ad509db54c438def8e543efda89b",
    "deepnote_cell_type": "text-cell-h3",
    "formattedRanges": [],
    "is_collapsed": false,
    "tags": []
   },
   "source": [
    "### 164. Identify the source of each row in Pandas Merge"
   ]
  },
  {
   "cell_type": "code",
   "execution_count": 23,
   "metadata": {
    "cell_id": "46bbb5ea6b9a434bb4ad5c9e25e6c1fa",
    "deepnote_cell_height": 241,
    "deepnote_cell_type": "code",
    "tags": []
   },
   "outputs": [
    {
     "name": "stdout",
     "output_type": "stream",
     "text": [
      "  col_A  col_B  col_C      _merge\n",
      "0     A    1.0    3.0        both\n",
      "1     B    2.0    NaN   left_only\n",
      "2     C    NaN    4.0  right_only\n"
     ]
    }
   ],
   "source": [
    "df1 = pd.DataFrame([[\"A\", 1], [\"B\", 2]], \n",
    "                  columns=[\"col_A\", \"col_B\"])\n",
    "\n",
    "df2 = pd.DataFrame([[\"A\", 3], [\"C\", 4]], \n",
    "                  columns=[\"col_A\", \"col_C\"])\n",
    "\n",
    "## start your code below\n",
    "new_df = df1.merge(df2, on=\"col_A\", how=\"outer\", indicator=True)\n",
    "## end your code here\n",
    "\n",
    "print(new_df)"
   ]
  },
  {
   "cell_type": "markdown",
   "metadata": {
    "cell_id": "d59bb1a6349d4c99a0fd7170122b8b9a",
    "deepnote_cell_type": "text-cell-h3",
    "formattedRanges": [],
    "is_collapsed": false,
    "tags": []
   },
   "source": [
    "### 165. Filter n-largest values from a DataFrame"
   ]
  },
  {
   "cell_type": "code",
   "execution_count": 22,
   "metadata": {
    "cell_id": "8b66103eb60443108f7a890020dbebfb",
    "deepnote_cell_height": 205,
    "deepnote_cell_type": "code",
    "tags": []
   },
   "outputs": [
    {
     "data": {
      "text/html": [
       "<div>\n",
       "<style scoped>\n",
       "    .dataframe tbody tr th:only-of-type {\n",
       "        vertical-align: middle;\n",
       "    }\n",
       "\n",
       "    .dataframe tbody tr th {\n",
       "        vertical-align: top;\n",
       "    }\n",
       "\n",
       "    .dataframe thead th {\n",
       "        text-align: right;\n",
       "    }\n",
       "</style>\n",
       "<table border=\"1\" class=\"dataframe\">\n",
       "  <thead>\n",
       "    <tr style=\"text-align: right;\">\n",
       "      <th></th>\n",
       "      <th>col_A</th>\n",
       "      <th>col_B</th>\n",
       "    </tr>\n",
       "  </thead>\n",
       "  <tbody>\n",
       "    <tr>\n",
       "      <th>1</th>\n",
       "      <td>B</td>\n",
       "      <td>400</td>\n",
       "    </tr>\n",
       "    <tr>\n",
       "      <th>3</th>\n",
       "      <td>D</td>\n",
       "      <td>300</td>\n",
       "    </tr>\n",
       "  </tbody>\n",
       "</table>\n",
       "</div>"
      ],
      "text/plain": [
       "  col_A  col_B\n",
       "1     B    400\n",
       "3     D    300"
      ]
     },
     "execution_count": 22,
     "metadata": {},
     "output_type": "execute_result"
    }
   ],
   "source": [
    "df = pd.DataFrame([[\"A\", 200], [\"B\", 400],\n",
    "                   [\"C\", 100], [\"D\", 300]], \n",
    "                  columns=[\"col_A\", \"col_B\"])\n",
    "\n",
    "k = 2\n",
    "\n",
    "## start your code below\n",
    "largest_k = df.nlargest(k,columns=\"col_B\")\n",
    "## end your code here\n",
    "\n",
    "largest_k"
   ]
  },
  {
   "cell_type": "markdown",
   "metadata": {
    "cell_id": "f24129fd52ef409aa4307d1500e34483",
    "deepnote_cell_type": "text-cell-h3",
    "formattedRanges": [],
    "is_collapsed": false,
    "tags": []
   },
   "source": [
    "### 166. Filter n-smallest values from a DataFrame"
   ]
  },
  {
   "cell_type": "code",
   "execution_count": 25,
   "metadata": {
    "cell_id": "3a361403fba04706854534809756e223",
    "deepnote_cell_height": 205,
    "deepnote_cell_type": "code",
    "tags": []
   },
   "outputs": [
    {
     "data": {
      "text/html": [
       "<div>\n",
       "<style scoped>\n",
       "    .dataframe tbody tr th:only-of-type {\n",
       "        vertical-align: middle;\n",
       "    }\n",
       "\n",
       "    .dataframe tbody tr th {\n",
       "        vertical-align: top;\n",
       "    }\n",
       "\n",
       "    .dataframe thead th {\n",
       "        text-align: right;\n",
       "    }\n",
       "</style>\n",
       "<table border=\"1\" class=\"dataframe\">\n",
       "  <thead>\n",
       "    <tr style=\"text-align: right;\">\n",
       "      <th></th>\n",
       "      <th>col_A</th>\n",
       "      <th>col_B</th>\n",
       "    </tr>\n",
       "  </thead>\n",
       "  <tbody>\n",
       "    <tr>\n",
       "      <th>2</th>\n",
       "      <td>C</td>\n",
       "      <td>100</td>\n",
       "    </tr>\n",
       "    <tr>\n",
       "      <th>0</th>\n",
       "      <td>A</td>\n",
       "      <td>200</td>\n",
       "    </tr>\n",
       "  </tbody>\n",
       "</table>\n",
       "</div>"
      ],
      "text/plain": [
       "  col_A  col_B\n",
       "2     C    100\n",
       "0     A    200"
      ]
     },
     "execution_count": 25,
     "metadata": {},
     "output_type": "execute_result"
    }
   ],
   "source": [
    "df = pd.DataFrame([[\"A\", 200], [\"B\", 400],\n",
    "                   [\"C\", 100], [\"D\", 300]], \n",
    "                  columns=[\"col_A\", \"col_B\"])\n",
    "\n",
    "k = 2\n",
    "\n",
    "## start your code below\n",
    "smallest_k = df.nsmallest(k,columns=\"col_B\")\n",
    "## end your code here\n",
    "\n",
    "smallest_k"
   ]
  },
  {
   "cell_type": "markdown",
   "metadata": {
    "cell_id": "7f4dd43e187b435d9427ffd40b69a647",
    "deepnote_cell_type": "text-cell-h3",
    "formattedRanges": [],
    "is_collapsed": false,
    "tags": []
   },
   "source": [
    "### 167. Map categorical data to unique integral values"
   ]
  },
  {
   "cell_type": "code",
   "execution_count": 31,
   "metadata": {
    "cell_id": "561c907295c64247a503db941010cb6b",
    "deepnote_cell_height": 205,
    "deepnote_cell_type": "code",
    "tags": []
   },
   "outputs": [
    {
     "name": "stdout",
     "output_type": "stream",
     "text": [
      "  col_A  col_B  Category\n",
      "0     A      1         0\n",
      "1     B      2         1\n",
      "2     A      3         0\n",
      "3     D      4         2\n"
     ]
    }
   ],
   "source": [
    "df = pd.DataFrame([[\"A\", 1], [\"B\", 2],\n",
    "                   [\"A\", 3], [\"D\", 4]], \n",
    "                  columns=[\"col_A\", \"col_B\"])\n",
    "\n",
    "## start your code below\n",
    "df[\"Category\"] = df[\"col_A\"].astype(\"category\").cat.codes\n",
    "## end your code here\n",
    "\n",
    "print(df)"
   ]
  },
  {
   "cell_type": "markdown",
   "metadata": {
    "cell_id": "4d78ce8bb00d45eeb742b7948f9e8044",
    "deepnote_cell_type": "text-cell-h3",
    "formattedRanges": [],
    "is_collapsed": false,
    "tags": []
   },
   "source": [
    "### 168. Add prefix to every column name"
   ]
  },
  {
   "cell_type": "code",
   "execution_count": 32,
   "metadata": {
    "cell_id": "b30532454c984cb1a110bb041dc224ff",
    "deepnote_cell_height": 205,
    "deepnote_cell_type": "code",
    "tags": []
   },
   "outputs": [
    {
     "name": "stdout",
     "output_type": "stream",
     "text": [
      "  shcol_A  shcol_B\n",
      "0       A        1\n",
      "1       B        2\n",
      "2       C        3\n",
      "3       D        4\n"
     ]
    }
   ],
   "source": [
    "df = pd.DataFrame([[\"A\", 1], [\"B\", 2],\n",
    "                   [\"C\", 3], [\"D\", 4]], \n",
    "                  columns=[\"col_A\", \"col_B\"])\n",
    "\n",
    "## start your code below\n",
    "new_df = df.add_prefix(\"sh\",axis=1)\n",
    "## end your code here\n",
    "\n",
    "print(new_df)"
   ]
  },
  {
   "cell_type": "markdown",
   "metadata": {
    "cell_id": "b82b02a0e105420d905d0fd300f6e59b",
    "deepnote_cell_type": "text-cell-h3",
    "formattedRanges": [],
    "is_collapsed": false,
    "tags": []
   },
   "source": [
    "### 169. Delete the rows that have NaN values"
   ]
  },
  {
   "cell_type": "code",
   "execution_count": 33,
   "metadata": {
    "cell_id": "444c99f509fd4be79d90c2c257922b70",
    "deepnote_cell_height": 205,
    "deepnote_cell_type": "code",
    "tags": []
   },
   "outputs": [
    {
     "name": "stdout",
     "output_type": "stream",
     "text": [
      "  col_A  col_B\n",
      "1     B    2.0\n",
      "3     D    4.0\n"
     ]
    }
   ],
   "source": [
    "df = pd.DataFrame([[\"A\", np.NaN], [\"B\", 2],\n",
    "                   [\"C\", np.NaN], [\"D\", 4]], \n",
    "                  columns=[\"col_A\", \"col_B\"])\n",
    "\n",
    "## start your code below\n",
    "new_df = df.dropna(axis=0)\n",
    "## end your code here\n",
    "\n",
    "print(new_df)"
   ]
  },
  {
   "cell_type": "markdown",
   "metadata": {
    "cell_id": "e7f9be7778ba4085839e58ead3219409",
    "deepnote_cell_type": "text-cell-h3",
    "formattedRanges": [],
    "is_collapsed": false,
    "tags": []
   },
   "source": [
    "### 170. Fill NaN values with 1"
   ]
  },
  {
   "cell_type": "code",
   "execution_count": 34,
   "metadata": {
    "cell_id": "5aa566a65b3f4c80b588a8cc8ef7be1c",
    "deepnote_cell_height": 205,
    "deepnote_cell_type": "code",
    "tags": []
   },
   "outputs": [
    {
     "name": "stdout",
     "output_type": "stream",
     "text": [
      "  col_A  col_B\n",
      "0     A    1.0\n",
      "1     B    2.0\n",
      "2     C    1.0\n",
      "3     D    4.0\n"
     ]
    }
   ],
   "source": [
    "df = pd.DataFrame([[\"A\", np.NaN], [\"B\", 2],\n",
    "                   [\"C\", np.NaN], [\"D\", 4]], \n",
    "                  columns=[\"col_A\", \"col_B\"])\n",
    "\n",
    "## start your code below\n",
    "new_df = df.fillna(1)\n",
    "## end your code here\n",
    "\n",
    "print(new_df)"
   ]
  },
  {
   "cell_type": "markdown",
   "metadata": {
    "cell_id": "31c38311e57349928b7b5c1dae33caa2",
    "deepnote_cell_type": "text-cell-h3",
    "formattedRanges": [],
    "is_collapsed": false,
    "tags": []
   },
   "source": [
    "### 171. Fill NaN values with column mean"
   ]
  },
  {
   "cell_type": "code",
   "execution_count": 12,
   "metadata": {
    "cell_id": "595f7a01fb1041378dfb8f17129db778",
    "deepnote_cell_height": 205,
    "deepnote_cell_type": "code",
    "tags": []
   },
   "outputs": [
    {
     "name": "stdout",
     "output_type": "stream",
     "text": [
      "  col_A  col_B\n",
      "0     A    3.0\n",
      "1     B    2.0\n",
      "2     C    3.0\n",
      "3     D    4.0\n"
     ]
    }
   ],
   "source": [
    "df = pd.DataFrame([[\"A\", np.NaN], [\"B\", 2],\n",
    "                   [\"C\", np.NaN], [\"D\", 4]], \n",
    "                  columns=[\"col_A\", \"col_B\"])\n",
    "\n",
    "## start your code below\n",
    "new_df = df.copy()\n",
    "new_df[\"col_B\"] = df[\"col_B\"].fillna(df[\"col_B\"].mean())\n",
    "## end your code here\n",
    "\n",
    "print(new_df)"
   ]
  },
  {
   "cell_type": "markdown",
   "metadata": {
    "cell_id": "138e2459f7284e06b471a4b3b4d8f00f",
    "deepnote_cell_type": "text-cell-h3",
    "formattedRanges": [],
    "is_collapsed": false,
    "tags": []
   },
   "source": [
    "### 172. Fill NaN values with column mode"
   ]
  },
  {
   "cell_type": "code",
   "execution_count": 18,
   "metadata": {
    "cell_id": "19fc1197f2ee48e0938fe718846ccb8f",
    "deepnote_cell_height": 223,
    "deepnote_cell_type": "code",
    "tags": []
   },
   "outputs": [
    {
     "name": "stdout",
     "output_type": "stream",
     "text": [
      "  col_A  col_B\n",
      "0     A      1\n",
      "1     A      2\n",
      "2     A      3\n",
      "3     A      4\n",
      "4     B      5\n",
      "5     C      6\n"
     ]
    }
   ],
   "source": [
    "df = pd.DataFrame([[\"A\", 1], [np.NaN, 2],\n",
    "                   [\"A\", 3], [np.NaN, 4], \n",
    "                   [\"B\", 5], [\"C\", 6]], \n",
    "                  columns=[\"col_A\", \"col_B\"])\n",
    "\n",
    "## start your code below\n",
    "new_df = df.copy()\n",
    "new_df[\"col_A\"] = df[\"col_A\"].fillna(df[\"col_A\"].mode()[0]) \n",
    "## end your code here\n",
    "\n",
    "print(new_df)"
   ]
  },
  {
   "cell_type": "markdown",
   "metadata": {
    "cell_id": "c1704e17290f4e07bb12abdc69c3f684",
    "deepnote_cell_type": "text-cell-h3",
    "formattedRanges": [],
    "is_collapsed": false,
    "tags": []
   },
   "source": [
    "### 173. Swap two rows of a dataframe"
   ]
  },
  {
   "cell_type": "code",
   "execution_count": 25,
   "metadata": {
    "allow_embed": "code",
    "cell_id": "4ae301cec4b14a95bd9ed7d5dffe3980",
    "deepnote_cell_height": 259,
    "deepnote_cell_type": "code",
    "tags": []
   },
   "outputs": [
    {
     "name": "stdout",
     "output_type": "stream",
     "text": [
      "  col_A  col_B\n",
      "0     A      1\n",
      "1     D      4\n",
      "2     C      3\n",
      "3     B      2\n"
     ]
    }
   ],
   "source": [
    "df = pd.DataFrame([[\"A\", 1], [\"B\", 2],\n",
    "                   [\"C\", 3], [\"D\", 4]], \n",
    "                  columns=[\"col_A\", \"col_B\"])\n",
    "\n",
    "# swap second and last row\n",
    "row_1, row_2 = 1, 3 \n",
    "\n",
    "## start your code below\n",
    "new_df = df.copy()\n",
    "new_df.iloc[row_1], new_df.iloc[row_2] = df.iloc[row_2].copy(), df.iloc[row_1].copy()\n",
    "## end your code here\n",
    "\n",
    "print(new_df)"
   ]
  },
  {
   "cell_type": "markdown",
   "metadata": {
    "cell_id": "da0bc98190c74a42acddd69eaad3124c",
    "deepnote_cell_type": "text-cell-h3",
    "formattedRanges": [],
    "is_collapsed": false,
    "tags": []
   },
   "source": [
    "### 174. Create a column \"col4\" that contains the 2nd largest value in each row"
   ]
  },
  {
   "cell_type": "code",
   "execution_count": 43,
   "metadata": {
    "cell_id": "0078463848b64ff2b7028ce865a86b99",
    "deepnote_cell_height": 259,
    "deepnote_cell_type": "code",
    "tags": []
   },
   "outputs": [
    {
     "name": "stdout",
     "output_type": "stream",
     "text": [
      "   col_A  col_B  col_C  col4\n",
      "0      4      1      5     4\n",
      "1      5      2      9     5\n",
      "2      2      9      3     3\n",
      "3      8      5      4     5\n"
     ]
    }
   ],
   "source": [
    "df = pd.DataFrame([[4, 1, 5], \n",
    "                   [5, 2, 9],\n",
    "                   [2, 9, 3], \n",
    "                   [8, 5, 4]], \n",
    "                  columns=[\"col_A\", \"col_B\", \"col_C\"])\n",
    "\n",
    "\n",
    "## start your code below\n",
    "new_df = df.copy()\n",
    "new_df[\"col4\"] = df.apply(lambda x: sorted(x)[-2],axis=1)\n",
    "## end your code here\n",
    "\n",
    "print(new_df)"
   ]
  },
  {
   "cell_type": "markdown",
   "metadata": {
    "cell_id": "a2f18701053d4d4499b7c97aea5e26a1",
    "deepnote_cell_type": "text-cell-h3",
    "formattedRanges": [],
    "is_collapsed": false,
    "tags": []
   },
   "source": [
    "### 175. Replace the values on the main diagonal of the dataframe with 0"
   ]
  },
  {
   "cell_type": "code",
   "execution_count": 45,
   "metadata": {
    "cell_id": "f15bcca19bf048dc95da257986b67bed",
    "deepnote_cell_height": 223,
    "deepnote_cell_type": "code",
    "tags": []
   },
   "outputs": [
    {
     "name": "stdout",
     "output_type": "stream",
     "text": [
      "   col_A  col_B  col_C  col_D\n",
      "0      0      1      5     10\n",
      "1      5      0      9      4\n",
      "2      2      9      0      1\n",
      "3      1      7      3      0\n"
     ]
    }
   ],
   "source": [
    "df = pd.DataFrame([[4, 1, 5, 10], [5, 2, 9, 4],\n",
    "                   [2, 9, 3, 1],  [1, 7, 3,10]], \n",
    "                  columns=[\"col_A\", \"col_B\", \"col_C\", \"col_D\"])\n",
    "\n",
    "\n",
    "## start your code below\n",
    "new_df = df.copy()\n",
    "np.fill_diagonal(new_df.values,0)\n",
    "## end your code here\n",
    "\n",
    "print(new_df)"
   ]
  },
  {
   "cell_type": "markdown",
   "metadata": {
    "cell_id": "900167bd68c74ce2800966e909e72e98",
    "deepnote_cell_type": "text-cell-h3",
    "formattedRanges": [],
    "is_collapsed": false,
    "tags": []
   },
   "source": [
    "### 176. Get the Group \"A\" of the dataframe by first grouping the dataframe and then using the group key. "
   ]
  },
  {
   "cell_type": "code",
   "execution_count": 50,
   "metadata": {
    "cell_id": "fbb017e449fa456d9bfa3da702ded5c6",
    "deepnote_cell_height": 223,
    "deepnote_cell_type": "code",
    "tags": []
   },
   "outputs": [
    {
     "name": "stdout",
     "output_type": "stream",
     "text": [
      "  col_A  col_B\n",
      "0     A      1\n",
      "2     A      3\n"
     ]
    }
   ],
   "source": [
    "df = pd.DataFrame([[\"A\", 1], [\"B\", 2],\n",
    "                   [\"A\", 3], [\"D\", 4]], \n",
    "                  columns=[\"col_A\", \"col_B\"])\n",
    "\n",
    "\n",
    "## start your code below\n",
    "new_df = df.groupby(\"col_A\").get_group(\"A\")\n",
    "## end your code here\n",
    "\n",
    "print(new_df)"
   ]
  },
  {
   "cell_type": "markdown",
   "metadata": {
    "cell_id": "1aee0dfda4f4428d8731674311d7076f",
    "deepnote_cell_type": "text-cell-h3",
    "formattedRanges": [],
    "is_collapsed": false,
    "tags": []
   },
   "source": [
    "### 177. Fetch the rows where the value in \"col_C\" does not belong to \"col_B\". "
   ]
  },
  {
   "cell_type": "code",
   "execution_count": 53,
   "metadata": {
    "cell_id": "cc6009989a5248279941f606ba7c59cf",
    "deepnote_cell_height": 259,
    "deepnote_cell_type": "code",
    "tags": []
   },
   "outputs": [
    {
     "name": "stdout",
     "output_type": "stream",
     "text": [
      "   col_A  col_B  col_C\n",
      "0      4      1      5\n",
      "1      5      2      9\n"
     ]
    }
   ],
   "source": [
    "df = pd.DataFrame([[4, 1, 5], \n",
    "                   [5, 2, 9],\n",
    "                   [2, 9, 3], \n",
    "                   [8, 5, 4]], \n",
    "                  columns=[\"col_A\", \"col_B\", \"col_C\"])\n",
    "\n",
    "\n",
    "## start your code below\n",
    "v = df[\"col_C\"].unique()\n",
    "new_df = df[~df[\"col_B\"].isin(v)]\n",
    "## end your code here\n",
    "\n",
    "print(new_df)"
   ]
  },
  {
   "cell_type": "markdown",
   "metadata": {
    "cell_id": "525cc50bc81644ce9aa8a511e005bd7b",
    "deepnote_cell_type": "text-cell-h3",
    "formattedRanges": [],
    "is_collapsed": false,
    "tags": []
   },
   "source": [
    "### 178. Get the rows where the value of \"col_A\" is equal to \"col_B\"."
   ]
  },
  {
   "cell_type": "code",
   "execution_count": 54,
   "metadata": {
    "cell_id": "f0da593dc9ea4c9091a6463d4e0c2183",
    "deepnote_cell_height": 259,
    "deepnote_cell_type": "code",
    "tags": []
   },
   "outputs": [
    {
     "name": "stdout",
     "output_type": "stream",
     "text": [
      "   col_A  col_B  col_C\n",
      "1      5      5      9\n"
     ]
    }
   ],
   "source": [
    "df = pd.DataFrame([[4, 1, 5], \n",
    "                   [5, 5, 9],\n",
    "                   [2, 9, 3], \n",
    "                   [8, 5, 8]], \n",
    "                  columns=[\"col_A\", \"col_B\", \"col_C\"])\n",
    "\n",
    "\n",
    "## start your code below\n",
    "new_df = df[df[\"col_A\"]==df[\"col_B\"]]\n",
    "## end your code here\n",
    "\n",
    "print(new_df)"
   ]
  },
  {
   "cell_type": "markdown",
   "metadata": {
    "cell_id": "4b88af9c67654174b1fdf849052f3709",
    "deepnote_cell_type": "text-cell-h3",
    "formattedRanges": [],
    "is_collapsed": false,
    "tags": []
   },
   "source": [
    "### 179. Get the rows where (the value of \"col_A\" is equal to \"col_B\") OR (the value of \"col_A\" is equal to \"col_C\")."
   ]
  },
  {
   "cell_type": "code",
   "execution_count": 55,
   "metadata": {
    "cell_id": "7bf0010ac14e45d0a78b137e81eecf9a",
    "deepnote_cell_height": 259,
    "deepnote_cell_type": "code",
    "tags": []
   },
   "outputs": [
    {
     "name": "stdout",
     "output_type": "stream",
     "text": [
      "   col_A  col_B  col_C\n",
      "1      5      5      9\n",
      "3      8      5      8\n"
     ]
    }
   ],
   "source": [
    "df = pd.DataFrame([[4, 1, 5], \n",
    "                   [5, 5, 9],\n",
    "                   [2, 9, 3], \n",
    "                   [8, 5, 8]], \n",
    "                  columns=[\"col_A\", \"col_B\", \"col_C\"])\n",
    "\n",
    "\n",
    "## start your code below\n",
    "new_df = df[(df[\"col_A\"]==df[\"col_B\"]) | (df[\"col_A\"]==df[\"col_C\"])]\n",
    "## end your code here\n",
    "\n",
    "print(new_df)"
   ]
  },
  {
   "cell_type": "markdown",
   "metadata": {
    "cell_id": "7ffadaa2aee742ffa2b596660ae53b51",
    "deepnote_cell_type": "text-cell-h3",
    "formattedRanges": [],
    "is_collapsed": false,
    "tags": []
   },
   "source": [
    "### 180. Sort the Data on col_A and col_B"
   ]
  },
  {
   "cell_type": "markdown",
   "metadata": {
    "cell_id": "998b6c3e8fd74aa88aa85ec02a4e657b",
    "deepnote_cell_height": 74.78125,
    "deepnote_cell_type": "markdown",
    "tags": []
   },
   "source": [
    "col_A -> Ascending\n",
    "col_B -> Ascending"
   ]
  },
  {
   "cell_type": "code",
   "execution_count": 57,
   "metadata": {
    "cell_id": "46190dc751864ef49709eed88699d68c",
    "deepnote_cell_height": 259,
    "deepnote_cell_type": "code",
    "tags": []
   },
   "outputs": [
    {
     "name": "stdout",
     "output_type": "stream",
     "text": [
      "   col_A  col_B  col_C\n",
      "2      2      9      3\n",
      "0      4      1      5\n",
      "1      5      5      9\n",
      "3      8      5      8\n"
     ]
    }
   ],
   "source": [
    "df = pd.DataFrame([[4, 1, 5], \n",
    "                   [5, 5, 9],\n",
    "                   [2, 9, 3], \n",
    "                   [8, 5, 8]], \n",
    "                  columns=[\"col_A\", \"col_B\", \"col_C\"])\n",
    "\n",
    "\n",
    "## start your code below\n",
    "new_df = df.sort_values(by=[\"col_A\",\"col_B\"])\n",
    "## end your code here\n",
    "\n",
    "print(new_df)"
   ]
  },
  {
   "cell_type": "markdown",
   "metadata": {
    "cell_id": "92976ed9aef249738b74d27bb54b13f0",
    "deepnote_cell_type": "text-cell-h3",
    "formattedRanges": [],
    "is_collapsed": false,
    "tags": []
   },
   "source": [
    "### 181. Sort the Data on col_A and col_B"
   ]
  },
  {
   "cell_type": "markdown",
   "metadata": {
    "cell_id": "4627eae853ff4e6f823175b2836915bc",
    "deepnote_cell_height": 74.78125,
    "deepnote_cell_type": "markdown",
    "tags": []
   },
   "source": [
    "col_A -> Ascending\n",
    "col_B -> Descending"
   ]
  },
  {
   "cell_type": "code",
   "execution_count": 58,
   "metadata": {
    "cell_id": "7ef346d0a641427eab34d4f6954db52f",
    "deepnote_cell_height": 259,
    "deepnote_cell_type": "code",
    "tags": []
   },
   "outputs": [
    {
     "name": "stdout",
     "output_type": "stream",
     "text": [
      "   col_A  col_B  col_C\n",
      "2      2      9      3\n",
      "1      5      5      9\n",
      "3      8      5      8\n",
      "0      4      1      5\n"
     ]
    }
   ],
   "source": [
    "df = pd.DataFrame([[4, 1, 5], \n",
    "                   [5, 5, 9],\n",
    "                   [2, 9, 3], \n",
    "                   [8, 5, 8]], \n",
    "                  columns=[\"col_A\", \"col_B\", \"col_C\"])\n",
    "\n",
    "\n",
    "## start your code below\n",
    "new_df = df.sort_values(by=\"col_A\").sort_values(by=\"col_B\",ascending=False)\n",
    "## end your code here\n",
    "\n",
    "print(new_df)"
   ]
  },
  {
   "cell_type": "markdown",
   "metadata": {
    "cell_id": "d12f9a5036fc45e4a244e766c28ed05d",
    "deepnote_cell_type": "text-cell-h3",
    "formattedRanges": [],
    "is_collapsed": false,
    "tags": []
   },
   "source": [
    "### 182. Get the mean of every column"
   ]
  },
  {
   "cell_type": "code",
   "execution_count": 59,
   "metadata": {
    "cell_id": "41bffbb3f67c4822ae1e98370cad2031",
    "deepnote_cell_height": 259,
    "deepnote_cell_type": "code",
    "tags": []
   },
   "outputs": [
    {
     "name": "stdout",
     "output_type": "stream",
     "text": [
      "col_A    4.75\n",
      "col_B    5.00\n",
      "col_C    6.25\n",
      "dtype: float64\n"
     ]
    }
   ],
   "source": [
    "df = pd.DataFrame([[4, 1, 5], \n",
    "                   [5, 5, 9],\n",
    "                   [2, 9, 3], \n",
    "                   [8, 5, 8]], \n",
    "                  columns=[\"col_A\", \"col_B\", \"col_C\"])\n",
    "\n",
    "\n",
    "## start your code below\n",
    "mean = df.mean()\n",
    "## end your code here\n",
    "\n",
    "print(mean)"
   ]
  },
  {
   "cell_type": "markdown",
   "metadata": {
    "cell_id": "ca4175a02bb847299f9cca4337a3860d",
    "deepnote_cell_type": "text-cell-h3",
    "formattedRanges": [],
    "is_collapsed": false,
    "tags": []
   },
   "source": [
    "### 182. Get the mean of every row"
   ]
  },
  {
   "cell_type": "code",
   "execution_count": 60,
   "metadata": {
    "cell_id": "a2d55889eb674a62a982cbb0c1580ae5",
    "deepnote_cell_height": 259,
    "deepnote_cell_type": "code",
    "tags": []
   },
   "outputs": [
    {
     "name": "stdout",
     "output_type": "stream",
     "text": [
      "0    3.333333\n",
      "1    6.333333\n",
      "2    4.666667\n",
      "3    7.000000\n",
      "dtype: float64\n"
     ]
    }
   ],
   "source": [
    "df = pd.DataFrame([[4, 1, 5], \n",
    "                   [5, 5, 9],\n",
    "                   [2, 9, 3], \n",
    "                   [8, 5, 8]], \n",
    "                  columns=[\"col_A\", \"col_B\", \"col_C\"])\n",
    "\n",
    "\n",
    "## start your code below\n",
    "mean = df.mean(axis=1)\n",
    "## end your code here\n",
    "\n",
    "print(mean)"
   ]
  },
  {
   "cell_type": "markdown",
   "metadata": {
    "cell_id": "31f7eb2d38524c679ddd17bfdb8dab63",
    "deepnote_cell_type": "text-cell-h3",
    "formattedRanges": [],
    "is_collapsed": false,
    "tags": []
   },
   "source": [
    "### 183. Concatentate the two DataFrames row-wise"
   ]
  },
  {
   "cell_type": "code",
   "execution_count": 63,
   "metadata": {
    "cell_id": "410d0e6935e7424d95601c0e54f3169e",
    "deepnote_cell_height": 241,
    "deepnote_cell_type": "code",
    "tags": []
   },
   "outputs": [
    {
     "name": "stdout",
     "output_type": "stream",
     "text": [
      "  col_A  col_B\n",
      "0     A      1\n",
      "1     B      2\n",
      "0     A      3\n",
      "1     C      4\n"
     ]
    }
   ],
   "source": [
    "df1 = pd.DataFrame([[\"A\", 1], [\"B\", 2]], \n",
    "                  columns=[\"col_A\", \"col_B\"])\n",
    "\n",
    "df2 = pd.DataFrame([[\"A\", 3], [\"C\", 4]], \n",
    "                  columns=[\"col_A\", \"col_B\"])\n",
    "\n",
    "## start your code below\n",
    "new_df = pd.concat((df1,df2),axis=0)\n",
    "## end your code here\n",
    "\n",
    "print(new_df)"
   ]
  },
  {
   "cell_type": "markdown",
   "metadata": {
    "cell_id": "804e206768f0467d9f025eddd9871176",
    "deepnote_cell_type": "text-cell-h3",
    "formattedRanges": [],
    "is_collapsed": false,
    "tags": []
   },
   "source": [
    "### 184. Concatentate the two DataFrames column-wise"
   ]
  },
  {
   "cell_type": "code",
   "execution_count": 64,
   "metadata": {
    "cell_id": "7726eb2abfdf424c8f074b2afffb46ac",
    "deepnote_cell_height": 241,
    "deepnote_cell_type": "code",
    "tags": []
   },
   "outputs": [
    {
     "name": "stdout",
     "output_type": "stream",
     "text": [
      "  col_A  col_B col_C  col_D\n",
      "0     A      1     A      3\n",
      "1     B      2     C      4\n"
     ]
    }
   ],
   "source": [
    "df1 = pd.DataFrame([[\"A\", 1], [\"B\", 2]], \n",
    "                  columns=[\"col_A\", \"col_B\"])\n",
    "\n",
    "df2 = pd.DataFrame([[\"A\", 3], [\"C\", 4]], \n",
    "                  columns=[\"col_C\", \"col_D\"])\n",
    "\n",
    "## start your code below\n",
    "new_df = pd.concat((df1,df2),axis=1)\n",
    "## end your code here\n",
    "\n",
    "print(new_df)"
   ]
  },
  {
   "cell_type": "markdown",
   "metadata": {
    "cell_id": "d5133b1b5aba4267831864daf1495b75",
    "deepnote_cell_type": "text-cell-h3",
    "formattedRanges": [],
    "is_collapsed": false,
    "tags": []
   },
   "source": [
    "### 185. Change the last two values in the last column to [2,4]"
   ]
  },
  {
   "cell_type": "markdown",
   "metadata": {
    "cell_id": "d49b82b96f4641b880907cd5c06bcba3",
    "deepnote_cell_height": 111.171875,
    "deepnote_cell_type": "markdown",
    "tags": []
   },
   "source": [
    "Change 3 -> 2\n",
    "Change 8 -> 4 \n",
    "\n",
    "**Note: You should do this in a single line of code**"
   ]
  },
  {
   "cell_type": "code",
   "execution_count": 65,
   "metadata": {
    "cell_id": "75211bb066ef41039980545653387a1b",
    "deepnote_cell_height": 259,
    "deepnote_cell_type": "code",
    "tags": []
   },
   "outputs": [
    {
     "name": "stdout",
     "output_type": "stream",
     "text": [
      "   col_A  col_B  col_C\n",
      "0      4      1      5\n",
      "1      5      5      9\n",
      "2      2      9      2\n",
      "3      8      5      4\n"
     ]
    }
   ],
   "source": [
    "df = pd.DataFrame([[4, 1, 5], \n",
    "                   [5, 5, 9],\n",
    "                   [2, 9, 3], \n",
    "                   [8, 5, 8]], \n",
    "                  columns=[\"col_A\", \"col_B\", \"col_C\"])\n",
    "\n",
    "\n",
    "## start your code below\n",
    "df.iloc[-2:,-1] = [2,4]\n",
    "## end your code here\n",
    "\n",
    "print(df)"
   ]
  },
  {
   "cell_type": "markdown",
   "metadata": {
    "cell_id": "45becc08480e42aa98367a96edeb4d3b",
    "deepnote_cell_type": "text-cell-h3",
    "formattedRanges": [],
    "is_collapsed": false,
    "tags": []
   },
   "source": [
    "### 186. Replace all '1' with '2'"
   ]
  },
  {
   "cell_type": "code",
   "execution_count": 66,
   "metadata": {
    "cell_id": "566b17162a4c4a19ad8e5a84be84646d",
    "deepnote_cell_height": 259,
    "deepnote_cell_type": "code",
    "tags": []
   },
   "outputs": [
    {
     "name": "stdout",
     "output_type": "stream",
     "text": [
      "   col_A  col_B  col_C\n",
      "0      4      2      5\n",
      "1      5      5      2\n",
      "2      2      9      3\n",
      "3      8      5      8\n"
     ]
    }
   ],
   "source": [
    "df = pd.DataFrame([[4, 1, 5], \n",
    "                   [5, 5, 1],\n",
    "                   [1, 9, 3], \n",
    "                   [8, 5, 8]], \n",
    "                  columns=[\"col_A\", \"col_B\", \"col_C\"])\n",
    "\n",
    "\n",
    "## start your code below\n",
    "new_df = df.replace(1,2)\n",
    "## end your code here\n",
    "\n",
    "print(new_df)"
   ]
  },
  {
   "cell_type": "markdown",
   "metadata": {
    "cell_id": "806194bc48664175a1a5a50d279a78d1",
    "deepnote_cell_type": "text-cell-h3",
    "formattedRanges": [],
    "is_collapsed": false,
    "tags": []
   },
   "source": [
    "### 187. Replace all '1' with '2' and '5' with '6' in a single line of code"
   ]
  },
  {
   "cell_type": "code",
   "execution_count": 67,
   "metadata": {
    "cell_id": "9d8a78e6d536451985af0ea6a95af59e",
    "deepnote_cell_height": 259,
    "deepnote_cell_type": "code",
    "tags": []
   },
   "outputs": [
    {
     "name": "stdout",
     "output_type": "stream",
     "text": [
      "   col_A  col_B  col_C\n",
      "0      4      2      6\n",
      "1      6      6      2\n",
      "2      2      9      3\n",
      "3      8      6      8\n"
     ]
    }
   ],
   "source": [
    "df = pd.DataFrame([[4, 1, 5], \n",
    "                   [5, 5, 1],\n",
    "                   [1, 9, 3], \n",
    "                   [8, 5, 8]], \n",
    "                  columns=[\"col_A\", \"col_B\", \"col_C\"])\n",
    "\n",
    "\n",
    "## start your code below\n",
    "new_df = df.replace(1,2).replace(5,6)\n",
    "## end your code here\n",
    "\n",
    "print(new_df)"
   ]
  },
  {
   "cell_type": "markdown",
   "metadata": {
    "cell_id": "b510717d75ef4989b0f17b4aeb9a268e",
    "deepnote_cell_type": "text-cell-h3",
    "formattedRanges": [],
    "is_collapsed": false,
    "tags": []
   },
   "source": [
    "### 188. Sample 2 random rows from the DataFrame"
   ]
  },
  {
   "cell_type": "code",
   "execution_count": 68,
   "metadata": {
    "cell_id": "28533e9ec3d849fb9aa3594f58fe2bb2",
    "deepnote_cell_height": 259,
    "deepnote_cell_type": "code",
    "tags": []
   },
   "outputs": [
    {
     "name": "stdout",
     "output_type": "stream",
     "text": [
      "   col_A  col_B  col_C\n",
      "1      5      5      1\n",
      "3      8      5      8\n"
     ]
    }
   ],
   "source": [
    "df = pd.DataFrame([[4, 1, 5], \n",
    "                   [5, 5, 1],\n",
    "                   [1, 9, 3], \n",
    "                   [8, 5, 8]], \n",
    "                  columns=[\"col_A\", \"col_B\", \"col_C\"])\n",
    "\n",
    "\n",
    "## start your code below\n",
    "sample_df = df.sample(2)\n",
    "## end your code here\n",
    "\n",
    "print(sample_df)"
   ]
  },
  {
   "cell_type": "markdown",
   "metadata": {
    "cell_id": "148836154d434e02a1523b84f6026f5e",
    "deepnote_cell_type": "text-cell-h3",
    "formattedRanges": [],
    "is_collapsed": false,
    "tags": []
   },
   "source": [
    "### 189. Convert the DataFrame to a list of lists. Don't include the header row."
   ]
  },
  {
   "cell_type": "code",
   "execution_count": 73,
   "metadata": {
    "cell_id": "0a6e6b2188d34903b59ac92c5714cef3",
    "deepnote_cell_height": 259,
    "deepnote_cell_type": "code",
    "tags": []
   },
   "outputs": [
    {
     "name": "stdout",
     "output_type": "stream",
     "text": [
      "[[4, 1, 5], [5, 5, 1], [1, 9, 3], [8, 5, 8]]\n"
     ]
    }
   ],
   "source": [
    "df = pd.DataFrame([[4, 1, 5], \n",
    "                   [5, 5, 1],\n",
    "                   [1, 9, 3], \n",
    "                   [8, 5, 8]], \n",
    "                  columns=[\"col_A\", \"col_B\", \"col_C\"])\n",
    "\n",
    "\n",
    "## start your code below\n",
    "data_list = df.values.tolist()\n",
    "## end your code here\n",
    "\n",
    "print(data_list)"
   ]
  },
  {
   "cell_type": "markdown",
   "metadata": {
    "cell_id": "682e45710fab4c3e9fff2ffd67b813ad",
    "deepnote_cell_type": "text-cell-h3",
    "formattedRanges": [],
    "is_collapsed": false,
    "tags": []
   },
   "source": [
    "### 190. Add three new columns that show the cumulative sum of every column"
   ]
  },
  {
   "cell_type": "code",
   "execution_count": 79,
   "metadata": {
    "cell_id": "e1d6eb6f229e4b3bb604130fa633dbf1",
    "deepnote_cell_height": 259,
    "deepnote_cell_type": "code",
    "tags": []
   },
   "outputs": [
    {
     "name": "stdout",
     "output_type": "stream",
     "text": [
      "   col_A  col_B  col_C  cumsum_a  cumsum_b  cumsum_c\n",
      "0      4      1      5         4         1         5\n",
      "1      5      5      1         9         6         6\n",
      "2      1      9      3        10        15         9\n",
      "3      8      5      8        18        20        17\n"
     ]
    }
   ],
   "source": [
    "df = pd.DataFrame([[4, 1, 5], \n",
    "                   [5, 5, 1],\n",
    "                   [1, 9, 3], \n",
    "                   [8, 5, 8]], \n",
    "                  columns=[\"col_A\", \"col_B\", \"col_C\"])\n",
    "\n",
    "\n",
    "## start your code below\n",
    "new_df = df.copy()\n",
    "new_df[\"cumsum_a\"] = new_df[\"col_A\"].cumsum()\n",
    "new_df[\"cumsum_b\"] = new_df[\"col_B\"].cumsum()\n",
    "new_df[\"cumsum_c\"] = new_df[\"col_C\"].cumsum()\n",
    "## end your code here\n",
    "\n",
    "print(new_df)"
   ]
  },
  {
   "cell_type": "markdown",
   "metadata": {
    "cell_id": "296bc8cb7ee64770bc5c1639928f7fb5",
    "deepnote_cell_type": "text-cell-h3",
    "formattedRanges": [],
    "is_collapsed": false,
    "tags": []
   },
   "source": [
    "### 191. Print the cumulative sum of every row in a new column. "
   ]
  },
  {
   "cell_type": "markdown",
   "metadata": {
    "cell_id": "061522454693462aaa2760da17c091db",
    "deepnote_cell_type": "text-cell-h3",
    "formattedRanges": [],
    "is_collapsed": false,
    "tags": []
   },
   "source": [
    "### In other words, make a column that stores the cumulative sum of the (sum of every row)."
   ]
  },
  {
   "cell_type": "code",
   "execution_count": 89,
   "metadata": {
    "cell_id": "ce519a418d4b44fb88169907dc7d6437",
    "deepnote_cell_height": 259,
    "deepnote_cell_type": "code",
    "tags": []
   },
   "outputs": [
    {
     "name": "stdout",
     "output_type": "stream",
     "text": [
      "   col_A  col_B  col_C  cumsum\n",
      "0      4      1      5      10\n",
      "1      5      5      1      11\n",
      "2      1      9      3      13\n",
      "3      8      5      8      21\n"
     ]
    }
   ],
   "source": [
    "df = pd.DataFrame([[4, 1, 5], \n",
    "                   [5, 5, 1],\n",
    "                   [1, 9, 3], \n",
    "                   [8, 5, 8]], \n",
    "                  columns=[\"col_A\", \"col_B\", \"col_C\"])\n",
    "\n",
    "\n",
    "## start your code below\n",
    "new_df = df.copy()\n",
    "new_df[\"cumsum\"] = df.sum(axis=1)\n",
    "## end your code here\n",
    "\n",
    "print(new_df)"
   ]
  },
  {
   "cell_type": "markdown",
   "metadata": {
    "cell_id": "18617514d15f4458b26ffbbf87e12110",
    "deepnote_cell_type": "text-cell-h3",
    "formattedRanges": [],
    "is_collapsed": false,
    "tags": []
   },
   "source": [
    "### 192. Find the frequency of every element in col_A"
   ]
  },
  {
   "cell_type": "code",
   "execution_count": 90,
   "metadata": {
    "cell_id": "db622d34053441bca138480e93c3724a",
    "deepnote_cell_height": 259,
    "deepnote_cell_type": "code",
    "tags": []
   },
   "outputs": [
    {
     "name": "stdout",
     "output_type": "stream",
     "text": [
      "col_A\n",
      "A    2\n",
      "B    1\n",
      "C    1\n",
      "Name: count, dtype: int64\n"
     ]
    }
   ],
   "source": [
    "df = pd.DataFrame([[\"A\", 1, 5], \n",
    "                   [\"B\", 5, 1],\n",
    "                   [\"C\", 9, 3], \n",
    "                   [\"A\", 5, 8]], \n",
    "                  columns=[\"col_A\", \"col_B\", \"col_C\"])\n",
    "\n",
    "\n",
    "## start your code below\n",
    "new_df = df[\"col_A\"].value_counts()\n",
    "## end your code here\n",
    "\n",
    "print(new_df)"
   ]
  },
  {
   "cell_type": "markdown",
   "metadata": {
    "cell_id": "bb369fe90e134c73b4b8e3637a2b7526",
    "deepnote_cell_type": "text-cell-h3",
    "formattedRanges": [],
    "is_collapsed": false,
    "tags": []
   },
   "source": [
    "### 193. Normalize the frequency of every element in col_A"
   ]
  },
  {
   "cell_type": "code",
   "execution_count": 91,
   "metadata": {
    "cell_id": "d2951c01d3874c2881cc80584f6dab16",
    "deepnote_cell_height": 259,
    "deepnote_cell_type": "code",
    "tags": []
   },
   "outputs": [
    {
     "name": "stdout",
     "output_type": "stream",
     "text": [
      "col_A\n",
      "A    0.50\n",
      "B    0.25\n",
      "C    0.25\n",
      "Name: proportion, dtype: float64\n"
     ]
    }
   ],
   "source": [
    "df = pd.DataFrame([[\"A\", 1, 5], \n",
    "                   [\"B\", 5, 1],\n",
    "                   [\"C\", 9, 3], \n",
    "                   [\"A\", 5, 8]], \n",
    "                  columns=[\"col_A\", \"col_B\", \"col_C\"])\n",
    "\n",
    "\n",
    "## start your code below\n",
    "new_df = df[\"col_A\"].value_counts(normalize=True)\n",
    "## end your code here\n",
    "\n",
    "print(new_df)"
   ]
  },
  {
   "cell_type": "markdown",
   "metadata": {
    "cell_id": "6cfe3049e448410f963ba4e135a2bae4",
    "deepnote_cell_type": "text-cell-h3",
    "formattedRanges": [],
    "is_collapsed": false,
    "tags": []
   },
   "source": [
    "### 194. GroupBy col_A, then find the sum of col_B and mean of col_C"
   ]
  },
  {
   "cell_type": "code",
   "execution_count": 93,
   "metadata": {
    "cell_id": "81c9324a6b344523872257cebca06004",
    "deepnote_cell_height": 259,
    "deepnote_cell_type": "code",
    "tags": []
   },
   "outputs": [
    {
     "name": "stdout",
     "output_type": "stream",
     "text": [
      "  col_A  b_sum  c_mean\n",
      "0     A      6     6.5\n",
      "1     B      5     1.0\n",
      "2     C      9     3.0\n"
     ]
    }
   ],
   "source": [
    "df = pd.DataFrame([[\"A\", 1, 5], \n",
    "                   [\"B\", 5, 1],\n",
    "                   [\"C\", 9, 3], \n",
    "                   [\"A\", 5, 8]], \n",
    "                  columns=[\"col_A\", \"col_B\", \"col_C\"])\n",
    "\n",
    "\n",
    "## start your code below\n",
    "new_df = df.groupby(\"col_A\").aggregate(b_sum=pd.NamedAgg(column=\"col_B\",aggfunc=\"sum\"),c_mean=pd.NamedAgg(column=\"col_C\",aggfunc=np.mean)).reset_index()\n",
    "## end your code here\n",
    "\n",
    "print(new_df)"
   ]
  },
  {
   "cell_type": "markdown",
   "metadata": {
    "cell_id": "9db28034d0564874ab35376bd776aa64",
    "deepnote_cell_type": "text-cell-h3",
    "formattedRanges": [],
    "is_collapsed": false,
    "tags": []
   },
   "source": [
    "### 195. Find the correlation between every pair of column"
   ]
  },
  {
   "cell_type": "code",
   "execution_count": 94,
   "metadata": {
    "cell_id": "f7d681fcf1174a989ebb676bbe9bcb0c",
    "deepnote_cell_height": 259,
    "deepnote_cell_type": "code",
    "tags": []
   },
   "outputs": [
    {
     "name": "stdout",
     "output_type": "stream",
     "text": [
      "          col_A     col_B     col_C\n",
      "col_A  1.000000 -0.424264  0.599377\n",
      "col_B -0.424264  1.000000 -0.273434\n",
      "col_C  0.599377 -0.273434  1.000000\n"
     ]
    }
   ],
   "source": [
    "df = pd.DataFrame([[4, 1, 5], \n",
    "                   [5, 5, 1],\n",
    "                   [1, 9, 3], \n",
    "                   [8, 5, 8]], \n",
    "                  columns=[\"col_A\", \"col_B\", \"col_C\"])\n",
    "\n",
    "\n",
    "## start your code below\n",
    "new_df = df.corr()\n",
    "## end your code here\n",
    "\n",
    "print(new_df)"
   ]
  },
  {
   "cell_type": "markdown",
   "metadata": {
    "cell_id": "d3b52e7cdf184877a04c1523a333423e",
    "deepnote_cell_type": "text-cell-h3",
    "formattedRanges": [],
    "is_collapsed": false,
    "tags": []
   },
   "source": [
    "### 196. GroupBy col_A, then compute a new column as (10*col_B/col_C)"
   ]
  },
  {
   "cell_type": "code",
   "execution_count": 100,
   "metadata": {
    "cell_id": "e3cc3bf5dbe6420eb35ccf21893c3eec",
    "deepnote_cell_height": 259,
    "deepnote_cell_type": "code",
    "tags": []
   },
   "outputs": [
    {
     "name": "stdout",
     "output_type": "stream",
     "text": [
      "   col_A  col_B  col_C  computed\n",
      "0      4      1      5     30.00\n",
      "1      5      5      1      2.00\n",
      "2      1      9      3     50.00\n",
      "3      8      5      8      6.25\n"
     ]
    }
   ],
   "source": [
    "df = pd.DataFrame([[4, 1, 5], \n",
    "                   [5, 5, 1],\n",
    "                   [1, 9, 3], \n",
    "                   [8, 5, 8]], \n",
    "                  columns=[\"col_A\", \"col_B\", \"col_C\"])\n",
    "\n",
    "\n",
    "## start your code below\n",
    "new_df = df.copy()\n",
    "new_df[\"computed\"] = new_df.groupby(\"col_A\").apply(lambda x: 10*x[\"col_B\"]/x[\"col_C\"]).reset_index(drop=True)\n",
    "## end your code here\n",
    "\n",
    "print(new_df)"
   ]
  },
  {
   "cell_type": "markdown",
   "metadata": {
    "cell_id": "e549f4c6ee744dfc93f4fd0b5842284b",
    "deepnote_cell_type": "text-cell-h3",
    "formattedRanges": [],
    "is_collapsed": false,
    "tags": []
   },
   "source": [
    "### 197. GroupBy col_A, then compute a new column as (10*col_B/col_C). Project the new column back to the original dataframe"
   ]
  },
  {
   "cell_type": "code",
   "execution_count": 102,
   "metadata": {
    "cell_id": "aeaaaec8521047c8be75e06f343df39c",
    "deepnote_cell_height": 259,
    "deepnote_cell_type": "code",
    "tags": []
   },
   "outputs": [
    {
     "name": "stdout",
     "output_type": "stream",
     "text": [
      "   col_A  col_B  col_C  computed\n",
      "0      4      1      5      2.00\n",
      "1      5      5      1     50.00\n",
      "2      1      9      3     30.00\n",
      "3      8      5      8      6.25\n"
     ]
    }
   ],
   "source": [
    "df = pd.DataFrame([[4, 1, 5], \n",
    "                   [5, 5, 1],\n",
    "                   [1, 9, 3], \n",
    "                   [8, 5, 8]], \n",
    "                  columns=[\"col_A\", \"col_B\", \"col_C\"])\n",
    "\n",
    "\n",
    "## start your code below\n",
    "new_df = df.copy()\n",
    "new_df[\"computed\"] = 10*(new_df[\"col_B\"]/new_df[\"col_C\"])\n",
    "## end your code here\n",
    "\n",
    "print(new_df)"
   ]
  },
  {
   "cell_type": "markdown",
   "metadata": {
    "cell_id": "9cbe5b6d219e492e939b6373c21a0f06",
    "deepnote_cell_type": "text-cell-h3",
    "formattedRanges": [],
    "is_collapsed": false,
    "tags": []
   },
   "source": [
    "### 198. Merge the two dataframes using the join() method on col_A."
   ]
  },
  {
   "cell_type": "code",
   "execution_count": 106,
   "metadata": {
    "cell_id": "9a2f404371914d87b7703bec4902342c",
    "deepnote_cell_height": 241,
    "deepnote_cell_type": "code",
    "tags": []
   },
   "outputs": [
    {
     "name": "stdout",
     "output_type": "stream",
     "text": [
      "       col_B  col_C\n",
      "col_A              \n",
      "A          1    3.0\n",
      "B          2    NaN\n"
     ]
    }
   ],
   "source": [
    "df1 = pd.DataFrame([[\"A\", 1], [\"B\", 2]], \n",
    "                  columns=[\"col_A\", \"col_B\"])\n",
    "\n",
    "df2 = pd.DataFrame([[\"A\", 3], [\"C\", 4]], \n",
    "                  columns=[\"col_A\", \"col_C\"])\n",
    "\n",
    "## start your code below\n",
    "df1.set_index('col_A', inplace=True)\n",
    "df2.set_index('col_A', inplace=True)\n",
    "new_df = df1.join(df2,on=\"col_A\")\n",
    "## end your code here\n",
    "\n",
    "print(new_df)"
   ]
  },
  {
   "cell_type": "markdown",
   "metadata": {
    "cell_id": "d52f9aa641e34372ab09c58c3b374ca6",
    "deepnote_cell_type": "text-cell-h3",
    "formattedRanges": [],
    "is_collapsed": false,
    "tags": []
   },
   "source": [
    "### 199. Perform the full outer join on the two DataFrames. "
   ]
  },
  {
   "cell_type": "code",
   "execution_count": 105,
   "metadata": {
    "cell_id": "ec7c1b54cf394b6da05c4090f17fd31c",
    "deepnote_cell_height": 241,
    "deepnote_cell_type": "code",
    "tags": []
   },
   "outputs": [
    {
     "name": "stdout",
     "output_type": "stream",
     "text": [
      "  col_A  col_B  col_C\n",
      "0     A    1.0    3.0\n",
      "1     B    2.0    NaN\n",
      "2     C    NaN    4.0\n"
     ]
    }
   ],
   "source": [
    "df1 = pd.DataFrame([[\"A\", 1], [\"B\", 2]], \n",
    "                  columns=[\"col_A\", \"col_B\"])\n",
    "\n",
    "df2 = pd.DataFrame([[\"A\", 3], [\"C\", 4]], \n",
    "                  columns=[\"col_A\", \"col_C\"])\n",
    "\n",
    "## start your code below\n",
    "new_df = pd.merge(df1,df2,on=\"col_A\",how=\"outer\")\n",
    "## end your code here\n",
    "\n",
    "print(new_df)"
   ]
  },
  {
   "cell_type": "markdown",
   "metadata": {
    "cell_id": "a0c659085a61475b84775941dd3111ba",
    "deepnote_cell_type": "text-cell-h3",
    "formattedRanges": [],
    "is_collapsed": false,
    "tags": []
   },
   "source": [
    "### 200. Convert the DataFrame to a dictionary."
   ]
  },
  {
   "cell_type": "code",
   "execution_count": 108,
   "metadata": {
    "cell_id": "7c7e1d36248a47158a5cff1dc61a010e",
    "deepnote_cell_height": 259,
    "deepnote_cell_type": "code",
    "tags": []
   },
   "outputs": [
    {
     "name": "stdout",
     "output_type": "stream",
     "text": [
      "{'col_A': {0: 4, 1: 5, 2: 1, 3: 8}, 'col_B': {0: 1, 1: 5, 2: 9, 3: 5}, 'col_C': {0: 5, 1: 1, 2: 3, 3: 8}}\n"
     ]
    }
   ],
   "source": [
    "df = pd.DataFrame([[4, 1, 5], \n",
    "                   [5, 5, 1],\n",
    "                   [1, 9, 3], \n",
    "                   [8, 5, 8]], \n",
    "                  columns=[\"col_A\", \"col_B\", \"col_C\"])\n",
    "\n",
    "\n",
    "## start your code below\n",
    "dict_df = df.to_dict()\n",
    "## end your code here\n",
    "\n",
    "print(dict_df)"
   ]
  },
  {
   "cell_type": "markdown",
   "metadata": {
    "cell_id": "e778ec2860074213a055d3161eefd0b1",
    "deepnote_cell_type": "text-cell-h3",
    "formattedRanges": [],
    "is_collapsed": false,
    "tags": []
   },
   "source": [
    "### 201-210: As your next exercise, frame 10 questions on your own and solve them. "
   ]
  },
  {
   "cell_type": "code",
   "execution_count": null,
   "metadata": {
    "cell_id": "10a71bad339e479d9f7748bd53c6ec80",
    "deepnote_cell_height": 61,
    "deepnote_cell_type": "code",
    "tags": []
   },
   "outputs": [],
   "source": []
  },
  {
   "cell_type": "markdown",
   "metadata": {
    "cell_id": "a35df5357c5b437bb3be167943f78627",
    "deepnote_cell_height": 52.390625,
    "deepnote_cell_type": "markdown",
    "tags": []
   },
   "source": [
    "Great Job solving this notebook. Go to NumPy Notebook 1: [Link](https://deepnote.com/workspace/avi-chawla-695b-aee6f4ef-2d50-4fb6-9ef2-20ee1022995a/project/Numpy-part-1-9b9979f2-b708-4292-b466-3d0157564c91/%2Fnotebook.ipynb)"
   ]
  }
 ],
 "metadata": {
  "deepnote_notebook_id": "134ac20c38ef45e5a4432abd638e6c2e",
  "kernelspec": {
   "display_name": "Python 3",
   "language": "python",
   "name": "python3"
  },
  "language_info": {
   "codemirror_mode": {
    "name": "ipython",
    "version": 3
   },
   "file_extension": ".py",
   "mimetype": "text/x-python",
   "name": "python",
   "nbconvert_exporter": "python",
   "pygments_lexer": "ipython3",
   "version": "3.11.9"
  }
 },
 "nbformat": 4,
 "nbformat_minor": 0
}
